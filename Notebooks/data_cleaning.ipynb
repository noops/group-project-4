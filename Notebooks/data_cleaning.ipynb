{
 "metadata": {
  "language_info": {
   "codemirror_mode": {
    "name": "ipython",
    "version": 3
   },
   "file_extension": ".py",
   "mimetype": "text/x-python",
   "name": "python",
   "nbconvert_exporter": "python",
   "pygments_lexer": "ipython3",
   "version": "3.7.7-final"
  },
  "orig_nbformat": 2,
  "kernelspec": {
   "name": "Python 3.7.7 64-bit ('mlev': conda)",
   "display_name": "Python 3.7.7 64-bit ('mlev': conda)",
   "metadata": {
    "interpreter": {
     "hash": "a5bece3635f779a2f3f602d0b4b6cf4822d39bbb2e8156da1e94776ee2de6b99"
    }
   }
  }
 },
 "nbformat": 4,
 "nbformat_minor": 2,
 "cells": [
  {
   "cell_type": "code",
   "execution_count": 21,
   "metadata": {},
   "outputs": [],
   "source": [
    "import numpy as np\n",
    "import pandas as pd\n",
    "import matplotlib.pyplot as plt\n",
    "from sklearn.preprocessing import StandardScaler, OneHotEncoder \n",
    "from path import Path\n",
    "from uszipcode import Zipcode #pip install uszipcode\n",
    "\n"
   ]
  },
  {
   "cell_type": "code",
   "execution_count": 22,
   "metadata": {},
   "outputs": [
    {
     "output_type": "execute_result",
     "data": {
      "text/plain": [
       "   IncidntNum      Category                                        Descript  \\\n",
       "0   120058272   WEAPON LAWS                       POSS OF PROHIBITED WEAPON   \n",
       "1   120058272   WEAPON LAWS  FIREARM, LOADED, IN VEHICLE, POSSESSION OR USE   \n",
       "2   141059263      WARRANTS                                  WARRANT ARREST   \n",
       "3   160013662  NON-CRIMINAL                                   LOST PROPERTY   \n",
       "4   160002740  NON-CRIMINAL                                   LOST PROPERTY   \n",
       "\n",
       "  DayOfWeek                    Date   Time  PdDistrict      Resolution  \\\n",
       "0    Friday  01/29/2016 12:00:00 AM  11:00    SOUTHERN  ARREST, BOOKED   \n",
       "1    Friday  01/29/2016 12:00:00 AM  11:00    SOUTHERN  ARREST, BOOKED   \n",
       "2    Monday  04/25/2016 12:00:00 AM  14:59     BAYVIEW  ARREST, BOOKED   \n",
       "3   Tuesday  01/05/2016 12:00:00 AM  23:50  TENDERLOIN            NONE   \n",
       "4    Friday  01/01/2016 12:00:00 AM  00:30     MISSION            NONE   \n",
       "\n",
       "                  Address           X          Y  \\\n",
       "0  800 Block of BRYANT ST -122.403405  37.775421   \n",
       "1  800 Block of BRYANT ST -122.403405  37.775421   \n",
       "2   KEITH ST / SHAFTER AV -122.388856  37.729981   \n",
       "3  JONES ST / OFARRELL ST -122.412971  37.785788   \n",
       "4    16TH ST / MISSION ST -122.419672  37.765050   \n",
       "\n",
       "                                Location            PdId  \n",
       "0   (37.775420706711, -122.403404791479)  12005827212120  \n",
       "1   (37.775420706711, -122.403404791479)  12005827212168  \n",
       "2  (37.7299809672996, -122.388856204292)  14105926363010  \n",
       "3  (37.7857883766888, -122.412970537591)  16001366271000  \n",
       "4  (37.7650501214668, -122.419671780296)  16000274071000  "
      ],
      "text/html": "<div>\n<style scoped>\n    .dataframe tbody tr th:only-of-type {\n        vertical-align: middle;\n    }\n\n    .dataframe tbody tr th {\n        vertical-align: top;\n    }\n\n    .dataframe thead th {\n        text-align: right;\n    }\n</style>\n<table border=\"1\" class=\"dataframe\">\n  <thead>\n    <tr style=\"text-align: right;\">\n      <th></th>\n      <th>IncidntNum</th>\n      <th>Category</th>\n      <th>Descript</th>\n      <th>DayOfWeek</th>\n      <th>Date</th>\n      <th>Time</th>\n      <th>PdDistrict</th>\n      <th>Resolution</th>\n      <th>Address</th>\n      <th>X</th>\n      <th>Y</th>\n      <th>Location</th>\n      <th>PdId</th>\n    </tr>\n  </thead>\n  <tbody>\n    <tr>\n      <th>0</th>\n      <td>120058272</td>\n      <td>WEAPON LAWS</td>\n      <td>POSS OF PROHIBITED WEAPON</td>\n      <td>Friday</td>\n      <td>01/29/2016 12:00:00 AM</td>\n      <td>11:00</td>\n      <td>SOUTHERN</td>\n      <td>ARREST, BOOKED</td>\n      <td>800 Block of BRYANT ST</td>\n      <td>-122.403405</td>\n      <td>37.775421</td>\n      <td>(37.775420706711, -122.403404791479)</td>\n      <td>12005827212120</td>\n    </tr>\n    <tr>\n      <th>1</th>\n      <td>120058272</td>\n      <td>WEAPON LAWS</td>\n      <td>FIREARM, LOADED, IN VEHICLE, POSSESSION OR USE</td>\n      <td>Friday</td>\n      <td>01/29/2016 12:00:00 AM</td>\n      <td>11:00</td>\n      <td>SOUTHERN</td>\n      <td>ARREST, BOOKED</td>\n      <td>800 Block of BRYANT ST</td>\n      <td>-122.403405</td>\n      <td>37.775421</td>\n      <td>(37.775420706711, -122.403404791479)</td>\n      <td>12005827212168</td>\n    </tr>\n    <tr>\n      <th>2</th>\n      <td>141059263</td>\n      <td>WARRANTS</td>\n      <td>WARRANT ARREST</td>\n      <td>Monday</td>\n      <td>04/25/2016 12:00:00 AM</td>\n      <td>14:59</td>\n      <td>BAYVIEW</td>\n      <td>ARREST, BOOKED</td>\n      <td>KEITH ST / SHAFTER AV</td>\n      <td>-122.388856</td>\n      <td>37.729981</td>\n      <td>(37.7299809672996, -122.388856204292)</td>\n      <td>14105926363010</td>\n    </tr>\n    <tr>\n      <th>3</th>\n      <td>160013662</td>\n      <td>NON-CRIMINAL</td>\n      <td>LOST PROPERTY</td>\n      <td>Tuesday</td>\n      <td>01/05/2016 12:00:00 AM</td>\n      <td>23:50</td>\n      <td>TENDERLOIN</td>\n      <td>NONE</td>\n      <td>JONES ST / OFARRELL ST</td>\n      <td>-122.412971</td>\n      <td>37.785788</td>\n      <td>(37.7857883766888, -122.412970537591)</td>\n      <td>16001366271000</td>\n    </tr>\n    <tr>\n      <th>4</th>\n      <td>160002740</td>\n      <td>NON-CRIMINAL</td>\n      <td>LOST PROPERTY</td>\n      <td>Friday</td>\n      <td>01/01/2016 12:00:00 AM</td>\n      <td>00:30</td>\n      <td>MISSION</td>\n      <td>NONE</td>\n      <td>16TH ST / MISSION ST</td>\n      <td>-122.419672</td>\n      <td>37.765050</td>\n      <td>(37.7650501214668, -122.419671780296)</td>\n      <td>16000274071000</td>\n    </tr>\n  </tbody>\n</table>\n</div>"
     },
     "metadata": {},
     "execution_count": 22
    }
   ],
   "source": [
    "file_path = Path(\"../Resources/sanFranCrime.csv\")\n",
    "initial_df = pd.read_csv(file_path)\n",
    "initial_df.head()"
   ]
  },
  {
   "cell_type": "code",
   "execution_count": 23,
   "metadata": {},
   "outputs": [
    {
     "output_type": "execute_result",
     "data": {
      "text/plain": [
       "   IncidntNum                    Date                 Address           X  \\\n",
       "0   120058272  01/29/2016 12:00:00 AM  800 Block of BRYANT ST -122.403405   \n",
       "1   120058272  01/29/2016 12:00:00 AM  800 Block of BRYANT ST -122.403405   \n",
       "2   141059263  04/25/2016 12:00:00 AM   KEITH ST / SHAFTER AV -122.388856   \n",
       "3   160013662  01/05/2016 12:00:00 AM  JONES ST / OFARRELL ST -122.412971   \n",
       "4   160002740  01/01/2016 12:00:00 AM    16TH ST / MISSION ST -122.419672   \n",
       "\n",
       "           Y                               Location  \n",
       "0  37.775421   (37.775420706711, -122.403404791479)  \n",
       "1  37.775421   (37.775420706711, -122.403404791479)  \n",
       "2  37.729981  (37.7299809672996, -122.388856204292)  \n",
       "3  37.785788  (37.7857883766888, -122.412970537591)  \n",
       "4  37.765050  (37.7650501214668, -122.419671780296)  "
      ],
      "text/html": "<div>\n<style scoped>\n    .dataframe tbody tr th:only-of-type {\n        vertical-align: middle;\n    }\n\n    .dataframe tbody tr th {\n        vertical-align: top;\n    }\n\n    .dataframe thead th {\n        text-align: right;\n    }\n</style>\n<table border=\"1\" class=\"dataframe\">\n  <thead>\n    <tr style=\"text-align: right;\">\n      <th></th>\n      <th>IncidntNum</th>\n      <th>Date</th>\n      <th>Address</th>\n      <th>X</th>\n      <th>Y</th>\n      <th>Location</th>\n    </tr>\n  </thead>\n  <tbody>\n    <tr>\n      <th>0</th>\n      <td>120058272</td>\n      <td>01/29/2016 12:00:00 AM</td>\n      <td>800 Block of BRYANT ST</td>\n      <td>-122.403405</td>\n      <td>37.775421</td>\n      <td>(37.775420706711, -122.403404791479)</td>\n    </tr>\n    <tr>\n      <th>1</th>\n      <td>120058272</td>\n      <td>01/29/2016 12:00:00 AM</td>\n      <td>800 Block of BRYANT ST</td>\n      <td>-122.403405</td>\n      <td>37.775421</td>\n      <td>(37.775420706711, -122.403404791479)</td>\n    </tr>\n    <tr>\n      <th>2</th>\n      <td>141059263</td>\n      <td>04/25/2016 12:00:00 AM</td>\n      <td>KEITH ST / SHAFTER AV</td>\n      <td>-122.388856</td>\n      <td>37.729981</td>\n      <td>(37.7299809672996, -122.388856204292)</td>\n    </tr>\n    <tr>\n      <th>3</th>\n      <td>160013662</td>\n      <td>01/05/2016 12:00:00 AM</td>\n      <td>JONES ST / OFARRELL ST</td>\n      <td>-122.412971</td>\n      <td>37.785788</td>\n      <td>(37.7857883766888, -122.412970537591)</td>\n    </tr>\n    <tr>\n      <th>4</th>\n      <td>160002740</td>\n      <td>01/01/2016 12:00:00 AM</td>\n      <td>16TH ST / MISSION ST</td>\n      <td>-122.419672</td>\n      <td>37.765050</td>\n      <td>(37.7650501214668, -122.419671780296)</td>\n    </tr>\n  </tbody>\n</table>\n</div>"
     },
     "metadata": {},
     "execution_count": 23
    }
   ],
   "source": [
    "#create separate dataframe for location data\n",
    "geo_data_df = pd.DataFrame(data=initial_df, columns=[\"IncidntNum\",\"Date\",\"Address\",\"X\",\"Y\",\"Location\"])\n",
    "geo_data_df.head()"
   ]
  },
  {
   "cell_type": "code",
   "execution_count": 24,
   "metadata": {},
   "outputs": [],
   "source": [
    "# Import/setup dependencies for uszipcode\n",
    "# https://uszipcode.readthedocs.io/index.html#example-usage\n",
    "# This took about 10 min to run FYI\n",
    "from uszipcode import Zipcode, SearchEngine\n",
    "search = SearchEngine(simple_zipcode=True)\n",
    "\n",
    "def convertToZip(df):\n",
    "    '''Creates a zipcode column from Y and X coordinates in a           dataframe. uszipcode returns multiple datapoints by default so      only selecting the zipcode in the return value'''\n",
    "    result = search.by_coordinates(df['Y'], df['X'])\n",
    "    return result[0].zipcode\n",
    "\n",
    "geo_data_df['Zipcode'] = geo_data_df.apply(convertToZip, axis=1)\n"
   ]
  },
  {
   "cell_type": "code",
   "execution_count": 26,
   "metadata": {},
   "outputs": [
    {
     "output_type": "execute_result",
     "data": {
      "text/plain": [
       "    IncidntNum                    Date                       Address  \\\n",
       "0    120058272  01/29/2016 12:00:00 AM        800 Block of BRYANT ST   \n",
       "1    120058272  01/29/2016 12:00:00 AM        800 Block of BRYANT ST   \n",
       "2    141059263  04/25/2016 12:00:00 AM         KEITH ST / SHAFTER AV   \n",
       "3    160013662  01/05/2016 12:00:00 AM        JONES ST / OFARRELL ST   \n",
       "4    160002740  01/01/2016 12:00:00 AM          16TH ST / MISSION ST   \n",
       "5    160002869  01/01/2016 12:00:00 AM         1700 Block of BUSH ST   \n",
       "6    160003130  01/02/2016 12:00:00 AM           MARY ST / HOWARD ST   \n",
       "7    160003259  01/02/2016 12:00:00 AM          200 Block of EDDY ST   \n",
       "8    160003970  01/02/2016 12:00:00 AM             4TH ST / BERRY ST   \n",
       "9    160003641  01/01/2016 12:00:00 AM       100 Block of CAMERON WY   \n",
       "10   160086863  01/29/2016 12:00:00 AM         1200 Block of 19TH AV   \n",
       "11   160004053  01/02/2016 12:00:00 AM         2200 Block of 21ST AV   \n",
       "12   160073014  01/25/2016 12:00:00 AM  200 Block of HUNTERSPOINT BL   \n",
       "13   140776777  09/15/2016 12:00:00 AM       SILVER AV / CAMELLIA AV   \n",
       "14   160004069  01/02/2016 12:00:00 AM       100 Block of SANSOME ST   \n",
       "15   160004150  01/02/2016 12:00:00 AM        900 Block of MARKET ST   \n",
       "16   160004241  01/02/2016 12:00:00 AM       900 Block of POTRERO AV   \n",
       "17   160004558  01/02/2016 12:00:00 AM         VALENCIA ST / 26TH ST   \n",
       "18   160004655  01/02/2016 12:00:00 AM        900 Block of GENEVA AV   \n",
       "19   160004837  01/02/2016 12:00:00 AM        900 Block of MARKET ST   \n",
       "\n",
       "             X          Y                               Location Zipcode  \n",
       "0  -122.403405  37.775421   (37.775420706711, -122.403404791479)   94103  \n",
       "1  -122.403405  37.775421   (37.775420706711, -122.403404791479)   94103  \n",
       "2  -122.388856  37.729981  (37.7299809672996, -122.388856204292)   94124  \n",
       "3  -122.412971  37.785788  (37.7857883766888, -122.412970537591)   94108  \n",
       "4  -122.419672  37.765050  (37.7650501214668, -122.419671780296)   94102  \n",
       "5  -122.426077  37.788019   (37.788018555829, -122.426077177375)   94109  \n",
       "6  -122.405721  37.780879  (37.7808789360214, -122.405721454567)   94103  \n",
       "7  -122.411778  37.783981  (37.7839805592634, -122.411778295992)   94103  \n",
       "8  -122.393357  37.775788  (37.7757876218293, -122.393357241451)   94158  \n",
       "9  -122.387182  37.720967  (37.7209669615499, -122.387181635995)   94124  \n",
       "10 -122.477377  37.764478  (37.7644781578695, -122.477376524003)   94122  \n",
       "11 -122.477960  37.745739  (37.7457389429655, -122.477960327299)   94116  \n",
       "12 -122.376758  37.735697   (37.7356970275482, -122.37675765553)   94124  \n",
       "13 -122.432326  37.729271  (37.7292705199592, -122.432325871028)   94112  \n",
       "14 -122.400909  37.791643    (37.791642982384, -122.40090869889)   94104  \n",
       "15 -122.408595  37.783707  (37.7837069301545, -122.408595110869)   94103  \n",
       "16 -122.406870  37.757290  (37.7572895904578, -122.406870402082)   94110  \n",
       "17 -122.420355  37.748906  (37.7489063051829, -122.420354780861)   94110  \n",
       "18 -122.439910  37.715765   (37.715765426995, -122.439909766772)   94112  \n",
       "19 -122.408421  37.783570  (37.7835699386918, -122.408421116922)   94103  "
      ],
      "text/html": "<div>\n<style scoped>\n    .dataframe tbody tr th:only-of-type {\n        vertical-align: middle;\n    }\n\n    .dataframe tbody tr th {\n        vertical-align: top;\n    }\n\n    .dataframe thead th {\n        text-align: right;\n    }\n</style>\n<table border=\"1\" class=\"dataframe\">\n  <thead>\n    <tr style=\"text-align: right;\">\n      <th></th>\n      <th>IncidntNum</th>\n      <th>Date</th>\n      <th>Address</th>\n      <th>X</th>\n      <th>Y</th>\n      <th>Location</th>\n      <th>Zipcode</th>\n    </tr>\n  </thead>\n  <tbody>\n    <tr>\n      <th>0</th>\n      <td>120058272</td>\n      <td>01/29/2016 12:00:00 AM</td>\n      <td>800 Block of BRYANT ST</td>\n      <td>-122.403405</td>\n      <td>37.775421</td>\n      <td>(37.775420706711, -122.403404791479)</td>\n      <td>94103</td>\n    </tr>\n    <tr>\n      <th>1</th>\n      <td>120058272</td>\n      <td>01/29/2016 12:00:00 AM</td>\n      <td>800 Block of BRYANT ST</td>\n      <td>-122.403405</td>\n      <td>37.775421</td>\n      <td>(37.775420706711, -122.403404791479)</td>\n      <td>94103</td>\n    </tr>\n    <tr>\n      <th>2</th>\n      <td>141059263</td>\n      <td>04/25/2016 12:00:00 AM</td>\n      <td>KEITH ST / SHAFTER AV</td>\n      <td>-122.388856</td>\n      <td>37.729981</td>\n      <td>(37.7299809672996, -122.388856204292)</td>\n      <td>94124</td>\n    </tr>\n    <tr>\n      <th>3</th>\n      <td>160013662</td>\n      <td>01/05/2016 12:00:00 AM</td>\n      <td>JONES ST / OFARRELL ST</td>\n      <td>-122.412971</td>\n      <td>37.785788</td>\n      <td>(37.7857883766888, -122.412970537591)</td>\n      <td>94108</td>\n    </tr>\n    <tr>\n      <th>4</th>\n      <td>160002740</td>\n      <td>01/01/2016 12:00:00 AM</td>\n      <td>16TH ST / MISSION ST</td>\n      <td>-122.419672</td>\n      <td>37.765050</td>\n      <td>(37.7650501214668, -122.419671780296)</td>\n      <td>94102</td>\n    </tr>\n    <tr>\n      <th>5</th>\n      <td>160002869</td>\n      <td>01/01/2016 12:00:00 AM</td>\n      <td>1700 Block of BUSH ST</td>\n      <td>-122.426077</td>\n      <td>37.788019</td>\n      <td>(37.788018555829, -122.426077177375)</td>\n      <td>94109</td>\n    </tr>\n    <tr>\n      <th>6</th>\n      <td>160003130</td>\n      <td>01/02/2016 12:00:00 AM</td>\n      <td>MARY ST / HOWARD ST</td>\n      <td>-122.405721</td>\n      <td>37.780879</td>\n      <td>(37.7808789360214, -122.405721454567)</td>\n      <td>94103</td>\n    </tr>\n    <tr>\n      <th>7</th>\n      <td>160003259</td>\n      <td>01/02/2016 12:00:00 AM</td>\n      <td>200 Block of EDDY ST</td>\n      <td>-122.411778</td>\n      <td>37.783981</td>\n      <td>(37.7839805592634, -122.411778295992)</td>\n      <td>94103</td>\n    </tr>\n    <tr>\n      <th>8</th>\n      <td>160003970</td>\n      <td>01/02/2016 12:00:00 AM</td>\n      <td>4TH ST / BERRY ST</td>\n      <td>-122.393357</td>\n      <td>37.775788</td>\n      <td>(37.7757876218293, -122.393357241451)</td>\n      <td>94158</td>\n    </tr>\n    <tr>\n      <th>9</th>\n      <td>160003641</td>\n      <td>01/01/2016 12:00:00 AM</td>\n      <td>100 Block of CAMERON WY</td>\n      <td>-122.387182</td>\n      <td>37.720967</td>\n      <td>(37.7209669615499, -122.387181635995)</td>\n      <td>94124</td>\n    </tr>\n    <tr>\n      <th>10</th>\n      <td>160086863</td>\n      <td>01/29/2016 12:00:00 AM</td>\n      <td>1200 Block of 19TH AV</td>\n      <td>-122.477377</td>\n      <td>37.764478</td>\n      <td>(37.7644781578695, -122.477376524003)</td>\n      <td>94122</td>\n    </tr>\n    <tr>\n      <th>11</th>\n      <td>160004053</td>\n      <td>01/02/2016 12:00:00 AM</td>\n      <td>2200 Block of 21ST AV</td>\n      <td>-122.477960</td>\n      <td>37.745739</td>\n      <td>(37.7457389429655, -122.477960327299)</td>\n      <td>94116</td>\n    </tr>\n    <tr>\n      <th>12</th>\n      <td>160073014</td>\n      <td>01/25/2016 12:00:00 AM</td>\n      <td>200 Block of HUNTERSPOINT BL</td>\n      <td>-122.376758</td>\n      <td>37.735697</td>\n      <td>(37.7356970275482, -122.37675765553)</td>\n      <td>94124</td>\n    </tr>\n    <tr>\n      <th>13</th>\n      <td>140776777</td>\n      <td>09/15/2016 12:00:00 AM</td>\n      <td>SILVER AV / CAMELLIA AV</td>\n      <td>-122.432326</td>\n      <td>37.729271</td>\n      <td>(37.7292705199592, -122.432325871028)</td>\n      <td>94112</td>\n    </tr>\n    <tr>\n      <th>14</th>\n      <td>160004069</td>\n      <td>01/02/2016 12:00:00 AM</td>\n      <td>100 Block of SANSOME ST</td>\n      <td>-122.400909</td>\n      <td>37.791643</td>\n      <td>(37.791642982384, -122.40090869889)</td>\n      <td>94104</td>\n    </tr>\n    <tr>\n      <th>15</th>\n      <td>160004150</td>\n      <td>01/02/2016 12:00:00 AM</td>\n      <td>900 Block of MARKET ST</td>\n      <td>-122.408595</td>\n      <td>37.783707</td>\n      <td>(37.7837069301545, -122.408595110869)</td>\n      <td>94103</td>\n    </tr>\n    <tr>\n      <th>16</th>\n      <td>160004241</td>\n      <td>01/02/2016 12:00:00 AM</td>\n      <td>900 Block of POTRERO AV</td>\n      <td>-122.406870</td>\n      <td>37.757290</td>\n      <td>(37.7572895904578, -122.406870402082)</td>\n      <td>94110</td>\n    </tr>\n    <tr>\n      <th>17</th>\n      <td>160004558</td>\n      <td>01/02/2016 12:00:00 AM</td>\n      <td>VALENCIA ST / 26TH ST</td>\n      <td>-122.420355</td>\n      <td>37.748906</td>\n      <td>(37.7489063051829, -122.420354780861)</td>\n      <td>94110</td>\n    </tr>\n    <tr>\n      <th>18</th>\n      <td>160004655</td>\n      <td>01/02/2016 12:00:00 AM</td>\n      <td>900 Block of GENEVA AV</td>\n      <td>-122.439910</td>\n      <td>37.715765</td>\n      <td>(37.715765426995, -122.439909766772)</td>\n      <td>94112</td>\n    </tr>\n    <tr>\n      <th>19</th>\n      <td>160004837</td>\n      <td>01/02/2016 12:00:00 AM</td>\n      <td>900 Block of MARKET ST</td>\n      <td>-122.408421</td>\n      <td>37.783570</td>\n      <td>(37.7835699386918, -122.408421116922)</td>\n      <td>94103</td>\n    </tr>\n  </tbody>\n</table>\n</div>"
     },
     "metadata": {},
     "execution_count": 26
    }
   ],
   "source": [
    "# Check our df to see if the Zipcodes look ok\n",
    "geo_data_df.head(10)"
   ]
  },
  {
   "cell_type": "code",
   "execution_count": 4,
   "metadata": {},
   "outputs": [],
   "source": [
    "#save geo_data_df as csv\n",
    "geo_data_df.to_csv(r'/Users/bkirton/Desktop/sanFranCrimePredictor/Resources/geo_data.csv')"
   ]
  },
  {
   "cell_type": "code",
   "execution_count": 5,
   "metadata": {},
   "outputs": [
    {
     "output_type": "execute_result",
     "data": {
      "text/plain": [
       "   IncidntNum      Category                                        Descript  \\\n",
       "0   120058272   WEAPON LAWS                       POSS OF PROHIBITED WEAPON   \n",
       "1   120058272   WEAPON LAWS  FIREARM, LOADED, IN VEHICLE, POSSESSION OR USE   \n",
       "2   141059263      WARRANTS                                  WARRANT ARREST   \n",
       "3   160013662  NON-CRIMINAL                                   LOST PROPERTY   \n",
       "4   160002740  NON-CRIMINAL                                   LOST PROPERTY   \n",
       "\n",
       "    Time  PdDistrict      Resolution            PdId  \n",
       "0  11:00    SOUTHERN  ARREST, BOOKED  12005827212120  \n",
       "1  11:00    SOUTHERN  ARREST, BOOKED  12005827212168  \n",
       "2  14:59     BAYVIEW  ARREST, BOOKED  14105926363010  \n",
       "3  23:50  TENDERLOIN            NONE  16001366271000  \n",
       "4  00:30     MISSION            NONE  16000274071000  "
      ],
      "text/html": "<div>\n<style scoped>\n    .dataframe tbody tr th:only-of-type {\n        vertical-align: middle;\n    }\n\n    .dataframe tbody tr th {\n        vertical-align: top;\n    }\n\n    .dataframe thead th {\n        text-align: right;\n    }\n</style>\n<table border=\"1\" class=\"dataframe\">\n  <thead>\n    <tr style=\"text-align: right;\">\n      <th></th>\n      <th>IncidntNum</th>\n      <th>Category</th>\n      <th>Descript</th>\n      <th>Time</th>\n      <th>PdDistrict</th>\n      <th>Resolution</th>\n      <th>PdId</th>\n    </tr>\n  </thead>\n  <tbody>\n    <tr>\n      <th>0</th>\n      <td>120058272</td>\n      <td>WEAPON LAWS</td>\n      <td>POSS OF PROHIBITED WEAPON</td>\n      <td>11:00</td>\n      <td>SOUTHERN</td>\n      <td>ARREST, BOOKED</td>\n      <td>12005827212120</td>\n    </tr>\n    <tr>\n      <th>1</th>\n      <td>120058272</td>\n      <td>WEAPON LAWS</td>\n      <td>FIREARM, LOADED, IN VEHICLE, POSSESSION OR USE</td>\n      <td>11:00</td>\n      <td>SOUTHERN</td>\n      <td>ARREST, BOOKED</td>\n      <td>12005827212168</td>\n    </tr>\n    <tr>\n      <th>2</th>\n      <td>141059263</td>\n      <td>WARRANTS</td>\n      <td>WARRANT ARREST</td>\n      <td>14:59</td>\n      <td>BAYVIEW</td>\n      <td>ARREST, BOOKED</td>\n      <td>14105926363010</td>\n    </tr>\n    <tr>\n      <th>3</th>\n      <td>160013662</td>\n      <td>NON-CRIMINAL</td>\n      <td>LOST PROPERTY</td>\n      <td>23:50</td>\n      <td>TENDERLOIN</td>\n      <td>NONE</td>\n      <td>16001366271000</td>\n    </tr>\n    <tr>\n      <th>4</th>\n      <td>160002740</td>\n      <td>NON-CRIMINAL</td>\n      <td>LOST PROPERTY</td>\n      <td>00:30</td>\n      <td>MISSION</td>\n      <td>NONE</td>\n      <td>16000274071000</td>\n    </tr>\n  </tbody>\n</table>\n</div>"
     },
     "metadata": {},
     "execution_count": 5
    }
   ],
   "source": [
    "#drop location data, date, dayofweek from initial_df\n",
    "initial_df = initial_df.drop(columns=[\"Address\",\"X\",\"Y\",\"Location\",\"Date\",\"DayOfWeek\"])\n",
    "initial_df.head()"
   ]
  },
  {
   "cell_type": "code",
   "execution_count": 6,
   "metadata": {},
   "outputs": [
    {
     "output_type": "execute_result",
     "data": {
      "text/plain": [
       "IncidntNum    116699\n",
       "Category          39\n",
       "Descript         726\n",
       "Time            1439\n",
       "PdDistrict        10\n",
       "Resolution        14\n",
       "PdId          150500\n",
       "dtype: int64"
      ]
     },
     "metadata": {},
     "execution_count": 6
    }
   ],
   "source": [
    "#remaining columns will be our features. Target column is resolution\n",
    "initial_df.nunique()"
   ]
  },
  {
   "cell_type": "code",
   "execution_count": 7,
   "metadata": {},
   "outputs": [
    {
     "output_type": "execute_result",
     "data": {
      "text/plain": [
       "NONE                                      107780\n",
       "ARREST, BOOKED                             39416\n",
       "UNFOUNDED                                   1608\n",
       "JUVENILE BOOKED                             1056\n",
       "EXCEPTIONAL CLEARANCE                        371\n",
       "ARREST, CITED                                144\n",
       "CLEARED-CONTACT JUVENILE FOR MORE INFO        58\n",
       "NOT PROSECUTED                                22\n",
       "LOCATED                                       20\n",
       "PSYCHOPATHIC CASE                             17\n",
       "JUVENILE CITED                                 3\n",
       "COMPLAINANT REFUSES TO PROSECUTE               2\n",
       "JUVENILE DIVERTED                              2\n",
       "PROSECUTED BY OUTSIDE AGENCY                   1\n",
       "Name: Resolution, dtype: int64"
      ]
     },
     "metadata": {},
     "execution_count": 7
    }
   ],
   "source": [
    "#get number of values for resolution column\n",
    "initial_df[\"Resolution\"].value_counts()"
   ]
  },
  {
   "cell_type": "code",
   "execution_count": 8,
   "metadata": {},
   "outputs": [
    {
     "output_type": "execute_result",
     "data": {
      "text/plain": [
       "GRAND THEFT FROM LOCKED AUTO                      17741\n",
       "LOST PROPERTY                                      4596\n",
       "AIDED CASE, MENTAL DISTURBED                       4566\n",
       "PETTY THEFT OF PROPERTY                            4416\n",
       "MALICIOUS MISCHIEF, VANDALISM                      4262\n",
       "                                                  ...  \n",
       "POLICE BROADCAST, INTERCEPTION TO COMMIT CRIME        1\n",
       "PETTY THEFT MOTORCYCLE STRIP                          1\n",
       "MONEY LAUNDERING                                      1\n",
       "TRANSPORTATION OF METHADONE                           1\n",
       "FORCIBLE RAPE, ARMED WITH A GUN                       1\n",
       "Name: Descript, Length: 726, dtype: int64"
      ]
     },
     "metadata": {},
     "execution_count": 8
    }
   ],
   "source": [
    "initial_df[\"Descript\"].value_counts()"
   ]
  },
  {
   "cell_type": "code",
   "execution_count": 9,
   "metadata": {},
   "outputs": [
    {
     "output_type": "execute_result",
     "data": {
      "text/plain": [
       "NONE              107780\n",
       "ARREST, BOOKED     39416\n",
       "other               3304\n",
       "Name: Resolution, dtype: int64"
      ]
     },
     "metadata": {},
     "execution_count": 9
    }
   ],
   "source": [
    "#bucket everything besides NONE and arrest,booked for now to create binary classification\n",
    "\n",
    "#bucket resolutions\n",
    "resolution_counts = initial_df[\"Resolution\"].value_counts()\n",
    "\n",
    "replace_resolution = list(resolution_counts[resolution_counts<1700].index)\n",
    "\n",
    "for resolution in replace_resolution:\n",
    "    initial_df[\"Resolution\"] = initial_df[\"Resolution\"].replace(resolution, \"other\")\n",
    "    \n",
    "initial_df[\"Resolution\"].value_counts()"
   ]
  },
  {
   "source": [
    "Out of 150,500 rows only 3,304 are \"other\" after bucketing the \"Resolution\" column. This is only 2% of our overall data. These \"other\" values will be dropped in order to use the \"Resolution\" column as a our binary classifier for machine learning. "
   ],
   "cell_type": "markdown",
   "metadata": {}
  },
  {
   "cell_type": "code",
   "execution_count": 10,
   "metadata": {},
   "outputs": [
    {
     "output_type": "execute_result",
     "data": {
      "text/plain": [
       "       Category  PdDistrict      Resolution\n",
       "0   WEAPON LAWS    SOUTHERN  ARREST, BOOKED\n",
       "1   WEAPON LAWS    SOUTHERN  ARREST, BOOKED\n",
       "2      WARRANTS     BAYVIEW  ARREST, BOOKED\n",
       "3  NON-CRIMINAL  TENDERLOIN            NONE\n",
       "4  NON-CRIMINAL     MISSION            NONE"
      ],
      "text/html": "<div>\n<style scoped>\n    .dataframe tbody tr th:only-of-type {\n        vertical-align: middle;\n    }\n\n    .dataframe tbody tr th {\n        vertical-align: top;\n    }\n\n    .dataframe thead th {\n        text-align: right;\n    }\n</style>\n<table border=\"1\" class=\"dataframe\">\n  <thead>\n    <tr style=\"text-align: right;\">\n      <th></th>\n      <th>Category</th>\n      <th>PdDistrict</th>\n      <th>Resolution</th>\n    </tr>\n  </thead>\n  <tbody>\n    <tr>\n      <th>0</th>\n      <td>WEAPON LAWS</td>\n      <td>SOUTHERN</td>\n      <td>ARREST, BOOKED</td>\n    </tr>\n    <tr>\n      <th>1</th>\n      <td>WEAPON LAWS</td>\n      <td>SOUTHERN</td>\n      <td>ARREST, BOOKED</td>\n    </tr>\n    <tr>\n      <th>2</th>\n      <td>WARRANTS</td>\n      <td>BAYVIEW</td>\n      <td>ARREST, BOOKED</td>\n    </tr>\n    <tr>\n      <th>3</th>\n      <td>NON-CRIMINAL</td>\n      <td>TENDERLOIN</td>\n      <td>NONE</td>\n    </tr>\n    <tr>\n      <th>4</th>\n      <td>NON-CRIMINAL</td>\n      <td>MISSION</td>\n      <td>NONE</td>\n    </tr>\n  </tbody>\n</table>\n</div>"
     },
     "metadata": {},
     "execution_count": 10
    }
   ],
   "source": [
    "#drop \"other\" values from resolution column and remove other non-essential columns\n",
    "cleaned_df = initial_df[initial_df.Resolution != \"other\"]\n",
    "cleaned_df = cleaned_df.drop(columns=[\"IncidntNum\", \"PdId\",\"Descript\",\"Time\"])\n",
    "cleaned_df = cleaned_df.dropna()\n",
    "cleaned_df.head()"
   ]
  },
  {
   "cell_type": "code",
   "execution_count": 13,
   "metadata": {},
   "outputs": [],
   "source": [
    "#save cleaned_df as csv\n",
    "cleaned_df.to_csv(r'/Users/bkirton/Desktop/sanFranCrimePredictor/Resources/cleaned_df.csv')"
   ]
  },
  {
   "cell_type": "code",
   "execution_count": null,
   "metadata": {},
   "outputs": [],
   "source": []
  }
 ]
}