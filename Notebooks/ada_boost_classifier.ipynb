{
 "metadata": {
  "language_info": {
   "codemirror_mode": {
    "name": "ipython",
    "version": 3
   },
   "file_extension": ".py",
   "mimetype": "text/x-python",
   "name": "python",
   "nbconvert_exporter": "python",
   "pygments_lexer": "ipython3",
   "version": "3.7.7-final"
  },
  "orig_nbformat": 2,
  "kernelspec": {
   "name": "Python 3.7.7 64-bit ('mlenv': conda)",
   "display_name": "Python 3.7.7 64-bit ('mlenv': conda)",
   "metadata": {
    "interpreter": {
     "hash": "9f753fbb4074e6d8ba64d243fb2150c810a56ba89f055e987433d3d815f66551"
    }
   }
  }
 },
 "nbformat": 4,
 "nbformat_minor": 2,
 "cells": [
  {
   "cell_type": "code",
   "execution_count": 1,
   "metadata": {},
   "outputs": [],
   "source": [
    "# Import our dependencies\n",
    "import pandas as pd \n",
    "import numpy as np\n",
    "import matplotlib.pyplot as plt\n",
    "from path import Path\n",
    "from sklearn.preprocessing import LabelEncoder as le\n",
    "from sklearn.preprocessing import StandardScaler\n",
    "from sklearn.ensemble import AdaBoostClassifier\n",
    "from sklearn.svm import SVC\n",
    "from sklearn import datasets\n",
    "from sklearn.model_selection import train_test_split\n",
    "from sklearn import metrics\n",
    "from sklearn.metrics import balanced_accuracy_score\n",
    "from sklearn.metrics import confusion_matrix\n",
    "from imblearn.metrics import classification_report_imbalanced"
   ]
  },
  {
   "cell_type": "code",
   "execution_count": 2,
   "metadata": {},
   "outputs": [
    {
     "output_type": "execute_result",
     "data": {
      "text/plain": [
       "       Category  PdDistrict      Resolution\n",
       "0   WEAPON LAWS    SOUTHERN  ARREST, BOOKED\n",
       "1   WEAPON LAWS    SOUTHERN  ARREST, BOOKED\n",
       "2      WARRANTS     BAYVIEW  ARREST, BOOKED\n",
       "3  NON-CRIMINAL  TENDERLOIN            NONE\n",
       "4  NON-CRIMINAL     MISSION            NONE"
      ],
      "text/html": "<div>\n<style scoped>\n    .dataframe tbody tr th:only-of-type {\n        vertical-align: middle;\n    }\n\n    .dataframe tbody tr th {\n        vertical-align: top;\n    }\n\n    .dataframe thead th {\n        text-align: right;\n    }\n</style>\n<table border=\"1\" class=\"dataframe\">\n  <thead>\n    <tr style=\"text-align: right;\">\n      <th></th>\n      <th>Category</th>\n      <th>PdDistrict</th>\n      <th>Resolution</th>\n    </tr>\n  </thead>\n  <tbody>\n    <tr>\n      <th>0</th>\n      <td>WEAPON LAWS</td>\n      <td>SOUTHERN</td>\n      <td>ARREST, BOOKED</td>\n    </tr>\n    <tr>\n      <th>1</th>\n      <td>WEAPON LAWS</td>\n      <td>SOUTHERN</td>\n      <td>ARREST, BOOKED</td>\n    </tr>\n    <tr>\n      <th>2</th>\n      <td>WARRANTS</td>\n      <td>BAYVIEW</td>\n      <td>ARREST, BOOKED</td>\n    </tr>\n    <tr>\n      <th>3</th>\n      <td>NON-CRIMINAL</td>\n      <td>TENDERLOIN</td>\n      <td>NONE</td>\n    </tr>\n    <tr>\n      <th>4</th>\n      <td>NON-CRIMINAL</td>\n      <td>MISSION</td>\n      <td>NONE</td>\n    </tr>\n  </tbody>\n</table>\n</div>"
     },
     "metadata": {},
     "execution_count": 2
    }
   ],
   "source": [
    "# Load data\n",
    "file_path = Path(\"../Resources/cleaned_df.csv\")\n",
    "cleaned_df = pd.read_csv(file_path)\n",
    "cleaned_df = cleaned_df.drop(columns=['Unnamed: 0'])\n",
    "cleaned_df.head()"
   ]
  },
  {
   "cell_type": "code",
   "execution_count": 3,
   "metadata": {},
   "outputs": [],
   "source": [
    "# Generate our categorical variable list\n",
    "cleaned_cat = cleaned_df.dtypes[cleaned_df.dtypes == \"object\"].index.tolist()"
   ]
  },
  {
   "cell_type": "code",
   "execution_count": 4,
   "metadata": {},
   "outputs": [
    {
     "output_type": "execute_result",
     "data": {
      "text/plain": [
       "Category      39\n",
       "PdDistrict    10\n",
       "Resolution     2\n",
       "dtype: int64"
      ]
     },
     "metadata": {},
     "execution_count": 4
    }
   ],
   "source": [
    "# Check the number of unique values in each column\n",
    "cleaned_df[cleaned_cat].nunique()"
   ]
  },
  {
   "cell_type": "code",
   "execution_count": 5,
   "metadata": {},
   "outputs": [
    {
     "output_type": "execute_result",
     "data": {
      "text/plain": [
       "LARCENY/THEFT                  40284\n",
       "OTHER OFFENSES                 19030\n",
       "NON-CRIMINAL                   17112\n",
       "ASSAULT                        13352\n",
       "VANDALISM                       8548\n",
       "VEHICLE THEFT                   6207\n",
       "WARRANTS                        5824\n",
       "BURGLARY                        5772\n",
       "SUSPICIOUS OCC                  5540\n",
       "DRUG/NARCOTIC                   4186\n",
       "MISSING PERSON                  3998\n",
       "ROBBERY                         3216\n",
       "FRAUD                           2602\n",
       "TRESPASS                        1787\n",
       "SECONDARY CODES                 1685\n",
       "WEAPON LAWS                     1582\n",
       "SEX OFFENSES, FORCIBLE           889\n",
       "STOLEN PROPERTY                  857\n",
       "RECOVERED VEHICLE                732\n",
       "DISORDERLY CONDUCT               643\n",
       "PROSTITUTION                     593\n",
       "FORGERY/COUNTERFEITING           567\n",
       "DRUNKENNESS                      462\n",
       "DRIVING UNDER THE INFLUENCE      376\n",
       "ARSON                            279\n",
       "KIDNAPPING                       248\n",
       "EMBEZZLEMENT                     168\n",
       "LIQUOR LAWS                      153\n",
       "RUNAWAY                          132\n",
       "SUICIDE                           66\n",
       "BRIBERY                           62\n",
       "EXTORTION                         57\n",
       "FAMILY OFFENSES                   48\n",
       "LOITERING                         41\n",
       "SEX OFFENSES, NON FORCIBLE        36\n",
       "BAD CHECKS                        34\n",
       "GAMBLING                          20\n",
       "PORNOGRAPHY/OBSCENE MAT            4\n",
       "TREA                               3\n",
       "Name: Category, dtype: int64"
      ]
     },
     "metadata": {},
     "execution_count": 5
    }
   ],
   "source": [
    "# Print out the Category value counts\n",
    "category_counts = cleaned_df.Category.value_counts()\n",
    "category_counts"
   ]
  },
  {
   "cell_type": "code",
   "execution_count": 6,
   "metadata": {},
   "outputs": [
    {
     "output_type": "execute_result",
     "data": {
      "text/plain": [
       "LARCENY/THEFT      40284\n",
       "OTHER OFFENSES     19030\n",
       "NON-CRIMINAL       17112\n",
       "ASSAULT            13352\n",
       "VANDALISM           8548\n",
       "Other               6470\n",
       "VEHICLE THEFT       6207\n",
       "WARRANTS            5824\n",
       "BURGLARY            5772\n",
       "SUSPICIOUS OCC      5540\n",
       "DRUG/NARCOTIC       4186\n",
       "MISSING PERSON      3998\n",
       "ROBBERY             3216\n",
       "FRAUD               2602\n",
       "TRESPASS            1787\n",
       "SECONDARY CODES     1685\n",
       "WEAPON LAWS         1582\n",
       "Name: Category, dtype: int64"
      ]
     },
     "metadata": {},
     "execution_count": 6
    }
   ],
   "source": [
    "# Determine which values to replace\n",
    "replace_category = list(category_counts[category_counts < 1000].index)\n",
    "\n",
    "# Replace in DataFrame\n",
    "for category in replace_category:\n",
    "    cleaned_df.Category = cleaned_df.Category.replace(category,\"Other\")\n",
    "\n",
    "\n",
    "# Check to make sure binning was successful\n",
    "cleaned_df.Category.value_counts()"
   ]
  },
  {
   "cell_type": "code",
   "execution_count": 7,
   "metadata": {},
   "outputs": [
    {
     "output_type": "execute_result",
     "data": {
      "text/plain": [
       "Category      int32\n",
       "PdDistrict    int32\n",
       "Resolution    int32\n",
       "dtype: object"
      ]
     },
     "metadata": {},
     "execution_count": 7
    }
   ],
   "source": [
    "# Transform objects to integers\n",
    "cleaned_df = cleaned_df.apply(le().fit_transform)\n",
    "cleaned_df.dtypes"
   ]
  },
  {
   "cell_type": "code",
   "execution_count": 8,
   "metadata": {},
   "outputs": [],
   "source": [
    "# Create Features and Target \n",
    "X = cleaned_df.copy()\n",
    "X = X.drop(\"Resolution\", axis=1)\n",
    "y = cleaned_df[\"Resolution\"].values"
   ]
  },
  {
   "cell_type": "code",
   "execution_count": 9,
   "metadata": {},
   "outputs": [],
   "source": [
    "# Split training/test datasets\n",
    "X_train, X_test, y_train, y_test = train_test_split(X, y, random_state=78, stratify=y)"
   ]
  },
  {
   "cell_type": "code",
   "execution_count": 10,
   "metadata": {},
   "outputs": [],
   "source": [
    "# Fit the StandardScaler\n",
    "scaler = StandardScaler()\n",
    "X_scaler = scaler.fit(X_train)\n",
    "\n",
    "# Scale the data\n",
    "X_train_scaled = X_scaler.transform(X_train)\n",
    "X_test_scaled = X_scaler.transform(X_test)"
   ]
  },
  {
   "cell_type": "code",
   "execution_count": 11,
   "metadata": {},
   "outputs": [],
   "source": [
    "# Create adaboost classifer object\n",
    "abc = AdaBoostClassifier(n_estimators=100,\n",
    "                         learning_rate=1)\n",
    "# Train Adaboost Classifer\n",
    "model = abc.fit(X_train, y_train)\n",
    "\n",
    "#Predict the response for test dataset\n",
    "y_pred = model.predict(X_test)"
   ]
  },
  {
   "cell_type": "code",
   "execution_count": 12,
   "metadata": {},
   "outputs": [
    {
     "output_type": "execute_result",
     "data": {
      "text/plain": [
       "array([[ 6062,  3792],\n",
       "       [ 2497, 24448]], dtype=int64)"
      ]
     },
     "metadata": {},
     "execution_count": 12
    }
   ],
   "source": [
    "# Display the confusion matrix\n",
    "y_pred = model.predict(X_test)\n",
    "confusion_matrix(y_test, y_pred)"
   ]
  },
  {
   "cell_type": "code",
   "execution_count": 13,
   "metadata": {},
   "outputs": [
    {
     "output_type": "stream",
     "name": "stdout",
     "text": [
      "balanced accuracy score: 76.13%\n"
     ]
    }
   ],
   "source": [
    "# Calculated the balanced accuracy score\n",
    "balanced_acc_score = balanced_accuracy_score(y_test,y_pred)\n",
    "print(f\"balanced accuracy score: {balanced_acc_score*100:.2f}%\")"
   ]
  },
  {
   "cell_type": "code",
   "execution_count": 14,
   "metadata": {},
   "outputs": [
    {
     "output_type": "stream",
     "name": "stdout",
     "text": [
      "                   pre       rec       spe        f1       geo       iba       sup\n\n          0       0.71      0.62      0.91      0.66      0.75      0.54      9854\n          1       0.87      0.91      0.62      0.89      0.75      0.57     26945\n\navg / total       0.82      0.83      0.69      0.83      0.75      0.57     36799\n\n"
     ]
    }
   ],
   "source": [
    "# Print the imbalanced classification report\n",
    "print(classification_report_imbalanced(y_test, y_pred))"
   ]
  },
  {
   "cell_type": "code",
   "execution_count": null,
   "metadata": {},
   "outputs": [],
   "source": []
  }
 ]
}