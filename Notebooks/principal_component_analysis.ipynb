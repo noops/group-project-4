{
 "metadata": {
  "language_info": {
   "codemirror_mode": {
    "name": "ipython",
    "version": 3
   },
   "file_extension": ".py",
   "mimetype": "text/x-python",
   "name": "python",
   "nbconvert_exporter": "python",
   "pygments_lexer": "ipython3",
   "version": "3.7.7-final"
  },
  "orig_nbformat": 2,
  "kernelspec": {
   "name": "Python 3.7.7 64-bit ('PythonData': conda)",
   "display_name": "Python 3.7.7 64-bit ('PythonData': conda)",
   "metadata": {
    "interpreter": {
     "hash": "6629937ca33c91e24171fb9c2c6e8adc4c28b335a7e363e22452b0d874202ae3"
    }
   }
  }
 },
 "nbformat": 4,
 "nbformat_minor": 2,
 "cells": [
  {
   "cell_type": "code",
   "execution_count": 1,
   "metadata": {},
   "outputs": [],
   "source": [
    "from sklearn.preprocessing import StandardScaler, OneHotEncoder\n",
    "from sklearn.model_selection import train_test_split\n",
    "from sklearn.decomposition import PCA\n",
    "import matplotlib.pyplot as plt\n",
    "import seaborn as sns\n",
    "import pandas as pd \n",
    "import numpy as np\n",
    "from path import Path"
   ]
  },
  {
   "cell_type": "code",
   "execution_count": 2,
   "metadata": {},
   "outputs": [
    {
     "output_type": "execute_result",
     "data": {
      "text/plain": [
       "             PdId  IncidntNum      Category        Descript  PdDistrict Month  \\\n",
       "0  12005827212120   120058272   WEAPON LAWS           OTHER    SOUTHERN   Jan   \n",
       "1  12005827212168   120058272   WEAPON LAWS           OTHER    SOUTHERN   Jan   \n",
       "2  14105926363010   141059263      WARRANTS  WARRANT ARREST     BAYVIEW   Apr   \n",
       "3  16001366271000   160013662  NON-CRIMINAL   LOST PROPERTY  TENDERLOIN   Jan   \n",
       "4  16000274071000   160002740  NON-CRIMINAL   LOST PROPERTY     MISSION   Jan   \n",
       "\n",
       "  DayOfWeek Time_of_Day                 Address  ZipCode      Resolution  \\\n",
       "0    Friday     Morning  800 Block of BRYANT ST    94103  ARREST, BOOKED   \n",
       "1    Friday     Morning  800 Block of BRYANT ST    94103  ARREST, BOOKED   \n",
       "2    Monday   Afternoon   KEITH ST / SHAFTER AV    94124  ARREST, BOOKED   \n",
       "3   Tuesday     Evening  JONES ST / OFARRELL ST    94108            NONE   \n",
       "4    Friday       Night    16TH ST / MISSION ST    94102            NONE   \n",
       "\n",
       "   Categories  Descriptions  PdDistricts  Months  Day  TimeOfDay  Resolutions  \n",
       "0          16            25            7       4    0          2            0  \n",
       "1          16            25            7       4    0          2            0  \n",
       "2          15            39            0       0    1          0            0  \n",
       "3           6            19            9       4    5          1            1  \n",
       "4           6            19            3       4    0          3            1  "
      ],
      "text/html": "<div>\n<style scoped>\n    .dataframe tbody tr th:only-of-type {\n        vertical-align: middle;\n    }\n\n    .dataframe tbody tr th {\n        vertical-align: top;\n    }\n\n    .dataframe thead th {\n        text-align: right;\n    }\n</style>\n<table border=\"1\" class=\"dataframe\">\n  <thead>\n    <tr style=\"text-align: right;\">\n      <th></th>\n      <th>PdId</th>\n      <th>IncidntNum</th>\n      <th>Category</th>\n      <th>Descript</th>\n      <th>PdDistrict</th>\n      <th>Month</th>\n      <th>DayOfWeek</th>\n      <th>Time_of_Day</th>\n      <th>Address</th>\n      <th>ZipCode</th>\n      <th>Resolution</th>\n      <th>Categories</th>\n      <th>Descriptions</th>\n      <th>PdDistricts</th>\n      <th>Months</th>\n      <th>Day</th>\n      <th>TimeOfDay</th>\n      <th>Resolutions</th>\n    </tr>\n  </thead>\n  <tbody>\n    <tr>\n      <th>0</th>\n      <td>12005827212120</td>\n      <td>120058272</td>\n      <td>WEAPON LAWS</td>\n      <td>OTHER</td>\n      <td>SOUTHERN</td>\n      <td>Jan</td>\n      <td>Friday</td>\n      <td>Morning</td>\n      <td>800 Block of BRYANT ST</td>\n      <td>94103</td>\n      <td>ARREST, BOOKED</td>\n      <td>16</td>\n      <td>25</td>\n      <td>7</td>\n      <td>4</td>\n      <td>0</td>\n      <td>2</td>\n      <td>0</td>\n    </tr>\n    <tr>\n      <th>1</th>\n      <td>12005827212168</td>\n      <td>120058272</td>\n      <td>WEAPON LAWS</td>\n      <td>OTHER</td>\n      <td>SOUTHERN</td>\n      <td>Jan</td>\n      <td>Friday</td>\n      <td>Morning</td>\n      <td>800 Block of BRYANT ST</td>\n      <td>94103</td>\n      <td>ARREST, BOOKED</td>\n      <td>16</td>\n      <td>25</td>\n      <td>7</td>\n      <td>4</td>\n      <td>0</td>\n      <td>2</td>\n      <td>0</td>\n    </tr>\n    <tr>\n      <th>2</th>\n      <td>14105926363010</td>\n      <td>141059263</td>\n      <td>WARRANTS</td>\n      <td>WARRANT ARREST</td>\n      <td>BAYVIEW</td>\n      <td>Apr</td>\n      <td>Monday</td>\n      <td>Afternoon</td>\n      <td>KEITH ST / SHAFTER AV</td>\n      <td>94124</td>\n      <td>ARREST, BOOKED</td>\n      <td>15</td>\n      <td>39</td>\n      <td>0</td>\n      <td>0</td>\n      <td>1</td>\n      <td>0</td>\n      <td>0</td>\n    </tr>\n    <tr>\n      <th>3</th>\n      <td>16001366271000</td>\n      <td>160013662</td>\n      <td>NON-CRIMINAL</td>\n      <td>LOST PROPERTY</td>\n      <td>TENDERLOIN</td>\n      <td>Jan</td>\n      <td>Tuesday</td>\n      <td>Evening</td>\n      <td>JONES ST / OFARRELL ST</td>\n      <td>94108</td>\n      <td>NONE</td>\n      <td>6</td>\n      <td>19</td>\n      <td>9</td>\n      <td>4</td>\n      <td>5</td>\n      <td>1</td>\n      <td>1</td>\n    </tr>\n    <tr>\n      <th>4</th>\n      <td>16000274071000</td>\n      <td>160002740</td>\n      <td>NON-CRIMINAL</td>\n      <td>LOST PROPERTY</td>\n      <td>MISSION</td>\n      <td>Jan</td>\n      <td>Friday</td>\n      <td>Night</td>\n      <td>16TH ST / MISSION ST</td>\n      <td>94102</td>\n      <td>NONE</td>\n      <td>6</td>\n      <td>19</td>\n      <td>3</td>\n      <td>4</td>\n      <td>0</td>\n      <td>3</td>\n      <td>1</td>\n    </tr>\n  </tbody>\n</table>\n</div>"
     },
     "metadata": {},
     "execution_count": 2
    }
   ],
   "source": [
    "#load data\n",
    "file_path = Path(\"../Resources/categorical_df.csv\")\n",
    "df = pd.read_csv(file_path)\n",
    "df.head()"
   ]
  },
  {
   "cell_type": "code",
   "execution_count": 3,
   "metadata": {},
   "outputs": [
    {
     "output_type": "execute_result",
     "data": {
      "text/plain": [
       "       Category        Descript  ZipCode  PdDistricts  Months  Day  TimeOfDay  \\\n",
       "0   WEAPON LAWS           OTHER    94103            7       4    0          2   \n",
       "1   WEAPON LAWS           OTHER    94103            7       4    0          2   \n",
       "2      WARRANTS  WARRANT ARREST    94124            0       0    1          0   \n",
       "3  NON-CRIMINAL   LOST PROPERTY    94108            9       4    5          1   \n",
       "4  NON-CRIMINAL   LOST PROPERTY    94102            3       4    0          3   \n",
       "\n",
       "   Resolutions  \n",
       "0            0  \n",
       "1            0  \n",
       "2            0  \n",
       "3            1  \n",
       "4            1  "
      ],
      "text/html": "<div>\n<style scoped>\n    .dataframe tbody tr th:only-of-type {\n        vertical-align: middle;\n    }\n\n    .dataframe tbody tr th {\n        vertical-align: top;\n    }\n\n    .dataframe thead th {\n        text-align: right;\n    }\n</style>\n<table border=\"1\" class=\"dataframe\">\n  <thead>\n    <tr style=\"text-align: right;\">\n      <th></th>\n      <th>Category</th>\n      <th>Descript</th>\n      <th>ZipCode</th>\n      <th>PdDistricts</th>\n      <th>Months</th>\n      <th>Day</th>\n      <th>TimeOfDay</th>\n      <th>Resolutions</th>\n    </tr>\n  </thead>\n  <tbody>\n    <tr>\n      <th>0</th>\n      <td>WEAPON LAWS</td>\n      <td>OTHER</td>\n      <td>94103</td>\n      <td>7</td>\n      <td>4</td>\n      <td>0</td>\n      <td>2</td>\n      <td>0</td>\n    </tr>\n    <tr>\n      <th>1</th>\n      <td>WEAPON LAWS</td>\n      <td>OTHER</td>\n      <td>94103</td>\n      <td>7</td>\n      <td>4</td>\n      <td>0</td>\n      <td>2</td>\n      <td>0</td>\n    </tr>\n    <tr>\n      <th>2</th>\n      <td>WARRANTS</td>\n      <td>WARRANT ARREST</td>\n      <td>94124</td>\n      <td>0</td>\n      <td>0</td>\n      <td>1</td>\n      <td>0</td>\n      <td>0</td>\n    </tr>\n    <tr>\n      <th>3</th>\n      <td>NON-CRIMINAL</td>\n      <td>LOST PROPERTY</td>\n      <td>94108</td>\n      <td>9</td>\n      <td>4</td>\n      <td>5</td>\n      <td>1</td>\n      <td>1</td>\n    </tr>\n    <tr>\n      <th>4</th>\n      <td>NON-CRIMINAL</td>\n      <td>LOST PROPERTY</td>\n      <td>94102</td>\n      <td>3</td>\n      <td>4</td>\n      <td>0</td>\n      <td>3</td>\n      <td>1</td>\n    </tr>\n  </tbody>\n</table>\n</div>"
     },
     "metadata": {},
     "execution_count": 3
    }
   ],
   "source": [
    "#select the features we want to use from this dataframe \n",
    "df = df.drop(columns= \"PdId\")\n",
    "df = df.drop(columns= \"IncidntNum\")\n",
    "df = df.drop(columns= \"PdDistrict\")\n",
    "df = df.drop(columns= \"Month\")\n",
    "df = df.drop(columns= \"DayOfWeek\")\n",
    "df = df.drop(columns= \"Time_of_Day\")\n",
    "df = df.drop(columns= \"Address\")\n",
    "df = df.drop(columns= \"Resolution\")\n",
    "df = df.drop(columns= \"Categories\")\n",
    "df = df.drop(columns= \"Descriptions\")\n",
    "df.head()"
   ]
  },
  {
   "cell_type": "code",
   "execution_count": 4,
   "metadata": {},
   "outputs": [
    {
     "output_type": "execute_result",
     "data": {
      "text/plain": [
       "Category       object\n",
       "Descript       object\n",
       "ZipCode         int64\n",
       "PdDistricts     int64\n",
       "Months          int64\n",
       "Day             int64\n",
       "TimeOfDay       int64\n",
       "Resolutions     int64\n",
       "dtype: object"
      ]
     },
     "metadata": {},
     "execution_count": 4
    }
   ],
   "source": [
    "df.dtypes"
   ]
  },
  {
   "source": [
    "We are building a tree based ML model (random forest). OHE(onehotencoder) will be used as our data is not ordinal. "
   ],
   "cell_type": "markdown",
   "metadata": {}
  },
  {
   "cell_type": "code",
   "execution_count": 5,
   "metadata": {},
   "outputs": [
    {
     "output_type": "execute_result",
     "data": {
      "text/plain": [
       "   Category_ASSAULT  Category_BURGLARY  Category_DRUG/NARCOTIC  \\\n",
       "0               0.0                0.0                     0.0   \n",
       "1               0.0                0.0                     0.0   \n",
       "2               0.0                0.0                     0.0   \n",
       "3               0.0                0.0                     0.0   \n",
       "4               0.0                0.0                     0.0   \n",
       "\n",
       "   Category_FRAUD  Category_LARCENY/THEFT  Category_MISSING PERSON  \\\n",
       "0             0.0                     0.0                      0.0   \n",
       "1             0.0                     0.0                      0.0   \n",
       "2             0.0                     0.0                      0.0   \n",
       "3             0.0                     0.0                      0.0   \n",
       "4             0.0                     0.0                      0.0   \n",
       "\n",
       "   Category_NON-CRIMINAL  Category_OTHER  Category_OTHER OFFENSES  \\\n",
       "0                    0.0             0.0                      0.0   \n",
       "1                    0.0             0.0                      0.0   \n",
       "2                    0.0             0.0                      0.0   \n",
       "3                    1.0             0.0                      0.0   \n",
       "4                    1.0             0.0                      0.0   \n",
       "\n",
       "   Category_ROBBERY  ...  Descript_POSSESSION OF NARCOTICS PARAPHERNALIA  \\\n",
       "0               0.0  ...                                             0.0   \n",
       "1               0.0  ...                                             0.0   \n",
       "2               0.0  ...                                             0.0   \n",
       "3               0.0  ...                                             0.0   \n",
       "4               0.0  ...                                             0.0   \n",
       "\n",
       "   Descript_RESISTING ARREST  Descript_STOLEN AUTOMOBILE  \\\n",
       "0                        0.0                         0.0   \n",
       "1                        0.0                         0.0   \n",
       "2                        0.0                         0.0   \n",
       "3                        0.0                         0.0   \n",
       "4                        0.0                         0.0   \n",
       "\n",
       "   Descript_STOLEN TRUCK  Descript_SUSPICIOUS OCCURRENCE  \\\n",
       "0                    0.0                             0.0   \n",
       "1                    0.0                             0.0   \n",
       "2                    0.0                             0.0   \n",
       "3                    0.0                             0.0   \n",
       "4                    0.0                             0.0   \n",
       "\n",
       "   Descript_THREATS AGAINST LIFE  Descript_TRAFFIC VIOLATION  \\\n",
       "0                            0.0                         0.0   \n",
       "1                            0.0                         0.0   \n",
       "2                            0.0                         0.0   \n",
       "3                            0.0                         0.0   \n",
       "4                            0.0                         0.0   \n",
       "\n",
       "   Descript_TRAFFIC VIOLATION ARREST  Descript_TRESPASSING  \\\n",
       "0                                0.0                   0.0   \n",
       "1                                0.0                   0.0   \n",
       "2                                0.0                   0.0   \n",
       "3                                0.0                   0.0   \n",
       "4                                0.0                   0.0   \n",
       "\n",
       "   Descript_WARRANT ARREST  \n",
       "0                      0.0  \n",
       "1                      0.0  \n",
       "2                      1.0  \n",
       "3                      0.0  \n",
       "4                      0.0  \n",
       "\n",
       "[5 rows x 57 columns]"
      ],
      "text/html": "<div>\n<style scoped>\n    .dataframe tbody tr th:only-of-type {\n        vertical-align: middle;\n    }\n\n    .dataframe tbody tr th {\n        vertical-align: top;\n    }\n\n    .dataframe thead th {\n        text-align: right;\n    }\n</style>\n<table border=\"1\" class=\"dataframe\">\n  <thead>\n    <tr style=\"text-align: right;\">\n      <th></th>\n      <th>Category_ASSAULT</th>\n      <th>Category_BURGLARY</th>\n      <th>Category_DRUG/NARCOTIC</th>\n      <th>Category_FRAUD</th>\n      <th>Category_LARCENY/THEFT</th>\n      <th>Category_MISSING PERSON</th>\n      <th>Category_NON-CRIMINAL</th>\n      <th>Category_OTHER</th>\n      <th>Category_OTHER OFFENSES</th>\n      <th>Category_ROBBERY</th>\n      <th>...</th>\n      <th>Descript_POSSESSION OF NARCOTICS PARAPHERNALIA</th>\n      <th>Descript_RESISTING ARREST</th>\n      <th>Descript_STOLEN AUTOMOBILE</th>\n      <th>Descript_STOLEN TRUCK</th>\n      <th>Descript_SUSPICIOUS OCCURRENCE</th>\n      <th>Descript_THREATS AGAINST LIFE</th>\n      <th>Descript_TRAFFIC VIOLATION</th>\n      <th>Descript_TRAFFIC VIOLATION ARREST</th>\n      <th>Descript_TRESPASSING</th>\n      <th>Descript_WARRANT ARREST</th>\n    </tr>\n  </thead>\n  <tbody>\n    <tr>\n      <th>0</th>\n      <td>0.0</td>\n      <td>0.0</td>\n      <td>0.0</td>\n      <td>0.0</td>\n      <td>0.0</td>\n      <td>0.0</td>\n      <td>0.0</td>\n      <td>0.0</td>\n      <td>0.0</td>\n      <td>0.0</td>\n      <td>...</td>\n      <td>0.0</td>\n      <td>0.0</td>\n      <td>0.0</td>\n      <td>0.0</td>\n      <td>0.0</td>\n      <td>0.0</td>\n      <td>0.0</td>\n      <td>0.0</td>\n      <td>0.0</td>\n      <td>0.0</td>\n    </tr>\n    <tr>\n      <th>1</th>\n      <td>0.0</td>\n      <td>0.0</td>\n      <td>0.0</td>\n      <td>0.0</td>\n      <td>0.0</td>\n      <td>0.0</td>\n      <td>0.0</td>\n      <td>0.0</td>\n      <td>0.0</td>\n      <td>0.0</td>\n      <td>...</td>\n      <td>0.0</td>\n      <td>0.0</td>\n      <td>0.0</td>\n      <td>0.0</td>\n      <td>0.0</td>\n      <td>0.0</td>\n      <td>0.0</td>\n      <td>0.0</td>\n      <td>0.0</td>\n      <td>0.0</td>\n    </tr>\n    <tr>\n      <th>2</th>\n      <td>0.0</td>\n      <td>0.0</td>\n      <td>0.0</td>\n      <td>0.0</td>\n      <td>0.0</td>\n      <td>0.0</td>\n      <td>0.0</td>\n      <td>0.0</td>\n      <td>0.0</td>\n      <td>0.0</td>\n      <td>...</td>\n      <td>0.0</td>\n      <td>0.0</td>\n      <td>0.0</td>\n      <td>0.0</td>\n      <td>0.0</td>\n      <td>0.0</td>\n      <td>0.0</td>\n      <td>0.0</td>\n      <td>0.0</td>\n      <td>1.0</td>\n    </tr>\n    <tr>\n      <th>3</th>\n      <td>0.0</td>\n      <td>0.0</td>\n      <td>0.0</td>\n      <td>0.0</td>\n      <td>0.0</td>\n      <td>0.0</td>\n      <td>1.0</td>\n      <td>0.0</td>\n      <td>0.0</td>\n      <td>0.0</td>\n      <td>...</td>\n      <td>0.0</td>\n      <td>0.0</td>\n      <td>0.0</td>\n      <td>0.0</td>\n      <td>0.0</td>\n      <td>0.0</td>\n      <td>0.0</td>\n      <td>0.0</td>\n      <td>0.0</td>\n      <td>0.0</td>\n    </tr>\n    <tr>\n      <th>4</th>\n      <td>0.0</td>\n      <td>0.0</td>\n      <td>0.0</td>\n      <td>0.0</td>\n      <td>0.0</td>\n      <td>0.0</td>\n      <td>1.0</td>\n      <td>0.0</td>\n      <td>0.0</td>\n      <td>0.0</td>\n      <td>...</td>\n      <td>0.0</td>\n      <td>0.0</td>\n      <td>0.0</td>\n      <td>0.0</td>\n      <td>0.0</td>\n      <td>0.0</td>\n      <td>0.0</td>\n      <td>0.0</td>\n      <td>0.0</td>\n      <td>0.0</td>\n    </tr>\n  </tbody>\n</table>\n<p>5 rows × 57 columns</p>\n</div>"
     },
     "metadata": {},
     "execution_count": 5
    }
   ],
   "source": [
    "#encode our categorical data\n",
    "categorical_vars = df.dtypes[df.dtypes==\"object\"].index.tolist()\n",
    "\n",
    "#create OHE instance\n",
    "enc = OneHotEncoder(sparse=False)\n",
    "\n",
    "#fit and transform\n",
    "encoded_df = pd.DataFrame(enc.fit_transform(df[categorical_vars]))\n",
    "\n",
    "#rename encoded columns\n",
    "encoded_df.columns = enc.get_feature_names(categorical_vars)\n",
    "encoded_df.head()"
   ]
  },
  {
   "cell_type": "code",
   "execution_count": 6,
   "metadata": {},
   "outputs": [
    {
     "output_type": "execute_result",
     "data": {
      "text/plain": [
       "       Category        Descript  ZipCode  PdDistricts  Months  Day  TimeOfDay  \\\n",
       "0   WEAPON LAWS           OTHER    94103            7       4    0          2   \n",
       "1   WEAPON LAWS           OTHER    94103            7       4    0          2   \n",
       "2      WARRANTS  WARRANT ARREST    94124            0       0    1          0   \n",
       "3  NON-CRIMINAL   LOST PROPERTY    94108            9       4    5          1   \n",
       "4  NON-CRIMINAL   LOST PROPERTY    94102            3       4    0          3   \n",
       "\n",
       "   Resolutions  Category_ASSAULT  Category_BURGLARY  ...  \\\n",
       "0            0               0.0                0.0  ...   \n",
       "1            0               0.0                0.0  ...   \n",
       "2            0               0.0                0.0  ...   \n",
       "3            1               0.0                0.0  ...   \n",
       "4            1               0.0                0.0  ...   \n",
       "\n",
       "   Descript_POSSESSION OF NARCOTICS PARAPHERNALIA  Descript_RESISTING ARREST  \\\n",
       "0                                             0.0                        0.0   \n",
       "1                                             0.0                        0.0   \n",
       "2                                             0.0                        0.0   \n",
       "3                                             0.0                        0.0   \n",
       "4                                             0.0                        0.0   \n",
       "\n",
       "   Descript_STOLEN AUTOMOBILE  Descript_STOLEN TRUCK  \\\n",
       "0                         0.0                    0.0   \n",
       "1                         0.0                    0.0   \n",
       "2                         0.0                    0.0   \n",
       "3                         0.0                    0.0   \n",
       "4                         0.0                    0.0   \n",
       "\n",
       "   Descript_SUSPICIOUS OCCURRENCE  Descript_THREATS AGAINST LIFE  \\\n",
       "0                             0.0                            0.0   \n",
       "1                             0.0                            0.0   \n",
       "2                             0.0                            0.0   \n",
       "3                             0.0                            0.0   \n",
       "4                             0.0                            0.0   \n",
       "\n",
       "   Descript_TRAFFIC VIOLATION  Descript_TRAFFIC VIOLATION ARREST  \\\n",
       "0                         0.0                                0.0   \n",
       "1                         0.0                                0.0   \n",
       "2                         0.0                                0.0   \n",
       "3                         0.0                                0.0   \n",
       "4                         0.0                                0.0   \n",
       "\n",
       "   Descript_TRESPASSING  Descript_WARRANT ARREST  \n",
       "0                   0.0                      0.0  \n",
       "1                   0.0                      0.0  \n",
       "2                   0.0                      1.0  \n",
       "3                   0.0                      0.0  \n",
       "4                   0.0                      0.0  \n",
       "\n",
       "[5 rows x 65 columns]"
      ],
      "text/html": "<div>\n<style scoped>\n    .dataframe tbody tr th:only-of-type {\n        vertical-align: middle;\n    }\n\n    .dataframe tbody tr th {\n        vertical-align: top;\n    }\n\n    .dataframe thead th {\n        text-align: right;\n    }\n</style>\n<table border=\"1\" class=\"dataframe\">\n  <thead>\n    <tr style=\"text-align: right;\">\n      <th></th>\n      <th>Category</th>\n      <th>Descript</th>\n      <th>ZipCode</th>\n      <th>PdDistricts</th>\n      <th>Months</th>\n      <th>Day</th>\n      <th>TimeOfDay</th>\n      <th>Resolutions</th>\n      <th>Category_ASSAULT</th>\n      <th>Category_BURGLARY</th>\n      <th>...</th>\n      <th>Descript_POSSESSION OF NARCOTICS PARAPHERNALIA</th>\n      <th>Descript_RESISTING ARREST</th>\n      <th>Descript_STOLEN AUTOMOBILE</th>\n      <th>Descript_STOLEN TRUCK</th>\n      <th>Descript_SUSPICIOUS OCCURRENCE</th>\n      <th>Descript_THREATS AGAINST LIFE</th>\n      <th>Descript_TRAFFIC VIOLATION</th>\n      <th>Descript_TRAFFIC VIOLATION ARREST</th>\n      <th>Descript_TRESPASSING</th>\n      <th>Descript_WARRANT ARREST</th>\n    </tr>\n  </thead>\n  <tbody>\n    <tr>\n      <th>0</th>\n      <td>WEAPON LAWS</td>\n      <td>OTHER</td>\n      <td>94103</td>\n      <td>7</td>\n      <td>4</td>\n      <td>0</td>\n      <td>2</td>\n      <td>0</td>\n      <td>0.0</td>\n      <td>0.0</td>\n      <td>...</td>\n      <td>0.0</td>\n      <td>0.0</td>\n      <td>0.0</td>\n      <td>0.0</td>\n      <td>0.0</td>\n      <td>0.0</td>\n      <td>0.0</td>\n      <td>0.0</td>\n      <td>0.0</td>\n      <td>0.0</td>\n    </tr>\n    <tr>\n      <th>1</th>\n      <td>WEAPON LAWS</td>\n      <td>OTHER</td>\n      <td>94103</td>\n      <td>7</td>\n      <td>4</td>\n      <td>0</td>\n      <td>2</td>\n      <td>0</td>\n      <td>0.0</td>\n      <td>0.0</td>\n      <td>...</td>\n      <td>0.0</td>\n      <td>0.0</td>\n      <td>0.0</td>\n      <td>0.0</td>\n      <td>0.0</td>\n      <td>0.0</td>\n      <td>0.0</td>\n      <td>0.0</td>\n      <td>0.0</td>\n      <td>0.0</td>\n    </tr>\n    <tr>\n      <th>2</th>\n      <td>WARRANTS</td>\n      <td>WARRANT ARREST</td>\n      <td>94124</td>\n      <td>0</td>\n      <td>0</td>\n      <td>1</td>\n      <td>0</td>\n      <td>0</td>\n      <td>0.0</td>\n      <td>0.0</td>\n      <td>...</td>\n      <td>0.0</td>\n      <td>0.0</td>\n      <td>0.0</td>\n      <td>0.0</td>\n      <td>0.0</td>\n      <td>0.0</td>\n      <td>0.0</td>\n      <td>0.0</td>\n      <td>0.0</td>\n      <td>1.0</td>\n    </tr>\n    <tr>\n      <th>3</th>\n      <td>NON-CRIMINAL</td>\n      <td>LOST PROPERTY</td>\n      <td>94108</td>\n      <td>9</td>\n      <td>4</td>\n      <td>5</td>\n      <td>1</td>\n      <td>1</td>\n      <td>0.0</td>\n      <td>0.0</td>\n      <td>...</td>\n      <td>0.0</td>\n      <td>0.0</td>\n      <td>0.0</td>\n      <td>0.0</td>\n      <td>0.0</td>\n      <td>0.0</td>\n      <td>0.0</td>\n      <td>0.0</td>\n      <td>0.0</td>\n      <td>0.0</td>\n    </tr>\n    <tr>\n      <th>4</th>\n      <td>NON-CRIMINAL</td>\n      <td>LOST PROPERTY</td>\n      <td>94102</td>\n      <td>3</td>\n      <td>4</td>\n      <td>0</td>\n      <td>3</td>\n      <td>1</td>\n      <td>0.0</td>\n      <td>0.0</td>\n      <td>...</td>\n      <td>0.0</td>\n      <td>0.0</td>\n      <td>0.0</td>\n      <td>0.0</td>\n      <td>0.0</td>\n      <td>0.0</td>\n      <td>0.0</td>\n      <td>0.0</td>\n      <td>0.0</td>\n      <td>0.0</td>\n    </tr>\n  </tbody>\n</table>\n<p>5 rows × 65 columns</p>\n</div>"
     },
     "metadata": {},
     "execution_count": 6
    }
   ],
   "source": [
    "#merge dataframes\n",
    "merged_df = df.merge(encoded_df, right_index=True, left_index=True)\n",
    "merged_df.head()"
   ]
  },
  {
   "cell_type": "code",
   "execution_count": 7,
   "metadata": {},
   "outputs": [
    {
     "output_type": "execute_result",
     "data": {
      "text/plain": [
       "   ZipCode  PdDistricts  Months  Day  TimeOfDay  Resolutions  \\\n",
       "0    94103            7       4    0          2            0   \n",
       "1    94103            7       4    0          2            0   \n",
       "2    94124            0       0    1          0            0   \n",
       "3    94108            9       4    5          1            1   \n",
       "4    94102            3       4    0          3            1   \n",
       "\n",
       "   Category_ASSAULT  Category_BURGLARY  Category_DRUG/NARCOTIC  \\\n",
       "0               0.0                0.0                     0.0   \n",
       "1               0.0                0.0                     0.0   \n",
       "2               0.0                0.0                     0.0   \n",
       "3               0.0                0.0                     0.0   \n",
       "4               0.0                0.0                     0.0   \n",
       "\n",
       "   Category_FRAUD  ...  Descript_POSSESSION OF NARCOTICS PARAPHERNALIA  \\\n",
       "0             0.0  ...                                             0.0   \n",
       "1             0.0  ...                                             0.0   \n",
       "2             0.0  ...                                             0.0   \n",
       "3             0.0  ...                                             0.0   \n",
       "4             0.0  ...                                             0.0   \n",
       "\n",
       "   Descript_RESISTING ARREST  Descript_STOLEN AUTOMOBILE  \\\n",
       "0                        0.0                         0.0   \n",
       "1                        0.0                         0.0   \n",
       "2                        0.0                         0.0   \n",
       "3                        0.0                         0.0   \n",
       "4                        0.0                         0.0   \n",
       "\n",
       "   Descript_STOLEN TRUCK  Descript_SUSPICIOUS OCCURRENCE  \\\n",
       "0                    0.0                             0.0   \n",
       "1                    0.0                             0.0   \n",
       "2                    0.0                             0.0   \n",
       "3                    0.0                             0.0   \n",
       "4                    0.0                             0.0   \n",
       "\n",
       "   Descript_THREATS AGAINST LIFE  Descript_TRAFFIC VIOLATION  \\\n",
       "0                            0.0                         0.0   \n",
       "1                            0.0                         0.0   \n",
       "2                            0.0                         0.0   \n",
       "3                            0.0                         0.0   \n",
       "4                            0.0                         0.0   \n",
       "\n",
       "   Descript_TRAFFIC VIOLATION ARREST  Descript_TRESPASSING  \\\n",
       "0                                0.0                   0.0   \n",
       "1                                0.0                   0.0   \n",
       "2                                0.0                   0.0   \n",
       "3                                0.0                   0.0   \n",
       "4                                0.0                   0.0   \n",
       "\n",
       "   Descript_WARRANT ARREST  \n",
       "0                      0.0  \n",
       "1                      0.0  \n",
       "2                      1.0  \n",
       "3                      0.0  \n",
       "4                      0.0  \n",
       "\n",
       "[5 rows x 63 columns]"
      ],
      "text/html": "<div>\n<style scoped>\n    .dataframe tbody tr th:only-of-type {\n        vertical-align: middle;\n    }\n\n    .dataframe tbody tr th {\n        vertical-align: top;\n    }\n\n    .dataframe thead th {\n        text-align: right;\n    }\n</style>\n<table border=\"1\" class=\"dataframe\">\n  <thead>\n    <tr style=\"text-align: right;\">\n      <th></th>\n      <th>ZipCode</th>\n      <th>PdDistricts</th>\n      <th>Months</th>\n      <th>Day</th>\n      <th>TimeOfDay</th>\n      <th>Resolutions</th>\n      <th>Category_ASSAULT</th>\n      <th>Category_BURGLARY</th>\n      <th>Category_DRUG/NARCOTIC</th>\n      <th>Category_FRAUD</th>\n      <th>...</th>\n      <th>Descript_POSSESSION OF NARCOTICS PARAPHERNALIA</th>\n      <th>Descript_RESISTING ARREST</th>\n      <th>Descript_STOLEN AUTOMOBILE</th>\n      <th>Descript_STOLEN TRUCK</th>\n      <th>Descript_SUSPICIOUS OCCURRENCE</th>\n      <th>Descript_THREATS AGAINST LIFE</th>\n      <th>Descript_TRAFFIC VIOLATION</th>\n      <th>Descript_TRAFFIC VIOLATION ARREST</th>\n      <th>Descript_TRESPASSING</th>\n      <th>Descript_WARRANT ARREST</th>\n    </tr>\n  </thead>\n  <tbody>\n    <tr>\n      <th>0</th>\n      <td>94103</td>\n      <td>7</td>\n      <td>4</td>\n      <td>0</td>\n      <td>2</td>\n      <td>0</td>\n      <td>0.0</td>\n      <td>0.0</td>\n      <td>0.0</td>\n      <td>0.0</td>\n      <td>...</td>\n      <td>0.0</td>\n      <td>0.0</td>\n      <td>0.0</td>\n      <td>0.0</td>\n      <td>0.0</td>\n      <td>0.0</td>\n      <td>0.0</td>\n      <td>0.0</td>\n      <td>0.0</td>\n      <td>0.0</td>\n    </tr>\n    <tr>\n      <th>1</th>\n      <td>94103</td>\n      <td>7</td>\n      <td>4</td>\n      <td>0</td>\n      <td>2</td>\n      <td>0</td>\n      <td>0.0</td>\n      <td>0.0</td>\n      <td>0.0</td>\n      <td>0.0</td>\n      <td>...</td>\n      <td>0.0</td>\n      <td>0.0</td>\n      <td>0.0</td>\n      <td>0.0</td>\n      <td>0.0</td>\n      <td>0.0</td>\n      <td>0.0</td>\n      <td>0.0</td>\n      <td>0.0</td>\n      <td>0.0</td>\n    </tr>\n    <tr>\n      <th>2</th>\n      <td>94124</td>\n      <td>0</td>\n      <td>0</td>\n      <td>1</td>\n      <td>0</td>\n      <td>0</td>\n      <td>0.0</td>\n      <td>0.0</td>\n      <td>0.0</td>\n      <td>0.0</td>\n      <td>...</td>\n      <td>0.0</td>\n      <td>0.0</td>\n      <td>0.0</td>\n      <td>0.0</td>\n      <td>0.0</td>\n      <td>0.0</td>\n      <td>0.0</td>\n      <td>0.0</td>\n      <td>0.0</td>\n      <td>1.0</td>\n    </tr>\n    <tr>\n      <th>3</th>\n      <td>94108</td>\n      <td>9</td>\n      <td>4</td>\n      <td>5</td>\n      <td>1</td>\n      <td>1</td>\n      <td>0.0</td>\n      <td>0.0</td>\n      <td>0.0</td>\n      <td>0.0</td>\n      <td>...</td>\n      <td>0.0</td>\n      <td>0.0</td>\n      <td>0.0</td>\n      <td>0.0</td>\n      <td>0.0</td>\n      <td>0.0</td>\n      <td>0.0</td>\n      <td>0.0</td>\n      <td>0.0</td>\n      <td>0.0</td>\n    </tr>\n    <tr>\n      <th>4</th>\n      <td>94102</td>\n      <td>3</td>\n      <td>4</td>\n      <td>0</td>\n      <td>3</td>\n      <td>1</td>\n      <td>0.0</td>\n      <td>0.0</td>\n      <td>0.0</td>\n      <td>0.0</td>\n      <td>...</td>\n      <td>0.0</td>\n      <td>0.0</td>\n      <td>0.0</td>\n      <td>0.0</td>\n      <td>0.0</td>\n      <td>0.0</td>\n      <td>0.0</td>\n      <td>0.0</td>\n      <td>0.0</td>\n      <td>0.0</td>\n    </tr>\n  </tbody>\n</table>\n<p>5 rows × 63 columns</p>\n</div>"
     },
     "metadata": {},
     "execution_count": 7
    }
   ],
   "source": [
    "#drop category and description columns\n",
    "merged_df = merged_df.drop(columns=\"Category\")\n",
    "merged_df = merged_df.drop(columns=\"Descript\")\n",
    "merged_df.head()"
   ]
  },
  {
   "cell_type": "code",
   "execution_count": 8,
   "metadata": {},
   "outputs": [
    {
     "output_type": "execute_result",
     "data": {
      "text/plain": [
       "Index(['ZipCode', 'PdDistricts', 'Months', 'Day', 'TimeOfDay', 'Resolutions',\n",
       "       'Category_ASSAULT', 'Category_BURGLARY', 'Category_DRUG/NARCOTIC',\n",
       "       'Category_FRAUD', 'Category_LARCENY/THEFT', 'Category_MISSING PERSON',\n",
       "       'Category_NON-CRIMINAL', 'Category_OTHER', 'Category_OTHER OFFENSES',\n",
       "       'Category_ROBBERY', 'Category_SECONDARY CODES',\n",
       "       'Category_SUSPICIOUS OCC', 'Category_TRESPASS', 'Category_VANDALISM',\n",
       "       'Category_VEHICLE THEFT', 'Category_WARRANTS', 'Category_WEAPON LAWS',\n",
       "       'Descript_AGGRAVATED ASSAULT WITH A DEADLY WEAPON',\n",
       "       'Descript_AIDED CASE', 'Descript_AIDED CASE, MENTAL DISTURBED',\n",
       "       'Descript_BATTERY',\n",
       "       'Descript_BATTERY, FORMER SPOUSE OR DATING RELATIONSHIP',\n",
       "       'Descript_CREDIT CARD, THEFT BY USE OF', 'Descript_DOMESTIC VIOLENCE',\n",
       "       'Descript_DRIVERS LICENSE, SUSPENDED OR REVOKED',\n",
       "       'Descript_ENROUTE TO OUTSIDE JURISDICTION',\n",
       "       'Descript_FALSE PERSONATION TO RECEIVE MONEY OR PROPERTY',\n",
       "       'Descript_FOUND PERSON', 'Descript_FOUND PROPERTY',\n",
       "       'Descript_GRAND THEFT FROM A BUILDING',\n",
       "       'Descript_GRAND THEFT FROM LOCKED AUTO',\n",
       "       'Descript_GRAND THEFT FROM PERSON',\n",
       "       'Descript_GRAND THEFT FROM UNLOCKED AUTO',\n",
       "       'Descript_GRAND THEFT OF PROPERTY',\n",
       "       'Descript_INFLICT INJURY ON COHABITEE',\n",
       "       'Descript_INVESTIGATIVE DETENTION', 'Descript_LOST PROPERTY',\n",
       "       'Descript_LOST/STOLEN LICENSE PLATE',\n",
       "       'Descript_MALICIOUS MISCHIEF, VANDALISM',\n",
       "       'Descript_MALICIOUS MISCHIEF, VANDALISM OF VEHICLES',\n",
       "       'Descript_MISCELLANEOUS INVESTIGATION', 'Descript_MISSING ADULT',\n",
       "       'Descript_OTHER', 'Descript_PETTY THEFT FROM A BUILDING',\n",
       "       'Descript_PETTY THEFT FROM LOCKED AUTO',\n",
       "       'Descript_PETTY THEFT OF PROPERTY', 'Descript_PETTY THEFT SHOPLIFTING',\n",
       "       'Descript_POSSESSION OF NARCOTICS PARAPHERNALIA',\n",
       "       'Descript_RESISTING ARREST', 'Descript_STOLEN AUTOMOBILE',\n",
       "       'Descript_STOLEN TRUCK', 'Descript_SUSPICIOUS OCCURRENCE',\n",
       "       'Descript_THREATS AGAINST LIFE', 'Descript_TRAFFIC VIOLATION',\n",
       "       'Descript_TRAFFIC VIOLATION ARREST', 'Descript_TRESPASSING',\n",
       "       'Descript_WARRANT ARREST'],\n",
       "      dtype='object')"
      ]
     },
     "metadata": {},
     "execution_count": 8
    }
   ],
   "source": [
    "columns = merged_df.columns\n",
    "columns"
   ]
  },
  {
   "cell_type": "code",
   "execution_count": 9,
   "metadata": {},
   "outputs": [],
   "source": [
    "#resolutions column does not need to be scaled bc it is our binary classifier. In fact, it does not need to be included in our PCA\n",
    "\n",
    "#first create a copy of our dataframe \n",
    "scaled_features = merged_df.copy()\n",
    "column_names = ['ZipCode', 'PdDistricts', 'Months', 'Day', 'TimeOfDay',\n",
    "       'Category_ASSAULT', 'Category_BURGLARY', 'Category_DRUG/NARCOTIC',\n",
    "       'Category_FRAUD', 'Category_LARCENY/THEFT', 'Category_MISSING PERSON',\n",
    "       'Category_NON-CRIMINAL', 'Category_OTHER', 'Category_OTHER OFFENSES',\n",
    "       'Category_ROBBERY', 'Category_SECONDARY CODES',\n",
    "       'Category_SUSPICIOUS OCC', 'Category_TRESPASS', 'Category_VANDALISM',\n",
    "       'Category_VEHICLE THEFT', 'Category_WARRANTS', 'Category_WEAPON LAWS',\n",
    "       'Descript_AGGRAVATED ASSAULT WITH A DEADLY WEAPON',\n",
    "       'Descript_AIDED CASE', 'Descript_AIDED CASE, MENTAL DISTURBED',\n",
    "       'Descript_BATTERY',\n",
    "       'Descript_BATTERY, FORMER SPOUSE OR DATING RELATIONSHIP',\n",
    "       'Descript_CREDIT CARD, THEFT BY USE OF', 'Descript_DOMESTIC VIOLENCE',\n",
    "       'Descript_DRIVERS LICENSE, SUSPENDED OR REVOKED',\n",
    "       'Descript_ENROUTE TO OUTSIDE JURISDICTION',\n",
    "       'Descript_FALSE PERSONATION TO RECEIVE MONEY OR PROPERTY',\n",
    "       'Descript_FOUND PERSON', 'Descript_FOUND PROPERTY',\n",
    "       'Descript_GRAND THEFT FROM A BUILDING',\n",
    "       'Descript_GRAND THEFT FROM LOCKED AUTO',\n",
    "       'Descript_GRAND THEFT FROM PERSON',\n",
    "       'Descript_GRAND THEFT FROM UNLOCKED AUTO',\n",
    "       'Descript_GRAND THEFT OF PROPERTY',\n",
    "       'Descript_INFLICT INJURY ON COHABITEE',\n",
    "       'Descript_INVESTIGATIVE DETENTION', 'Descript_LOST PROPERTY',\n",
    "       'Descript_LOST/STOLEN LICENSE PLATE',\n",
    "       'Descript_MALICIOUS MISCHIEF, VANDALISM',\n",
    "       'Descript_MALICIOUS MISCHIEF, VANDALISM OF VEHICLES',\n",
    "       'Descript_MISCELLANEOUS INVESTIGATION', 'Descript_MISSING ADULT',\n",
    "       'Descript_OTHER', 'Descript_PETTY THEFT FROM A BUILDING',\n",
    "       'Descript_PETTY THEFT FROM LOCKED AUTO',\n",
    "       'Descript_PETTY THEFT OF PROPERTY', 'Descript_PETTY THEFT SHOPLIFTING',\n",
    "       'Descript_POSSESSION OF NARCOTICS PARAPHERNALIA',\n",
    "       'Descript_RESISTING ARREST', 'Descript_STOLEN AUTOMOBILE',\n",
    "       'Descript_STOLEN TRUCK', 'Descript_SUSPICIOUS OCCURRENCE',\n",
    "       'Descript_THREATS AGAINST LIFE', 'Descript_TRAFFIC VIOLATION',\n",
    "       'Descript_TRAFFIC VIOLATION ARREST', 'Descript_TRESPASSING',\n",
    "       'Descript_WARRANT ARREST']\n",
    "features = scaled_features[column_names]"
   ]
  },
  {
   "cell_type": "code",
   "execution_count": 10,
   "metadata": {},
   "outputs": [
    {
     "output_type": "stream",
     "name": "stdout",
     "text": [
      "         ZipCode  PdDistricts    Months       Day  TimeOfDay  Resolutions  \\\n0      -0.860927     0.950634 -0.443307 -1.465466   0.720326            0   \n1      -0.860927     0.950634 -0.443307 -1.465466   0.720326            0   \n2       0.909206    -1.566836 -1.598508 -0.970159  -1.132944            0   \n3      -0.439467     1.669911 -0.443307  1.011070  -0.206309            1   \n4      -0.945219    -0.487921 -0.443307 -1.465466   1.646961            1   \n...          ...          ...       ...       ...        ...          ...   \n147190  0.403454     0.231357 -1.020908 -1.465466  -0.206309            1   \n147191 -0.776635    -1.207198 -1.020908 -1.465466   0.720326            1   \n147192 -0.439467    -1.207198 -1.020908  0.515763  -0.206309            1   \n147193 -0.439467    -1.207198 -1.020908 -1.465466   0.720326            1   \n147194 -0.860927     0.950634 -1.020908 -1.465466  -1.132944            1   \n\n        Category_ASSAULT  Category_BURGLARY  Category_DRUG/NARCOTIC  \\\n0              -0.315846          -0.202024               -0.171087   \n1              -0.315846          -0.202024               -0.171087   \n2              -0.315846          -0.202024               -0.171087   \n3              -0.315846          -0.202024               -0.171087   \n4              -0.315846          -0.202024               -0.171087   \n...                  ...                ...                     ...   \n147190          3.166100          -0.202024               -0.171087   \n147191         -0.315846          -0.202024               -0.171087   \n147192         -0.315846          -0.202024               -0.171087   \n147193         -0.315846          -0.202024               -0.171087   \n147194         -0.315846          -0.202024               -0.171087   \n\n        Category_FRAUD  ...  Descript_POSSESSION OF NARCOTICS PARAPHERNALIA  \\\n0            -0.134147  ...                                       -0.085168   \n1            -0.134147  ...                                       -0.085168   \n2            -0.134147  ...                                       -0.085168   \n3            -0.134147  ...                                       -0.085168   \n4            -0.134147  ...                                       -0.085168   \n...                ...  ...                                             ...   \n147190       -0.134147  ...                                       -0.085168   \n147191       -0.134147  ...                                       -0.085168   \n147192       -0.134147  ...                                       -0.085168   \n147193       -0.134147  ...                                       -0.085168   \n147194       -0.134147  ...                                       -0.085168   \n\n        Descript_RESISTING ARREST  Descript_STOLEN AUTOMOBILE  \\\n0                       -0.093327                   -0.155175   \n1                       -0.093327                   -0.155175   \n2                       -0.093327                   -0.155175   \n3                       -0.093327                   -0.155175   \n4                       -0.093327                   -0.155175   \n...                           ...                         ...   \n147190                  -0.093327                   -0.155175   \n147191                  -0.093327                   -0.155175   \n147192                  -0.093327                   -0.155175   \n147193                  -0.093327                   -0.155175   \n147194                  -0.093327                   -0.155175   \n\n        Descript_STOLEN TRUCK  Descript_SUSPICIOUS OCCURRENCE  \\\n0                   -0.101159                       -0.141017   \n1                   -0.101159                       -0.141017   \n2                   -0.101159                       -0.141017   \n3                   -0.101159                       -0.141017   \n4                   -0.101159                       -0.141017   \n...                       ...                             ...   \n147190              -0.101159                       -0.141017   \n147191              -0.101159                       -0.141017   \n147192              -0.101159                       -0.141017   \n147193              -0.101159                       -0.141017   \n147194              -0.101159                       -0.141017   \n\n        Descript_THREATS AGAINST LIFE  Descript_TRAFFIC VIOLATION  \\\n0                           -0.107157                   -0.111078   \n1                           -0.107157                   -0.111078   \n2                           -0.107157                   -0.111078   \n3                           -0.107157                   -0.111078   \n4                           -0.107157                   -0.111078   \n...                               ...                         ...   \n147190                      -0.107157                   -0.111078   \n147191                      -0.107157                   -0.111078   \n147192                      -0.107157                   -0.111078   \n147193                      -0.107157                   -0.111078   \n147194                      -0.107157                   -0.111078   \n\n        Descript_TRAFFIC VIOLATION ARREST  Descript_TRESPASSING  \\\n0                               -0.123178             -0.092808   \n1                               -0.123178             -0.092808   \n2                               -0.123178             -0.092808   \n3                               -0.123178             -0.092808   \n4                               -0.123178             -0.092808   \n...                                   ...                   ...   \n147190                          -0.123178             -0.092808   \n147191                          -0.123178             -0.092808   \n147192                          -0.123178             -0.092808   \n147193                          -0.123178             -0.092808   \n147194                          -0.123178             -0.092808   \n\n        Descript_WARRANT ARREST  \n0                     -0.145267  \n1                     -0.145267  \n2                      6.883863  \n3                     -0.145267  \n4                     -0.145267  \n...                         ...  \n147190                -0.145267  \n147191                -0.145267  \n147192                -0.145267  \n147193                -0.145267  \n147194                -0.145267  \n\n[147195 rows x 63 columns]\n"
     ]
    }
   ],
   "source": [
    "#due to the zipcode values being so much bigger than the rest of the values in the dataframe, everything will be scaled using scikit-learn standard scaler \n",
    "scaler = StandardScaler()\n",
    "scaled_data = scaler.fit(features.values)\n",
    "features = scaler.transform(features.values)\n",
    "#create df of scaled data\n",
    "scaled_features[column_names] = features\n",
    "print(scaled_features)"
   ]
  },
  {
   "cell_type": "code",
   "execution_count": 11,
   "metadata": {},
   "outputs": [],
   "source": [
    "# Saving this scaled dataframe for use in our machine learning algos \n",
    "file_path = \"../Resources/ml_df.csv\"\n",
    "scaled_features.to_csv(file_path, index=False)"
   ]
  },
  {
   "cell_type": "code",
   "execution_count": 12,
   "metadata": {},
   "outputs": [
    {
     "output_type": "execute_result",
     "data": {
      "text/plain": [
       "         ZipCode  PdDistricts    Months       Day  TimeOfDay  \\\n",
       "0      -0.860927     0.950634 -0.443307 -1.465466   0.720326   \n",
       "1      -0.860927     0.950634 -0.443307 -1.465466   0.720326   \n",
       "2       0.909206    -1.566836 -1.598508 -0.970159  -1.132944   \n",
       "3      -0.439467     1.669911 -0.443307  1.011070  -0.206309   \n",
       "4      -0.945219    -0.487921 -0.443307 -1.465466   1.646961   \n",
       "...          ...          ...       ...       ...        ...   \n",
       "147190  0.403454     0.231357 -1.020908 -1.465466  -0.206309   \n",
       "147191 -0.776635    -1.207198 -1.020908 -1.465466   0.720326   \n",
       "147192 -0.439467    -1.207198 -1.020908  0.515763  -0.206309   \n",
       "147193 -0.439467    -1.207198 -1.020908 -1.465466   0.720326   \n",
       "147194 -0.860927     0.950634 -1.020908 -1.465466  -1.132944   \n",
       "\n",
       "        Category_ASSAULT  Category_BURGLARY  Category_DRUG/NARCOTIC  \\\n",
       "0              -0.315846          -0.202024               -0.171087   \n",
       "1              -0.315846          -0.202024               -0.171087   \n",
       "2              -0.315846          -0.202024               -0.171087   \n",
       "3              -0.315846          -0.202024               -0.171087   \n",
       "4              -0.315846          -0.202024               -0.171087   \n",
       "...                  ...                ...                     ...   \n",
       "147190          3.166100          -0.202024               -0.171087   \n",
       "147191         -0.315846          -0.202024               -0.171087   \n",
       "147192         -0.315846          -0.202024               -0.171087   \n",
       "147193         -0.315846          -0.202024               -0.171087   \n",
       "147194         -0.315846          -0.202024               -0.171087   \n",
       "\n",
       "        Category_FRAUD  Category_LARCENY/THEFT  ...  \\\n",
       "0            -0.134147               -0.613840  ...   \n",
       "1            -0.134147               -0.613840  ...   \n",
       "2            -0.134147               -0.613840  ...   \n",
       "3            -0.134147               -0.613840  ...   \n",
       "4            -0.134147               -0.613840  ...   \n",
       "...                ...                     ...  ...   \n",
       "147190       -0.134147               -0.613840  ...   \n",
       "147191       -0.134147               -0.613840  ...   \n",
       "147192       -0.134147                1.629089  ...   \n",
       "147193       -0.134147                1.629089  ...   \n",
       "147194       -0.134147               -0.613840  ...   \n",
       "\n",
       "        Descript_POSSESSION OF NARCOTICS PARAPHERNALIA  \\\n",
       "0                                            -0.085168   \n",
       "1                                            -0.085168   \n",
       "2                                            -0.085168   \n",
       "3                                            -0.085168   \n",
       "4                                            -0.085168   \n",
       "...                                                ...   \n",
       "147190                                       -0.085168   \n",
       "147191                                       -0.085168   \n",
       "147192                                       -0.085168   \n",
       "147193                                       -0.085168   \n",
       "147194                                       -0.085168   \n",
       "\n",
       "        Descript_RESISTING ARREST  Descript_STOLEN AUTOMOBILE  \\\n",
       "0                       -0.093327                   -0.155175   \n",
       "1                       -0.093327                   -0.155175   \n",
       "2                       -0.093327                   -0.155175   \n",
       "3                       -0.093327                   -0.155175   \n",
       "4                       -0.093327                   -0.155175   \n",
       "...                           ...                         ...   \n",
       "147190                  -0.093327                   -0.155175   \n",
       "147191                  -0.093327                   -0.155175   \n",
       "147192                  -0.093327                   -0.155175   \n",
       "147193                  -0.093327                   -0.155175   \n",
       "147194                  -0.093327                   -0.155175   \n",
       "\n",
       "        Descript_STOLEN TRUCK  Descript_SUSPICIOUS OCCURRENCE  \\\n",
       "0                   -0.101159                       -0.141017   \n",
       "1                   -0.101159                       -0.141017   \n",
       "2                   -0.101159                       -0.141017   \n",
       "3                   -0.101159                       -0.141017   \n",
       "4                   -0.101159                       -0.141017   \n",
       "...                       ...                             ...   \n",
       "147190              -0.101159                       -0.141017   \n",
       "147191              -0.101159                       -0.141017   \n",
       "147192              -0.101159                       -0.141017   \n",
       "147193              -0.101159                       -0.141017   \n",
       "147194              -0.101159                       -0.141017   \n",
       "\n",
       "        Descript_THREATS AGAINST LIFE  Descript_TRAFFIC VIOLATION  \\\n",
       "0                           -0.107157                   -0.111078   \n",
       "1                           -0.107157                   -0.111078   \n",
       "2                           -0.107157                   -0.111078   \n",
       "3                           -0.107157                   -0.111078   \n",
       "4                           -0.107157                   -0.111078   \n",
       "...                               ...                         ...   \n",
       "147190                      -0.107157                   -0.111078   \n",
       "147191                      -0.107157                   -0.111078   \n",
       "147192                      -0.107157                   -0.111078   \n",
       "147193                      -0.107157                   -0.111078   \n",
       "147194                      -0.107157                   -0.111078   \n",
       "\n",
       "        Descript_TRAFFIC VIOLATION ARREST  Descript_TRESPASSING  \\\n",
       "0                               -0.123178             -0.092808   \n",
       "1                               -0.123178             -0.092808   \n",
       "2                               -0.123178             -0.092808   \n",
       "3                               -0.123178             -0.092808   \n",
       "4                               -0.123178             -0.092808   \n",
       "...                                   ...                   ...   \n",
       "147190                          -0.123178             -0.092808   \n",
       "147191                          -0.123178             -0.092808   \n",
       "147192                          -0.123178             -0.092808   \n",
       "147193                          -0.123178             -0.092808   \n",
       "147194                          -0.123178             -0.092808   \n",
       "\n",
       "        Descript_WARRANT ARREST  \n",
       "0                     -0.145267  \n",
       "1                     -0.145267  \n",
       "2                      6.883863  \n",
       "3                     -0.145267  \n",
       "4                     -0.145267  \n",
       "...                         ...  \n",
       "147190                -0.145267  \n",
       "147191                -0.145267  \n",
       "147192                -0.145267  \n",
       "147193                -0.145267  \n",
       "147194                -0.145267  \n",
       "\n",
       "[147195 rows x 62 columns]"
      ],
      "text/html": "<div>\n<style scoped>\n    .dataframe tbody tr th:only-of-type {\n        vertical-align: middle;\n    }\n\n    .dataframe tbody tr th {\n        vertical-align: top;\n    }\n\n    .dataframe thead th {\n        text-align: right;\n    }\n</style>\n<table border=\"1\" class=\"dataframe\">\n  <thead>\n    <tr style=\"text-align: right;\">\n      <th></th>\n      <th>ZipCode</th>\n      <th>PdDistricts</th>\n      <th>Months</th>\n      <th>Day</th>\n      <th>TimeOfDay</th>\n      <th>Category_ASSAULT</th>\n      <th>Category_BURGLARY</th>\n      <th>Category_DRUG/NARCOTIC</th>\n      <th>Category_FRAUD</th>\n      <th>Category_LARCENY/THEFT</th>\n      <th>...</th>\n      <th>Descript_POSSESSION OF NARCOTICS PARAPHERNALIA</th>\n      <th>Descript_RESISTING ARREST</th>\n      <th>Descript_STOLEN AUTOMOBILE</th>\n      <th>Descript_STOLEN TRUCK</th>\n      <th>Descript_SUSPICIOUS OCCURRENCE</th>\n      <th>Descript_THREATS AGAINST LIFE</th>\n      <th>Descript_TRAFFIC VIOLATION</th>\n      <th>Descript_TRAFFIC VIOLATION ARREST</th>\n      <th>Descript_TRESPASSING</th>\n      <th>Descript_WARRANT ARREST</th>\n    </tr>\n  </thead>\n  <tbody>\n    <tr>\n      <th>0</th>\n      <td>-0.860927</td>\n      <td>0.950634</td>\n      <td>-0.443307</td>\n      <td>-1.465466</td>\n      <td>0.720326</td>\n      <td>-0.315846</td>\n      <td>-0.202024</td>\n      <td>-0.171087</td>\n      <td>-0.134147</td>\n      <td>-0.613840</td>\n      <td>...</td>\n      <td>-0.085168</td>\n      <td>-0.093327</td>\n      <td>-0.155175</td>\n      <td>-0.101159</td>\n      <td>-0.141017</td>\n      <td>-0.107157</td>\n      <td>-0.111078</td>\n      <td>-0.123178</td>\n      <td>-0.092808</td>\n      <td>-0.145267</td>\n    </tr>\n    <tr>\n      <th>1</th>\n      <td>-0.860927</td>\n      <td>0.950634</td>\n      <td>-0.443307</td>\n      <td>-1.465466</td>\n      <td>0.720326</td>\n      <td>-0.315846</td>\n      <td>-0.202024</td>\n      <td>-0.171087</td>\n      <td>-0.134147</td>\n      <td>-0.613840</td>\n      <td>...</td>\n      <td>-0.085168</td>\n      <td>-0.093327</td>\n      <td>-0.155175</td>\n      <td>-0.101159</td>\n      <td>-0.141017</td>\n      <td>-0.107157</td>\n      <td>-0.111078</td>\n      <td>-0.123178</td>\n      <td>-0.092808</td>\n      <td>-0.145267</td>\n    </tr>\n    <tr>\n      <th>2</th>\n      <td>0.909206</td>\n      <td>-1.566836</td>\n      <td>-1.598508</td>\n      <td>-0.970159</td>\n      <td>-1.132944</td>\n      <td>-0.315846</td>\n      <td>-0.202024</td>\n      <td>-0.171087</td>\n      <td>-0.134147</td>\n      <td>-0.613840</td>\n      <td>...</td>\n      <td>-0.085168</td>\n      <td>-0.093327</td>\n      <td>-0.155175</td>\n      <td>-0.101159</td>\n      <td>-0.141017</td>\n      <td>-0.107157</td>\n      <td>-0.111078</td>\n      <td>-0.123178</td>\n      <td>-0.092808</td>\n      <td>6.883863</td>\n    </tr>\n    <tr>\n      <th>3</th>\n      <td>-0.439467</td>\n      <td>1.669911</td>\n      <td>-0.443307</td>\n      <td>1.011070</td>\n      <td>-0.206309</td>\n      <td>-0.315846</td>\n      <td>-0.202024</td>\n      <td>-0.171087</td>\n      <td>-0.134147</td>\n      <td>-0.613840</td>\n      <td>...</td>\n      <td>-0.085168</td>\n      <td>-0.093327</td>\n      <td>-0.155175</td>\n      <td>-0.101159</td>\n      <td>-0.141017</td>\n      <td>-0.107157</td>\n      <td>-0.111078</td>\n      <td>-0.123178</td>\n      <td>-0.092808</td>\n      <td>-0.145267</td>\n    </tr>\n    <tr>\n      <th>4</th>\n      <td>-0.945219</td>\n      <td>-0.487921</td>\n      <td>-0.443307</td>\n      <td>-1.465466</td>\n      <td>1.646961</td>\n      <td>-0.315846</td>\n      <td>-0.202024</td>\n      <td>-0.171087</td>\n      <td>-0.134147</td>\n      <td>-0.613840</td>\n      <td>...</td>\n      <td>-0.085168</td>\n      <td>-0.093327</td>\n      <td>-0.155175</td>\n      <td>-0.101159</td>\n      <td>-0.141017</td>\n      <td>-0.107157</td>\n      <td>-0.111078</td>\n      <td>-0.123178</td>\n      <td>-0.092808</td>\n      <td>-0.145267</td>\n    </tr>\n    <tr>\n      <th>...</th>\n      <td>...</td>\n      <td>...</td>\n      <td>...</td>\n      <td>...</td>\n      <td>...</td>\n      <td>...</td>\n      <td>...</td>\n      <td>...</td>\n      <td>...</td>\n      <td>...</td>\n      <td>...</td>\n      <td>...</td>\n      <td>...</td>\n      <td>...</td>\n      <td>...</td>\n      <td>...</td>\n      <td>...</td>\n      <td>...</td>\n      <td>...</td>\n      <td>...</td>\n      <td>...</td>\n    </tr>\n    <tr>\n      <th>147190</th>\n      <td>0.403454</td>\n      <td>0.231357</td>\n      <td>-1.020908</td>\n      <td>-1.465466</td>\n      <td>-0.206309</td>\n      <td>3.166100</td>\n      <td>-0.202024</td>\n      <td>-0.171087</td>\n      <td>-0.134147</td>\n      <td>-0.613840</td>\n      <td>...</td>\n      <td>-0.085168</td>\n      <td>-0.093327</td>\n      <td>-0.155175</td>\n      <td>-0.101159</td>\n      <td>-0.141017</td>\n      <td>-0.107157</td>\n      <td>-0.111078</td>\n      <td>-0.123178</td>\n      <td>-0.092808</td>\n      <td>-0.145267</td>\n    </tr>\n    <tr>\n      <th>147191</th>\n      <td>-0.776635</td>\n      <td>-1.207198</td>\n      <td>-1.020908</td>\n      <td>-1.465466</td>\n      <td>0.720326</td>\n      <td>-0.315846</td>\n      <td>-0.202024</td>\n      <td>-0.171087</td>\n      <td>-0.134147</td>\n      <td>-0.613840</td>\n      <td>...</td>\n      <td>-0.085168</td>\n      <td>-0.093327</td>\n      <td>-0.155175</td>\n      <td>-0.101159</td>\n      <td>-0.141017</td>\n      <td>-0.107157</td>\n      <td>-0.111078</td>\n      <td>-0.123178</td>\n      <td>-0.092808</td>\n      <td>-0.145267</td>\n    </tr>\n    <tr>\n      <th>147192</th>\n      <td>-0.439467</td>\n      <td>-1.207198</td>\n      <td>-1.020908</td>\n      <td>0.515763</td>\n      <td>-0.206309</td>\n      <td>-0.315846</td>\n      <td>-0.202024</td>\n      <td>-0.171087</td>\n      <td>-0.134147</td>\n      <td>1.629089</td>\n      <td>...</td>\n      <td>-0.085168</td>\n      <td>-0.093327</td>\n      <td>-0.155175</td>\n      <td>-0.101159</td>\n      <td>-0.141017</td>\n      <td>-0.107157</td>\n      <td>-0.111078</td>\n      <td>-0.123178</td>\n      <td>-0.092808</td>\n      <td>-0.145267</td>\n    </tr>\n    <tr>\n      <th>147193</th>\n      <td>-0.439467</td>\n      <td>-1.207198</td>\n      <td>-1.020908</td>\n      <td>-1.465466</td>\n      <td>0.720326</td>\n      <td>-0.315846</td>\n      <td>-0.202024</td>\n      <td>-0.171087</td>\n      <td>-0.134147</td>\n      <td>1.629089</td>\n      <td>...</td>\n      <td>-0.085168</td>\n      <td>-0.093327</td>\n      <td>-0.155175</td>\n      <td>-0.101159</td>\n      <td>-0.141017</td>\n      <td>-0.107157</td>\n      <td>-0.111078</td>\n      <td>-0.123178</td>\n      <td>-0.092808</td>\n      <td>-0.145267</td>\n    </tr>\n    <tr>\n      <th>147194</th>\n      <td>-0.860927</td>\n      <td>0.950634</td>\n      <td>-1.020908</td>\n      <td>-1.465466</td>\n      <td>-1.132944</td>\n      <td>-0.315846</td>\n      <td>-0.202024</td>\n      <td>-0.171087</td>\n      <td>-0.134147</td>\n      <td>-0.613840</td>\n      <td>...</td>\n      <td>-0.085168</td>\n      <td>-0.093327</td>\n      <td>-0.155175</td>\n      <td>-0.101159</td>\n      <td>-0.141017</td>\n      <td>-0.107157</td>\n      <td>-0.111078</td>\n      <td>-0.123178</td>\n      <td>-0.092808</td>\n      <td>-0.145267</td>\n    </tr>\n  </tbody>\n</table>\n<p>147195 rows × 62 columns</p>\n</div>"
     },
     "metadata": {},
     "execution_count": 12
    }
   ],
   "source": [
    "#drop resolutions column now to get dataframe ready for PCA \n",
    "scaled_features.head()\n",
    "scaled_features.drop(columns = \"Resolutions\")"
   ]
  },
  {
   "cell_type": "code",
   "execution_count": 13,
   "metadata": {},
   "outputs": [
    {
     "output_type": "execute_result",
     "data": {
      "text/plain": [
       "array([[ 1.00000679e+00, -2.42182413e-01,  7.50984651e-03, ...,\n",
       "        -4.66277050e-03, -4.65223481e-03, -2.65663045e-02],\n",
       "       [-2.42182413e-01,  1.00000679e+00, -6.50692929e-03, ...,\n",
       "         7.97937823e-03,  1.95516739e-03,  2.56055687e-02],\n",
       "       [ 7.50984651e-03, -6.50692929e-03,  1.00000679e+00, ...,\n",
       "         4.20500797e-04,  1.46079149e-03, -9.43971555e-03],\n",
       "       ...,\n",
       "       [-4.66277050e-03,  7.97937823e-03,  4.20500797e-04, ...,\n",
       "         1.00000679e+00, -1.14319738e-02, -1.78939220e-02],\n",
       "       [-4.65223481e-03,  1.95516739e-03,  1.46079149e-03, ...,\n",
       "        -1.14319738e-02,  1.00000679e+00, -1.34819948e-02],\n",
       "       [-2.65663045e-02,  2.56055687e-02, -9.43971555e-03, ...,\n",
       "        -1.78939220e-02, -1.34819948e-02,  1.00000679e+00]])"
      ]
     },
     "metadata": {},
     "execution_count": 13
    }
   ],
   "source": [
    "df_cov_matrix = np.cov(scaled_features.T)\n",
    "df_cov_matrix\n"
   ]
  },
  {
   "cell_type": "code",
   "execution_count": 14,
   "metadata": {},
   "outputs": [
    {
     "output_type": "stream",
     "name": "stdout",
     "text": [
      "Eigenvectors \n[[-3.46226203e-02  4.65370499e-02 -3.08608652e-02 ... -5.61839045e-03\n   9.25842061e-03  3.92245712e-03]\n [ 2.95565894e-02 -4.13968529e-02  2.02805631e-02 ... -1.06428261e-03\n  -2.23340706e-03 -9.84587100e-03]\n [ 9.40180578e-03  1.36442850e-02 -1.80212940e-03 ...  2.85277162e-02\n  -3.47023632e-02  1.33728952e-02]\n ...\n [-6.75575255e-02 -9.09813571e-02  8.70443477e-03 ... -1.00177878e-01\n   1.38900451e-01  1.73948359e-03]\n [-3.35085185e-02 -2.35472973e-02  1.39954919e-02 ...  1.45233997e-04\n  -9.07520249e-05  8.93082681e-04]\n [-5.62322553e-02 -1.92985200e-01  3.33424300e-01 ...  3.25206356e-02\n  -1.58907439e-02  3.02807878e-02]]\nEigenvalues \n[2.36452417e+00 2.05620278e+00 2.03340965e+00 2.02520913e+00\n 2.00419477e+00 1.97045568e+00 1.94366763e+00 1.93917522e+00\n 1.86474774e+00 1.84756963e+00 1.81993145e+00 1.73176823e+00\n 1.52124875e+00 4.30672770e-01 2.73962083e-01 3.33308605e-02\n 2.00386838e-01 1.78344178e-01 1.64513642e-01 1.50949220e-01\n 6.12604275e-02 7.44055487e-02 8.91202585e-02 1.17697092e-01\n 9.61159882e-02 1.04821210e-01 6.14582332e-01 7.49739049e-01\n 1.24565700e+00 7.29610280e-16 4.35410864e-16 9.25785865e-01\n 1.08275025e+00 9.65814987e-01 1.06145017e+00 9.80029089e-01\n 1.04878139e+00 9.93218868e-01 1.03620199e+00 1.03401545e+00\n 1.02939572e+00 1.02810973e+00 1.02723979e+00 1.02381808e+00\n 1.02342525e+00 1.02029100e+00 1.01887759e+00 1.01808331e+00\n 1.01706561e+00 1.01515698e+00 1.01458906e+00 1.01372341e+00\n 1.01320778e+00 1.01250265e+00 1.00781003e+00 1.00800527e+00\n 1.00834836e+00 1.00867191e+00 1.00926683e+00 1.01166548e+00\n 1.01135953e+00 1.00983295e+00 1.01033908e+00]\n"
     ]
    }
   ],
   "source": [
    "#calculate eigenvectors and eigenvalues on covariance matrix\n",
    "eig_vals, eig_vecs = np.linalg.eig(df_cov_matrix)\n",
    "print('Eigenvectors \\n%s' %eig_vecs)\n",
    "print('Eigenvalues \\n%s' %eig_vals)"
   ]
  },
  {
   "cell_type": "code",
   "execution_count": 15,
   "metadata": {},
   "outputs": [
    {
     "output_type": "stream",
     "name": "stdout",
     "text": [
      "Eigenvalues in descending order:\n2.3645241658220817\n2.0562027805944356\n2.0334096509004937\n2.0252091274729813\n2.0041947656667918\n1.970455675133868\n1.9436676343477166\n1.9391752173334516\n1.8647477399002468\n1.8475696322943314\n1.8199314498053596\n1.731768231818215\n1.5212487536842572\n0.430672770223723\n0.27396208313609316\n0.03333086053680912\n0.20038683841635324\n0.17834417848591533\n0.16451364157301415\n0.15094922036263914\n0.06126042750622132\n0.07440554872727938\n0.0891202584903579\n0.117697092461063\n0.09611598817786553\n0.1048212097735567\n0.6145823322091635\n0.7497390489751495\n1.245656999853893\n7.296102803131728e-16\n4.354108636522739e-16\n0.9257858651223206\n1.0827502486239116\n0.9658149866063381\n1.0614501733484025\n0.9800290893265349\n1.048781390535876\n0.9932188679471031\n1.0362019904271857\n1.0340154539504613\n1.0293957227665567\n1.0281097305044113\n1.027239794871058\n1.0238180824100453\n1.0234252468920637\n1.020290997996332\n1.0188775851893628\n1.0180833110716316\n1.0170656132585318\n1.015156980891978\n1.0145890642024917\n1.0137234119412197\n1.01320778198276\n1.012502653681937\n1.0078100323238943\n1.0080052681753693\n1.0083483607621169\n1.0086719124097814\n1.0092668303402592\n1.0116654763570088\n1.0113595255519536\n1.0098329536629151\n1.0103390774685717\n"
     ]
    }
   ],
   "source": [
    "#sort eigenvalues in decreasing order. first value is most significant and forms our first principal component\n",
    "eig_pairs = [(np.abs(eig_vals[i]), eig_vecs[:,i]) for i in range(len(eig_vals))]\n",
    "print('Eigenvalues in descending order:')\n",
    "for i in eig_pairs:\n",
    "    print(i[0])"
   ]
  },
  {
   "cell_type": "code",
   "execution_count": 16,
   "metadata": {},
   "outputs": [
    {
     "output_type": "stream",
     "name": "stdout",
     "text": [
      "Variance captured by each component is \n [3.801699914486546, 3.3059784493406013, 3.2693314822844566, 3.256146618427385, 3.2223595678925037, 3.1681136018550724, 3.125043586399947, 3.1178206442004828, 2.9981555806400566, 2.9705364887481602, 2.926099609005653, 2.784350117447356, 2.4458753014196812, 2.0027767862451373, 1.7408540741949603, 1.7066076513738568, 1.6862386861371301, 1.6660134310905728, 1.6624979011345933, 1.6550702622461173, 1.6530026341187776, 1.6516039449995326, 1.6461024897137466, 1.6454708857839986, 1.6404316166020148, 1.638159120754834, 1.636882080795123, 1.6352458185208953, 1.6321771049041787, 1.631264004136987, 1.6298722018559098, 1.6290431680920272, 1.6279094574538835, 1.6265634373917524, 1.6260715273634145, 1.6244308431837364, 1.6236170934845382, 1.6227068761061587, 1.6217503625386023, 1.6212301537418226, 1.6206785268747546, 1.6203646251897619, 1.5969048402718016, 1.5756982140174756, 1.5528446716951083, 1.4884855461160924, 1.205436137881502, 0.988130142028891, 0.6924389513109376, 0.44047831825348766, 0.32218348092324034, 0.28674312485334713, 0.26450628254947545, 0.24269730309351223, 0.18923427927367883, 0.1685323372848505, 0.15453601587934712, 0.1432882285489427, 0.11962980642047152, 0.09849498067229095, 0.05358961074880586, 1.1730729507307584e-15, 7.000568939154229e-16]\nCumulative variance captured as we travel with each component \n [  3.80169991   7.10767836  10.37700985  13.63315646  16.85551603\n  20.02362963  23.14867322  26.26649386  29.26464945  32.23518593\n  35.16128554  37.94563566  40.39151096  42.39428775  44.13514182\n  45.84174947  47.52798816  49.19400159  50.85649949  52.51156975\n  54.16457239  55.81617633  57.46227882  59.10774971  60.74818133\n  62.38634045  64.02322253  65.65846835  67.29064545  68.92190945\n  70.55178166  72.18082482  73.80873428  75.43529772  77.06136925\n  78.68580009  80.30941718  81.93212406  83.55387442  85.17510458\n  86.7957831   88.41614773  90.01305257  91.58875078  93.14159545\n  94.630081    95.83551714  96.82364728  97.51608623  97.95656455\n  98.27874803  98.56549116  98.82999744  99.07269474  99.26192902\n  99.43046136  99.58499737  99.7282856   99.84791541  99.94641039\n 100.         100.         100.        ]\n"
     ]
    }
   ],
   "source": [
    "#selecting the number of principal components\n",
    "total = sum(eig_vals)\n",
    "var_exp = [(i/total)*100 for i in sorted(eig_vals, reverse=True)]\n",
    "cum_var_exp = np.cumsum(var_exp)\n",
    "print(\"Variance captured by each component is \\n\", var_exp)\n",
    "print(\"Cumulative variance captured as we travel with each component \\n\", cum_var_exp)"
   ]
  },
  {
   "cell_type": "code",
   "execution_count": 17,
   "metadata": {},
   "outputs": [
    {
     "output_type": "display_data",
     "data": {
      "text/plain": "<Figure size 432x288 with 1 Axes>",
      "image/svg+xml": "<?xml version=\"1.0\" encoding=\"utf-8\" standalone=\"no\"?>\n<!DOCTYPE svg PUBLIC \"-//W3C//DTD SVG 1.1//EN\"\n  \"http://www.w3.org/Graphics/SVG/1.1/DTD/svg11.dtd\">\n<!-- Created with matplotlib (https://matplotlib.org/) -->\n<svg height=\"266.520469pt\" version=\"1.1\" viewBox=\"0 0 388.964375 266.520469\" width=\"388.964375pt\" xmlns=\"http://www.w3.org/2000/svg\" xmlns:xlink=\"http://www.w3.org/1999/xlink\">\n <defs>\n  <style type=\"text/css\">\n*{stroke-linecap:butt;stroke-linejoin:round;}\n  </style>\n </defs>\n <g id=\"figure_1\">\n  <g id=\"patch_1\">\n   <path d=\"M 0 266.520469 \nL 388.964375 266.520469 \nL 388.964375 0 \nL 0 0 \nz\n\" style=\"fill:#ffffff;\"/>\n  </g>\n  <g id=\"axes_1\">\n   <g id=\"patch_2\">\n    <path d=\"M 46.964375 224.64 \nL 381.764375 224.64 \nL 381.764375 7.2 \nL 46.964375 7.2 \nz\n\" style=\"fill:#ffffff;\"/>\n   </g>\n   <g id=\"matplotlib.axis_1\">\n    <g id=\"xtick_1\">\n     <g id=\"line2d_1\">\n      <path clip-path=\"url(#p9fea9ae58f)\" d=\"M 62.182557 224.64 \nL 62.182557 7.2 \n\" style=\"fill:none;stroke:#cccccc;stroke-linecap:round;\"/>\n     </g>\n     <g id=\"text_1\">\n      <!-- 0 -->\n      <defs>\n       <path d=\"M 4.15625 35.296875 \nQ 4.15625 48 6.765625 55.734375 \nQ 9.375 63.484375 14.515625 67.671875 \nQ 19.671875 71.875 27.484375 71.875 \nQ 33.25 71.875 37.59375 69.546875 \nQ 41.9375 67.234375 44.765625 62.859375 \nQ 47.609375 58.5 49.21875 52.21875 \nQ 50.828125 45.953125 50.828125 35.296875 \nQ 50.828125 22.703125 48.234375 14.96875 \nQ 45.65625 7.234375 40.5 3 \nQ 35.359375 -1.21875 27.484375 -1.21875 \nQ 17.140625 -1.21875 11.234375 6.203125 \nQ 4.15625 15.140625 4.15625 35.296875 \nz\nM 13.1875 35.296875 \nQ 13.1875 17.671875 17.3125 11.828125 \nQ 21.4375 6 27.484375 6 \nQ 33.546875 6 37.671875 11.859375 \nQ 41.796875 17.71875 41.796875 35.296875 \nQ 41.796875 52.984375 37.671875 58.78125 \nQ 33.546875 64.59375 27.390625 64.59375 \nQ 21.34375 64.59375 17.71875 59.46875 \nQ 13.1875 52.9375 13.1875 35.296875 \nz\n\" id=\"ArialMT-48\"/>\n      </defs>\n      <g style=\"fill:#262626;\" transform=\"translate(59.124041 242.013594)scale(0.11 -0.11)\">\n       <use xlink:href=\"#ArialMT-48\"/>\n      </g>\n     </g>\n    </g>\n    <g id=\"xtick_2\">\n     <g id=\"line2d_2\">\n      <path clip-path=\"url(#p9fea9ae58f)\" d=\"M 112.078235 224.64 \nL 112.078235 7.2 \n\" style=\"fill:none;stroke:#cccccc;stroke-linecap:round;\"/>\n     </g>\n     <g id=\"text_2\">\n      <!-- 10 -->\n      <defs>\n       <path d=\"M 37.25 0 \nL 28.46875 0 \nL 28.46875 56 \nQ 25.296875 52.984375 20.140625 49.953125 \nQ 14.984375 46.921875 10.890625 45.40625 \nL 10.890625 53.90625 \nQ 18.265625 57.375 23.78125 62.296875 \nQ 29.296875 67.234375 31.59375 71.875 \nL 37.25 71.875 \nz\n\" id=\"ArialMT-49\"/>\n      </defs>\n      <g style=\"fill:#262626;\" transform=\"translate(105.961204 242.013594)scale(0.11 -0.11)\">\n       <use xlink:href=\"#ArialMT-49\"/>\n       <use x=\"55.615234\" xlink:href=\"#ArialMT-48\"/>\n      </g>\n     </g>\n    </g>\n    <g id=\"xtick_3\">\n     <g id=\"line2d_3\">\n      <path clip-path=\"url(#p9fea9ae58f)\" d=\"M 161.973913 224.64 \nL 161.973913 7.2 \n\" style=\"fill:none;stroke:#cccccc;stroke-linecap:round;\"/>\n     </g>\n     <g id=\"text_3\">\n      <!-- 20 -->\n      <defs>\n       <path d=\"M 50.34375 8.453125 \nL 50.34375 0 \nL 3.03125 0 \nQ 2.9375 3.171875 4.046875 6.109375 \nQ 5.859375 10.9375 9.828125 15.625 \nQ 13.8125 20.3125 21.34375 26.46875 \nQ 33.015625 36.03125 37.109375 41.625 \nQ 41.21875 47.21875 41.21875 52.203125 \nQ 41.21875 57.421875 37.46875 61 \nQ 33.734375 64.59375 27.734375 64.59375 \nQ 21.390625 64.59375 17.578125 60.78125 \nQ 13.765625 56.984375 13.71875 50.25 \nL 4.6875 51.171875 \nQ 5.609375 61.28125 11.65625 66.578125 \nQ 17.71875 71.875 27.9375 71.875 \nQ 38.234375 71.875 44.234375 66.15625 \nQ 50.25 60.453125 50.25 52 \nQ 50.25 47.703125 48.484375 43.546875 \nQ 46.734375 39.40625 42.65625 34.8125 \nQ 38.578125 30.21875 29.109375 22.21875 \nQ 21.1875 15.578125 18.9375 13.203125 \nQ 16.703125 10.84375 15.234375 8.453125 \nz\n\" id=\"ArialMT-50\"/>\n      </defs>\n      <g style=\"fill:#262626;\" transform=\"translate(155.856882 242.013594)scale(0.11 -0.11)\">\n       <use xlink:href=\"#ArialMT-50\"/>\n       <use x=\"55.615234\" xlink:href=\"#ArialMT-48\"/>\n      </g>\n     </g>\n    </g>\n    <g id=\"xtick_4\">\n     <g id=\"line2d_4\">\n      <path clip-path=\"url(#p9fea9ae58f)\" d=\"M 211.869591 224.64 \nL 211.869591 7.2 \n\" style=\"fill:none;stroke:#cccccc;stroke-linecap:round;\"/>\n     </g>\n     <g id=\"text_4\">\n      <!-- 30 -->\n      <defs>\n       <path d=\"M 4.203125 18.890625 \nL 12.984375 20.0625 \nQ 14.5 12.59375 18.140625 9.296875 \nQ 21.78125 6 27 6 \nQ 33.203125 6 37.46875 10.296875 \nQ 41.75 14.59375 41.75 20.953125 \nQ 41.75 27 37.796875 30.921875 \nQ 33.84375 34.859375 27.734375 34.859375 \nQ 25.25 34.859375 21.53125 33.890625 \nL 22.515625 41.609375 \nQ 23.390625 41.5 23.921875 41.5 \nQ 29.546875 41.5 34.03125 44.421875 \nQ 38.53125 47.359375 38.53125 53.46875 \nQ 38.53125 58.296875 35.25 61.46875 \nQ 31.984375 64.65625 26.8125 64.65625 \nQ 21.6875 64.65625 18.265625 61.421875 \nQ 14.84375 58.203125 13.875 51.765625 \nL 5.078125 53.328125 \nQ 6.6875 62.15625 12.390625 67.015625 \nQ 18.109375 71.875 26.609375 71.875 \nQ 32.46875 71.875 37.390625 69.359375 \nQ 42.328125 66.84375 44.9375 62.5 \nQ 47.5625 58.15625 47.5625 53.265625 \nQ 47.5625 48.640625 45.0625 44.828125 \nQ 42.578125 41.015625 37.703125 38.765625 \nQ 44.046875 37.3125 47.5625 32.6875 \nQ 51.078125 28.078125 51.078125 21.140625 \nQ 51.078125 11.765625 44.234375 5.25 \nQ 37.40625 -1.265625 26.953125 -1.265625 \nQ 17.53125 -1.265625 11.296875 4.34375 \nQ 5.078125 9.96875 4.203125 18.890625 \nz\n\" id=\"ArialMT-51\"/>\n      </defs>\n      <g style=\"fill:#262626;\" transform=\"translate(205.75256 242.013594)scale(0.11 -0.11)\">\n       <use xlink:href=\"#ArialMT-51\"/>\n       <use x=\"55.615234\" xlink:href=\"#ArialMT-48\"/>\n      </g>\n     </g>\n    </g>\n    <g id=\"xtick_5\">\n     <g id=\"line2d_5\">\n      <path clip-path=\"url(#p9fea9ae58f)\" d=\"M 261.765269 224.64 \nL 261.765269 7.2 \n\" style=\"fill:none;stroke:#cccccc;stroke-linecap:round;\"/>\n     </g>\n     <g id=\"text_5\">\n      <!-- 40 -->\n      <defs>\n       <path d=\"M 32.328125 0 \nL 32.328125 17.140625 \nL 1.265625 17.140625 \nL 1.265625 25.203125 \nL 33.9375 71.578125 \nL 41.109375 71.578125 \nL 41.109375 25.203125 \nL 50.78125 25.203125 \nL 50.78125 17.140625 \nL 41.109375 17.140625 \nL 41.109375 0 \nz\nM 32.328125 25.203125 \nL 32.328125 57.46875 \nL 9.90625 25.203125 \nz\n\" id=\"ArialMT-52\"/>\n      </defs>\n      <g style=\"fill:#262626;\" transform=\"translate(255.648238 242.013594)scale(0.11 -0.11)\">\n       <use xlink:href=\"#ArialMT-52\"/>\n       <use x=\"55.615234\" xlink:href=\"#ArialMT-48\"/>\n      </g>\n     </g>\n    </g>\n    <g id=\"xtick_6\">\n     <g id=\"line2d_6\">\n      <path clip-path=\"url(#p9fea9ae58f)\" d=\"M 311.660947 224.64 \nL 311.660947 7.2 \n\" style=\"fill:none;stroke:#cccccc;stroke-linecap:round;\"/>\n     </g>\n     <g id=\"text_6\">\n      <!-- 50 -->\n      <defs>\n       <path d=\"M 4.15625 18.75 \nL 13.375 19.53125 \nQ 14.40625 12.796875 18.140625 9.390625 \nQ 21.875 6 27.15625 6 \nQ 33.5 6 37.890625 10.78125 \nQ 42.28125 15.578125 42.28125 23.484375 \nQ 42.28125 31 38.0625 35.34375 \nQ 33.84375 39.703125 27 39.703125 \nQ 22.75 39.703125 19.328125 37.765625 \nQ 15.921875 35.84375 13.96875 32.765625 \nL 5.71875 33.84375 \nL 12.640625 70.609375 \nL 48.25 70.609375 \nL 48.25 62.203125 \nL 19.671875 62.203125 \nL 15.828125 42.96875 \nQ 22.265625 47.46875 29.34375 47.46875 \nQ 38.71875 47.46875 45.15625 40.96875 \nQ 51.609375 34.46875 51.609375 24.265625 \nQ 51.609375 14.546875 45.953125 7.46875 \nQ 39.0625 -1.21875 27.15625 -1.21875 \nQ 17.390625 -1.21875 11.203125 4.25 \nQ 5.03125 9.71875 4.15625 18.75 \nz\n\" id=\"ArialMT-53\"/>\n      </defs>\n      <g style=\"fill:#262626;\" transform=\"translate(305.543916 242.013594)scale(0.11 -0.11)\">\n       <use xlink:href=\"#ArialMT-53\"/>\n       <use x=\"55.615234\" xlink:href=\"#ArialMT-48\"/>\n      </g>\n     </g>\n    </g>\n    <g id=\"xtick_7\">\n     <g id=\"line2d_7\">\n      <path clip-path=\"url(#p9fea9ae58f)\" d=\"M 361.556625 224.64 \nL 361.556625 7.2 \n\" style=\"fill:none;stroke:#cccccc;stroke-linecap:round;\"/>\n     </g>\n     <g id=\"text_7\">\n      <!-- 60 -->\n      <defs>\n       <path d=\"M 49.75 54.046875 \nL 41.015625 53.375 \nQ 39.84375 58.546875 37.703125 60.890625 \nQ 34.125 64.65625 28.90625 64.65625 \nQ 24.703125 64.65625 21.53125 62.3125 \nQ 17.390625 59.28125 14.984375 53.46875 \nQ 12.59375 47.65625 12.5 36.921875 \nQ 15.671875 41.75 20.265625 44.09375 \nQ 24.859375 46.4375 29.890625 46.4375 \nQ 38.671875 46.4375 44.84375 39.96875 \nQ 51.03125 33.5 51.03125 23.25 \nQ 51.03125 16.5 48.125 10.71875 \nQ 45.21875 4.9375 40.140625 1.859375 \nQ 35.0625 -1.21875 28.609375 -1.21875 \nQ 17.625 -1.21875 10.6875 6.859375 \nQ 3.765625 14.9375 3.765625 33.5 \nQ 3.765625 54.25 11.421875 63.671875 \nQ 18.109375 71.875 29.4375 71.875 \nQ 37.890625 71.875 43.28125 67.140625 \nQ 48.6875 62.40625 49.75 54.046875 \nz\nM 13.875 23.1875 \nQ 13.875 18.65625 15.796875 14.5 \nQ 17.71875 10.359375 21.1875 8.171875 \nQ 24.65625 6 28.46875 6 \nQ 34.03125 6 38.03125 10.484375 \nQ 42.046875 14.984375 42.046875 22.703125 \nQ 42.046875 30.125 38.078125 34.390625 \nQ 34.125 38.671875 28.125 38.671875 \nQ 22.171875 38.671875 18.015625 34.390625 \nQ 13.875 30.125 13.875 23.1875 \nz\n\" id=\"ArialMT-54\"/>\n      </defs>\n      <g style=\"fill:#262626;\" transform=\"translate(355.439594 242.013594)scale(0.11 -0.11)\">\n       <use xlink:href=\"#ArialMT-54\"/>\n       <use x=\"55.615234\" xlink:href=\"#ArialMT-48\"/>\n      </g>\n     </g>\n    </g>\n    <g id=\"text_8\">\n     <!-- No of components -->\n     <defs>\n      <path d=\"M 7.625 0 \nL 7.625 71.578125 \nL 17.328125 71.578125 \nL 54.9375 15.375 \nL 54.9375 71.578125 \nL 64.015625 71.578125 \nL 64.015625 0 \nL 54.296875 0 \nL 16.703125 56.25 \nL 16.703125 0 \nz\n\" id=\"ArialMT-78\"/>\n      <path d=\"M 3.328125 25.921875 \nQ 3.328125 40.328125 11.328125 47.265625 \nQ 18.015625 53.03125 27.640625 53.03125 \nQ 38.328125 53.03125 45.109375 46.015625 \nQ 51.90625 39.015625 51.90625 26.65625 \nQ 51.90625 16.65625 48.90625 10.90625 \nQ 45.90625 5.171875 40.15625 2 \nQ 34.421875 -1.171875 27.640625 -1.171875 \nQ 16.75 -1.171875 10.03125 5.8125 \nQ 3.328125 12.796875 3.328125 25.921875 \nz\nM 12.359375 25.921875 \nQ 12.359375 15.96875 16.703125 11.015625 \nQ 21.046875 6.0625 27.640625 6.0625 \nQ 34.1875 6.0625 38.53125 11.03125 \nQ 42.875 16.015625 42.875 26.21875 \nQ 42.875 35.84375 38.5 40.796875 \nQ 34.125 45.75 27.640625 45.75 \nQ 21.046875 45.75 16.703125 40.8125 \nQ 12.359375 35.890625 12.359375 25.921875 \nz\n\" id=\"ArialMT-111\"/>\n      <path id=\"ArialMT-32\"/>\n      <path d=\"M 8.6875 0 \nL 8.6875 45.015625 \nL 0.921875 45.015625 \nL 0.921875 51.859375 \nL 8.6875 51.859375 \nL 8.6875 57.375 \nQ 8.6875 62.59375 9.625 65.140625 \nQ 10.890625 68.5625 14.078125 70.671875 \nQ 17.28125 72.796875 23.046875 72.796875 \nQ 26.765625 72.796875 31.25 71.921875 \nL 29.9375 64.265625 \nQ 27.203125 64.75 24.75 64.75 \nQ 20.75 64.75 19.09375 63.03125 \nQ 17.4375 61.328125 17.4375 56.640625 \nL 17.4375 51.859375 \nL 27.546875 51.859375 \nL 27.546875 45.015625 \nL 17.4375 45.015625 \nL 17.4375 0 \nz\n\" id=\"ArialMT-102\"/>\n      <path d=\"M 40.4375 19 \nL 49.078125 17.875 \nQ 47.65625 8.9375 41.8125 3.875 \nQ 35.984375 -1.171875 27.484375 -1.171875 \nQ 16.84375 -1.171875 10.375 5.78125 \nQ 3.90625 12.75 3.90625 25.734375 \nQ 3.90625 34.125 6.6875 40.421875 \nQ 9.46875 46.734375 15.15625 49.875 \nQ 20.84375 53.03125 27.546875 53.03125 \nQ 35.984375 53.03125 41.359375 48.75 \nQ 46.734375 44.484375 48.25 36.625 \nL 39.703125 35.296875 \nQ 38.484375 40.53125 35.375 43.15625 \nQ 32.28125 45.796875 27.875 45.796875 \nQ 21.234375 45.796875 17.078125 41.03125 \nQ 12.9375 36.28125 12.9375 25.984375 \nQ 12.9375 15.53125 16.9375 10.796875 \nQ 20.953125 6.0625 27.390625 6.0625 \nQ 32.5625 6.0625 36.03125 9.234375 \nQ 39.5 12.40625 40.4375 19 \nz\n\" id=\"ArialMT-99\"/>\n      <path d=\"M 6.59375 0 \nL 6.59375 51.859375 \nL 14.453125 51.859375 \nL 14.453125 44.578125 \nQ 16.890625 48.390625 20.9375 50.703125 \nQ 25 53.03125 30.171875 53.03125 \nQ 35.9375 53.03125 39.625 50.640625 \nQ 43.3125 48.25 44.828125 43.953125 \nQ 50.984375 53.03125 60.84375 53.03125 \nQ 68.5625 53.03125 72.703125 48.75 \nQ 76.859375 44.484375 76.859375 35.59375 \nL 76.859375 0 \nL 68.109375 0 \nL 68.109375 32.671875 \nQ 68.109375 37.9375 67.25 40.25 \nQ 66.40625 42.578125 64.15625 43.984375 \nQ 61.921875 45.40625 58.890625 45.40625 \nQ 53.421875 45.40625 49.796875 41.765625 \nQ 46.1875 38.140625 46.1875 30.125 \nL 46.1875 0 \nL 37.40625 0 \nL 37.40625 33.6875 \nQ 37.40625 39.546875 35.25 42.46875 \nQ 33.109375 45.40625 28.21875 45.40625 \nQ 24.515625 45.40625 21.359375 43.453125 \nQ 18.21875 41.5 16.796875 37.734375 \nQ 15.375 33.984375 15.375 26.90625 \nL 15.375 0 \nz\n\" id=\"ArialMT-109\"/>\n      <path d=\"M 6.59375 -19.875 \nL 6.59375 51.859375 \nL 14.59375 51.859375 \nL 14.59375 45.125 \nQ 17.4375 49.078125 21 51.046875 \nQ 24.5625 53.03125 29.640625 53.03125 \nQ 36.28125 53.03125 41.359375 49.609375 \nQ 46.4375 46.1875 49.015625 39.953125 \nQ 51.609375 33.734375 51.609375 26.3125 \nQ 51.609375 18.359375 48.75 11.984375 \nQ 45.90625 5.609375 40.453125 2.21875 \nQ 35.015625 -1.171875 29 -1.171875 \nQ 24.609375 -1.171875 21.109375 0.6875 \nQ 17.625 2.546875 15.375 5.375 \nL 15.375 -19.875 \nz\nM 14.546875 25.640625 \nQ 14.546875 15.625 18.59375 10.84375 \nQ 22.65625 6.0625 28.421875 6.0625 \nQ 34.28125 6.0625 38.453125 11.015625 \nQ 42.625 15.96875 42.625 26.375 \nQ 42.625 36.28125 38.546875 41.203125 \nQ 34.46875 46.140625 28.8125 46.140625 \nQ 23.1875 46.140625 18.859375 40.890625 \nQ 14.546875 35.640625 14.546875 25.640625 \nz\n\" id=\"ArialMT-112\"/>\n      <path d=\"M 6.59375 0 \nL 6.59375 51.859375 \nL 14.5 51.859375 \nL 14.5 44.484375 \nQ 20.21875 53.03125 31 53.03125 \nQ 35.6875 53.03125 39.625 51.34375 \nQ 43.5625 49.65625 45.515625 46.921875 \nQ 47.46875 44.1875 48.25 40.4375 \nQ 48.734375 37.984375 48.734375 31.890625 \nL 48.734375 0 \nL 39.9375 0 \nL 39.9375 31.546875 \nQ 39.9375 36.921875 38.90625 39.578125 \nQ 37.890625 42.234375 35.28125 43.8125 \nQ 32.671875 45.40625 29.15625 45.40625 \nQ 23.53125 45.40625 19.453125 41.84375 \nQ 15.375 38.28125 15.375 28.328125 \nL 15.375 0 \nz\n\" id=\"ArialMT-110\"/>\n      <path d=\"M 42.09375 16.703125 \nL 51.171875 15.578125 \nQ 49.03125 7.625 43.21875 3.21875 \nQ 37.40625 -1.171875 28.375 -1.171875 \nQ 17 -1.171875 10.328125 5.828125 \nQ 3.65625 12.84375 3.65625 25.484375 \nQ 3.65625 38.578125 10.390625 45.796875 \nQ 17.140625 53.03125 27.875 53.03125 \nQ 38.28125 53.03125 44.875 45.953125 \nQ 51.46875 38.875 51.46875 26.03125 \nQ 51.46875 25.25 51.421875 23.6875 \nL 12.75 23.6875 \nQ 13.234375 15.140625 17.578125 10.59375 \nQ 21.921875 6.0625 28.421875 6.0625 \nQ 33.25 6.0625 36.671875 8.59375 \nQ 40.09375 11.140625 42.09375 16.703125 \nz\nM 13.234375 30.90625 \nL 42.1875 30.90625 \nQ 41.609375 37.453125 38.875 40.71875 \nQ 34.671875 45.796875 27.984375 45.796875 \nQ 21.921875 45.796875 17.796875 41.75 \nQ 13.671875 37.703125 13.234375 30.90625 \nz\n\" id=\"ArialMT-101\"/>\n      <path d=\"M 25.78125 7.859375 \nL 27.046875 0.09375 \nQ 23.34375 -0.6875 20.40625 -0.6875 \nQ 15.625 -0.6875 12.984375 0.828125 \nQ 10.359375 2.34375 9.28125 4.8125 \nQ 8.203125 7.28125 8.203125 15.1875 \nL 8.203125 45.015625 \nL 1.765625 45.015625 \nL 1.765625 51.859375 \nL 8.203125 51.859375 \nL 8.203125 64.703125 \nL 16.9375 69.96875 \nL 16.9375 51.859375 \nL 25.78125 51.859375 \nL 25.78125 45.015625 \nL 16.9375 45.015625 \nL 16.9375 14.703125 \nQ 16.9375 10.9375 17.40625 9.859375 \nQ 17.875 8.796875 18.921875 8.15625 \nQ 19.96875 7.515625 21.921875 7.515625 \nQ 23.390625 7.515625 25.78125 7.859375 \nz\n\" id=\"ArialMT-116\"/>\n      <path d=\"M 3.078125 15.484375 \nL 11.765625 16.84375 \nQ 12.5 11.625 15.84375 8.84375 \nQ 19.1875 6.0625 25.203125 6.0625 \nQ 31.25 6.0625 34.171875 8.515625 \nQ 37.109375 10.984375 37.109375 14.3125 \nQ 37.109375 17.28125 34.515625 19 \nQ 32.71875 20.171875 25.53125 21.96875 \nQ 15.875 24.421875 12.140625 26.203125 \nQ 8.40625 27.984375 6.46875 31.125 \nQ 4.546875 34.28125 4.546875 38.09375 \nQ 4.546875 41.546875 6.125 44.5 \nQ 7.71875 47.46875 10.453125 49.421875 \nQ 12.5 50.921875 16.03125 51.96875 \nQ 19.578125 53.03125 23.640625 53.03125 \nQ 29.734375 53.03125 34.34375 51.265625 \nQ 38.96875 49.515625 41.15625 46.5 \nQ 43.359375 43.5 44.1875 38.484375 \nL 35.59375 37.3125 \nQ 35.015625 41.3125 32.203125 43.546875 \nQ 29.390625 45.796875 24.265625 45.796875 \nQ 18.21875 45.796875 15.625 43.796875 \nQ 13.03125 41.796875 13.03125 39.109375 \nQ 13.03125 37.40625 14.109375 36.03125 \nQ 15.1875 34.625 17.484375 33.6875 \nQ 18.796875 33.203125 25.25 31.453125 \nQ 34.578125 28.953125 38.25 27.359375 \nQ 41.9375 25.78125 44.03125 22.75 \nQ 46.140625 19.734375 46.140625 15.234375 \nQ 46.140625 10.84375 43.578125 6.953125 \nQ 41.015625 3.078125 36.171875 0.953125 \nQ 31.34375 -1.171875 25.25 -1.171875 \nQ 15.140625 -1.171875 9.84375 3.03125 \nQ 4.546875 7.234375 3.078125 15.484375 \nz\n\" id=\"ArialMT-115\"/>\n     </defs>\n     <g style=\"fill:#262626;\" transform=\"translate(165.673438 256.935469)scale(0.12 -0.12)\">\n      <use xlink:href=\"#ArialMT-78\"/>\n      <use x=\"72.216797\" xlink:href=\"#ArialMT-111\"/>\n      <use x=\"127.832031\" xlink:href=\"#ArialMT-32\"/>\n      <use x=\"155.615234\" xlink:href=\"#ArialMT-111\"/>\n      <use x=\"211.230469\" xlink:href=\"#ArialMT-102\"/>\n      <use x=\"239.013672\" xlink:href=\"#ArialMT-32\"/>\n      <use x=\"266.796875\" xlink:href=\"#ArialMT-99\"/>\n      <use x=\"316.796875\" xlink:href=\"#ArialMT-111\"/>\n      <use x=\"372.412109\" xlink:href=\"#ArialMT-109\"/>\n      <use x=\"455.712891\" xlink:href=\"#ArialMT-112\"/>\n      <use x=\"511.328125\" xlink:href=\"#ArialMT-111\"/>\n      <use x=\"566.943359\" xlink:href=\"#ArialMT-110\"/>\n      <use x=\"622.558594\" xlink:href=\"#ArialMT-101\"/>\n      <use x=\"678.173828\" xlink:href=\"#ArialMT-110\"/>\n      <use x=\"733.789062\" xlink:href=\"#ArialMT-116\"/>\n      <use x=\"761.572266\" xlink:href=\"#ArialMT-115\"/>\n     </g>\n    </g>\n   </g>\n   <g id=\"matplotlib.axis_2\">\n    <g id=\"ytick_1\">\n     <g id=\"line2d_8\">\n      <path clip-path=\"url(#p9fea9ae58f)\" d=\"M 46.964375 222.568273 \nL 381.764375 222.568273 \n\" style=\"fill:none;stroke:#cccccc;stroke-linecap:round;\"/>\n     </g>\n     <g id=\"text_9\">\n      <!-- 0.0 -->\n      <defs>\n       <path d=\"M 9.078125 0 \nL 9.078125 10.015625 \nL 19.09375 10.015625 \nL 19.09375 0 \nz\n\" id=\"ArialMT-46\"/>\n      </defs>\n      <g style=\"fill:#262626;\" transform=\"translate(22.174375 226.50507)scale(0.11 -0.11)\">\n       <use xlink:href=\"#ArialMT-48\"/>\n       <use x=\"55.615234\" xlink:href=\"#ArialMT-46\"/>\n       <use x=\"83.398438\" xlink:href=\"#ArialMT-48\"/>\n      </g>\n     </g>\n    </g>\n    <g id=\"ytick_2\">\n     <g id=\"line2d_9\">\n      <path clip-path=\"url(#p9fea9ae58f)\" d=\"M 46.964375 181.471346 \nL 381.764375 181.471346 \n\" style=\"fill:none;stroke:#cccccc;stroke-linecap:round;\"/>\n     </g>\n     <g id=\"text_10\">\n      <!-- 0.2 -->\n      <g style=\"fill:#262626;\" transform=\"translate(22.174375 185.408142)scale(0.11 -0.11)\">\n       <use xlink:href=\"#ArialMT-48\"/>\n       <use x=\"55.615234\" xlink:href=\"#ArialMT-46\"/>\n       <use x=\"83.398438\" xlink:href=\"#ArialMT-50\"/>\n      </g>\n     </g>\n    </g>\n    <g id=\"ytick_3\">\n     <g id=\"line2d_10\">\n      <path clip-path=\"url(#p9fea9ae58f)\" d=\"M 46.964375 140.374418 \nL 381.764375 140.374418 \n\" style=\"fill:none;stroke:#cccccc;stroke-linecap:round;\"/>\n     </g>\n     <g id=\"text_11\">\n      <!-- 0.4 -->\n      <g style=\"fill:#262626;\" transform=\"translate(22.174375 144.311215)scale(0.11 -0.11)\">\n       <use xlink:href=\"#ArialMT-48\"/>\n       <use x=\"55.615234\" xlink:href=\"#ArialMT-46\"/>\n       <use x=\"83.398438\" xlink:href=\"#ArialMT-52\"/>\n      </g>\n     </g>\n    </g>\n    <g id=\"ytick_4\">\n     <g id=\"line2d_11\">\n      <path clip-path=\"url(#p9fea9ae58f)\" d=\"M 46.964375 99.277491 \nL 381.764375 99.277491 \n\" style=\"fill:none;stroke:#cccccc;stroke-linecap:round;\"/>\n     </g>\n     <g id=\"text_12\">\n      <!-- 0.6 -->\n      <g style=\"fill:#262626;\" transform=\"translate(22.174375 103.214288)scale(0.11 -0.11)\">\n       <use xlink:href=\"#ArialMT-48\"/>\n       <use x=\"55.615234\" xlink:href=\"#ArialMT-46\"/>\n       <use x=\"83.398438\" xlink:href=\"#ArialMT-54\"/>\n      </g>\n     </g>\n    </g>\n    <g id=\"ytick_5\">\n     <g id=\"line2d_12\">\n      <path clip-path=\"url(#p9fea9ae58f)\" d=\"M 46.964375 58.180564 \nL 381.764375 58.180564 \n\" style=\"fill:none;stroke:#cccccc;stroke-linecap:round;\"/>\n     </g>\n     <g id=\"text_13\">\n      <!-- 0.8 -->\n      <defs>\n       <path d=\"M 17.671875 38.8125 \nQ 12.203125 40.828125 9.5625 44.53125 \nQ 6.9375 48.25 6.9375 53.421875 \nQ 6.9375 61.234375 12.546875 66.546875 \nQ 18.171875 71.875 27.484375 71.875 \nQ 36.859375 71.875 42.578125 66.421875 \nQ 48.296875 60.984375 48.296875 53.171875 \nQ 48.296875 48.1875 45.671875 44.5 \nQ 43.0625 40.828125 37.75 38.8125 \nQ 44.34375 36.671875 47.78125 31.875 \nQ 51.21875 27.09375 51.21875 20.453125 \nQ 51.21875 11.28125 44.71875 5.03125 \nQ 38.234375 -1.21875 27.640625 -1.21875 \nQ 17.046875 -1.21875 10.546875 5.046875 \nQ 4.046875 11.328125 4.046875 20.703125 \nQ 4.046875 27.6875 7.59375 32.390625 \nQ 11.140625 37.109375 17.671875 38.8125 \nz\nM 15.921875 53.71875 \nQ 15.921875 48.640625 19.1875 45.40625 \nQ 22.46875 42.1875 27.6875 42.1875 \nQ 32.765625 42.1875 36.015625 45.375 \nQ 39.265625 48.578125 39.265625 53.21875 \nQ 39.265625 58.0625 35.90625 61.359375 \nQ 32.5625 64.65625 27.59375 64.65625 \nQ 22.5625 64.65625 19.234375 61.421875 \nQ 15.921875 58.203125 15.921875 53.71875 \nz\nM 13.09375 20.65625 \nQ 13.09375 16.890625 14.875 13.375 \nQ 16.65625 9.859375 20.171875 7.921875 \nQ 23.6875 6 27.734375 6 \nQ 34.03125 6 38.125 10.046875 \nQ 42.234375 14.109375 42.234375 20.359375 \nQ 42.234375 26.703125 38.015625 30.859375 \nQ 33.796875 35.015625 27.4375 35.015625 \nQ 21.234375 35.015625 17.15625 30.90625 \nQ 13.09375 26.8125 13.09375 20.65625 \nz\n\" id=\"ArialMT-56\"/>\n      </defs>\n      <g style=\"fill:#262626;\" transform=\"translate(22.174375 62.117361)scale(0.11 -0.11)\">\n       <use xlink:href=\"#ArialMT-48\"/>\n       <use x=\"55.615234\" xlink:href=\"#ArialMT-46\"/>\n       <use x=\"83.398438\" xlink:href=\"#ArialMT-56\"/>\n      </g>\n     </g>\n    </g>\n    <g id=\"ytick_6\">\n     <g id=\"line2d_13\">\n      <path clip-path=\"url(#p9fea9ae58f)\" d=\"M 46.964375 17.083636 \nL 381.764375 17.083636 \n\" style=\"fill:none;stroke:#cccccc;stroke-linecap:round;\"/>\n     </g>\n     <g id=\"text_14\">\n      <!-- 1.0 -->\n      <g style=\"fill:#262626;\" transform=\"translate(22.174375 21.020433)scale(0.11 -0.11)\">\n       <use xlink:href=\"#ArialMT-49\"/>\n       <use x=\"55.615234\" xlink:href=\"#ArialMT-46\"/>\n       <use x=\"83.398438\" xlink:href=\"#ArialMT-48\"/>\n      </g>\n     </g>\n    </g>\n    <g id=\"text_15\">\n     <!-- cumulative explained variance -->\n     <defs>\n      <path d=\"M 40.578125 0 \nL 40.578125 7.625 \nQ 34.515625 -1.171875 24.125 -1.171875 \nQ 19.53125 -1.171875 15.546875 0.578125 \nQ 11.578125 2.34375 9.640625 5 \nQ 7.71875 7.671875 6.9375 11.53125 \nQ 6.390625 14.109375 6.390625 19.734375 \nL 6.390625 51.859375 \nL 15.1875 51.859375 \nL 15.1875 23.09375 \nQ 15.1875 16.21875 15.71875 13.8125 \nQ 16.546875 10.359375 19.234375 8.375 \nQ 21.921875 6.390625 25.875 6.390625 \nQ 29.828125 6.390625 33.296875 8.421875 \nQ 36.765625 10.453125 38.203125 13.9375 \nQ 39.65625 17.4375 39.65625 24.078125 \nL 39.65625 51.859375 \nL 48.4375 51.859375 \nL 48.4375 0 \nz\n\" id=\"ArialMT-117\"/>\n      <path d=\"M 6.390625 0 \nL 6.390625 71.578125 \nL 15.1875 71.578125 \nL 15.1875 0 \nz\n\" id=\"ArialMT-108\"/>\n      <path d=\"M 40.4375 6.390625 \nQ 35.546875 2.25 31.03125 0.53125 \nQ 26.515625 -1.171875 21.34375 -1.171875 \nQ 12.796875 -1.171875 8.203125 3 \nQ 3.609375 7.171875 3.609375 13.671875 \nQ 3.609375 17.484375 5.34375 20.625 \nQ 7.078125 23.78125 9.890625 25.6875 \nQ 12.703125 27.59375 16.21875 28.5625 \nQ 18.796875 29.25 24.03125 29.890625 \nQ 34.671875 31.15625 39.703125 32.90625 \nQ 39.75 34.71875 39.75 35.203125 \nQ 39.75 40.578125 37.25 42.78125 \nQ 33.890625 45.75 27.25 45.75 \nQ 21.046875 45.75 18.09375 43.578125 \nQ 15.140625 41.40625 13.71875 35.890625 \nL 5.125 37.0625 \nQ 6.296875 42.578125 8.984375 45.96875 \nQ 11.671875 49.359375 16.75 51.1875 \nQ 21.828125 53.03125 28.515625 53.03125 \nQ 35.15625 53.03125 39.296875 51.46875 \nQ 43.453125 49.90625 45.40625 47.53125 \nQ 47.359375 45.171875 48.140625 41.546875 \nQ 48.578125 39.3125 48.578125 33.453125 \nL 48.578125 21.734375 \nQ 48.578125 9.46875 49.140625 6.21875 \nQ 49.703125 2.984375 51.375 0 \nL 42.1875 0 \nQ 40.828125 2.734375 40.4375 6.390625 \nz\nM 39.703125 26.03125 \nQ 34.90625 24.078125 25.34375 22.703125 \nQ 19.921875 21.921875 17.671875 20.9375 \nQ 15.4375 19.96875 14.203125 18.09375 \nQ 12.984375 16.21875 12.984375 13.921875 \nQ 12.984375 10.40625 15.640625 8.0625 \nQ 18.3125 5.71875 23.4375 5.71875 \nQ 28.515625 5.71875 32.46875 7.9375 \nQ 36.421875 10.15625 38.28125 14.015625 \nQ 39.703125 17 39.703125 22.796875 \nz\n\" id=\"ArialMT-97\"/>\n      <path d=\"M 6.640625 61.46875 \nL 6.640625 71.578125 \nL 15.4375 71.578125 \nL 15.4375 61.46875 \nz\nM 6.640625 0 \nL 6.640625 51.859375 \nL 15.4375 51.859375 \nL 15.4375 0 \nz\n\" id=\"ArialMT-105\"/>\n      <path d=\"M 21 0 \nL 1.265625 51.859375 \nL 10.546875 51.859375 \nL 21.6875 20.796875 \nQ 23.484375 15.765625 25 10.359375 \nQ 26.171875 14.453125 28.265625 20.21875 \nL 39.796875 51.859375 \nL 48.828125 51.859375 \nL 29.203125 0 \nz\n\" id=\"ArialMT-118\"/>\n      <path d=\"M 0.734375 0 \nL 19.671875 26.953125 \nL 2.15625 51.859375 \nL 13.140625 51.859375 \nL 21.09375 39.703125 \nQ 23.34375 36.234375 24.703125 33.890625 \nQ 26.859375 37.109375 28.65625 39.59375 \nL 37.40625 51.859375 \nL 47.90625 51.859375 \nL 29.984375 27.4375 \nL 49.265625 0 \nL 38.484375 0 \nL 27.828125 16.109375 \nL 25 20.453125 \nL 11.375 0 \nz\n\" id=\"ArialMT-120\"/>\n      <path d=\"M 40.234375 0 \nL 40.234375 6.546875 \nQ 35.296875 -1.171875 25.734375 -1.171875 \nQ 19.53125 -1.171875 14.328125 2.25 \nQ 9.125 5.671875 6.265625 11.796875 \nQ 3.421875 17.921875 3.421875 25.875 \nQ 3.421875 33.640625 6 39.96875 \nQ 8.59375 46.296875 13.765625 49.65625 \nQ 18.953125 53.03125 25.34375 53.03125 \nQ 30.03125 53.03125 33.6875 51.046875 \nQ 37.359375 49.078125 39.65625 45.90625 \nL 39.65625 71.578125 \nL 48.390625 71.578125 \nL 48.390625 0 \nz\nM 12.453125 25.875 \nQ 12.453125 15.921875 16.640625 10.984375 \nQ 20.84375 6.0625 26.5625 6.0625 \nQ 32.328125 6.0625 36.34375 10.765625 \nQ 40.375 15.484375 40.375 25.140625 \nQ 40.375 35.796875 36.265625 40.765625 \nQ 32.171875 45.75 26.171875 45.75 \nQ 20.3125 45.75 16.375 40.96875 \nQ 12.453125 36.1875 12.453125 25.875 \nz\n\" id=\"ArialMT-100\"/>\n      <path d=\"M 6.5 0 \nL 6.5 51.859375 \nL 14.40625 51.859375 \nL 14.40625 44 \nQ 17.4375 49.515625 20 51.265625 \nQ 22.5625 53.03125 25.640625 53.03125 \nQ 30.078125 53.03125 34.671875 50.203125 \nL 31.640625 42.046875 \nQ 28.421875 43.953125 25.203125 43.953125 \nQ 22.3125 43.953125 20.015625 42.21875 \nQ 17.71875 40.484375 16.75 37.40625 \nQ 15.28125 32.71875 15.28125 27.15625 \nL 15.28125 0 \nz\n\" id=\"ArialMT-114\"/>\n     </defs>\n     <g style=\"fill:#262626;\" transform=\"translate(15.789375 196.29375)rotate(-90)scale(0.12 -0.12)\">\n      <use xlink:href=\"#ArialMT-99\"/>\n      <use x=\"50\" xlink:href=\"#ArialMT-117\"/>\n      <use x=\"105.615234\" xlink:href=\"#ArialMT-109\"/>\n      <use x=\"188.916016\" xlink:href=\"#ArialMT-117\"/>\n      <use x=\"244.53125\" xlink:href=\"#ArialMT-108\"/>\n      <use x=\"266.748047\" xlink:href=\"#ArialMT-97\"/>\n      <use x=\"322.363281\" xlink:href=\"#ArialMT-116\"/>\n      <use x=\"350.146484\" xlink:href=\"#ArialMT-105\"/>\n      <use x=\"372.363281\" xlink:href=\"#ArialMT-118\"/>\n      <use x=\"422.363281\" xlink:href=\"#ArialMT-101\"/>\n      <use x=\"477.978516\" xlink:href=\"#ArialMT-32\"/>\n      <use x=\"505.761719\" xlink:href=\"#ArialMT-101\"/>\n      <use x=\"561.376953\" xlink:href=\"#ArialMT-120\"/>\n      <use x=\"611.376953\" xlink:href=\"#ArialMT-112\"/>\n      <use x=\"666.992188\" xlink:href=\"#ArialMT-108\"/>\n      <use x=\"689.208984\" xlink:href=\"#ArialMT-97\"/>\n      <use x=\"744.824219\" xlink:href=\"#ArialMT-105\"/>\n      <use x=\"767.041016\" xlink:href=\"#ArialMT-110\"/>\n      <use x=\"822.65625\" xlink:href=\"#ArialMT-101\"/>\n      <use x=\"878.271484\" xlink:href=\"#ArialMT-100\"/>\n      <use x=\"933.886719\" xlink:href=\"#ArialMT-32\"/>\n      <use x=\"961.669922\" xlink:href=\"#ArialMT-118\"/>\n      <use x=\"1011.669922\" xlink:href=\"#ArialMT-97\"/>\n      <use x=\"1067.285156\" xlink:href=\"#ArialMT-114\"/>\n      <use x=\"1100.585938\" xlink:href=\"#ArialMT-105\"/>\n      <use x=\"1122.802734\" xlink:href=\"#ArialMT-97\"/>\n      <use x=\"1178.417969\" xlink:href=\"#ArialMT-110\"/>\n      <use x=\"1234.033203\" xlink:href=\"#ArialMT-99\"/>\n      <use x=\"1284.033203\" xlink:href=\"#ArialMT-101\"/>\n     </g>\n    </g>\n   </g>\n   <g id=\"line2d_14\">\n    <path clip-path=\"url(#p9fea9ae58f)\" d=\"M 62.182557 214.756364 \nL 67.172125 207.963086 \nL 72.161692 201.245112 \nL 77.15126 194.554231 \nL 82.140828 187.932777 \nL 87.130396 181.42279 \nL 92.119964 175.001306 \nL 97.109531 168.594663 \nL 102.099099 162.433914 \nL 107.088667 156.329918 \nL 112.078235 150.317233 \nL 117.067803 144.595821 \nL 122.057371 139.569923 \nL 127.046938 135.454525 \nL 132.036506 131.877337 \nL 137.026074 128.370521 \nL 142.015642 124.905559 \nL 147.00521 121.482158 \nL 151.994777 118.06598 \nL 156.984345 114.665065 \nL 161.973913 111.268398 \nL 166.963481 107.874606 \nL 171.953049 104.492118 \nL 176.942616 101.110928 \nL 181.932184 97.740093 \nL 186.921752 94.373928 \nL 191.91132 91.010387 \nL 196.900888 87.650208 \nL 201.890455 84.296335 \nL 206.880023 80.944338 \nL 211.869591 77.595201 \nL 216.859159 74.247767 \nL 221.848727 70.902664 \nL 226.838295 67.560326 \nL 231.827862 64.218998 \nL 236.81743 60.881043 \nL 241.806998 57.544759 \nL 246.796566 54.210346 \nL 251.786134 50.877898 \nL 256.775701 47.546519 \nL 261.765269 44.216273 \nL 266.754837 40.886673 \nL 271.744405 37.605279 \nL 276.733973 34.367461 \nL 281.72354 31.176604 \nL 286.713108 28.117995 \nL 291.702676 25.641009 \nL 296.692244 23.610553 \nL 301.681812 22.187698 \nL 306.671379 21.282582 \nL 311.660947 20.620545 \nL 316.650515 20.031332 \nL 321.640083 19.487812 \nL 326.629651 18.989106 \nL 331.619219 18.600259 \nL 336.608786 18.253951 \nL 341.598354 17.936403 \nL 346.587922 17.641968 \nL 351.57749 17.396147 \nL 356.567058 17.193755 \nL 361.556625 17.083636 \nL 366.546193 17.083636 \n\" style=\"fill:none;stroke:#4c72b0;stroke-linecap:round;stroke-width:1.5;\"/>\n    <defs>\n     <path d=\"M 0 1.5 \nC 0.397805 1.5 0.77937 1.341951 1.06066 1.06066 \nC 1.341951 0.77937 1.5 0.397805 1.5 0 \nC 1.5 -0.397805 1.341951 -0.77937 1.06066 -1.06066 \nC 0.77937 -1.341951 0.397805 -1.5 0 -1.5 \nC -0.397805 -1.5 -0.77937 -1.341951 -1.06066 -1.06066 \nC -1.341951 -0.77937 -1.5 -0.397805 -1.5 0 \nC -1.5 0.397805 -1.341951 0.77937 -1.06066 1.06066 \nC -0.77937 1.341951 -0.397805 1.5 0 1.5 \nz\n\" id=\"mdbd96c7ee3\" style=\"stroke:#4c72b0;\"/>\n    </defs>\n    <g clip-path=\"url(#p9fea9ae58f)\">\n     <use style=\"fill:#4c72b0;stroke:#4c72b0;\" x=\"62.182557\" xlink:href=\"#mdbd96c7ee3\" y=\"214.756364\"/>\n     <use style=\"fill:#4c72b0;stroke:#4c72b0;\" x=\"67.172125\" xlink:href=\"#mdbd96c7ee3\" y=\"207.963086\"/>\n     <use style=\"fill:#4c72b0;stroke:#4c72b0;\" x=\"72.161692\" xlink:href=\"#mdbd96c7ee3\" y=\"201.245112\"/>\n     <use style=\"fill:#4c72b0;stroke:#4c72b0;\" x=\"77.15126\" xlink:href=\"#mdbd96c7ee3\" y=\"194.554231\"/>\n     <use style=\"fill:#4c72b0;stroke:#4c72b0;\" x=\"82.140828\" xlink:href=\"#mdbd96c7ee3\" y=\"187.932777\"/>\n     <use style=\"fill:#4c72b0;stroke:#4c72b0;\" x=\"87.130396\" xlink:href=\"#mdbd96c7ee3\" y=\"181.42279\"/>\n     <use style=\"fill:#4c72b0;stroke:#4c72b0;\" x=\"92.119964\" xlink:href=\"#mdbd96c7ee3\" y=\"175.001306\"/>\n     <use style=\"fill:#4c72b0;stroke:#4c72b0;\" x=\"97.109531\" xlink:href=\"#mdbd96c7ee3\" y=\"168.594663\"/>\n     <use style=\"fill:#4c72b0;stroke:#4c72b0;\" x=\"102.099099\" xlink:href=\"#mdbd96c7ee3\" y=\"162.433914\"/>\n     <use style=\"fill:#4c72b0;stroke:#4c72b0;\" x=\"107.088667\" xlink:href=\"#mdbd96c7ee3\" y=\"156.329918\"/>\n     <use style=\"fill:#4c72b0;stroke:#4c72b0;\" x=\"112.078235\" xlink:href=\"#mdbd96c7ee3\" y=\"150.317233\"/>\n     <use style=\"fill:#4c72b0;stroke:#4c72b0;\" x=\"117.067803\" xlink:href=\"#mdbd96c7ee3\" y=\"144.595821\"/>\n     <use style=\"fill:#4c72b0;stroke:#4c72b0;\" x=\"122.057371\" xlink:href=\"#mdbd96c7ee3\" y=\"139.569923\"/>\n     <use style=\"fill:#4c72b0;stroke:#4c72b0;\" x=\"127.046938\" xlink:href=\"#mdbd96c7ee3\" y=\"135.454525\"/>\n     <use style=\"fill:#4c72b0;stroke:#4c72b0;\" x=\"132.036506\" xlink:href=\"#mdbd96c7ee3\" y=\"131.877337\"/>\n     <use style=\"fill:#4c72b0;stroke:#4c72b0;\" x=\"137.026074\" xlink:href=\"#mdbd96c7ee3\" y=\"128.370521\"/>\n     <use style=\"fill:#4c72b0;stroke:#4c72b0;\" x=\"142.015642\" xlink:href=\"#mdbd96c7ee3\" y=\"124.905559\"/>\n     <use style=\"fill:#4c72b0;stroke:#4c72b0;\" x=\"147.00521\" xlink:href=\"#mdbd96c7ee3\" y=\"121.482158\"/>\n     <use style=\"fill:#4c72b0;stroke:#4c72b0;\" x=\"151.994777\" xlink:href=\"#mdbd96c7ee3\" y=\"118.06598\"/>\n     <use style=\"fill:#4c72b0;stroke:#4c72b0;\" x=\"156.984345\" xlink:href=\"#mdbd96c7ee3\" y=\"114.665065\"/>\n     <use style=\"fill:#4c72b0;stroke:#4c72b0;\" x=\"161.973913\" xlink:href=\"#mdbd96c7ee3\" y=\"111.268398\"/>\n     <use style=\"fill:#4c72b0;stroke:#4c72b0;\" x=\"166.963481\" xlink:href=\"#mdbd96c7ee3\" y=\"107.874606\"/>\n     <use style=\"fill:#4c72b0;stroke:#4c72b0;\" x=\"171.953049\" xlink:href=\"#mdbd96c7ee3\" y=\"104.492118\"/>\n     <use style=\"fill:#4c72b0;stroke:#4c72b0;\" x=\"176.942616\" xlink:href=\"#mdbd96c7ee3\" y=\"101.110928\"/>\n     <use style=\"fill:#4c72b0;stroke:#4c72b0;\" x=\"181.932184\" xlink:href=\"#mdbd96c7ee3\" y=\"97.740093\"/>\n     <use style=\"fill:#4c72b0;stroke:#4c72b0;\" x=\"186.921752\" xlink:href=\"#mdbd96c7ee3\" y=\"94.373928\"/>\n     <use style=\"fill:#4c72b0;stroke:#4c72b0;\" x=\"191.91132\" xlink:href=\"#mdbd96c7ee3\" y=\"91.010387\"/>\n     <use style=\"fill:#4c72b0;stroke:#4c72b0;\" x=\"196.900888\" xlink:href=\"#mdbd96c7ee3\" y=\"87.650208\"/>\n     <use style=\"fill:#4c72b0;stroke:#4c72b0;\" x=\"201.890455\" xlink:href=\"#mdbd96c7ee3\" y=\"84.296335\"/>\n     <use style=\"fill:#4c72b0;stroke:#4c72b0;\" x=\"206.880023\" xlink:href=\"#mdbd96c7ee3\" y=\"80.944338\"/>\n     <use style=\"fill:#4c72b0;stroke:#4c72b0;\" x=\"211.869591\" xlink:href=\"#mdbd96c7ee3\" y=\"77.595201\"/>\n     <use style=\"fill:#4c72b0;stroke:#4c72b0;\" x=\"216.859159\" xlink:href=\"#mdbd96c7ee3\" y=\"74.247767\"/>\n     <use style=\"fill:#4c72b0;stroke:#4c72b0;\" x=\"221.848727\" xlink:href=\"#mdbd96c7ee3\" y=\"70.902664\"/>\n     <use style=\"fill:#4c72b0;stroke:#4c72b0;\" x=\"226.838295\" xlink:href=\"#mdbd96c7ee3\" y=\"67.560326\"/>\n     <use style=\"fill:#4c72b0;stroke:#4c72b0;\" x=\"231.827862\" xlink:href=\"#mdbd96c7ee3\" y=\"64.218998\"/>\n     <use style=\"fill:#4c72b0;stroke:#4c72b0;\" x=\"236.81743\" xlink:href=\"#mdbd96c7ee3\" y=\"60.881043\"/>\n     <use style=\"fill:#4c72b0;stroke:#4c72b0;\" x=\"241.806998\" xlink:href=\"#mdbd96c7ee3\" y=\"57.544759\"/>\n     <use style=\"fill:#4c72b0;stroke:#4c72b0;\" x=\"246.796566\" xlink:href=\"#mdbd96c7ee3\" y=\"54.210346\"/>\n     <use style=\"fill:#4c72b0;stroke:#4c72b0;\" x=\"251.786134\" xlink:href=\"#mdbd96c7ee3\" y=\"50.877898\"/>\n     <use style=\"fill:#4c72b0;stroke:#4c72b0;\" x=\"256.775701\" xlink:href=\"#mdbd96c7ee3\" y=\"47.546519\"/>\n     <use style=\"fill:#4c72b0;stroke:#4c72b0;\" x=\"261.765269\" xlink:href=\"#mdbd96c7ee3\" y=\"44.216273\"/>\n     <use style=\"fill:#4c72b0;stroke:#4c72b0;\" x=\"266.754837\" xlink:href=\"#mdbd96c7ee3\" y=\"40.886673\"/>\n     <use style=\"fill:#4c72b0;stroke:#4c72b0;\" x=\"271.744405\" xlink:href=\"#mdbd96c7ee3\" y=\"37.605279\"/>\n     <use style=\"fill:#4c72b0;stroke:#4c72b0;\" x=\"276.733973\" xlink:href=\"#mdbd96c7ee3\" y=\"34.367461\"/>\n     <use style=\"fill:#4c72b0;stroke:#4c72b0;\" x=\"281.72354\" xlink:href=\"#mdbd96c7ee3\" y=\"31.176604\"/>\n     <use style=\"fill:#4c72b0;stroke:#4c72b0;\" x=\"286.713108\" xlink:href=\"#mdbd96c7ee3\" y=\"28.117995\"/>\n     <use style=\"fill:#4c72b0;stroke:#4c72b0;\" x=\"291.702676\" xlink:href=\"#mdbd96c7ee3\" y=\"25.641009\"/>\n     <use style=\"fill:#4c72b0;stroke:#4c72b0;\" x=\"296.692244\" xlink:href=\"#mdbd96c7ee3\" y=\"23.610553\"/>\n     <use style=\"fill:#4c72b0;stroke:#4c72b0;\" x=\"301.681812\" xlink:href=\"#mdbd96c7ee3\" y=\"22.187698\"/>\n     <use style=\"fill:#4c72b0;stroke:#4c72b0;\" x=\"306.671379\" xlink:href=\"#mdbd96c7ee3\" y=\"21.282582\"/>\n     <use style=\"fill:#4c72b0;stroke:#4c72b0;\" x=\"311.660947\" xlink:href=\"#mdbd96c7ee3\" y=\"20.620545\"/>\n     <use style=\"fill:#4c72b0;stroke:#4c72b0;\" x=\"316.650515\" xlink:href=\"#mdbd96c7ee3\" y=\"20.031332\"/>\n     <use style=\"fill:#4c72b0;stroke:#4c72b0;\" x=\"321.640083\" xlink:href=\"#mdbd96c7ee3\" y=\"19.487812\"/>\n     <use style=\"fill:#4c72b0;stroke:#4c72b0;\" x=\"326.629651\" xlink:href=\"#mdbd96c7ee3\" y=\"18.989106\"/>\n     <use style=\"fill:#4c72b0;stroke:#4c72b0;\" x=\"331.619219\" xlink:href=\"#mdbd96c7ee3\" y=\"18.600259\"/>\n     <use style=\"fill:#4c72b0;stroke:#4c72b0;\" x=\"336.608786\" xlink:href=\"#mdbd96c7ee3\" y=\"18.253951\"/>\n     <use style=\"fill:#4c72b0;stroke:#4c72b0;\" x=\"341.598354\" xlink:href=\"#mdbd96c7ee3\" y=\"17.936403\"/>\n     <use style=\"fill:#4c72b0;stroke:#4c72b0;\" x=\"346.587922\" xlink:href=\"#mdbd96c7ee3\" y=\"17.641968\"/>\n     <use style=\"fill:#4c72b0;stroke:#4c72b0;\" x=\"351.57749\" xlink:href=\"#mdbd96c7ee3\" y=\"17.396147\"/>\n     <use style=\"fill:#4c72b0;stroke:#4c72b0;\" x=\"356.567058\" xlink:href=\"#mdbd96c7ee3\" y=\"17.193755\"/>\n     <use style=\"fill:#4c72b0;stroke:#4c72b0;\" x=\"361.556625\" xlink:href=\"#mdbd96c7ee3\" y=\"17.083636\"/>\n     <use style=\"fill:#4c72b0;stroke:#4c72b0;\" x=\"366.546193\" xlink:href=\"#mdbd96c7ee3\" y=\"17.083636\"/>\n    </g>\n   </g>\n   <g id=\"line2d_15\">\n    <path clip-path=\"url(#p9fea9ae58f)\" d=\"M 301.681812 224.64 \nL 301.681812 7.2 \n\" style=\"fill:none;stroke:#c44e52;stroke-dasharray:14.8,6.4;stroke-dashoffset:0;stroke-width:4;\"/>\n   </g>\n   <g id=\"patch_3\">\n    <path d=\"M 46.964375 224.64 \nL 46.964375 7.2 \n\" style=\"fill:none;stroke:#cccccc;stroke-linecap:square;stroke-linejoin:miter;stroke-width:1.25;\"/>\n   </g>\n   <g id=\"patch_4\">\n    <path d=\"M 381.764375 224.64 \nL 381.764375 7.2 \n\" style=\"fill:none;stroke:#cccccc;stroke-linecap:square;stroke-linejoin:miter;stroke-width:1.25;\"/>\n   </g>\n   <g id=\"patch_5\">\n    <path d=\"M 46.964375 224.64 \nL 381.764375 224.64 \n\" style=\"fill:none;stroke:#cccccc;stroke-linecap:square;stroke-linejoin:miter;stroke-width:1.25;\"/>\n   </g>\n   <g id=\"patch_6\">\n    <path d=\"M 46.964375 7.2 \nL 381.764375 7.2 \n\" style=\"fill:none;stroke:#cccccc;stroke-linecap:square;stroke-linejoin:miter;stroke-width:1.25;\"/>\n   </g>\n  </g>\n </g>\n <defs>\n  <clipPath id=\"p9fea9ae58f\">\n   <rect height=\"217.44\" width=\"334.8\" x=\"46.964375\" y=\"7.2\"/>\n  </clipPath>\n </defs>\n</svg>\n",
      "image/png": "[encoded data removed]"
     },
     "metadata": {}
    }
   ],
   "source": [
    "#visualize above on a graph\n",
    "pca = PCA().fit(scaled_features)\n",
    "sns.set(style='whitegrid')\n",
    "plt.plot(np.cumsum(pca.explained_variance_ratio_)[0:62], marker='.')\n",
    "plt.xlabel('No of components')\n",
    "plt.ylabel('cumulative explained variance')\n",
    "plt.axvline(linewidth=4, color='r', linestyle='--', x=48, ymin=0, ymax=1)\n",
    "plt.savefig(\"/Users/bkirton/Desktop/sanFranCrimePredictor/images/PCA_graph.png\")\n",
    "plt.show()\n"
   ]
  },
  {
   "cell_type": "code",
   "execution_count": 18,
   "metadata": {},
   "outputs": [],
   "source": [
    "#initialize PCA model\n",
    "pca = PCA(n_components=50)\n",
    "\n",
    "crime_pca = pca.fit_transform(scaled_features)"
   ]
  },
  {
   "cell_type": "code",
   "execution_count": 19,
   "metadata": {},
   "outputs": [
    {
     "output_type": "execute_result",
     "data": {
      "text/plain": [
       "Index(['ZipCode', 'PdDistricts', 'Months', 'Day', 'TimeOfDay', 'Resolutions',\n",
       "       'Category_ASSAULT', 'Category_BURGLARY', 'Category_DRUG/NARCOTIC',\n",
       "       'Category_FRAUD', 'Category_LARCENY/THEFT', 'Category_MISSING PERSON',\n",
       "       'Category_NON-CRIMINAL', 'Category_OTHER', 'Category_OTHER OFFENSES',\n",
       "       'Category_ROBBERY', 'Category_SECONDARY CODES',\n",
       "       'Category_SUSPICIOUS OCC', 'Category_TRESPASS', 'Category_VANDALISM',\n",
       "       'Category_VEHICLE THEFT', 'Category_WARRANTS', 'Category_WEAPON LAWS',\n",
       "       'Descript_AGGRAVATED ASSAULT WITH A DEADLY WEAPON',\n",
       "       'Descript_AIDED CASE', 'Descript_AIDED CASE, MENTAL DISTURBED',\n",
       "       'Descript_BATTERY',\n",
       "       'Descript_BATTERY, FORMER SPOUSE OR DATING RELATIONSHIP',\n",
       "       'Descript_CREDIT CARD, THEFT BY USE OF', 'Descript_DOMESTIC VIOLENCE',\n",
       "       'Descript_DRIVERS LICENSE, SUSPENDED OR REVOKED',\n",
       "       'Descript_ENROUTE TO OUTSIDE JURISDICTION',\n",
       "       'Descript_FALSE PERSONATION TO RECEIVE MONEY OR PROPERTY',\n",
       "       'Descript_FOUND PERSON', 'Descript_FOUND PROPERTY',\n",
       "       'Descript_GRAND THEFT FROM A BUILDING',\n",
       "       'Descript_GRAND THEFT FROM LOCKED AUTO',\n",
       "       'Descript_GRAND THEFT FROM PERSON',\n",
       "       'Descript_GRAND THEFT FROM UNLOCKED AUTO',\n",
       "       'Descript_GRAND THEFT OF PROPERTY',\n",
       "       'Descript_INFLICT INJURY ON COHABITEE',\n",
       "       'Descript_INVESTIGATIVE DETENTION', 'Descript_LOST PROPERTY',\n",
       "       'Descript_LOST/STOLEN LICENSE PLATE',\n",
       "       'Descript_MALICIOUS MISCHIEF, VANDALISM',\n",
       "       'Descript_MALICIOUS MISCHIEF, VANDALISM OF VEHICLES',\n",
       "       'Descript_MISCELLANEOUS INVESTIGATION', 'Descript_MISSING ADULT',\n",
       "       'Descript_OTHER', 'Descript_PETTY THEFT FROM A BUILDING',\n",
       "       'Descript_PETTY THEFT FROM LOCKED AUTO',\n",
       "       'Descript_PETTY THEFT OF PROPERTY', 'Descript_PETTY THEFT SHOPLIFTING',\n",
       "       'Descript_POSSESSION OF NARCOTICS PARAPHERNALIA',\n",
       "       'Descript_RESISTING ARREST', 'Descript_STOLEN AUTOMOBILE',\n",
       "       'Descript_STOLEN TRUCK', 'Descript_SUSPICIOUS OCCURRENCE',\n",
       "       'Descript_THREATS AGAINST LIFE', 'Descript_TRAFFIC VIOLATION',\n",
       "       'Descript_TRAFFIC VIOLATION ARREST', 'Descript_TRESPASSING',\n",
       "       'Descript_WARRANT ARREST'],\n",
       "      dtype='object')"
      ]
     },
     "metadata": {},
     "execution_count": 19
    }
   ],
   "source": [
    "columns = scaled_features.columns\n",
    "columns"
   ]
  },
  {
   "cell_type": "code",
   "execution_count": 20,
   "metadata": {},
   "outputs": [
    {
     "output_type": "execute_result",
     "data": {
      "text/plain": [
       "    Cumulative Variance Ratio  Explained Variance Ratio\n",
       "0                    0.038017                  0.038017\n",
       "1                    0.071077                  0.033060\n",
       "2                    0.103770                  0.032693\n",
       "3                    0.136332                  0.032561\n",
       "4                    0.168555                  0.032224\n",
       "5                    0.200236                  0.031681\n",
       "6                    0.231487                  0.031250\n",
       "7                    0.262665                  0.031178\n",
       "8                    0.292646                  0.029982\n",
       "9                    0.322352                  0.029705\n",
       "10                   0.351613                  0.029261\n",
       "11                   0.379456                  0.027844\n",
       "12                   0.403915                  0.024459\n",
       "13                   0.423943                  0.020028\n",
       "14                   0.441351                  0.017409\n",
       "15                   0.458417                  0.017066\n",
       "16                   0.475280                  0.016862\n",
       "17                   0.491940                  0.016660\n",
       "18                   0.508565                  0.016625\n",
       "19                   0.525116                  0.016551\n",
       "20                   0.541646                  0.016530\n",
       "21                   0.558162                  0.016516\n",
       "22                   0.574623                  0.016461\n",
       "23                   0.591077                  0.016455\n",
       "24                   0.607482                  0.016404\n",
       "25                   0.623863                  0.016382\n",
       "26                   0.640232                  0.016369\n",
       "27                   0.656585                  0.016352\n",
       "28                   0.672906                  0.016322\n",
       "29                   0.689219                  0.016313"
      ],
      "text/html": "<div>\n<style scoped>\n    .dataframe tbody tr th:only-of-type {\n        vertical-align: middle;\n    }\n\n    .dataframe tbody tr th {\n        vertical-align: top;\n    }\n\n    .dataframe thead th {\n        text-align: right;\n    }\n</style>\n<table border=\"1\" class=\"dataframe\">\n  <thead>\n    <tr style=\"text-align: right;\">\n      <th></th>\n      <th>Cumulative Variance Ratio</th>\n      <th>Explained Variance Ratio</th>\n    </tr>\n  </thead>\n  <tbody>\n    <tr>\n      <th>0</th>\n      <td>0.038017</td>\n      <td>0.038017</td>\n    </tr>\n    <tr>\n      <th>1</th>\n      <td>0.071077</td>\n      <td>0.033060</td>\n    </tr>\n    <tr>\n      <th>2</th>\n      <td>0.103770</td>\n      <td>0.032693</td>\n    </tr>\n    <tr>\n      <th>3</th>\n      <td>0.136332</td>\n      <td>0.032561</td>\n    </tr>\n    <tr>\n      <th>4</th>\n      <td>0.168555</td>\n      <td>0.032224</td>\n    </tr>\n    <tr>\n      <th>5</th>\n      <td>0.200236</td>\n      <td>0.031681</td>\n    </tr>\n    <tr>\n      <th>6</th>\n      <td>0.231487</td>\n      <td>0.031250</td>\n    </tr>\n    <tr>\n      <th>7</th>\n      <td>0.262665</td>\n      <td>0.031178</td>\n    </tr>\n    <tr>\n      <th>8</th>\n      <td>0.292646</td>\n      <td>0.029982</td>\n    </tr>\n    <tr>\n      <th>9</th>\n      <td>0.322352</td>\n      <td>0.029705</td>\n    </tr>\n    <tr>\n      <th>10</th>\n      <td>0.351613</td>\n      <td>0.029261</td>\n    </tr>\n    <tr>\n      <th>11</th>\n      <td>0.379456</td>\n      <td>0.027844</td>\n    </tr>\n    <tr>\n      <th>12</th>\n      <td>0.403915</td>\n      <td>0.024459</td>\n    </tr>\n    <tr>\n      <th>13</th>\n      <td>0.423943</td>\n      <td>0.020028</td>\n    </tr>\n    <tr>\n      <th>14</th>\n      <td>0.441351</td>\n      <td>0.017409</td>\n    </tr>\n    <tr>\n      <th>15</th>\n      <td>0.458417</td>\n      <td>0.017066</td>\n    </tr>\n    <tr>\n      <th>16</th>\n      <td>0.475280</td>\n      <td>0.016862</td>\n    </tr>\n    <tr>\n      <th>17</th>\n      <td>0.491940</td>\n      <td>0.016660</td>\n    </tr>\n    <tr>\n      <th>18</th>\n      <td>0.508565</td>\n      <td>0.016625</td>\n    </tr>\n    <tr>\n      <th>19</th>\n      <td>0.525116</td>\n      <td>0.016551</td>\n    </tr>\n    <tr>\n      <th>20</th>\n      <td>0.541646</td>\n      <td>0.016530</td>\n    </tr>\n    <tr>\n      <th>21</th>\n      <td>0.558162</td>\n      <td>0.016516</td>\n    </tr>\n    <tr>\n      <th>22</th>\n      <td>0.574623</td>\n      <td>0.016461</td>\n    </tr>\n    <tr>\n      <th>23</th>\n      <td>0.591077</td>\n      <td>0.016455</td>\n    </tr>\n    <tr>\n      <th>24</th>\n      <td>0.607482</td>\n      <td>0.016404</td>\n    </tr>\n    <tr>\n      <th>25</th>\n      <td>0.623863</td>\n      <td>0.016382</td>\n    </tr>\n    <tr>\n      <th>26</th>\n      <td>0.640232</td>\n      <td>0.016369</td>\n    </tr>\n    <tr>\n      <th>27</th>\n      <td>0.656585</td>\n      <td>0.016352</td>\n    </tr>\n    <tr>\n      <th>28</th>\n      <td>0.672906</td>\n      <td>0.016322</td>\n    </tr>\n    <tr>\n      <th>29</th>\n      <td>0.689219</td>\n      <td>0.016313</td>\n    </tr>\n  </tbody>\n</table>\n</div>"
     },
     "metadata": {},
     "execution_count": 20
    }
   ],
   "source": [
    "evr = pca.explained_variance_ratio_\n",
    "cvr = np.cumsum(pca.explained_variance_ratio_)\n",
    "\n",
    "pca_df = pd.DataFrame()\n",
    "pca_df['Cumulative Variance Ratio'] = cvr\n",
    "pca_df['Explained Variance Ratio'] = evr\n",
    "pca_df.head(30)"
   ]
  },
  {
   "cell_type": "code",
   "execution_count": 21,
   "metadata": {},
   "outputs": [
    {
     "output_type": "execute_result",
     "data": {
      "text/plain": [
       "                                   PCA Component 0  PCA Component 1  \\\n",
       "ZipCode                                  -0.034623         0.046537   \n",
       "PdDistricts                               0.029557        -0.041397   \n",
       "Months                                    0.009402         0.013644   \n",
       "Day                                      -0.020442        -0.016276   \n",
       "TimeOfDay                                -0.096490         0.004817   \n",
       "...                                            ...              ...   \n",
       "Descript_THREATS AGAINST LIFE            -0.040718        -0.021820   \n",
       "Descript_TRAFFIC VIOLATION               -0.060941        -0.078898   \n",
       "Descript_TRAFFIC VIOLATION ARREST        -0.067558        -0.090981   \n",
       "Descript_TRESPASSING                     -0.033509        -0.023547   \n",
       "Descript_WARRANT ARREST                  -0.056232        -0.192985   \n",
       "\n",
       "                                   PCA Component 2  PCA Component 3  \\\n",
       "ZipCode                                  -0.030861        -0.109518   \n",
       "PdDistricts                               0.020281         0.113503   \n",
       "Months                                   -0.001802        -0.012285   \n",
       "Day                                       0.021973         0.000274   \n",
       "TimeOfDay                                 0.005102        -0.020787   \n",
       "...                                            ...              ...   \n",
       "Descript_THREATS AGAINST LIFE            -0.000134        -0.033053   \n",
       "Descript_TRAFFIC VIOLATION                0.006316        -0.046007   \n",
       "Descript_TRAFFIC VIOLATION ARREST         0.008704        -0.046052   \n",
       "Descript_TRESPASSING                      0.013995        -0.000613   \n",
       "Descript_WARRANT ARREST                   0.333424         0.253325   \n",
       "\n",
       "                                   PCA Component 4  PCA Component 5  \\\n",
       "ZipCode                                   0.019410         0.067544   \n",
       "PdDistricts                              -0.029581        -0.059124   \n",
       "Months                                   -0.003627        -0.004617   \n",
       "Day                                      -0.008004         0.001801   \n",
       "TimeOfDay                                -0.031938        -0.033128   \n",
       "...                                            ...              ...   \n",
       "Descript_THREATS AGAINST LIFE            -0.026264        -0.003614   \n",
       "Descript_TRAFFIC VIOLATION               -0.056699        -0.033018   \n",
       "Descript_TRAFFIC VIOLATION ARREST        -0.064257        -0.039780   \n",
       "Descript_TRESPASSING                     -0.013859        -0.017302   \n",
       "Descript_WARRANT ARREST                   0.230137         0.089839   \n",
       "\n",
       "                                   PCA Component 6  PCA Component 7  \\\n",
       "ZipCode                                  -0.015245         0.010353   \n",
       "PdDistricts                               0.013527         0.006819   \n",
       "Months                                    0.009657         0.003274   \n",
       "Day                                      -0.009679         0.008311   \n",
       "TimeOfDay                                 0.014799        -0.005956   \n",
       "...                                            ...              ...   \n",
       "Descript_THREATS AGAINST LIFE             0.162077        -0.189702   \n",
       "Descript_TRAFFIC VIOLATION               -0.101819         0.084001   \n",
       "Descript_TRAFFIC VIOLATION ARREST        -0.112889         0.093439   \n",
       "Descript_TRESPASSING                      0.008371         0.000276   \n",
       "Descript_WARRANT ARREST                  -0.001109        -0.003379   \n",
       "\n",
       "                                   PCA Component 8  PCA Component 9  ...  \\\n",
       "ZipCode                                  -0.022176         0.028737  ...   \n",
       "PdDistricts                               0.021873        -0.006916  ...   \n",
       "Months                                    0.010366         0.005902  ...   \n",
       "Day                                       0.008145         0.003297  ...   \n",
       "TimeOfDay                                 0.035943         0.005687  ...   \n",
       "...                                            ...              ...  ...   \n",
       "Descript_THREATS AGAINST LIFE            -0.056414        -0.041334  ...   \n",
       "Descript_TRAFFIC VIOLATION               -0.080665        -0.062168  ...   \n",
       "Descript_TRAFFIC VIOLATION ARREST        -0.088696        -0.070131  ...   \n",
       "Descript_TRESPASSING                      0.633228        -0.223504  ...   \n",
       "Descript_WARRANT ARREST                  -0.016151         0.012931  ...   \n",
       "\n",
       "                                   PCA Component 40  PCA Component 41  \\\n",
       "ZipCode                                    0.009739          0.006906   \n",
       "PdDistricts                                0.009999          0.003617   \n",
       "Months                                     0.023084          0.020733   \n",
       "Day                                        0.042622          0.012652   \n",
       "TimeOfDay                                 -0.001010          0.003142   \n",
       "...                                             ...               ...   \n",
       "Descript_THREATS AGAINST LIFE              0.014074          0.017769   \n",
       "Descript_TRAFFIC VIOLATION                -0.033928         -0.032182   \n",
       "Descript_TRAFFIC VIOLATION ARREST         -0.008866         -0.008607   \n",
       "Descript_TRESPASSING                      -0.000351         -0.000335   \n",
       "Descript_WARRANT ARREST                   -0.008762         -0.001052   \n",
       "\n",
       "                                   PCA Component 42  PCA Component 43  \\\n",
       "ZipCode                                   -0.049406          0.161981   \n",
       "PdDistricts                                0.010507         -0.177527   \n",
       "Months                                    -0.435150         -0.582234   \n",
       "Day                                       -0.586577          0.361535   \n",
       "TimeOfDay                                  0.026596         -0.143871   \n",
       "...                                             ...               ...   \n",
       "Descript_THREATS AGAINST LIFE              0.075520         -0.110694   \n",
       "Descript_TRAFFIC VIOLATION                 0.235852         -0.065877   \n",
       "Descript_TRAFFIC VIOLATION ARREST         -0.000776          0.129646   \n",
       "Descript_TRESPASSING                       0.007251          0.012235   \n",
       "Descript_WARRANT ARREST                    0.010911         -0.008455   \n",
       "\n",
       "                                   PCA Component 44  PCA Component 45  \\\n",
       "ZipCode                                    0.206313         -0.024068   \n",
       "PdDistricts                               -0.238860          0.022076   \n",
       "Months                                     0.322871          0.117081   \n",
       "Day                                       -0.415846         -0.177833   \n",
       "TimeOfDay                                  0.003086         -0.759919   \n",
       "...                                             ...               ...   \n",
       "Descript_THREATS AGAINST LIFE             -0.042703         -0.040644   \n",
       "Descript_TRAFFIC VIOLATION                -0.082026         -0.029725   \n",
       "Descript_TRAFFIC VIOLATION ARREST          0.100961         -0.050602   \n",
       "Descript_TRESPASSING                       0.004433          0.026181   \n",
       "Descript_WARRANT ARREST                    0.059507          0.014282   \n",
       "\n",
       "                                   PCA Component 46  PCA Component 47  \\\n",
       "ZipCode                                    0.703406         -0.016352   \n",
       "PdDistricts                                0.689136          0.068003   \n",
       "Months                                    -0.003571          0.002018   \n",
       "Day                                       -0.043390          0.012129   \n",
       "TimeOfDay                                  0.011351         -0.055293   \n",
       "...                                             ...               ...   \n",
       "Descript_THREATS AGAINST LIFE              0.013116          0.044668   \n",
       "Descript_TRAFFIC VIOLATION                 0.026519          0.070236   \n",
       "Descript_TRAFFIC VIOLATION ARREST         -0.011905          0.072676   \n",
       "Descript_TRESPASSING                       0.009411          0.034072   \n",
       "Descript_WARRANT ARREST                   -0.006274          0.008475   \n",
       "\n",
       "                                   PCA Component 48  PCA Component 49  \n",
       "ZipCode                                    0.012876          0.003343  \n",
       "PdDistricts                               -0.043112         -0.005661  \n",
       "Months                                    -0.000028          0.000342  \n",
       "Day                                        0.001713          0.003381  \n",
       "TimeOfDay                                  0.007918         -0.000496  \n",
       "...                                             ...               ...  \n",
       "Descript_THREATS AGAINST LIFE              0.053867          0.026335  \n",
       "Descript_TRAFFIC VIOLATION                 0.089271          0.071442  \n",
       "Descript_TRAFFIC VIOLATION ARREST          0.100168          0.078996  \n",
       "Descript_TRESPASSING                       0.040187          0.017867  \n",
       "Descript_WARRANT ARREST                    0.009680          0.002952  \n",
       "\n",
       "[63 rows x 50 columns]"
      ],
      "text/html": "<div>\n<style scoped>\n    .dataframe tbody tr th:only-of-type {\n        vertical-align: middle;\n    }\n\n    .dataframe tbody tr th {\n        vertical-align: top;\n    }\n\n    .dataframe thead th {\n        text-align: right;\n    }\n</style>\n<table border=\"1\" class=\"dataframe\">\n  <thead>\n    <tr style=\"text-align: right;\">\n      <th></th>\n      <th>PCA Component 0</th>\n      <th>PCA Component 1</th>\n      <th>PCA Component 2</th>\n      <th>PCA Component 3</th>\n      <th>PCA Component 4</th>\n      <th>PCA Component 5</th>\n      <th>PCA Component 6</th>\n      <th>PCA Component 7</th>\n      <th>PCA Component 8</th>\n      <th>PCA Component 9</th>\n      <th>...</th>\n      <th>PCA Component 40</th>\n      <th>PCA Component 41</th>\n      <th>PCA Component 42</th>\n      <th>PCA Component 43</th>\n      <th>PCA Component 44</th>\n      <th>PCA Component 45</th>\n      <th>PCA Component 46</th>\n      <th>PCA Component 47</th>\n      <th>PCA Component 48</th>\n      <th>PCA Component 49</th>\n    </tr>\n  </thead>\n  <tbody>\n    <tr>\n      <th>ZipCode</th>\n      <td>-0.034623</td>\n      <td>0.046537</td>\n      <td>-0.030861</td>\n      <td>-0.109518</td>\n      <td>0.019410</td>\n      <td>0.067544</td>\n      <td>-0.015245</td>\n      <td>0.010353</td>\n      <td>-0.022176</td>\n      <td>0.028737</td>\n      <td>...</td>\n      <td>0.009739</td>\n      <td>0.006906</td>\n      <td>-0.049406</td>\n      <td>0.161981</td>\n      <td>0.206313</td>\n      <td>-0.024068</td>\n      <td>0.703406</td>\n      <td>-0.016352</td>\n      <td>0.012876</td>\n      <td>0.003343</td>\n    </tr>\n    <tr>\n      <th>PdDistricts</th>\n      <td>0.029557</td>\n      <td>-0.041397</td>\n      <td>0.020281</td>\n      <td>0.113503</td>\n      <td>-0.029581</td>\n      <td>-0.059124</td>\n      <td>0.013527</td>\n      <td>0.006819</td>\n      <td>0.021873</td>\n      <td>-0.006916</td>\n      <td>...</td>\n      <td>0.009999</td>\n      <td>0.003617</td>\n      <td>0.010507</td>\n      <td>-0.177527</td>\n      <td>-0.238860</td>\n      <td>0.022076</td>\n      <td>0.689136</td>\n      <td>0.068003</td>\n      <td>-0.043112</td>\n      <td>-0.005661</td>\n    </tr>\n    <tr>\n      <th>Months</th>\n      <td>0.009402</td>\n      <td>0.013644</td>\n      <td>-0.001802</td>\n      <td>-0.012285</td>\n      <td>-0.003627</td>\n      <td>-0.004617</td>\n      <td>0.009657</td>\n      <td>0.003274</td>\n      <td>0.010366</td>\n      <td>0.005902</td>\n      <td>...</td>\n      <td>0.023084</td>\n      <td>0.020733</td>\n      <td>-0.435150</td>\n      <td>-0.582234</td>\n      <td>0.322871</td>\n      <td>0.117081</td>\n      <td>-0.003571</td>\n      <td>0.002018</td>\n      <td>-0.000028</td>\n      <td>0.000342</td>\n    </tr>\n    <tr>\n      <th>Day</th>\n      <td>-0.020442</td>\n      <td>-0.016276</td>\n      <td>0.021973</td>\n      <td>0.000274</td>\n      <td>-0.008004</td>\n      <td>0.001801</td>\n      <td>-0.009679</td>\n      <td>0.008311</td>\n      <td>0.008145</td>\n      <td>0.003297</td>\n      <td>...</td>\n      <td>0.042622</td>\n      <td>0.012652</td>\n      <td>-0.586577</td>\n      <td>0.361535</td>\n      <td>-0.415846</td>\n      <td>-0.177833</td>\n      <td>-0.043390</td>\n      <td>0.012129</td>\n      <td>0.001713</td>\n      <td>0.003381</td>\n    </tr>\n    <tr>\n      <th>TimeOfDay</th>\n      <td>-0.096490</td>\n      <td>0.004817</td>\n      <td>0.005102</td>\n      <td>-0.020787</td>\n      <td>-0.031938</td>\n      <td>-0.033128</td>\n      <td>0.014799</td>\n      <td>-0.005956</td>\n      <td>0.035943</td>\n      <td>0.005687</td>\n      <td>...</td>\n      <td>-0.001010</td>\n      <td>0.003142</td>\n      <td>0.026596</td>\n      <td>-0.143871</td>\n      <td>0.003086</td>\n      <td>-0.759919</td>\n      <td>0.011351</td>\n      <td>-0.055293</td>\n      <td>0.007918</td>\n      <td>-0.000496</td>\n    </tr>\n    <tr>\n      <th>...</th>\n      <td>...</td>\n      <td>...</td>\n      <td>...</td>\n      <td>...</td>\n      <td>...</td>\n      <td>...</td>\n      <td>...</td>\n      <td>...</td>\n      <td>...</td>\n      <td>...</td>\n      <td>...</td>\n      <td>...</td>\n      <td>...</td>\n      <td>...</td>\n      <td>...</td>\n      <td>...</td>\n      <td>...</td>\n      <td>...</td>\n      <td>...</td>\n      <td>...</td>\n      <td>...</td>\n    </tr>\n    <tr>\n      <th>Descript_THREATS AGAINST LIFE</th>\n      <td>-0.040718</td>\n      <td>-0.021820</td>\n      <td>-0.000134</td>\n      <td>-0.033053</td>\n      <td>-0.026264</td>\n      <td>-0.003614</td>\n      <td>0.162077</td>\n      <td>-0.189702</td>\n      <td>-0.056414</td>\n      <td>-0.041334</td>\n      <td>...</td>\n      <td>0.014074</td>\n      <td>0.017769</td>\n      <td>0.075520</td>\n      <td>-0.110694</td>\n      <td>-0.042703</td>\n      <td>-0.040644</td>\n      <td>0.013116</td>\n      <td>0.044668</td>\n      <td>0.053867</td>\n      <td>0.026335</td>\n    </tr>\n    <tr>\n      <th>Descript_TRAFFIC VIOLATION</th>\n      <td>-0.060941</td>\n      <td>-0.078898</td>\n      <td>0.006316</td>\n      <td>-0.046007</td>\n      <td>-0.056699</td>\n      <td>-0.033018</td>\n      <td>-0.101819</td>\n      <td>0.084001</td>\n      <td>-0.080665</td>\n      <td>-0.062168</td>\n      <td>...</td>\n      <td>-0.033928</td>\n      <td>-0.032182</td>\n      <td>0.235852</td>\n      <td>-0.065877</td>\n      <td>-0.082026</td>\n      <td>-0.029725</td>\n      <td>0.026519</td>\n      <td>0.070236</td>\n      <td>0.089271</td>\n      <td>0.071442</td>\n    </tr>\n    <tr>\n      <th>Descript_TRAFFIC VIOLATION ARREST</th>\n      <td>-0.067558</td>\n      <td>-0.090981</td>\n      <td>0.008704</td>\n      <td>-0.046052</td>\n      <td>-0.064257</td>\n      <td>-0.039780</td>\n      <td>-0.112889</td>\n      <td>0.093439</td>\n      <td>-0.088696</td>\n      <td>-0.070131</td>\n      <td>...</td>\n      <td>-0.008866</td>\n      <td>-0.008607</td>\n      <td>-0.000776</td>\n      <td>0.129646</td>\n      <td>0.100961</td>\n      <td>-0.050602</td>\n      <td>-0.011905</td>\n      <td>0.072676</td>\n      <td>0.100168</td>\n      <td>0.078996</td>\n    </tr>\n    <tr>\n      <th>Descript_TRESPASSING</th>\n      <td>-0.033509</td>\n      <td>-0.023547</td>\n      <td>0.013995</td>\n      <td>-0.000613</td>\n      <td>-0.013859</td>\n      <td>-0.017302</td>\n      <td>0.008371</td>\n      <td>0.000276</td>\n      <td>0.633228</td>\n      <td>-0.223504</td>\n      <td>...</td>\n      <td>-0.000351</td>\n      <td>-0.000335</td>\n      <td>0.007251</td>\n      <td>0.012235</td>\n      <td>0.004433</td>\n      <td>0.026181</td>\n      <td>0.009411</td>\n      <td>0.034072</td>\n      <td>0.040187</td>\n      <td>0.017867</td>\n    </tr>\n    <tr>\n      <th>Descript_WARRANT ARREST</th>\n      <td>-0.056232</td>\n      <td>-0.192985</td>\n      <td>0.333424</td>\n      <td>0.253325</td>\n      <td>0.230137</td>\n      <td>0.089839</td>\n      <td>-0.001109</td>\n      <td>-0.003379</td>\n      <td>-0.016151</td>\n      <td>0.012931</td>\n      <td>...</td>\n      <td>-0.008762</td>\n      <td>-0.001052</td>\n      <td>0.010911</td>\n      <td>-0.008455</td>\n      <td>0.059507</td>\n      <td>0.014282</td>\n      <td>-0.006274</td>\n      <td>0.008475</td>\n      <td>0.009680</td>\n      <td>0.002952</td>\n    </tr>\n  </tbody>\n</table>\n<p>63 rows × 50 columns</p>\n</div>"
     },
     "metadata": {},
     "execution_count": 21
    }
   ],
   "source": [
    "pca_dims = []\n",
    "for x in range(0, len(pca_df)):\n",
    "    pca_dims.append('PCA Component {}'.format(x))\n",
    "pca_test_df = pd.DataFrame(pca.components_, columns=columns, index=pca_dims)\n",
    "pca_test_df.head(50).T"
   ]
  },
  {
   "cell_type": "code",
   "execution_count": 22,
   "metadata": {},
   "outputs": [
    {
     "output_type": "execute_result",
     "data": {
      "text/plain": [
       "          0         1         2         3         4         5         6  \\\n",
       "0 -1.246750 -0.844068 -0.409222 -0.132834 -0.630385 -0.377883 -0.069611   \n",
       "1 -1.246750 -0.844068 -0.409222 -0.132834 -0.630385 -0.377883 -0.069611   \n",
       "2 -0.895674 -2.624254  4.575264  3.256476  3.297004  1.436539 -0.077342   \n",
       "3 -0.518046  1.870769 -1.905241  3.460478  0.170920 -0.182901 -0.438931   \n",
       "4 -0.692510  1.985794 -1.978356  3.231742  0.185565 -0.155337 -0.409014   \n",
       "\n",
       "          7         8         9  ...        41        42        43        44  \\\n",
       "0 -0.022982  0.525461  0.509816  ... -0.459491  3.615547 -0.559291 -1.281498   \n",
       "1 -0.022982  0.525461  0.509816  ... -0.459491  3.615547 -0.559291 -1.281498   \n",
       "2 -0.052912 -0.334082  0.188428  ... -0.054629  1.259550  1.101362  0.978752   \n",
       "3 -0.046643 -0.302505 -0.287033  ...  0.126208 -0.955255  1.025470 -1.150519   \n",
       "4 -0.098214 -0.292047 -0.284270  ...  0.089400  0.549029  0.164637  0.296134   \n",
       "\n",
       "         45        46        47        48        49  Target  \n",
       "0 -1.412709  0.253647  1.199879  0.385661  0.028593       0  \n",
       "1 -1.412709  0.253647  1.199879  0.385661  0.028593       0  \n",
       "2  0.879054 -0.426530 -0.056600  0.109615  0.016318       0  \n",
       "3 -0.170961  0.938536  0.276246  0.063581  0.027090       1  \n",
       "4 -1.174351 -0.775759  0.005266  0.160528  0.028320       1  \n",
       "\n",
       "[5 rows x 51 columns]"
      ],
      "text/html": "<div>\n<style scoped>\n    .dataframe tbody tr th:only-of-type {\n        vertical-align: middle;\n    }\n\n    .dataframe tbody tr th {\n        vertical-align: top;\n    }\n\n    .dataframe thead th {\n        text-align: right;\n    }\n</style>\n<table border=\"1\" class=\"dataframe\">\n  <thead>\n    <tr style=\"text-align: right;\">\n      <th></th>\n      <th>0</th>\n      <th>1</th>\n      <th>2</th>\n      <th>3</th>\n      <th>4</th>\n      <th>5</th>\n      <th>6</th>\n      <th>7</th>\n      <th>8</th>\n      <th>9</th>\n      <th>...</th>\n      <th>41</th>\n      <th>42</th>\n      <th>43</th>\n      <th>44</th>\n      <th>45</th>\n      <th>46</th>\n      <th>47</th>\n      <th>48</th>\n      <th>49</th>\n      <th>Target</th>\n    </tr>\n  </thead>\n  <tbody>\n    <tr>\n      <th>0</th>\n      <td>-1.246750</td>\n      <td>-0.844068</td>\n      <td>-0.409222</td>\n      <td>-0.132834</td>\n      <td>-0.630385</td>\n      <td>-0.377883</td>\n      <td>-0.069611</td>\n      <td>-0.022982</td>\n      <td>0.525461</td>\n      <td>0.509816</td>\n      <td>...</td>\n      <td>-0.459491</td>\n      <td>3.615547</td>\n      <td>-0.559291</td>\n      <td>-1.281498</td>\n      <td>-1.412709</td>\n      <td>0.253647</td>\n      <td>1.199879</td>\n      <td>0.385661</td>\n      <td>0.028593</td>\n      <td>0</td>\n    </tr>\n    <tr>\n      <th>1</th>\n      <td>-1.246750</td>\n      <td>-0.844068</td>\n      <td>-0.409222</td>\n      <td>-0.132834</td>\n      <td>-0.630385</td>\n      <td>-0.377883</td>\n      <td>-0.069611</td>\n      <td>-0.022982</td>\n      <td>0.525461</td>\n      <td>0.509816</td>\n      <td>...</td>\n      <td>-0.459491</td>\n      <td>3.615547</td>\n      <td>-0.559291</td>\n      <td>-1.281498</td>\n      <td>-1.412709</td>\n      <td>0.253647</td>\n      <td>1.199879</td>\n      <td>0.385661</td>\n      <td>0.028593</td>\n      <td>0</td>\n    </tr>\n    <tr>\n      <th>2</th>\n      <td>-0.895674</td>\n      <td>-2.624254</td>\n      <td>4.575264</td>\n      <td>3.256476</td>\n      <td>3.297004</td>\n      <td>1.436539</td>\n      <td>-0.077342</td>\n      <td>-0.052912</td>\n      <td>-0.334082</td>\n      <td>0.188428</td>\n      <td>...</td>\n      <td>-0.054629</td>\n      <td>1.259550</td>\n      <td>1.101362</td>\n      <td>0.978752</td>\n      <td>0.879054</td>\n      <td>-0.426530</td>\n      <td>-0.056600</td>\n      <td>0.109615</td>\n      <td>0.016318</td>\n      <td>0</td>\n    </tr>\n    <tr>\n      <th>3</th>\n      <td>-0.518046</td>\n      <td>1.870769</td>\n      <td>-1.905241</td>\n      <td>3.460478</td>\n      <td>0.170920</td>\n      <td>-0.182901</td>\n      <td>-0.438931</td>\n      <td>-0.046643</td>\n      <td>-0.302505</td>\n      <td>-0.287033</td>\n      <td>...</td>\n      <td>0.126208</td>\n      <td>-0.955255</td>\n      <td>1.025470</td>\n      <td>-1.150519</td>\n      <td>-0.170961</td>\n      <td>0.938536</td>\n      <td>0.276246</td>\n      <td>0.063581</td>\n      <td>0.027090</td>\n      <td>1</td>\n    </tr>\n    <tr>\n      <th>4</th>\n      <td>-0.692510</td>\n      <td>1.985794</td>\n      <td>-1.978356</td>\n      <td>3.231742</td>\n      <td>0.185565</td>\n      <td>-0.155337</td>\n      <td>-0.409014</td>\n      <td>-0.098214</td>\n      <td>-0.292047</td>\n      <td>-0.284270</td>\n      <td>...</td>\n      <td>0.089400</td>\n      <td>0.549029</td>\n      <td>0.164637</td>\n      <td>0.296134</td>\n      <td>-1.174351</td>\n      <td>-0.775759</td>\n      <td>0.005266</td>\n      <td>0.160528</td>\n      <td>0.028320</td>\n      <td>1</td>\n    </tr>\n  </tbody>\n</table>\n<p>5 rows × 51 columns</p>\n</div>"
     },
     "metadata": {},
     "execution_count": 22
    }
   ],
   "source": [
    "#create pca dataframe for future use\n",
    "df = pd.DataFrame(data = crime_pca)\n",
    "df['Target'] = scaled_features['Resolutions']\n",
    "df.head()"
   ]
  },
  {
   "cell_type": "code",
   "execution_count": 23,
   "metadata": {},
   "outputs": [],
   "source": [
    "# Saving PCA dataframe\n",
    "file_path = \"../Resources/pca_df.csv\"\n",
    "df.to_csv(file_path, index=False)"
   ]
  },
  {
   "cell_type": "code",
   "execution_count": null,
   "metadata": {},
   "outputs": [],
   "source": []
  }
 ]
}