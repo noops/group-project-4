{
 "metadata": {
  "language_info": {
   "codemirror_mode": {
    "name": "ipython",
    "version": 3
   },
   "file_extension": ".py",
   "mimetype": "text/x-python",
   "name": "python",
   "nbconvert_exporter": "python",
   "pygments_lexer": "ipython3",
   "version": "3.7.7-final"
  },
  "orig_nbformat": 2,
  "kernelspec": {
   "name": "python3",
   "display_name": "Python 3"
  }
 },
 "nbformat": 4,
 "nbformat_minor": 2,
 "cells": [
  {
   "cell_type": "code",
   "execution_count": 1,
   "metadata": {},
   "outputs": [],
   "source": [
    "import pandas as pd\n",
    "import numpy as np\n",
    "from path import Path\n",
    "import matplotlib.pyplot as plt\n",
    "import seaborn as sns"
   ]
  },
  {
   "cell_type": "code",
   "execution_count": 2,
   "metadata": {},
   "outputs": [
    {
     "output_type": "execute_result",
     "data": {
      "text/plain": [
       "             PdId  IncidntNum      Category        Descript  PdDistrict Month  \\\n",
       "0  12005827212120   120058272   WEAPON LAWS           OTHER    SOUTHERN   Jan   \n",
       "1  12005827212168   120058272   WEAPON LAWS           OTHER    SOUTHERN   Jan   \n",
       "2  14105926363010   141059263      WARRANTS  WARRANT ARREST     BAYVIEW   Apr   \n",
       "3  16001366271000   160013662  NON-CRIMINAL   LOST PROPERTY  TENDERLOIN   Jan   \n",
       "4  16000274071000   160002740  NON-CRIMINAL   LOST PROPERTY     MISSION   Jan   \n",
       "\n",
       "  DayOfWeek Time_of_Day                 Address  ZipCode      Resolution  \\\n",
       "0    Friday     Morning  800 Block of BRYANT ST    94103  ARREST, BOOKED   \n",
       "1    Friday     Morning  800 Block of BRYANT ST    94103  ARREST, BOOKED   \n",
       "2    Monday   Afternoon   KEITH ST / SHAFTER AV    94124  ARREST, BOOKED   \n",
       "3   Tuesday     Evening  JONES ST / OFARRELL ST    94108            NONE   \n",
       "4    Friday       Night    16TH ST / MISSION ST    94102            NONE   \n",
       "\n",
       "   Categories  Descriptions  PdDistricts  Months  Day  TimeOfDay  Resolutions  \n",
       "0          16            25            7       4    0          2            0  \n",
       "1          16            25            7       4    0          2            0  \n",
       "2          15            39            0       0    1          0            0  \n",
       "3           6            19            9       4    5          1            1  \n",
       "4           6            19            3       4    0          3            1  "
      ],
      "text/html": "<div>\n<style scoped>\n    .dataframe tbody tr th:only-of-type {\n        vertical-align: middle;\n    }\n\n    .dataframe tbody tr th {\n        vertical-align: top;\n    }\n\n    .dataframe thead th {\n        text-align: right;\n    }\n</style>\n<table border=\"1\" class=\"dataframe\">\n  <thead>\n    <tr style=\"text-align: right;\">\n      <th></th>\n      <th>PdId</th>\n      <th>IncidntNum</th>\n      <th>Category</th>\n      <th>Descript</th>\n      <th>PdDistrict</th>\n      <th>Month</th>\n      <th>DayOfWeek</th>\n      <th>Time_of_Day</th>\n      <th>Address</th>\n      <th>ZipCode</th>\n      <th>Resolution</th>\n      <th>Categories</th>\n      <th>Descriptions</th>\n      <th>PdDistricts</th>\n      <th>Months</th>\n      <th>Day</th>\n      <th>TimeOfDay</th>\n      <th>Resolutions</th>\n    </tr>\n  </thead>\n  <tbody>\n    <tr>\n      <th>0</th>\n      <td>12005827212120</td>\n      <td>120058272</td>\n      <td>WEAPON LAWS</td>\n      <td>OTHER</td>\n      <td>SOUTHERN</td>\n      <td>Jan</td>\n      <td>Friday</td>\n      <td>Morning</td>\n      <td>800 Block of BRYANT ST</td>\n      <td>94103</td>\n      <td>ARREST, BOOKED</td>\n      <td>16</td>\n      <td>25</td>\n      <td>7</td>\n      <td>4</td>\n      <td>0</td>\n      <td>2</td>\n      <td>0</td>\n    </tr>\n    <tr>\n      <th>1</th>\n      <td>12005827212168</td>\n      <td>120058272</td>\n      <td>WEAPON LAWS</td>\n      <td>OTHER</td>\n      <td>SOUTHERN</td>\n      <td>Jan</td>\n      <td>Friday</td>\n      <td>Morning</td>\n      <td>800 Block of BRYANT ST</td>\n      <td>94103</td>\n      <td>ARREST, BOOKED</td>\n      <td>16</td>\n      <td>25</td>\n      <td>7</td>\n      <td>4</td>\n      <td>0</td>\n      <td>2</td>\n      <td>0</td>\n    </tr>\n    <tr>\n      <th>2</th>\n      <td>14105926363010</td>\n      <td>141059263</td>\n      <td>WARRANTS</td>\n      <td>WARRANT ARREST</td>\n      <td>BAYVIEW</td>\n      <td>Apr</td>\n      <td>Monday</td>\n      <td>Afternoon</td>\n      <td>KEITH ST / SHAFTER AV</td>\n      <td>94124</td>\n      <td>ARREST, BOOKED</td>\n      <td>15</td>\n      <td>39</td>\n      <td>0</td>\n      <td>0</td>\n      <td>1</td>\n      <td>0</td>\n      <td>0</td>\n    </tr>\n    <tr>\n      <th>3</th>\n      <td>16001366271000</td>\n      <td>160013662</td>\n      <td>NON-CRIMINAL</td>\n      <td>LOST PROPERTY</td>\n      <td>TENDERLOIN</td>\n      <td>Jan</td>\n      <td>Tuesday</td>\n      <td>Evening</td>\n      <td>JONES ST / OFARRELL ST</td>\n      <td>94108</td>\n      <td>NONE</td>\n      <td>6</td>\n      <td>19</td>\n      <td>9</td>\n      <td>4</td>\n      <td>5</td>\n      <td>1</td>\n      <td>1</td>\n    </tr>\n    <tr>\n      <th>4</th>\n      <td>16000274071000</td>\n      <td>160002740</td>\n      <td>NON-CRIMINAL</td>\n      <td>LOST PROPERTY</td>\n      <td>MISSION</td>\n      <td>Jan</td>\n      <td>Friday</td>\n      <td>Night</td>\n      <td>16TH ST / MISSION ST</td>\n      <td>94102</td>\n      <td>NONE</td>\n      <td>6</td>\n      <td>19</td>\n      <td>3</td>\n      <td>4</td>\n      <td>0</td>\n      <td>3</td>\n      <td>1</td>\n    </tr>\n  </tbody>\n</table>\n</div>"
     },
     "metadata": {},
     "execution_count": 2
    }
   ],
   "source": [
    "#load data\n",
    "file_path = Path(\"../Resources/categorical_df.csv\")\n",
    "df = pd.read_csv(file_path)\n",
    "df.head()"
   ]
  },
  {
   "cell_type": "code",
   "execution_count": 3,
   "metadata": {},
   "outputs": [
    {
     "output_type": "execute_result",
     "data": {
      "text/plain": [
       "array(['SOUTHERN', 'BAYVIEW', 'TENDERLOIN', 'MISSION', 'NORTHERN',\n",
       "       'TARAVAL', 'INGLESIDE', 'CENTRAL', 'RICHMOND', 'PARK'],\n",
       "      dtype=object)"
      ]
     },
     "metadata": {},
     "execution_count": 3
    }
   ],
   "source": [
    "df.PdDistrict.unique()"
   ]
  },
  {
   "cell_type": "code",
   "execution_count": 4,
   "metadata": {},
   "outputs": [
    {
     "output_type": "execute_result",
     "data": {
      "text/plain": [
       "array([7, 0, 9, 3, 4, 8, 2, 1, 6, 5])"
      ]
     },
     "metadata": {},
     "execution_count": 4
    }
   ],
   "source": [
    "df.PdDistricts.unique()"
   ]
  },
  {
   "cell_type": "code",
   "execution_count": 5,
   "metadata": {},
   "outputs": [],
   "source": [
    "test_keys = [7, 0, 9, 3, 4, 8, 2, 1, 6, 5]\n",
    "test_values = [94103, 94124, 94108, 94102, 94109, 94158, 94122, 94116, 94112,\n",
    "       94104, 94110, 94132, 94114, 94131, 94134, 94117, 94115, 94105,\n",
    "       94127, 94118, 94111, 94123, 94107, 94130, 94129]"
   ]
  },
  {
   "cell_type": "code",
   "execution_count": 6,
   "metadata": {},
   "outputs": [
    {
     "output_type": "execute_result",
     "data": {
      "text/plain": [
       "[94102,\n",
       " 94103,\n",
       " 94104,\n",
       " 94105,\n",
       " 94107,\n",
       " 94108,\n",
       " 94109,\n",
       " 94110,\n",
       " 94111,\n",
       " 94112,\n",
       " 94114,\n",
       " 94115,\n",
       " 94116,\n",
       " 94117,\n",
       " 94118,\n",
       " 94122,\n",
       " 94123,\n",
       " 94124,\n",
       " 94127,\n",
       " 94129,\n",
       " 94130,\n",
       " 94131,\n",
       " 94132,\n",
       " 94134,\n",
       " 94158]"
      ]
     },
     "metadata": {},
     "execution_count": 6
    }
   ],
   "source": [
    "test_values.sort()\n",
    "test_values"
   ]
  },
  {
   "cell_type": "code",
   "execution_count": 7,
   "metadata": {},
   "outputs": [],
   "source": [
    "res = {} \n",
    "for key in test_keys: \n",
    "    for value in test_values: \n",
    "        res[key] = value \n",
    "        test_values.remove(value) \n",
    "        break  "
   ]
  },
  {
   "cell_type": "code",
   "execution_count": 8,
   "metadata": {},
   "outputs": [
    {
     "output_type": "execute_result",
     "data": {
      "text/plain": [
       "{7: 94102,\n",
       " 0: 94103,\n",
       " 9: 94104,\n",
       " 3: 94105,\n",
       " 4: 94107,\n",
       " 8: 94108,\n",
       " 2: 94109,\n",
       " 1: 94110,\n",
       " 6: 94111,\n",
       " 5: 94112}"
      ]
     },
     "metadata": {},
     "execution_count": 8
    }
   ],
   "source": [
    "res"
   ]
  },
  {
   "cell_type": "code",
   "execution_count": 9,
   "metadata": {},
   "outputs": [
    {
     "output_type": "error",
     "ename": "IndentationError",
     "evalue": "unexpected indent (<ipython-input-9-c1b6dc4ea780>, line 12)",
     "traceback": [
      "\u001b[0;36m  File \u001b[0;32m\"<ipython-input-9-c1b6dc4ea780>\"\u001b[0;36m, line \u001b[0;32m12\u001b[0m\n\u001b[0;31m    {7: 94103,\u001b[0m\n\u001b[0m    ^\u001b[0m\n\u001b[0;31mIndentationError\u001b[0m\u001b[0;31m:\u001b[0m unexpected indent\n"
     ]
    }
   ],
   "source": [
    "#pd district zipcode dictionaries. single digit number corresponds to pd district \n",
    "# {'7': 94103,\n",
    "#  '0': 94124,\n",
    "#  '9': 94108,\n",
    "#  '3': 94102,\n",
    "#  '4': 94109,\n",
    "#  '8': 94158,\n",
    "#  '2': 94122,\n",
    "#  '1': 94116,\n",
    "#  '6': 94112,\n",
    "#  '5': 94104}\n",
    "\n",
    "#  {7: 94103,\n",
    "#  0: 94124,\n",
    "#  9: 94108,\n",
    "#  3: 94102,\n",
    "#  4: 94109,\n",
    "#  8: 94158,\n",
    "#  2: 94122,\n",
    "#  1: 94116,\n",
    "#  6: 94112,\n",
    "#  5: 94104}"
   ]
  },
  {
   "cell_type": "code",
   "execution_count": 10,
   "metadata": {},
   "outputs": [],
   "source": [
    "from imblearn.ensemble import BalancedRandomForestClassifier\n",
    "from sklearn.model_selection import train_test_split\n",
    "from sklearn.metrics import balanced_accuracy_score\n",
    "from sklearn.metrics import confusion_matrix\n",
    "from imblearn.metrics import classification_report_imbalanced\n",
    "from sklearn.decomposition import PCA"
   ]
  },
  {
   "cell_type": "code",
   "execution_count": 11,
   "metadata": {},
   "outputs": [],
   "source": [
    "encoded_df = pd.read_csv('/Users/bkirton/Desktop/sanFranCrimePredictor/Resources/encoded_df.csv')\n"
   ]
  },
  {
   "cell_type": "code",
   "execution_count": 12,
   "metadata": {},
   "outputs": [
    {
     "output_type": "execute_result",
     "data": {
      "text/plain": [
       "   Categories  Descriptions  PdDistricts  Months  Day  TimeOfDay  ZipCode  \\\n",
       "0          16            25            7       4    0          2    94103   \n",
       "1          16            25            7       4    0          2    94103   \n",
       "2          15            39            0       0    1          0    94124   \n",
       "3           6            19            9       4    5          1    94108   \n",
       "4           6            19            3       4    0          3    94102   \n",
       "\n",
       "   Resolutions  \n",
       "0            0  \n",
       "1            0  \n",
       "2            0  \n",
       "3            1  \n",
       "4            1  "
      ],
      "text/html": "<div>\n<style scoped>\n    .dataframe tbody tr th:only-of-type {\n        vertical-align: middle;\n    }\n\n    .dataframe tbody tr th {\n        vertical-align: top;\n    }\n\n    .dataframe thead th {\n        text-align: right;\n    }\n</style>\n<table border=\"1\" class=\"dataframe\">\n  <thead>\n    <tr style=\"text-align: right;\">\n      <th></th>\n      <th>Categories</th>\n      <th>Descriptions</th>\n      <th>PdDistricts</th>\n      <th>Months</th>\n      <th>Day</th>\n      <th>TimeOfDay</th>\n      <th>ZipCode</th>\n      <th>Resolutions</th>\n    </tr>\n  </thead>\n  <tbody>\n    <tr>\n      <th>0</th>\n      <td>16</td>\n      <td>25</td>\n      <td>7</td>\n      <td>4</td>\n      <td>0</td>\n      <td>2</td>\n      <td>94103</td>\n      <td>0</td>\n    </tr>\n    <tr>\n      <th>1</th>\n      <td>16</td>\n      <td>25</td>\n      <td>7</td>\n      <td>4</td>\n      <td>0</td>\n      <td>2</td>\n      <td>94103</td>\n      <td>0</td>\n    </tr>\n    <tr>\n      <th>2</th>\n      <td>15</td>\n      <td>39</td>\n      <td>0</td>\n      <td>0</td>\n      <td>1</td>\n      <td>0</td>\n      <td>94124</td>\n      <td>0</td>\n    </tr>\n    <tr>\n      <th>3</th>\n      <td>6</td>\n      <td>19</td>\n      <td>9</td>\n      <td>4</td>\n      <td>5</td>\n      <td>1</td>\n      <td>94108</td>\n      <td>1</td>\n    </tr>\n    <tr>\n      <th>4</th>\n      <td>6</td>\n      <td>19</td>\n      <td>3</td>\n      <td>4</td>\n      <td>0</td>\n      <td>3</td>\n      <td>94102</td>\n      <td>1</td>\n    </tr>\n  </tbody>\n</table>\n</div>"
     },
     "metadata": {},
     "execution_count": 12
    }
   ],
   "source": [
    "encoded_df.head()"
   ]
  },
  {
   "cell_type": "code",
   "execution_count": 14,
   "metadata": {},
   "outputs": [],
   "source": [
    "#create features\n",
    "X = encoded_df.drop(\"Resolutions\", axis=1)\n",
    "\n",
    "#create target\n",
    "y = encoded_df[\"Resolutions\"]"
   ]
  },
  {
   "cell_type": "code",
   "execution_count": 15,
   "metadata": {},
   "outputs": [],
   "source": [
    "#train test split\n",
    "X_train, X_test, y_train, y_test = train_test_split(X, y, random_state=2020, test_size=0.5)"
   ]
  },
  {
   "cell_type": "code",
   "execution_count": 16,
   "metadata": {},
   "outputs": [],
   "source": [
    "#train the model\n",
    "brf = BalancedRandomForestClassifier()\n",
    "brf.fit(X_train, y_train)\n",
    "y_pred = brf.predict(X_test)"
   ]
  },
  {
   "cell_type": "code",
   "execution_count": 17,
   "metadata": {},
   "outputs": [
    {
     "output_type": "stream",
     "name": "stdout",
     "text": [
      "balanced accuracy score = 83.57%\n"
     ]
    }
   ],
   "source": [
    "# Calculated the balanced accuracy score\n",
    "balanced_acc_score = balanced_accuracy_score(y_test,y_pred)\n",
    "print(f\"balanced accuracy score = {balanced_acc_score*100:.2f}%\")"
   ]
  },
  {
   "cell_type": "code",
   "execution_count": 18,
   "metadata": {},
   "outputs": [
    {
     "output_type": "display_data",
     "data": {
      "text/plain": "          Predicted 0  Predicted 1\nAcutal 0        16624         3019\nActual 1         9442        44513",
      "text/html": "<div>\n<style scoped>\n    .dataframe tbody tr th:only-of-type {\n        vertical-align: middle;\n    }\n\n    .dataframe tbody tr th {\n        vertical-align: top;\n    }\n\n    .dataframe thead th {\n        text-align: right;\n    }\n</style>\n<table border=\"1\" class=\"dataframe\">\n  <thead>\n    <tr style=\"text-align: right;\">\n      <th></th>\n      <th>Predicted 0</th>\n      <th>Predicted 1</th>\n    </tr>\n  </thead>\n  <tbody>\n    <tr>\n      <th>Acutal 0</th>\n      <td>16624</td>\n      <td>3019</td>\n    </tr>\n    <tr>\n      <th>Actual 1</th>\n      <td>9442</td>\n      <td>44513</td>\n    </tr>\n  </tbody>\n</table>\n</div>"
     },
     "metadata": {}
    }
   ],
   "source": [
    "# Display the confusion matrix\n",
    "cm = confusion_matrix(y_test, y_pred)\n",
    "cm_df = pd.DataFrame(cm, index=[\"Acutal 0\", \"Actual 1\"], columns=[\"Predicted 0\", \"Predicted 1\"])\n",
    "display(cm_df)"
   ]
  },
  {
   "cell_type": "code",
   "execution_count": 19,
   "metadata": {},
   "outputs": [
    {
     "output_type": "stream",
     "name": "stdout",
     "text": [
      "imbalanced classification report\n                   pre       rec       spe        f1       geo       iba       sup\n\n          0       0.64      0.85      0.83      0.73      0.84      0.70     19643\n          1       0.94      0.83      0.85      0.88      0.84      0.70     53955\n\navg / total       0.86      0.83      0.84      0.84      0.84      0.70     73598\n\n"
     ]
    }
   ],
   "source": [
    "# Print the imbalanced classification report\n",
    "print(\"imbalanced classification report\")\n",
    "print(classification_report_imbalanced(y_test,y_pred))"
   ]
  },
  {
   "cell_type": "code",
   "execution_count": 20,
   "metadata": {},
   "outputs": [
    {
     "output_type": "execute_result",
     "data": {
      "text/plain": [
       "array([[ 1.79642997e+01,  1.24382865e+01, -4.13692019e-01,\n",
       "         5.32515065e-03,  1.15512945e-01,  6.13917033e-02,\n",
       "         1.30831155e+00],\n",
       "       [ 1.24382865e+01,  8.94413882e+01, -1.82309158e-01,\n",
       "         4.25978494e-02,  2.71738380e-01,  1.02837615e-01,\n",
       "         1.30522958e+00],\n",
       "       [-4.13692019e-01, -1.82309158e-01,  7.73161940e+00,\n",
       "        -6.26487769e-02,  4.09348237e-02, -3.43945457e-02,\n",
       "        -7.98895320e+00],\n",
       "       [ 5.32515065e-03,  4.25978494e-02, -6.26487769e-02,\n",
       "         1.19897038e+01,  8.81438889e-02,  2.19238037e-02,\n",
       "         3.08494432e-01],\n",
       "       [ 1.15512945e-01,  2.71738380e-01,  4.09348237e-02,\n",
       "         8.81438889e-02,  4.07618479e+00, -2.65877045e-02,\n",
       "         1.89176219e-01],\n",
       "       [ 6.13917033e-02,  1.02837615e-01, -3.43945457e-02,\n",
       "         2.19238037e-02, -2.65877045e-02,  1.16462308e+00,\n",
       "         1.19354049e-01],\n",
       "       [ 1.30831155e+00,  1.30522958e+00, -7.98895320e+00,\n",
       "         3.08494432e-01,  1.89176219e-01,  1.19354049e-01,\n",
       "         1.40744031e+02]])"
      ]
     },
     "metadata": {},
     "execution_count": 20
    }
   ],
   "source": [
    "df_cov_matrix = np.cov(X.T)\n",
    "df_cov_matrix\n"
   ]
  },
  {
   "cell_type": "code",
   "execution_count": 21,
   "metadata": {},
   "outputs": [
    {
     "output_type": "stream",
     "name": "stdout",
     "text": [
      "Eigenvectors \n[[ 1.36747408e-02 -1.66177861e-01 -9.85317520e-01  3.01180782e-03\n   6.59186474e-03  3.59829211e-02  1.07112324e-04]\n [ 2.86239765e-02 -9.85615934e-01  1.66487870e-01  7.50915135e-04\n   2.20710071e-03 -4.23274849e-03 -5.79574151e-04]\n [-5.97660748e-02  5.00259037e-05  3.56870794e-02 -4.23588383e-03\n   1.72911202e-02  9.97374502e-01 -9.03453857e-03]\n [ 2.42067690e-03 -4.24527554e-04  6.23196898e-04  2.05558079e-03\n   1.11366615e-02  8.99578035e-03  9.99892193e-01]\n [ 1.42739554e-03 -3.21708523e-03 -5.50778242e-03 -9.35903166e-03\n  -9.99718183e-01  1.76743567e-02  1.09935633e-02]\n [ 8.91655732e-04 -1.19376176e-03 -2.93471491e-03 -9.99940130e-01\n   9.32944577e-03 -4.23200627e-03  1.98900718e-03]\n [ 9.97703861e-01  3.05645409e-02  1.08752345e-02  5.85487835e-04\n   2.27704913e-03  5.93312623e-02 -2.96953400e-03]]\nEigenvalues \n[141.27910281  91.49908449  15.86398641   1.16385144   4.07295052\n   7.24253193  11.99034228]\n"
     ]
    }
   ],
   "source": [
    "#calculate eigenvectors and eigenvalues on covariance matrix\n",
    "eig_vals, eig_vecs = np.linalg.eig(df_cov_matrix)\n",
    "print('Eigenvectors \\n%s' %eig_vecs)\n",
    "print('Eigenvalues \\n%s' %eig_vals)"
   ]
  },
  {
   "cell_type": "code",
   "execution_count": 22,
   "metadata": {},
   "outputs": [
    {
     "output_type": "stream",
     "name": "stdout",
     "text": [
      "Eigenvalues in descending order:\n141.2791028063714\n91.49908449055023\n15.863986405327603\n1.1638514371678854\n4.072950523921879\n7.242531926457218\n11.990342275347041\n"
     ]
    }
   ],
   "source": [
    "#sort eigenvalues in decreasing order. first value is most significant and forms our first principal component\n",
    "eig_pairs = [(np.abs(eig_vals[i]), eig_vecs[:,i]) for i in range(len(eig_vals))]\n",
    "print('Eigenvalues in descending order:')\n",
    "for i in eig_pairs:\n",
    "    print(i[0])"
   ]
  },
  {
   "cell_type": "code",
   "execution_count": 23,
   "metadata": {},
   "outputs": [
    {
     "output_type": "stream",
     "name": "stdout",
     "text": [
      "Variance captured by each component is \n [51.72939324168174, 33.50242200612332, 5.808604208554443, 4.390268046321539, 2.651855615211652, 1.4913122685570084, 0.42614461355029826]\nCumulative variance captured as we travel with each component \n [ 51.72939324  85.23181525  91.04041946  95.4306875   98.08254312\n  99.57385539 100.        ]\n"
     ]
    }
   ],
   "source": [
    "#selecting the number of principal components\n",
    "total = sum(eig_vals)\n",
    "var_exp = [(i/total)*100 for i in sorted(eig_vals, reverse=True)]\n",
    "cum_var_exp = np.cumsum(var_exp)\n",
    "print(\"Variance captured by each component is \\n\", var_exp)\n",
    "print(\"Cumulative variance captured as we travel with each component \\n\", cum_var_exp)"
   ]
  },
  {
   "cell_type": "code",
   "execution_count": 24,
   "metadata": {},
   "outputs": [
    {
     "output_type": "display_data",
     "data": {
      "text/plain": "<Figure size 432x288 with 1 Axes>",
      "image/svg+xml": "<?xml version=\"1.0\" encoding=\"utf-8\" standalone=\"no\"?>\n<!DOCTYPE svg PUBLIC \"-//W3C//DTD SVG 1.1//EN\"\n  \"http://www.w3.org/Graphics/SVG/1.1/DTD/svg11.dtd\">\n<!-- Created with matplotlib (https://matplotlib.org/) -->\n<svg height=\"266.520469pt\" version=\"1.1\" viewBox=\"0 0 388.964375 266.520469\" width=\"388.964375pt\" xmlns=\"http://www.w3.org/2000/svg\" xmlns:xlink=\"http://www.w3.org/1999/xlink\">\n <defs>\n  <style type=\"text/css\">\n*{stroke-linecap:butt;stroke-linejoin:round;}\n  </style>\n </defs>\n <g id=\"figure_1\">\n  <g id=\"patch_1\">\n   <path d=\"M 0 266.520469 \nL 388.964375 266.520469 \nL 388.964375 0 \nL 0 0 \nz\n\" style=\"fill:#ffffff;\"/>\n  </g>\n  <g id=\"axes_1\">\n   <g id=\"patch_2\">\n    <path d=\"M 46.964375 224.64 \nL 381.764375 224.64 \nL 381.764375 7.2 \nL 46.964375 7.2 \nz\n\" style=\"fill:#ffffff;\"/>\n   </g>\n   <g id=\"matplotlib.axis_1\">\n    <g id=\"xtick_1\">\n     <g id=\"line2d_1\">\n      <path clip-path=\"url(#p95d2e38bac)\" d=\"M 62.182557 224.64 \nL 62.182557 7.2 \n\" style=\"fill:none;stroke:#cccccc;stroke-linecap:round;\"/>\n     </g>\n     <g id=\"text_1\">\n      <!-- 0 -->\n      <defs>\n       <path d=\"M 4.15625 35.296875 \nQ 4.15625 48 6.765625 55.734375 \nQ 9.375 63.484375 14.515625 67.671875 \nQ 19.671875 71.875 27.484375 71.875 \nQ 33.25 71.875 37.59375 69.546875 \nQ 41.9375 67.234375 44.765625 62.859375 \nQ 47.609375 58.5 49.21875 52.21875 \nQ 50.828125 45.953125 50.828125 35.296875 \nQ 50.828125 22.703125 48.234375 14.96875 \nQ 45.65625 7.234375 40.5 3 \nQ 35.359375 -1.21875 27.484375 -1.21875 \nQ 17.140625 -1.21875 11.234375 6.203125 \nQ 4.15625 15.140625 4.15625 35.296875 \nz\nM 13.1875 35.296875 \nQ 13.1875 17.671875 17.3125 11.828125 \nQ 21.4375 6 27.484375 6 \nQ 33.546875 6 37.671875 11.859375 \nQ 41.796875 17.71875 41.796875 35.296875 \nQ 41.796875 52.984375 37.671875 58.78125 \nQ 33.546875 64.59375 27.390625 64.59375 \nQ 21.34375 64.59375 17.71875 59.46875 \nQ 13.1875 52.9375 13.1875 35.296875 \nz\n\" id=\"ArialMT-48\"/>\n      </defs>\n      <g style=\"fill:#262626;\" transform=\"translate(59.124041 242.013594)scale(0.11 -0.11)\">\n       <use xlink:href=\"#ArialMT-48\"/>\n      </g>\n     </g>\n    </g>\n    <g id=\"xtick_2\">\n     <g id=\"line2d_2\">\n      <path clip-path=\"url(#p95d2e38bac)\" d=\"M 112.90983 224.64 \nL 112.90983 7.2 \n\" style=\"fill:none;stroke:#cccccc;stroke-linecap:round;\"/>\n     </g>\n     <g id=\"text_2\">\n      <!-- 1 -->\n      <defs>\n       <path d=\"M 37.25 0 \nL 28.46875 0 \nL 28.46875 56 \nQ 25.296875 52.984375 20.140625 49.953125 \nQ 14.984375 46.921875 10.890625 45.40625 \nL 10.890625 53.90625 \nQ 18.265625 57.375 23.78125 62.296875 \nQ 29.296875 67.234375 31.59375 71.875 \nL 37.25 71.875 \nz\n\" id=\"ArialMT-49\"/>\n      </defs>\n      <g style=\"fill:#262626;\" transform=\"translate(109.851314 242.013594)scale(0.11 -0.11)\">\n       <use xlink:href=\"#ArialMT-49\"/>\n      </g>\n     </g>\n    </g>\n    <g id=\"xtick_3\">\n     <g id=\"line2d_3\">\n      <path clip-path=\"url(#p95d2e38bac)\" d=\"M 163.637102 224.64 \nL 163.637102 7.2 \n\" style=\"fill:none;stroke:#cccccc;stroke-linecap:round;\"/>\n     </g>\n     <g id=\"text_3\">\n      <!-- 2 -->\n      <defs>\n       <path d=\"M 50.34375 8.453125 \nL 50.34375 0 \nL 3.03125 0 \nQ 2.9375 3.171875 4.046875 6.109375 \nQ 5.859375 10.9375 9.828125 15.625 \nQ 13.8125 20.3125 21.34375 26.46875 \nQ 33.015625 36.03125 37.109375 41.625 \nQ 41.21875 47.21875 41.21875 52.203125 \nQ 41.21875 57.421875 37.46875 61 \nQ 33.734375 64.59375 27.734375 64.59375 \nQ 21.390625 64.59375 17.578125 60.78125 \nQ 13.765625 56.984375 13.71875 50.25 \nL 4.6875 51.171875 \nQ 5.609375 61.28125 11.65625 66.578125 \nQ 17.71875 71.875 27.9375 71.875 \nQ 38.234375 71.875 44.234375 66.15625 \nQ 50.25 60.453125 50.25 52 \nQ 50.25 47.703125 48.484375 43.546875 \nQ 46.734375 39.40625 42.65625 34.8125 \nQ 38.578125 30.21875 29.109375 22.21875 \nQ 21.1875 15.578125 18.9375 13.203125 \nQ 16.703125 10.84375 15.234375 8.453125 \nz\n\" id=\"ArialMT-50\"/>\n      </defs>\n      <g style=\"fill:#262626;\" transform=\"translate(160.578587 242.013594)scale(0.11 -0.11)\">\n       <use xlink:href=\"#ArialMT-50\"/>\n      </g>\n     </g>\n    </g>\n    <g id=\"xtick_4\">\n     <g id=\"line2d_4\">\n      <path clip-path=\"url(#p95d2e38bac)\" d=\"M 214.364375 224.64 \nL 214.364375 7.2 \n\" style=\"fill:none;stroke:#cccccc;stroke-linecap:round;\"/>\n     </g>\n     <g id=\"text_4\">\n      <!-- 3 -->\n      <defs>\n       <path d=\"M 4.203125 18.890625 \nL 12.984375 20.0625 \nQ 14.5 12.59375 18.140625 9.296875 \nQ 21.78125 6 27 6 \nQ 33.203125 6 37.46875 10.296875 \nQ 41.75 14.59375 41.75 20.953125 \nQ 41.75 27 37.796875 30.921875 \nQ 33.84375 34.859375 27.734375 34.859375 \nQ 25.25 34.859375 21.53125 33.890625 \nL 22.515625 41.609375 \nQ 23.390625 41.5 23.921875 41.5 \nQ 29.546875 41.5 34.03125 44.421875 \nQ 38.53125 47.359375 38.53125 53.46875 \nQ 38.53125 58.296875 35.25 61.46875 \nQ 31.984375 64.65625 26.8125 64.65625 \nQ 21.6875 64.65625 18.265625 61.421875 \nQ 14.84375 58.203125 13.875 51.765625 \nL 5.078125 53.328125 \nQ 6.6875 62.15625 12.390625 67.015625 \nQ 18.109375 71.875 26.609375 71.875 \nQ 32.46875 71.875 37.390625 69.359375 \nQ 42.328125 66.84375 44.9375 62.5 \nQ 47.5625 58.15625 47.5625 53.265625 \nQ 47.5625 48.640625 45.0625 44.828125 \nQ 42.578125 41.015625 37.703125 38.765625 \nQ 44.046875 37.3125 47.5625 32.6875 \nQ 51.078125 28.078125 51.078125 21.140625 \nQ 51.078125 11.765625 44.234375 5.25 \nQ 37.40625 -1.265625 26.953125 -1.265625 \nQ 17.53125 -1.265625 11.296875 4.34375 \nQ 5.078125 9.96875 4.203125 18.890625 \nz\n\" id=\"ArialMT-51\"/>\n      </defs>\n      <g style=\"fill:#262626;\" transform=\"translate(211.305859 242.013594)scale(0.11 -0.11)\">\n       <use xlink:href=\"#ArialMT-51\"/>\n      </g>\n     </g>\n    </g>\n    <g id=\"xtick_5\">\n     <g id=\"line2d_5\">\n      <path clip-path=\"url(#p95d2e38bac)\" d=\"M 265.091648 224.64 \nL 265.091648 7.2 \n\" style=\"fill:none;stroke:#cccccc;stroke-linecap:round;\"/>\n     </g>\n     <g id=\"text_5\">\n      <!-- 4 -->\n      <defs>\n       <path d=\"M 32.328125 0 \nL 32.328125 17.140625 \nL 1.265625 17.140625 \nL 1.265625 25.203125 \nL 33.9375 71.578125 \nL 41.109375 71.578125 \nL 41.109375 25.203125 \nL 50.78125 25.203125 \nL 50.78125 17.140625 \nL 41.109375 17.140625 \nL 41.109375 0 \nz\nM 32.328125 25.203125 \nL 32.328125 57.46875 \nL 9.90625 25.203125 \nz\n\" id=\"ArialMT-52\"/>\n      </defs>\n      <g style=\"fill:#262626;\" transform=\"translate(262.033132 242.013594)scale(0.11 -0.11)\">\n       <use xlink:href=\"#ArialMT-52\"/>\n      </g>\n     </g>\n    </g>\n    <g id=\"xtick_6\">\n     <g id=\"line2d_6\">\n      <path clip-path=\"url(#p95d2e38bac)\" d=\"M 315.81892 224.64 \nL 315.81892 7.2 \n\" style=\"fill:none;stroke:#cccccc;stroke-linecap:round;\"/>\n     </g>\n     <g id=\"text_6\">\n      <!-- 5 -->\n      <defs>\n       <path d=\"M 4.15625 18.75 \nL 13.375 19.53125 \nQ 14.40625 12.796875 18.140625 9.390625 \nQ 21.875 6 27.15625 6 \nQ 33.5 6 37.890625 10.78125 \nQ 42.28125 15.578125 42.28125 23.484375 \nQ 42.28125 31 38.0625 35.34375 \nQ 33.84375 39.703125 27 39.703125 \nQ 22.75 39.703125 19.328125 37.765625 \nQ 15.921875 35.84375 13.96875 32.765625 \nL 5.71875 33.84375 \nL 12.640625 70.609375 \nL 48.25 70.609375 \nL 48.25 62.203125 \nL 19.671875 62.203125 \nL 15.828125 42.96875 \nQ 22.265625 47.46875 29.34375 47.46875 \nQ 38.71875 47.46875 45.15625 40.96875 \nQ 51.609375 34.46875 51.609375 24.265625 \nQ 51.609375 14.546875 45.953125 7.46875 \nQ 39.0625 -1.21875 27.15625 -1.21875 \nQ 17.390625 -1.21875 11.203125 4.25 \nQ 5.03125 9.71875 4.15625 18.75 \nz\n\" id=\"ArialMT-53\"/>\n      </defs>\n      <g style=\"fill:#262626;\" transform=\"translate(312.760405 242.013594)scale(0.11 -0.11)\">\n       <use xlink:href=\"#ArialMT-53\"/>\n      </g>\n     </g>\n    </g>\n    <g id=\"xtick_7\">\n     <g id=\"line2d_7\">\n      <path clip-path=\"url(#p95d2e38bac)\" d=\"M 366.546193 224.64 \nL 366.546193 7.2 \n\" style=\"fill:none;stroke:#cccccc;stroke-linecap:round;\"/>\n     </g>\n     <g id=\"text_7\">\n      <!-- 6 -->\n      <defs>\n       <path d=\"M 49.75 54.046875 \nL 41.015625 53.375 \nQ 39.84375 58.546875 37.703125 60.890625 \nQ 34.125 64.65625 28.90625 64.65625 \nQ 24.703125 64.65625 21.53125 62.3125 \nQ 17.390625 59.28125 14.984375 53.46875 \nQ 12.59375 47.65625 12.5 36.921875 \nQ 15.671875 41.75 20.265625 44.09375 \nQ 24.859375 46.4375 29.890625 46.4375 \nQ 38.671875 46.4375 44.84375 39.96875 \nQ 51.03125 33.5 51.03125 23.25 \nQ 51.03125 16.5 48.125 10.71875 \nQ 45.21875 4.9375 40.140625 1.859375 \nQ 35.0625 -1.21875 28.609375 -1.21875 \nQ 17.625 -1.21875 10.6875 6.859375 \nQ 3.765625 14.9375 3.765625 33.5 \nQ 3.765625 54.25 11.421875 63.671875 \nQ 18.109375 71.875 29.4375 71.875 \nQ 37.890625 71.875 43.28125 67.140625 \nQ 48.6875 62.40625 49.75 54.046875 \nz\nM 13.875 23.1875 \nQ 13.875 18.65625 15.796875 14.5 \nQ 17.71875 10.359375 21.1875 8.171875 \nQ 24.65625 6 28.46875 6 \nQ 34.03125 6 38.03125 10.484375 \nQ 42.046875 14.984375 42.046875 22.703125 \nQ 42.046875 30.125 38.078125 34.390625 \nQ 34.125 38.671875 28.125 38.671875 \nQ 22.171875 38.671875 18.015625 34.390625 \nQ 13.875 30.125 13.875 23.1875 \nz\n\" id=\"ArialMT-54\"/>\n      </defs>\n      <g style=\"fill:#262626;\" transform=\"translate(363.487678 242.013594)scale(0.11 -0.11)\">\n       <use xlink:href=\"#ArialMT-54\"/>\n      </g>\n     </g>\n    </g>\n    <g id=\"text_8\">\n     <!-- No of components -->\n     <defs>\n      <path d=\"M 7.625 0 \nL 7.625 71.578125 \nL 17.328125 71.578125 \nL 54.9375 15.375 \nL 54.9375 71.578125 \nL 64.015625 71.578125 \nL 64.015625 0 \nL 54.296875 0 \nL 16.703125 56.25 \nL 16.703125 0 \nz\n\" id=\"ArialMT-78\"/>\n      <path d=\"M 3.328125 25.921875 \nQ 3.328125 40.328125 11.328125 47.265625 \nQ 18.015625 53.03125 27.640625 53.03125 \nQ 38.328125 53.03125 45.109375 46.015625 \nQ 51.90625 39.015625 51.90625 26.65625 \nQ 51.90625 16.65625 48.90625 10.90625 \nQ 45.90625 5.171875 40.15625 2 \nQ 34.421875 -1.171875 27.640625 -1.171875 \nQ 16.75 -1.171875 10.03125 5.8125 \nQ 3.328125 12.796875 3.328125 25.921875 \nz\nM 12.359375 25.921875 \nQ 12.359375 15.96875 16.703125 11.015625 \nQ 21.046875 6.0625 27.640625 6.0625 \nQ 34.1875 6.0625 38.53125 11.03125 \nQ 42.875 16.015625 42.875 26.21875 \nQ 42.875 35.84375 38.5 40.796875 \nQ 34.125 45.75 27.640625 45.75 \nQ 21.046875 45.75 16.703125 40.8125 \nQ 12.359375 35.890625 12.359375 25.921875 \nz\n\" id=\"ArialMT-111\"/>\n      <path id=\"ArialMT-32\"/>\n      <path d=\"M 8.6875 0 \nL 8.6875 45.015625 \nL 0.921875 45.015625 \nL 0.921875 51.859375 \nL 8.6875 51.859375 \nL 8.6875 57.375 \nQ 8.6875 62.59375 9.625 65.140625 \nQ 10.890625 68.5625 14.078125 70.671875 \nQ 17.28125 72.796875 23.046875 72.796875 \nQ 26.765625 72.796875 31.25 71.921875 \nL 29.9375 64.265625 \nQ 27.203125 64.75 24.75 64.75 \nQ 20.75 64.75 19.09375 63.03125 \nQ 17.4375 61.328125 17.4375 56.640625 \nL 17.4375 51.859375 \nL 27.546875 51.859375 \nL 27.546875 45.015625 \nL 17.4375 45.015625 \nL 17.4375 0 \nz\n\" id=\"ArialMT-102\"/>\n      <path d=\"M 40.4375 19 \nL 49.078125 17.875 \nQ 47.65625 8.9375 41.8125 3.875 \nQ 35.984375 -1.171875 27.484375 -1.171875 \nQ 16.84375 -1.171875 10.375 5.78125 \nQ 3.90625 12.75 3.90625 25.734375 \nQ 3.90625 34.125 6.6875 40.421875 \nQ 9.46875 46.734375 15.15625 49.875 \nQ 20.84375 53.03125 27.546875 53.03125 \nQ 35.984375 53.03125 41.359375 48.75 \nQ 46.734375 44.484375 48.25 36.625 \nL 39.703125 35.296875 \nQ 38.484375 40.53125 35.375 43.15625 \nQ 32.28125 45.796875 27.875 45.796875 \nQ 21.234375 45.796875 17.078125 41.03125 \nQ 12.9375 36.28125 12.9375 25.984375 \nQ 12.9375 15.53125 16.9375 10.796875 \nQ 20.953125 6.0625 27.390625 6.0625 \nQ 32.5625 6.0625 36.03125 9.234375 \nQ 39.5 12.40625 40.4375 19 \nz\n\" id=\"ArialMT-99\"/>\n      <path d=\"M 6.59375 0 \nL 6.59375 51.859375 \nL 14.453125 51.859375 \nL 14.453125 44.578125 \nQ 16.890625 48.390625 20.9375 50.703125 \nQ 25 53.03125 30.171875 53.03125 \nQ 35.9375 53.03125 39.625 50.640625 \nQ 43.3125 48.25 44.828125 43.953125 \nQ 50.984375 53.03125 60.84375 53.03125 \nQ 68.5625 53.03125 72.703125 48.75 \nQ 76.859375 44.484375 76.859375 35.59375 \nL 76.859375 0 \nL 68.109375 0 \nL 68.109375 32.671875 \nQ 68.109375 37.9375 67.25 40.25 \nQ 66.40625 42.578125 64.15625 43.984375 \nQ 61.921875 45.40625 58.890625 45.40625 \nQ 53.421875 45.40625 49.796875 41.765625 \nQ 46.1875 38.140625 46.1875 30.125 \nL 46.1875 0 \nL 37.40625 0 \nL 37.40625 33.6875 \nQ 37.40625 39.546875 35.25 42.46875 \nQ 33.109375 45.40625 28.21875 45.40625 \nQ 24.515625 45.40625 21.359375 43.453125 \nQ 18.21875 41.5 16.796875 37.734375 \nQ 15.375 33.984375 15.375 26.90625 \nL 15.375 0 \nz\n\" id=\"ArialMT-109\"/>\n      <path d=\"M 6.59375 -19.875 \nL 6.59375 51.859375 \nL 14.59375 51.859375 \nL 14.59375 45.125 \nQ 17.4375 49.078125 21 51.046875 \nQ 24.5625 53.03125 29.640625 53.03125 \nQ 36.28125 53.03125 41.359375 49.609375 \nQ 46.4375 46.1875 49.015625 39.953125 \nQ 51.609375 33.734375 51.609375 26.3125 \nQ 51.609375 18.359375 48.75 11.984375 \nQ 45.90625 5.609375 40.453125 2.21875 \nQ 35.015625 -1.171875 29 -1.171875 \nQ 24.609375 -1.171875 21.109375 0.6875 \nQ 17.625 2.546875 15.375 5.375 \nL 15.375 -19.875 \nz\nM 14.546875 25.640625 \nQ 14.546875 15.625 18.59375 10.84375 \nQ 22.65625 6.0625 28.421875 6.0625 \nQ 34.28125 6.0625 38.453125 11.015625 \nQ 42.625 15.96875 42.625 26.375 \nQ 42.625 36.28125 38.546875 41.203125 \nQ 34.46875 46.140625 28.8125 46.140625 \nQ 23.1875 46.140625 18.859375 40.890625 \nQ 14.546875 35.640625 14.546875 25.640625 \nz\n\" id=\"ArialMT-112\"/>\n      <path d=\"M 6.59375 0 \nL 6.59375 51.859375 \nL 14.5 51.859375 \nL 14.5 44.484375 \nQ 20.21875 53.03125 31 53.03125 \nQ 35.6875 53.03125 39.625 51.34375 \nQ 43.5625 49.65625 45.515625 46.921875 \nQ 47.46875 44.1875 48.25 40.4375 \nQ 48.734375 37.984375 48.734375 31.890625 \nL 48.734375 0 \nL 39.9375 0 \nL 39.9375 31.546875 \nQ 39.9375 36.921875 38.90625 39.578125 \nQ 37.890625 42.234375 35.28125 43.8125 \nQ 32.671875 45.40625 29.15625 45.40625 \nQ 23.53125 45.40625 19.453125 41.84375 \nQ 15.375 38.28125 15.375 28.328125 \nL 15.375 0 \nz\n\" id=\"ArialMT-110\"/>\n      <path d=\"M 42.09375 16.703125 \nL 51.171875 15.578125 \nQ 49.03125 7.625 43.21875 3.21875 \nQ 37.40625 -1.171875 28.375 -1.171875 \nQ 17 -1.171875 10.328125 5.828125 \nQ 3.65625 12.84375 3.65625 25.484375 \nQ 3.65625 38.578125 10.390625 45.796875 \nQ 17.140625 53.03125 27.875 53.03125 \nQ 38.28125 53.03125 44.875 45.953125 \nQ 51.46875 38.875 51.46875 26.03125 \nQ 51.46875 25.25 51.421875 23.6875 \nL 12.75 23.6875 \nQ 13.234375 15.140625 17.578125 10.59375 \nQ 21.921875 6.0625 28.421875 6.0625 \nQ 33.25 6.0625 36.671875 8.59375 \nQ 40.09375 11.140625 42.09375 16.703125 \nz\nM 13.234375 30.90625 \nL 42.1875 30.90625 \nQ 41.609375 37.453125 38.875 40.71875 \nQ 34.671875 45.796875 27.984375 45.796875 \nQ 21.921875 45.796875 17.796875 41.75 \nQ 13.671875 37.703125 13.234375 30.90625 \nz\n\" id=\"ArialMT-101\"/>\n      <path d=\"M 25.78125 7.859375 \nL 27.046875 0.09375 \nQ 23.34375 -0.6875 20.40625 -0.6875 \nQ 15.625 -0.6875 12.984375 0.828125 \nQ 10.359375 2.34375 9.28125 4.8125 \nQ 8.203125 7.28125 8.203125 15.1875 \nL 8.203125 45.015625 \nL 1.765625 45.015625 \nL 1.765625 51.859375 \nL 8.203125 51.859375 \nL 8.203125 64.703125 \nL 16.9375 69.96875 \nL 16.9375 51.859375 \nL 25.78125 51.859375 \nL 25.78125 45.015625 \nL 16.9375 45.015625 \nL 16.9375 14.703125 \nQ 16.9375 10.9375 17.40625 9.859375 \nQ 17.875 8.796875 18.921875 8.15625 \nQ 19.96875 7.515625 21.921875 7.515625 \nQ 23.390625 7.515625 25.78125 7.859375 \nz\n\" id=\"ArialMT-116\"/>\n      <path d=\"M 3.078125 15.484375 \nL 11.765625 16.84375 \nQ 12.5 11.625 15.84375 8.84375 \nQ 19.1875 6.0625 25.203125 6.0625 \nQ 31.25 6.0625 34.171875 8.515625 \nQ 37.109375 10.984375 37.109375 14.3125 \nQ 37.109375 17.28125 34.515625 19 \nQ 32.71875 20.171875 25.53125 21.96875 \nQ 15.875 24.421875 12.140625 26.203125 \nQ 8.40625 27.984375 6.46875 31.125 \nQ 4.546875 34.28125 4.546875 38.09375 \nQ 4.546875 41.546875 6.125 44.5 \nQ 7.71875 47.46875 10.453125 49.421875 \nQ 12.5 50.921875 16.03125 51.96875 \nQ 19.578125 53.03125 23.640625 53.03125 \nQ 29.734375 53.03125 34.34375 51.265625 \nQ 38.96875 49.515625 41.15625 46.5 \nQ 43.359375 43.5 44.1875 38.484375 \nL 35.59375 37.3125 \nQ 35.015625 41.3125 32.203125 43.546875 \nQ 29.390625 45.796875 24.265625 45.796875 \nQ 18.21875 45.796875 15.625 43.796875 \nQ 13.03125 41.796875 13.03125 39.109375 \nQ 13.03125 37.40625 14.109375 36.03125 \nQ 15.1875 34.625 17.484375 33.6875 \nQ 18.796875 33.203125 25.25 31.453125 \nQ 34.578125 28.953125 38.25 27.359375 \nQ 41.9375 25.78125 44.03125 22.75 \nQ 46.140625 19.734375 46.140625 15.234375 \nQ 46.140625 10.84375 43.578125 6.953125 \nQ 41.015625 3.078125 36.171875 0.953125 \nQ 31.34375 -1.171875 25.25 -1.171875 \nQ 15.140625 -1.171875 9.84375 3.03125 \nQ 4.546875 7.234375 3.078125 15.484375 \nz\n\" id=\"ArialMT-115\"/>\n     </defs>\n     <g style=\"fill:#262626;\" transform=\"translate(165.673438 256.935469)scale(0.12 -0.12)\">\n      <use xlink:href=\"#ArialMT-78\"/>\n      <use x=\"72.216797\" xlink:href=\"#ArialMT-111\"/>\n      <use x=\"127.832031\" xlink:href=\"#ArialMT-32\"/>\n      <use x=\"155.615234\" xlink:href=\"#ArialMT-111\"/>\n      <use x=\"211.230469\" xlink:href=\"#ArialMT-102\"/>\n      <use x=\"239.013672\" xlink:href=\"#ArialMT-32\"/>\n      <use x=\"266.796875\" xlink:href=\"#ArialMT-99\"/>\n      <use x=\"316.796875\" xlink:href=\"#ArialMT-111\"/>\n      <use x=\"372.412109\" xlink:href=\"#ArialMT-109\"/>\n      <use x=\"455.712891\" xlink:href=\"#ArialMT-112\"/>\n      <use x=\"511.328125\" xlink:href=\"#ArialMT-111\"/>\n      <use x=\"566.943359\" xlink:href=\"#ArialMT-110\"/>\n      <use x=\"622.558594\" xlink:href=\"#ArialMT-101\"/>\n      <use x=\"678.173828\" xlink:href=\"#ArialMT-110\"/>\n      <use x=\"733.789062\" xlink:href=\"#ArialMT-116\"/>\n      <use x=\"761.572266\" xlink:href=\"#ArialMT-115\"/>\n     </g>\n    </g>\n   </g>\n   <g id=\"matplotlib.axis_2\">\n    <g id=\"ytick_1\">\n     <g id=\"line2d_8\">\n      <path clip-path=\"url(#p95d2e38bac)\" d=\"M 46.964375 221.838394 \nL 381.764375 221.838394 \n\" style=\"fill:none;stroke:#cccccc;stroke-linecap:round;\"/>\n     </g>\n     <g id=\"text_9\">\n      <!-- 0.5 -->\n      <defs>\n       <path d=\"M 9.078125 0 \nL 9.078125 10.015625 \nL 19.09375 10.015625 \nL 19.09375 0 \nz\n\" id=\"ArialMT-46\"/>\n      </defs>\n      <g style=\"fill:#262626;\" transform=\"translate(22.174375 225.77519)scale(0.11 -0.11)\">\n       <use xlink:href=\"#ArialMT-48\"/>\n       <use x=\"55.615234\" xlink:href=\"#ArialMT-46\"/>\n       <use x=\"83.398438\" xlink:href=\"#ArialMT-53\"/>\n      </g>\n     </g>\n    </g>\n    <g id=\"ytick_2\">\n     <g id=\"line2d_9\">\n      <path clip-path=\"url(#p95d2e38bac)\" d=\"M 46.964375 180.887442 \nL 381.764375 180.887442 \n\" style=\"fill:none;stroke:#cccccc;stroke-linecap:round;\"/>\n     </g>\n     <g id=\"text_10\">\n      <!-- 0.6 -->\n      <g style=\"fill:#262626;\" transform=\"translate(22.174375 184.824239)scale(0.11 -0.11)\">\n       <use xlink:href=\"#ArialMT-48\"/>\n       <use x=\"55.615234\" xlink:href=\"#ArialMT-46\"/>\n       <use x=\"83.398438\" xlink:href=\"#ArialMT-54\"/>\n      </g>\n     </g>\n    </g>\n    <g id=\"ytick_3\">\n     <g id=\"line2d_10\">\n      <path clip-path=\"url(#p95d2e38bac)\" d=\"M 46.964375 139.936491 \nL 381.764375 139.936491 \n\" style=\"fill:none;stroke:#cccccc;stroke-linecap:round;\"/>\n     </g>\n     <g id=\"text_11\">\n      <!-- 0.7 -->\n      <defs>\n       <path d=\"M 4.734375 62.203125 \nL 4.734375 70.65625 \nL 51.078125 70.65625 \nL 51.078125 63.8125 \nQ 44.234375 56.546875 37.515625 44.484375 \nQ 30.8125 32.421875 27.15625 19.671875 \nQ 24.515625 10.6875 23.78125 0 \nL 14.75 0 \nQ 14.890625 8.453125 18.0625 20.40625 \nQ 21.234375 32.375 27.171875 43.484375 \nQ 33.109375 54.59375 39.796875 62.203125 \nz\n\" id=\"ArialMT-55\"/>\n      </defs>\n      <g style=\"fill:#262626;\" transform=\"translate(22.174375 143.873288)scale(0.11 -0.11)\">\n       <use xlink:href=\"#ArialMT-48\"/>\n       <use x=\"55.615234\" xlink:href=\"#ArialMT-46\"/>\n       <use x=\"83.398438\" xlink:href=\"#ArialMT-55\"/>\n      </g>\n     </g>\n    </g>\n    <g id=\"ytick_4\">\n     <g id=\"line2d_11\">\n      <path clip-path=\"url(#p95d2e38bac)\" d=\"M 46.964375 98.985539 \nL 381.764375 98.985539 \n\" style=\"fill:none;stroke:#cccccc;stroke-linecap:round;\"/>\n     </g>\n     <g id=\"text_12\">\n      <!-- 0.8 -->\n      <defs>\n       <path d=\"M 17.671875 38.8125 \nQ 12.203125 40.828125 9.5625 44.53125 \nQ 6.9375 48.25 6.9375 53.421875 \nQ 6.9375 61.234375 12.546875 66.546875 \nQ 18.171875 71.875 27.484375 71.875 \nQ 36.859375 71.875 42.578125 66.421875 \nQ 48.296875 60.984375 48.296875 53.171875 \nQ 48.296875 48.1875 45.671875 44.5 \nQ 43.0625 40.828125 37.75 38.8125 \nQ 44.34375 36.671875 47.78125 31.875 \nQ 51.21875 27.09375 51.21875 20.453125 \nQ 51.21875 11.28125 44.71875 5.03125 \nQ 38.234375 -1.21875 27.640625 -1.21875 \nQ 17.046875 -1.21875 10.546875 5.046875 \nQ 4.046875 11.328125 4.046875 20.703125 \nQ 4.046875 27.6875 7.59375 32.390625 \nQ 11.140625 37.109375 17.671875 38.8125 \nz\nM 15.921875 53.71875 \nQ 15.921875 48.640625 19.1875 45.40625 \nQ 22.46875 42.1875 27.6875 42.1875 \nQ 32.765625 42.1875 36.015625 45.375 \nQ 39.265625 48.578125 39.265625 53.21875 \nQ 39.265625 58.0625 35.90625 61.359375 \nQ 32.5625 64.65625 27.59375 64.65625 \nQ 22.5625 64.65625 19.234375 61.421875 \nQ 15.921875 58.203125 15.921875 53.71875 \nz\nM 13.09375 20.65625 \nQ 13.09375 16.890625 14.875 13.375 \nQ 16.65625 9.859375 20.171875 7.921875 \nQ 23.6875 6 27.734375 6 \nQ 34.03125 6 38.125 10.046875 \nQ 42.234375 14.109375 42.234375 20.359375 \nQ 42.234375 26.703125 38.015625 30.859375 \nQ 33.796875 35.015625 27.4375 35.015625 \nQ 21.234375 35.015625 17.15625 30.90625 \nQ 13.09375 26.8125 13.09375 20.65625 \nz\n\" id=\"ArialMT-56\"/>\n      </defs>\n      <g style=\"fill:#262626;\" transform=\"translate(22.174375 102.922336)scale(0.11 -0.11)\">\n       <use xlink:href=\"#ArialMT-48\"/>\n       <use x=\"55.615234\" xlink:href=\"#ArialMT-46\"/>\n       <use x=\"83.398438\" xlink:href=\"#ArialMT-56\"/>\n      </g>\n     </g>\n    </g>\n    <g id=\"ytick_5\">\n     <g id=\"line2d_12\">\n      <path clip-path=\"url(#p95d2e38bac)\" d=\"M 46.964375 58.034588 \nL 381.764375 58.034588 \n\" style=\"fill:none;stroke:#cccccc;stroke-linecap:round;\"/>\n     </g>\n     <g id=\"text_13\">\n      <!-- 0.9 -->\n      <defs>\n       <path d=\"M 5.46875 16.546875 \nL 13.921875 17.328125 \nQ 14.984375 11.375 18.015625 8.6875 \nQ 21.046875 6 25.78125 6 \nQ 29.828125 6 32.875 7.859375 \nQ 35.9375 9.71875 37.890625 12.8125 \nQ 39.84375 15.921875 41.15625 21.1875 \nQ 42.484375 26.46875 42.484375 31.9375 \nQ 42.484375 32.515625 42.4375 33.6875 \nQ 39.796875 29.5 35.234375 26.875 \nQ 30.671875 24.265625 25.34375 24.265625 \nQ 16.453125 24.265625 10.296875 30.703125 \nQ 4.15625 37.15625 4.15625 47.703125 \nQ 4.15625 58.59375 10.578125 65.234375 \nQ 17 71.875 26.65625 71.875 \nQ 33.640625 71.875 39.421875 68.109375 \nQ 45.21875 64.359375 48.21875 57.390625 \nQ 51.21875 50.4375 51.21875 37.25 \nQ 51.21875 23.53125 48.234375 15.40625 \nQ 45.265625 7.28125 39.375 3.03125 \nQ 33.5 -1.21875 25.59375 -1.21875 \nQ 17.1875 -1.21875 11.859375 3.4375 \nQ 6.546875 8.109375 5.46875 16.546875 \nz\nM 41.453125 48.140625 \nQ 41.453125 55.71875 37.421875 60.15625 \nQ 33.40625 64.59375 27.734375 64.59375 \nQ 21.875 64.59375 17.53125 59.8125 \nQ 13.1875 55.03125 13.1875 47.40625 \nQ 13.1875 40.578125 17.3125 36.296875 \nQ 21.4375 32.03125 27.484375 32.03125 \nQ 33.59375 32.03125 37.515625 36.296875 \nQ 41.453125 40.578125 41.453125 48.140625 \nz\n\" id=\"ArialMT-57\"/>\n      </defs>\n      <g style=\"fill:#262626;\" transform=\"translate(22.174375 61.971385)scale(0.11 -0.11)\">\n       <use xlink:href=\"#ArialMT-48\"/>\n       <use x=\"55.615234\" xlink:href=\"#ArialMT-46\"/>\n       <use x=\"83.398438\" xlink:href=\"#ArialMT-57\"/>\n      </g>\n     </g>\n    </g>\n    <g id=\"ytick_6\">\n     <g id=\"line2d_13\">\n      <path clip-path=\"url(#p95d2e38bac)\" d=\"M 46.964375 17.083636 \nL 381.764375 17.083636 \n\" style=\"fill:none;stroke:#cccccc;stroke-linecap:round;\"/>\n     </g>\n     <g id=\"text_14\">\n      <!-- 1.0 -->\n      <g style=\"fill:#262626;\" transform=\"translate(22.174375 21.020433)scale(0.11 -0.11)\">\n       <use xlink:href=\"#ArialMT-49\"/>\n       <use x=\"55.615234\" xlink:href=\"#ArialMT-46\"/>\n       <use x=\"83.398438\" xlink:href=\"#ArialMT-48\"/>\n      </g>\n     </g>\n    </g>\n    <g id=\"text_15\">\n     <!-- cumulative explained variance -->\n     <defs>\n      <path d=\"M 40.578125 0 \nL 40.578125 7.625 \nQ 34.515625 -1.171875 24.125 -1.171875 \nQ 19.53125 -1.171875 15.546875 0.578125 \nQ 11.578125 2.34375 9.640625 5 \nQ 7.71875 7.671875 6.9375 11.53125 \nQ 6.390625 14.109375 6.390625 19.734375 \nL 6.390625 51.859375 \nL 15.1875 51.859375 \nL 15.1875 23.09375 \nQ 15.1875 16.21875 15.71875 13.8125 \nQ 16.546875 10.359375 19.234375 8.375 \nQ 21.921875 6.390625 25.875 6.390625 \nQ 29.828125 6.390625 33.296875 8.421875 \nQ 36.765625 10.453125 38.203125 13.9375 \nQ 39.65625 17.4375 39.65625 24.078125 \nL 39.65625 51.859375 \nL 48.4375 51.859375 \nL 48.4375 0 \nz\n\" id=\"ArialMT-117\"/>\n      <path d=\"M 6.390625 0 \nL 6.390625 71.578125 \nL 15.1875 71.578125 \nL 15.1875 0 \nz\n\" id=\"ArialMT-108\"/>\n      <path d=\"M 40.4375 6.390625 \nQ 35.546875 2.25 31.03125 0.53125 \nQ 26.515625 -1.171875 21.34375 -1.171875 \nQ 12.796875 -1.171875 8.203125 3 \nQ 3.609375 7.171875 3.609375 13.671875 \nQ 3.609375 17.484375 5.34375 20.625 \nQ 7.078125 23.78125 9.890625 25.6875 \nQ 12.703125 27.59375 16.21875 28.5625 \nQ 18.796875 29.25 24.03125 29.890625 \nQ 34.671875 31.15625 39.703125 32.90625 \nQ 39.75 34.71875 39.75 35.203125 \nQ 39.75 40.578125 37.25 42.78125 \nQ 33.890625 45.75 27.25 45.75 \nQ 21.046875 45.75 18.09375 43.578125 \nQ 15.140625 41.40625 13.71875 35.890625 \nL 5.125 37.0625 \nQ 6.296875 42.578125 8.984375 45.96875 \nQ 11.671875 49.359375 16.75 51.1875 \nQ 21.828125 53.03125 28.515625 53.03125 \nQ 35.15625 53.03125 39.296875 51.46875 \nQ 43.453125 49.90625 45.40625 47.53125 \nQ 47.359375 45.171875 48.140625 41.546875 \nQ 48.578125 39.3125 48.578125 33.453125 \nL 48.578125 21.734375 \nQ 48.578125 9.46875 49.140625 6.21875 \nQ 49.703125 2.984375 51.375 0 \nL 42.1875 0 \nQ 40.828125 2.734375 40.4375 6.390625 \nz\nM 39.703125 26.03125 \nQ 34.90625 24.078125 25.34375 22.703125 \nQ 19.921875 21.921875 17.671875 20.9375 \nQ 15.4375 19.96875 14.203125 18.09375 \nQ 12.984375 16.21875 12.984375 13.921875 \nQ 12.984375 10.40625 15.640625 8.0625 \nQ 18.3125 5.71875 23.4375 5.71875 \nQ 28.515625 5.71875 32.46875 7.9375 \nQ 36.421875 10.15625 38.28125 14.015625 \nQ 39.703125 17 39.703125 22.796875 \nz\n\" id=\"ArialMT-97\"/>\n      <path d=\"M 6.640625 61.46875 \nL 6.640625 71.578125 \nL 15.4375 71.578125 \nL 15.4375 61.46875 \nz\nM 6.640625 0 \nL 6.640625 51.859375 \nL 15.4375 51.859375 \nL 15.4375 0 \nz\n\" id=\"ArialMT-105\"/>\n      <path d=\"M 21 0 \nL 1.265625 51.859375 \nL 10.546875 51.859375 \nL 21.6875 20.796875 \nQ 23.484375 15.765625 25 10.359375 \nQ 26.171875 14.453125 28.265625 20.21875 \nL 39.796875 51.859375 \nL 48.828125 51.859375 \nL 29.203125 0 \nz\n\" id=\"ArialMT-118\"/>\n      <path d=\"M 0.734375 0 \nL 19.671875 26.953125 \nL 2.15625 51.859375 \nL 13.140625 51.859375 \nL 21.09375 39.703125 \nQ 23.34375 36.234375 24.703125 33.890625 \nQ 26.859375 37.109375 28.65625 39.59375 \nL 37.40625 51.859375 \nL 47.90625 51.859375 \nL 29.984375 27.4375 \nL 49.265625 0 \nL 38.484375 0 \nL 27.828125 16.109375 \nL 25 20.453125 \nL 11.375 0 \nz\n\" id=\"ArialMT-120\"/>\n      <path d=\"M 40.234375 0 \nL 40.234375 6.546875 \nQ 35.296875 -1.171875 25.734375 -1.171875 \nQ 19.53125 -1.171875 14.328125 2.25 \nQ 9.125 5.671875 6.265625 11.796875 \nQ 3.421875 17.921875 3.421875 25.875 \nQ 3.421875 33.640625 6 39.96875 \nQ 8.59375 46.296875 13.765625 49.65625 \nQ 18.953125 53.03125 25.34375 53.03125 \nQ 30.03125 53.03125 33.6875 51.046875 \nQ 37.359375 49.078125 39.65625 45.90625 \nL 39.65625 71.578125 \nL 48.390625 71.578125 \nL 48.390625 0 \nz\nM 12.453125 25.875 \nQ 12.453125 15.921875 16.640625 10.984375 \nQ 20.84375 6.0625 26.5625 6.0625 \nQ 32.328125 6.0625 36.34375 10.765625 \nQ 40.375 15.484375 40.375 25.140625 \nQ 40.375 35.796875 36.265625 40.765625 \nQ 32.171875 45.75 26.171875 45.75 \nQ 20.3125 45.75 16.375 40.96875 \nQ 12.453125 36.1875 12.453125 25.875 \nz\n\" id=\"ArialMT-100\"/>\n      <path d=\"M 6.5 0 \nL 6.5 51.859375 \nL 14.40625 51.859375 \nL 14.40625 44 \nQ 17.4375 49.515625 20 51.265625 \nQ 22.5625 53.03125 25.640625 53.03125 \nQ 30.078125 53.03125 34.671875 50.203125 \nL 31.640625 42.046875 \nQ 28.421875 43.953125 25.203125 43.953125 \nQ 22.3125 43.953125 20.015625 42.21875 \nQ 17.71875 40.484375 16.75 37.40625 \nQ 15.28125 32.71875 15.28125 27.15625 \nL 15.28125 0 \nz\n\" id=\"ArialMT-114\"/>\n     </defs>\n     <g style=\"fill:#262626;\" transform=\"translate(15.789375 196.29375)rotate(-90)scale(0.12 -0.12)\">\n      <use xlink:href=\"#ArialMT-99\"/>\n      <use x=\"50\" xlink:href=\"#ArialMT-117\"/>\n      <use x=\"105.615234\" xlink:href=\"#ArialMT-109\"/>\n      <use x=\"188.916016\" xlink:href=\"#ArialMT-117\"/>\n      <use x=\"244.53125\" xlink:href=\"#ArialMT-108\"/>\n      <use x=\"266.748047\" xlink:href=\"#ArialMT-97\"/>\n      <use x=\"322.363281\" xlink:href=\"#ArialMT-116\"/>\n      <use x=\"350.146484\" xlink:href=\"#ArialMT-105\"/>\n      <use x=\"372.363281\" xlink:href=\"#ArialMT-118\"/>\n      <use x=\"422.363281\" xlink:href=\"#ArialMT-101\"/>\n      <use x=\"477.978516\" xlink:href=\"#ArialMT-32\"/>\n      <use x=\"505.761719\" xlink:href=\"#ArialMT-101\"/>\n      <use x=\"561.376953\" xlink:href=\"#ArialMT-120\"/>\n      <use x=\"611.376953\" xlink:href=\"#ArialMT-112\"/>\n      <use x=\"666.992188\" xlink:href=\"#ArialMT-108\"/>\n      <use x=\"689.208984\" xlink:href=\"#ArialMT-97\"/>\n      <use x=\"744.824219\" xlink:href=\"#ArialMT-105\"/>\n      <use x=\"767.041016\" xlink:href=\"#ArialMT-110\"/>\n      <use x=\"822.65625\" xlink:href=\"#ArialMT-101\"/>\n      <use x=\"878.271484\" xlink:href=\"#ArialMT-100\"/>\n      <use x=\"933.886719\" xlink:href=\"#ArialMT-32\"/>\n      <use x=\"961.669922\" xlink:href=\"#ArialMT-118\"/>\n      <use x=\"1011.669922\" xlink:href=\"#ArialMT-97\"/>\n      <use x=\"1067.285156\" xlink:href=\"#ArialMT-114\"/>\n      <use x=\"1100.585938\" xlink:href=\"#ArialMT-105\"/>\n      <use x=\"1122.802734\" xlink:href=\"#ArialMT-97\"/>\n      <use x=\"1178.417969\" xlink:href=\"#ArialMT-110\"/>\n      <use x=\"1234.033203\" xlink:href=\"#ArialMT-99\"/>\n      <use x=\"1284.033203\" xlink:href=\"#ArialMT-101\"/>\n     </g>\n    </g>\n   </g>\n   <g id=\"line2d_14\">\n    <path clip-path=\"url(#p95d2e38bac)\" d=\"M 62.182557 214.756364 \nL 112.90983 77.560758 \nL 163.637102 53.773971 \nL 214.364375 35.795406 \nL 265.091648 24.935805 \nL 315.81892 18.828739 \nL 366.546193 17.083636 \n\" style=\"fill:none;stroke:#4c72b0;stroke-linecap:round;stroke-width:1.5;\"/>\n    <defs>\n     <path d=\"M 0 1.5 \nC 0.397805 1.5 0.77937 1.341951 1.06066 1.06066 \nC 1.341951 0.77937 1.5 0.397805 1.5 0 \nC 1.5 -0.397805 1.341951 -0.77937 1.06066 -1.06066 \nC 0.77937 -1.341951 0.397805 -1.5 0 -1.5 \nC -0.397805 -1.5 -0.77937 -1.341951 -1.06066 -1.06066 \nC -1.341951 -0.77937 -1.5 -0.397805 -1.5 0 \nC -1.5 0.397805 -1.341951 0.77937 -1.06066 1.06066 \nC -0.77937 1.341951 -0.397805 1.5 0 1.5 \nz\n\" id=\"mec0e9e88b1\" style=\"stroke:#4c72b0;\"/>\n    </defs>\n    <g clip-path=\"url(#p95d2e38bac)\">\n     <use style=\"fill:#4c72b0;stroke:#4c72b0;\" x=\"62.182557\" xlink:href=\"#mec0e9e88b1\" y=\"214.756364\"/>\n     <use style=\"fill:#4c72b0;stroke:#4c72b0;\" x=\"112.90983\" xlink:href=\"#mec0e9e88b1\" y=\"77.560758\"/>\n     <use style=\"fill:#4c72b0;stroke:#4c72b0;\" x=\"163.637102\" xlink:href=\"#mec0e9e88b1\" y=\"53.773971\"/>\n     <use style=\"fill:#4c72b0;stroke:#4c72b0;\" x=\"214.364375\" xlink:href=\"#mec0e9e88b1\" y=\"35.795406\"/>\n     <use style=\"fill:#4c72b0;stroke:#4c72b0;\" x=\"265.091648\" xlink:href=\"#mec0e9e88b1\" y=\"24.935805\"/>\n     <use style=\"fill:#4c72b0;stroke:#4c72b0;\" x=\"315.81892\" xlink:href=\"#mec0e9e88b1\" y=\"18.828739\"/>\n     <use style=\"fill:#4c72b0;stroke:#4c72b0;\" x=\"366.546193\" xlink:href=\"#mec0e9e88b1\" y=\"17.083636\"/>\n    </g>\n   </g>\n   <g id=\"line2d_15\">\n    <path clip-path=\"url(#p95d2e38bac)\" d=\"M 315.81892 224.64 \nL 315.81892 7.2 \n\" style=\"fill:none;stroke:#c44e52;stroke-dasharray:14.8,6.4;stroke-dashoffset:0;stroke-width:4;\"/>\n   </g>\n   <g id=\"patch_3\">\n    <path d=\"M 46.964375 224.64 \nL 46.964375 7.2 \n\" style=\"fill:none;stroke:#cccccc;stroke-linecap:square;stroke-linejoin:miter;stroke-width:1.25;\"/>\n   </g>\n   <g id=\"patch_4\">\n    <path d=\"M 381.764375 224.64 \nL 381.764375 7.2 \n\" style=\"fill:none;stroke:#cccccc;stroke-linecap:square;stroke-linejoin:miter;stroke-width:1.25;\"/>\n   </g>\n   <g id=\"patch_5\">\n    <path d=\"M 46.964375 224.64 \nL 381.764375 224.64 \n\" style=\"fill:none;stroke:#cccccc;stroke-linecap:square;stroke-linejoin:miter;stroke-width:1.25;\"/>\n   </g>\n   <g id=\"patch_6\">\n    <path d=\"M 46.964375 7.2 \nL 381.764375 7.2 \n\" style=\"fill:none;stroke:#cccccc;stroke-linecap:square;stroke-linejoin:miter;stroke-width:1.25;\"/>\n   </g>\n  </g>\n </g>\n <defs>\n  <clipPath id=\"p95d2e38bac\">\n   <rect height=\"217.44\" width=\"334.8\" x=\"46.964375\" y=\"7.2\"/>\n  </clipPath>\n </defs>\n</svg>\n",
      "image/png": "[encoded data removed]"
     },
     "metadata": {}
    }
   ],
   "source": [
    "# 98.1% of the variance is captured with 5 components. \n",
    "\n",
    "#visualize above on a graph\n",
    "pca = PCA().fit(X)\n",
    "sns.set(style='whitegrid')\n",
    "plt.plot(np.cumsum(pca.explained_variance_ratio_)[0:15], marker='.')\n",
    "plt.xlabel('No of components')\n",
    "plt.ylabel('cumulative explained variance')\n",
    "plt.axvline(linewidth=4, color='r', linestyle='--', x=5, ymin=0, ymax=1)\n",
    "plt.savefig(\"/Users/bkirton/Desktop/sanFranCrimePredictor/images/PCA_graph.png\")\n",
    "plt.show()"
   ]
  },
  {
   "cell_type": "code",
   "execution_count": 25,
   "metadata": {},
   "outputs": [],
   "source": [
    "#initialize PCA model\n",
    "pca = PCA(n_components=6)\n",
    "\n",
    "crime_pca = pca.fit_transform(X)"
   ]
  },
  {
   "cell_type": "code",
   "execution_count": 26,
   "metadata": {},
   "outputs": [
    {
     "output_type": "execute_result",
     "data": {
      "text/plain": [
       "Index(['Categories', 'Descriptions', 'PdDistricts', 'Months', 'Day',\n",
       "       'TimeOfDay', 'ZipCode'],\n",
       "      dtype='object')"
      ]
     },
     "metadata": {},
     "execution_count": 26
    }
   ],
   "source": [
    "columns = X.columns\n",
    "columns"
   ]
  },
  {
   "cell_type": "code",
   "execution_count": 27,
   "metadata": {},
   "outputs": [
    {
     "output_type": "execute_result",
     "data": {
      "text/plain": [
       "   Cumulative Variance Ratio  Explained Variance Ratio\n",
       "0                   0.517294                  0.517294\n",
       "1                   0.852318                  0.335024\n",
       "2                   0.910404                  0.058086\n",
       "3                   0.954307                  0.043903\n",
       "4                   0.980825                  0.026519\n",
       "5                   0.995739                  0.014913"
      ],
      "text/html": "<div>\n<style scoped>\n    .dataframe tbody tr th:only-of-type {\n        vertical-align: middle;\n    }\n\n    .dataframe tbody tr th {\n        vertical-align: top;\n    }\n\n    .dataframe thead th {\n        text-align: right;\n    }\n</style>\n<table border=\"1\" class=\"dataframe\">\n  <thead>\n    <tr style=\"text-align: right;\">\n      <th></th>\n      <th>Cumulative Variance Ratio</th>\n      <th>Explained Variance Ratio</th>\n    </tr>\n  </thead>\n  <tbody>\n    <tr>\n      <th>0</th>\n      <td>0.517294</td>\n      <td>0.517294</td>\n    </tr>\n    <tr>\n      <th>1</th>\n      <td>0.852318</td>\n      <td>0.335024</td>\n    </tr>\n    <tr>\n      <th>2</th>\n      <td>0.910404</td>\n      <td>0.058086</td>\n    </tr>\n    <tr>\n      <th>3</th>\n      <td>0.954307</td>\n      <td>0.043903</td>\n    </tr>\n    <tr>\n      <th>4</th>\n      <td>0.980825</td>\n      <td>0.026519</td>\n    </tr>\n    <tr>\n      <th>5</th>\n      <td>0.995739</td>\n      <td>0.014913</td>\n    </tr>\n  </tbody>\n</table>\n</div>"
     },
     "metadata": {},
     "execution_count": 27
    }
   ],
   "source": [
    "evr = pca.explained_variance_ratio_\n",
    "cvr = np.cumsum(pca.explained_variance_ratio_)\n",
    "\n",
    "pca_df = pd.DataFrame()\n",
    "pca_df['Cumulative Variance Ratio'] = cvr\n",
    "pca_df['Explained Variance Ratio'] = evr\n",
    "pca_df.head(50)"
   ]
  },
  {
   "cell_type": "code",
   "execution_count": 28,
   "metadata": {},
   "outputs": [
    {
     "output_type": "execute_result",
     "data": {
      "text/plain": [
       "              PCA Component 0  PCA Component 1  PCA Component 2  \\\n",
       "Categories           0.013675        -0.166178         0.985318   \n",
       "Descriptions         0.028624        -0.985616        -0.166488   \n",
       "PdDistricts         -0.059766         0.000050        -0.035687   \n",
       "Months               0.002421        -0.000425        -0.000623   \n",
       "Day                  0.001427        -0.003217         0.005508   \n",
       "TimeOfDay            0.000892        -0.001194         0.002935   \n",
       "ZipCode              0.997704         0.030565        -0.010875   \n",
       "\n",
       "              PCA Component 3  PCA Component 4  PCA Component 5  \n",
       "Categories          -0.000107         0.035983        -0.006592  \n",
       "Descriptions         0.000580        -0.004233        -0.002207  \n",
       "PdDistricts          0.009035         0.997375        -0.017291  \n",
       "Months              -0.999892         0.008996        -0.011137  \n",
       "Day                 -0.010994         0.017674         0.999718  \n",
       "TimeOfDay           -0.001989        -0.004232        -0.009329  \n",
       "ZipCode              0.002970         0.059331        -0.002277  "
      ],
      "text/html": "<div>\n<style scoped>\n    .dataframe tbody tr th:only-of-type {\n        vertical-align: middle;\n    }\n\n    .dataframe tbody tr th {\n        vertical-align: top;\n    }\n\n    .dataframe thead th {\n        text-align: right;\n    }\n</style>\n<table border=\"1\" class=\"dataframe\">\n  <thead>\n    <tr style=\"text-align: right;\">\n      <th></th>\n      <th>PCA Component 0</th>\n      <th>PCA Component 1</th>\n      <th>PCA Component 2</th>\n      <th>PCA Component 3</th>\n      <th>PCA Component 4</th>\n      <th>PCA Component 5</th>\n    </tr>\n  </thead>\n  <tbody>\n    <tr>\n      <th>Categories</th>\n      <td>0.013675</td>\n      <td>-0.166178</td>\n      <td>0.985318</td>\n      <td>-0.000107</td>\n      <td>0.035983</td>\n      <td>-0.006592</td>\n    </tr>\n    <tr>\n      <th>Descriptions</th>\n      <td>0.028624</td>\n      <td>-0.985616</td>\n      <td>-0.166488</td>\n      <td>0.000580</td>\n      <td>-0.004233</td>\n      <td>-0.002207</td>\n    </tr>\n    <tr>\n      <th>PdDistricts</th>\n      <td>-0.059766</td>\n      <td>0.000050</td>\n      <td>-0.035687</td>\n      <td>0.009035</td>\n      <td>0.997375</td>\n      <td>-0.017291</td>\n    </tr>\n    <tr>\n      <th>Months</th>\n      <td>0.002421</td>\n      <td>-0.000425</td>\n      <td>-0.000623</td>\n      <td>-0.999892</td>\n      <td>0.008996</td>\n      <td>-0.011137</td>\n    </tr>\n    <tr>\n      <th>Day</th>\n      <td>0.001427</td>\n      <td>-0.003217</td>\n      <td>0.005508</td>\n      <td>-0.010994</td>\n      <td>0.017674</td>\n      <td>0.999718</td>\n    </tr>\n    <tr>\n      <th>TimeOfDay</th>\n      <td>0.000892</td>\n      <td>-0.001194</td>\n      <td>0.002935</td>\n      <td>-0.001989</td>\n      <td>-0.004232</td>\n      <td>-0.009329</td>\n    </tr>\n    <tr>\n      <th>ZipCode</th>\n      <td>0.997704</td>\n      <td>0.030565</td>\n      <td>-0.010875</td>\n      <td>0.002970</td>\n      <td>0.059331</td>\n      <td>-0.002277</td>\n    </tr>\n  </tbody>\n</table>\n</div>"
     },
     "metadata": {},
     "execution_count": 28
    }
   ],
   "source": [
    "pca_dims = []\n",
    "for x in range(0, len(pca_df)):\n",
    "    pca_dims.append('PCA Component {}'.format(x))\n",
    "pca_test_df = pd.DataFrame(pca.components_, columns=columns, index=pca_dims)\n",
    "pca_test_df.head(50).T"
   ]
  },
  {
   "cell_type": "code",
   "execution_count": 29,
   "metadata": {},
   "outputs": [
    {
     "output_type": "stream",
     "name": "stdout",
     "text": [
      "Feature ranking:\n1. Categories (0.319765)\n2. Descriptions (0.263453)\n3. PdDistricts (0.133189)\n4. Months (0.094816)\n5. Day (0.082600)\n6. TimeOfDay (0.057130)\n7. ZipCode (0.049046)\n"
     ]
    }
   ],
   "source": [
    "# List the features sorted in descending order by feature importance\n",
    "# https://scikit-learn.org/stable/auto_examples/ensemble/plot_forest_importances.html\n",
    "features = X.columns\n",
    "importances = brf.feature_importances_\n",
    "indices = np.argsort(importances)[::-1]\n",
    "\n",
    "#print feature rankings\n",
    "print(\"Feature ranking:\")\n",
    "for f in range(X.shape[1]):\n",
    "    print(\"%d. %s (%f)\" % (f+1, features[f], importances[indices[f]]))"
   ]
  },
  {
   "cell_type": "code",
   "execution_count": 30,
   "metadata": {},
   "outputs": [
    {
     "output_type": "display_data",
     "data": {
      "text/plain": "<Figure size 2160x1080 with 1 Axes>",
      "image/svg+xml": "<?xml version=\"1.0\" encoding=\"utf-8\" standalone=\"no\"?>\n<!DOCTYPE svg PUBLIC \"-//W3C//DTD SVG 1.1//EN\"\n  \"http://www.w3.org/Graphics/SVG/1.1/DTD/svg11.dtd\">\n<!-- Created with matplotlib (https://matplotlib.org/) -->\n<svg height=\"907.124391pt\" version=\"1.1\" viewBox=\"0 0 1827.610266 907.124391\" width=\"1827.610266pt\" xmlns=\"http://www.w3.org/2000/svg\" xmlns:xlink=\"http://www.w3.org/1999/xlink\">\n <defs>\n  <style type=\"text/css\">\n*{stroke-linecap:butt;stroke-linejoin:round;}\n  </style>\n </defs>\n <g id=\"figure_1\">\n  <g id=\"patch_1\">\n   <path d=\"M 0 907.124391 \nL 1827.610266 907.124391 \nL 1827.610266 0 \nL 0 0 \nz\n\" style=\"fill:#ffffff;\"/>\n  </g>\n  <g id=\"axes_1\">\n   <g id=\"patch_2\">\n    <path d=\"M 146.410266 846.494531 \nL 1820.410266 846.494531 \nL 1820.410266 31.094531 \nL 146.410266 31.094531 \nz\n\" style=\"fill:#ffffff;\"/>\n   </g>\n   <g id=\"matplotlib.axis_1\">\n    <g id=\"xtick_1\">\n     <g id=\"line2d_1\">\n      <path clip-path=\"url(#p7131efb0e7)\" d=\"M 146.410266 846.494531 \nL 146.410266 31.094531 \n\" style=\"fill:none;stroke:#cccccc;stroke-linecap:round;\"/>\n     </g>\n     <g id=\"text_1\">\n      <!-- 0.00 -->\n      <defs>\n       <path d=\"M 4.15625 35.296875 \nQ 4.15625 48 6.765625 55.734375 \nQ 9.375 63.484375 14.515625 67.671875 \nQ 19.671875 71.875 27.484375 71.875 \nQ 33.25 71.875 37.59375 69.546875 \nQ 41.9375 67.234375 44.765625 62.859375 \nQ 47.609375 58.5 49.21875 52.21875 \nQ 50.828125 45.953125 50.828125 35.296875 \nQ 50.828125 22.703125 48.234375 14.96875 \nQ 45.65625 7.234375 40.5 3 \nQ 35.359375 -1.21875 27.484375 -1.21875 \nQ 17.140625 -1.21875 11.234375 6.203125 \nQ 4.15625 15.140625 4.15625 35.296875 \nz\nM 13.1875 35.296875 \nQ 13.1875 17.671875 17.3125 11.828125 \nQ 21.4375 6 27.484375 6 \nQ 33.546875 6 37.671875 11.859375 \nQ 41.796875 17.71875 41.796875 35.296875 \nQ 41.796875 52.984375 37.671875 58.78125 \nQ 33.546875 64.59375 27.390625 64.59375 \nQ 21.34375 64.59375 17.71875 59.46875 \nQ 13.1875 52.9375 13.1875 35.296875 \nz\n\" id=\"ArialMT-48\"/>\n       <path d=\"M 9.078125 0 \nL 9.078125 10.015625 \nL 19.09375 10.015625 \nL 19.09375 0 \nz\n\" id=\"ArialMT-46\"/>\n      </defs>\n      <g style=\"fill:#262626;\" transform=\"translate(128.214289 869.379641)scale(0.187 -0.187)\">\n       <use xlink:href=\"#ArialMT-48\"/>\n       <use x=\"55.615234\" xlink:href=\"#ArialMT-46\"/>\n       <use x=\"83.398438\" xlink:href=\"#ArialMT-48\"/>\n       <use x=\"139.013672\" xlink:href=\"#ArialMT-48\"/>\n      </g>\n     </g>\n    </g>\n    <g id=\"xtick_2\">\n     <g id=\"line2d_2\">\n      <path clip-path=\"url(#p7131efb0e7)\" d=\"M 395.700345 846.494531 \nL 395.700345 31.094531 \n\" style=\"fill:none;stroke:#cccccc;stroke-linecap:round;\"/>\n     </g>\n     <g id=\"text_2\">\n      <!-- 0.05 -->\n      <defs>\n       <path d=\"M 4.15625 18.75 \nL 13.375 19.53125 \nQ 14.40625 12.796875 18.140625 9.390625 \nQ 21.875 6 27.15625 6 \nQ 33.5 6 37.890625 10.78125 \nQ 42.28125 15.578125 42.28125 23.484375 \nQ 42.28125 31 38.0625 35.34375 \nQ 33.84375 39.703125 27 39.703125 \nQ 22.75 39.703125 19.328125 37.765625 \nQ 15.921875 35.84375 13.96875 32.765625 \nL 5.71875 33.84375 \nL 12.640625 70.609375 \nL 48.25 70.609375 \nL 48.25 62.203125 \nL 19.671875 62.203125 \nL 15.828125 42.96875 \nQ 22.265625 47.46875 29.34375 47.46875 \nQ 38.71875 47.46875 45.15625 40.96875 \nQ 51.609375 34.46875 51.609375 24.265625 \nQ 51.609375 14.546875 45.953125 7.46875 \nQ 39.0625 -1.21875 27.15625 -1.21875 \nQ 17.390625 -1.21875 11.203125 4.25 \nQ 5.03125 9.71875 4.15625 18.75 \nz\n\" id=\"ArialMT-53\"/>\n      </defs>\n      <g style=\"fill:#262626;\" transform=\"translate(377.504368 869.379641)scale(0.187 -0.187)\">\n       <use xlink:href=\"#ArialMT-48\"/>\n       <use x=\"55.615234\" xlink:href=\"#ArialMT-46\"/>\n       <use x=\"83.398438\" xlink:href=\"#ArialMT-48\"/>\n       <use x=\"139.013672\" xlink:href=\"#ArialMT-53\"/>\n      </g>\n     </g>\n    </g>\n    <g id=\"xtick_3\">\n     <g id=\"line2d_3\">\n      <path clip-path=\"url(#p7131efb0e7)\" d=\"M 644.990423 846.494531 \nL 644.990423 31.094531 \n\" style=\"fill:none;stroke:#cccccc;stroke-linecap:round;\"/>\n     </g>\n     <g id=\"text_3\">\n      <!-- 0.10 -->\n      <defs>\n       <path d=\"M 37.25 0 \nL 28.46875 0 \nL 28.46875 56 \nQ 25.296875 52.984375 20.140625 49.953125 \nQ 14.984375 46.921875 10.890625 45.40625 \nL 10.890625 53.90625 \nQ 18.265625 57.375 23.78125 62.296875 \nQ 29.296875 67.234375 31.59375 71.875 \nL 37.25 71.875 \nz\n\" id=\"ArialMT-49\"/>\n      </defs>\n      <g style=\"fill:#262626;\" transform=\"translate(626.794447 869.379641)scale(0.187 -0.187)\">\n       <use xlink:href=\"#ArialMT-48\"/>\n       <use x=\"55.615234\" xlink:href=\"#ArialMT-46\"/>\n       <use x=\"83.398438\" xlink:href=\"#ArialMT-49\"/>\n       <use x=\"139.013672\" xlink:href=\"#ArialMT-48\"/>\n      </g>\n     </g>\n    </g>\n    <g id=\"xtick_4\">\n     <g id=\"line2d_4\">\n      <path clip-path=\"url(#p7131efb0e7)\" d=\"M 894.280502 846.494531 \nL 894.280502 31.094531 \n\" style=\"fill:none;stroke:#cccccc;stroke-linecap:round;\"/>\n     </g>\n     <g id=\"text_4\">\n      <!-- 0.15 -->\n      <g style=\"fill:#262626;\" transform=\"translate(876.084526 869.379641)scale(0.187 -0.187)\">\n       <use xlink:href=\"#ArialMT-48\"/>\n       <use x=\"55.615234\" xlink:href=\"#ArialMT-46\"/>\n       <use x=\"83.398438\" xlink:href=\"#ArialMT-49\"/>\n       <use x=\"139.013672\" xlink:href=\"#ArialMT-53\"/>\n      </g>\n     </g>\n    </g>\n    <g id=\"xtick_5\">\n     <g id=\"line2d_5\">\n      <path clip-path=\"url(#p7131efb0e7)\" d=\"M 1143.570581 846.494531 \nL 1143.570581 31.094531 \n\" style=\"fill:none;stroke:#cccccc;stroke-linecap:round;\"/>\n     </g>\n     <g id=\"text_5\">\n      <!-- 0.20 -->\n      <defs>\n       <path d=\"M 50.34375 8.453125 \nL 50.34375 0 \nL 3.03125 0 \nQ 2.9375 3.171875 4.046875 6.109375 \nQ 5.859375 10.9375 9.828125 15.625 \nQ 13.8125 20.3125 21.34375 26.46875 \nQ 33.015625 36.03125 37.109375 41.625 \nQ 41.21875 47.21875 41.21875 52.203125 \nQ 41.21875 57.421875 37.46875 61 \nQ 33.734375 64.59375 27.734375 64.59375 \nQ 21.390625 64.59375 17.578125 60.78125 \nQ 13.765625 56.984375 13.71875 50.25 \nL 4.6875 51.171875 \nQ 5.609375 61.28125 11.65625 66.578125 \nQ 17.71875 71.875 27.9375 71.875 \nQ 38.234375 71.875 44.234375 66.15625 \nQ 50.25 60.453125 50.25 52 \nQ 50.25 47.703125 48.484375 43.546875 \nQ 46.734375 39.40625 42.65625 34.8125 \nQ 38.578125 30.21875 29.109375 22.21875 \nQ 21.1875 15.578125 18.9375 13.203125 \nQ 16.703125 10.84375 15.234375 8.453125 \nz\n\" id=\"ArialMT-50\"/>\n      </defs>\n      <g style=\"fill:#262626;\" transform=\"translate(1125.374605 869.379641)scale(0.187 -0.187)\">\n       <use xlink:href=\"#ArialMT-48\"/>\n       <use x=\"55.615234\" xlink:href=\"#ArialMT-46\"/>\n       <use x=\"83.398438\" xlink:href=\"#ArialMT-50\"/>\n       <use x=\"139.013672\" xlink:href=\"#ArialMT-48\"/>\n      </g>\n     </g>\n    </g>\n    <g id=\"xtick_6\">\n     <g id=\"line2d_6\">\n      <path clip-path=\"url(#p7131efb0e7)\" d=\"M 1392.86066 846.494531 \nL 1392.86066 31.094531 \n\" style=\"fill:none;stroke:#cccccc;stroke-linecap:round;\"/>\n     </g>\n     <g id=\"text_6\">\n      <!-- 0.25 -->\n      <g style=\"fill:#262626;\" transform=\"translate(1374.664684 869.379641)scale(0.187 -0.187)\">\n       <use xlink:href=\"#ArialMT-48\"/>\n       <use x=\"55.615234\" xlink:href=\"#ArialMT-46\"/>\n       <use x=\"83.398438\" xlink:href=\"#ArialMT-50\"/>\n       <use x=\"139.013672\" xlink:href=\"#ArialMT-53\"/>\n      </g>\n     </g>\n    </g>\n    <g id=\"xtick_7\">\n     <g id=\"line2d_7\">\n      <path clip-path=\"url(#p7131efb0e7)\" d=\"M 1642.150739 846.494531 \nL 1642.150739 31.094531 \n\" style=\"fill:none;stroke:#cccccc;stroke-linecap:round;\"/>\n     </g>\n     <g id=\"text_7\">\n      <!-- 0.30 -->\n      <defs>\n       <path d=\"M 4.203125 18.890625 \nL 12.984375 20.0625 \nQ 14.5 12.59375 18.140625 9.296875 \nQ 21.78125 6 27 6 \nQ 33.203125 6 37.46875 10.296875 \nQ 41.75 14.59375 41.75 20.953125 \nQ 41.75 27 37.796875 30.921875 \nQ 33.84375 34.859375 27.734375 34.859375 \nQ 25.25 34.859375 21.53125 33.890625 \nL 22.515625 41.609375 \nQ 23.390625 41.5 23.921875 41.5 \nQ 29.546875 41.5 34.03125 44.421875 \nQ 38.53125 47.359375 38.53125 53.46875 \nQ 38.53125 58.296875 35.25 61.46875 \nQ 31.984375 64.65625 26.8125 64.65625 \nQ 21.6875 64.65625 18.265625 61.421875 \nQ 14.84375 58.203125 13.875 51.765625 \nL 5.078125 53.328125 \nQ 6.6875 62.15625 12.390625 67.015625 \nQ 18.109375 71.875 26.609375 71.875 \nQ 32.46875 71.875 37.390625 69.359375 \nQ 42.328125 66.84375 44.9375 62.5 \nQ 47.5625 58.15625 47.5625 53.265625 \nQ 47.5625 48.640625 45.0625 44.828125 \nQ 42.578125 41.015625 37.703125 38.765625 \nQ 44.046875 37.3125 47.5625 32.6875 \nQ 51.078125 28.078125 51.078125 21.140625 \nQ 51.078125 11.765625 44.234375 5.25 \nQ 37.40625 -1.265625 26.953125 -1.265625 \nQ 17.53125 -1.265625 11.296875 4.34375 \nQ 5.078125 9.96875 4.203125 18.890625 \nz\n\" id=\"ArialMT-51\"/>\n      </defs>\n      <g style=\"fill:#262626;\" transform=\"translate(1623.954763 869.379641)scale(0.187 -0.187)\">\n       <use xlink:href=\"#ArialMT-48\"/>\n       <use x=\"55.615234\" xlink:href=\"#ArialMT-46\"/>\n       <use x=\"83.398438\" xlink:href=\"#ArialMT-51\"/>\n       <use x=\"139.013672\" xlink:href=\"#ArialMT-48\"/>\n      </g>\n     </g>\n    </g>\n    <g id=\"text_8\">\n     <!-- Importance -->\n     <defs>\n      <path d=\"M 6.84375 0 \nL 6.84375 71.578125 \nL 21.296875 71.578125 \nL 21.296875 0 \nz\n\" id=\"Arial-BoldMT-73\"/>\n      <path d=\"M 6.15625 51.859375 \nL 18.796875 51.859375 \nL 18.796875 44.78125 \nQ 25.59375 53.03125 34.96875 53.03125 \nQ 39.9375 53.03125 43.59375 50.96875 \nQ 47.265625 48.921875 49.609375 44.78125 \nQ 53.03125 48.921875 56.984375 50.96875 \nQ 60.9375 53.03125 65.4375 53.03125 \nQ 71.140625 53.03125 75.09375 50.703125 \nQ 79.046875 48.390625 81 43.890625 \nQ 82.421875 40.578125 82.421875 33.15625 \nL 82.421875 0 \nL 68.703125 0 \nL 68.703125 29.640625 \nQ 68.703125 37.359375 67.28125 39.59375 \nQ 65.375 42.53125 61.421875 42.53125 \nQ 58.546875 42.53125 56 40.765625 \nQ 53.46875 39.015625 52.34375 35.625 \nQ 51.21875 32.234375 51.21875 24.90625 \nL 51.21875 0 \nL 37.5 0 \nL 37.5 28.421875 \nQ 37.5 35.984375 36.765625 38.171875 \nQ 36.03125 40.375 34.484375 41.453125 \nQ 32.953125 42.53125 30.328125 42.53125 \nQ 27.15625 42.53125 24.609375 40.8125 \nQ 22.078125 39.109375 20.96875 35.890625 \nQ 19.875 32.671875 19.875 25.203125 \nL 19.875 0 \nL 6.15625 0 \nz\n\" id=\"Arial-BoldMT-109\"/>\n      <path d=\"M 6.78125 51.859375 \nL 19.578125 51.859375 \nL 19.578125 44.234375 \nQ 22.078125 48.140625 26.3125 50.578125 \nQ 30.5625 53.03125 35.75 53.03125 \nQ 44.78125 53.03125 51.078125 45.953125 \nQ 57.375 38.875 57.375 26.21875 \nQ 57.375 13.234375 51.015625 6.03125 \nQ 44.671875 -1.171875 35.640625 -1.171875 \nQ 31.34375 -1.171875 27.84375 0.53125 \nQ 24.359375 2.25 20.515625 6.390625 \nL 20.515625 -19.734375 \nL 6.78125 -19.734375 \nz\nM 20.359375 26.8125 \nQ 20.359375 18.0625 23.828125 13.890625 \nQ 27.296875 9.71875 32.28125 9.71875 \nQ 37.0625 9.71875 40.234375 13.546875 \nQ 43.40625 17.390625 43.40625 26.125 \nQ 43.40625 34.28125 40.125 38.234375 \nQ 36.859375 42.1875 32.03125 42.1875 \nQ 27 42.1875 23.671875 38.296875 \nQ 20.359375 34.421875 20.359375 26.8125 \nz\n\" id=\"Arial-BoldMT-112\"/>\n      <path d=\"M 4 26.65625 \nQ 4 33.5 7.375 39.890625 \nQ 10.75 46.296875 16.921875 49.65625 \nQ 23.09375 53.03125 30.71875 53.03125 \nQ 42.484375 53.03125 50 45.390625 \nQ 57.515625 37.75 57.515625 26.078125 \nQ 57.515625 14.3125 49.921875 6.5625 \nQ 42.328125 -1.171875 30.8125 -1.171875 \nQ 23.6875 -1.171875 17.21875 2.046875 \nQ 10.75 5.28125 7.375 11.5 \nQ 4 17.71875 4 26.65625 \nz\nM 18.0625 25.921875 \nQ 18.0625 18.21875 21.71875 14.109375 \nQ 25.390625 10.015625 30.765625 10.015625 \nQ 36.140625 10.015625 39.765625 14.109375 \nQ 43.40625 18.21875 43.40625 26.03125 \nQ 43.40625 33.640625 39.765625 37.734375 \nQ 36.140625 41.84375 30.765625 41.84375 \nQ 25.390625 41.84375 21.71875 37.734375 \nQ 18.0625 33.640625 18.0625 25.921875 \nz\n\" id=\"Arial-BoldMT-111\"/>\n      <path d=\"M 20.3125 0 \nL 6.59375 0 \nL 6.59375 51.859375 \nL 19.34375 51.859375 \nL 19.34375 44.484375 \nQ 22.609375 49.703125 25.21875 51.359375 \nQ 27.828125 53.03125 31.15625 53.03125 \nQ 35.84375 53.03125 40.1875 50.4375 \nL 35.9375 38.484375 \nQ 32.46875 40.71875 29.5 40.71875 \nQ 26.609375 40.71875 24.609375 39.125 \nQ 22.609375 37.546875 21.453125 33.390625 \nQ 20.3125 29.25 20.3125 16.015625 \nz\n\" id=\"Arial-BoldMT-114\"/>\n      <path d=\"M 30.953125 51.859375 \nL 30.953125 40.921875 \nL 21.578125 40.921875 \nL 21.578125 20.015625 \nQ 21.578125 13.671875 21.84375 12.625 \nQ 22.125 11.578125 23.078125 10.890625 \nQ 24.03125 10.203125 25.390625 10.203125 \nQ 27.296875 10.203125 30.90625 11.53125 \nL 32.078125 0.875 \nQ 27.296875 -1.171875 21.234375 -1.171875 \nQ 17.53125 -1.171875 14.546875 0.0625 \nQ 11.578125 1.3125 10.1875 3.296875 \nQ 8.796875 5.28125 8.25 8.640625 \nQ 7.8125 11.03125 7.8125 18.3125 \nL 7.8125 40.921875 \nL 1.515625 40.921875 \nL 1.515625 51.859375 \nL 7.8125 51.859375 \nL 7.8125 62.15625 \nL 21.578125 70.171875 \nL 21.578125 51.859375 \nz\n\" id=\"Arial-BoldMT-116\"/>\n      <path d=\"M 17.4375 36.03125 \nL 4.984375 38.28125 \nQ 7.078125 45.796875 12.203125 49.40625 \nQ 17.328125 53.03125 27.4375 53.03125 \nQ 36.625 53.03125 41.109375 50.859375 \nQ 45.609375 48.6875 47.4375 45.34375 \nQ 49.265625 42 49.265625 33.0625 \nL 49.125 17.046875 \nQ 49.125 10.203125 49.78125 6.953125 \nQ 50.4375 3.71875 52.25 0 \nL 38.671875 0 \nQ 38.140625 1.375 37.359375 4.046875 \nQ 37.015625 5.28125 36.859375 5.671875 \nQ 33.34375 2.25 29.34375 0.53125 \nQ 25.34375 -1.171875 20.796875 -1.171875 \nQ 12.796875 -1.171875 8.171875 3.171875 \nQ 3.5625 7.515625 3.5625 14.15625 \nQ 3.5625 18.5625 5.65625 22 \nQ 7.765625 25.4375 11.546875 27.265625 \nQ 15.328125 29.109375 22.46875 30.46875 \nQ 32.078125 32.28125 35.796875 33.84375 \nL 35.796875 35.203125 \nQ 35.796875 39.15625 33.84375 40.84375 \nQ 31.890625 42.53125 26.46875 42.53125 \nQ 22.796875 42.53125 20.75 41.09375 \nQ 18.703125 39.65625 17.4375 36.03125 \nz\nM 35.796875 24.90625 \nQ 33.15625 24.03125 27.4375 22.796875 \nQ 21.734375 21.578125 19.96875 20.40625 \nQ 17.28125 18.5 17.28125 15.578125 \nQ 17.28125 12.703125 19.421875 10.59375 \nQ 21.578125 8.5 24.90625 8.5 \nQ 28.609375 8.5 31.984375 10.9375 \nQ 34.46875 12.796875 35.25 15.484375 \nQ 35.796875 17.234375 35.796875 22.171875 \nz\n\" id=\"Arial-BoldMT-97\"/>\n      <path d=\"M 54.34375 0 \nL 40.625 0 \nL 40.625 26.46875 \nQ 40.625 34.859375 39.75 37.328125 \nQ 38.875 39.796875 36.890625 41.15625 \nQ 34.90625 42.53125 32.125 42.53125 \nQ 28.5625 42.53125 25.734375 40.578125 \nQ 22.90625 38.625 21.84375 35.390625 \nQ 20.796875 32.171875 20.796875 23.484375 \nL 20.796875 0 \nL 7.078125 0 \nL 7.078125 51.859375 \nL 19.828125 51.859375 \nL 19.828125 44.234375 \nQ 26.609375 53.03125 36.921875 53.03125 \nQ 41.453125 53.03125 45.203125 51.390625 \nQ 48.96875 49.75 50.890625 47.203125 \nQ 52.828125 44.671875 53.578125 41.453125 \nQ 54.34375 38.234375 54.34375 32.234375 \nz\n\" id=\"Arial-BoldMT-110\"/>\n      <path d=\"M 52.390625 36.53125 \nL 38.875 34.078125 \nQ 38.1875 38.140625 35.765625 40.1875 \nQ 33.34375 42.234375 29.5 42.234375 \nQ 24.359375 42.234375 21.3125 38.6875 \nQ 18.265625 35.15625 18.265625 26.859375 \nQ 18.265625 17.625 21.359375 13.8125 \nQ 24.46875 10.015625 29.6875 10.015625 \nQ 33.59375 10.015625 36.078125 12.234375 \nQ 38.578125 14.453125 39.59375 19.875 \nL 53.078125 17.578125 \nQ 50.984375 8.296875 45.015625 3.5625 \nQ 39.0625 -1.171875 29.046875 -1.171875 \nQ 17.671875 -1.171875 10.90625 6 \nQ 4.15625 13.1875 4.15625 25.875 \nQ 4.15625 38.71875 10.9375 45.875 \nQ 17.71875 53.03125 29.296875 53.03125 \nQ 38.765625 53.03125 44.359375 48.953125 \nQ 49.953125 44.875 52.390625 36.53125 \nz\n\" id=\"Arial-BoldMT-99\"/>\n      <path d=\"M 37.203125 16.5 \nL 50.875 14.203125 \nQ 48.25 6.6875 42.546875 2.75 \nQ 36.859375 -1.171875 28.328125 -1.171875 \nQ 14.796875 -1.171875 8.296875 7.671875 \nQ 3.171875 14.75 3.171875 25.53125 \nQ 3.171875 38.421875 9.90625 45.71875 \nQ 16.65625 53.03125 26.953125 53.03125 \nQ 38.53125 53.03125 45.21875 45.390625 \nQ 51.90625 37.75 51.609375 21.96875 \nL 17.234375 21.96875 \nQ 17.390625 15.875 20.5625 12.46875 \nQ 23.734375 9.078125 28.46875 9.078125 \nQ 31.6875 9.078125 33.875 10.828125 \nQ 36.078125 12.59375 37.203125 16.5 \nz\nM 37.984375 30.375 \nQ 37.84375 36.328125 34.90625 39.421875 \nQ 31.984375 42.53125 27.78125 42.53125 \nQ 23.296875 42.53125 20.359375 39.265625 \nQ 17.4375 35.984375 17.484375 30.375 \nz\n\" id=\"Arial-BoldMT-101\"/>\n     </defs>\n     <g style=\"fill:#262626;\" transform=\"translate(916.037219 894.990797)scale(0.25 -0.25)\">\n      <use xlink:href=\"#Arial-BoldMT-73\"/>\n      <use x=\"27.783203\" xlink:href=\"#Arial-BoldMT-109\"/>\n      <use x=\"116.699219\" xlink:href=\"#Arial-BoldMT-112\"/>\n      <use x=\"177.783203\" xlink:href=\"#Arial-BoldMT-111\"/>\n      <use x=\"238.867188\" xlink:href=\"#Arial-BoldMT-114\"/>\n      <use x=\"277.783203\" xlink:href=\"#Arial-BoldMT-116\"/>\n      <use x=\"311.083984\" xlink:href=\"#Arial-BoldMT-97\"/>\n      <use x=\"366.699219\" xlink:href=\"#Arial-BoldMT-110\"/>\n      <use x=\"427.783203\" xlink:href=\"#Arial-BoldMT-99\"/>\n      <use x=\"483.398438\" xlink:href=\"#Arial-BoldMT-101\"/>\n     </g>\n    </g>\n   </g>\n   <g id=\"matplotlib.axis_2\">\n    <g id=\"ytick_1\">\n     <g id=\"text_9\">\n      <!-- Categories -->\n      <defs>\n       <path d=\"M 58.796875 25.09375 \nL 68.265625 22.703125 \nQ 65.28125 11.03125 57.546875 4.90625 \nQ 49.8125 -1.21875 38.625 -1.21875 \nQ 27.046875 -1.21875 19.796875 3.484375 \nQ 12.546875 8.203125 8.765625 17.140625 \nQ 4.984375 26.078125 4.984375 36.328125 \nQ 4.984375 47.515625 9.25 55.828125 \nQ 13.53125 64.15625 21.40625 68.46875 \nQ 29.296875 72.796875 38.765625 72.796875 \nQ 49.515625 72.796875 56.828125 67.328125 \nQ 64.15625 61.859375 67.046875 51.953125 \nL 57.71875 49.75 \nQ 55.21875 57.5625 50.484375 61.125 \nQ 45.75 64.703125 38.578125 64.703125 \nQ 30.328125 64.703125 24.78125 60.734375 \nQ 19.234375 56.78125 16.984375 50.109375 \nQ 14.75 43.453125 14.75 36.375 \nQ 14.75 27.25 17.40625 20.4375 \nQ 20.0625 13.625 25.671875 10.25 \nQ 31.296875 6.890625 37.84375 6.890625 \nQ 45.796875 6.890625 51.3125 11.46875 \nQ 56.84375 16.0625 58.796875 25.09375 \nz\n\" id=\"ArialMT-67\"/>\n       <path d=\"M 40.4375 6.390625 \nQ 35.546875 2.25 31.03125 0.53125 \nQ 26.515625 -1.171875 21.34375 -1.171875 \nQ 12.796875 -1.171875 8.203125 3 \nQ 3.609375 7.171875 3.609375 13.671875 \nQ 3.609375 17.484375 5.34375 20.625 \nQ 7.078125 23.78125 9.890625 25.6875 \nQ 12.703125 27.59375 16.21875 28.5625 \nQ 18.796875 29.25 24.03125 29.890625 \nQ 34.671875 31.15625 39.703125 32.90625 \nQ 39.75 34.71875 39.75 35.203125 \nQ 39.75 40.578125 37.25 42.78125 \nQ 33.890625 45.75 27.25 45.75 \nQ 21.046875 45.75 18.09375 43.578125 \nQ 15.140625 41.40625 13.71875 35.890625 \nL 5.125 37.0625 \nQ 6.296875 42.578125 8.984375 45.96875 \nQ 11.671875 49.359375 16.75 51.1875 \nQ 21.828125 53.03125 28.515625 53.03125 \nQ 35.15625 53.03125 39.296875 51.46875 \nQ 43.453125 49.90625 45.40625 47.53125 \nQ 47.359375 45.171875 48.140625 41.546875 \nQ 48.578125 39.3125 48.578125 33.453125 \nL 48.578125 21.734375 \nQ 48.578125 9.46875 49.140625 6.21875 \nQ 49.703125 2.984375 51.375 0 \nL 42.1875 0 \nQ 40.828125 2.734375 40.4375 6.390625 \nz\nM 39.703125 26.03125 \nQ 34.90625 24.078125 25.34375 22.703125 \nQ 19.921875 21.921875 17.671875 20.9375 \nQ 15.4375 19.96875 14.203125 18.09375 \nQ 12.984375 16.21875 12.984375 13.921875 \nQ 12.984375 10.40625 15.640625 8.0625 \nQ 18.3125 5.71875 23.4375 5.71875 \nQ 28.515625 5.71875 32.46875 7.9375 \nQ 36.421875 10.15625 38.28125 14.015625 \nQ 39.703125 17 39.703125 22.796875 \nz\n\" id=\"ArialMT-97\"/>\n       <path d=\"M 25.78125 7.859375 \nL 27.046875 0.09375 \nQ 23.34375 -0.6875 20.40625 -0.6875 \nQ 15.625 -0.6875 12.984375 0.828125 \nQ 10.359375 2.34375 9.28125 4.8125 \nQ 8.203125 7.28125 8.203125 15.1875 \nL 8.203125 45.015625 \nL 1.765625 45.015625 \nL 1.765625 51.859375 \nL 8.203125 51.859375 \nL 8.203125 64.703125 \nL 16.9375 69.96875 \nL 16.9375 51.859375 \nL 25.78125 51.859375 \nL 25.78125 45.015625 \nL 16.9375 45.015625 \nL 16.9375 14.703125 \nQ 16.9375 10.9375 17.40625 9.859375 \nQ 17.875 8.796875 18.921875 8.15625 \nQ 19.96875 7.515625 21.921875 7.515625 \nQ 23.390625 7.515625 25.78125 7.859375 \nz\n\" id=\"ArialMT-116\"/>\n       <path d=\"M 42.09375 16.703125 \nL 51.171875 15.578125 \nQ 49.03125 7.625 43.21875 3.21875 \nQ 37.40625 -1.171875 28.375 -1.171875 \nQ 17 -1.171875 10.328125 5.828125 \nQ 3.65625 12.84375 3.65625 25.484375 \nQ 3.65625 38.578125 10.390625 45.796875 \nQ 17.140625 53.03125 27.875 53.03125 \nQ 38.28125 53.03125 44.875 45.953125 \nQ 51.46875 38.875 51.46875 26.03125 \nQ 51.46875 25.25 51.421875 23.6875 \nL 12.75 23.6875 \nQ 13.234375 15.140625 17.578125 10.59375 \nQ 21.921875 6.0625 28.421875 6.0625 \nQ 33.25 6.0625 36.671875 8.59375 \nQ 40.09375 11.140625 42.09375 16.703125 \nz\nM 13.234375 30.90625 \nL 42.1875 30.90625 \nQ 41.609375 37.453125 38.875 40.71875 \nQ 34.671875 45.796875 27.984375 45.796875 \nQ 21.921875 45.796875 17.796875 41.75 \nQ 13.671875 37.703125 13.234375 30.90625 \nz\n\" id=\"ArialMT-101\"/>\n       <path d=\"M 4.984375 -4.296875 \nL 13.53125 -5.5625 \nQ 14.0625 -9.515625 16.5 -11.328125 \nQ 19.78125 -13.765625 25.4375 -13.765625 \nQ 31.546875 -13.765625 34.859375 -11.328125 \nQ 38.1875 -8.890625 39.359375 -4.5 \nQ 40.046875 -1.8125 39.984375 6.78125 \nQ 34.234375 0 25.640625 0 \nQ 14.9375 0 9.078125 7.71875 \nQ 3.21875 15.4375 3.21875 26.21875 \nQ 3.21875 33.640625 5.90625 39.90625 \nQ 8.59375 46.1875 13.6875 49.609375 \nQ 18.796875 53.03125 25.6875 53.03125 \nQ 34.859375 53.03125 40.828125 45.609375 \nL 40.828125 51.859375 \nL 48.921875 51.859375 \nL 48.921875 7.03125 \nQ 48.921875 -5.078125 46.453125 -10.125 \nQ 44 -15.1875 38.640625 -18.109375 \nQ 33.296875 -21.046875 25.484375 -21.046875 \nQ 16.21875 -21.046875 10.5 -16.875 \nQ 4.78125 -12.703125 4.984375 -4.296875 \nz\nM 12.25 26.859375 \nQ 12.25 16.65625 16.296875 11.96875 \nQ 20.359375 7.28125 26.46875 7.28125 \nQ 32.515625 7.28125 36.609375 11.9375 \nQ 40.71875 16.609375 40.71875 26.5625 \nQ 40.71875 36.078125 36.5 40.90625 \nQ 32.28125 45.75 26.3125 45.75 \nQ 20.453125 45.75 16.34375 40.984375 \nQ 12.25 36.234375 12.25 26.859375 \nz\n\" id=\"ArialMT-103\"/>\n       <path d=\"M 3.328125 25.921875 \nQ 3.328125 40.328125 11.328125 47.265625 \nQ 18.015625 53.03125 27.640625 53.03125 \nQ 38.328125 53.03125 45.109375 46.015625 \nQ 51.90625 39.015625 51.90625 26.65625 \nQ 51.90625 16.65625 48.90625 10.90625 \nQ 45.90625 5.171875 40.15625 2 \nQ 34.421875 -1.171875 27.640625 -1.171875 \nQ 16.75 -1.171875 10.03125 5.8125 \nQ 3.328125 12.796875 3.328125 25.921875 \nz\nM 12.359375 25.921875 \nQ 12.359375 15.96875 16.703125 11.015625 \nQ 21.046875 6.0625 27.640625 6.0625 \nQ 34.1875 6.0625 38.53125 11.03125 \nQ 42.875 16.015625 42.875 26.21875 \nQ 42.875 35.84375 38.5 40.796875 \nQ 34.125 45.75 27.640625 45.75 \nQ 21.046875 45.75 16.703125 40.8125 \nQ 12.359375 35.890625 12.359375 25.921875 \nz\n\" id=\"ArialMT-111\"/>\n       <path d=\"M 6.5 0 \nL 6.5 51.859375 \nL 14.40625 51.859375 \nL 14.40625 44 \nQ 17.4375 49.515625 20 51.265625 \nQ 22.5625 53.03125 25.640625 53.03125 \nQ 30.078125 53.03125 34.671875 50.203125 \nL 31.640625 42.046875 \nQ 28.421875 43.953125 25.203125 43.953125 \nQ 22.3125 43.953125 20.015625 42.21875 \nQ 17.71875 40.484375 16.75 37.40625 \nQ 15.28125 32.71875 15.28125 27.15625 \nL 15.28125 0 \nz\n\" id=\"ArialMT-114\"/>\n       <path d=\"M 6.640625 61.46875 \nL 6.640625 71.578125 \nL 15.4375 71.578125 \nL 15.4375 61.46875 \nz\nM 6.640625 0 \nL 6.640625 51.859375 \nL 15.4375 51.859375 \nL 15.4375 0 \nz\n\" id=\"ArialMT-105\"/>\n       <path d=\"M 3.078125 15.484375 \nL 11.765625 16.84375 \nQ 12.5 11.625 15.84375 8.84375 \nQ 19.1875 6.0625 25.203125 6.0625 \nQ 31.25 6.0625 34.171875 8.515625 \nQ 37.109375 10.984375 37.109375 14.3125 \nQ 37.109375 17.28125 34.515625 19 \nQ 32.71875 20.171875 25.53125 21.96875 \nQ 15.875 24.421875 12.140625 26.203125 \nQ 8.40625 27.984375 6.46875 31.125 \nQ 4.546875 34.28125 4.546875 38.09375 \nQ 4.546875 41.546875 6.125 44.5 \nQ 7.71875 47.46875 10.453125 49.421875 \nQ 12.5 50.921875 16.03125 51.96875 \nQ 19.578125 53.03125 23.640625 53.03125 \nQ 29.734375 53.03125 34.34375 51.265625 \nQ 38.96875 49.515625 41.15625 46.5 \nQ 43.359375 43.5 44.1875 38.484375 \nL 35.59375 37.3125 \nQ 35.015625 41.3125 32.203125 43.546875 \nQ 29.390625 45.796875 24.265625 45.796875 \nQ 18.21875 45.796875 15.625 43.796875 \nQ 13.03125 41.796875 13.03125 39.109375 \nQ 13.03125 37.40625 14.109375 36.03125 \nQ 15.1875 34.625 17.484375 33.6875 \nQ 18.796875 33.203125 25.25 31.453125 \nQ 34.578125 28.953125 38.25 27.359375 \nQ 41.9375 25.78125 44.03125 22.75 \nQ 46.140625 19.734375 46.140625 15.234375 \nQ 46.140625 10.84375 43.578125 6.953125 \nQ 41.015625 3.078125 36.171875 0.953125 \nQ 31.34375 -1.171875 25.25 -1.171875 \nQ 15.140625 -1.171875 9.84375 3.03125 \nQ 4.546875 7.234375 3.078125 15.484375 \nz\n\" id=\"ArialMT-115\"/>\n      </defs>\n      <g style=\"fill:#262626;\" transform=\"translate(46.484078 96.143896)scale(0.187 -0.187)\">\n       <use xlink:href=\"#ArialMT-67\"/>\n       <use x=\"72.216797\" xlink:href=\"#ArialMT-97\"/>\n       <use x=\"127.832031\" xlink:href=\"#ArialMT-116\"/>\n       <use x=\"155.615234\" xlink:href=\"#ArialMT-101\"/>\n       <use x=\"211.230469\" xlink:href=\"#ArialMT-103\"/>\n       <use x=\"266.845703\" xlink:href=\"#ArialMT-111\"/>\n       <use x=\"322.460938\" xlink:href=\"#ArialMT-114\"/>\n       <use x=\"355.761719\" xlink:href=\"#ArialMT-105\"/>\n       <use x=\"377.978516\" xlink:href=\"#ArialMT-101\"/>\n       <use x=\"433.59375\" xlink:href=\"#ArialMT-115\"/>\n      </g>\n     </g>\n    </g>\n    <g id=\"ytick_2\">\n     <g id=\"text_10\">\n      <!-- Descriptions -->\n      <defs>\n       <path d=\"M 7.71875 0 \nL 7.71875 71.578125 \nL 32.375 71.578125 \nQ 40.71875 71.578125 45.125 70.5625 \nQ 51.265625 69.140625 55.609375 65.4375 \nQ 61.28125 60.640625 64.078125 53.1875 \nQ 66.890625 45.75 66.890625 36.1875 \nQ 66.890625 28.03125 64.984375 21.734375 \nQ 63.09375 15.4375 60.109375 11.296875 \nQ 57.125 7.171875 53.578125 4.796875 \nQ 50.046875 2.4375 45.046875 1.21875 \nQ 40.046875 0 33.546875 0 \nz\nM 17.1875 8.453125 \nL 32.46875 8.453125 \nQ 39.546875 8.453125 43.578125 9.765625 \nQ 47.609375 11.078125 50 13.484375 \nQ 53.375 16.84375 55.25 22.53125 \nQ 57.125 28.21875 57.125 36.328125 \nQ 57.125 47.5625 53.4375 53.59375 \nQ 49.75 59.625 44.484375 61.671875 \nQ 40.671875 63.140625 32.234375 63.140625 \nL 17.1875 63.140625 \nz\n\" id=\"ArialMT-68\"/>\n       <path d=\"M 40.4375 19 \nL 49.078125 17.875 \nQ 47.65625 8.9375 41.8125 3.875 \nQ 35.984375 -1.171875 27.484375 -1.171875 \nQ 16.84375 -1.171875 10.375 5.78125 \nQ 3.90625 12.75 3.90625 25.734375 \nQ 3.90625 34.125 6.6875 40.421875 \nQ 9.46875 46.734375 15.15625 49.875 \nQ 20.84375 53.03125 27.546875 53.03125 \nQ 35.984375 53.03125 41.359375 48.75 \nQ 46.734375 44.484375 48.25 36.625 \nL 39.703125 35.296875 \nQ 38.484375 40.53125 35.375 43.15625 \nQ 32.28125 45.796875 27.875 45.796875 \nQ 21.234375 45.796875 17.078125 41.03125 \nQ 12.9375 36.28125 12.9375 25.984375 \nQ 12.9375 15.53125 16.9375 10.796875 \nQ 20.953125 6.0625 27.390625 6.0625 \nQ 32.5625 6.0625 36.03125 9.234375 \nQ 39.5 12.40625 40.4375 19 \nz\n\" id=\"ArialMT-99\"/>\n       <path d=\"M 6.59375 -19.875 \nL 6.59375 51.859375 \nL 14.59375 51.859375 \nL 14.59375 45.125 \nQ 17.4375 49.078125 21 51.046875 \nQ 24.5625 53.03125 29.640625 53.03125 \nQ 36.28125 53.03125 41.359375 49.609375 \nQ 46.4375 46.1875 49.015625 39.953125 \nQ 51.609375 33.734375 51.609375 26.3125 \nQ 51.609375 18.359375 48.75 11.984375 \nQ 45.90625 5.609375 40.453125 2.21875 \nQ 35.015625 -1.171875 29 -1.171875 \nQ 24.609375 -1.171875 21.109375 0.6875 \nQ 17.625 2.546875 15.375 5.375 \nL 15.375 -19.875 \nz\nM 14.546875 25.640625 \nQ 14.546875 15.625 18.59375 10.84375 \nQ 22.65625 6.0625 28.421875 6.0625 \nQ 34.28125 6.0625 38.453125 11.015625 \nQ 42.625 15.96875 42.625 26.375 \nQ 42.625 36.28125 38.546875 41.203125 \nQ 34.46875 46.140625 28.8125 46.140625 \nQ 23.1875 46.140625 18.859375 40.890625 \nQ 14.546875 35.640625 14.546875 25.640625 \nz\n\" id=\"ArialMT-112\"/>\n       <path d=\"M 6.59375 0 \nL 6.59375 51.859375 \nL 14.5 51.859375 \nL 14.5 44.484375 \nQ 20.21875 53.03125 31 53.03125 \nQ 35.6875 53.03125 39.625 51.34375 \nQ 43.5625 49.65625 45.515625 46.921875 \nQ 47.46875 44.1875 48.25 40.4375 \nQ 48.734375 37.984375 48.734375 31.890625 \nL 48.734375 0 \nL 39.9375 0 \nL 39.9375 31.546875 \nQ 39.9375 36.921875 38.90625 39.578125 \nQ 37.890625 42.234375 35.28125 43.8125 \nQ 32.671875 45.40625 29.15625 45.40625 \nQ 23.53125 45.40625 19.453125 41.84375 \nQ 15.375 38.28125 15.375 28.328125 \nL 15.375 0 \nz\n\" id=\"ArialMT-110\"/>\n      </defs>\n      <g style=\"fill:#262626;\" transform=\"translate(34.028125 212.515657)scale(0.187 -0.187)\">\n       <use xlink:href=\"#ArialMT-68\"/>\n       <use x=\"72.216797\" xlink:href=\"#ArialMT-101\"/>\n       <use x=\"127.832031\" xlink:href=\"#ArialMT-115\"/>\n       <use x=\"177.832031\" xlink:href=\"#ArialMT-99\"/>\n       <use x=\"227.832031\" xlink:href=\"#ArialMT-114\"/>\n       <use x=\"261.132812\" xlink:href=\"#ArialMT-105\"/>\n       <use x=\"283.349609\" xlink:href=\"#ArialMT-112\"/>\n       <use x=\"338.964844\" xlink:href=\"#ArialMT-116\"/>\n       <use x=\"366.748047\" xlink:href=\"#ArialMT-105\"/>\n       <use x=\"388.964844\" xlink:href=\"#ArialMT-111\"/>\n       <use x=\"444.580078\" xlink:href=\"#ArialMT-110\"/>\n       <use x=\"500.195312\" xlink:href=\"#ArialMT-115\"/>\n      </g>\n     </g>\n    </g>\n    <g id=\"ytick_3\">\n     <g id=\"text_11\">\n      <!-- Months -->\n      <defs>\n       <path d=\"M 7.421875 0 \nL 7.421875 71.578125 \nL 21.6875 71.578125 \nL 38.625 20.90625 \nQ 40.96875 13.8125 42.046875 10.296875 \nQ 43.265625 14.203125 45.84375 21.78125 \nL 62.984375 71.578125 \nL 75.734375 71.578125 \nL 75.734375 0 \nL 66.609375 0 \nL 66.609375 59.90625 \nL 45.796875 0 \nL 37.25 0 \nL 16.546875 60.9375 \nL 16.546875 0 \nz\n\" id=\"ArialMT-77\"/>\n       <path d=\"M 6.59375 0 \nL 6.59375 71.578125 \nL 15.375 71.578125 \nL 15.375 45.90625 \nQ 21.53125 53.03125 30.90625 53.03125 \nQ 36.671875 53.03125 40.921875 50.75 \nQ 45.171875 48.484375 47 44.484375 \nQ 48.828125 40.484375 48.828125 32.859375 \nL 48.828125 0 \nL 40.046875 0 \nL 40.046875 32.859375 \nQ 40.046875 39.453125 37.1875 42.453125 \nQ 34.328125 45.453125 29.109375 45.453125 \nQ 25.203125 45.453125 21.75 43.421875 \nQ 18.3125 41.40625 16.84375 37.9375 \nQ 15.375 34.46875 15.375 28.375 \nL 15.375 0 \nz\n\" id=\"ArialMT-104\"/>\n      </defs>\n      <g style=\"fill:#262626;\" transform=\"translate(75.591797 329.001372)scale(0.187 -0.187)\">\n       <use xlink:href=\"#ArialMT-77\"/>\n       <use x=\"83.300781\" xlink:href=\"#ArialMT-111\"/>\n       <use x=\"138.916016\" xlink:href=\"#ArialMT-110\"/>\n       <use x=\"194.53125\" xlink:href=\"#ArialMT-116\"/>\n       <use x=\"222.314453\" xlink:href=\"#ArialMT-104\"/>\n       <use x=\"277.929688\" xlink:href=\"#ArialMT-115\"/>\n      </g>\n     </g>\n    </g>\n    <g id=\"ytick_4\">\n     <g id=\"text_12\">\n      <!-- Day -->\n      <defs>\n       <path d=\"M 6.203125 -19.96875 \nL 5.21875 -11.71875 \nQ 8.109375 -12.5 10.25 -12.5 \nQ 13.1875 -12.5 14.9375 -11.515625 \nQ 16.703125 -10.546875 17.828125 -8.796875 \nQ 18.65625 -7.46875 20.515625 -2.25 \nQ 20.75 -1.515625 21.296875 -0.09375 \nL 1.609375 51.859375 \nL 11.078125 51.859375 \nL 21.875 21.828125 \nQ 23.96875 16.109375 25.640625 9.8125 \nQ 27.15625 15.875 29.25 21.625 \nL 40.328125 51.859375 \nL 49.125 51.859375 \nL 29.390625 -0.875 \nQ 26.21875 -9.421875 24.46875 -12.640625 \nQ 22.125 -17 19.09375 -19.015625 \nQ 16.0625 -21.046875 11.859375 -21.046875 \nQ 9.328125 -21.046875 6.203125 -19.96875 \nz\n\" id=\"ArialMT-121\"/>\n      </defs>\n      <g style=\"fill:#262626;\" transform=\"translate(103.656406 445.487086)scale(0.187 -0.187)\">\n       <use xlink:href=\"#ArialMT-68\"/>\n       <use x=\"72.216797\" xlink:href=\"#ArialMT-97\"/>\n       <use x=\"127.832031\" xlink:href=\"#ArialMT-121\"/>\n      </g>\n     </g>\n    </g>\n    <g id=\"ytick_5\">\n     <g id=\"text_13\">\n      <!-- ZipCode -->\n      <defs>\n       <path d=\"M 2 0 \nL 2 8.796875 \nL 38.671875 54.640625 \nQ 42.578125 59.515625 46.09375 63.140625 \nL 6.15625 63.140625 \nL 6.15625 71.578125 \nL 57.421875 71.578125 \nL 57.421875 63.140625 \nL 17.234375 13.484375 \nL 12.890625 8.453125 \nL 58.59375 8.453125 \nL 58.59375 0 \nz\n\" id=\"ArialMT-90\"/>\n       <path d=\"M 40.234375 0 \nL 40.234375 6.546875 \nQ 35.296875 -1.171875 25.734375 -1.171875 \nQ 19.53125 -1.171875 14.328125 2.25 \nQ 9.125 5.671875 6.265625 11.796875 \nQ 3.421875 17.921875 3.421875 25.875 \nQ 3.421875 33.640625 6 39.96875 \nQ 8.59375 46.296875 13.765625 49.65625 \nQ 18.953125 53.03125 25.34375 53.03125 \nQ 30.03125 53.03125 33.6875 51.046875 \nQ 37.359375 49.078125 39.65625 45.90625 \nL 39.65625 71.578125 \nL 48.390625 71.578125 \nL 48.390625 0 \nz\nM 12.453125 25.875 \nQ 12.453125 15.921875 16.640625 10.984375 \nQ 20.84375 6.0625 26.5625 6.0625 \nQ 32.328125 6.0625 36.34375 10.765625 \nQ 40.375 15.484375 40.375 25.140625 \nQ 40.375 35.796875 36.265625 40.765625 \nQ 32.171875 45.75 26.171875 45.75 \nQ 20.3125 45.75 16.375 40.96875 \nQ 12.453125 36.1875 12.453125 25.875 \nz\n\" id=\"ArialMT-100\"/>\n      </defs>\n      <g style=\"fill:#262626;\" transform=\"translate(66.233031 562.086753)scale(0.187 -0.187)\">\n       <use xlink:href=\"#ArialMT-90\"/>\n       <use x=\"61.083984\" xlink:href=\"#ArialMT-105\"/>\n       <use x=\"83.300781\" xlink:href=\"#ArialMT-112\"/>\n       <use x=\"138.916016\" xlink:href=\"#ArialMT-67\"/>\n       <use x=\"211.132812\" xlink:href=\"#ArialMT-111\"/>\n       <use x=\"266.748047\" xlink:href=\"#ArialMT-100\"/>\n       <use x=\"322.363281\" xlink:href=\"#ArialMT-101\"/>\n      </g>\n     </g>\n    </g>\n    <g id=\"ytick_6\">\n     <g id=\"text_14\">\n      <!-- PdDistricts -->\n      <defs>\n       <path d=\"M 7.71875 0 \nL 7.71875 71.578125 \nL 34.71875 71.578125 \nQ 41.84375 71.578125 45.609375 70.90625 \nQ 50.875 70.015625 54.4375 67.546875 \nQ 58.015625 65.09375 60.1875 60.640625 \nQ 62.359375 56.203125 62.359375 50.875 \nQ 62.359375 41.75 56.546875 35.421875 \nQ 50.734375 29.109375 35.546875 29.109375 \nL 17.1875 29.109375 \nL 17.1875 0 \nz\nM 17.1875 37.546875 \nL 35.6875 37.546875 \nQ 44.875 37.546875 48.734375 40.96875 \nQ 52.59375 44.390625 52.59375 50.59375 \nQ 52.59375 55.078125 50.3125 58.265625 \nQ 48.046875 61.46875 44.34375 62.5 \nQ 41.9375 63.140625 35.5 63.140625 \nL 17.1875 63.140625 \nz\n\" id=\"ArialMT-80\"/>\n      </defs>\n      <g style=\"fill:#262626;\" transform=\"translate(47.556406 678.458515)scale(0.187 -0.187)\">\n       <use xlink:href=\"#ArialMT-80\"/>\n       <use x=\"66.699219\" xlink:href=\"#ArialMT-100\"/>\n       <use x=\"122.314453\" xlink:href=\"#ArialMT-68\"/>\n       <use x=\"194.53125\" xlink:href=\"#ArialMT-105\"/>\n       <use x=\"216.748047\" xlink:href=\"#ArialMT-115\"/>\n       <use x=\"266.748047\" xlink:href=\"#ArialMT-116\"/>\n       <use x=\"294.53125\" xlink:href=\"#ArialMT-114\"/>\n       <use x=\"327.832031\" xlink:href=\"#ArialMT-105\"/>\n       <use x=\"350.048828\" xlink:href=\"#ArialMT-99\"/>\n       <use x=\"400.048828\" xlink:href=\"#ArialMT-116\"/>\n       <use x=\"427.832031\" xlink:href=\"#ArialMT-115\"/>\n      </g>\n     </g>\n    </g>\n    <g id=\"ytick_7\">\n     <g id=\"text_15\">\n      <!-- TimeOfDay -->\n      <defs>\n       <path d=\"M 25.921875 0 \nL 25.921875 63.140625 \nL 2.34375 63.140625 \nL 2.34375 71.578125 \nL 59.078125 71.578125 \nL 59.078125 63.140625 \nL 35.40625 63.140625 \nL 35.40625 0 \nz\n\" id=\"ArialMT-84\"/>\n       <path d=\"M 6.59375 0 \nL 6.59375 51.859375 \nL 14.453125 51.859375 \nL 14.453125 44.578125 \nQ 16.890625 48.390625 20.9375 50.703125 \nQ 25 53.03125 30.171875 53.03125 \nQ 35.9375 53.03125 39.625 50.640625 \nQ 43.3125 48.25 44.828125 43.953125 \nQ 50.984375 53.03125 60.84375 53.03125 \nQ 68.5625 53.03125 72.703125 48.75 \nQ 76.859375 44.484375 76.859375 35.59375 \nL 76.859375 0 \nL 68.109375 0 \nL 68.109375 32.671875 \nQ 68.109375 37.9375 67.25 40.25 \nQ 66.40625 42.578125 64.15625 43.984375 \nQ 61.921875 45.40625 58.890625 45.40625 \nQ 53.421875 45.40625 49.796875 41.765625 \nQ 46.1875 38.140625 46.1875 30.125 \nL 46.1875 0 \nL 37.40625 0 \nL 37.40625 33.6875 \nQ 37.40625 39.546875 35.25 42.46875 \nQ 33.109375 45.40625 28.21875 45.40625 \nQ 24.515625 45.40625 21.359375 43.453125 \nQ 18.21875 41.5 16.796875 37.734375 \nQ 15.375 33.984375 15.375 26.90625 \nL 15.375 0 \nz\n\" id=\"ArialMT-109\"/>\n       <path d=\"M 4.828125 34.859375 \nQ 4.828125 52.6875 14.390625 62.765625 \nQ 23.96875 72.859375 39.109375 72.859375 \nQ 49.03125 72.859375 56.984375 68.109375 \nQ 64.9375 63.375 69.109375 54.90625 \nQ 73.296875 46.4375 73.296875 35.6875 \nQ 73.296875 24.8125 68.890625 16.21875 \nQ 64.5 7.625 56.4375 3.203125 \nQ 48.390625 -1.21875 39.0625 -1.21875 \nQ 28.953125 -1.21875 20.984375 3.65625 \nQ 13.03125 8.546875 8.921875 16.984375 \nQ 4.828125 25.4375 4.828125 34.859375 \nz\nM 14.59375 34.71875 \nQ 14.59375 21.78125 21.546875 14.328125 \nQ 28.515625 6.890625 39.015625 6.890625 \nQ 49.703125 6.890625 56.609375 14.40625 \nQ 63.53125 21.921875 63.53125 35.75 \nQ 63.53125 44.484375 60.578125 51 \nQ 57.625 57.515625 51.921875 61.109375 \nQ 46.234375 64.703125 39.15625 64.703125 \nQ 29.109375 64.703125 21.84375 57.78125 \nQ 14.59375 50.875 14.59375 34.71875 \nz\n\" id=\"ArialMT-79\"/>\n       <path d=\"M 8.6875 0 \nL 8.6875 45.015625 \nL 0.921875 45.015625 \nL 0.921875 51.859375 \nL 8.6875 51.859375 \nL 8.6875 57.375 \nQ 8.6875 62.59375 9.625 65.140625 \nQ 10.890625 68.5625 14.078125 70.671875 \nQ 17.28125 72.796875 23.046875 72.796875 \nQ 26.765625 72.796875 31.25 71.921875 \nL 29.9375 64.265625 \nQ 27.203125 64.75 24.75 64.75 \nQ 20.75 64.75 19.09375 63.03125 \nQ 17.4375 61.328125 17.4375 56.640625 \nL 17.4375 51.859375 \nL 27.546875 51.859375 \nL 27.546875 45.015625 \nL 17.4375 45.015625 \nL 17.4375 0 \nz\n\" id=\"ArialMT-102\"/>\n      </defs>\n      <g style=\"fill:#262626;\" transform=\"translate(43.065484 795.064026)scale(0.187 -0.187)\">\n       <use xlink:href=\"#ArialMT-84\"/>\n       <use x=\"57.333984\" xlink:href=\"#ArialMT-105\"/>\n       <use x=\"79.550781\" xlink:href=\"#ArialMT-109\"/>\n       <use x=\"162.851562\" xlink:href=\"#ArialMT-101\"/>\n       <use x=\"218.466797\" xlink:href=\"#ArialMT-79\"/>\n       <use x=\"296.25\" xlink:href=\"#ArialMT-102\"/>\n       <use x=\"324.033203\" xlink:href=\"#ArialMT-68\"/>\n       <use x=\"396.25\" xlink:href=\"#ArialMT-97\"/>\n       <use x=\"451.865234\" xlink:href=\"#ArialMT-121\"/>\n      </g>\n     </g>\n    </g>\n    <g id=\"text_16\">\n     <!-- Features -->\n     <defs>\n      <path d=\"M 7.375 0 \nL 7.375 71.578125 \nL 56.453125 71.578125 \nL 56.453125 59.46875 \nL 21.828125 59.46875 \nL 21.828125 42.53125 \nL 51.703125 42.53125 \nL 51.703125 30.421875 \nL 21.828125 30.421875 \nL 21.828125 0 \nz\n\" id=\"Arial-BoldMT-70\"/>\n      <path d=\"M 41.3125 0 \nL 41.3125 7.765625 \nQ 38.484375 3.609375 33.859375 1.21875 \nQ 29.25 -1.171875 24.125 -1.171875 \nQ 18.890625 -1.171875 14.734375 1.125 \nQ 10.59375 3.421875 8.734375 7.5625 \nQ 6.890625 11.71875 6.890625 19.046875 \nL 6.890625 51.859375 \nL 20.609375 51.859375 \nL 20.609375 28.03125 \nQ 20.609375 17.09375 21.359375 14.625 \nQ 22.125 12.15625 24.125 10.71875 \nQ 26.125 9.28125 29.203125 9.28125 \nQ 32.71875 9.28125 35.5 11.203125 \nQ 38.28125 13.140625 39.296875 15.984375 \nQ 40.328125 18.84375 40.328125 29.984375 \nL 40.328125 51.859375 \nL 54.046875 51.859375 \nL 54.046875 0 \nz\n\" id=\"Arial-BoldMT-117\"/>\n      <path d=\"M 2.34375 14.796875 \nL 16.109375 16.890625 \nQ 17 12.890625 19.671875 10.8125 \nQ 22.359375 8.734375 27.203125 8.734375 \nQ 32.515625 8.734375 35.203125 10.6875 \nQ 37.015625 12.0625 37.015625 14.359375 \nQ 37.015625 15.921875 36.03125 16.9375 \nQ 35.015625 17.921875 31.453125 18.75 \nQ 14.84375 22.40625 10.40625 25.4375 \nQ 4.25 29.640625 4.25 37.109375 \nQ 4.25 43.84375 9.5625 48.4375 \nQ 14.890625 53.03125 26.078125 53.03125 \nQ 36.71875 53.03125 41.890625 49.5625 \nQ 47.078125 46.09375 49.03125 39.3125 \nL 36.078125 36.921875 \nQ 35.25 39.9375 32.921875 41.546875 \nQ 30.609375 43.171875 26.3125 43.171875 \nQ 20.90625 43.171875 18.5625 41.65625 \nQ 17 40.578125 17 38.875 \nQ 17 37.40625 18.359375 36.375 \nQ 20.21875 35.015625 31.171875 32.515625 \nQ 42.140625 30.03125 46.484375 26.421875 \nQ 50.78125 22.75 50.78125 16.21875 \nQ 50.78125 9.078125 44.828125 3.953125 \nQ 38.875 -1.171875 27.203125 -1.171875 \nQ 16.609375 -1.171875 10.421875 3.125 \nQ 4.25 7.421875 2.34375 14.796875 \nz\n\" id=\"Arial-BoldMT-115\"/>\n     </defs>\n     <g style=\"fill:#262626;\" transform=\"translate(25.094531 490.896094)rotate(-90)scale(0.25 -0.25)\">\n      <use xlink:href=\"#Arial-BoldMT-70\"/>\n      <use x=\"61.083984\" xlink:href=\"#Arial-BoldMT-101\"/>\n      <use x=\"116.699219\" xlink:href=\"#Arial-BoldMT-97\"/>\n      <use x=\"172.314453\" xlink:href=\"#Arial-BoldMT-116\"/>\n      <use x=\"205.615234\" xlink:href=\"#Arial-BoldMT-117\"/>\n      <use x=\"266.699219\" xlink:href=\"#Arial-BoldMT-114\"/>\n      <use x=\"305.615234\" xlink:href=\"#Arial-BoldMT-101\"/>\n      <use x=\"361.230469\" xlink:href=\"#Arial-BoldMT-115\"/>\n     </g>\n    </g>\n   </g>\n   <g id=\"patch_3\">\n    <path clip-path=\"url(#p7131efb0e7)\" d=\"M 146.410266 42.743103 \nL 1740.69598 42.743103 \nL 1740.69598 135.931674 \nL 146.410266 135.931674 \nz\n\" style=\"fill:#94c9de;stroke:#ffffff;stroke-linejoin:miter;\"/>\n   </g>\n   <g id=\"patch_4\">\n    <path clip-path=\"url(#p7131efb0e7)\" d=\"M 146.410266 159.228817 \nL 1459.933378 159.228817 \nL 1459.933378 252.417388 \nL 146.410266 252.417388 \nz\n\" style=\"fill:#94c9de;stroke:#ffffff;stroke-linejoin:miter;\"/>\n   </g>\n   <g id=\"patch_5\">\n    <path clip-path=\"url(#p7131efb0e7)\" d=\"M 146.410266 275.714531 \nL 810.465632 275.714531 \nL 810.465632 368.903103 \nL 146.410266 368.903103 \nz\n\" style=\"fill:#94c9de;stroke:#ffffff;stroke-linejoin:miter;\"/>\n   </g>\n   <g id=\"patch_6\">\n    <path clip-path=\"url(#p7131efb0e7)\" d=\"M 146.410266 392.200246 \nL 619.145487 392.200246 \nL 619.145487 485.388817 \nL 146.410266 485.388817 \nz\n\" style=\"fill:#94c9de;stroke:#ffffff;stroke-linejoin:miter;\"/>\n   </g>\n   <g id=\"patch_7\">\n    <path clip-path=\"url(#p7131efb0e7)\" d=\"M 146.410266 508.68596 \nL 558.239055 508.68596 \nL 558.239055 601.874531 \nL 146.410266 601.874531 \nz\n\" style=\"fill:#94c9de;stroke:#ffffff;stroke-linejoin:miter;\"/>\n   </g>\n   <g id=\"patch_8\">\n    <path clip-path=\"url(#p7131efb0e7)\" d=\"M 146.410266 625.171674 \nL 431.247958 625.171674 \nL 431.247958 718.360246 \nL 146.410266 718.360246 \nz\n\" style=\"fill:#94c9de;stroke:#ffffff;stroke-linejoin:miter;\"/>\n   </g>\n   <g id=\"patch_9\">\n    <path clip-path=\"url(#p7131efb0e7)\" d=\"M 146.410266 741.657388 \nL 390.945948 741.657388 \nL 390.945948 834.84596 \nL 146.410266 834.84596 \nz\n\" style=\"fill:#94c9de;stroke:#ffffff;stroke-linejoin:miter;\"/>\n   </g>\n   <g id=\"line2d_8\">\n    <path clip-path=\"url(#p7131efb0e7)\" d=\"M 0 0 \n\" style=\"fill:none;stroke:#424242;stroke-linecap:round;stroke-width:2.7;\"/>\n   </g>\n   <g id=\"line2d_9\">\n    <path clip-path=\"url(#p7131efb0e7)\" d=\"M 0 0 \n\" style=\"fill:none;stroke:#424242;stroke-linecap:round;stroke-width:2.7;\"/>\n   </g>\n   <g id=\"line2d_10\">\n    <path clip-path=\"url(#p7131efb0e7)\" d=\"M 0 0 \n\" style=\"fill:none;stroke:#424242;stroke-linecap:round;stroke-width:2.7;\"/>\n   </g>\n   <g id=\"line2d_11\">\n    <path clip-path=\"url(#p7131efb0e7)\" d=\"M 0 0 \n\" style=\"fill:none;stroke:#424242;stroke-linecap:round;stroke-width:2.7;\"/>\n   </g>\n   <g id=\"line2d_12\">\n    <path clip-path=\"url(#p7131efb0e7)\" d=\"M 0 0 \n\" style=\"fill:none;stroke:#424242;stroke-linecap:round;stroke-width:2.7;\"/>\n   </g>\n   <g id=\"line2d_13\">\n    <path clip-path=\"url(#p7131efb0e7)\" d=\"M 0 0 \n\" style=\"fill:none;stroke:#424242;stroke-linecap:round;stroke-width:2.7;\"/>\n   </g>\n   <g id=\"line2d_14\">\n    <path clip-path=\"url(#p7131efb0e7)\" d=\"M 0 0 \n\" style=\"fill:none;stroke:#424242;stroke-linecap:round;stroke-width:2.7;\"/>\n   </g>\n   <g id=\"patch_10\">\n    <path d=\"M 146.410266 846.494531 \nL 146.410266 31.094531 \n\" style=\"fill:none;stroke:#cccccc;stroke-linecap:square;stroke-linejoin:miter;stroke-width:1.25;\"/>\n   </g>\n   <g id=\"patch_11\">\n    <path d=\"M 1820.410266 846.494531 \nL 1820.410266 31.094531 \n\" style=\"fill:none;stroke:#cccccc;stroke-linecap:square;stroke-linejoin:miter;stroke-width:1.25;\"/>\n   </g>\n   <g id=\"patch_12\">\n    <path d=\"M 146.410266 846.494531 \nL 1820.410266 846.494531 \n\" style=\"fill:none;stroke:#cccccc;stroke-linecap:square;stroke-linejoin:miter;stroke-width:1.25;\"/>\n   </g>\n   <g id=\"patch_13\">\n    <path d=\"M 146.410266 31.094531 \nL 1820.410266 31.094531 \n\" style=\"fill:none;stroke:#cccccc;stroke-linecap:square;stroke-linejoin:miter;stroke-width:1.25;\"/>\n   </g>\n   <g id=\"text_17\">\n    <!-- Feature Importance -->\n    <defs>\n     <path id=\"Arial-BoldMT-32\"/>\n    </defs>\n    <g style=\"fill:#262626;\" transform=\"translate(867.414172 25.094531)scale(0.25 -0.25)\">\n     <use xlink:href=\"#Arial-BoldMT-70\"/>\n     <use x=\"61.083984\" xlink:href=\"#Arial-BoldMT-101\"/>\n     <use x=\"116.699219\" xlink:href=\"#Arial-BoldMT-97\"/>\n     <use x=\"172.314453\" xlink:href=\"#Arial-BoldMT-116\"/>\n     <use x=\"205.615234\" xlink:href=\"#Arial-BoldMT-117\"/>\n     <use x=\"266.699219\" xlink:href=\"#Arial-BoldMT-114\"/>\n     <use x=\"305.615234\" xlink:href=\"#Arial-BoldMT-101\"/>\n     <use x=\"361.230469\" xlink:href=\"#Arial-BoldMT-32\"/>\n     <use x=\"389.013672\" xlink:href=\"#Arial-BoldMT-73\"/>\n     <use x=\"416.796875\" xlink:href=\"#Arial-BoldMT-109\"/>\n     <use x=\"505.712891\" xlink:href=\"#Arial-BoldMT-112\"/>\n     <use x=\"566.796875\" xlink:href=\"#Arial-BoldMT-111\"/>\n     <use x=\"627.880859\" xlink:href=\"#Arial-BoldMT-114\"/>\n     <use x=\"666.796875\" xlink:href=\"#Arial-BoldMT-116\"/>\n     <use x=\"700.097656\" xlink:href=\"#Arial-BoldMT-97\"/>\n     <use x=\"755.712891\" xlink:href=\"#Arial-BoldMT-110\"/>\n     <use x=\"816.796875\" xlink:href=\"#Arial-BoldMT-99\"/>\n     <use x=\"872.412109\" xlink:href=\"#Arial-BoldMT-101\"/>\n    </g>\n   </g>\n  </g>\n </g>\n <defs>\n  <clipPath id=\"p7131efb0e7\">\n   <rect height=\"815.4\" width=\"1674\" x=\"146.410266\" y=\"31.094531\"/>\n  </clipPath>\n </defs>\n</svg>\n",
      "image/png": "[encoded data removed]"
     },
     "metadata": {}
    },
    {
     "output_type": "display_data",
     "data": {
      "text/plain": "None"
     },
     "metadata": {}
    },
    {
     "output_type": "display_data",
     "data": {
      "text/plain": "       Features  Gini-Importance\n0    Categories         0.319765\n1  Descriptions         0.263453\n2        Months         0.133189\n3           Day         0.094816\n4       ZipCode         0.082600\n5   PdDistricts         0.057130\n6     TimeOfDay         0.049046",
      "text/html": "<div>\n<style scoped>\n    .dataframe tbody tr th:only-of-type {\n        vertical-align: middle;\n    }\n\n    .dataframe tbody tr th {\n        vertical-align: top;\n    }\n\n    .dataframe thead th {\n        text-align: right;\n    }\n</style>\n<table border=\"1\" class=\"dataframe\">\n  <thead>\n    <tr style=\"text-align: right;\">\n      <th></th>\n      <th>Features</th>\n      <th>Gini-Importance</th>\n    </tr>\n  </thead>\n  <tbody>\n    <tr>\n      <th>0</th>\n      <td>Categories</td>\n      <td>0.319765</td>\n    </tr>\n    <tr>\n      <th>1</th>\n      <td>Descriptions</td>\n      <td>0.263453</td>\n    </tr>\n    <tr>\n      <th>2</th>\n      <td>Months</td>\n      <td>0.133189</td>\n    </tr>\n    <tr>\n      <th>3</th>\n      <td>Day</td>\n      <td>0.094816</td>\n    </tr>\n    <tr>\n      <th>4</th>\n      <td>ZipCode</td>\n      <td>0.082600</td>\n    </tr>\n    <tr>\n      <th>5</th>\n      <td>PdDistricts</td>\n      <td>0.057130</td>\n    </tr>\n    <tr>\n      <th>6</th>\n      <td>TimeOfDay</td>\n      <td>0.049046</td>\n    </tr>\n  </tbody>\n</table>\n</div>"
     },
     "metadata": {}
    }
   ],
   "source": [
    "#https://towardsdatascience.com/machine-learning-step-by-step-6fbde95c455a\n",
    "feats = {}\n",
    "for feature, importance in zip(X.columns, brf.feature_importances_):\n",
    "    feats[feature] = importance\n",
    "importances = pd.DataFrame.from_dict(feats, orient='index').rename(columns={0: 'Gini-Importance'})\n",
    "importances = importances.sort_values(by='Gini-Importance', ascending=False)\n",
    "importances = importances.reset_index()\n",
    "importances = importances.rename(columns={'index': 'Features'})\n",
    "sns.set(font_scale = 5)\n",
    "sns.set(style=\"whitegrid\", color_codes=True, font_scale = 1.7)\n",
    "fig, ax = plt.subplots()\n",
    "fig.set_size_inches(30,15)\n",
    "sns.barplot(x=importances['Gini-Importance'], y=importances['Features'], data=importances, color='skyblue')\n",
    "plt.xlabel('Importance', fontsize=25, weight = 'bold')\n",
    "plt.ylabel('Features', fontsize=25, weight = 'bold')\n",
    "plt.title('Feature Importance', fontsize=25, weight = 'bold')\n",
    "plt.savefig(\"/Users/bkirton/Desktop/sanFranCrimePredictor/images/GINI_graph.png\")\n",
    "display(plt.show())\n",
    "display(importances)"
   ]
  },
  {
   "cell_type": "code",
   "execution_count": 31,
   "metadata": {},
   "outputs": [
    {
     "output_type": "execute_result",
     "data": {
      "text/plain": [
       "        Categories  Descriptions  PdDistricts  Months  Day  TimeOfDay  ZipCode\n",
       "0               16            25            7       4    0          2    94103\n",
       "1               16            25            7       4    0          2    94103\n",
       "2               15            39            0       0    1          0    94124\n",
       "3                6            19            9       4    5          1    94108\n",
       "4                6            19            3       4    0          3    94102\n",
       "...            ...           ...          ...     ...  ...        ...      ...\n",
       "147190           0             3            5       2    0          1    94118\n",
       "147191           6            19            1       2    0          2    94104\n",
       "147192           4            28            1       2    4          1    94108\n",
       "147193           4            16            1       2    0          2    94108\n",
       "147194           8            25            7       2    0          0    94103\n",
       "\n",
       "[147195 rows x 7 columns]"
      ],
      "text/html": "<div>\n<style scoped>\n    .dataframe tbody tr th:only-of-type {\n        vertical-align: middle;\n    }\n\n    .dataframe tbody tr th {\n        vertical-align: top;\n    }\n\n    .dataframe thead th {\n        text-align: right;\n    }\n</style>\n<table border=\"1\" class=\"dataframe\">\n  <thead>\n    <tr style=\"text-align: right;\">\n      <th></th>\n      <th>Categories</th>\n      <th>Descriptions</th>\n      <th>PdDistricts</th>\n      <th>Months</th>\n      <th>Day</th>\n      <th>TimeOfDay</th>\n      <th>ZipCode</th>\n    </tr>\n  </thead>\n  <tbody>\n    <tr>\n      <th>0</th>\n      <td>16</td>\n      <td>25</td>\n      <td>7</td>\n      <td>4</td>\n      <td>0</td>\n      <td>2</td>\n      <td>94103</td>\n    </tr>\n    <tr>\n      <th>1</th>\n      <td>16</td>\n      <td>25</td>\n      <td>7</td>\n      <td>4</td>\n      <td>0</td>\n      <td>2</td>\n      <td>94103</td>\n    </tr>\n    <tr>\n      <th>2</th>\n      <td>15</td>\n      <td>39</td>\n      <td>0</td>\n      <td>0</td>\n      <td>1</td>\n      <td>0</td>\n      <td>94124</td>\n    </tr>\n    <tr>\n      <th>3</th>\n      <td>6</td>\n      <td>19</td>\n      <td>9</td>\n      <td>4</td>\n      <td>5</td>\n      <td>1</td>\n      <td>94108</td>\n    </tr>\n    <tr>\n      <th>4</th>\n      <td>6</td>\n      <td>19</td>\n      <td>3</td>\n      <td>4</td>\n      <td>0</td>\n      <td>3</td>\n      <td>94102</td>\n    </tr>\n    <tr>\n      <th>...</th>\n      <td>...</td>\n      <td>...</td>\n      <td>...</td>\n      <td>...</td>\n      <td>...</td>\n      <td>...</td>\n      <td>...</td>\n    </tr>\n    <tr>\n      <th>147190</th>\n      <td>0</td>\n      <td>3</td>\n      <td>5</td>\n      <td>2</td>\n      <td>0</td>\n      <td>1</td>\n      <td>94118</td>\n    </tr>\n    <tr>\n      <th>147191</th>\n      <td>6</td>\n      <td>19</td>\n      <td>1</td>\n      <td>2</td>\n      <td>0</td>\n      <td>2</td>\n      <td>94104</td>\n    </tr>\n    <tr>\n      <th>147192</th>\n      <td>4</td>\n      <td>28</td>\n      <td>1</td>\n      <td>2</td>\n      <td>4</td>\n      <td>1</td>\n      <td>94108</td>\n    </tr>\n    <tr>\n      <th>147193</th>\n      <td>4</td>\n      <td>16</td>\n      <td>1</td>\n      <td>2</td>\n      <td>0</td>\n      <td>2</td>\n      <td>94108</td>\n    </tr>\n    <tr>\n      <th>147194</th>\n      <td>8</td>\n      <td>25</td>\n      <td>7</td>\n      <td>2</td>\n      <td>0</td>\n      <td>0</td>\n      <td>94103</td>\n    </tr>\n  </tbody>\n</table>\n<p>147195 rows × 7 columns</p>\n</div>"
     },
     "metadata": {},
     "execution_count": 31
    }
   ],
   "source": [
    "X"
   ]
  },
  {
   "cell_type": "code",
   "execution_count": 32,
   "metadata": {},
   "outputs": [
    {
     "output_type": "execute_result",
     "data": {
      "text/plain": [
       "           0          1         2         3         4         5  Resolutions\n",
       "0 -10.098873  -6.210892  8.733527  1.560872  2.287874 -3.043409            0\n",
       "1 -10.098873  -6.210892  8.733527  1.560872  2.287874 -3.043409            0\n",
       "2  11.648293 -19.200963  5.440940  5.560765 -3.552877 -1.931573            0\n",
       "3  -5.532132   1.502613 -0.221867  1.538404  4.337450  1.997705            1\n",
       "4 -11.165112   1.332624  0.035837  1.517369 -2.099620 -2.902135            1"
      ],
      "text/html": "<div>\n<style scoped>\n    .dataframe tbody tr th:only-of-type {\n        vertical-align: middle;\n    }\n\n    .dataframe tbody tr th {\n        vertical-align: top;\n    }\n\n    .dataframe thead th {\n        text-align: right;\n    }\n</style>\n<table border=\"1\" class=\"dataframe\">\n  <thead>\n    <tr style=\"text-align: right;\">\n      <th></th>\n      <th>0</th>\n      <th>1</th>\n      <th>2</th>\n      <th>3</th>\n      <th>4</th>\n      <th>5</th>\n      <th>Resolutions</th>\n    </tr>\n  </thead>\n  <tbody>\n    <tr>\n      <th>0</th>\n      <td>-10.098873</td>\n      <td>-6.210892</td>\n      <td>8.733527</td>\n      <td>1.560872</td>\n      <td>2.287874</td>\n      <td>-3.043409</td>\n      <td>0</td>\n    </tr>\n    <tr>\n      <th>1</th>\n      <td>-10.098873</td>\n      <td>-6.210892</td>\n      <td>8.733527</td>\n      <td>1.560872</td>\n      <td>2.287874</td>\n      <td>-3.043409</td>\n      <td>0</td>\n    </tr>\n    <tr>\n      <th>2</th>\n      <td>11.648293</td>\n      <td>-19.200963</td>\n      <td>5.440940</td>\n      <td>5.560765</td>\n      <td>-3.552877</td>\n      <td>-1.931573</td>\n      <td>0</td>\n    </tr>\n    <tr>\n      <th>3</th>\n      <td>-5.532132</td>\n      <td>1.502613</td>\n      <td>-0.221867</td>\n      <td>1.538404</td>\n      <td>4.337450</td>\n      <td>1.997705</td>\n      <td>1</td>\n    </tr>\n    <tr>\n      <th>4</th>\n      <td>-11.165112</td>\n      <td>1.332624</td>\n      <td>0.035837</td>\n      <td>1.517369</td>\n      <td>-2.099620</td>\n      <td>-2.902135</td>\n      <td>1</td>\n    </tr>\n  </tbody>\n</table>\n</div>"
     },
     "metadata": {},
     "execution_count": 32
    }
   ],
   "source": [
    "df = pd.DataFrame(data = crime_pca)\n",
    "df['Resolutions'] = encoded_df['Resolutions']\n",
    "df.head()"
   ]
  },
  {
   "cell_type": "code",
   "execution_count": 33,
   "metadata": {},
   "outputs": [],
   "source": [
    "#create features\n",
    "X = df.drop(\"Resolutions\", axis=1)\n",
    "\n",
    "#create target\n",
    "y = df[\"Resolutions\"]"
   ]
  },
  {
   "cell_type": "code",
   "execution_count": 34,
   "metadata": {},
   "outputs": [],
   "source": [
    "#train test split\n",
    "X_train, X_test, y_train, y_test = train_test_split(X, y, random_state=1, test_size=0.5)"
   ]
  },
  {
   "cell_type": "code",
   "execution_count": 35,
   "metadata": {},
   "outputs": [],
   "source": [
    "# train the classifier\n",
    "brf = BalancedRandomForestClassifier()\n",
    "brf.fit(X_train, y_train)\n",
    "y_pred = brf.predict(X_test)"
   ]
  },
  {
   "cell_type": "code",
   "execution_count": 36,
   "metadata": {},
   "outputs": [
    {
     "output_type": "stream",
     "name": "stdout",
     "text": [
      "balanced accuracy score = 83.04%\n"
     ]
    }
   ],
   "source": [
    "# Calculated the balanced accuracy score\n",
    "balanced_acc_score = balanced_accuracy_score(y_test,y_pred)\n",
    "print(f\"balanced accuracy score = {balanced_acc_score*100:.2f}%\")"
   ]
  },
  {
   "cell_type": "code",
   "execution_count": 37,
   "metadata": {},
   "outputs": [
    {
     "output_type": "display_data",
     "data": {
      "text/plain": "          Predicted 0  Predicted 1\nAcutal 0        16548         3148\nActual 1         9672        44230",
      "text/html": "<div>\n<style scoped>\n    .dataframe tbody tr th:only-of-type {\n        vertical-align: middle;\n    }\n\n    .dataframe tbody tr th {\n        vertical-align: top;\n    }\n\n    .dataframe thead th {\n        text-align: right;\n    }\n</style>\n<table border=\"1\" class=\"dataframe\">\n  <thead>\n    <tr style=\"text-align: right;\">\n      <th></th>\n      <th>Predicted 0</th>\n      <th>Predicted 1</th>\n    </tr>\n  </thead>\n  <tbody>\n    <tr>\n      <th>Acutal 0</th>\n      <td>16548</td>\n      <td>3148</td>\n    </tr>\n    <tr>\n      <th>Actual 1</th>\n      <td>9672</td>\n      <td>44230</td>\n    </tr>\n  </tbody>\n</table>\n</div>"
     },
     "metadata": {}
    }
   ],
   "source": [
    "# Display the confusion matrix\n",
    "cm = confusion_matrix(y_test, y_pred)\n",
    "cm_df = pd.DataFrame(cm, index=[\"Acutal 0\", \"Actual 1\"], columns=[\"Predicted 0\", \"Predicted 1\"])\n",
    "display(cm_df)"
   ]
  },
  {
   "cell_type": "code",
   "execution_count": 38,
   "metadata": {},
   "outputs": [
    {
     "output_type": "stream",
     "name": "stdout",
     "text": [
      "imbalanced classification report\n                   pre       rec       spe        f1       geo       iba       sup\n\n          0       0.63      0.84      0.82      0.72      0.83      0.69     19696\n          1       0.93      0.82      0.84      0.87      0.83      0.69     53902\n\navg / total       0.85      0.83      0.83      0.83      0.83      0.69     73598\n\n"
     ]
    }
   ],
   "source": [
    "# Print the imbalanced classification report\n",
    "print(\"imbalanced classification report\")\n",
    "print(classification_report_imbalanced(y_test,y_pred))"
   ]
  },
  {
   "cell_type": "code",
   "execution_count": 39,
   "metadata": {},
   "outputs": [],
   "source": [
    "from pprint import pprint"
   ]
  },
  {
   "cell_type": "code",
   "execution_count": 41,
   "metadata": {},
   "outputs": [
    {
     "output_type": "stream",
     "name": "stdout",
     "text": [
      "Parameters currently in use:\n\n{'bootstrap': True,\n 'ccp_alpha': 0.0,\n 'class_weight': None,\n 'criterion': 'gini',\n 'max_depth': None,\n 'max_features': 'auto',\n 'max_leaf_nodes': None,\n 'max_samples': None,\n 'min_impurity_decrease': 0.0,\n 'min_samples_leaf': 1,\n 'min_samples_split': 2,\n 'min_weight_fraction_leaf': 0.0,\n 'n_estimators': 100,\n 'n_jobs': None,\n 'oob_score': False,\n 'random_state': None,\n 'replacement': False,\n 'sampling_strategy': 'auto',\n 'verbose': 0,\n 'warm_start': False}\n"
     ]
    }
   ],
   "source": [
    "# Look at parameters used by our current forest\n",
    "print('Parameters currently in use:\\n')\n",
    "pprint(brf.get_params())"
   ]
  },
  {
   "cell_type": "code",
   "execution_count": 42,
   "metadata": {},
   "outputs": [
    {
     "output_type": "stream",
     "name": "stdout",
     "text": [
      "{'bootstrap': [True, False],\n 'max_depth': [10, 20, 30, 40, 50, 60, 70, 80, 90, 100, 110, None],\n 'max_features': ['auto', 'sqrt'],\n 'min_samples_leaf': [1, 2, 4],\n 'min_samples_split': [2, 5, 10],\n 'n_estimators': [200, 400, 600, 800, 1000, 1200, 1400, 1600, 1800, 2000]}\n"
     ]
    }
   ],
   "source": [
    "from sklearn.model_selection import RandomizedSearchCV\n",
    "# Number of trees in random forest\n",
    "n_estimators = [int(x) for x in np.linspace(start = 200, stop = 2000, num = 10)]\n",
    "# Number of features to consider at every split\n",
    "max_features = ['auto', 'sqrt']\n",
    "# Maximum number of levels in tree\n",
    "max_depth = [int(x) for x in np.linspace(10, 110, num = 11)]\n",
    "max_depth.append(None)\n",
    "# Minimum number of samples required to split a node\n",
    "min_samples_split = [2, 5, 10]\n",
    "# Minimum number of samples required at each leaf node\n",
    "min_samples_leaf = [1, 2, 4]\n",
    "# Method of selecting samples for training each tree\n",
    "bootstrap = [True, False]\n",
    "# Create the random grid\n",
    "random_grid = {'n_estimators': n_estimators,\n",
    "               'max_features': max_features,\n",
    "               'max_depth': max_depth,\n",
    "               'min_samples_split': min_samples_split,\n",
    "               'min_samples_leaf': min_samples_leaf,\n",
    "               'bootstrap': bootstrap}\n",
    "pprint(random_grid)"
   ]
  },
  {
   "cell_type": "code",
   "execution_count": 45,
   "metadata": {},
   "outputs": [
    {
     "output_type": "stream",
     "name": "stdout",
     "text": [
      "Fitting 3 folds for each of 10 candidates, totalling 30 fits\n",
      "[Parallel(n_jobs=-1)]: Using backend LokyBackend with 4 concurrent workers.\n",
      "[Parallel(n_jobs=-1)]: Done  30 out of  30 | elapsed: 30.4min finished\n"
     ]
    },
    {
     "output_type": "execute_result",
     "data": {
      "text/plain": [
       "RandomizedSearchCV(cv=3, estimator=BalancedRandomForestClassifier(), n_jobs=-1,\n",
       "                   param_distributions={'bootstrap': [True, False],\n",
       "                                        'max_depth': [10, 20, 30, 40, 50, 60,\n",
       "                                                      70, 80, 90, 100, 110,\n",
       "                                                      None],\n",
       "                                        'max_features': ['auto', 'sqrt'],\n",
       "                                        'min_samples_leaf': [1, 2, 4],\n",
       "                                        'min_samples_split': [2, 5, 10],\n",
       "                                        'n_estimators': [200, 400, 600, 800,\n",
       "                                                         1000, 1200, 1400, 1600,\n",
       "                                                         1800, 2000]},\n",
       "                   random_state=42, verbose=2)"
      ]
     },
     "metadata": {},
     "execution_count": 45
    }
   ],
   "source": [
    "# Use the random grid to search for best hyperparameters\n",
    "# First create the base model to tune\n",
    "brf = BalancedRandomForestClassifier()\n",
    "# Random search of parameters, using 3 fold cross validation, \n",
    "# search across 100 different combinations, and use all available cores\n",
    "brf_random = RandomizedSearchCV(estimator = brf, param_distributions = random_grid, n_iter = 10, cv = 3, verbose=2, random_state=42, n_jobs = -1)\n",
    "# Fit the random search model\n",
    "brf_random.fit(X_train, y_train)"
   ]
  },
  {
   "cell_type": "code",
   "execution_count": 46,
   "metadata": {},
   "outputs": [
    {
     "output_type": "execute_result",
     "data": {
      "text/plain": [
       "{'n_estimators': 200,\n",
       " 'min_samples_split': 10,\n",
       " 'min_samples_leaf': 2,\n",
       " 'max_features': 'sqrt',\n",
       " 'max_depth': 50,\n",
       " 'bootstrap': True}"
      ]
     },
     "metadata": {},
     "execution_count": 46
    }
   ],
   "source": [
    "brf_random.best_params_"
   ]
  },
  {
   "cell_type": "code",
   "execution_count": null,
   "metadata": {},
   "outputs": [],
   "source": []
  }
 ]
}