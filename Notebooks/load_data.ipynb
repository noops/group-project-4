{
 "cells": [
  {
   "cell_type": "code",
   "execution_count": 2,
   "metadata": {},
   "outputs": [],
   "source": [
    "import pandas as pd\n",
    "from sqlalchemy import create_engine\n",
    "import psycopg2\n",
    "from uszipcode import SearchEngine\n",
    "from uszipcode import Zipcode\n"
   ]
  },
  {
   "source": [
    "# Extract"
   ],
   "cell_type": "markdown",
   "metadata": {}
  },
  {
   "cell_type": "code",
   "execution_count": 3,
   "metadata": {},
   "outputs": [],
   "source": [
    "filesDir=\"../Resources/\"\n",
    "raw_data_df = pd.read_csv(f\"{filesDir}sanFranCrime.csv\", quotechar = '\"')"
   ]
  },
  {
   "cell_type": "code",
   "execution_count": 4,
   "metadata": {},
   "outputs": [
    {
     "output_type": "execute_result",
     "data": {
      "text/plain": [
       "             PdId  IncidntNum      Category  \\\n",
       "0  12005827212120   120058272   WEAPON LAWS   \n",
       "1  12005827212168   120058272   WEAPON LAWS   \n",
       "2  14105926363010   141059263      WARRANTS   \n",
       "3  16001366271000   160013662  NON-CRIMINAL   \n",
       "4  16000274071000   160002740  NON-CRIMINAL   \n",
       "\n",
       "                                         Descript      Resolution  \n",
       "0                       POSS OF PROHIBITED WEAPON  ARREST, BOOKED  \n",
       "1  FIREARM, LOADED, IN VEHICLE, POSSESSION OR USE  ARREST, BOOKED  \n",
       "2                                  WARRANT ARREST  ARREST, BOOKED  \n",
       "3                                   LOST PROPERTY            NONE  \n",
       "4                                   LOST PROPERTY            NONE  "
      ],
      "text/html": "<div>\n<style scoped>\n    .dataframe tbody tr th:only-of-type {\n        vertical-align: middle;\n    }\n\n    .dataframe tbody tr th {\n        vertical-align: top;\n    }\n\n    .dataframe thead th {\n        text-align: right;\n    }\n</style>\n<table border=\"1\" class=\"dataframe\">\n  <thead>\n    <tr style=\"text-align: right;\">\n      <th></th>\n      <th>PdId</th>\n      <th>IncidntNum</th>\n      <th>Category</th>\n      <th>Descript</th>\n      <th>Resolution</th>\n    </tr>\n  </thead>\n  <tbody>\n    <tr>\n      <th>0</th>\n      <td>12005827212120</td>\n      <td>120058272</td>\n      <td>WEAPON LAWS</td>\n      <td>POSS OF PROHIBITED WEAPON</td>\n      <td>ARREST, BOOKED</td>\n    </tr>\n    <tr>\n      <th>1</th>\n      <td>12005827212168</td>\n      <td>120058272</td>\n      <td>WEAPON LAWS</td>\n      <td>FIREARM, LOADED, IN VEHICLE, POSSESSION OR USE</td>\n      <td>ARREST, BOOKED</td>\n    </tr>\n    <tr>\n      <th>2</th>\n      <td>14105926363010</td>\n      <td>141059263</td>\n      <td>WARRANTS</td>\n      <td>WARRANT ARREST</td>\n      <td>ARREST, BOOKED</td>\n    </tr>\n    <tr>\n      <th>3</th>\n      <td>16001366271000</td>\n      <td>160013662</td>\n      <td>NON-CRIMINAL</td>\n      <td>LOST PROPERTY</td>\n      <td>NONE</td>\n    </tr>\n    <tr>\n      <th>4</th>\n      <td>16000274071000</td>\n      <td>160002740</td>\n      <td>NON-CRIMINAL</td>\n      <td>LOST PROPERTY</td>\n      <td>NONE</td>\n    </tr>\n  </tbody>\n</table>\n</div>"
     },
     "metadata": {},
     "execution_count": 4
    }
   ],
   "source": [
    "# Separate data into crime, geographic and time\n",
    "crime_df = raw_data_df[['PdId','IncidntNum', 'Category', 'Descript','Resolution']]\n",
    "crime_df.head()"
   ]
  },
  {
   "source": [
    "geographic = raw_data_df[['PdId','PdDistrict','Address', 'X', 'Y', 'Location']]\n",
    "geographic.head()"
   ],
   "cell_type": "code",
   "metadata": {},
   "execution_count": 5,
   "outputs": [
    {
     "output_type": "execute_result",
     "data": {
      "text/plain": [
       "             PdId  PdDistrict                 Address           X          Y  \\\n",
       "0  12005827212120    SOUTHERN  800 Block of BRYANT ST -122.403405  37.775421   \n",
       "1  12005827212168    SOUTHERN  800 Block of BRYANT ST -122.403405  37.775421   \n",
       "2  14105926363010     BAYVIEW   KEITH ST / SHAFTER AV -122.388856  37.729981   \n",
       "3  16001366271000  TENDERLOIN  JONES ST / OFARRELL ST -122.412971  37.785788   \n",
       "4  16000274071000     MISSION    16TH ST / MISSION ST -122.419672  37.765050   \n",
       "\n",
       "                                Location  \n",
       "0   (37.775420706711, -122.403404791479)  \n",
       "1   (37.775420706711, -122.403404791479)  \n",
       "2  (37.7299809672996, -122.388856204292)  \n",
       "3  (37.7857883766888, -122.412970537591)  \n",
       "4  (37.7650501214668, -122.419671780296)  "
      ],
      "text/html": "<div>\n<style scoped>\n    .dataframe tbody tr th:only-of-type {\n        vertical-align: middle;\n    }\n\n    .dataframe tbody tr th {\n        vertical-align: top;\n    }\n\n    .dataframe thead th {\n        text-align: right;\n    }\n</style>\n<table border=\"1\" class=\"dataframe\">\n  <thead>\n    <tr style=\"text-align: right;\">\n      <th></th>\n      <th>PdId</th>\n      <th>PdDistrict</th>\n      <th>Address</th>\n      <th>X</th>\n      <th>Y</th>\n      <th>Location</th>\n    </tr>\n  </thead>\n  <tbody>\n    <tr>\n      <th>0</th>\n      <td>12005827212120</td>\n      <td>SOUTHERN</td>\n      <td>800 Block of BRYANT ST</td>\n      <td>-122.403405</td>\n      <td>37.775421</td>\n      <td>(37.775420706711, -122.403404791479)</td>\n    </tr>\n    <tr>\n      <th>1</th>\n      <td>12005827212168</td>\n      <td>SOUTHERN</td>\n      <td>800 Block of BRYANT ST</td>\n      <td>-122.403405</td>\n      <td>37.775421</td>\n      <td>(37.775420706711, -122.403404791479)</td>\n    </tr>\n    <tr>\n      <th>2</th>\n      <td>14105926363010</td>\n      <td>BAYVIEW</td>\n      <td>KEITH ST / SHAFTER AV</td>\n      <td>-122.388856</td>\n      <td>37.729981</td>\n      <td>(37.7299809672996, -122.388856204292)</td>\n    </tr>\n    <tr>\n      <th>3</th>\n      <td>16001366271000</td>\n      <td>TENDERLOIN</td>\n      <td>JONES ST / OFARRELL ST</td>\n      <td>-122.412971</td>\n      <td>37.785788</td>\n      <td>(37.7857883766888, -122.412970537591)</td>\n    </tr>\n    <tr>\n      <th>4</th>\n      <td>16000274071000</td>\n      <td>MISSION</td>\n      <td>16TH ST / MISSION ST</td>\n      <td>-122.419672</td>\n      <td>37.765050</td>\n      <td>(37.7650501214668, -122.419671780296)</td>\n    </tr>\n  </tbody>\n</table>\n</div>"
     },
     "metadata": {},
     "execution_count": 5
    }
   ]
  },
  {
   "cell_type": "code",
   "execution_count": 6,
   "metadata": {},
   "outputs": [
    {
     "output_type": "execute_result",
     "data": {
      "text/plain": [
       "             PdId DayOfWeek                    Date   Time\n",
       "0  12005827212120    Friday  01/29/2016 12:00:00 AM  11:00\n",
       "1  12005827212168    Friday  01/29/2016 12:00:00 AM  11:00\n",
       "2  14105926363010    Monday  04/25/2016 12:00:00 AM  14:59\n",
       "3  16001366271000   Tuesday  01/05/2016 12:00:00 AM  23:50\n",
       "4  16000274071000    Friday  01/01/2016 12:00:00 AM  00:30"
      ],
      "text/html": "<div>\n<style scoped>\n    .dataframe tbody tr th:only-of-type {\n        vertical-align: middle;\n    }\n\n    .dataframe tbody tr th {\n        vertical-align: top;\n    }\n\n    .dataframe thead th {\n        text-align: right;\n    }\n</style>\n<table border=\"1\" class=\"dataframe\">\n  <thead>\n    <tr style=\"text-align: right;\">\n      <th></th>\n      <th>PdId</th>\n      <th>DayOfWeek</th>\n      <th>Date</th>\n      <th>Time</th>\n    </tr>\n  </thead>\n  <tbody>\n    <tr>\n      <th>0</th>\n      <td>12005827212120</td>\n      <td>Friday</td>\n      <td>01/29/2016 12:00:00 AM</td>\n      <td>11:00</td>\n    </tr>\n    <tr>\n      <th>1</th>\n      <td>12005827212168</td>\n      <td>Friday</td>\n      <td>01/29/2016 12:00:00 AM</td>\n      <td>11:00</td>\n    </tr>\n    <tr>\n      <th>2</th>\n      <td>14105926363010</td>\n      <td>Monday</td>\n      <td>04/25/2016 12:00:00 AM</td>\n      <td>14:59</td>\n    </tr>\n    <tr>\n      <th>3</th>\n      <td>16001366271000</td>\n      <td>Tuesday</td>\n      <td>01/05/2016 12:00:00 AM</td>\n      <td>23:50</td>\n    </tr>\n    <tr>\n      <th>4</th>\n      <td>16000274071000</td>\n      <td>Friday</td>\n      <td>01/01/2016 12:00:00 AM</td>\n      <td>00:30</td>\n    </tr>\n  </tbody>\n</table>\n</div>"
     },
     "metadata": {},
     "execution_count": 6
    }
   ],
   "source": [
    "crime_dates = raw_data_df[['PdId','DayOfWeek', 'Date', 'Time']]\n",
    "crime_dates.head()"
   ]
  },
  {
   "source": [
    "# Transform"
   ],
   "cell_type": "markdown",
   "metadata": {}
  },
  {
   "cell_type": "code",
   "execution_count": 7,
   "metadata": {},
   "outputs": [
    {
     "output_type": "execute_result",
     "data": {
      "text/plain": [
       "             PdId  PdDistrict                 Address           X          Y  \\\n",
       "0  12005827212120    SOUTHERN  800 Block of BRYANT ST -122.403405  37.775421   \n",
       "1  12005827212168    SOUTHERN  800 Block of BRYANT ST -122.403405  37.775421   \n",
       "2  14105926363010     BAYVIEW   KEITH ST / SHAFTER AV -122.388856  37.729981   \n",
       "3  16001366271000  TENDERLOIN  JONES ST / OFARRELL ST -122.412971  37.785788   \n",
       "4  16000274071000     MISSION    16TH ST / MISSION ST -122.419672  37.765050   \n",
       "\n",
       "                                Location ZipCode  \n",
       "0   (37.775420706711, -122.403404791479)   94103  \n",
       "1   (37.775420706711, -122.403404791479)   94103  \n",
       "2  (37.7299809672996, -122.388856204292)   94124  \n",
       "3  (37.7857883766888, -122.412970537591)   94108  \n",
       "4  (37.7650501214668, -122.419671780296)   94102  "
      ],
      "text/html": "<div>\n<style scoped>\n    .dataframe tbody tr th:only-of-type {\n        vertical-align: middle;\n    }\n\n    .dataframe tbody tr th {\n        vertical-align: top;\n    }\n\n    .dataframe thead th {\n        text-align: right;\n    }\n</style>\n<table border=\"1\" class=\"dataframe\">\n  <thead>\n    <tr style=\"text-align: right;\">\n      <th></th>\n      <th>PdId</th>\n      <th>PdDistrict</th>\n      <th>Address</th>\n      <th>X</th>\n      <th>Y</th>\n      <th>Location</th>\n      <th>ZipCode</th>\n    </tr>\n  </thead>\n  <tbody>\n    <tr>\n      <th>0</th>\n      <td>12005827212120</td>\n      <td>SOUTHERN</td>\n      <td>800 Block of BRYANT ST</td>\n      <td>-122.403405</td>\n      <td>37.775421</td>\n      <td>(37.775420706711, -122.403404791479)</td>\n      <td>94103</td>\n    </tr>\n    <tr>\n      <th>1</th>\n      <td>12005827212168</td>\n      <td>SOUTHERN</td>\n      <td>800 Block of BRYANT ST</td>\n      <td>-122.403405</td>\n      <td>37.775421</td>\n      <td>(37.775420706711, -122.403404791479)</td>\n      <td>94103</td>\n    </tr>\n    <tr>\n      <th>2</th>\n      <td>14105926363010</td>\n      <td>BAYVIEW</td>\n      <td>KEITH ST / SHAFTER AV</td>\n      <td>-122.388856</td>\n      <td>37.729981</td>\n      <td>(37.7299809672996, -122.388856204292)</td>\n      <td>94124</td>\n    </tr>\n    <tr>\n      <th>3</th>\n      <td>16001366271000</td>\n      <td>TENDERLOIN</td>\n      <td>JONES ST / OFARRELL ST</td>\n      <td>-122.412971</td>\n      <td>37.785788</td>\n      <td>(37.7857883766888, -122.412970537591)</td>\n      <td>94108</td>\n    </tr>\n    <tr>\n      <th>4</th>\n      <td>16000274071000</td>\n      <td>MISSION</td>\n      <td>16TH ST / MISSION ST</td>\n      <td>-122.419672</td>\n      <td>37.765050</td>\n      <td>(37.7650501214668, -122.419671780296)</td>\n      <td>94102</td>\n    </tr>\n  </tbody>\n</table>\n</div>"
     },
     "metadata": {},
     "execution_count": 7
    }
   ],
   "source": [
    "# Convert Location using X and Y coordinates to ZipCodes in order to perform analysis.\n",
    "# https://uszipcode.readthedocs.io/index.html#example-usage\n",
    "# This took about 30 min to run FYI\n",
    "\n",
    "search = SearchEngine(simple_zipcode=True)\n",
    "\n",
    "def convertToZip(df):\n",
    "    '''Creates a zipcode column from Y and X coordinates in a dataframe. uszipcode returns multiple datapoints by default so only selecting the zipcode         in the return value'''\n",
    "\n",
    "    result = search.by_coordinates(df['Y'], df['X'])\n",
    "    return result[0].zipcode\n",
    "\n",
    "geographic['ZipCode'] = geographic.apply(convertToZip, axis=1)\n",
    "geographic.head()"
   ]
  },
  {
   "source": [
    "# Generate csv files to be loaded in DB"
   ],
   "cell_type": "markdown",
   "metadata": {}
  },
  {
   "cell_type": "code",
   "execution_count": 12,
   "metadata": {},
   "outputs": [],
   "source": [
    "geographic.to_csv(\"../Resources/geographic.csv\",index=False)"
   ]
  },
  {
   "cell_type": "code",
   "execution_count": 13,
   "metadata": {},
   "outputs": [],
   "source": [
    "crime_dates.to_csv(\"../Resources/crime_dates.csv\",index=False)"
   ]
  },
  {
   "cell_type": "code",
   "execution_count": 14,
   "metadata": {},
   "outputs": [],
   "source": [
    "crime_df.to_csv(\"../Resources/crime_df.csv\",index=False)"
   ]
  }
 ],
 "metadata": {
  "kernelspec": {
   "display_name": "PythonData",
   "language": "python",
   "name": "pythondata"
  },
  "language_info": {
   "codemirror_mode": {
    "name": "ipython",
    "version": 3
   },
   "file_extension": ".py",
   "mimetype": "text/x-python",
   "name": "python",
   "nbconvert_exporter": "python",
   "pygments_lexer": "ipython3",
   "version": "3.7.6-final"
  }
 },
 "nbformat": 4,
 "nbformat_minor": 4
}