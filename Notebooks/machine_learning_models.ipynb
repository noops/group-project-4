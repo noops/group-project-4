{
 "metadata": {
  "language_info": {
   "codemirror_mode": {
    "name": "ipython",
    "version": 3
   },
   "file_extension": ".py",
   "mimetype": "text/x-python",
   "name": "python",
   "nbconvert_exporter": "python",
   "pygments_lexer": "ipython3",
   "version": "3.7.7-final"
  },
  "orig_nbformat": 2,
  "kernelspec": {
   "name": "python3",
   "display_name": "Python 3"
  }
 },
 "nbformat": 4,
 "nbformat_minor": 2,
 "cells": [
  {
   "cell_type": "code",
   "execution_count": 1,
   "metadata": {},
   "outputs": [],
   "source": [
    "#imports \n",
    "from sklearn.preprocessing import StandardScaler, OneHotEncoder\n",
    "from sklearn.model_selection import train_test_split\n",
    "from sklearn.decomposition import PCA\n",
    "from sklearn.ensemble import AdaBoostClassifier\n",
    "from sklearn.svm import SVC\n",
    "from sklearn import tree   \n",
    "from sklearn.naive_bayes import GaussianNB\n",
    "from sklearn.ensemble import GradientBoostingClassifier\n",
    "from sklearn.datasets import make_classification\n",
    "import pandas as pd \n",
    "import numpy as np\n",
    "import seaborn as sns\n",
    "import matplotlib.pyplot as plt \n",
    "from path import Path\n",
    "from sklearn.metrics import balanced_accuracy_score\n",
    "from sklearn.metrics import confusion_matrix\n",
    "from imblearn.metrics import classification_report_imbalanced\n",
    "from imblearn.ensemble import BalancedRandomForestClassifier, EasyEnsembleClassifier"
   ]
  },
  {
   "cell_type": "code",
   "execution_count": 2,
   "metadata": {},
   "outputs": [
    {
     "output_type": "execute_result",
     "data": {
      "text/plain": [
       "             PdId  IncidntNum      Category        Descript  PdDistrict Month  \\\n",
       "0  12005827212120   120058272   WEAPON LAWS           OTHER    SOUTHERN   Jan   \n",
       "1  12005827212168   120058272   WEAPON LAWS           OTHER    SOUTHERN   Jan   \n",
       "2  14105926363010   141059263      WARRANTS  WARRANT ARREST     BAYVIEW   Apr   \n",
       "3  16001366271000   160013662  NON-CRIMINAL   LOST PROPERTY  TENDERLOIN   Jan   \n",
       "4  16000274071000   160002740  NON-CRIMINAL   LOST PROPERTY     MISSION   Jan   \n",
       "\n",
       "  DayOfWeek Time_of_Day                 Address  ZipCode      Resolution  \\\n",
       "0    Friday     Morning  800 Block of BRYANT ST    94103  ARREST, BOOKED   \n",
       "1    Friday     Morning  800 Block of BRYANT ST    94103  ARREST, BOOKED   \n",
       "2    Monday   Afternoon   KEITH ST / SHAFTER AV    94124  ARREST, BOOKED   \n",
       "3   Tuesday     Evening  JONES ST / OFARRELL ST    94108            NONE   \n",
       "4    Friday       Night    16TH ST / MISSION ST    94102            NONE   \n",
       "\n",
       "   Categories  Descriptions  PdDistricts  Months  Day  TimeOfDay  Resolutions  \n",
       "0          16            25            7       4    0          2            0  \n",
       "1          16            25            7       4    0          2            0  \n",
       "2          15            39            0       0    1          0            0  \n",
       "3           6            19            9       4    5          1            1  \n",
       "4           6            19            3       4    0          3            1  "
      ],
      "text/html": "<div>\n<style scoped>\n    .dataframe tbody tr th:only-of-type {\n        vertical-align: middle;\n    }\n\n    .dataframe tbody tr th {\n        vertical-align: top;\n    }\n\n    .dataframe thead th {\n        text-align: right;\n    }\n</style>\n<table border=\"1\" class=\"dataframe\">\n  <thead>\n    <tr style=\"text-align: right;\">\n      <th></th>\n      <th>PdId</th>\n      <th>IncidntNum</th>\n      <th>Category</th>\n      <th>Descript</th>\n      <th>PdDistrict</th>\n      <th>Month</th>\n      <th>DayOfWeek</th>\n      <th>Time_of_Day</th>\n      <th>Address</th>\n      <th>ZipCode</th>\n      <th>Resolution</th>\n      <th>Categories</th>\n      <th>Descriptions</th>\n      <th>PdDistricts</th>\n      <th>Months</th>\n      <th>Day</th>\n      <th>TimeOfDay</th>\n      <th>Resolutions</th>\n    </tr>\n  </thead>\n  <tbody>\n    <tr>\n      <th>0</th>\n      <td>12005827212120</td>\n      <td>120058272</td>\n      <td>WEAPON LAWS</td>\n      <td>OTHER</td>\n      <td>SOUTHERN</td>\n      <td>Jan</td>\n      <td>Friday</td>\n      <td>Morning</td>\n      <td>800 Block of BRYANT ST</td>\n      <td>94103</td>\n      <td>ARREST, BOOKED</td>\n      <td>16</td>\n      <td>25</td>\n      <td>7</td>\n      <td>4</td>\n      <td>0</td>\n      <td>2</td>\n      <td>0</td>\n    </tr>\n    <tr>\n      <th>1</th>\n      <td>12005827212168</td>\n      <td>120058272</td>\n      <td>WEAPON LAWS</td>\n      <td>OTHER</td>\n      <td>SOUTHERN</td>\n      <td>Jan</td>\n      <td>Friday</td>\n      <td>Morning</td>\n      <td>800 Block of BRYANT ST</td>\n      <td>94103</td>\n      <td>ARREST, BOOKED</td>\n      <td>16</td>\n      <td>25</td>\n      <td>7</td>\n      <td>4</td>\n      <td>0</td>\n      <td>2</td>\n      <td>0</td>\n    </tr>\n    <tr>\n      <th>2</th>\n      <td>14105926363010</td>\n      <td>141059263</td>\n      <td>WARRANTS</td>\n      <td>WARRANT ARREST</td>\n      <td>BAYVIEW</td>\n      <td>Apr</td>\n      <td>Monday</td>\n      <td>Afternoon</td>\n      <td>KEITH ST / SHAFTER AV</td>\n      <td>94124</td>\n      <td>ARREST, BOOKED</td>\n      <td>15</td>\n      <td>39</td>\n      <td>0</td>\n      <td>0</td>\n      <td>1</td>\n      <td>0</td>\n      <td>0</td>\n    </tr>\n    <tr>\n      <th>3</th>\n      <td>16001366271000</td>\n      <td>160013662</td>\n      <td>NON-CRIMINAL</td>\n      <td>LOST PROPERTY</td>\n      <td>TENDERLOIN</td>\n      <td>Jan</td>\n      <td>Tuesday</td>\n      <td>Evening</td>\n      <td>JONES ST / OFARRELL ST</td>\n      <td>94108</td>\n      <td>NONE</td>\n      <td>6</td>\n      <td>19</td>\n      <td>9</td>\n      <td>4</td>\n      <td>5</td>\n      <td>1</td>\n      <td>1</td>\n    </tr>\n    <tr>\n      <th>4</th>\n      <td>16000274071000</td>\n      <td>160002740</td>\n      <td>NON-CRIMINAL</td>\n      <td>LOST PROPERTY</td>\n      <td>MISSION</td>\n      <td>Jan</td>\n      <td>Friday</td>\n      <td>Night</td>\n      <td>16TH ST / MISSION ST</td>\n      <td>94102</td>\n      <td>NONE</td>\n      <td>6</td>\n      <td>19</td>\n      <td>3</td>\n      <td>4</td>\n      <td>0</td>\n      <td>3</td>\n      <td>1</td>\n    </tr>\n  </tbody>\n</table>\n</div>"
     },
     "metadata": {},
     "execution_count": 2
    }
   ],
   "source": [
    "#load data\n",
    "file_path = Path(\"../Resources/categorical_df.csv\")\n",
    "df = pd.read_csv(file_path)\n",
    "df.head()"
   ]
  },
  {
   "cell_type": "code",
   "execution_count": 3,
   "metadata": {},
   "outputs": [
    {
     "output_type": "execute_result",
     "data": {
      "text/plain": [
       "       Category        Descript  ZipCode  PdDistricts  Months  Day  TimeOfDay  \\\n",
       "0   WEAPON LAWS           OTHER    94103            7       4    0          2   \n",
       "1   WEAPON LAWS           OTHER    94103            7       4    0          2   \n",
       "2      WARRANTS  WARRANT ARREST    94124            0       0    1          0   \n",
       "3  NON-CRIMINAL   LOST PROPERTY    94108            9       4    5          1   \n",
       "4  NON-CRIMINAL   LOST PROPERTY    94102            3       4    0          3   \n",
       "\n",
       "   Resolutions  \n",
       "0            0  \n",
       "1            0  \n",
       "2            0  \n",
       "3            1  \n",
       "4            1  "
      ],
      "text/html": "<div>\n<style scoped>\n    .dataframe tbody tr th:only-of-type {\n        vertical-align: middle;\n    }\n\n    .dataframe tbody tr th {\n        vertical-align: top;\n    }\n\n    .dataframe thead th {\n        text-align: right;\n    }\n</style>\n<table border=\"1\" class=\"dataframe\">\n  <thead>\n    <tr style=\"text-align: right;\">\n      <th></th>\n      <th>Category</th>\n      <th>Descript</th>\n      <th>ZipCode</th>\n      <th>PdDistricts</th>\n      <th>Months</th>\n      <th>Day</th>\n      <th>TimeOfDay</th>\n      <th>Resolutions</th>\n    </tr>\n  </thead>\n  <tbody>\n    <tr>\n      <th>0</th>\n      <td>WEAPON LAWS</td>\n      <td>OTHER</td>\n      <td>94103</td>\n      <td>7</td>\n      <td>4</td>\n      <td>0</td>\n      <td>2</td>\n      <td>0</td>\n    </tr>\n    <tr>\n      <th>1</th>\n      <td>WEAPON LAWS</td>\n      <td>OTHER</td>\n      <td>94103</td>\n      <td>7</td>\n      <td>4</td>\n      <td>0</td>\n      <td>2</td>\n      <td>0</td>\n    </tr>\n    <tr>\n      <th>2</th>\n      <td>WARRANTS</td>\n      <td>WARRANT ARREST</td>\n      <td>94124</td>\n      <td>0</td>\n      <td>0</td>\n      <td>1</td>\n      <td>0</td>\n      <td>0</td>\n    </tr>\n    <tr>\n      <th>3</th>\n      <td>NON-CRIMINAL</td>\n      <td>LOST PROPERTY</td>\n      <td>94108</td>\n      <td>9</td>\n      <td>4</td>\n      <td>5</td>\n      <td>1</td>\n      <td>1</td>\n    </tr>\n    <tr>\n      <th>4</th>\n      <td>NON-CRIMINAL</td>\n      <td>LOST PROPERTY</td>\n      <td>94102</td>\n      <td>3</td>\n      <td>4</td>\n      <td>0</td>\n      <td>3</td>\n      <td>1</td>\n    </tr>\n  </tbody>\n</table>\n</div>"
     },
     "metadata": {},
     "execution_count": 3
    }
   ],
   "source": [
    "#select the features we want to use from this dataframe \n",
    "df = df.drop(columns= \"PdId\")\n",
    "df = df.drop(columns= \"IncidntNum\")\n",
    "df = df.drop(columns= \"PdDistrict\")\n",
    "df = df.drop(columns= \"Month\")\n",
    "df = df.drop(columns= \"DayOfWeek\")\n",
    "df = df.drop(columns= \"Time_of_Day\")\n",
    "df = df.drop(columns= \"Address\")\n",
    "df = df.drop(columns= \"Resolution\")\n",
    "df = df.drop(columns= \"Categories\")\n",
    "df = df.drop(columns= \"Descriptions\")\n",
    "df.head()"
   ]
  },
  {
   "cell_type": "code",
   "execution_count": 4,
   "metadata": {},
   "outputs": [
    {
     "output_type": "execute_result",
     "data": {
      "text/plain": [
       "Category       object\n",
       "Descript       object\n",
       "ZipCode         int64\n",
       "PdDistricts     int64\n",
       "Months          int64\n",
       "Day             int64\n",
       "TimeOfDay       int64\n",
       "Resolutions     int64\n",
       "dtype: object"
      ]
     },
     "metadata": {},
     "execution_count": 4
    }
   ],
   "source": [
    "df.dtypes"
   ]
  },
  {
   "cell_type": "code",
   "execution_count": 5,
   "metadata": {},
   "outputs": [
    {
     "output_type": "execute_result",
     "data": {
      "text/plain": [
       "   Category_ASSAULT  Category_BURGLARY  Category_DRUG/NARCOTIC  \\\n",
       "0               0.0                0.0                     0.0   \n",
       "1               0.0                0.0                     0.0   \n",
       "2               0.0                0.0                     0.0   \n",
       "3               0.0                0.0                     0.0   \n",
       "4               0.0                0.0                     0.0   \n",
       "\n",
       "   Category_FRAUD  Category_LARCENY/THEFT  Category_MISSING PERSON  \\\n",
       "0             0.0                     0.0                      0.0   \n",
       "1             0.0                     0.0                      0.0   \n",
       "2             0.0                     0.0                      0.0   \n",
       "3             0.0                     0.0                      0.0   \n",
       "4             0.0                     0.0                      0.0   \n",
       "\n",
       "   Category_NON-CRIMINAL  Category_OTHER  Category_OTHER OFFENSES  \\\n",
       "0                    0.0             0.0                      0.0   \n",
       "1                    0.0             0.0                      0.0   \n",
       "2                    0.0             0.0                      0.0   \n",
       "3                    1.0             0.0                      0.0   \n",
       "4                    1.0             0.0                      0.0   \n",
       "\n",
       "   Category_ROBBERY  ...  Descript_POSSESSION OF NARCOTICS PARAPHERNALIA  \\\n",
       "0               0.0  ...                                             0.0   \n",
       "1               0.0  ...                                             0.0   \n",
       "2               0.0  ...                                             0.0   \n",
       "3               0.0  ...                                             0.0   \n",
       "4               0.0  ...                                             0.0   \n",
       "\n",
       "   Descript_RESISTING ARREST  Descript_STOLEN AUTOMOBILE  \\\n",
       "0                        0.0                         0.0   \n",
       "1                        0.0                         0.0   \n",
       "2                        0.0                         0.0   \n",
       "3                        0.0                         0.0   \n",
       "4                        0.0                         0.0   \n",
       "\n",
       "   Descript_STOLEN TRUCK  Descript_SUSPICIOUS OCCURRENCE  \\\n",
       "0                    0.0                             0.0   \n",
       "1                    0.0                             0.0   \n",
       "2                    0.0                             0.0   \n",
       "3                    0.0                             0.0   \n",
       "4                    0.0                             0.0   \n",
       "\n",
       "   Descript_THREATS AGAINST LIFE  Descript_TRAFFIC VIOLATION  \\\n",
       "0                            0.0                         0.0   \n",
       "1                            0.0                         0.0   \n",
       "2                            0.0                         0.0   \n",
       "3                            0.0                         0.0   \n",
       "4                            0.0                         0.0   \n",
       "\n",
       "   Descript_TRAFFIC VIOLATION ARREST  Descript_TRESPASSING  \\\n",
       "0                                0.0                   0.0   \n",
       "1                                0.0                   0.0   \n",
       "2                                0.0                   0.0   \n",
       "3                                0.0                   0.0   \n",
       "4                                0.0                   0.0   \n",
       "\n",
       "   Descript_WARRANT ARREST  \n",
       "0                      0.0  \n",
       "1                      0.0  \n",
       "2                      1.0  \n",
       "3                      0.0  \n",
       "4                      0.0  \n",
       "\n",
       "[5 rows x 57 columns]"
      ],
      "text/html": "<div>\n<style scoped>\n    .dataframe tbody tr th:only-of-type {\n        vertical-align: middle;\n    }\n\n    .dataframe tbody tr th {\n        vertical-align: top;\n    }\n\n    .dataframe thead th {\n        text-align: right;\n    }\n</style>\n<table border=\"1\" class=\"dataframe\">\n  <thead>\n    <tr style=\"text-align: right;\">\n      <th></th>\n      <th>Category_ASSAULT</th>\n      <th>Category_BURGLARY</th>\n      <th>Category_DRUG/NARCOTIC</th>\n      <th>Category_FRAUD</th>\n      <th>Category_LARCENY/THEFT</th>\n      <th>Category_MISSING PERSON</th>\n      <th>Category_NON-CRIMINAL</th>\n      <th>Category_OTHER</th>\n      <th>Category_OTHER OFFENSES</th>\n      <th>Category_ROBBERY</th>\n      <th>...</th>\n      <th>Descript_POSSESSION OF NARCOTICS PARAPHERNALIA</th>\n      <th>Descript_RESISTING ARREST</th>\n      <th>Descript_STOLEN AUTOMOBILE</th>\n      <th>Descript_STOLEN TRUCK</th>\n      <th>Descript_SUSPICIOUS OCCURRENCE</th>\n      <th>Descript_THREATS AGAINST LIFE</th>\n      <th>Descript_TRAFFIC VIOLATION</th>\n      <th>Descript_TRAFFIC VIOLATION ARREST</th>\n      <th>Descript_TRESPASSING</th>\n      <th>Descript_WARRANT ARREST</th>\n    </tr>\n  </thead>\n  <tbody>\n    <tr>\n      <th>0</th>\n      <td>0.0</td>\n      <td>0.0</td>\n      <td>0.0</td>\n      <td>0.0</td>\n      <td>0.0</td>\n      <td>0.0</td>\n      <td>0.0</td>\n      <td>0.0</td>\n      <td>0.0</td>\n      <td>0.0</td>\n      <td>...</td>\n      <td>0.0</td>\n      <td>0.0</td>\n      <td>0.0</td>\n      <td>0.0</td>\n      <td>0.0</td>\n      <td>0.0</td>\n      <td>0.0</td>\n      <td>0.0</td>\n      <td>0.0</td>\n      <td>0.0</td>\n    </tr>\n    <tr>\n      <th>1</th>\n      <td>0.0</td>\n      <td>0.0</td>\n      <td>0.0</td>\n      <td>0.0</td>\n      <td>0.0</td>\n      <td>0.0</td>\n      <td>0.0</td>\n      <td>0.0</td>\n      <td>0.0</td>\n      <td>0.0</td>\n      <td>...</td>\n      <td>0.0</td>\n      <td>0.0</td>\n      <td>0.0</td>\n      <td>0.0</td>\n      <td>0.0</td>\n      <td>0.0</td>\n      <td>0.0</td>\n      <td>0.0</td>\n      <td>0.0</td>\n      <td>0.0</td>\n    </tr>\n    <tr>\n      <th>2</th>\n      <td>0.0</td>\n      <td>0.0</td>\n      <td>0.0</td>\n      <td>0.0</td>\n      <td>0.0</td>\n      <td>0.0</td>\n      <td>0.0</td>\n      <td>0.0</td>\n      <td>0.0</td>\n      <td>0.0</td>\n      <td>...</td>\n      <td>0.0</td>\n      <td>0.0</td>\n      <td>0.0</td>\n      <td>0.0</td>\n      <td>0.0</td>\n      <td>0.0</td>\n      <td>0.0</td>\n      <td>0.0</td>\n      <td>0.0</td>\n      <td>1.0</td>\n    </tr>\n    <tr>\n      <th>3</th>\n      <td>0.0</td>\n      <td>0.0</td>\n      <td>0.0</td>\n      <td>0.0</td>\n      <td>0.0</td>\n      <td>0.0</td>\n      <td>1.0</td>\n      <td>0.0</td>\n      <td>0.0</td>\n      <td>0.0</td>\n      <td>...</td>\n      <td>0.0</td>\n      <td>0.0</td>\n      <td>0.0</td>\n      <td>0.0</td>\n      <td>0.0</td>\n      <td>0.0</td>\n      <td>0.0</td>\n      <td>0.0</td>\n      <td>0.0</td>\n      <td>0.0</td>\n    </tr>\n    <tr>\n      <th>4</th>\n      <td>0.0</td>\n      <td>0.0</td>\n      <td>0.0</td>\n      <td>0.0</td>\n      <td>0.0</td>\n      <td>0.0</td>\n      <td>1.0</td>\n      <td>0.0</td>\n      <td>0.0</td>\n      <td>0.0</td>\n      <td>...</td>\n      <td>0.0</td>\n      <td>0.0</td>\n      <td>0.0</td>\n      <td>0.0</td>\n      <td>0.0</td>\n      <td>0.0</td>\n      <td>0.0</td>\n      <td>0.0</td>\n      <td>0.0</td>\n      <td>0.0</td>\n    </tr>\n  </tbody>\n</table>\n<p>5 rows × 57 columns</p>\n</div>"
     },
     "metadata": {},
     "execution_count": 5
    }
   ],
   "source": [
    "#encode our categorical data\n",
    "categorical_vars = df.dtypes[df.dtypes==\"object\"].index.tolist()\n",
    "\n",
    "#create OHE instance\n",
    "enc = OneHotEncoder(sparse=False)\n",
    "\n",
    "#fit and transform\n",
    "encoded_df = pd.DataFrame(enc.fit_transform(df[categorical_vars]))\n",
    "\n",
    "#rename encoded columns\n",
    "encoded_df.columns = enc.get_feature_names(categorical_vars)\n",
    "encoded_df.head()"
   ]
  },
  {
   "cell_type": "code",
   "execution_count": 6,
   "metadata": {},
   "outputs": [
    {
     "output_type": "execute_result",
     "data": {
      "text/plain": [
       "       Category        Descript  ZipCode  PdDistricts  Months  Day  TimeOfDay  \\\n",
       "0   WEAPON LAWS           OTHER    94103            7       4    0          2   \n",
       "1   WEAPON LAWS           OTHER    94103            7       4    0          2   \n",
       "2      WARRANTS  WARRANT ARREST    94124            0       0    1          0   \n",
       "3  NON-CRIMINAL   LOST PROPERTY    94108            9       4    5          1   \n",
       "4  NON-CRIMINAL   LOST PROPERTY    94102            3       4    0          3   \n",
       "\n",
       "   Resolutions  Category_ASSAULT  Category_BURGLARY  ...  \\\n",
       "0            0               0.0                0.0  ...   \n",
       "1            0               0.0                0.0  ...   \n",
       "2            0               0.0                0.0  ...   \n",
       "3            1               0.0                0.0  ...   \n",
       "4            1               0.0                0.0  ...   \n",
       "\n",
       "   Descript_POSSESSION OF NARCOTICS PARAPHERNALIA  Descript_RESISTING ARREST  \\\n",
       "0                                             0.0                        0.0   \n",
       "1                                             0.0                        0.0   \n",
       "2                                             0.0                        0.0   \n",
       "3                                             0.0                        0.0   \n",
       "4                                             0.0                        0.0   \n",
       "\n",
       "   Descript_STOLEN AUTOMOBILE  Descript_STOLEN TRUCK  \\\n",
       "0                         0.0                    0.0   \n",
       "1                         0.0                    0.0   \n",
       "2                         0.0                    0.0   \n",
       "3                         0.0                    0.0   \n",
       "4                         0.0                    0.0   \n",
       "\n",
       "   Descript_SUSPICIOUS OCCURRENCE  Descript_THREATS AGAINST LIFE  \\\n",
       "0                             0.0                            0.0   \n",
       "1                             0.0                            0.0   \n",
       "2                             0.0                            0.0   \n",
       "3                             0.0                            0.0   \n",
       "4                             0.0                            0.0   \n",
       "\n",
       "   Descript_TRAFFIC VIOLATION  Descript_TRAFFIC VIOLATION ARREST  \\\n",
       "0                         0.0                                0.0   \n",
       "1                         0.0                                0.0   \n",
       "2                         0.0                                0.0   \n",
       "3                         0.0                                0.0   \n",
       "4                         0.0                                0.0   \n",
       "\n",
       "   Descript_TRESPASSING  Descript_WARRANT ARREST  \n",
       "0                   0.0                      0.0  \n",
       "1                   0.0                      0.0  \n",
       "2                   0.0                      1.0  \n",
       "3                   0.0                      0.0  \n",
       "4                   0.0                      0.0  \n",
       "\n",
       "[5 rows x 65 columns]"
      ],
      "text/html": "<div>\n<style scoped>\n    .dataframe tbody tr th:only-of-type {\n        vertical-align: middle;\n    }\n\n    .dataframe tbody tr th {\n        vertical-align: top;\n    }\n\n    .dataframe thead th {\n        text-align: right;\n    }\n</style>\n<table border=\"1\" class=\"dataframe\">\n  <thead>\n    <tr style=\"text-align: right;\">\n      <th></th>\n      <th>Category</th>\n      <th>Descript</th>\n      <th>ZipCode</th>\n      <th>PdDistricts</th>\n      <th>Months</th>\n      <th>Day</th>\n      <th>TimeOfDay</th>\n      <th>Resolutions</th>\n      <th>Category_ASSAULT</th>\n      <th>Category_BURGLARY</th>\n      <th>...</th>\n      <th>Descript_POSSESSION OF NARCOTICS PARAPHERNALIA</th>\n      <th>Descript_RESISTING ARREST</th>\n      <th>Descript_STOLEN AUTOMOBILE</th>\n      <th>Descript_STOLEN TRUCK</th>\n      <th>Descript_SUSPICIOUS OCCURRENCE</th>\n      <th>Descript_THREATS AGAINST LIFE</th>\n      <th>Descript_TRAFFIC VIOLATION</th>\n      <th>Descript_TRAFFIC VIOLATION ARREST</th>\n      <th>Descript_TRESPASSING</th>\n      <th>Descript_WARRANT ARREST</th>\n    </tr>\n  </thead>\n  <tbody>\n    <tr>\n      <th>0</th>\n      <td>WEAPON LAWS</td>\n      <td>OTHER</td>\n      <td>94103</td>\n      <td>7</td>\n      <td>4</td>\n      <td>0</td>\n      <td>2</td>\n      <td>0</td>\n      <td>0.0</td>\n      <td>0.0</td>\n      <td>...</td>\n      <td>0.0</td>\n      <td>0.0</td>\n      <td>0.0</td>\n      <td>0.0</td>\n      <td>0.0</td>\n      <td>0.0</td>\n      <td>0.0</td>\n      <td>0.0</td>\n      <td>0.0</td>\n      <td>0.0</td>\n    </tr>\n    <tr>\n      <th>1</th>\n      <td>WEAPON LAWS</td>\n      <td>OTHER</td>\n      <td>94103</td>\n      <td>7</td>\n      <td>4</td>\n      <td>0</td>\n      <td>2</td>\n      <td>0</td>\n      <td>0.0</td>\n      <td>0.0</td>\n      <td>...</td>\n      <td>0.0</td>\n      <td>0.0</td>\n      <td>0.0</td>\n      <td>0.0</td>\n      <td>0.0</td>\n      <td>0.0</td>\n      <td>0.0</td>\n      <td>0.0</td>\n      <td>0.0</td>\n      <td>0.0</td>\n    </tr>\n    <tr>\n      <th>2</th>\n      <td>WARRANTS</td>\n      <td>WARRANT ARREST</td>\n      <td>94124</td>\n      <td>0</td>\n      <td>0</td>\n      <td>1</td>\n      <td>0</td>\n      <td>0</td>\n      <td>0.0</td>\n      <td>0.0</td>\n      <td>...</td>\n      <td>0.0</td>\n      <td>0.0</td>\n      <td>0.0</td>\n      <td>0.0</td>\n      <td>0.0</td>\n      <td>0.0</td>\n      <td>0.0</td>\n      <td>0.0</td>\n      <td>0.0</td>\n      <td>1.0</td>\n    </tr>\n    <tr>\n      <th>3</th>\n      <td>NON-CRIMINAL</td>\n      <td>LOST PROPERTY</td>\n      <td>94108</td>\n      <td>9</td>\n      <td>4</td>\n      <td>5</td>\n      <td>1</td>\n      <td>1</td>\n      <td>0.0</td>\n      <td>0.0</td>\n      <td>...</td>\n      <td>0.0</td>\n      <td>0.0</td>\n      <td>0.0</td>\n      <td>0.0</td>\n      <td>0.0</td>\n      <td>0.0</td>\n      <td>0.0</td>\n      <td>0.0</td>\n      <td>0.0</td>\n      <td>0.0</td>\n    </tr>\n    <tr>\n      <th>4</th>\n      <td>NON-CRIMINAL</td>\n      <td>LOST PROPERTY</td>\n      <td>94102</td>\n      <td>3</td>\n      <td>4</td>\n      <td>0</td>\n      <td>3</td>\n      <td>1</td>\n      <td>0.0</td>\n      <td>0.0</td>\n      <td>...</td>\n      <td>0.0</td>\n      <td>0.0</td>\n      <td>0.0</td>\n      <td>0.0</td>\n      <td>0.0</td>\n      <td>0.0</td>\n      <td>0.0</td>\n      <td>0.0</td>\n      <td>0.0</td>\n      <td>0.0</td>\n    </tr>\n  </tbody>\n</table>\n<p>5 rows × 65 columns</p>\n</div>"
     },
     "metadata": {},
     "execution_count": 6
    }
   ],
   "source": [
    "#merge dataframes\n",
    "merged_df = df.merge(encoded_df, right_index=True, left_index=True)\n",
    "merged_df.head()"
   ]
  },
  {
   "cell_type": "code",
   "execution_count": 7,
   "metadata": {},
   "outputs": [
    {
     "output_type": "execute_result",
     "data": {
      "text/plain": [
       "   ZipCode  PdDistricts  Months  Day  TimeOfDay  Resolutions  \\\n",
       "0    94103            7       4    0          2            0   \n",
       "1    94103            7       4    0          2            0   \n",
       "2    94124            0       0    1          0            0   \n",
       "3    94108            9       4    5          1            1   \n",
       "4    94102            3       4    0          3            1   \n",
       "\n",
       "   Category_ASSAULT  Category_BURGLARY  Category_DRUG/NARCOTIC  \\\n",
       "0               0.0                0.0                     0.0   \n",
       "1               0.0                0.0                     0.0   \n",
       "2               0.0                0.0                     0.0   \n",
       "3               0.0                0.0                     0.0   \n",
       "4               0.0                0.0                     0.0   \n",
       "\n",
       "   Category_FRAUD  ...  Descript_POSSESSION OF NARCOTICS PARAPHERNALIA  \\\n",
       "0             0.0  ...                                             0.0   \n",
       "1             0.0  ...                                             0.0   \n",
       "2             0.0  ...                                             0.0   \n",
       "3             0.0  ...                                             0.0   \n",
       "4             0.0  ...                                             0.0   \n",
       "\n",
       "   Descript_RESISTING ARREST  Descript_STOLEN AUTOMOBILE  \\\n",
       "0                        0.0                         0.0   \n",
       "1                        0.0                         0.0   \n",
       "2                        0.0                         0.0   \n",
       "3                        0.0                         0.0   \n",
       "4                        0.0                         0.0   \n",
       "\n",
       "   Descript_STOLEN TRUCK  Descript_SUSPICIOUS OCCURRENCE  \\\n",
       "0                    0.0                             0.0   \n",
       "1                    0.0                             0.0   \n",
       "2                    0.0                             0.0   \n",
       "3                    0.0                             0.0   \n",
       "4                    0.0                             0.0   \n",
       "\n",
       "   Descript_THREATS AGAINST LIFE  Descript_TRAFFIC VIOLATION  \\\n",
       "0                            0.0                         0.0   \n",
       "1                            0.0                         0.0   \n",
       "2                            0.0                         0.0   \n",
       "3                            0.0                         0.0   \n",
       "4                            0.0                         0.0   \n",
       "\n",
       "   Descript_TRAFFIC VIOLATION ARREST  Descript_TRESPASSING  \\\n",
       "0                                0.0                   0.0   \n",
       "1                                0.0                   0.0   \n",
       "2                                0.0                   0.0   \n",
       "3                                0.0                   0.0   \n",
       "4                                0.0                   0.0   \n",
       "\n",
       "   Descript_WARRANT ARREST  \n",
       "0                      0.0  \n",
       "1                      0.0  \n",
       "2                      1.0  \n",
       "3                      0.0  \n",
       "4                      0.0  \n",
       "\n",
       "[5 rows x 63 columns]"
      ],
      "text/html": "<div>\n<style scoped>\n    .dataframe tbody tr th:only-of-type {\n        vertical-align: middle;\n    }\n\n    .dataframe tbody tr th {\n        vertical-align: top;\n    }\n\n    .dataframe thead th {\n        text-align: right;\n    }\n</style>\n<table border=\"1\" class=\"dataframe\">\n  <thead>\n    <tr style=\"text-align: right;\">\n      <th></th>\n      <th>ZipCode</th>\n      <th>PdDistricts</th>\n      <th>Months</th>\n      <th>Day</th>\n      <th>TimeOfDay</th>\n      <th>Resolutions</th>\n      <th>Category_ASSAULT</th>\n      <th>Category_BURGLARY</th>\n      <th>Category_DRUG/NARCOTIC</th>\n      <th>Category_FRAUD</th>\n      <th>...</th>\n      <th>Descript_POSSESSION OF NARCOTICS PARAPHERNALIA</th>\n      <th>Descript_RESISTING ARREST</th>\n      <th>Descript_STOLEN AUTOMOBILE</th>\n      <th>Descript_STOLEN TRUCK</th>\n      <th>Descript_SUSPICIOUS OCCURRENCE</th>\n      <th>Descript_THREATS AGAINST LIFE</th>\n      <th>Descript_TRAFFIC VIOLATION</th>\n      <th>Descript_TRAFFIC VIOLATION ARREST</th>\n      <th>Descript_TRESPASSING</th>\n      <th>Descript_WARRANT ARREST</th>\n    </tr>\n  </thead>\n  <tbody>\n    <tr>\n      <th>0</th>\n      <td>94103</td>\n      <td>7</td>\n      <td>4</td>\n      <td>0</td>\n      <td>2</td>\n      <td>0</td>\n      <td>0.0</td>\n      <td>0.0</td>\n      <td>0.0</td>\n      <td>0.0</td>\n      <td>...</td>\n      <td>0.0</td>\n      <td>0.0</td>\n      <td>0.0</td>\n      <td>0.0</td>\n      <td>0.0</td>\n      <td>0.0</td>\n      <td>0.0</td>\n      <td>0.0</td>\n      <td>0.0</td>\n      <td>0.0</td>\n    </tr>\n    <tr>\n      <th>1</th>\n      <td>94103</td>\n      <td>7</td>\n      <td>4</td>\n      <td>0</td>\n      <td>2</td>\n      <td>0</td>\n      <td>0.0</td>\n      <td>0.0</td>\n      <td>0.0</td>\n      <td>0.0</td>\n      <td>...</td>\n      <td>0.0</td>\n      <td>0.0</td>\n      <td>0.0</td>\n      <td>0.0</td>\n      <td>0.0</td>\n      <td>0.0</td>\n      <td>0.0</td>\n      <td>0.0</td>\n      <td>0.0</td>\n      <td>0.0</td>\n    </tr>\n    <tr>\n      <th>2</th>\n      <td>94124</td>\n      <td>0</td>\n      <td>0</td>\n      <td>1</td>\n      <td>0</td>\n      <td>0</td>\n      <td>0.0</td>\n      <td>0.0</td>\n      <td>0.0</td>\n      <td>0.0</td>\n      <td>...</td>\n      <td>0.0</td>\n      <td>0.0</td>\n      <td>0.0</td>\n      <td>0.0</td>\n      <td>0.0</td>\n      <td>0.0</td>\n      <td>0.0</td>\n      <td>0.0</td>\n      <td>0.0</td>\n      <td>1.0</td>\n    </tr>\n    <tr>\n      <th>3</th>\n      <td>94108</td>\n      <td>9</td>\n      <td>4</td>\n      <td>5</td>\n      <td>1</td>\n      <td>1</td>\n      <td>0.0</td>\n      <td>0.0</td>\n      <td>0.0</td>\n      <td>0.0</td>\n      <td>...</td>\n      <td>0.0</td>\n      <td>0.0</td>\n      <td>0.0</td>\n      <td>0.0</td>\n      <td>0.0</td>\n      <td>0.0</td>\n      <td>0.0</td>\n      <td>0.0</td>\n      <td>0.0</td>\n      <td>0.0</td>\n    </tr>\n    <tr>\n      <th>4</th>\n      <td>94102</td>\n      <td>3</td>\n      <td>4</td>\n      <td>0</td>\n      <td>3</td>\n      <td>1</td>\n      <td>0.0</td>\n      <td>0.0</td>\n      <td>0.0</td>\n      <td>0.0</td>\n      <td>...</td>\n      <td>0.0</td>\n      <td>0.0</td>\n      <td>0.0</td>\n      <td>0.0</td>\n      <td>0.0</td>\n      <td>0.0</td>\n      <td>0.0</td>\n      <td>0.0</td>\n      <td>0.0</td>\n      <td>0.0</td>\n    </tr>\n  </tbody>\n</table>\n<p>5 rows × 63 columns</p>\n</div>"
     },
     "metadata": {},
     "execution_count": 7
    }
   ],
   "source": [
    "#drop category and description columns\n",
    "merged_df = merged_df.drop(columns=\"Category\")\n",
    "merged_df = merged_df.drop(columns=\"Descript\")\n",
    "merged_df.head()"
   ]
  },
  {
   "cell_type": "code",
   "execution_count": 8,
   "metadata": {},
   "outputs": [
    {
     "output_type": "execute_result",
     "data": {
      "text/plain": [
       "Index(['ZipCode', 'PdDistricts', 'Months', 'Day', 'TimeOfDay', 'Resolutions',\n",
       "       'Category_ASSAULT', 'Category_BURGLARY', 'Category_DRUG/NARCOTIC',\n",
       "       'Category_FRAUD', 'Category_LARCENY/THEFT', 'Category_MISSING PERSON',\n",
       "       'Category_NON-CRIMINAL', 'Category_OTHER', 'Category_OTHER OFFENSES',\n",
       "       'Category_ROBBERY', 'Category_SECONDARY CODES',\n",
       "       'Category_SUSPICIOUS OCC', 'Category_TRESPASS', 'Category_VANDALISM',\n",
       "       'Category_VEHICLE THEFT', 'Category_WARRANTS', 'Category_WEAPON LAWS',\n",
       "       'Descript_AGGRAVATED ASSAULT WITH A DEADLY WEAPON',\n",
       "       'Descript_AIDED CASE', 'Descript_AIDED CASE, MENTAL DISTURBED',\n",
       "       'Descript_BATTERY',\n",
       "       'Descript_BATTERY, FORMER SPOUSE OR DATING RELATIONSHIP',\n",
       "       'Descript_CREDIT CARD, THEFT BY USE OF', 'Descript_DOMESTIC VIOLENCE',\n",
       "       'Descript_DRIVERS LICENSE, SUSPENDED OR REVOKED',\n",
       "       'Descript_ENROUTE TO OUTSIDE JURISDICTION',\n",
       "       'Descript_FALSE PERSONATION TO RECEIVE MONEY OR PROPERTY',\n",
       "       'Descript_FOUND PERSON', 'Descript_FOUND PROPERTY',\n",
       "       'Descript_GRAND THEFT FROM A BUILDING',\n",
       "       'Descript_GRAND THEFT FROM LOCKED AUTO',\n",
       "       'Descript_GRAND THEFT FROM PERSON',\n",
       "       'Descript_GRAND THEFT FROM UNLOCKED AUTO',\n",
       "       'Descript_GRAND THEFT OF PROPERTY',\n",
       "       'Descript_INFLICT INJURY ON COHABITEE',\n",
       "       'Descript_INVESTIGATIVE DETENTION', 'Descript_LOST PROPERTY',\n",
       "       'Descript_LOST/STOLEN LICENSE PLATE',\n",
       "       'Descript_MALICIOUS MISCHIEF, VANDALISM',\n",
       "       'Descript_MALICIOUS MISCHIEF, VANDALISM OF VEHICLES',\n",
       "       'Descript_MISCELLANEOUS INVESTIGATION', 'Descript_MISSING ADULT',\n",
       "       'Descript_OTHER', 'Descript_PETTY THEFT FROM A BUILDING',\n",
       "       'Descript_PETTY THEFT FROM LOCKED AUTO',\n",
       "       'Descript_PETTY THEFT OF PROPERTY', 'Descript_PETTY THEFT SHOPLIFTING',\n",
       "       'Descript_POSSESSION OF NARCOTICS PARAPHERNALIA',\n",
       "       'Descript_RESISTING ARREST', 'Descript_STOLEN AUTOMOBILE',\n",
       "       'Descript_STOLEN TRUCK', 'Descript_SUSPICIOUS OCCURRENCE',\n",
       "       'Descript_THREATS AGAINST LIFE', 'Descript_TRAFFIC VIOLATION',\n",
       "       'Descript_TRAFFIC VIOLATION ARREST', 'Descript_TRESPASSING',\n",
       "       'Descript_WARRANT ARREST'],\n",
       "      dtype='object')"
      ]
     },
     "metadata": {},
     "execution_count": 8
    }
   ],
   "source": [
    "columns = merged_df.columns\n",
    "columns"
   ]
  },
  {
   "cell_type": "code",
   "execution_count": 9,
   "metadata": {},
   "outputs": [],
   "source": [
    "#resolutions column does not need to be scaled bc it is our binary classifier. In fact, it does not need to be included in our PCA\n",
    "\n",
    "#first create a copy of our dataframe \n",
    "scaled_features = merged_df.copy()\n",
    "column_names = ['ZipCode', 'PdDistricts', 'Months', 'Day', 'TimeOfDay',\n",
    "       'Category_ASSAULT', 'Category_BURGLARY', 'Category_DRUG/NARCOTIC',\n",
    "       'Category_FRAUD', 'Category_LARCENY/THEFT', 'Category_MISSING PERSON',\n",
    "       'Category_NON-CRIMINAL', 'Category_OTHER', 'Category_OTHER OFFENSES',\n",
    "       'Category_ROBBERY', 'Category_SECONDARY CODES',\n",
    "       'Category_SUSPICIOUS OCC', 'Category_TRESPASS', 'Category_VANDALISM',\n",
    "       'Category_VEHICLE THEFT', 'Category_WARRANTS', 'Category_WEAPON LAWS',\n",
    "       'Descript_AGGRAVATED ASSAULT WITH A DEADLY WEAPON',\n",
    "       'Descript_AIDED CASE', 'Descript_AIDED CASE, MENTAL DISTURBED',\n",
    "       'Descript_BATTERY',\n",
    "       'Descript_BATTERY, FORMER SPOUSE OR DATING RELATIONSHIP',\n",
    "       'Descript_CREDIT CARD, THEFT BY USE OF', 'Descript_DOMESTIC VIOLENCE',\n",
    "       'Descript_DRIVERS LICENSE, SUSPENDED OR REVOKED',\n",
    "       'Descript_ENROUTE TO OUTSIDE JURISDICTION',\n",
    "       'Descript_FALSE PERSONATION TO RECEIVE MONEY OR PROPERTY',\n",
    "       'Descript_FOUND PERSON', 'Descript_FOUND PROPERTY',\n",
    "       'Descript_GRAND THEFT FROM A BUILDING',\n",
    "       'Descript_GRAND THEFT FROM LOCKED AUTO',\n",
    "       'Descript_GRAND THEFT FROM PERSON',\n",
    "       'Descript_GRAND THEFT FROM UNLOCKED AUTO',\n",
    "       'Descript_GRAND THEFT OF PROPERTY',\n",
    "       'Descript_INFLICT INJURY ON COHABITEE',\n",
    "       'Descript_INVESTIGATIVE DETENTION', 'Descript_LOST PROPERTY',\n",
    "       'Descript_LOST/STOLEN LICENSE PLATE',\n",
    "       'Descript_MALICIOUS MISCHIEF, VANDALISM',\n",
    "       'Descript_MALICIOUS MISCHIEF, VANDALISM OF VEHICLES',\n",
    "       'Descript_MISCELLANEOUS INVESTIGATION', 'Descript_MISSING ADULT',\n",
    "       'Descript_OTHER', 'Descript_PETTY THEFT FROM A BUILDING',\n",
    "       'Descript_PETTY THEFT FROM LOCKED AUTO',\n",
    "       'Descript_PETTY THEFT OF PROPERTY', 'Descript_PETTY THEFT SHOPLIFTING',\n",
    "       'Descript_POSSESSION OF NARCOTICS PARAPHERNALIA',\n",
    "       'Descript_RESISTING ARREST', 'Descript_STOLEN AUTOMOBILE',\n",
    "       'Descript_STOLEN TRUCK', 'Descript_SUSPICIOUS OCCURRENCE',\n",
    "       'Descript_THREATS AGAINST LIFE', 'Descript_TRAFFIC VIOLATION',\n",
    "       'Descript_TRAFFIC VIOLATION ARREST', 'Descript_TRESPASSING',\n",
    "       'Descript_WARRANT ARREST']\n",
    "features = scaled_features[column_names]"
   ]
  },
  {
   "cell_type": "code",
   "execution_count": 10,
   "metadata": {},
   "outputs": [
    {
     "output_type": "stream",
     "name": "stdout",
     "text": [
      "         ZipCode  PdDistricts    Months       Day  TimeOfDay  Resolutions  \\\n0      -0.860927     0.950634 -0.443307 -1.465466   0.720326            0   \n1      -0.860927     0.950634 -0.443307 -1.465466   0.720326            0   \n2       0.909206    -1.566836 -1.598508 -0.970159  -1.132944            0   \n3      -0.439467     1.669911 -0.443307  1.011070  -0.206309            1   \n4      -0.945219    -0.487921 -0.443307 -1.465466   1.646961            1   \n...          ...          ...       ...       ...        ...          ...   \n147190  0.403454     0.231357 -1.020908 -1.465466  -0.206309            1   \n147191 -0.776635    -1.207198 -1.020908 -1.465466   0.720326            1   \n147192 -0.439467    -1.207198 -1.020908  0.515763  -0.206309            1   \n147193 -0.439467    -1.207198 -1.020908 -1.465466   0.720326            1   \n147194 -0.860927     0.950634 -1.020908 -1.465466  -1.132944            1   \n\n        Category_ASSAULT  Category_BURGLARY  Category_DRUG/NARCOTIC  \\\n0              -0.315846          -0.202024               -0.171087   \n1              -0.315846          -0.202024               -0.171087   \n2              -0.315846          -0.202024               -0.171087   \n3              -0.315846          -0.202024               -0.171087   \n4              -0.315846          -0.202024               -0.171087   \n...                  ...                ...                     ...   \n147190          3.166100          -0.202024               -0.171087   \n147191         -0.315846          -0.202024               -0.171087   \n147192         -0.315846          -0.202024               -0.171087   \n147193         -0.315846          -0.202024               -0.171087   \n147194         -0.315846          -0.202024               -0.171087   \n\n        Category_FRAUD  ...  Descript_POSSESSION OF NARCOTICS PARAPHERNALIA  \\\n0            -0.134147  ...                                       -0.085168   \n1            -0.134147  ...                                       -0.085168   \n2            -0.134147  ...                                       -0.085168   \n3            -0.134147  ...                                       -0.085168   \n4            -0.134147  ...                                       -0.085168   \n...                ...  ...                                             ...   \n147190       -0.134147  ...                                       -0.085168   \n147191       -0.134147  ...                                       -0.085168   \n147192       -0.134147  ...                                       -0.085168   \n147193       -0.134147  ...                                       -0.085168   \n147194       -0.134147  ...                                       -0.085168   \n\n        Descript_RESISTING ARREST  Descript_STOLEN AUTOMOBILE  \\\n0                       -0.093327                   -0.155175   \n1                       -0.093327                   -0.155175   \n2                       -0.093327                   -0.155175   \n3                       -0.093327                   -0.155175   \n4                       -0.093327                   -0.155175   \n...                           ...                         ...   \n147190                  -0.093327                   -0.155175   \n147191                  -0.093327                   -0.155175   \n147192                  -0.093327                   -0.155175   \n147193                  -0.093327                   -0.155175   \n147194                  -0.093327                   -0.155175   \n\n        Descript_STOLEN TRUCK  Descript_SUSPICIOUS OCCURRENCE  \\\n0                   -0.101159                       -0.141017   \n1                   -0.101159                       -0.141017   \n2                   -0.101159                       -0.141017   \n3                   -0.101159                       -0.141017   \n4                   -0.101159                       -0.141017   \n...                       ...                             ...   \n147190              -0.101159                       -0.141017   \n147191              -0.101159                       -0.141017   \n147192              -0.101159                       -0.141017   \n147193              -0.101159                       -0.141017   \n147194              -0.101159                       -0.141017   \n\n        Descript_THREATS AGAINST LIFE  Descript_TRAFFIC VIOLATION  \\\n0                           -0.107157                   -0.111078   \n1                           -0.107157                   -0.111078   \n2                           -0.107157                   -0.111078   \n3                           -0.107157                   -0.111078   \n4                           -0.107157                   -0.111078   \n...                               ...                         ...   \n147190                      -0.107157                   -0.111078   \n147191                      -0.107157                   -0.111078   \n147192                      -0.107157                   -0.111078   \n147193                      -0.107157                   -0.111078   \n147194                      -0.107157                   -0.111078   \n\n        Descript_TRAFFIC VIOLATION ARREST  Descript_TRESPASSING  \\\n0                               -0.123178             -0.092808   \n1                               -0.123178             -0.092808   \n2                               -0.123178             -0.092808   \n3                               -0.123178             -0.092808   \n4                               -0.123178             -0.092808   \n...                                   ...                   ...   \n147190                          -0.123178             -0.092808   \n147191                          -0.123178             -0.092808   \n147192                          -0.123178             -0.092808   \n147193                          -0.123178             -0.092808   \n147194                          -0.123178             -0.092808   \n\n        Descript_WARRANT ARREST  \n0                     -0.145267  \n1                     -0.145267  \n2                      6.883863  \n3                     -0.145267  \n4                     -0.145267  \n...                         ...  \n147190                -0.145267  \n147191                -0.145267  \n147192                -0.145267  \n147193                -0.145267  \n147194                -0.145267  \n\n[147195 rows x 63 columns]\n"
     ]
    }
   ],
   "source": [
    "#due to the zipcode values being so much bigger than the rest of the values in the dataframe, everything will be scaled using scikit-learn standard scaler \n",
    "scaler = StandardScaler()\n",
    "scaled_data = scaler.fit(features.values)\n",
    "features = scaler.transform(features.values)\n",
    "#create df of scaled data\n",
    "scaled_features[column_names] = features\n",
    "print(scaled_features)"
   ]
  },
  {
   "cell_type": "code",
   "execution_count": 11,
   "metadata": {},
   "outputs": [
    {
     "output_type": "execute_result",
     "data": {
      "text/plain": [
       "         ZipCode  PdDistricts    Months       Day  TimeOfDay  \\\n",
       "0      -0.860927     0.950634 -0.443307 -1.465466   0.720326   \n",
       "1      -0.860927     0.950634 -0.443307 -1.465466   0.720326   \n",
       "2       0.909206    -1.566836 -1.598508 -0.970159  -1.132944   \n",
       "3      -0.439467     1.669911 -0.443307  1.011070  -0.206309   \n",
       "4      -0.945219    -0.487921 -0.443307 -1.465466   1.646961   \n",
       "...          ...          ...       ...       ...        ...   \n",
       "147190  0.403454     0.231357 -1.020908 -1.465466  -0.206309   \n",
       "147191 -0.776635    -1.207198 -1.020908 -1.465466   0.720326   \n",
       "147192 -0.439467    -1.207198 -1.020908  0.515763  -0.206309   \n",
       "147193 -0.439467    -1.207198 -1.020908 -1.465466   0.720326   \n",
       "147194 -0.860927     0.950634 -1.020908 -1.465466  -1.132944   \n",
       "\n",
       "        Category_ASSAULT  Category_BURGLARY  Category_DRUG/NARCOTIC  \\\n",
       "0              -0.315846          -0.202024               -0.171087   \n",
       "1              -0.315846          -0.202024               -0.171087   \n",
       "2              -0.315846          -0.202024               -0.171087   \n",
       "3              -0.315846          -0.202024               -0.171087   \n",
       "4              -0.315846          -0.202024               -0.171087   \n",
       "...                  ...                ...                     ...   \n",
       "147190          3.166100          -0.202024               -0.171087   \n",
       "147191         -0.315846          -0.202024               -0.171087   \n",
       "147192         -0.315846          -0.202024               -0.171087   \n",
       "147193         -0.315846          -0.202024               -0.171087   \n",
       "147194         -0.315846          -0.202024               -0.171087   \n",
       "\n",
       "        Category_FRAUD  Category_LARCENY/THEFT  ...  \\\n",
       "0            -0.134147               -0.613840  ...   \n",
       "1            -0.134147               -0.613840  ...   \n",
       "2            -0.134147               -0.613840  ...   \n",
       "3            -0.134147               -0.613840  ...   \n",
       "4            -0.134147               -0.613840  ...   \n",
       "...                ...                     ...  ...   \n",
       "147190       -0.134147               -0.613840  ...   \n",
       "147191       -0.134147               -0.613840  ...   \n",
       "147192       -0.134147                1.629089  ...   \n",
       "147193       -0.134147                1.629089  ...   \n",
       "147194       -0.134147               -0.613840  ...   \n",
       "\n",
       "        Descript_POSSESSION OF NARCOTICS PARAPHERNALIA  \\\n",
       "0                                            -0.085168   \n",
       "1                                            -0.085168   \n",
       "2                                            -0.085168   \n",
       "3                                            -0.085168   \n",
       "4                                            -0.085168   \n",
       "...                                                ...   \n",
       "147190                                       -0.085168   \n",
       "147191                                       -0.085168   \n",
       "147192                                       -0.085168   \n",
       "147193                                       -0.085168   \n",
       "147194                                       -0.085168   \n",
       "\n",
       "        Descript_RESISTING ARREST  Descript_STOLEN AUTOMOBILE  \\\n",
       "0                       -0.093327                   -0.155175   \n",
       "1                       -0.093327                   -0.155175   \n",
       "2                       -0.093327                   -0.155175   \n",
       "3                       -0.093327                   -0.155175   \n",
       "4                       -0.093327                   -0.155175   \n",
       "...                           ...                         ...   \n",
       "147190                  -0.093327                   -0.155175   \n",
       "147191                  -0.093327                   -0.155175   \n",
       "147192                  -0.093327                   -0.155175   \n",
       "147193                  -0.093327                   -0.155175   \n",
       "147194                  -0.093327                   -0.155175   \n",
       "\n",
       "        Descript_STOLEN TRUCK  Descript_SUSPICIOUS OCCURRENCE  \\\n",
       "0                   -0.101159                       -0.141017   \n",
       "1                   -0.101159                       -0.141017   \n",
       "2                   -0.101159                       -0.141017   \n",
       "3                   -0.101159                       -0.141017   \n",
       "4                   -0.101159                       -0.141017   \n",
       "...                       ...                             ...   \n",
       "147190              -0.101159                       -0.141017   \n",
       "147191              -0.101159                       -0.141017   \n",
       "147192              -0.101159                       -0.141017   \n",
       "147193              -0.101159                       -0.141017   \n",
       "147194              -0.101159                       -0.141017   \n",
       "\n",
       "        Descript_THREATS AGAINST LIFE  Descript_TRAFFIC VIOLATION  \\\n",
       "0                           -0.107157                   -0.111078   \n",
       "1                           -0.107157                   -0.111078   \n",
       "2                           -0.107157                   -0.111078   \n",
       "3                           -0.107157                   -0.111078   \n",
       "4                           -0.107157                   -0.111078   \n",
       "...                               ...                         ...   \n",
       "147190                      -0.107157                   -0.111078   \n",
       "147191                      -0.107157                   -0.111078   \n",
       "147192                      -0.107157                   -0.111078   \n",
       "147193                      -0.107157                   -0.111078   \n",
       "147194                      -0.107157                   -0.111078   \n",
       "\n",
       "        Descript_TRAFFIC VIOLATION ARREST  Descript_TRESPASSING  \\\n",
       "0                               -0.123178             -0.092808   \n",
       "1                               -0.123178             -0.092808   \n",
       "2                               -0.123178             -0.092808   \n",
       "3                               -0.123178             -0.092808   \n",
       "4                               -0.123178             -0.092808   \n",
       "...                                   ...                   ...   \n",
       "147190                          -0.123178             -0.092808   \n",
       "147191                          -0.123178             -0.092808   \n",
       "147192                          -0.123178             -0.092808   \n",
       "147193                          -0.123178             -0.092808   \n",
       "147194                          -0.123178             -0.092808   \n",
       "\n",
       "        Descript_WARRANT ARREST  \n",
       "0                     -0.145267  \n",
       "1                     -0.145267  \n",
       "2                      6.883863  \n",
       "3                     -0.145267  \n",
       "4                     -0.145267  \n",
       "...                         ...  \n",
       "147190                -0.145267  \n",
       "147191                -0.145267  \n",
       "147192                -0.145267  \n",
       "147193                -0.145267  \n",
       "147194                -0.145267  \n",
       "\n",
       "[147195 rows x 62 columns]"
      ],
      "text/html": "<div>\n<style scoped>\n    .dataframe tbody tr th:only-of-type {\n        vertical-align: middle;\n    }\n\n    .dataframe tbody tr th {\n        vertical-align: top;\n    }\n\n    .dataframe thead th {\n        text-align: right;\n    }\n</style>\n<table border=\"1\" class=\"dataframe\">\n  <thead>\n    <tr style=\"text-align: right;\">\n      <th></th>\n      <th>ZipCode</th>\n      <th>PdDistricts</th>\n      <th>Months</th>\n      <th>Day</th>\n      <th>TimeOfDay</th>\n      <th>Category_ASSAULT</th>\n      <th>Category_BURGLARY</th>\n      <th>Category_DRUG/NARCOTIC</th>\n      <th>Category_FRAUD</th>\n      <th>Category_LARCENY/THEFT</th>\n      <th>...</th>\n      <th>Descript_POSSESSION OF NARCOTICS PARAPHERNALIA</th>\n      <th>Descript_RESISTING ARREST</th>\n      <th>Descript_STOLEN AUTOMOBILE</th>\n      <th>Descript_STOLEN TRUCK</th>\n      <th>Descript_SUSPICIOUS OCCURRENCE</th>\n      <th>Descript_THREATS AGAINST LIFE</th>\n      <th>Descript_TRAFFIC VIOLATION</th>\n      <th>Descript_TRAFFIC VIOLATION ARREST</th>\n      <th>Descript_TRESPASSING</th>\n      <th>Descript_WARRANT ARREST</th>\n    </tr>\n  </thead>\n  <tbody>\n    <tr>\n      <th>0</th>\n      <td>-0.860927</td>\n      <td>0.950634</td>\n      <td>-0.443307</td>\n      <td>-1.465466</td>\n      <td>0.720326</td>\n      <td>-0.315846</td>\n      <td>-0.202024</td>\n      <td>-0.171087</td>\n      <td>-0.134147</td>\n      <td>-0.613840</td>\n      <td>...</td>\n      <td>-0.085168</td>\n      <td>-0.093327</td>\n      <td>-0.155175</td>\n      <td>-0.101159</td>\n      <td>-0.141017</td>\n      <td>-0.107157</td>\n      <td>-0.111078</td>\n      <td>-0.123178</td>\n      <td>-0.092808</td>\n      <td>-0.145267</td>\n    </tr>\n    <tr>\n      <th>1</th>\n      <td>-0.860927</td>\n      <td>0.950634</td>\n      <td>-0.443307</td>\n      <td>-1.465466</td>\n      <td>0.720326</td>\n      <td>-0.315846</td>\n      <td>-0.202024</td>\n      <td>-0.171087</td>\n      <td>-0.134147</td>\n      <td>-0.613840</td>\n      <td>...</td>\n      <td>-0.085168</td>\n      <td>-0.093327</td>\n      <td>-0.155175</td>\n      <td>-0.101159</td>\n      <td>-0.141017</td>\n      <td>-0.107157</td>\n      <td>-0.111078</td>\n      <td>-0.123178</td>\n      <td>-0.092808</td>\n      <td>-0.145267</td>\n    </tr>\n    <tr>\n      <th>2</th>\n      <td>0.909206</td>\n      <td>-1.566836</td>\n      <td>-1.598508</td>\n      <td>-0.970159</td>\n      <td>-1.132944</td>\n      <td>-0.315846</td>\n      <td>-0.202024</td>\n      <td>-0.171087</td>\n      <td>-0.134147</td>\n      <td>-0.613840</td>\n      <td>...</td>\n      <td>-0.085168</td>\n      <td>-0.093327</td>\n      <td>-0.155175</td>\n      <td>-0.101159</td>\n      <td>-0.141017</td>\n      <td>-0.107157</td>\n      <td>-0.111078</td>\n      <td>-0.123178</td>\n      <td>-0.092808</td>\n      <td>6.883863</td>\n    </tr>\n    <tr>\n      <th>3</th>\n      <td>-0.439467</td>\n      <td>1.669911</td>\n      <td>-0.443307</td>\n      <td>1.011070</td>\n      <td>-0.206309</td>\n      <td>-0.315846</td>\n      <td>-0.202024</td>\n      <td>-0.171087</td>\n      <td>-0.134147</td>\n      <td>-0.613840</td>\n      <td>...</td>\n      <td>-0.085168</td>\n      <td>-0.093327</td>\n      <td>-0.155175</td>\n      <td>-0.101159</td>\n      <td>-0.141017</td>\n      <td>-0.107157</td>\n      <td>-0.111078</td>\n      <td>-0.123178</td>\n      <td>-0.092808</td>\n      <td>-0.145267</td>\n    </tr>\n    <tr>\n      <th>4</th>\n      <td>-0.945219</td>\n      <td>-0.487921</td>\n      <td>-0.443307</td>\n      <td>-1.465466</td>\n      <td>1.646961</td>\n      <td>-0.315846</td>\n      <td>-0.202024</td>\n      <td>-0.171087</td>\n      <td>-0.134147</td>\n      <td>-0.613840</td>\n      <td>...</td>\n      <td>-0.085168</td>\n      <td>-0.093327</td>\n      <td>-0.155175</td>\n      <td>-0.101159</td>\n      <td>-0.141017</td>\n      <td>-0.107157</td>\n      <td>-0.111078</td>\n      <td>-0.123178</td>\n      <td>-0.092808</td>\n      <td>-0.145267</td>\n    </tr>\n    <tr>\n      <th>...</th>\n      <td>...</td>\n      <td>...</td>\n      <td>...</td>\n      <td>...</td>\n      <td>...</td>\n      <td>...</td>\n      <td>...</td>\n      <td>...</td>\n      <td>...</td>\n      <td>...</td>\n      <td>...</td>\n      <td>...</td>\n      <td>...</td>\n      <td>...</td>\n      <td>...</td>\n      <td>...</td>\n      <td>...</td>\n      <td>...</td>\n      <td>...</td>\n      <td>...</td>\n      <td>...</td>\n    </tr>\n    <tr>\n      <th>147190</th>\n      <td>0.403454</td>\n      <td>0.231357</td>\n      <td>-1.020908</td>\n      <td>-1.465466</td>\n      <td>-0.206309</td>\n      <td>3.166100</td>\n      <td>-0.202024</td>\n      <td>-0.171087</td>\n      <td>-0.134147</td>\n      <td>-0.613840</td>\n      <td>...</td>\n      <td>-0.085168</td>\n      <td>-0.093327</td>\n      <td>-0.155175</td>\n      <td>-0.101159</td>\n      <td>-0.141017</td>\n      <td>-0.107157</td>\n      <td>-0.111078</td>\n      <td>-0.123178</td>\n      <td>-0.092808</td>\n      <td>-0.145267</td>\n    </tr>\n    <tr>\n      <th>147191</th>\n      <td>-0.776635</td>\n      <td>-1.207198</td>\n      <td>-1.020908</td>\n      <td>-1.465466</td>\n      <td>0.720326</td>\n      <td>-0.315846</td>\n      <td>-0.202024</td>\n      <td>-0.171087</td>\n      <td>-0.134147</td>\n      <td>-0.613840</td>\n      <td>...</td>\n      <td>-0.085168</td>\n      <td>-0.093327</td>\n      <td>-0.155175</td>\n      <td>-0.101159</td>\n      <td>-0.141017</td>\n      <td>-0.107157</td>\n      <td>-0.111078</td>\n      <td>-0.123178</td>\n      <td>-0.092808</td>\n      <td>-0.145267</td>\n    </tr>\n    <tr>\n      <th>147192</th>\n      <td>-0.439467</td>\n      <td>-1.207198</td>\n      <td>-1.020908</td>\n      <td>0.515763</td>\n      <td>-0.206309</td>\n      <td>-0.315846</td>\n      <td>-0.202024</td>\n      <td>-0.171087</td>\n      <td>-0.134147</td>\n      <td>1.629089</td>\n      <td>...</td>\n      <td>-0.085168</td>\n      <td>-0.093327</td>\n      <td>-0.155175</td>\n      <td>-0.101159</td>\n      <td>-0.141017</td>\n      <td>-0.107157</td>\n      <td>-0.111078</td>\n      <td>-0.123178</td>\n      <td>-0.092808</td>\n      <td>-0.145267</td>\n    </tr>\n    <tr>\n      <th>147193</th>\n      <td>-0.439467</td>\n      <td>-1.207198</td>\n      <td>-1.020908</td>\n      <td>-1.465466</td>\n      <td>0.720326</td>\n      <td>-0.315846</td>\n      <td>-0.202024</td>\n      <td>-0.171087</td>\n      <td>-0.134147</td>\n      <td>1.629089</td>\n      <td>...</td>\n      <td>-0.085168</td>\n      <td>-0.093327</td>\n      <td>-0.155175</td>\n      <td>-0.101159</td>\n      <td>-0.141017</td>\n      <td>-0.107157</td>\n      <td>-0.111078</td>\n      <td>-0.123178</td>\n      <td>-0.092808</td>\n      <td>-0.145267</td>\n    </tr>\n    <tr>\n      <th>147194</th>\n      <td>-0.860927</td>\n      <td>0.950634</td>\n      <td>-1.020908</td>\n      <td>-1.465466</td>\n      <td>-1.132944</td>\n      <td>-0.315846</td>\n      <td>-0.202024</td>\n      <td>-0.171087</td>\n      <td>-0.134147</td>\n      <td>-0.613840</td>\n      <td>...</td>\n      <td>-0.085168</td>\n      <td>-0.093327</td>\n      <td>-0.155175</td>\n      <td>-0.101159</td>\n      <td>-0.141017</td>\n      <td>-0.107157</td>\n      <td>-0.111078</td>\n      <td>-0.123178</td>\n      <td>-0.092808</td>\n      <td>-0.145267</td>\n    </tr>\n  </tbody>\n</table>\n<p>147195 rows × 62 columns</p>\n</div>"
     },
     "metadata": {},
     "execution_count": 11
    }
   ],
   "source": [
    "#drop resolutions column now to get dataframe ready for PCA \n",
    "scaled_features.head()\n",
    "scaled_features.drop(columns = \"Resolutions\")"
   ]
  },
  {
   "cell_type": "code",
   "execution_count": 12,
   "metadata": {},
   "outputs": [
    {
     "output_type": "execute_result",
     "data": {
      "text/plain": [
       "    ZipCode  PdDistricts    Months       Day  TimeOfDay  Resolutions  \\\n",
       "0 -0.860927     0.950634 -0.443307 -1.465466   0.720326            0   \n",
       "1 -0.860927     0.950634 -0.443307 -1.465466   0.720326            0   \n",
       "2  0.909206    -1.566836 -1.598508 -0.970159  -1.132944            0   \n",
       "3 -0.439467     1.669911 -0.443307  1.011070  -0.206309            1   \n",
       "4 -0.945219    -0.487921 -0.443307 -1.465466   1.646961            1   \n",
       "\n",
       "   Category_ASSAULT  Category_BURGLARY  Category_DRUG/NARCOTIC  \\\n",
       "0         -0.315846          -0.202024               -0.171087   \n",
       "1         -0.315846          -0.202024               -0.171087   \n",
       "2         -0.315846          -0.202024               -0.171087   \n",
       "3         -0.315846          -0.202024               -0.171087   \n",
       "4         -0.315846          -0.202024               -0.171087   \n",
       "\n",
       "   Category_FRAUD  ...  Descript_POSSESSION OF NARCOTICS PARAPHERNALIA  \\\n",
       "0       -0.134147  ...                                       -0.085168   \n",
       "1       -0.134147  ...                                       -0.085168   \n",
       "2       -0.134147  ...                                       -0.085168   \n",
       "3       -0.134147  ...                                       -0.085168   \n",
       "4       -0.134147  ...                                       -0.085168   \n",
       "\n",
       "   Descript_RESISTING ARREST  Descript_STOLEN AUTOMOBILE  \\\n",
       "0                  -0.093327                   -0.155175   \n",
       "1                  -0.093327                   -0.155175   \n",
       "2                  -0.093327                   -0.155175   \n",
       "3                  -0.093327                   -0.155175   \n",
       "4                  -0.093327                   -0.155175   \n",
       "\n",
       "   Descript_STOLEN TRUCK  Descript_SUSPICIOUS OCCURRENCE  \\\n",
       "0              -0.101159                       -0.141017   \n",
       "1              -0.101159                       -0.141017   \n",
       "2              -0.101159                       -0.141017   \n",
       "3              -0.101159                       -0.141017   \n",
       "4              -0.101159                       -0.141017   \n",
       "\n",
       "   Descript_THREATS AGAINST LIFE  Descript_TRAFFIC VIOLATION  \\\n",
       "0                      -0.107157                   -0.111078   \n",
       "1                      -0.107157                   -0.111078   \n",
       "2                      -0.107157                   -0.111078   \n",
       "3                      -0.107157                   -0.111078   \n",
       "4                      -0.107157                   -0.111078   \n",
       "\n",
       "   Descript_TRAFFIC VIOLATION ARREST  Descript_TRESPASSING  \\\n",
       "0                          -0.123178             -0.092808   \n",
       "1                          -0.123178             -0.092808   \n",
       "2                          -0.123178             -0.092808   \n",
       "3                          -0.123178             -0.092808   \n",
       "4                          -0.123178             -0.092808   \n",
       "\n",
       "   Descript_WARRANT ARREST  \n",
       "0                -0.145267  \n",
       "1                -0.145267  \n",
       "2                 6.883863  \n",
       "3                -0.145267  \n",
       "4                -0.145267  \n",
       "\n",
       "[5 rows x 63 columns]"
      ],
      "text/html": "<div>\n<style scoped>\n    .dataframe tbody tr th:only-of-type {\n        vertical-align: middle;\n    }\n\n    .dataframe tbody tr th {\n        vertical-align: top;\n    }\n\n    .dataframe thead th {\n        text-align: right;\n    }\n</style>\n<table border=\"1\" class=\"dataframe\">\n  <thead>\n    <tr style=\"text-align: right;\">\n      <th></th>\n      <th>ZipCode</th>\n      <th>PdDistricts</th>\n      <th>Months</th>\n      <th>Day</th>\n      <th>TimeOfDay</th>\n      <th>Resolutions</th>\n      <th>Category_ASSAULT</th>\n      <th>Category_BURGLARY</th>\n      <th>Category_DRUG/NARCOTIC</th>\n      <th>Category_FRAUD</th>\n      <th>...</th>\n      <th>Descript_POSSESSION OF NARCOTICS PARAPHERNALIA</th>\n      <th>Descript_RESISTING ARREST</th>\n      <th>Descript_STOLEN AUTOMOBILE</th>\n      <th>Descript_STOLEN TRUCK</th>\n      <th>Descript_SUSPICIOUS OCCURRENCE</th>\n      <th>Descript_THREATS AGAINST LIFE</th>\n      <th>Descript_TRAFFIC VIOLATION</th>\n      <th>Descript_TRAFFIC VIOLATION ARREST</th>\n      <th>Descript_TRESPASSING</th>\n      <th>Descript_WARRANT ARREST</th>\n    </tr>\n  </thead>\n  <tbody>\n    <tr>\n      <th>0</th>\n      <td>-0.860927</td>\n      <td>0.950634</td>\n      <td>-0.443307</td>\n      <td>-1.465466</td>\n      <td>0.720326</td>\n      <td>0</td>\n      <td>-0.315846</td>\n      <td>-0.202024</td>\n      <td>-0.171087</td>\n      <td>-0.134147</td>\n      <td>...</td>\n      <td>-0.085168</td>\n      <td>-0.093327</td>\n      <td>-0.155175</td>\n      <td>-0.101159</td>\n      <td>-0.141017</td>\n      <td>-0.107157</td>\n      <td>-0.111078</td>\n      <td>-0.123178</td>\n      <td>-0.092808</td>\n      <td>-0.145267</td>\n    </tr>\n    <tr>\n      <th>1</th>\n      <td>-0.860927</td>\n      <td>0.950634</td>\n      <td>-0.443307</td>\n      <td>-1.465466</td>\n      <td>0.720326</td>\n      <td>0</td>\n      <td>-0.315846</td>\n      <td>-0.202024</td>\n      <td>-0.171087</td>\n      <td>-0.134147</td>\n      <td>...</td>\n      <td>-0.085168</td>\n      <td>-0.093327</td>\n      <td>-0.155175</td>\n      <td>-0.101159</td>\n      <td>-0.141017</td>\n      <td>-0.107157</td>\n      <td>-0.111078</td>\n      <td>-0.123178</td>\n      <td>-0.092808</td>\n      <td>-0.145267</td>\n    </tr>\n    <tr>\n      <th>2</th>\n      <td>0.909206</td>\n      <td>-1.566836</td>\n      <td>-1.598508</td>\n      <td>-0.970159</td>\n      <td>-1.132944</td>\n      <td>0</td>\n      <td>-0.315846</td>\n      <td>-0.202024</td>\n      <td>-0.171087</td>\n      <td>-0.134147</td>\n      <td>...</td>\n      <td>-0.085168</td>\n      <td>-0.093327</td>\n      <td>-0.155175</td>\n      <td>-0.101159</td>\n      <td>-0.141017</td>\n      <td>-0.107157</td>\n      <td>-0.111078</td>\n      <td>-0.123178</td>\n      <td>-0.092808</td>\n      <td>6.883863</td>\n    </tr>\n    <tr>\n      <th>3</th>\n      <td>-0.439467</td>\n      <td>1.669911</td>\n      <td>-0.443307</td>\n      <td>1.011070</td>\n      <td>-0.206309</td>\n      <td>1</td>\n      <td>-0.315846</td>\n      <td>-0.202024</td>\n      <td>-0.171087</td>\n      <td>-0.134147</td>\n      <td>...</td>\n      <td>-0.085168</td>\n      <td>-0.093327</td>\n      <td>-0.155175</td>\n      <td>-0.101159</td>\n      <td>-0.141017</td>\n      <td>-0.107157</td>\n      <td>-0.111078</td>\n      <td>-0.123178</td>\n      <td>-0.092808</td>\n      <td>-0.145267</td>\n    </tr>\n    <tr>\n      <th>4</th>\n      <td>-0.945219</td>\n      <td>-0.487921</td>\n      <td>-0.443307</td>\n      <td>-1.465466</td>\n      <td>1.646961</td>\n      <td>1</td>\n      <td>-0.315846</td>\n      <td>-0.202024</td>\n      <td>-0.171087</td>\n      <td>-0.134147</td>\n      <td>...</td>\n      <td>-0.085168</td>\n      <td>-0.093327</td>\n      <td>-0.155175</td>\n      <td>-0.101159</td>\n      <td>-0.141017</td>\n      <td>-0.107157</td>\n      <td>-0.111078</td>\n      <td>-0.123178</td>\n      <td>-0.092808</td>\n      <td>-0.145267</td>\n    </tr>\n  </tbody>\n</table>\n<p>5 rows × 63 columns</p>\n</div>"
     },
     "metadata": {},
     "execution_count": 12
    }
   ],
   "source": [
    "ml_df = scaled_features\n",
    "ml_df.head()"
   ]
  },
  {
   "cell_type": "code",
   "execution_count": 13,
   "metadata": {},
   "outputs": [
    {
     "output_type": "execute_result",
     "data": {
      "text/plain": [
       "array([[ 1.00000679e+00, -2.42182413e-01,  7.50984651e-03, ...,\n",
       "        -4.66277050e-03, -4.65223481e-03, -2.65663045e-02],\n",
       "       [-2.42182413e-01,  1.00000679e+00, -6.50692929e-03, ...,\n",
       "         7.97937823e-03,  1.95516739e-03,  2.56055687e-02],\n",
       "       [ 7.50984651e-03, -6.50692929e-03,  1.00000679e+00, ...,\n",
       "         4.20500797e-04,  1.46079149e-03, -9.43971555e-03],\n",
       "       ...,\n",
       "       [-4.66277050e-03,  7.97937823e-03,  4.20500797e-04, ...,\n",
       "         1.00000679e+00, -1.14319738e-02, -1.78939220e-02],\n",
       "       [-4.65223481e-03,  1.95516739e-03,  1.46079149e-03, ...,\n",
       "        -1.14319738e-02,  1.00000679e+00, -1.34819948e-02],\n",
       "       [-2.65663045e-02,  2.56055687e-02, -9.43971555e-03, ...,\n",
       "        -1.78939220e-02, -1.34819948e-02,  1.00000679e+00]])"
      ]
     },
     "metadata": {},
     "execution_count": 13
    }
   ],
   "source": [
    "df_cov_matrix = np.cov(scaled_features.T)\n",
    "df_cov_matrix"
   ]
  },
  {
   "cell_type": "code",
   "execution_count": 14,
   "metadata": {},
   "outputs": [
    {
     "output_type": "stream",
     "name": "stdout",
     "text": [
      "Eigenvectors \n[[-3.46226203e-02  4.65370499e-02 -3.08608652e-02 ... -5.61839045e-03\n   9.25842061e-03  3.92245712e-03]\n [ 2.95565894e-02 -4.13968529e-02  2.02805631e-02 ... -1.06428261e-03\n  -2.23340706e-03 -9.84587100e-03]\n [ 9.40180578e-03  1.36442850e-02 -1.80212940e-03 ...  2.85277162e-02\n  -3.47023632e-02  1.33728952e-02]\n ...\n [-6.75575255e-02 -9.09813571e-02  8.70443477e-03 ... -1.00177878e-01\n   1.38900451e-01  1.73948359e-03]\n [-3.35085185e-02 -2.35472973e-02  1.39954919e-02 ...  1.45233997e-04\n  -9.07520249e-05  8.93082681e-04]\n [-5.62322553e-02 -1.92985200e-01  3.33424300e-01 ...  3.25206356e-02\n  -1.58907439e-02  3.02807878e-02]]\nEigenvalues \n[2.36452417e+00 2.05620278e+00 2.03340965e+00 2.02520913e+00\n 2.00419477e+00 1.97045568e+00 1.94366763e+00 1.93917522e+00\n 1.86474774e+00 1.84756963e+00 1.81993145e+00 1.73176823e+00\n 1.52124875e+00 4.30672770e-01 2.73962083e-01 3.33308605e-02\n 2.00386838e-01 1.78344178e-01 1.64513642e-01 1.50949220e-01\n 6.12604275e-02 7.44055487e-02 8.91202585e-02 1.17697092e-01\n 9.61159882e-02 1.04821210e-01 6.14582332e-01 7.49739049e-01\n 1.24565700e+00 8.67135371e-16 2.57219624e-16 9.25785865e-01\n 1.08275025e+00 9.65814987e-01 1.06145017e+00 9.80029089e-01\n 1.04878139e+00 9.93218868e-01 1.03620199e+00 1.03401545e+00\n 1.02939572e+00 1.02810973e+00 1.02723979e+00 1.02381808e+00\n 1.02342525e+00 1.02029100e+00 1.01887759e+00 1.01808331e+00\n 1.01706561e+00 1.01515698e+00 1.01458906e+00 1.01372341e+00\n 1.01320778e+00 1.01250265e+00 1.00781003e+00 1.00800527e+00\n 1.00834836e+00 1.00867191e+00 1.00926683e+00 1.01166548e+00\n 1.01135953e+00 1.00983295e+00 1.01033908e+00]\n"
     ]
    }
   ],
   "source": [
    "#calculate eigenvectors and eigenvalues on covariance matrix\n",
    "eig_vals, eig_vecs = np.linalg.eig(df_cov_matrix)\n",
    "print('Eigenvectors \\n%s' %eig_vecs)\n",
    "print('Eigenvalues \\n%s' %eig_vals)"
   ]
  },
  {
   "cell_type": "code",
   "execution_count": 15,
   "metadata": {},
   "outputs": [
    {
     "output_type": "stream",
     "name": "stdout",
     "text": [
      "Eigenvalues in descending order:\n2.3645241658220755\n2.056202780594434\n2.033409650900504\n2.0252091274729906\n2.0041947656667918\n1.970455675133868\n1.9436676343477224\n1.9391752173334584\n1.8647477399002483\n1.8475696322943338\n1.8199314498053618\n1.7317682318182188\n1.521248753684258\n0.4306727702237229\n0.27396208313609277\n0.03333086053680832\n0.20038683841635355\n0.17834417848591494\n0.164513641573014\n0.15094922036263947\n0.061260427506220606\n0.07440554872727903\n0.08912025849035722\n0.11769709246106282\n0.09611598817786506\n0.10482120977355623\n0.6145823322091633\n0.7497390489751524\n1.2456569998538947\n8.671353713730055e-16\n2.572196238348946e-16\n0.9257858651223193\n1.0827502486239116\n0.9658149866063392\n1.061450173348407\n0.9800290893265353\n1.0487813905358752\n0.993218867947105\n1.036201990427189\n1.034015453950462\n1.029395722766557\n1.0281097305044093\n1.0272397948710583\n1.0238180824100471\n1.023425246892059\n1.0202909979963297\n1.018877585189361\n1.01808331107163\n1.0170656132585323\n1.015156980891976\n1.0145890642024906\n1.0137234119412162\n1.0132077819827565\n1.0125026536819384\n1.0078100323238952\n1.0080052681753697\n1.0083483607621158\n1.0086719124097834\n1.0092668303402594\n1.0116654763570077\n1.0113595255519527\n1.0098329536629156\n1.010339077468571\n"
     ]
    }
   ],
   "source": [
    "#sort eigenvalues in decreasing order. first value is most significant and forms our first principal component\n",
    "eig_pairs = [(np.abs(eig_vals[i]), eig_vecs[:,i]) for i in range(len(eig_vals))]\n",
    "print('Eigenvalues in descending order:')\n",
    "for i in eig_pairs:\n",
    "    print(i[0])"
   ]
  },
  {
   "cell_type": "code",
   "execution_count": 16,
   "metadata": {},
   "outputs": [
    {
     "output_type": "stream",
     "name": "stdout",
     "text": [
      "Variance captured by each component is \n [3.8016999144865364, 3.3059784493405986, 3.269331482284473, 3.256146618427401, 3.2223595678925037, 3.1681136018550724, 3.125043586399957, 3.1178206442004943, 2.9981555806400593, 2.9705364887481642, 2.9260996090056572, 2.784350117447363, 2.445875301419683, 2.00277678624514, 1.7408540741949605, 1.7066076513738644, 1.686238686137129, 1.6660134310905783, 1.6624979011345946, 1.6550702622461184, 1.6530026341187747, 1.651603944999533, 1.6461024897137497, 1.6454708857839913, 1.6404316166020112, 1.6381591207548314, 1.6368820807951208, 1.635245818520896, 1.6321771049041756, 1.6312640041369852, 1.6298722018559042, 1.6290431680920217, 1.6279094574538855, 1.6265634373917508, 1.6260715273634132, 1.6244308431837353, 1.6236170934845393, 1.6227068761061594, 1.6217503625386054, 1.621230153741821, 1.6206785268747552, 1.6203646251897637, 1.5969048402718047, 1.5756982140174762, 1.5528446716951103, 1.4884855461160906, 1.2054361378815068, 0.9881301420288908, 0.6924389513109375, 0.44047831825348704, 0.3221834809232409, 0.2867431248533465, 0.2645062825494752, 0.24269730309351278, 0.18923427927367856, 0.16853233728484973, 0.15453601587934637, 0.1432882285489416, 0.11962980642047098, 0.09849498067228983, 0.05358961074880457, 1.394186836762939e-15, 4.1355966501505415e-16]\nCumulative variance captured as we travel with each component \n [  3.80169991   7.10767836  10.37700985  13.63315646  16.85551603\n  20.02362963  23.14867322  26.26649386  29.26464945  32.23518593\n  35.16128554  37.94563566  40.39151096  42.39428775  44.13514182\n  45.84174947  47.52798816  49.19400159  50.85649949  52.51156975\n  54.16457239  55.81617633  57.46227882  59.10774971  60.74818133\n  62.38634045  64.02322253  65.65846835  67.29064545  68.92190945\n  70.55178166  72.18082482  73.80873428  75.43529772  77.06136925\n  78.68580009  80.30941718  81.93212406  83.55387442  85.17510458\n  86.7957831   88.41614773  90.01305257  91.58875078  93.14159545\n  94.630081    95.83551714  96.82364728  97.51608623  97.95656455\n  98.27874803  98.56549116  98.82999744  99.07269474  99.26192902\n  99.43046136  99.58499737  99.7282856   99.84791541  99.94641039\n 100.         100.         100.        ]\n"
     ]
    }
   ],
   "source": [
    "#selecting the number of principal components\n",
    "total = sum(eig_vals)\n",
    "var_exp = [(i/total)*100 for i in sorted(eig_vals, reverse=True)]\n",
    "cum_var_exp = np.cumsum(var_exp)\n",
    "print(\"Variance captured by each component is \\n\", var_exp)\n",
    "print(\"Cumulative variance captured as we travel with each component \\n\", cum_var_exp)"
   ]
  },
  {
   "cell_type": "code",
   "execution_count": 17,
   "metadata": {},
   "outputs": [
    {
     "output_type": "display_data",
     "data": {
      "text/plain": "<Figure size 432x288 with 1 Axes>",
      "image/svg+xml": "<?xml version=\"1.0\" encoding=\"utf-8\" standalone=\"no\"?>\r\n<!DOCTYPE svg PUBLIC \"-//W3C//DTD SVG 1.1//EN\"\r\n  \"http://www.w3.org/Graphics/SVG/1.1/DTD/svg11.dtd\">\r\n<!-- Created with matplotlib (https://matplotlib.org/) -->\r\n<svg height=\"266.520469pt\" version=\"1.1\" viewBox=\"0 0 388.964375 266.520469\" width=\"388.964375pt\" xmlns=\"http://www.w3.org/2000/svg\" xmlns:xlink=\"http://www.w3.org/1999/xlink\">\r\n <defs>\r\n  <style type=\"text/css\">\r\n*{stroke-linecap:butt;stroke-linejoin:round;}\r\n  </style>\r\n </defs>\r\n <g id=\"figure_1\">\r\n  <g id=\"patch_1\">\r\n   <path d=\"M 0 266.520469 \r\nL 388.964375 266.520469 \r\nL 388.964375 0 \r\nL 0 0 \r\nz\r\n\" style=\"fill:#ffffff;\"/>\r\n  </g>\r\n  <g id=\"axes_1\">\r\n   <g id=\"patch_2\">\r\n    <path d=\"M 46.964375 224.64 \r\nL 381.764375 224.64 \r\nL 381.764375 7.2 \r\nL 46.964375 7.2 \r\nz\r\n\" style=\"fill:#ffffff;\"/>\r\n   </g>\r\n   <g id=\"matplotlib.axis_1\">\r\n    <g id=\"xtick_1\">\r\n     <g id=\"line2d_1\">\r\n      <path clip-path=\"url(#p09f5a4cd90)\" d=\"M 62.182557 224.64 \r\nL 62.182557 7.2 \r\n\" style=\"fill:none;stroke:#cccccc;stroke-linecap:round;\"/>\r\n     </g>\r\n     <g id=\"text_1\">\r\n      <!-- 0 -->\r\n      <defs>\r\n       <path d=\"M 4.15625 35.296875 \r\nQ 4.15625 48 6.765625 55.734375 \r\nQ 9.375 63.484375 14.515625 67.671875 \r\nQ 19.671875 71.875 27.484375 71.875 \r\nQ 33.25 71.875 37.59375 69.546875 \r\nQ 41.9375 67.234375 44.765625 62.859375 \r\nQ 47.609375 58.5 49.21875 52.21875 \r\nQ 50.828125 45.953125 50.828125 35.296875 \r\nQ 50.828125 22.703125 48.234375 14.96875 \r\nQ 45.65625 7.234375 40.5 3 \r\nQ 35.359375 -1.21875 27.484375 -1.21875 \r\nQ 17.140625 -1.21875 11.234375 6.203125 \r\nQ 4.15625 15.140625 4.15625 35.296875 \r\nz\r\nM 13.1875 35.296875 \r\nQ 13.1875 17.671875 17.3125 11.828125 \r\nQ 21.4375 6 27.484375 6 \r\nQ 33.546875 6 37.671875 11.859375 \r\nQ 41.796875 17.71875 41.796875 35.296875 \r\nQ 41.796875 52.984375 37.671875 58.78125 \r\nQ 33.546875 64.59375 27.390625 64.59375 \r\nQ 21.34375 64.59375 17.71875 59.46875 \r\nQ 13.1875 52.9375 13.1875 35.296875 \r\nz\r\n\" id=\"ArialMT-48\"/>\r\n      </defs>\r\n      <g style=\"fill:#262626;\" transform=\"translate(59.124041 242.013594)scale(0.11 -0.11)\">\r\n       <use xlink:href=\"#ArialMT-48\"/>\r\n      </g>\r\n     </g>\r\n    </g>\r\n    <g id=\"xtick_2\">\r\n     <g id=\"line2d_2\">\r\n      <path clip-path=\"url(#p09f5a4cd90)\" d=\"M 112.078235 224.64 \r\nL 112.078235 7.2 \r\n\" style=\"fill:none;stroke:#cccccc;stroke-linecap:round;\"/>\r\n     </g>\r\n     <g id=\"text_2\">\r\n      <!-- 10 -->\r\n      <defs>\r\n       <path d=\"M 37.25 0 \r\nL 28.46875 0 \r\nL 28.46875 56 \r\nQ 25.296875 52.984375 20.140625 49.953125 \r\nQ 14.984375 46.921875 10.890625 45.40625 \r\nL 10.890625 53.90625 \r\nQ 18.265625 57.375 23.78125 62.296875 \r\nQ 29.296875 67.234375 31.59375 71.875 \r\nL 37.25 71.875 \r\nz\r\n\" id=\"ArialMT-49\"/>\r\n      </defs>\r\n      <g style=\"fill:#262626;\" transform=\"translate(105.961204 242.013594)scale(0.11 -0.11)\">\r\n       <use xlink:href=\"#ArialMT-49\"/>\r\n       <use x=\"55.615234\" xlink:href=\"#ArialMT-48\"/>\r\n      </g>\r\n     </g>\r\n    </g>\r\n    <g id=\"xtick_3\">\r\n     <g id=\"line2d_3\">\r\n      <path clip-path=\"url(#p09f5a4cd90)\" d=\"M 161.973913 224.64 \r\nL 161.973913 7.2 \r\n\" style=\"fill:none;stroke:#cccccc;stroke-linecap:round;\"/>\r\n     </g>\r\n     <g id=\"text_3\">\r\n      <!-- 20 -->\r\n      <defs>\r\n       <path d=\"M 50.34375 8.453125 \r\nL 50.34375 0 \r\nL 3.03125 0 \r\nQ 2.9375 3.171875 4.046875 6.109375 \r\nQ 5.859375 10.9375 9.828125 15.625 \r\nQ 13.8125 20.3125 21.34375 26.46875 \r\nQ 33.015625 36.03125 37.109375 41.625 \r\nQ 41.21875 47.21875 41.21875 52.203125 \r\nQ 41.21875 57.421875 37.46875 61 \r\nQ 33.734375 64.59375 27.734375 64.59375 \r\nQ 21.390625 64.59375 17.578125 60.78125 \r\nQ 13.765625 56.984375 13.71875 50.25 \r\nL 4.6875 51.171875 \r\nQ 5.609375 61.28125 11.65625 66.578125 \r\nQ 17.71875 71.875 27.9375 71.875 \r\nQ 38.234375 71.875 44.234375 66.15625 \r\nQ 50.25 60.453125 50.25 52 \r\nQ 50.25 47.703125 48.484375 43.546875 \r\nQ 46.734375 39.40625 42.65625 34.8125 \r\nQ 38.578125 30.21875 29.109375 22.21875 \r\nQ 21.1875 15.578125 18.9375 13.203125 \r\nQ 16.703125 10.84375 15.234375 8.453125 \r\nz\r\n\" id=\"ArialMT-50\"/>\r\n      </defs>\r\n      <g style=\"fill:#262626;\" transform=\"translate(155.856882 242.013594)scale(0.11 -0.11)\">\r\n       <use xlink:href=\"#ArialMT-50\"/>\r\n       <use x=\"55.615234\" xlink:href=\"#ArialMT-48\"/>\r\n      </g>\r\n     </g>\r\n    </g>\r\n    <g id=\"xtick_4\">\r\n     <g id=\"line2d_4\">\r\n      <path clip-path=\"url(#p09f5a4cd90)\" d=\"M 211.869591 224.64 \r\nL 211.869591 7.2 \r\n\" style=\"fill:none;stroke:#cccccc;stroke-linecap:round;\"/>\r\n     </g>\r\n     <g id=\"text_4\">\r\n      <!-- 30 -->\r\n      <defs>\r\n       <path d=\"M 4.203125 18.890625 \r\nL 12.984375 20.0625 \r\nQ 14.5 12.59375 18.140625 9.296875 \r\nQ 21.78125 6 27 6 \r\nQ 33.203125 6 37.46875 10.296875 \r\nQ 41.75 14.59375 41.75 20.953125 \r\nQ 41.75 27 37.796875 30.921875 \r\nQ 33.84375 34.859375 27.734375 34.859375 \r\nQ 25.25 34.859375 21.53125 33.890625 \r\nL 22.515625 41.609375 \r\nQ 23.390625 41.5 23.921875 41.5 \r\nQ 29.546875 41.5 34.03125 44.421875 \r\nQ 38.53125 47.359375 38.53125 53.46875 \r\nQ 38.53125 58.296875 35.25 61.46875 \r\nQ 31.984375 64.65625 26.8125 64.65625 \r\nQ 21.6875 64.65625 18.265625 61.421875 \r\nQ 14.84375 58.203125 13.875 51.765625 \r\nL 5.078125 53.328125 \r\nQ 6.6875 62.15625 12.390625 67.015625 \r\nQ 18.109375 71.875 26.609375 71.875 \r\nQ 32.46875 71.875 37.390625 69.359375 \r\nQ 42.328125 66.84375 44.9375 62.5 \r\nQ 47.5625 58.15625 47.5625 53.265625 \r\nQ 47.5625 48.640625 45.0625 44.828125 \r\nQ 42.578125 41.015625 37.703125 38.765625 \r\nQ 44.046875 37.3125 47.5625 32.6875 \r\nQ 51.078125 28.078125 51.078125 21.140625 \r\nQ 51.078125 11.765625 44.234375 5.25 \r\nQ 37.40625 -1.265625 26.953125 -1.265625 \r\nQ 17.53125 -1.265625 11.296875 4.34375 \r\nQ 5.078125 9.96875 4.203125 18.890625 \r\nz\r\n\" id=\"ArialMT-51\"/>\r\n      </defs>\r\n      <g style=\"fill:#262626;\" transform=\"translate(205.75256 242.013594)scale(0.11 -0.11)\">\r\n       <use xlink:href=\"#ArialMT-51\"/>\r\n       <use x=\"55.615234\" xlink:href=\"#ArialMT-48\"/>\r\n      </g>\r\n     </g>\r\n    </g>\r\n    <g id=\"xtick_5\">\r\n     <g id=\"line2d_5\">\r\n      <path clip-path=\"url(#p09f5a4cd90)\" d=\"M 261.765269 224.64 \r\nL 261.765269 7.2 \r\n\" style=\"fill:none;stroke:#cccccc;stroke-linecap:round;\"/>\r\n     </g>\r\n     <g id=\"text_5\">\r\n      <!-- 40 -->\r\n      <defs>\r\n       <path d=\"M 32.328125 0 \r\nL 32.328125 17.140625 \r\nL 1.265625 17.140625 \r\nL 1.265625 25.203125 \r\nL 33.9375 71.578125 \r\nL 41.109375 71.578125 \r\nL 41.109375 25.203125 \r\nL 50.78125 25.203125 \r\nL 50.78125 17.140625 \r\nL 41.109375 17.140625 \r\nL 41.109375 0 \r\nz\r\nM 32.328125 25.203125 \r\nL 32.328125 57.46875 \r\nL 9.90625 25.203125 \r\nz\r\n\" id=\"ArialMT-52\"/>\r\n      </defs>\r\n      <g style=\"fill:#262626;\" transform=\"translate(255.648238 242.013594)scale(0.11 -0.11)\">\r\n       <use xlink:href=\"#ArialMT-52\"/>\r\n       <use x=\"55.615234\" xlink:href=\"#ArialMT-48\"/>\r\n      </g>\r\n     </g>\r\n    </g>\r\n    <g id=\"xtick_6\">\r\n     <g id=\"line2d_6\">\r\n      <path clip-path=\"url(#p09f5a4cd90)\" d=\"M 311.660947 224.64 \r\nL 311.660947 7.2 \r\n\" style=\"fill:none;stroke:#cccccc;stroke-linecap:round;\"/>\r\n     </g>\r\n     <g id=\"text_6\">\r\n      <!-- 50 -->\r\n      <defs>\r\n       <path d=\"M 4.15625 18.75 \r\nL 13.375 19.53125 \r\nQ 14.40625 12.796875 18.140625 9.390625 \r\nQ 21.875 6 27.15625 6 \r\nQ 33.5 6 37.890625 10.78125 \r\nQ 42.28125 15.578125 42.28125 23.484375 \r\nQ 42.28125 31 38.0625 35.34375 \r\nQ 33.84375 39.703125 27 39.703125 \r\nQ 22.75 39.703125 19.328125 37.765625 \r\nQ 15.921875 35.84375 13.96875 32.765625 \r\nL 5.71875 33.84375 \r\nL 12.640625 70.609375 \r\nL 48.25 70.609375 \r\nL 48.25 62.203125 \r\nL 19.671875 62.203125 \r\nL 15.828125 42.96875 \r\nQ 22.265625 47.46875 29.34375 47.46875 \r\nQ 38.71875 47.46875 45.15625 40.96875 \r\nQ 51.609375 34.46875 51.609375 24.265625 \r\nQ 51.609375 14.546875 45.953125 7.46875 \r\nQ 39.0625 -1.21875 27.15625 -1.21875 \r\nQ 17.390625 -1.21875 11.203125 4.25 \r\nQ 5.03125 9.71875 4.15625 18.75 \r\nz\r\n\" id=\"ArialMT-53\"/>\r\n      </defs>\r\n      <g style=\"fill:#262626;\" transform=\"translate(305.543916 242.013594)scale(0.11 -0.11)\">\r\n       <use xlink:href=\"#ArialMT-53\"/>\r\n       <use x=\"55.615234\" xlink:href=\"#ArialMT-48\"/>\r\n      </g>\r\n     </g>\r\n    </g>\r\n    <g id=\"xtick_7\">\r\n     <g id=\"line2d_7\">\r\n      <path clip-path=\"url(#p09f5a4cd90)\" d=\"M 361.556625 224.64 \r\nL 361.556625 7.2 \r\n\" style=\"fill:none;stroke:#cccccc;stroke-linecap:round;\"/>\r\n     </g>\r\n     <g id=\"text_7\">\r\n      <!-- 60 -->\r\n      <defs>\r\n       <path d=\"M 49.75 54.046875 \r\nL 41.015625 53.375 \r\nQ 39.84375 58.546875 37.703125 60.890625 \r\nQ 34.125 64.65625 28.90625 64.65625 \r\nQ 24.703125 64.65625 21.53125 62.3125 \r\nQ 17.390625 59.28125 14.984375 53.46875 \r\nQ 12.59375 47.65625 12.5 36.921875 \r\nQ 15.671875 41.75 20.265625 44.09375 \r\nQ 24.859375 46.4375 29.890625 46.4375 \r\nQ 38.671875 46.4375 44.84375 39.96875 \r\nQ 51.03125 33.5 51.03125 23.25 \r\nQ 51.03125 16.5 48.125 10.71875 \r\nQ 45.21875 4.9375 40.140625 1.859375 \r\nQ 35.0625 -1.21875 28.609375 -1.21875 \r\nQ 17.625 -1.21875 10.6875 6.859375 \r\nQ 3.765625 14.9375 3.765625 33.5 \r\nQ 3.765625 54.25 11.421875 63.671875 \r\nQ 18.109375 71.875 29.4375 71.875 \r\nQ 37.890625 71.875 43.28125 67.140625 \r\nQ 48.6875 62.40625 49.75 54.046875 \r\nz\r\nM 13.875 23.1875 \r\nQ 13.875 18.65625 15.796875 14.5 \r\nQ 17.71875 10.359375 21.1875 8.171875 \r\nQ 24.65625 6 28.46875 6 \r\nQ 34.03125 6 38.03125 10.484375 \r\nQ 42.046875 14.984375 42.046875 22.703125 \r\nQ 42.046875 30.125 38.078125 34.390625 \r\nQ 34.125 38.671875 28.125 38.671875 \r\nQ 22.171875 38.671875 18.015625 34.390625 \r\nQ 13.875 30.125 13.875 23.1875 \r\nz\r\n\" id=\"ArialMT-54\"/>\r\n      </defs>\r\n      <g style=\"fill:#262626;\" transform=\"translate(355.439594 242.013594)scale(0.11 -0.11)\">\r\n       <use xlink:href=\"#ArialMT-54\"/>\r\n       <use x=\"55.615234\" xlink:href=\"#ArialMT-48\"/>\r\n      </g>\r\n     </g>\r\n    </g>\r\n    <g id=\"text_8\">\r\n     <!-- No of components -->\r\n     <defs>\r\n      <path d=\"M 7.625 0 \r\nL 7.625 71.578125 \r\nL 17.328125 71.578125 \r\nL 54.9375 15.375 \r\nL 54.9375 71.578125 \r\nL 64.015625 71.578125 \r\nL 64.015625 0 \r\nL 54.296875 0 \r\nL 16.703125 56.25 \r\nL 16.703125 0 \r\nz\r\n\" id=\"ArialMT-78\"/>\r\n      <path d=\"M 3.328125 25.921875 \r\nQ 3.328125 40.328125 11.328125 47.265625 \r\nQ 18.015625 53.03125 27.640625 53.03125 \r\nQ 38.328125 53.03125 45.109375 46.015625 \r\nQ 51.90625 39.015625 51.90625 26.65625 \r\nQ 51.90625 16.65625 48.90625 10.90625 \r\nQ 45.90625 5.171875 40.15625 2 \r\nQ 34.421875 -1.171875 27.640625 -1.171875 \r\nQ 16.75 -1.171875 10.03125 5.8125 \r\nQ 3.328125 12.796875 3.328125 25.921875 \r\nz\r\nM 12.359375 25.921875 \r\nQ 12.359375 15.96875 16.703125 11.015625 \r\nQ 21.046875 6.0625 27.640625 6.0625 \r\nQ 34.1875 6.0625 38.53125 11.03125 \r\nQ 42.875 16.015625 42.875 26.21875 \r\nQ 42.875 35.84375 38.5 40.796875 \r\nQ 34.125 45.75 27.640625 45.75 \r\nQ 21.046875 45.75 16.703125 40.8125 \r\nQ 12.359375 35.890625 12.359375 25.921875 \r\nz\r\n\" id=\"ArialMT-111\"/>\r\n      <path id=\"ArialMT-32\"/>\r\n      <path d=\"M 8.6875 0 \r\nL 8.6875 45.015625 \r\nL 0.921875 45.015625 \r\nL 0.921875 51.859375 \r\nL 8.6875 51.859375 \r\nL 8.6875 57.375 \r\nQ 8.6875 62.59375 9.625 65.140625 \r\nQ 10.890625 68.5625 14.078125 70.671875 \r\nQ 17.28125 72.796875 23.046875 72.796875 \r\nQ 26.765625 72.796875 31.25 71.921875 \r\nL 29.9375 64.265625 \r\nQ 27.203125 64.75 24.75 64.75 \r\nQ 20.75 64.75 19.09375 63.03125 \r\nQ 17.4375 61.328125 17.4375 56.640625 \r\nL 17.4375 51.859375 \r\nL 27.546875 51.859375 \r\nL 27.546875 45.015625 \r\nL 17.4375 45.015625 \r\nL 17.4375 0 \r\nz\r\n\" id=\"ArialMT-102\"/>\r\n      <path d=\"M 40.4375 19 \r\nL 49.078125 17.875 \r\nQ 47.65625 8.9375 41.8125 3.875 \r\nQ 35.984375 -1.171875 27.484375 -1.171875 \r\nQ 16.84375 -1.171875 10.375 5.78125 \r\nQ 3.90625 12.75 3.90625 25.734375 \r\nQ 3.90625 34.125 6.6875 40.421875 \r\nQ 9.46875 46.734375 15.15625 49.875 \r\nQ 20.84375 53.03125 27.546875 53.03125 \r\nQ 35.984375 53.03125 41.359375 48.75 \r\nQ 46.734375 44.484375 48.25 36.625 \r\nL 39.703125 35.296875 \r\nQ 38.484375 40.53125 35.375 43.15625 \r\nQ 32.28125 45.796875 27.875 45.796875 \r\nQ 21.234375 45.796875 17.078125 41.03125 \r\nQ 12.9375 36.28125 12.9375 25.984375 \r\nQ 12.9375 15.53125 16.9375 10.796875 \r\nQ 20.953125 6.0625 27.390625 6.0625 \r\nQ 32.5625 6.0625 36.03125 9.234375 \r\nQ 39.5 12.40625 40.4375 19 \r\nz\r\n\" id=\"ArialMT-99\"/>\r\n      <path d=\"M 6.59375 0 \r\nL 6.59375 51.859375 \r\nL 14.453125 51.859375 \r\nL 14.453125 44.578125 \r\nQ 16.890625 48.390625 20.9375 50.703125 \r\nQ 25 53.03125 30.171875 53.03125 \r\nQ 35.9375 53.03125 39.625 50.640625 \r\nQ 43.3125 48.25 44.828125 43.953125 \r\nQ 50.984375 53.03125 60.84375 53.03125 \r\nQ 68.5625 53.03125 72.703125 48.75 \r\nQ 76.859375 44.484375 76.859375 35.59375 \r\nL 76.859375 0 \r\nL 68.109375 0 \r\nL 68.109375 32.671875 \r\nQ 68.109375 37.9375 67.25 40.25 \r\nQ 66.40625 42.578125 64.15625 43.984375 \r\nQ 61.921875 45.40625 58.890625 45.40625 \r\nQ 53.421875 45.40625 49.796875 41.765625 \r\nQ 46.1875 38.140625 46.1875 30.125 \r\nL 46.1875 0 \r\nL 37.40625 0 \r\nL 37.40625 33.6875 \r\nQ 37.40625 39.546875 35.25 42.46875 \r\nQ 33.109375 45.40625 28.21875 45.40625 \r\nQ 24.515625 45.40625 21.359375 43.453125 \r\nQ 18.21875 41.5 16.796875 37.734375 \r\nQ 15.375 33.984375 15.375 26.90625 \r\nL 15.375 0 \r\nz\r\n\" id=\"ArialMT-109\"/>\r\n      <path d=\"M 6.59375 -19.875 \r\nL 6.59375 51.859375 \r\nL 14.59375 51.859375 \r\nL 14.59375 45.125 \r\nQ 17.4375 49.078125 21 51.046875 \r\nQ 24.5625 53.03125 29.640625 53.03125 \r\nQ 36.28125 53.03125 41.359375 49.609375 \r\nQ 46.4375 46.1875 49.015625 39.953125 \r\nQ 51.609375 33.734375 51.609375 26.3125 \r\nQ 51.609375 18.359375 48.75 11.984375 \r\nQ 45.90625 5.609375 40.453125 2.21875 \r\nQ 35.015625 -1.171875 29 -1.171875 \r\nQ 24.609375 -1.171875 21.109375 0.6875 \r\nQ 17.625 2.546875 15.375 5.375 \r\nL 15.375 -19.875 \r\nz\r\nM 14.546875 25.640625 \r\nQ 14.546875 15.625 18.59375 10.84375 \r\nQ 22.65625 6.0625 28.421875 6.0625 \r\nQ 34.28125 6.0625 38.453125 11.015625 \r\nQ 42.625 15.96875 42.625 26.375 \r\nQ 42.625 36.28125 38.546875 41.203125 \r\nQ 34.46875 46.140625 28.8125 46.140625 \r\nQ 23.1875 46.140625 18.859375 40.890625 \r\nQ 14.546875 35.640625 14.546875 25.640625 \r\nz\r\n\" id=\"ArialMT-112\"/>\r\n      <path d=\"M 6.59375 0 \r\nL 6.59375 51.859375 \r\nL 14.5 51.859375 \r\nL 14.5 44.484375 \r\nQ 20.21875 53.03125 31 53.03125 \r\nQ 35.6875 53.03125 39.625 51.34375 \r\nQ 43.5625 49.65625 45.515625 46.921875 \r\nQ 47.46875 44.1875 48.25 40.4375 \r\nQ 48.734375 37.984375 48.734375 31.890625 \r\nL 48.734375 0 \r\nL 39.9375 0 \r\nL 39.9375 31.546875 \r\nQ 39.9375 36.921875 38.90625 39.578125 \r\nQ 37.890625 42.234375 35.28125 43.8125 \r\nQ 32.671875 45.40625 29.15625 45.40625 \r\nQ 23.53125 45.40625 19.453125 41.84375 \r\nQ 15.375 38.28125 15.375 28.328125 \r\nL 15.375 0 \r\nz\r\n\" id=\"ArialMT-110\"/>\r\n      <path d=\"M 42.09375 16.703125 \r\nL 51.171875 15.578125 \r\nQ 49.03125 7.625 43.21875 3.21875 \r\nQ 37.40625 -1.171875 28.375 -1.171875 \r\nQ 17 -1.171875 10.328125 5.828125 \r\nQ 3.65625 12.84375 3.65625 25.484375 \r\nQ 3.65625 38.578125 10.390625 45.796875 \r\nQ 17.140625 53.03125 27.875 53.03125 \r\nQ 38.28125 53.03125 44.875 45.953125 \r\nQ 51.46875 38.875 51.46875 26.03125 \r\nQ 51.46875 25.25 51.421875 23.6875 \r\nL 12.75 23.6875 \r\nQ 13.234375 15.140625 17.578125 10.59375 \r\nQ 21.921875 6.0625 28.421875 6.0625 \r\nQ 33.25 6.0625 36.671875 8.59375 \r\nQ 40.09375 11.140625 42.09375 16.703125 \r\nz\r\nM 13.234375 30.90625 \r\nL 42.1875 30.90625 \r\nQ 41.609375 37.453125 38.875 40.71875 \r\nQ 34.671875 45.796875 27.984375 45.796875 \r\nQ 21.921875 45.796875 17.796875 41.75 \r\nQ 13.671875 37.703125 13.234375 30.90625 \r\nz\r\n\" id=\"ArialMT-101\"/>\r\n      <path d=\"M 25.78125 7.859375 \r\nL 27.046875 0.09375 \r\nQ 23.34375 -0.6875 20.40625 -0.6875 \r\nQ 15.625 -0.6875 12.984375 0.828125 \r\nQ 10.359375 2.34375 9.28125 4.8125 \r\nQ 8.203125 7.28125 8.203125 15.1875 \r\nL 8.203125 45.015625 \r\nL 1.765625 45.015625 \r\nL 1.765625 51.859375 \r\nL 8.203125 51.859375 \r\nL 8.203125 64.703125 \r\nL 16.9375 69.96875 \r\nL 16.9375 51.859375 \r\nL 25.78125 51.859375 \r\nL 25.78125 45.015625 \r\nL 16.9375 45.015625 \r\nL 16.9375 14.703125 \r\nQ 16.9375 10.9375 17.40625 9.859375 \r\nQ 17.875 8.796875 18.921875 8.15625 \r\nQ 19.96875 7.515625 21.921875 7.515625 \r\nQ 23.390625 7.515625 25.78125 7.859375 \r\nz\r\n\" id=\"ArialMT-116\"/>\r\n      <path d=\"M 3.078125 15.484375 \r\nL 11.765625 16.84375 \r\nQ 12.5 11.625 15.84375 8.84375 \r\nQ 19.1875 6.0625 25.203125 6.0625 \r\nQ 31.25 6.0625 34.171875 8.515625 \r\nQ 37.109375 10.984375 37.109375 14.3125 \r\nQ 37.109375 17.28125 34.515625 19 \r\nQ 32.71875 20.171875 25.53125 21.96875 \r\nQ 15.875 24.421875 12.140625 26.203125 \r\nQ 8.40625 27.984375 6.46875 31.125 \r\nQ 4.546875 34.28125 4.546875 38.09375 \r\nQ 4.546875 41.546875 6.125 44.5 \r\nQ 7.71875 47.46875 10.453125 49.421875 \r\nQ 12.5 50.921875 16.03125 51.96875 \r\nQ 19.578125 53.03125 23.640625 53.03125 \r\nQ 29.734375 53.03125 34.34375 51.265625 \r\nQ 38.96875 49.515625 41.15625 46.5 \r\nQ 43.359375 43.5 44.1875 38.484375 \r\nL 35.59375 37.3125 \r\nQ 35.015625 41.3125 32.203125 43.546875 \r\nQ 29.390625 45.796875 24.265625 45.796875 \r\nQ 18.21875 45.796875 15.625 43.796875 \r\nQ 13.03125 41.796875 13.03125 39.109375 \r\nQ 13.03125 37.40625 14.109375 36.03125 \r\nQ 15.1875 34.625 17.484375 33.6875 \r\nQ 18.796875 33.203125 25.25 31.453125 \r\nQ 34.578125 28.953125 38.25 27.359375 \r\nQ 41.9375 25.78125 44.03125 22.75 \r\nQ 46.140625 19.734375 46.140625 15.234375 \r\nQ 46.140625 10.84375 43.578125 6.953125 \r\nQ 41.015625 3.078125 36.171875 0.953125 \r\nQ 31.34375 -1.171875 25.25 -1.171875 \r\nQ 15.140625 -1.171875 9.84375 3.03125 \r\nQ 4.546875 7.234375 3.078125 15.484375 \r\nz\r\n\" id=\"ArialMT-115\"/>\r\n     </defs>\r\n     <g style=\"fill:#262626;\" transform=\"translate(165.673438 256.935469)scale(0.12 -0.12)\">\r\n      <use xlink:href=\"#ArialMT-78\"/>\r\n      <use x=\"72.216797\" xlink:href=\"#ArialMT-111\"/>\r\n      <use x=\"127.832031\" xlink:href=\"#ArialMT-32\"/>\r\n      <use x=\"155.615234\" xlink:href=\"#ArialMT-111\"/>\r\n      <use x=\"211.230469\" xlink:href=\"#ArialMT-102\"/>\r\n      <use x=\"239.013672\" xlink:href=\"#ArialMT-32\"/>\r\n      <use x=\"266.796875\" xlink:href=\"#ArialMT-99\"/>\r\n      <use x=\"316.796875\" xlink:href=\"#ArialMT-111\"/>\r\n      <use x=\"372.412109\" xlink:href=\"#ArialMT-109\"/>\r\n      <use x=\"455.712891\" xlink:href=\"#ArialMT-112\"/>\r\n      <use x=\"511.328125\" xlink:href=\"#ArialMT-111\"/>\r\n      <use x=\"566.943359\" xlink:href=\"#ArialMT-110\"/>\r\n      <use x=\"622.558594\" xlink:href=\"#ArialMT-101\"/>\r\n      <use x=\"678.173828\" xlink:href=\"#ArialMT-110\"/>\r\n      <use x=\"733.789062\" xlink:href=\"#ArialMT-116\"/>\r\n      <use x=\"761.572266\" xlink:href=\"#ArialMT-115\"/>\r\n     </g>\r\n    </g>\r\n   </g>\r\n   <g id=\"matplotlib.axis_2\">\r\n    <g id=\"ytick_1\">\r\n     <g id=\"line2d_8\">\r\n      <path clip-path=\"url(#p09f5a4cd90)\" d=\"M 46.964375 222.568273 \r\nL 381.764375 222.568273 \r\n\" style=\"fill:none;stroke:#cccccc;stroke-linecap:round;\"/>\r\n     </g>\r\n     <g id=\"text_9\">\r\n      <!-- 0.0 -->\r\n      <defs>\r\n       <path d=\"M 9.078125 0 \r\nL 9.078125 10.015625 \r\nL 19.09375 10.015625 \r\nL 19.09375 0 \r\nz\r\n\" id=\"ArialMT-46\"/>\r\n      </defs>\r\n      <g style=\"fill:#262626;\" transform=\"translate(22.174375 226.50507)scale(0.11 -0.11)\">\r\n       <use xlink:href=\"#ArialMT-48\"/>\r\n       <use x=\"55.615234\" xlink:href=\"#ArialMT-46\"/>\r\n       <use x=\"83.398438\" xlink:href=\"#ArialMT-48\"/>\r\n      </g>\r\n     </g>\r\n    </g>\r\n    <g id=\"ytick_2\">\r\n     <g id=\"line2d_9\">\r\n      <path clip-path=\"url(#p09f5a4cd90)\" d=\"M 46.964375 181.471346 \r\nL 381.764375 181.471346 \r\n\" style=\"fill:none;stroke:#cccccc;stroke-linecap:round;\"/>\r\n     </g>\r\n     <g id=\"text_10\">\r\n      <!-- 0.2 -->\r\n      <g style=\"fill:#262626;\" transform=\"translate(22.174375 185.408142)scale(0.11 -0.11)\">\r\n       <use xlink:href=\"#ArialMT-48\"/>\r\n       <use x=\"55.615234\" xlink:href=\"#ArialMT-46\"/>\r\n       <use x=\"83.398438\" xlink:href=\"#ArialMT-50\"/>\r\n      </g>\r\n     </g>\r\n    </g>\r\n    <g id=\"ytick_3\">\r\n     <g id=\"line2d_10\">\r\n      <path clip-path=\"url(#p09f5a4cd90)\" d=\"M 46.964375 140.374418 \r\nL 381.764375 140.374418 \r\n\" style=\"fill:none;stroke:#cccccc;stroke-linecap:round;\"/>\r\n     </g>\r\n     <g id=\"text_11\">\r\n      <!-- 0.4 -->\r\n      <g style=\"fill:#262626;\" transform=\"translate(22.174375 144.311215)scale(0.11 -0.11)\">\r\n       <use xlink:href=\"#ArialMT-48\"/>\r\n       <use x=\"55.615234\" xlink:href=\"#ArialMT-46\"/>\r\n       <use x=\"83.398438\" xlink:href=\"#ArialMT-52\"/>\r\n      </g>\r\n     </g>\r\n    </g>\r\n    <g id=\"ytick_4\">\r\n     <g id=\"line2d_11\">\r\n      <path clip-path=\"url(#p09f5a4cd90)\" d=\"M 46.964375 99.277491 \r\nL 381.764375 99.277491 \r\n\" style=\"fill:none;stroke:#cccccc;stroke-linecap:round;\"/>\r\n     </g>\r\n     <g id=\"text_12\">\r\n      <!-- 0.6 -->\r\n      <g style=\"fill:#262626;\" transform=\"translate(22.174375 103.214288)scale(0.11 -0.11)\">\r\n       <use xlink:href=\"#ArialMT-48\"/>\r\n       <use x=\"55.615234\" xlink:href=\"#ArialMT-46\"/>\r\n       <use x=\"83.398438\" xlink:href=\"#ArialMT-54\"/>\r\n      </g>\r\n     </g>\r\n    </g>\r\n    <g id=\"ytick_5\">\r\n     <g id=\"line2d_12\">\r\n      <path clip-path=\"url(#p09f5a4cd90)\" d=\"M 46.964375 58.180564 \r\nL 381.764375 58.180564 \r\n\" style=\"fill:none;stroke:#cccccc;stroke-linecap:round;\"/>\r\n     </g>\r\n     <g id=\"text_13\">\r\n      <!-- 0.8 -->\r\n      <defs>\r\n       <path d=\"M 17.671875 38.8125 \r\nQ 12.203125 40.828125 9.5625 44.53125 \r\nQ 6.9375 48.25 6.9375 53.421875 \r\nQ 6.9375 61.234375 12.546875 66.546875 \r\nQ 18.171875 71.875 27.484375 71.875 \r\nQ 36.859375 71.875 42.578125 66.421875 \r\nQ 48.296875 60.984375 48.296875 53.171875 \r\nQ 48.296875 48.1875 45.671875 44.5 \r\nQ 43.0625 40.828125 37.75 38.8125 \r\nQ 44.34375 36.671875 47.78125 31.875 \r\nQ 51.21875 27.09375 51.21875 20.453125 \r\nQ 51.21875 11.28125 44.71875 5.03125 \r\nQ 38.234375 -1.21875 27.640625 -1.21875 \r\nQ 17.046875 -1.21875 10.546875 5.046875 \r\nQ 4.046875 11.328125 4.046875 20.703125 \r\nQ 4.046875 27.6875 7.59375 32.390625 \r\nQ 11.140625 37.109375 17.671875 38.8125 \r\nz\r\nM 15.921875 53.71875 \r\nQ 15.921875 48.640625 19.1875 45.40625 \r\nQ 22.46875 42.1875 27.6875 42.1875 \r\nQ 32.765625 42.1875 36.015625 45.375 \r\nQ 39.265625 48.578125 39.265625 53.21875 \r\nQ 39.265625 58.0625 35.90625 61.359375 \r\nQ 32.5625 64.65625 27.59375 64.65625 \r\nQ 22.5625 64.65625 19.234375 61.421875 \r\nQ 15.921875 58.203125 15.921875 53.71875 \r\nz\r\nM 13.09375 20.65625 \r\nQ 13.09375 16.890625 14.875 13.375 \r\nQ 16.65625 9.859375 20.171875 7.921875 \r\nQ 23.6875 6 27.734375 6 \r\nQ 34.03125 6 38.125 10.046875 \r\nQ 42.234375 14.109375 42.234375 20.359375 \r\nQ 42.234375 26.703125 38.015625 30.859375 \r\nQ 33.796875 35.015625 27.4375 35.015625 \r\nQ 21.234375 35.015625 17.15625 30.90625 \r\nQ 13.09375 26.8125 13.09375 20.65625 \r\nz\r\n\" id=\"ArialMT-56\"/>\r\n      </defs>\r\n      <g style=\"fill:#262626;\" transform=\"translate(22.174375 62.117361)scale(0.11 -0.11)\">\r\n       <use xlink:href=\"#ArialMT-48\"/>\r\n       <use x=\"55.615234\" xlink:href=\"#ArialMT-46\"/>\r\n       <use x=\"83.398438\" xlink:href=\"#ArialMT-56\"/>\r\n      </g>\r\n     </g>\r\n    </g>\r\n    <g id=\"ytick_6\">\r\n     <g id=\"line2d_13\">\r\n      <path clip-path=\"url(#p09f5a4cd90)\" d=\"M 46.964375 17.083636 \r\nL 381.764375 17.083636 \r\n\" style=\"fill:none;stroke:#cccccc;stroke-linecap:round;\"/>\r\n     </g>\r\n     <g id=\"text_14\">\r\n      <!-- 1.0 -->\r\n      <g style=\"fill:#262626;\" transform=\"translate(22.174375 21.020433)scale(0.11 -0.11)\">\r\n       <use xlink:href=\"#ArialMT-49\"/>\r\n       <use x=\"55.615234\" xlink:href=\"#ArialMT-46\"/>\r\n       <use x=\"83.398438\" xlink:href=\"#ArialMT-48\"/>\r\n      </g>\r\n     </g>\r\n    </g>\r\n    <g id=\"text_15\">\r\n     <!-- cumulative explained variance -->\r\n     <defs>\r\n      <path d=\"M 40.578125 0 \r\nL 40.578125 7.625 \r\nQ 34.515625 -1.171875 24.125 -1.171875 \r\nQ 19.53125 -1.171875 15.546875 0.578125 \r\nQ 11.578125 2.34375 9.640625 5 \r\nQ 7.71875 7.671875 6.9375 11.53125 \r\nQ 6.390625 14.109375 6.390625 19.734375 \r\nL 6.390625 51.859375 \r\nL 15.1875 51.859375 \r\nL 15.1875 23.09375 \r\nQ 15.1875 16.21875 15.71875 13.8125 \r\nQ 16.546875 10.359375 19.234375 8.375 \r\nQ 21.921875 6.390625 25.875 6.390625 \r\nQ 29.828125 6.390625 33.296875 8.421875 \r\nQ 36.765625 10.453125 38.203125 13.9375 \r\nQ 39.65625 17.4375 39.65625 24.078125 \r\nL 39.65625 51.859375 \r\nL 48.4375 51.859375 \r\nL 48.4375 0 \r\nz\r\n\" id=\"ArialMT-117\"/>\r\n      <path d=\"M 6.390625 0 \r\nL 6.390625 71.578125 \r\nL 15.1875 71.578125 \r\nL 15.1875 0 \r\nz\r\n\" id=\"ArialMT-108\"/>\r\n      <path d=\"M 40.4375 6.390625 \r\nQ 35.546875 2.25 31.03125 0.53125 \r\nQ 26.515625 -1.171875 21.34375 -1.171875 \r\nQ 12.796875 -1.171875 8.203125 3 \r\nQ 3.609375 7.171875 3.609375 13.671875 \r\nQ 3.609375 17.484375 5.34375 20.625 \r\nQ 7.078125 23.78125 9.890625 25.6875 \r\nQ 12.703125 27.59375 16.21875 28.5625 \r\nQ 18.796875 29.25 24.03125 29.890625 \r\nQ 34.671875 31.15625 39.703125 32.90625 \r\nQ 39.75 34.71875 39.75 35.203125 \r\nQ 39.75 40.578125 37.25 42.78125 \r\nQ 33.890625 45.75 27.25 45.75 \r\nQ 21.046875 45.75 18.09375 43.578125 \r\nQ 15.140625 41.40625 13.71875 35.890625 \r\nL 5.125 37.0625 \r\nQ 6.296875 42.578125 8.984375 45.96875 \r\nQ 11.671875 49.359375 16.75 51.1875 \r\nQ 21.828125 53.03125 28.515625 53.03125 \r\nQ 35.15625 53.03125 39.296875 51.46875 \r\nQ 43.453125 49.90625 45.40625 47.53125 \r\nQ 47.359375 45.171875 48.140625 41.546875 \r\nQ 48.578125 39.3125 48.578125 33.453125 \r\nL 48.578125 21.734375 \r\nQ 48.578125 9.46875 49.140625 6.21875 \r\nQ 49.703125 2.984375 51.375 0 \r\nL 42.1875 0 \r\nQ 40.828125 2.734375 40.4375 6.390625 \r\nz\r\nM 39.703125 26.03125 \r\nQ 34.90625 24.078125 25.34375 22.703125 \r\nQ 19.921875 21.921875 17.671875 20.9375 \r\nQ 15.4375 19.96875 14.203125 18.09375 \r\nQ 12.984375 16.21875 12.984375 13.921875 \r\nQ 12.984375 10.40625 15.640625 8.0625 \r\nQ 18.3125 5.71875 23.4375 5.71875 \r\nQ 28.515625 5.71875 32.46875 7.9375 \r\nQ 36.421875 10.15625 38.28125 14.015625 \r\nQ 39.703125 17 39.703125 22.796875 \r\nz\r\n\" id=\"ArialMT-97\"/>\r\n      <path d=\"M 6.640625 61.46875 \r\nL 6.640625 71.578125 \r\nL 15.4375 71.578125 \r\nL 15.4375 61.46875 \r\nz\r\nM 6.640625 0 \r\nL 6.640625 51.859375 \r\nL 15.4375 51.859375 \r\nL 15.4375 0 \r\nz\r\n\" id=\"ArialMT-105\"/>\r\n      <path d=\"M 21 0 \r\nL 1.265625 51.859375 \r\nL 10.546875 51.859375 \r\nL 21.6875 20.796875 \r\nQ 23.484375 15.765625 25 10.359375 \r\nQ 26.171875 14.453125 28.265625 20.21875 \r\nL 39.796875 51.859375 \r\nL 48.828125 51.859375 \r\nL 29.203125 0 \r\nz\r\n\" id=\"ArialMT-118\"/>\r\n      <path d=\"M 0.734375 0 \r\nL 19.671875 26.953125 \r\nL 2.15625 51.859375 \r\nL 13.140625 51.859375 \r\nL 21.09375 39.703125 \r\nQ 23.34375 36.234375 24.703125 33.890625 \r\nQ 26.859375 37.109375 28.65625 39.59375 \r\nL 37.40625 51.859375 \r\nL 47.90625 51.859375 \r\nL 29.984375 27.4375 \r\nL 49.265625 0 \r\nL 38.484375 0 \r\nL 27.828125 16.109375 \r\nL 25 20.453125 \r\nL 11.375 0 \r\nz\r\n\" id=\"ArialMT-120\"/>\r\n      <path d=\"M 40.234375 0 \r\nL 40.234375 6.546875 \r\nQ 35.296875 -1.171875 25.734375 -1.171875 \r\nQ 19.53125 -1.171875 14.328125 2.25 \r\nQ 9.125 5.671875 6.265625 11.796875 \r\nQ 3.421875 17.921875 3.421875 25.875 \r\nQ 3.421875 33.640625 6 39.96875 \r\nQ 8.59375 46.296875 13.765625 49.65625 \r\nQ 18.953125 53.03125 25.34375 53.03125 \r\nQ 30.03125 53.03125 33.6875 51.046875 \r\nQ 37.359375 49.078125 39.65625 45.90625 \r\nL 39.65625 71.578125 \r\nL 48.390625 71.578125 \r\nL 48.390625 0 \r\nz\r\nM 12.453125 25.875 \r\nQ 12.453125 15.921875 16.640625 10.984375 \r\nQ 20.84375 6.0625 26.5625 6.0625 \r\nQ 32.328125 6.0625 36.34375 10.765625 \r\nQ 40.375 15.484375 40.375 25.140625 \r\nQ 40.375 35.796875 36.265625 40.765625 \r\nQ 32.171875 45.75 26.171875 45.75 \r\nQ 20.3125 45.75 16.375 40.96875 \r\nQ 12.453125 36.1875 12.453125 25.875 \r\nz\r\n\" id=\"ArialMT-100\"/>\r\n      <path d=\"M 6.5 0 \r\nL 6.5 51.859375 \r\nL 14.40625 51.859375 \r\nL 14.40625 44 \r\nQ 17.4375 49.515625 20 51.265625 \r\nQ 22.5625 53.03125 25.640625 53.03125 \r\nQ 30.078125 53.03125 34.671875 50.203125 \r\nL 31.640625 42.046875 \r\nQ 28.421875 43.953125 25.203125 43.953125 \r\nQ 22.3125 43.953125 20.015625 42.21875 \r\nQ 17.71875 40.484375 16.75 37.40625 \r\nQ 15.28125 32.71875 15.28125 27.15625 \r\nL 15.28125 0 \r\nz\r\n\" id=\"ArialMT-114\"/>\r\n     </defs>\r\n     <g style=\"fill:#262626;\" transform=\"translate(15.789375 196.29375)rotate(-90)scale(0.12 -0.12)\">\r\n      <use xlink:href=\"#ArialMT-99\"/>\r\n      <use x=\"50\" xlink:href=\"#ArialMT-117\"/>\r\n      <use x=\"105.615234\" xlink:href=\"#ArialMT-109\"/>\r\n      <use x=\"188.916016\" xlink:href=\"#ArialMT-117\"/>\r\n      <use x=\"244.53125\" xlink:href=\"#ArialMT-108\"/>\r\n      <use x=\"266.748047\" xlink:href=\"#ArialMT-97\"/>\r\n      <use x=\"322.363281\" xlink:href=\"#ArialMT-116\"/>\r\n      <use x=\"350.146484\" xlink:href=\"#ArialMT-105\"/>\r\n      <use x=\"372.363281\" xlink:href=\"#ArialMT-118\"/>\r\n      <use x=\"422.363281\" xlink:href=\"#ArialMT-101\"/>\r\n      <use x=\"477.978516\" xlink:href=\"#ArialMT-32\"/>\r\n      <use x=\"505.761719\" xlink:href=\"#ArialMT-101\"/>\r\n      <use x=\"561.376953\" xlink:href=\"#ArialMT-120\"/>\r\n      <use x=\"611.376953\" xlink:href=\"#ArialMT-112\"/>\r\n      <use x=\"666.992188\" xlink:href=\"#ArialMT-108\"/>\r\n      <use x=\"689.208984\" xlink:href=\"#ArialMT-97\"/>\r\n      <use x=\"744.824219\" xlink:href=\"#ArialMT-105\"/>\r\n      <use x=\"767.041016\" xlink:href=\"#ArialMT-110\"/>\r\n      <use x=\"822.65625\" xlink:href=\"#ArialMT-101\"/>\r\n      <use x=\"878.271484\" xlink:href=\"#ArialMT-100\"/>\r\n      <use x=\"933.886719\" xlink:href=\"#ArialMT-32\"/>\r\n      <use x=\"961.669922\" xlink:href=\"#ArialMT-118\"/>\r\n      <use x=\"1011.669922\" xlink:href=\"#ArialMT-97\"/>\r\n      <use x=\"1067.285156\" xlink:href=\"#ArialMT-114\"/>\r\n      <use x=\"1100.585938\" xlink:href=\"#ArialMT-105\"/>\r\n      <use x=\"1122.802734\" xlink:href=\"#ArialMT-97\"/>\r\n      <use x=\"1178.417969\" xlink:href=\"#ArialMT-110\"/>\r\n      <use x=\"1234.033203\" xlink:href=\"#ArialMT-99\"/>\r\n      <use x=\"1284.033203\" xlink:href=\"#ArialMT-101\"/>\r\n     </g>\r\n    </g>\r\n   </g>\r\n   <g id=\"line2d_14\">\r\n    <path clip-path=\"url(#p09f5a4cd90)\" d=\"M 62.182557 214.756364 \r\nL 67.172125 207.963086 \r\nL 72.161692 201.245112 \r\nL 77.15126 194.554231 \r\nL 82.140828 187.932777 \r\nL 87.130396 181.42279 \r\nL 92.119964 175.001306 \r\nL 97.109531 168.594663 \r\nL 102.099099 162.433914 \r\nL 107.088667 156.329918 \r\nL 112.078235 150.317233 \r\nL 117.067803 144.595821 \r\nL 122.057371 139.569923 \r\nL 127.046938 135.454525 \r\nL 132.036506 131.877337 \r\nL 137.026074 128.370521 \r\nL 142.015642 124.905559 \r\nL 147.00521 121.482158 \r\nL 151.994777 118.06598 \r\nL 156.984345 114.665065 \r\nL 161.973913 111.268398 \r\nL 166.963481 107.874606 \r\nL 171.953049 104.492118 \r\nL 176.942616 101.110928 \r\nL 181.932184 97.740093 \r\nL 186.921752 94.373928 \r\nL 191.91132 91.010387 \r\nL 196.900888 87.650208 \r\nL 201.890455 84.296335 \r\nL 206.880023 80.944338 \r\nL 211.869591 77.595201 \r\nL 216.859159 74.247767 \r\nL 221.848727 70.902664 \r\nL 226.838295 67.560326 \r\nL 231.827862 64.218998 \r\nL 236.81743 60.881043 \r\nL 241.806998 57.544759 \r\nL 246.796566 54.210346 \r\nL 251.786134 50.877898 \r\nL 256.775701 47.546519 \r\nL 261.765269 44.216273 \r\nL 266.754837 40.886673 \r\nL 271.744405 37.605279 \r\nL 276.733973 34.367461 \r\nL 281.72354 31.176604 \r\nL 286.713108 28.117995 \r\nL 291.702676 25.641009 \r\nL 296.692244 23.610553 \r\nL 301.681812 22.187698 \r\nL 306.671379 21.282582 \r\nL 311.660947 20.620545 \r\nL 316.650515 20.031332 \r\nL 321.640083 19.487812 \r\nL 326.629651 18.989106 \r\nL 331.619219 18.600259 \r\nL 336.608786 18.253951 \r\nL 341.598354 17.936403 \r\nL 346.587922 17.641968 \r\nL 351.57749 17.396147 \r\nL 356.567058 17.193755 \r\nL 361.556625 17.083636 \r\nL 366.546193 17.083636 \r\n\" style=\"fill:none;stroke:#4c72b0;stroke-linecap:round;stroke-width:1.5;\"/>\r\n    <defs>\r\n     <path d=\"M 0 1.5 \r\nC 0.397805 1.5 0.77937 1.341951 1.06066 1.06066 \r\nC 1.341951 0.77937 1.5 0.397805 1.5 0 \r\nC 1.5 -0.397805 1.341951 -0.77937 1.06066 -1.06066 \r\nC 0.77937 -1.341951 0.397805 -1.5 0 -1.5 \r\nC -0.397805 -1.5 -0.77937 -1.341951 -1.06066 -1.06066 \r\nC -1.341951 -0.77937 -1.5 -0.397805 -1.5 0 \r\nC -1.5 0.397805 -1.341951 0.77937 -1.06066 1.06066 \r\nC -0.77937 1.341951 -0.397805 1.5 0 1.5 \r\nz\r\n\" id=\"me6abb9e9d9\" style=\"stroke:#4c72b0;\"/>\r\n    </defs>\r\n    <g clip-path=\"url(#p09f5a4cd90)\">\r\n     <use style=\"fill:#4c72b0;stroke:#4c72b0;\" x=\"62.182557\" xlink:href=\"#me6abb9e9d9\" y=\"214.756364\"/>\r\n     <use style=\"fill:#4c72b0;stroke:#4c72b0;\" x=\"67.172125\" xlink:href=\"#me6abb9e9d9\" y=\"207.963086\"/>\r\n     <use style=\"fill:#4c72b0;stroke:#4c72b0;\" x=\"72.161692\" xlink:href=\"#me6abb9e9d9\" y=\"201.245112\"/>\r\n     <use style=\"fill:#4c72b0;stroke:#4c72b0;\" x=\"77.15126\" xlink:href=\"#me6abb9e9d9\" y=\"194.554231\"/>\r\n     <use style=\"fill:#4c72b0;stroke:#4c72b0;\" x=\"82.140828\" xlink:href=\"#me6abb9e9d9\" y=\"187.932777\"/>\r\n     <use style=\"fill:#4c72b0;stroke:#4c72b0;\" x=\"87.130396\" xlink:href=\"#me6abb9e9d9\" y=\"181.42279\"/>\r\n     <use style=\"fill:#4c72b0;stroke:#4c72b0;\" x=\"92.119964\" xlink:href=\"#me6abb9e9d9\" y=\"175.001306\"/>\r\n     <use style=\"fill:#4c72b0;stroke:#4c72b0;\" x=\"97.109531\" xlink:href=\"#me6abb9e9d9\" y=\"168.594663\"/>\r\n     <use style=\"fill:#4c72b0;stroke:#4c72b0;\" x=\"102.099099\" xlink:href=\"#me6abb9e9d9\" y=\"162.433914\"/>\r\n     <use style=\"fill:#4c72b0;stroke:#4c72b0;\" x=\"107.088667\" xlink:href=\"#me6abb9e9d9\" y=\"156.329918\"/>\r\n     <use style=\"fill:#4c72b0;stroke:#4c72b0;\" x=\"112.078235\" xlink:href=\"#me6abb9e9d9\" y=\"150.317233\"/>\r\n     <use style=\"fill:#4c72b0;stroke:#4c72b0;\" x=\"117.067803\" xlink:href=\"#me6abb9e9d9\" y=\"144.595821\"/>\r\n     <use style=\"fill:#4c72b0;stroke:#4c72b0;\" x=\"122.057371\" xlink:href=\"#me6abb9e9d9\" y=\"139.569923\"/>\r\n     <use style=\"fill:#4c72b0;stroke:#4c72b0;\" x=\"127.046938\" xlink:href=\"#me6abb9e9d9\" y=\"135.454525\"/>\r\n     <use style=\"fill:#4c72b0;stroke:#4c72b0;\" x=\"132.036506\" xlink:href=\"#me6abb9e9d9\" y=\"131.877337\"/>\r\n     <use style=\"fill:#4c72b0;stroke:#4c72b0;\" x=\"137.026074\" xlink:href=\"#me6abb9e9d9\" y=\"128.370521\"/>\r\n     <use style=\"fill:#4c72b0;stroke:#4c72b0;\" x=\"142.015642\" xlink:href=\"#me6abb9e9d9\" y=\"124.905559\"/>\r\n     <use style=\"fill:#4c72b0;stroke:#4c72b0;\" x=\"147.00521\" xlink:href=\"#me6abb9e9d9\" y=\"121.482158\"/>\r\n     <use style=\"fill:#4c72b0;stroke:#4c72b0;\" x=\"151.994777\" xlink:href=\"#me6abb9e9d9\" y=\"118.06598\"/>\r\n     <use style=\"fill:#4c72b0;stroke:#4c72b0;\" x=\"156.984345\" xlink:href=\"#me6abb9e9d9\" y=\"114.665065\"/>\r\n     <use style=\"fill:#4c72b0;stroke:#4c72b0;\" x=\"161.973913\" xlink:href=\"#me6abb9e9d9\" y=\"111.268398\"/>\r\n     <use style=\"fill:#4c72b0;stroke:#4c72b0;\" x=\"166.963481\" xlink:href=\"#me6abb9e9d9\" y=\"107.874606\"/>\r\n     <use style=\"fill:#4c72b0;stroke:#4c72b0;\" x=\"171.953049\" xlink:href=\"#me6abb9e9d9\" y=\"104.492118\"/>\r\n     <use style=\"fill:#4c72b0;stroke:#4c72b0;\" x=\"176.942616\" xlink:href=\"#me6abb9e9d9\" y=\"101.110928\"/>\r\n     <use style=\"fill:#4c72b0;stroke:#4c72b0;\" x=\"181.932184\" xlink:href=\"#me6abb9e9d9\" y=\"97.740093\"/>\r\n     <use style=\"fill:#4c72b0;stroke:#4c72b0;\" x=\"186.921752\" xlink:href=\"#me6abb9e9d9\" y=\"94.373928\"/>\r\n     <use style=\"fill:#4c72b0;stroke:#4c72b0;\" x=\"191.91132\" xlink:href=\"#me6abb9e9d9\" y=\"91.010387\"/>\r\n     <use style=\"fill:#4c72b0;stroke:#4c72b0;\" x=\"196.900888\" xlink:href=\"#me6abb9e9d9\" y=\"87.650208\"/>\r\n     <use style=\"fill:#4c72b0;stroke:#4c72b0;\" x=\"201.890455\" xlink:href=\"#me6abb9e9d9\" y=\"84.296335\"/>\r\n     <use style=\"fill:#4c72b0;stroke:#4c72b0;\" x=\"206.880023\" xlink:href=\"#me6abb9e9d9\" y=\"80.944338\"/>\r\n     <use style=\"fill:#4c72b0;stroke:#4c72b0;\" x=\"211.869591\" xlink:href=\"#me6abb9e9d9\" y=\"77.595201\"/>\r\n     <use style=\"fill:#4c72b0;stroke:#4c72b0;\" x=\"216.859159\" xlink:href=\"#me6abb9e9d9\" y=\"74.247767\"/>\r\n     <use style=\"fill:#4c72b0;stroke:#4c72b0;\" x=\"221.848727\" xlink:href=\"#me6abb9e9d9\" y=\"70.902664\"/>\r\n     <use style=\"fill:#4c72b0;stroke:#4c72b0;\" x=\"226.838295\" xlink:href=\"#me6abb9e9d9\" y=\"67.560326\"/>\r\n     <use style=\"fill:#4c72b0;stroke:#4c72b0;\" x=\"231.827862\" xlink:href=\"#me6abb9e9d9\" y=\"64.218998\"/>\r\n     <use style=\"fill:#4c72b0;stroke:#4c72b0;\" x=\"236.81743\" xlink:href=\"#me6abb9e9d9\" y=\"60.881043\"/>\r\n     <use style=\"fill:#4c72b0;stroke:#4c72b0;\" x=\"241.806998\" xlink:href=\"#me6abb9e9d9\" y=\"57.544759\"/>\r\n     <use style=\"fill:#4c72b0;stroke:#4c72b0;\" x=\"246.796566\" xlink:href=\"#me6abb9e9d9\" y=\"54.210346\"/>\r\n     <use style=\"fill:#4c72b0;stroke:#4c72b0;\" x=\"251.786134\" xlink:href=\"#me6abb9e9d9\" y=\"50.877898\"/>\r\n     <use style=\"fill:#4c72b0;stroke:#4c72b0;\" x=\"256.775701\" xlink:href=\"#me6abb9e9d9\" y=\"47.546519\"/>\r\n     <use style=\"fill:#4c72b0;stroke:#4c72b0;\" x=\"261.765269\" xlink:href=\"#me6abb9e9d9\" y=\"44.216273\"/>\r\n     <use style=\"fill:#4c72b0;stroke:#4c72b0;\" x=\"266.754837\" xlink:href=\"#me6abb9e9d9\" y=\"40.886673\"/>\r\n     <use style=\"fill:#4c72b0;stroke:#4c72b0;\" x=\"271.744405\" xlink:href=\"#me6abb9e9d9\" y=\"37.605279\"/>\r\n     <use style=\"fill:#4c72b0;stroke:#4c72b0;\" x=\"276.733973\" xlink:href=\"#me6abb9e9d9\" y=\"34.367461\"/>\r\n     <use style=\"fill:#4c72b0;stroke:#4c72b0;\" x=\"281.72354\" xlink:href=\"#me6abb9e9d9\" y=\"31.176604\"/>\r\n     <use style=\"fill:#4c72b0;stroke:#4c72b0;\" x=\"286.713108\" xlink:href=\"#me6abb9e9d9\" y=\"28.117995\"/>\r\n     <use style=\"fill:#4c72b0;stroke:#4c72b0;\" x=\"291.702676\" xlink:href=\"#me6abb9e9d9\" y=\"25.641009\"/>\r\n     <use style=\"fill:#4c72b0;stroke:#4c72b0;\" x=\"296.692244\" xlink:href=\"#me6abb9e9d9\" y=\"23.610553\"/>\r\n     <use style=\"fill:#4c72b0;stroke:#4c72b0;\" x=\"301.681812\" xlink:href=\"#me6abb9e9d9\" y=\"22.187698\"/>\r\n     <use style=\"fill:#4c72b0;stroke:#4c72b0;\" x=\"306.671379\" xlink:href=\"#me6abb9e9d9\" y=\"21.282582\"/>\r\n     <use style=\"fill:#4c72b0;stroke:#4c72b0;\" x=\"311.660947\" xlink:href=\"#me6abb9e9d9\" y=\"20.620545\"/>\r\n     <use style=\"fill:#4c72b0;stroke:#4c72b0;\" x=\"316.650515\" xlink:href=\"#me6abb9e9d9\" y=\"20.031332\"/>\r\n     <use style=\"fill:#4c72b0;stroke:#4c72b0;\" x=\"321.640083\" xlink:href=\"#me6abb9e9d9\" y=\"19.487812\"/>\r\n     <use style=\"fill:#4c72b0;stroke:#4c72b0;\" x=\"326.629651\" xlink:href=\"#me6abb9e9d9\" y=\"18.989106\"/>\r\n     <use style=\"fill:#4c72b0;stroke:#4c72b0;\" x=\"331.619219\" xlink:href=\"#me6abb9e9d9\" y=\"18.600259\"/>\r\n     <use style=\"fill:#4c72b0;stroke:#4c72b0;\" x=\"336.608786\" xlink:href=\"#me6abb9e9d9\" y=\"18.253951\"/>\r\n     <use style=\"fill:#4c72b0;stroke:#4c72b0;\" x=\"341.598354\" xlink:href=\"#me6abb9e9d9\" y=\"17.936403\"/>\r\n     <use style=\"fill:#4c72b0;stroke:#4c72b0;\" x=\"346.587922\" xlink:href=\"#me6abb9e9d9\" y=\"17.641968\"/>\r\n     <use style=\"fill:#4c72b0;stroke:#4c72b0;\" x=\"351.57749\" xlink:href=\"#me6abb9e9d9\" y=\"17.396147\"/>\r\n     <use style=\"fill:#4c72b0;stroke:#4c72b0;\" x=\"356.567058\" xlink:href=\"#me6abb9e9d9\" y=\"17.193755\"/>\r\n     <use style=\"fill:#4c72b0;stroke:#4c72b0;\" x=\"361.556625\" xlink:href=\"#me6abb9e9d9\" y=\"17.083636\"/>\r\n     <use style=\"fill:#4c72b0;stroke:#4c72b0;\" x=\"366.546193\" xlink:href=\"#me6abb9e9d9\" y=\"17.083636\"/>\r\n    </g>\r\n   </g>\r\n   <g id=\"line2d_15\">\r\n    <path clip-path=\"url(#p09f5a4cd90)\" d=\"M 301.681812 224.64 \r\nL 301.681812 7.2 \r\n\" style=\"fill:none;stroke:#c44e52;stroke-dasharray:14.8,6.4;stroke-dashoffset:0;stroke-width:4;\"/>\r\n   </g>\r\n   <g id=\"patch_3\">\r\n    <path d=\"M 46.964375 224.64 \r\nL 46.964375 7.2 \r\n\" style=\"fill:none;stroke:#cccccc;stroke-linecap:square;stroke-linejoin:miter;stroke-width:1.25;\"/>\r\n   </g>\r\n   <g id=\"patch_4\">\r\n    <path d=\"M 381.764375 224.64 \r\nL 381.764375 7.2 \r\n\" style=\"fill:none;stroke:#cccccc;stroke-linecap:square;stroke-linejoin:miter;stroke-width:1.25;\"/>\r\n   </g>\r\n   <g id=\"patch_5\">\r\n    <path d=\"M 46.964375 224.64 \r\nL 381.764375 224.64 \r\n\" style=\"fill:none;stroke:#cccccc;stroke-linecap:square;stroke-linejoin:miter;stroke-width:1.25;\"/>\r\n   </g>\r\n   <g id=\"patch_6\">\r\n    <path d=\"M 46.964375 7.2 \r\nL 381.764375 7.2 \r\n\" style=\"fill:none;stroke:#cccccc;stroke-linecap:square;stroke-linejoin:miter;stroke-width:1.25;\"/>\r\n   </g>\r\n  </g>\r\n </g>\r\n <defs>\r\n  <clipPath id=\"p09f5a4cd90\">\r\n   <rect height=\"217.44\" width=\"334.8\" x=\"46.964375\" y=\"7.2\"/>\r\n  </clipPath>\r\n </defs>\r\n</svg>\r\n",
      "image/png": "[encoded data removed]"
     },
     "metadata": {}
    }
   ],
   "source": [
    "#visualize above on a graph\n",
    "pca = PCA().fit(scaled_features)\n",
    "sns.set(style='whitegrid')\n",
    "plt.plot(np.cumsum(pca.explained_variance_ratio_)[0:62], marker='.')\n",
    "plt.xlabel('No of components')\n",
    "plt.ylabel('cumulative explained variance')\n",
    "plt.axvline(linewidth=4, color='r', linestyle='--', x=48, ymin=0, ymax=1)\n",
    "plt.show()"
   ]
  },
  {
   "cell_type": "code",
   "execution_count": 18,
   "metadata": {},
   "outputs": [],
   "source": [
    "#initialize PCA model\n",
    "pca = PCA(n_components=50)\n",
    "\n",
    "crime_pca = pca.fit_transform(scaled_features)"
   ]
  },
  {
   "cell_type": "code",
   "execution_count": 19,
   "metadata": {},
   "outputs": [
    {
     "output_type": "execute_result",
     "data": {
      "text/plain": [
       "Index(['ZipCode', 'PdDistricts', 'Months', 'Day', 'TimeOfDay', 'Resolutions',\n",
       "       'Category_ASSAULT', 'Category_BURGLARY', 'Category_DRUG/NARCOTIC',\n",
       "       'Category_FRAUD', 'Category_LARCENY/THEFT', 'Category_MISSING PERSON',\n",
       "       'Category_NON-CRIMINAL', 'Category_OTHER', 'Category_OTHER OFFENSES',\n",
       "       'Category_ROBBERY', 'Category_SECONDARY CODES',\n",
       "       'Category_SUSPICIOUS OCC', 'Category_TRESPASS', 'Category_VANDALISM',\n",
       "       'Category_VEHICLE THEFT', 'Category_WARRANTS', 'Category_WEAPON LAWS',\n",
       "       'Descript_AGGRAVATED ASSAULT WITH A DEADLY WEAPON',\n",
       "       'Descript_AIDED CASE', 'Descript_AIDED CASE, MENTAL DISTURBED',\n",
       "       'Descript_BATTERY',\n",
       "       'Descript_BATTERY, FORMER SPOUSE OR DATING RELATIONSHIP',\n",
       "       'Descript_CREDIT CARD, THEFT BY USE OF', 'Descript_DOMESTIC VIOLENCE',\n",
       "       'Descript_DRIVERS LICENSE, SUSPENDED OR REVOKED',\n",
       "       'Descript_ENROUTE TO OUTSIDE JURISDICTION',\n",
       "       'Descript_FALSE PERSONATION TO RECEIVE MONEY OR PROPERTY',\n",
       "       'Descript_FOUND PERSON', 'Descript_FOUND PROPERTY',\n",
       "       'Descript_GRAND THEFT FROM A BUILDING',\n",
       "       'Descript_GRAND THEFT FROM LOCKED AUTO',\n",
       "       'Descript_GRAND THEFT FROM PERSON',\n",
       "       'Descript_GRAND THEFT FROM UNLOCKED AUTO',\n",
       "       'Descript_GRAND THEFT OF PROPERTY',\n",
       "       'Descript_INFLICT INJURY ON COHABITEE',\n",
       "       'Descript_INVESTIGATIVE DETENTION', 'Descript_LOST PROPERTY',\n",
       "       'Descript_LOST/STOLEN LICENSE PLATE',\n",
       "       'Descript_MALICIOUS MISCHIEF, VANDALISM',\n",
       "       'Descript_MALICIOUS MISCHIEF, VANDALISM OF VEHICLES',\n",
       "       'Descript_MISCELLANEOUS INVESTIGATION', 'Descript_MISSING ADULT',\n",
       "       'Descript_OTHER', 'Descript_PETTY THEFT FROM A BUILDING',\n",
       "       'Descript_PETTY THEFT FROM LOCKED AUTO',\n",
       "       'Descript_PETTY THEFT OF PROPERTY', 'Descript_PETTY THEFT SHOPLIFTING',\n",
       "       'Descript_POSSESSION OF NARCOTICS PARAPHERNALIA',\n",
       "       'Descript_RESISTING ARREST', 'Descript_STOLEN AUTOMOBILE',\n",
       "       'Descript_STOLEN TRUCK', 'Descript_SUSPICIOUS OCCURRENCE',\n",
       "       'Descript_THREATS AGAINST LIFE', 'Descript_TRAFFIC VIOLATION',\n",
       "       'Descript_TRAFFIC VIOLATION ARREST', 'Descript_TRESPASSING',\n",
       "       'Descript_WARRANT ARREST'],\n",
       "      dtype='object')"
      ]
     },
     "metadata": {},
     "execution_count": 19
    }
   ],
   "source": [
    "columns = scaled_features.columns\n",
    "columns"
   ]
  },
  {
   "cell_type": "code",
   "execution_count": 20,
   "metadata": {},
   "outputs": [
    {
     "output_type": "execute_result",
     "data": {
      "text/plain": [
       "    Cumulative Variance Ratio  Explained Variance Ratio\n",
       "0                    0.038017                  0.038017\n",
       "1                    0.071077                  0.033060\n",
       "2                    0.103770                  0.032693\n",
       "3                    0.136332                  0.032561\n",
       "4                    0.168555                  0.032224\n",
       "5                    0.200236                  0.031681\n",
       "6                    0.231487                  0.031250\n",
       "7                    0.262665                  0.031178\n",
       "8                    0.292646                  0.029982\n",
       "9                    0.322352                  0.029705\n",
       "10                   0.351613                  0.029261\n",
       "11                   0.379456                  0.027844\n",
       "12                   0.403915                  0.024459\n",
       "13                   0.423943                  0.020028\n",
       "14                   0.441351                  0.017409\n",
       "15                   0.458417                  0.017066\n",
       "16                   0.475280                  0.016862\n",
       "17                   0.491940                  0.016660\n",
       "18                   0.508565                  0.016625\n",
       "19                   0.525116                  0.016551\n",
       "20                   0.541646                  0.016530\n",
       "21                   0.558162                  0.016516\n",
       "22                   0.574623                  0.016461\n",
       "23                   0.591077                  0.016455\n",
       "24                   0.607482                  0.016404\n",
       "25                   0.623863                  0.016382\n",
       "26                   0.640232                  0.016369\n",
       "27                   0.656585                  0.016352\n",
       "28                   0.672906                  0.016322\n",
       "29                   0.689219                  0.016313\n",
       "30                   0.705518                  0.016299\n",
       "31                   0.721808                  0.016290\n",
       "32                   0.738087                  0.016279\n",
       "33                   0.754353                  0.016266\n",
       "34                   0.770614                  0.016261\n",
       "35                   0.786858                  0.016244\n",
       "36                   0.803094                  0.016236\n",
       "37                   0.819321                  0.016227\n",
       "38                   0.835539                  0.016218\n",
       "39                   0.851751                  0.016212\n",
       "40                   0.867958                  0.016207\n",
       "41                   0.884161                  0.016204\n",
       "42                   0.900131                  0.015969\n",
       "43                   0.915888                  0.015757\n",
       "44                   0.931416                  0.015528\n",
       "45                   0.946301                  0.014885\n",
       "46                   0.958355                  0.012054\n",
       "47                   0.968236                  0.009881\n",
       "48                   0.975161                  0.006924\n",
       "49                   0.979566                  0.004405"
      ],
      "text/html": "<div>\n<style scoped>\n    .dataframe tbody tr th:only-of-type {\n        vertical-align: middle;\n    }\n\n    .dataframe tbody tr th {\n        vertical-align: top;\n    }\n\n    .dataframe thead th {\n        text-align: right;\n    }\n</style>\n<table border=\"1\" class=\"dataframe\">\n  <thead>\n    <tr style=\"text-align: right;\">\n      <th></th>\n      <th>Cumulative Variance Ratio</th>\n      <th>Explained Variance Ratio</th>\n    </tr>\n  </thead>\n  <tbody>\n    <tr>\n      <th>0</th>\n      <td>0.038017</td>\n      <td>0.038017</td>\n    </tr>\n    <tr>\n      <th>1</th>\n      <td>0.071077</td>\n      <td>0.033060</td>\n    </tr>\n    <tr>\n      <th>2</th>\n      <td>0.103770</td>\n      <td>0.032693</td>\n    </tr>\n    <tr>\n      <th>3</th>\n      <td>0.136332</td>\n      <td>0.032561</td>\n    </tr>\n    <tr>\n      <th>4</th>\n      <td>0.168555</td>\n      <td>0.032224</td>\n    </tr>\n    <tr>\n      <th>5</th>\n      <td>0.200236</td>\n      <td>0.031681</td>\n    </tr>\n    <tr>\n      <th>6</th>\n      <td>0.231487</td>\n      <td>0.031250</td>\n    </tr>\n    <tr>\n      <th>7</th>\n      <td>0.262665</td>\n      <td>0.031178</td>\n    </tr>\n    <tr>\n      <th>8</th>\n      <td>0.292646</td>\n      <td>0.029982</td>\n    </tr>\n    <tr>\n      <th>9</th>\n      <td>0.322352</td>\n      <td>0.029705</td>\n    </tr>\n    <tr>\n      <th>10</th>\n      <td>0.351613</td>\n      <td>0.029261</td>\n    </tr>\n    <tr>\n      <th>11</th>\n      <td>0.379456</td>\n      <td>0.027844</td>\n    </tr>\n    <tr>\n      <th>12</th>\n      <td>0.403915</td>\n      <td>0.024459</td>\n    </tr>\n    <tr>\n      <th>13</th>\n      <td>0.423943</td>\n      <td>0.020028</td>\n    </tr>\n    <tr>\n      <th>14</th>\n      <td>0.441351</td>\n      <td>0.017409</td>\n    </tr>\n    <tr>\n      <th>15</th>\n      <td>0.458417</td>\n      <td>0.017066</td>\n    </tr>\n    <tr>\n      <th>16</th>\n      <td>0.475280</td>\n      <td>0.016862</td>\n    </tr>\n    <tr>\n      <th>17</th>\n      <td>0.491940</td>\n      <td>0.016660</td>\n    </tr>\n    <tr>\n      <th>18</th>\n      <td>0.508565</td>\n      <td>0.016625</td>\n    </tr>\n    <tr>\n      <th>19</th>\n      <td>0.525116</td>\n      <td>0.016551</td>\n    </tr>\n    <tr>\n      <th>20</th>\n      <td>0.541646</td>\n      <td>0.016530</td>\n    </tr>\n    <tr>\n      <th>21</th>\n      <td>0.558162</td>\n      <td>0.016516</td>\n    </tr>\n    <tr>\n      <th>22</th>\n      <td>0.574623</td>\n      <td>0.016461</td>\n    </tr>\n    <tr>\n      <th>23</th>\n      <td>0.591077</td>\n      <td>0.016455</td>\n    </tr>\n    <tr>\n      <th>24</th>\n      <td>0.607482</td>\n      <td>0.016404</td>\n    </tr>\n    <tr>\n      <th>25</th>\n      <td>0.623863</td>\n      <td>0.016382</td>\n    </tr>\n    <tr>\n      <th>26</th>\n      <td>0.640232</td>\n      <td>0.016369</td>\n    </tr>\n    <tr>\n      <th>27</th>\n      <td>0.656585</td>\n      <td>0.016352</td>\n    </tr>\n    <tr>\n      <th>28</th>\n      <td>0.672906</td>\n      <td>0.016322</td>\n    </tr>\n    <tr>\n      <th>29</th>\n      <td>0.689219</td>\n      <td>0.016313</td>\n    </tr>\n    <tr>\n      <th>30</th>\n      <td>0.705518</td>\n      <td>0.016299</td>\n    </tr>\n    <tr>\n      <th>31</th>\n      <td>0.721808</td>\n      <td>0.016290</td>\n    </tr>\n    <tr>\n      <th>32</th>\n      <td>0.738087</td>\n      <td>0.016279</td>\n    </tr>\n    <tr>\n      <th>33</th>\n      <td>0.754353</td>\n      <td>0.016266</td>\n    </tr>\n    <tr>\n      <th>34</th>\n      <td>0.770614</td>\n      <td>0.016261</td>\n    </tr>\n    <tr>\n      <th>35</th>\n      <td>0.786858</td>\n      <td>0.016244</td>\n    </tr>\n    <tr>\n      <th>36</th>\n      <td>0.803094</td>\n      <td>0.016236</td>\n    </tr>\n    <tr>\n      <th>37</th>\n      <td>0.819321</td>\n      <td>0.016227</td>\n    </tr>\n    <tr>\n      <th>38</th>\n      <td>0.835539</td>\n      <td>0.016218</td>\n    </tr>\n    <tr>\n      <th>39</th>\n      <td>0.851751</td>\n      <td>0.016212</td>\n    </tr>\n    <tr>\n      <th>40</th>\n      <td>0.867958</td>\n      <td>0.016207</td>\n    </tr>\n    <tr>\n      <th>41</th>\n      <td>0.884161</td>\n      <td>0.016204</td>\n    </tr>\n    <tr>\n      <th>42</th>\n      <td>0.900131</td>\n      <td>0.015969</td>\n    </tr>\n    <tr>\n      <th>43</th>\n      <td>0.915888</td>\n      <td>0.015757</td>\n    </tr>\n    <tr>\n      <th>44</th>\n      <td>0.931416</td>\n      <td>0.015528</td>\n    </tr>\n    <tr>\n      <th>45</th>\n      <td>0.946301</td>\n      <td>0.014885</td>\n    </tr>\n    <tr>\n      <th>46</th>\n      <td>0.958355</td>\n      <td>0.012054</td>\n    </tr>\n    <tr>\n      <th>47</th>\n      <td>0.968236</td>\n      <td>0.009881</td>\n    </tr>\n    <tr>\n      <th>48</th>\n      <td>0.975161</td>\n      <td>0.006924</td>\n    </tr>\n    <tr>\n      <th>49</th>\n      <td>0.979566</td>\n      <td>0.004405</td>\n    </tr>\n  </tbody>\n</table>\n</div>"
     },
     "metadata": {},
     "execution_count": 20
    }
   ],
   "source": [
    "evr = pca.explained_variance_ratio_\n",
    "cvr = np.cumsum(pca.explained_variance_ratio_)\n",
    "\n",
    "pca_df = pd.DataFrame()\n",
    "pca_df['Cumulative Variance Ratio'] = cvr\n",
    "pca_df['Explained Variance Ratio'] = evr\n",
    "pca_df.head(50)"
   ]
  },
  {
   "cell_type": "code",
   "execution_count": 21,
   "metadata": {},
   "outputs": [
    {
     "output_type": "execute_result",
     "data": {
      "text/plain": [
       "                                   PCA Component 0  PCA Component 1  \\\n",
       "ZipCode                                  -0.034623         0.046537   \n",
       "PdDistricts                               0.029557        -0.041397   \n",
       "Months                                    0.009402         0.013644   \n",
       "Day                                      -0.020442        -0.016276   \n",
       "TimeOfDay                                -0.096490         0.004817   \n",
       "...                                            ...              ...   \n",
       "Descript_THREATS AGAINST LIFE            -0.040718        -0.021820   \n",
       "Descript_TRAFFIC VIOLATION               -0.060941        -0.078898   \n",
       "Descript_TRAFFIC VIOLATION ARREST        -0.067558        -0.090981   \n",
       "Descript_TRESPASSING                     -0.033509        -0.023547   \n",
       "Descript_WARRANT ARREST                  -0.056232        -0.192985   \n",
       "\n",
       "                                   PCA Component 2  PCA Component 3  \\\n",
       "ZipCode                                  -0.030861        -0.109518   \n",
       "PdDistricts                               0.020281         0.113503   \n",
       "Months                                   -0.001802        -0.012285   \n",
       "Day                                       0.021973         0.000274   \n",
       "TimeOfDay                                 0.005102        -0.020787   \n",
       "...                                            ...              ...   \n",
       "Descript_THREATS AGAINST LIFE            -0.000134        -0.033053   \n",
       "Descript_TRAFFIC VIOLATION                0.006316        -0.046007   \n",
       "Descript_TRAFFIC VIOLATION ARREST         0.008704        -0.046052   \n",
       "Descript_TRESPASSING                      0.013995        -0.000613   \n",
       "Descript_WARRANT ARREST                   0.333424         0.253325   \n",
       "\n",
       "                                   PCA Component 4  PCA Component 5  \\\n",
       "ZipCode                                   0.019410         0.067544   \n",
       "PdDistricts                              -0.029581        -0.059124   \n",
       "Months                                   -0.003627        -0.004617   \n",
       "Day                                      -0.008004         0.001801   \n",
       "TimeOfDay                                -0.031938        -0.033128   \n",
       "...                                            ...              ...   \n",
       "Descript_THREATS AGAINST LIFE            -0.026264        -0.003614   \n",
       "Descript_TRAFFIC VIOLATION               -0.056699        -0.033018   \n",
       "Descript_TRAFFIC VIOLATION ARREST        -0.064257        -0.039780   \n",
       "Descript_TRESPASSING                     -0.013859        -0.017302   \n",
       "Descript_WARRANT ARREST                   0.230137         0.089839   \n",
       "\n",
       "                                   PCA Component 6  PCA Component 7  \\\n",
       "ZipCode                                  -0.015245         0.010353   \n",
       "PdDistricts                               0.013527         0.006819   \n",
       "Months                                    0.009657         0.003274   \n",
       "Day                                      -0.009679         0.008311   \n",
       "TimeOfDay                                 0.014799        -0.005956   \n",
       "...                                            ...              ...   \n",
       "Descript_THREATS AGAINST LIFE             0.162077        -0.189702   \n",
       "Descript_TRAFFIC VIOLATION               -0.101819         0.084001   \n",
       "Descript_TRAFFIC VIOLATION ARREST        -0.112889         0.093439   \n",
       "Descript_TRESPASSING                      0.008371         0.000276   \n",
       "Descript_WARRANT ARREST                  -0.001109        -0.003379   \n",
       "\n",
       "                                   PCA Component 8  PCA Component 9  ...  \\\n",
       "ZipCode                                  -0.022176         0.028737  ...   \n",
       "PdDistricts                               0.021873        -0.006916  ...   \n",
       "Months                                    0.010366         0.005902  ...   \n",
       "Day                                       0.008145         0.003297  ...   \n",
       "TimeOfDay                                 0.035943         0.005687  ...   \n",
       "...                                            ...              ...  ...   \n",
       "Descript_THREATS AGAINST LIFE            -0.056414        -0.041334  ...   \n",
       "Descript_TRAFFIC VIOLATION               -0.080665        -0.062168  ...   \n",
       "Descript_TRAFFIC VIOLATION ARREST        -0.088696        -0.070131  ...   \n",
       "Descript_TRESPASSING                      0.633228        -0.223504  ...   \n",
       "Descript_WARRANT ARREST                  -0.016151         0.012931  ...   \n",
       "\n",
       "                                   PCA Component 40  PCA Component 41  \\\n",
       "ZipCode                                    0.009739          0.006906   \n",
       "PdDistricts                                0.009999          0.003617   \n",
       "Months                                     0.023084          0.020733   \n",
       "Day                                        0.042622          0.012652   \n",
       "TimeOfDay                                 -0.001010          0.003142   \n",
       "...                                             ...               ...   \n",
       "Descript_THREATS AGAINST LIFE              0.014074          0.017769   \n",
       "Descript_TRAFFIC VIOLATION                -0.033928         -0.032182   \n",
       "Descript_TRAFFIC VIOLATION ARREST         -0.008866         -0.008607   \n",
       "Descript_TRESPASSING                      -0.000351         -0.000335   \n",
       "Descript_WARRANT ARREST                   -0.008762         -0.001052   \n",
       "\n",
       "                                   PCA Component 42  PCA Component 43  \\\n",
       "ZipCode                                   -0.049406          0.161981   \n",
       "PdDistricts                                0.010507         -0.177527   \n",
       "Months                                    -0.435150         -0.582234   \n",
       "Day                                       -0.586577          0.361535   \n",
       "TimeOfDay                                  0.026596         -0.143871   \n",
       "...                                             ...               ...   \n",
       "Descript_THREATS AGAINST LIFE              0.075520         -0.110694   \n",
       "Descript_TRAFFIC VIOLATION                 0.235852         -0.065877   \n",
       "Descript_TRAFFIC VIOLATION ARREST         -0.000776          0.129646   \n",
       "Descript_TRESPASSING                       0.007251          0.012235   \n",
       "Descript_WARRANT ARREST                    0.010911         -0.008455   \n",
       "\n",
       "                                   PCA Component 44  PCA Component 45  \\\n",
       "ZipCode                                    0.206313         -0.024068   \n",
       "PdDistricts                               -0.238860          0.022076   \n",
       "Months                                     0.322871          0.117081   \n",
       "Day                                       -0.415846         -0.177833   \n",
       "TimeOfDay                                  0.003086         -0.759919   \n",
       "...                                             ...               ...   \n",
       "Descript_THREATS AGAINST LIFE             -0.042703         -0.040644   \n",
       "Descript_TRAFFIC VIOLATION                -0.082026         -0.029725   \n",
       "Descript_TRAFFIC VIOLATION ARREST          0.100961         -0.050602   \n",
       "Descript_TRESPASSING                       0.004433          0.026181   \n",
       "Descript_WARRANT ARREST                    0.059507          0.014282   \n",
       "\n",
       "                                   PCA Component 46  PCA Component 47  \\\n",
       "ZipCode                                    0.703406         -0.016352   \n",
       "PdDistricts                                0.689136          0.068003   \n",
       "Months                                    -0.003571          0.002018   \n",
       "Day                                       -0.043390          0.012129   \n",
       "TimeOfDay                                  0.011351         -0.055293   \n",
       "...                                             ...               ...   \n",
       "Descript_THREATS AGAINST LIFE              0.013116          0.044668   \n",
       "Descript_TRAFFIC VIOLATION                 0.026519          0.070236   \n",
       "Descript_TRAFFIC VIOLATION ARREST         -0.011905          0.072676   \n",
       "Descript_TRESPASSING                       0.009411          0.034072   \n",
       "Descript_WARRANT ARREST                   -0.006275          0.008475   \n",
       "\n",
       "                                   PCA Component 48  PCA Component 49  \n",
       "ZipCode                                    0.012876          0.003343  \n",
       "PdDistricts                               -0.043112         -0.005661  \n",
       "Months                                    -0.000028          0.000342  \n",
       "Day                                        0.001713          0.003382  \n",
       "TimeOfDay                                  0.007918         -0.000496  \n",
       "...                                             ...               ...  \n",
       "Descript_THREATS AGAINST LIFE              0.053866          0.026338  \n",
       "Descript_TRAFFIC VIOLATION                 0.089271          0.071446  \n",
       "Descript_TRAFFIC VIOLATION ARREST          0.100168          0.079000  \n",
       "Descript_TRESPASSING                       0.040186          0.017871  \n",
       "Descript_WARRANT ARREST                    0.009680          0.002941  \n",
       "\n",
       "[63 rows x 50 columns]"
      ],
      "text/html": "<div>\n<style scoped>\n    .dataframe tbody tr th:only-of-type {\n        vertical-align: middle;\n    }\n\n    .dataframe tbody tr th {\n        vertical-align: top;\n    }\n\n    .dataframe thead th {\n        text-align: right;\n    }\n</style>\n<table border=\"1\" class=\"dataframe\">\n  <thead>\n    <tr style=\"text-align: right;\">\n      <th></th>\n      <th>PCA Component 0</th>\n      <th>PCA Component 1</th>\n      <th>PCA Component 2</th>\n      <th>PCA Component 3</th>\n      <th>PCA Component 4</th>\n      <th>PCA Component 5</th>\n      <th>PCA Component 6</th>\n      <th>PCA Component 7</th>\n      <th>PCA Component 8</th>\n      <th>PCA Component 9</th>\n      <th>...</th>\n      <th>PCA Component 40</th>\n      <th>PCA Component 41</th>\n      <th>PCA Component 42</th>\n      <th>PCA Component 43</th>\n      <th>PCA Component 44</th>\n      <th>PCA Component 45</th>\n      <th>PCA Component 46</th>\n      <th>PCA Component 47</th>\n      <th>PCA Component 48</th>\n      <th>PCA Component 49</th>\n    </tr>\n  </thead>\n  <tbody>\n    <tr>\n      <th>ZipCode</th>\n      <td>-0.034623</td>\n      <td>0.046537</td>\n      <td>-0.030861</td>\n      <td>-0.109518</td>\n      <td>0.019410</td>\n      <td>0.067544</td>\n      <td>-0.015245</td>\n      <td>0.010353</td>\n      <td>-0.022176</td>\n      <td>0.028737</td>\n      <td>...</td>\n      <td>0.009739</td>\n      <td>0.006906</td>\n      <td>-0.049406</td>\n      <td>0.161981</td>\n      <td>0.206313</td>\n      <td>-0.024068</td>\n      <td>0.703406</td>\n      <td>-0.016352</td>\n      <td>0.012876</td>\n      <td>0.003343</td>\n    </tr>\n    <tr>\n      <th>PdDistricts</th>\n      <td>0.029557</td>\n      <td>-0.041397</td>\n      <td>0.020281</td>\n      <td>0.113503</td>\n      <td>-0.029581</td>\n      <td>-0.059124</td>\n      <td>0.013527</td>\n      <td>0.006819</td>\n      <td>0.021873</td>\n      <td>-0.006916</td>\n      <td>...</td>\n      <td>0.009999</td>\n      <td>0.003617</td>\n      <td>0.010507</td>\n      <td>-0.177527</td>\n      <td>-0.238860</td>\n      <td>0.022076</td>\n      <td>0.689136</td>\n      <td>0.068003</td>\n      <td>-0.043112</td>\n      <td>-0.005661</td>\n    </tr>\n    <tr>\n      <th>Months</th>\n      <td>0.009402</td>\n      <td>0.013644</td>\n      <td>-0.001802</td>\n      <td>-0.012285</td>\n      <td>-0.003627</td>\n      <td>-0.004617</td>\n      <td>0.009657</td>\n      <td>0.003274</td>\n      <td>0.010366</td>\n      <td>0.005902</td>\n      <td>...</td>\n      <td>0.023084</td>\n      <td>0.020733</td>\n      <td>-0.435150</td>\n      <td>-0.582234</td>\n      <td>0.322871</td>\n      <td>0.117081</td>\n      <td>-0.003571</td>\n      <td>0.002018</td>\n      <td>-0.000028</td>\n      <td>0.000342</td>\n    </tr>\n    <tr>\n      <th>Day</th>\n      <td>-0.020442</td>\n      <td>-0.016276</td>\n      <td>0.021973</td>\n      <td>0.000274</td>\n      <td>-0.008004</td>\n      <td>0.001801</td>\n      <td>-0.009679</td>\n      <td>0.008311</td>\n      <td>0.008145</td>\n      <td>0.003297</td>\n      <td>...</td>\n      <td>0.042622</td>\n      <td>0.012652</td>\n      <td>-0.586577</td>\n      <td>0.361535</td>\n      <td>-0.415846</td>\n      <td>-0.177833</td>\n      <td>-0.043390</td>\n      <td>0.012129</td>\n      <td>0.001713</td>\n      <td>0.003382</td>\n    </tr>\n    <tr>\n      <th>TimeOfDay</th>\n      <td>-0.096490</td>\n      <td>0.004817</td>\n      <td>0.005102</td>\n      <td>-0.020787</td>\n      <td>-0.031938</td>\n      <td>-0.033128</td>\n      <td>0.014799</td>\n      <td>-0.005956</td>\n      <td>0.035943</td>\n      <td>0.005687</td>\n      <td>...</td>\n      <td>-0.001010</td>\n      <td>0.003142</td>\n      <td>0.026596</td>\n      <td>-0.143871</td>\n      <td>0.003086</td>\n      <td>-0.759919</td>\n      <td>0.011351</td>\n      <td>-0.055293</td>\n      <td>0.007918</td>\n      <td>-0.000496</td>\n    </tr>\n    <tr>\n      <th>...</th>\n      <td>...</td>\n      <td>...</td>\n      <td>...</td>\n      <td>...</td>\n      <td>...</td>\n      <td>...</td>\n      <td>...</td>\n      <td>...</td>\n      <td>...</td>\n      <td>...</td>\n      <td>...</td>\n      <td>...</td>\n      <td>...</td>\n      <td>...</td>\n      <td>...</td>\n      <td>...</td>\n      <td>...</td>\n      <td>...</td>\n      <td>...</td>\n      <td>...</td>\n      <td>...</td>\n    </tr>\n    <tr>\n      <th>Descript_THREATS AGAINST LIFE</th>\n      <td>-0.040718</td>\n      <td>-0.021820</td>\n      <td>-0.000134</td>\n      <td>-0.033053</td>\n      <td>-0.026264</td>\n      <td>-0.003614</td>\n      <td>0.162077</td>\n      <td>-0.189702</td>\n      <td>-0.056414</td>\n      <td>-0.041334</td>\n      <td>...</td>\n      <td>0.014074</td>\n      <td>0.017769</td>\n      <td>0.075520</td>\n      <td>-0.110694</td>\n      <td>-0.042703</td>\n      <td>-0.040644</td>\n      <td>0.013116</td>\n      <td>0.044668</td>\n      <td>0.053866</td>\n      <td>0.026338</td>\n    </tr>\n    <tr>\n      <th>Descript_TRAFFIC VIOLATION</th>\n      <td>-0.060941</td>\n      <td>-0.078898</td>\n      <td>0.006316</td>\n      <td>-0.046007</td>\n      <td>-0.056699</td>\n      <td>-0.033018</td>\n      <td>-0.101819</td>\n      <td>0.084001</td>\n      <td>-0.080665</td>\n      <td>-0.062168</td>\n      <td>...</td>\n      <td>-0.033928</td>\n      <td>-0.032182</td>\n      <td>0.235852</td>\n      <td>-0.065877</td>\n      <td>-0.082026</td>\n      <td>-0.029725</td>\n      <td>0.026519</td>\n      <td>0.070236</td>\n      <td>0.089271</td>\n      <td>0.071446</td>\n    </tr>\n    <tr>\n      <th>Descript_TRAFFIC VIOLATION ARREST</th>\n      <td>-0.067558</td>\n      <td>-0.090981</td>\n      <td>0.008704</td>\n      <td>-0.046052</td>\n      <td>-0.064257</td>\n      <td>-0.039780</td>\n      <td>-0.112889</td>\n      <td>0.093439</td>\n      <td>-0.088696</td>\n      <td>-0.070131</td>\n      <td>...</td>\n      <td>-0.008866</td>\n      <td>-0.008607</td>\n      <td>-0.000776</td>\n      <td>0.129646</td>\n      <td>0.100961</td>\n      <td>-0.050602</td>\n      <td>-0.011905</td>\n      <td>0.072676</td>\n      <td>0.100168</td>\n      <td>0.079000</td>\n    </tr>\n    <tr>\n      <th>Descript_TRESPASSING</th>\n      <td>-0.033509</td>\n      <td>-0.023547</td>\n      <td>0.013995</td>\n      <td>-0.000613</td>\n      <td>-0.013859</td>\n      <td>-0.017302</td>\n      <td>0.008371</td>\n      <td>0.000276</td>\n      <td>0.633228</td>\n      <td>-0.223504</td>\n      <td>...</td>\n      <td>-0.000351</td>\n      <td>-0.000335</td>\n      <td>0.007251</td>\n      <td>0.012235</td>\n      <td>0.004433</td>\n      <td>0.026181</td>\n      <td>0.009411</td>\n      <td>0.034072</td>\n      <td>0.040186</td>\n      <td>0.017871</td>\n    </tr>\n    <tr>\n      <th>Descript_WARRANT ARREST</th>\n      <td>-0.056232</td>\n      <td>-0.192985</td>\n      <td>0.333424</td>\n      <td>0.253325</td>\n      <td>0.230137</td>\n      <td>0.089839</td>\n      <td>-0.001109</td>\n      <td>-0.003379</td>\n      <td>-0.016151</td>\n      <td>0.012931</td>\n      <td>...</td>\n      <td>-0.008762</td>\n      <td>-0.001052</td>\n      <td>0.010911</td>\n      <td>-0.008455</td>\n      <td>0.059507</td>\n      <td>0.014282</td>\n      <td>-0.006275</td>\n      <td>0.008475</td>\n      <td>0.009680</td>\n      <td>0.002941</td>\n    </tr>\n  </tbody>\n</table>\n<p>63 rows × 50 columns</p>\n</div>"
     },
     "metadata": {},
     "execution_count": 21
    }
   ],
   "source": [
    "pca_dims = []\n",
    "for x in range(0, len(pca_df)):\n",
    "    pca_dims.append('PCA Component {}'.format(x))\n",
    "pca_test_df = pd.DataFrame(pca.components_, columns=columns, index=pca_dims)\n",
    "pca_test_df.head(50).T"
   ]
  },
  {
   "cell_type": "code",
   "execution_count": 22,
   "metadata": {},
   "outputs": [
    {
     "output_type": "execute_result",
     "data": {
      "text/plain": [
       "          0         1         2         3         4         5         6  \\\n",
       "0 -1.246750 -0.844068 -0.409222 -0.132834 -0.630385 -0.377883 -0.069611   \n",
       "1 -1.246750 -0.844068 -0.409222 -0.132834 -0.630385 -0.377883 -0.069611   \n",
       "2 -0.895674 -2.624254  4.575264  3.256476  3.297004  1.436539 -0.077342   \n",
       "3 -0.518046  1.870769 -1.905241  3.460478  0.170920 -0.182901 -0.438931   \n",
       "4 -0.692510  1.985794 -1.978356  3.231742  0.185565 -0.155337 -0.409014   \n",
       "\n",
       "          7         8         9  ...        41        42        43        44  \\\n",
       "0 -0.022982  0.525461  0.509816  ... -0.459491  3.615547 -0.559291 -1.281498   \n",
       "1 -0.022982  0.525461  0.509816  ... -0.459491  3.615547 -0.559291 -1.281498   \n",
       "2 -0.052912 -0.334082  0.188428  ... -0.054629  1.259550  1.101362  0.978752   \n",
       "3 -0.046643 -0.302505 -0.287033  ...  0.126208 -0.955255  1.025470 -1.150519   \n",
       "4 -0.098214 -0.292047 -0.284270  ...  0.089399  0.549029  0.164637  0.296134   \n",
       "\n",
       "         45        46        47        48        49  Target  \n",
       "0 -1.412709  0.253647  1.199879  0.385662  0.028585       0  \n",
       "1 -1.412709  0.253647  1.199879  0.385662  0.028585       0  \n",
       "2  0.879054 -0.426530 -0.056600  0.109617  0.016295       0  \n",
       "3 -0.170961  0.938536  0.276246  0.063580  0.027101       1  \n",
       "4 -1.174351 -0.775759  0.005266  0.160527  0.028331       1  \n",
       "\n",
       "[5 rows x 51 columns]"
      ],
      "text/html": "<div>\n<style scoped>\n    .dataframe tbody tr th:only-of-type {\n        vertical-align: middle;\n    }\n\n    .dataframe tbody tr th {\n        vertical-align: top;\n    }\n\n    .dataframe thead th {\n        text-align: right;\n    }\n</style>\n<table border=\"1\" class=\"dataframe\">\n  <thead>\n    <tr style=\"text-align: right;\">\n      <th></th>\n      <th>0</th>\n      <th>1</th>\n      <th>2</th>\n      <th>3</th>\n      <th>4</th>\n      <th>5</th>\n      <th>6</th>\n      <th>7</th>\n      <th>8</th>\n      <th>9</th>\n      <th>...</th>\n      <th>41</th>\n      <th>42</th>\n      <th>43</th>\n      <th>44</th>\n      <th>45</th>\n      <th>46</th>\n      <th>47</th>\n      <th>48</th>\n      <th>49</th>\n      <th>Target</th>\n    </tr>\n  </thead>\n  <tbody>\n    <tr>\n      <th>0</th>\n      <td>-1.246750</td>\n      <td>-0.844068</td>\n      <td>-0.409222</td>\n      <td>-0.132834</td>\n      <td>-0.630385</td>\n      <td>-0.377883</td>\n      <td>-0.069611</td>\n      <td>-0.022982</td>\n      <td>0.525461</td>\n      <td>0.509816</td>\n      <td>...</td>\n      <td>-0.459491</td>\n      <td>3.615547</td>\n      <td>-0.559291</td>\n      <td>-1.281498</td>\n      <td>-1.412709</td>\n      <td>0.253647</td>\n      <td>1.199879</td>\n      <td>0.385662</td>\n      <td>0.028585</td>\n      <td>0</td>\n    </tr>\n    <tr>\n      <th>1</th>\n      <td>-1.246750</td>\n      <td>-0.844068</td>\n      <td>-0.409222</td>\n      <td>-0.132834</td>\n      <td>-0.630385</td>\n      <td>-0.377883</td>\n      <td>-0.069611</td>\n      <td>-0.022982</td>\n      <td>0.525461</td>\n      <td>0.509816</td>\n      <td>...</td>\n      <td>-0.459491</td>\n      <td>3.615547</td>\n      <td>-0.559291</td>\n      <td>-1.281498</td>\n      <td>-1.412709</td>\n      <td>0.253647</td>\n      <td>1.199879</td>\n      <td>0.385662</td>\n      <td>0.028585</td>\n      <td>0</td>\n    </tr>\n    <tr>\n      <th>2</th>\n      <td>-0.895674</td>\n      <td>-2.624254</td>\n      <td>4.575264</td>\n      <td>3.256476</td>\n      <td>3.297004</td>\n      <td>1.436539</td>\n      <td>-0.077342</td>\n      <td>-0.052912</td>\n      <td>-0.334082</td>\n      <td>0.188428</td>\n      <td>...</td>\n      <td>-0.054629</td>\n      <td>1.259550</td>\n      <td>1.101362</td>\n      <td>0.978752</td>\n      <td>0.879054</td>\n      <td>-0.426530</td>\n      <td>-0.056600</td>\n      <td>0.109617</td>\n      <td>0.016295</td>\n      <td>0</td>\n    </tr>\n    <tr>\n      <th>3</th>\n      <td>-0.518046</td>\n      <td>1.870769</td>\n      <td>-1.905241</td>\n      <td>3.460478</td>\n      <td>0.170920</td>\n      <td>-0.182901</td>\n      <td>-0.438931</td>\n      <td>-0.046643</td>\n      <td>-0.302505</td>\n      <td>-0.287033</td>\n      <td>...</td>\n      <td>0.126208</td>\n      <td>-0.955255</td>\n      <td>1.025470</td>\n      <td>-1.150519</td>\n      <td>-0.170961</td>\n      <td>0.938536</td>\n      <td>0.276246</td>\n      <td>0.063580</td>\n      <td>0.027101</td>\n      <td>1</td>\n    </tr>\n    <tr>\n      <th>4</th>\n      <td>-0.692510</td>\n      <td>1.985794</td>\n      <td>-1.978356</td>\n      <td>3.231742</td>\n      <td>0.185565</td>\n      <td>-0.155337</td>\n      <td>-0.409014</td>\n      <td>-0.098214</td>\n      <td>-0.292047</td>\n      <td>-0.284270</td>\n      <td>...</td>\n      <td>0.089399</td>\n      <td>0.549029</td>\n      <td>0.164637</td>\n      <td>0.296134</td>\n      <td>-1.174351</td>\n      <td>-0.775759</td>\n      <td>0.005266</td>\n      <td>0.160527</td>\n      <td>0.028331</td>\n      <td>1</td>\n    </tr>\n  </tbody>\n</table>\n<p>5 rows × 51 columns</p>\n</div>"
     },
     "metadata": {},
     "execution_count": 22
    }
   ],
   "source": [
    "#create pca dataframe for future use\n",
    "df = pd.DataFrame(data = crime_pca)\n",
    "df['Target'] = scaled_features['Resolutions']\n",
    "df.head()"
   ]
  },
  {
   "cell_type": "code",
   "execution_count": 23,
   "metadata": {},
   "outputs": [],
   "source": [
    "# Saving PCA dataframe\n",
    "pca_df = df"
   ]
  },
  {
   "cell_type": "code",
   "execution_count": 24,
   "metadata": {},
   "outputs": [],
   "source": [
    "#create features\n",
    "X = ml_df.drop(\"Resolutions\", axis=1)\n",
    "\n",
    "#create target\n",
    "y = ml_df[\"Resolutions\"]"
   ]
  },
  {
   "cell_type": "code",
   "execution_count": 25,
   "metadata": {},
   "outputs": [],
   "source": [
    "#train test split\n",
    "X_train, X_test, y_train, y_test = train_test_split(X, y, random_state=1)"
   ]
  },
  {
   "cell_type": "code",
   "execution_count": 26,
   "metadata": {},
   "outputs": [],
   "source": [
    "# train the classifier\n",
    "brf = BalancedRandomForestClassifier()\n",
    "brf.fit(X_train, y_train)\n",
    "y_pred = brf.predict(X_test)"
   ]
  },
  {
   "cell_type": "code",
   "execution_count": 27,
   "metadata": {},
   "outputs": [
    {
     "output_type": "stream",
     "name": "stdout",
     "text": [
      "Random Forest balanced accuracy score = 83.73%\n"
     ]
    }
   ],
   "source": [
    "# Calculated the balanced accuracy score\n",
    "rf_bal_acc = balanced_accuracy_score(y_test,y_pred)\n",
    "print(f\"Random Forest balanced accuracy score = {rf_bal_acc*100:.2f}%\")"
   ]
  },
  {
   "cell_type": "code",
   "execution_count": 28,
   "metadata": {},
   "outputs": [
    {
     "output_type": "display_data",
     "data": {
      "text/plain": "          Predicted 0  Predicted 1\nAcutal 0         8296         1505\nActual 1         4638        22360",
      "text/html": "<div>\n<style scoped>\n    .dataframe tbody tr th:only-of-type {\n        vertical-align: middle;\n    }\n\n    .dataframe tbody tr th {\n        vertical-align: top;\n    }\n\n    .dataframe thead th {\n        text-align: right;\n    }\n</style>\n<table border=\"1\" class=\"dataframe\">\n  <thead>\n    <tr style=\"text-align: right;\">\n      <th></th>\n      <th>Predicted 0</th>\n      <th>Predicted 1</th>\n    </tr>\n  </thead>\n  <tbody>\n    <tr>\n      <th>Acutal 0</th>\n      <td>8296</td>\n      <td>1505</td>\n    </tr>\n    <tr>\n      <th>Actual 1</th>\n      <td>4638</td>\n      <td>22360</td>\n    </tr>\n  </tbody>\n</table>\n</div>"
     },
     "metadata": {}
    }
   ],
   "source": [
    "# Display the confusion matrix\n",
    "rf_cm = confusion_matrix(y_test, y_pred)\n",
    "rf_cm_df = pd.DataFrame(rf_cm, index=[\"Acutal 0\", \"Actual 1\"], columns=[\"Predicted 0\", \"Predicted 1\"])\n",
    "display(rf_cm_df)"
   ]
  },
  {
   "cell_type": "code",
   "execution_count": 29,
   "metadata": {},
   "outputs": [
    {
     "output_type": "stream",
     "name": "stdout",
     "text": [
      "Random Forest imbalanced classification report\n",
      "                   pre       rec       spe        f1       geo       iba       sup\n",
      "\n",
      "          0       0.64      0.85      0.83      0.73      0.84      0.70      9801\n",
      "          1       0.94      0.83      0.85      0.88      0.84      0.70     26998\n",
      "\n",
      "avg / total       0.86      0.83      0.84      0.84      0.84      0.70     36799\n",
      "\n"
     ]
    }
   ],
   "source": [
    "# Print the imbalanced classification report\n",
    "print(\"Random Forest imbalanced classification report\")\n",
    "print(classification_report_imbalanced(y_test,y_pred))"
   ]
  },
  {
   "source": [
    "# AdaBoost Classifier"
   ],
   "cell_type": "markdown",
   "metadata": {}
  },
  {
   "cell_type": "code",
   "execution_count": 30,
   "metadata": {},
   "outputs": [],
   "source": [
    "# Create adaboost classifer object\n",
    "abc = AdaBoostClassifier()\n",
    "# Train Adaboost Classifer\n",
    "model = abc.fit(X_train, y_train)\n",
    "\n",
    "#Predict the response for test dataset\n",
    "y_pred = model.predict(X_test)"
   ]
  },
  {
   "cell_type": "code",
   "execution_count": 31,
   "metadata": {},
   "outputs": [
    {
     "output_type": "stream",
     "name": "stdout",
     "text": [
      "AdaBoost balanced accuracy score = 79.83%\n"
     ]
    }
   ],
   "source": [
    "# Calculated the balanced accuracy score\n",
    "ada_bal_acc = balanced_accuracy_score(y_test,y_pred)\n",
    "print(f\"AdaBoost balanced accuracy score = {ada_bal_acc*100:.2f}%\")"
   ]
  },
  {
   "cell_type": "code",
   "execution_count": 32,
   "metadata": {},
   "outputs": [
    {
     "output_type": "display_data",
     "data": {
      "text/plain": "          Predicted 0  Predicted 1\nAcutal 0         6535         3266\nActual 1         1897        25101",
      "text/html": "<div>\n<style scoped>\n    .dataframe tbody tr th:only-of-type {\n        vertical-align: middle;\n    }\n\n    .dataframe tbody tr th {\n        vertical-align: top;\n    }\n\n    .dataframe thead th {\n        text-align: right;\n    }\n</style>\n<table border=\"1\" class=\"dataframe\">\n  <thead>\n    <tr style=\"text-align: right;\">\n      <th></th>\n      <th>Predicted 0</th>\n      <th>Predicted 1</th>\n    </tr>\n  </thead>\n  <tbody>\n    <tr>\n      <th>Acutal 0</th>\n      <td>6535</td>\n      <td>3266</td>\n    </tr>\n    <tr>\n      <th>Actual 1</th>\n      <td>1897</td>\n      <td>25101</td>\n    </tr>\n  </tbody>\n</table>\n</div>"
     },
     "metadata": {}
    }
   ],
   "source": [
    "# Display the confusion matrix\n",
    "ada_cm = confusion_matrix(y_test, y_pred)\n",
    "ada_cm_df = pd.DataFrame(ada_cm, index=[\"Acutal 0\", \"Actual 1\"], columns=[\"Predicted 0\", \"Predicted 1\"])\n",
    "display(ada_cm_df)"
   ]
  },
  {
   "cell_type": "code",
   "execution_count": 33,
   "metadata": {},
   "outputs": [
    {
     "output_type": "stream",
     "name": "stdout",
     "text": [
      "AdaBoost imbalanced classification report\n                   pre       rec       spe        f1       geo       iba       sup\n\n          0       0.78      0.67      0.93      0.72      0.79      0.60      9801\n          1       0.88      0.93      0.67      0.91      0.79      0.64     26998\n\navg / total       0.86      0.86      0.74      0.86      0.79      0.63     36799\n\n"
     ]
    }
   ],
   "source": [
    "# Print the imbalanced classification report\n",
    "print(\"AdaBoost imbalanced classification report\")\n",
    "print(classification_report_imbalanced(y_test,y_pred))"
   ]
  },
  {
   "source": [
    "# Decision Tree Classifier"
   ],
   "cell_type": "markdown",
   "metadata": {}
  },
  {
   "cell_type": "code",
   "execution_count": 34,
   "metadata": {},
   "outputs": [],
   "source": [
    "# Creating the decision tree classifier instance.\n",
    "model = tree.DecisionTreeClassifier()\n",
    "# Fitting the model.\n",
    "model = model.fit(X_train, y_train)\n",
    "#Predict the response for test dataset\n",
    "y_pred = model.predict(X_test)"
   ]
  },
  {
   "cell_type": "code",
   "execution_count": 35,
   "metadata": {},
   "outputs": [
    {
     "output_type": "stream",
     "name": "stdout",
     "text": [
      "DecisionTree balanced accuracy score = 78.91%\n"
     ]
    }
   ],
   "source": [
    "# Calculated the balanced accuracy score\n",
    "dt_bal_acc = balanced_accuracy_score(y_test,y_pred)\n",
    "print(f\"DecisionTree balanced accuracy score = {dt_bal_acc*100:.2f}%\")"
   ]
  },
  {
   "cell_type": "code",
   "execution_count": 36,
   "metadata": {},
   "outputs": [
    {
     "output_type": "display_data",
     "data": {
      "text/plain": "          Predicted 0  Predicted 1\nAcutal 0         6968         2833\nActual 1         3584        23414",
      "text/html": "<div>\n<style scoped>\n    .dataframe tbody tr th:only-of-type {\n        vertical-align: middle;\n    }\n\n    .dataframe tbody tr th {\n        vertical-align: top;\n    }\n\n    .dataframe thead th {\n        text-align: right;\n    }\n</style>\n<table border=\"1\" class=\"dataframe\">\n  <thead>\n    <tr style=\"text-align: right;\">\n      <th></th>\n      <th>Predicted 0</th>\n      <th>Predicted 1</th>\n    </tr>\n  </thead>\n  <tbody>\n    <tr>\n      <th>Acutal 0</th>\n      <td>6968</td>\n      <td>2833</td>\n    </tr>\n    <tr>\n      <th>Actual 1</th>\n      <td>3584</td>\n      <td>23414</td>\n    </tr>\n  </tbody>\n</table>\n</div>"
     },
     "metadata": {}
    }
   ],
   "source": [
    "# Display the confusion matrix\n",
    "dt_cm = confusion_matrix(y_test, y_pred)\n",
    "dt_cm_df = pd.DataFrame(dt_cm, index=[\"Acutal 0\", \"Actual 1\"], columns=[\"Predicted 0\", \"Predicted 1\"])\n",
    "display(dt_cm_df)"
   ]
  },
  {
   "cell_type": "code",
   "execution_count": 37,
   "metadata": {},
   "outputs": [
    {
     "output_type": "stream",
     "name": "stdout",
     "text": [
      "DecisionTree imbalanced classification report\n                   pre       rec       spe        f1       geo       iba       sup\n\n          0       0.66      0.71      0.87      0.68      0.79      0.61      9801\n          1       0.89      0.87      0.71      0.88      0.79      0.63     26998\n\navg / total       0.83      0.83      0.75      0.83      0.79      0.62     36799\n\n"
     ]
    }
   ],
   "source": [
    "# Print the imbalanced classification report\n",
    "print(\"DecisionTree imbalanced classification report\")\n",
    "print(classification_report_imbalanced(y_test,y_pred))"
   ]
  },
  {
   "source": [
    "# Gaussian Naive Bayes"
   ],
   "cell_type": "markdown",
   "metadata": {}
  },
  {
   "cell_type": "code",
   "execution_count": 38,
   "metadata": {},
   "outputs": [],
   "source": [
    "gnb = GaussianNB()\n",
    "model = gnb.fit(X_train, y_train)\n",
    "y_pred = gnb.fit(X_train, y_train).predict(X_test)"
   ]
  },
  {
   "cell_type": "code",
   "execution_count": 39,
   "metadata": {},
   "outputs": [
    {
     "output_type": "stream",
     "name": "stdout",
     "text": [
      "Gaussian Naive Bayes balanced accuracy score = 80.86%\n"
     ]
    }
   ],
   "source": [
    "# Calculated the balanced accuracy score\n",
    "gnb_bal_acc = balanced_accuracy_score(y_test,y_pred)\n",
    "print(f\"Gaussian Naive Bayes balanced accuracy score = {gnb_bal_acc*100:.2f}%\")"
   ]
  },
  {
   "cell_type": "code",
   "execution_count": 40,
   "metadata": {},
   "outputs": [
    {
     "output_type": "display_data",
     "data": {
      "text/plain": "          Predicted 0  Predicted 1\nAcutal 0         9131          670\nActual 1         8487        18511",
      "text/html": "<div>\n<style scoped>\n    .dataframe tbody tr th:only-of-type {\n        vertical-align: middle;\n    }\n\n    .dataframe tbody tr th {\n        vertical-align: top;\n    }\n\n    .dataframe thead th {\n        text-align: right;\n    }\n</style>\n<table border=\"1\" class=\"dataframe\">\n  <thead>\n    <tr style=\"text-align: right;\">\n      <th></th>\n      <th>Predicted 0</th>\n      <th>Predicted 1</th>\n    </tr>\n  </thead>\n  <tbody>\n    <tr>\n      <th>Acutal 0</th>\n      <td>9131</td>\n      <td>670</td>\n    </tr>\n    <tr>\n      <th>Actual 1</th>\n      <td>8487</td>\n      <td>18511</td>\n    </tr>\n  </tbody>\n</table>\n</div>"
     },
     "metadata": {}
    }
   ],
   "source": [
    "# Display the confusion matrix\n",
    "gnb_cm = confusion_matrix(y_test, y_pred)\n",
    "gnb_cm_df = pd.DataFrame(gnb_cm, index=[\"Acutal 0\", \"Actual 1\"], columns=[\"Predicted 0\", \"Predicted 1\"])\n",
    "display(gnb_cm_df)"
   ]
  },
  {
   "cell_type": "code",
   "execution_count": 41,
   "metadata": {},
   "outputs": [
    {
     "output_type": "stream",
     "name": "stdout",
     "text": [
      "Gaussian Naive Bayes imbalanced classification report\n                   pre       rec       spe        f1       geo       iba       sup\n\n          0       0.52      0.93      0.69      0.67      0.80      0.65      9801\n          1       0.97      0.69      0.93      0.80      0.80      0.62     26998\n\navg / total       0.85      0.75      0.87      0.77      0.80      0.63     36799\n\n"
     ]
    }
   ],
   "source": [
    "# Print the imbalanced classification report\n",
    "print(\"Gaussian Naive Bayes imbalanced classification report\")\n",
    "print(classification_report_imbalanced(y_test,y_pred))"
   ]
  },
  {
   "source": [
    "# GradientBoost"
   ],
   "cell_type": "markdown",
   "metadata": {}
  },
  {
   "cell_type": "code",
   "execution_count": 42,
   "metadata": {},
   "outputs": [],
   "source": [
    "X, y = make_classification(random_state=1)\n",
    "clf = GradientBoostingClassifier(random_state=1)\n",
    "clf.fit(X_train, y_train)\n",
    "y_pred = clf.predict(X_test)"
   ]
  },
  {
   "cell_type": "code",
   "execution_count": 43,
   "metadata": {},
   "outputs": [
    {
     "output_type": "stream",
     "name": "stdout",
     "text": [
      "GradientBoost balanced accuracy score = 78.70%\n"
     ]
    }
   ],
   "source": [
    "# Calculated the balanced accuracy score\n",
    "clf_bal_acc = balanced_accuracy_score(y_test,y_pred)\n",
    "print(f\"GradientBoost balanced accuracy score = {clf_bal_acc*100:.2f}%\")"
   ]
  },
  {
   "cell_type": "code",
   "execution_count": 44,
   "metadata": {},
   "outputs": [
    {
     "output_type": "display_data",
     "data": {
      "text/plain": "          Predicted 0  Predicted 1\nAcutal 0         6207         3594\nActual 1         1600        25398",
      "text/html": "<div>\n<style scoped>\n    .dataframe tbody tr th:only-of-type {\n        vertical-align: middle;\n    }\n\n    .dataframe tbody tr th {\n        vertical-align: top;\n    }\n\n    .dataframe thead th {\n        text-align: right;\n    }\n</style>\n<table border=\"1\" class=\"dataframe\">\n  <thead>\n    <tr style=\"text-align: right;\">\n      <th></th>\n      <th>Predicted 0</th>\n      <th>Predicted 1</th>\n    </tr>\n  </thead>\n  <tbody>\n    <tr>\n      <th>Acutal 0</th>\n      <td>6207</td>\n      <td>3594</td>\n    </tr>\n    <tr>\n      <th>Actual 1</th>\n      <td>1600</td>\n      <td>25398</td>\n    </tr>\n  </tbody>\n</table>\n</div>"
     },
     "metadata": {}
    }
   ],
   "source": [
    "# Display the confusion matrix\n",
    "clf_cm = confusion_matrix(y_test, y_pred)\n",
    "clf_cm_df = pd.DataFrame(clf_cm, index=[\"Acutal 0\", \"Actual 1\"], columns=[\"Predicted 0\", \"Predicted 1\"])\n",
    "display(clf_cm_df)"
   ]
  },
  {
   "cell_type": "code",
   "execution_count": 45,
   "metadata": {},
   "outputs": [
    {
     "output_type": "stream",
     "name": "stdout",
     "text": [
      "GradientBoost imbalanced classification report\n                   pre       rec       spe        f1       geo       iba       sup\n\n          0       0.80      0.63      0.94      0.71      0.77      0.58      9801\n          1       0.88      0.94      0.63      0.91      0.77      0.61     26998\n\navg / total       0.85      0.86      0.72      0.85      0.77      0.60     36799\n\n"
     ]
    }
   ],
   "source": [
    "# Print the imbalanced classification report\n",
    "print(\"GradientBoost imbalanced classification report\")\n",
    "print(classification_report_imbalanced(y_test,y_pred))"
   ]
  },
  {
   "cell_type": "code",
   "execution_count": 46,
   "metadata": {},
   "outputs": [],
   "source": [
    "ml_models = ['rf_bal_acc', 'ada_bal_acc', 'dt_bal_acc', 'gnb_bal_acc', 'clf_bal_acc']"
   ]
  },
  {
   "cell_type": "code",
   "execution_count": 47,
   "metadata": {},
   "outputs": [],
   "source": [
    "bal_acc_score_list = [rf_bal_acc, ada_bal_acc, dt_bal_acc, gnb_bal_acc, clf_bal_acc]\n"
   ]
  },
  {
   "cell_type": "code",
   "execution_count": 48,
   "metadata": {},
   "outputs": [
    {
     "output_type": "execute_result",
     "data": {
      "text/plain": [
       "        Models  Bal Acc Scores\n",
       "0   rf_bal_acc        0.837327\n",
       "1  ada_bal_acc        0.798252\n",
       "2   dt_bal_acc        0.789099\n",
       "3  gnb_bal_acc        0.808642\n",
       "4  clf_bal_acc        0.787020"
      ],
      "text/html": "<div>\n<style scoped>\n    .dataframe tbody tr th:only-of-type {\n        vertical-align: middle;\n    }\n\n    .dataframe tbody tr th {\n        vertical-align: top;\n    }\n\n    .dataframe thead th {\n        text-align: right;\n    }\n</style>\n<table border=\"1\" class=\"dataframe\">\n  <thead>\n    <tr style=\"text-align: right;\">\n      <th></th>\n      <th>Models</th>\n      <th>Bal Acc Scores</th>\n    </tr>\n  </thead>\n  <tbody>\n    <tr>\n      <th>0</th>\n      <td>rf_bal_acc</td>\n      <td>0.837327</td>\n    </tr>\n    <tr>\n      <th>1</th>\n      <td>ada_bal_acc</td>\n      <td>0.798252</td>\n    </tr>\n    <tr>\n      <th>2</th>\n      <td>dt_bal_acc</td>\n      <td>0.789099</td>\n    </tr>\n    <tr>\n      <th>3</th>\n      <td>gnb_bal_acc</td>\n      <td>0.808642</td>\n    </tr>\n    <tr>\n      <th>4</th>\n      <td>clf_bal_acc</td>\n      <td>0.787020</td>\n    </tr>\n  </tbody>\n</table>\n</div>"
     },
     "metadata": {},
     "execution_count": 48
    }
   ],
   "source": [
    "ml_bal_acc = pd.DataFrame(\n",
    "    {'Models': ml_models, 'Bal Acc Scores': bal_acc_score_list})\n",
    "ml_bal_acc.head()"
   ]
  },
  {
   "cell_type": "code",
   "execution_count": 49,
   "metadata": {},
   "outputs": [
    {
     "output_type": "display_data",
     "data": {
      "text/plain": "<Figure size 864x576 with 1 Axes>",
      "image/svg+xml": "<?xml version=\"1.0\" encoding=\"utf-8\" standalone=\"no\"?>\r\n<!DOCTYPE svg PUBLIC \"-//W3C//DTD SVG 1.1//EN\"\r\n  \"http://www.w3.org/Graphics/SVG/1.1/DTD/svg11.dtd\">\r\n<!-- Created with matplotlib (https://matplotlib.org/) -->\r\n<svg height=\"563.314906pt\" version=\"1.1\" viewBox=\"0 0 852.29875 563.314906\" width=\"852.29875pt\" xmlns=\"http://www.w3.org/2000/svg\" xmlns:xlink=\"http://www.w3.org/1999/xlink\">\r\n <defs>\r\n  <style type=\"text/css\">\r\n*{stroke-linecap:butt;stroke-linejoin:round;}\r\n  </style>\r\n </defs>\r\n <g id=\"figure_1\">\r\n  <g id=\"patch_1\">\r\n   <path d=\"M 0 563.314906 \r\nL 852.29875 563.314906 \r\nL 852.29875 0 \r\nL 0 0 \r\nz\r\n\" style=\"fill:#ffffff;\"/>\r\n  </g>\r\n  <g id=\"axes_1\">\r\n   <g id=\"patch_2\">\r\n    <path d=\"M 34.36875 487.099531 \r\nL 845.09875 487.099531 \r\nL 845.09875 24.119531 \r\nL 34.36875 24.119531 \r\nz\r\n\" style=\"fill:#ffffff;\"/>\r\n   </g>\r\n   <g id=\"matplotlib.axis_1\">\r\n    <g id=\"xtick_1\">\r\n     <g id=\"line2d_1\">\r\n      <path clip-path=\"url(#p90c84a8f51)\" d=\"M 71.220114 487.099531 \r\nL 71.220114 24.119531 \r\n\" style=\"fill:none;stroke:#cccccc;stroke-linecap:round;stroke-width:0.8;\"/>\r\n     </g>\r\n     <g id=\"text_1\">\r\n      <!-- rf_bal_acc -->\r\n      <defs>\r\n       <path d=\"M 6.5 0 \r\nL 6.5 51.859375 \r\nL 14.40625 51.859375 \r\nL 14.40625 44 \r\nQ 17.4375 49.515625 20 51.265625 \r\nQ 22.5625 53.03125 25.640625 53.03125 \r\nQ 30.078125 53.03125 34.671875 50.203125 \r\nL 31.640625 42.046875 \r\nQ 28.421875 43.953125 25.203125 43.953125 \r\nQ 22.3125 43.953125 20.015625 42.21875 \r\nQ 17.71875 40.484375 16.75 37.40625 \r\nQ 15.28125 32.71875 15.28125 27.15625 \r\nL 15.28125 0 \r\nz\r\n\" id=\"ArialMT-114\"/>\r\n       <path d=\"M 8.6875 0 \r\nL 8.6875 45.015625 \r\nL 0.921875 45.015625 \r\nL 0.921875 51.859375 \r\nL 8.6875 51.859375 \r\nL 8.6875 57.375 \r\nQ 8.6875 62.59375 9.625 65.140625 \r\nQ 10.890625 68.5625 14.078125 70.671875 \r\nQ 17.28125 72.796875 23.046875 72.796875 \r\nQ 26.765625 72.796875 31.25 71.921875 \r\nL 29.9375 64.265625 \r\nQ 27.203125 64.75 24.75 64.75 \r\nQ 20.75 64.75 19.09375 63.03125 \r\nQ 17.4375 61.328125 17.4375 56.640625 \r\nL 17.4375 51.859375 \r\nL 27.546875 51.859375 \r\nL 27.546875 45.015625 \r\nL 17.4375 45.015625 \r\nL 17.4375 0 \r\nz\r\n\" id=\"ArialMT-102\"/>\r\n       <path d=\"M -1.515625 -19.875 \r\nL -1.515625 -13.53125 \r\nL 56.734375 -13.53125 \r\nL 56.734375 -19.875 \r\nz\r\n\" id=\"ArialMT-95\"/>\r\n       <path d=\"M 14.703125 0 \r\nL 6.546875 0 \r\nL 6.546875 71.578125 \r\nL 15.328125 71.578125 \r\nL 15.328125 46.046875 \r\nQ 20.90625 53.03125 29.546875 53.03125 \r\nQ 34.328125 53.03125 38.59375 51.09375 \r\nQ 42.875 49.171875 45.625 45.671875 \r\nQ 48.390625 42.1875 49.953125 37.25 \r\nQ 51.515625 32.328125 51.515625 26.703125 \r\nQ 51.515625 13.375 44.921875 6.09375 \r\nQ 38.328125 -1.171875 29.109375 -1.171875 \r\nQ 19.921875 -1.171875 14.703125 6.5 \r\nz\r\nM 14.59375 26.3125 \r\nQ 14.59375 17 17.140625 12.84375 \r\nQ 21.296875 6.0625 28.375 6.0625 \r\nQ 34.125 6.0625 38.328125 11.0625 \r\nQ 42.53125 16.0625 42.53125 25.984375 \r\nQ 42.53125 36.140625 38.5 40.96875 \r\nQ 34.46875 45.796875 28.765625 45.796875 \r\nQ 23 45.796875 18.796875 40.796875 \r\nQ 14.59375 35.796875 14.59375 26.3125 \r\nz\r\n\" id=\"ArialMT-98\"/>\r\n       <path d=\"M 40.4375 6.390625 \r\nQ 35.546875 2.25 31.03125 0.53125 \r\nQ 26.515625 -1.171875 21.34375 -1.171875 \r\nQ 12.796875 -1.171875 8.203125 3 \r\nQ 3.609375 7.171875 3.609375 13.671875 \r\nQ 3.609375 17.484375 5.34375 20.625 \r\nQ 7.078125 23.78125 9.890625 25.6875 \r\nQ 12.703125 27.59375 16.21875 28.5625 \r\nQ 18.796875 29.25 24.03125 29.890625 \r\nQ 34.671875 31.15625 39.703125 32.90625 \r\nQ 39.75 34.71875 39.75 35.203125 \r\nQ 39.75 40.578125 37.25 42.78125 \r\nQ 33.890625 45.75 27.25 45.75 \r\nQ 21.046875 45.75 18.09375 43.578125 \r\nQ 15.140625 41.40625 13.71875 35.890625 \r\nL 5.125 37.0625 \r\nQ 6.296875 42.578125 8.984375 45.96875 \r\nQ 11.671875 49.359375 16.75 51.1875 \r\nQ 21.828125 53.03125 28.515625 53.03125 \r\nQ 35.15625 53.03125 39.296875 51.46875 \r\nQ 43.453125 49.90625 45.40625 47.53125 \r\nQ 47.359375 45.171875 48.140625 41.546875 \r\nQ 48.578125 39.3125 48.578125 33.453125 \r\nL 48.578125 21.734375 \r\nQ 48.578125 9.46875 49.140625 6.21875 \r\nQ 49.703125 2.984375 51.375 0 \r\nL 42.1875 0 \r\nQ 40.828125 2.734375 40.4375 6.390625 \r\nz\r\nM 39.703125 26.03125 \r\nQ 34.90625 24.078125 25.34375 22.703125 \r\nQ 19.921875 21.921875 17.671875 20.9375 \r\nQ 15.4375 19.96875 14.203125 18.09375 \r\nQ 12.984375 16.21875 12.984375 13.921875 \r\nQ 12.984375 10.40625 15.640625 8.0625 \r\nQ 18.3125 5.71875 23.4375 5.71875 \r\nQ 28.515625 5.71875 32.46875 7.9375 \r\nQ 36.421875 10.15625 38.28125 14.015625 \r\nQ 39.703125 17 39.703125 22.796875 \r\nz\r\n\" id=\"ArialMT-97\"/>\r\n       <path d=\"M 6.390625 0 \r\nL 6.390625 71.578125 \r\nL 15.1875 71.578125 \r\nL 15.1875 0 \r\nz\r\n\" id=\"ArialMT-108\"/>\r\n       <path d=\"M 40.4375 19 \r\nL 49.078125 17.875 \r\nQ 47.65625 8.9375 41.8125 3.875 \r\nQ 35.984375 -1.171875 27.484375 -1.171875 \r\nQ 16.84375 -1.171875 10.375 5.78125 \r\nQ 3.90625 12.75 3.90625 25.734375 \r\nQ 3.90625 34.125 6.6875 40.421875 \r\nQ 9.46875 46.734375 15.15625 49.875 \r\nQ 20.84375 53.03125 27.546875 53.03125 \r\nQ 35.984375 53.03125 41.359375 48.75 \r\nQ 46.734375 44.484375 48.25 36.625 \r\nL 39.703125 35.296875 \r\nQ 38.484375 40.53125 35.375 43.15625 \r\nQ 32.28125 45.796875 27.875 45.796875 \r\nQ 21.234375 45.796875 17.078125 41.03125 \r\nQ 12.9375 36.28125 12.9375 25.984375 \r\nQ 12.9375 15.53125 16.9375 10.796875 \r\nQ 20.953125 6.0625 27.390625 6.0625 \r\nQ 32.5625 6.0625 36.03125 9.234375 \r\nQ 39.5 12.40625 40.4375 19 \r\nz\r\n\" id=\"ArialMT-99\"/>\r\n      </defs>\r\n      <g style=\"fill:#262626;\" transform=\"translate(73.336989 535.607031)rotate(-90)scale(0.08 -0.08)\">\r\n       <use xlink:href=\"#ArialMT-114\"/>\r\n       <use x=\"33.300781\" xlink:href=\"#ArialMT-102\"/>\r\n       <use x=\"61.083984\" xlink:href=\"#ArialMT-95\"/>\r\n       <use x=\"116.699219\" xlink:href=\"#ArialMT-98\"/>\r\n       <use x=\"172.314453\" xlink:href=\"#ArialMT-97\"/>\r\n       <use x=\"227.929688\" xlink:href=\"#ArialMT-108\"/>\r\n       <use x=\"250.146484\" xlink:href=\"#ArialMT-95\"/>\r\n       <use x=\"305.761719\" xlink:href=\"#ArialMT-97\"/>\r\n       <use x=\"361.376953\" xlink:href=\"#ArialMT-99\"/>\r\n       <use x=\"411.376953\" xlink:href=\"#ArialMT-99\"/>\r\n      </g>\r\n     </g>\r\n    </g>\r\n    <g id=\"xtick_2\">\r\n     <g id=\"line2d_2\">\r\n      <path clip-path=\"url(#p90c84a8f51)\" d=\"M 163.348523 487.099531 \r\nL 163.348523 24.119531 \r\n\" style=\"fill:none;stroke:#cccccc;stroke-linecap:round;stroke-width:0.8;\"/>\r\n     </g>\r\n    </g>\r\n    <g id=\"xtick_3\">\r\n     <g id=\"line2d_3\">\r\n      <path clip-path=\"url(#p90c84a8f51)\" d=\"M 255.476932 487.099531 \r\nL 255.476932 24.119531 \r\n\" style=\"fill:none;stroke:#cccccc;stroke-linecap:round;stroke-width:0.8;\"/>\r\n     </g>\r\n     <g id=\"text_2\">\r\n      <!-- ada_bal_acc -->\r\n      <defs>\r\n       <path d=\"M 40.234375 0 \r\nL 40.234375 6.546875 \r\nQ 35.296875 -1.171875 25.734375 -1.171875 \r\nQ 19.53125 -1.171875 14.328125 2.25 \r\nQ 9.125 5.671875 6.265625 11.796875 \r\nQ 3.421875 17.921875 3.421875 25.875 \r\nQ 3.421875 33.640625 6 39.96875 \r\nQ 8.59375 46.296875 13.765625 49.65625 \r\nQ 18.953125 53.03125 25.34375 53.03125 \r\nQ 30.03125 53.03125 33.6875 51.046875 \r\nQ 37.359375 49.078125 39.65625 45.90625 \r\nL 39.65625 71.578125 \r\nL 48.390625 71.578125 \r\nL 48.390625 0 \r\nz\r\nM 12.453125 25.875 \r\nQ 12.453125 15.921875 16.640625 10.984375 \r\nQ 20.84375 6.0625 26.5625 6.0625 \r\nQ 32.328125 6.0625 36.34375 10.765625 \r\nQ 40.375 15.484375 40.375 25.140625 \r\nQ 40.375 35.796875 36.265625 40.765625 \r\nQ 32.171875 45.75 26.171875 45.75 \r\nQ 20.3125 45.75 16.375 40.96875 \r\nQ 12.453125 36.1875 12.453125 25.875 \r\nz\r\n\" id=\"ArialMT-100\"/>\r\n      </defs>\r\n      <g style=\"fill:#262626;\" transform=\"translate(257.545057 544.067031)rotate(-90)scale(0.08 -0.08)\">\r\n       <use xlink:href=\"#ArialMT-97\"/>\r\n       <use x=\"55.615234\" xlink:href=\"#ArialMT-100\"/>\r\n       <use x=\"111.230469\" xlink:href=\"#ArialMT-97\"/>\r\n       <use x=\"166.845703\" xlink:href=\"#ArialMT-95\"/>\r\n       <use x=\"222.460938\" xlink:href=\"#ArialMT-98\"/>\r\n       <use x=\"278.076172\" xlink:href=\"#ArialMT-97\"/>\r\n       <use x=\"333.691406\" xlink:href=\"#ArialMT-108\"/>\r\n       <use x=\"355.908203\" xlink:href=\"#ArialMT-95\"/>\r\n       <use x=\"411.523438\" xlink:href=\"#ArialMT-97\"/>\r\n       <use x=\"467.138672\" xlink:href=\"#ArialMT-99\"/>\r\n       <use x=\"517.138672\" xlink:href=\"#ArialMT-99\"/>\r\n      </g>\r\n     </g>\r\n    </g>\r\n    <g id=\"xtick_4\">\r\n     <g id=\"line2d_4\">\r\n      <path clip-path=\"url(#p90c84a8f51)\" d=\"M 347.605341 487.099531 \r\nL 347.605341 24.119531 \r\n\" style=\"fill:none;stroke:#cccccc;stroke-linecap:round;stroke-width:0.8;\"/>\r\n     </g>\r\n    </g>\r\n    <g id=\"xtick_5\">\r\n     <g id=\"line2d_5\">\r\n      <path clip-path=\"url(#p90c84a8f51)\" d=\"M 439.73375 487.099531 \r\nL 439.73375 24.119531 \r\n\" style=\"fill:none;stroke:#cccccc;stroke-linecap:round;stroke-width:0.8;\"/>\r\n     </g>\r\n     <g id=\"text_3\">\r\n      <!-- dt_bal_acc -->\r\n      <defs>\r\n       <path d=\"M 25.78125 7.859375 \r\nL 27.046875 0.09375 \r\nQ 23.34375 -0.6875 20.40625 -0.6875 \r\nQ 15.625 -0.6875 12.984375 0.828125 \r\nQ 10.359375 2.34375 9.28125 4.8125 \r\nQ 8.203125 7.28125 8.203125 15.1875 \r\nL 8.203125 45.015625 \r\nL 1.765625 45.015625 \r\nL 1.765625 51.859375 \r\nL 8.203125 51.859375 \r\nL 8.203125 64.703125 \r\nL 16.9375 69.96875 \r\nL 16.9375 51.859375 \r\nL 25.78125 51.859375 \r\nL 25.78125 45.015625 \r\nL 16.9375 45.015625 \r\nL 16.9375 14.703125 \r\nQ 16.9375 10.9375 17.40625 9.859375 \r\nQ 17.875 8.796875 18.921875 8.15625 \r\nQ 19.96875 7.515625 21.921875 7.515625 \r\nQ 23.390625 7.515625 25.78125 7.859375 \r\nz\r\n\" id=\"ArialMT-116\"/>\r\n      </defs>\r\n      <g style=\"fill:#262626;\" transform=\"translate(441.801875 537.392031)rotate(-90)scale(0.08 -0.08)\">\r\n       <use xlink:href=\"#ArialMT-100\"/>\r\n       <use x=\"55.615234\" xlink:href=\"#ArialMT-116\"/>\r\n       <use x=\"83.398438\" xlink:href=\"#ArialMT-95\"/>\r\n       <use x=\"139.013672\" xlink:href=\"#ArialMT-98\"/>\r\n       <use x=\"194.628906\" xlink:href=\"#ArialMT-97\"/>\r\n       <use x=\"250.244141\" xlink:href=\"#ArialMT-108\"/>\r\n       <use x=\"272.460938\" xlink:href=\"#ArialMT-95\"/>\r\n       <use x=\"328.076172\" xlink:href=\"#ArialMT-97\"/>\r\n       <use x=\"383.691406\" xlink:href=\"#ArialMT-99\"/>\r\n       <use x=\"433.691406\" xlink:href=\"#ArialMT-99\"/>\r\n      </g>\r\n     </g>\r\n    </g>\r\n    <g id=\"xtick_6\">\r\n     <g id=\"line2d_6\">\r\n      <path clip-path=\"url(#p90c84a8f51)\" d=\"M 531.862159 487.099531 \r\nL 531.862159 24.119531 \r\n\" style=\"fill:none;stroke:#cccccc;stroke-linecap:round;stroke-width:0.8;\"/>\r\n     </g>\r\n    </g>\r\n    <g id=\"xtick_7\">\r\n     <g id=\"line2d_7\">\r\n      <path clip-path=\"url(#p90c84a8f51)\" d=\"M 623.990568 487.099531 \r\nL 623.990568 24.119531 \r\n\" style=\"fill:none;stroke:#cccccc;stroke-linecap:round;stroke-width:0.8;\"/>\r\n     </g>\r\n     <g id=\"text_4\">\r\n      <!-- gnb_bal_acc -->\r\n      <defs>\r\n       <path d=\"M 4.984375 -4.296875 \r\nL 13.53125 -5.5625 \r\nQ 14.0625 -9.515625 16.5 -11.328125 \r\nQ 19.78125 -13.765625 25.4375 -13.765625 \r\nQ 31.546875 -13.765625 34.859375 -11.328125 \r\nQ 38.1875 -8.890625 39.359375 -4.5 \r\nQ 40.046875 -1.8125 39.984375 6.78125 \r\nQ 34.234375 0 25.640625 0 \r\nQ 14.9375 0 9.078125 7.71875 \r\nQ 3.21875 15.4375 3.21875 26.21875 \r\nQ 3.21875 33.640625 5.90625 39.90625 \r\nQ 8.59375 46.1875 13.6875 49.609375 \r\nQ 18.796875 53.03125 25.6875 53.03125 \r\nQ 34.859375 53.03125 40.828125 45.609375 \r\nL 40.828125 51.859375 \r\nL 48.921875 51.859375 \r\nL 48.921875 7.03125 \r\nQ 48.921875 -5.078125 46.453125 -10.125 \r\nQ 44 -15.1875 38.640625 -18.109375 \r\nQ 33.296875 -21.046875 25.484375 -21.046875 \r\nQ 16.21875 -21.046875 10.5 -16.875 \r\nQ 4.78125 -12.703125 4.984375 -4.296875 \r\nz\r\nM 12.25 26.859375 \r\nQ 12.25 16.65625 16.296875 11.96875 \r\nQ 20.359375 7.28125 26.46875 7.28125 \r\nQ 32.515625 7.28125 36.609375 11.9375 \r\nQ 40.71875 16.609375 40.71875 26.5625 \r\nQ 40.71875 36.078125 36.5 40.90625 \r\nQ 32.28125 45.75 26.3125 45.75 \r\nQ 20.453125 45.75 16.34375 40.984375 \r\nQ 12.25 36.234375 12.25 26.859375 \r\nz\r\n\" id=\"ArialMT-103\"/>\r\n       <path d=\"M 6.59375 0 \r\nL 6.59375 51.859375 \r\nL 14.5 51.859375 \r\nL 14.5 44.484375 \r\nQ 20.21875 53.03125 31 53.03125 \r\nQ 35.6875 53.03125 39.625 51.34375 \r\nQ 43.5625 49.65625 45.515625 46.921875 \r\nQ 47.46875 44.1875 48.25 40.4375 \r\nQ 48.734375 37.984375 48.734375 31.890625 \r\nL 48.734375 0 \r\nL 39.9375 0 \r\nL 39.9375 31.546875 \r\nQ 39.9375 36.921875 38.90625 39.578125 \r\nQ 37.890625 42.234375 35.28125 43.8125 \r\nQ 32.671875 45.40625 29.15625 45.40625 \r\nQ 23.53125 45.40625 19.453125 41.84375 \r\nQ 15.375 38.28125 15.375 28.328125 \r\nL 15.375 0 \r\nz\r\n\" id=\"ArialMT-110\"/>\r\n      </defs>\r\n      <g style=\"fill:#262626;\" transform=\"translate(626.011818 544.067031)rotate(-90)scale(0.08 -0.08)\">\r\n       <use xlink:href=\"#ArialMT-103\"/>\r\n       <use x=\"55.615234\" xlink:href=\"#ArialMT-110\"/>\r\n       <use x=\"111.230469\" xlink:href=\"#ArialMT-98\"/>\r\n       <use x=\"166.845703\" xlink:href=\"#ArialMT-95\"/>\r\n       <use x=\"222.460938\" xlink:href=\"#ArialMT-98\"/>\r\n       <use x=\"278.076172\" xlink:href=\"#ArialMT-97\"/>\r\n       <use x=\"333.691406\" xlink:href=\"#ArialMT-108\"/>\r\n       <use x=\"355.908203\" xlink:href=\"#ArialMT-95\"/>\r\n       <use x=\"411.523438\" xlink:href=\"#ArialMT-97\"/>\r\n       <use x=\"467.138672\" xlink:href=\"#ArialMT-99\"/>\r\n       <use x=\"517.138672\" xlink:href=\"#ArialMT-99\"/>\r\n      </g>\r\n     </g>\r\n    </g>\r\n    <g id=\"xtick_8\">\r\n     <g id=\"line2d_8\">\r\n      <path clip-path=\"url(#p90c84a8f51)\" d=\"M 716.118977 487.099531 \r\nL 716.118977 24.119531 \r\n\" style=\"fill:none;stroke:#cccccc;stroke-linecap:round;stroke-width:0.8;\"/>\r\n     </g>\r\n    </g>\r\n    <g id=\"xtick_9\">\r\n     <g id=\"line2d_9\">\r\n      <path clip-path=\"url(#p90c84a8f51)\" d=\"M 808.247386 487.099531 \r\nL 808.247386 24.119531 \r\n\" style=\"fill:none;stroke:#cccccc;stroke-linecap:round;stroke-width:0.8;\"/>\r\n     </g>\r\n     <g id=\"text_5\">\r\n      <!-- clf_bal_acc -->\r\n      <g style=\"fill:#262626;\" transform=\"translate(810.364261 538.720781)rotate(-90)scale(0.08 -0.08)\">\r\n       <use xlink:href=\"#ArialMT-99\"/>\r\n       <use x=\"50\" xlink:href=\"#ArialMT-108\"/>\r\n       <use x=\"72.216797\" xlink:href=\"#ArialMT-102\"/>\r\n       <use x=\"100\" xlink:href=\"#ArialMT-95\"/>\r\n       <use x=\"155.615234\" xlink:href=\"#ArialMT-98\"/>\r\n       <use x=\"211.230469\" xlink:href=\"#ArialMT-97\"/>\r\n       <use x=\"266.845703\" xlink:href=\"#ArialMT-108\"/>\r\n       <use x=\"289.0625\" xlink:href=\"#ArialMT-95\"/>\r\n       <use x=\"344.677734\" xlink:href=\"#ArialMT-97\"/>\r\n       <use x=\"400.292969\" xlink:href=\"#ArialMT-99\"/>\r\n       <use x=\"450.292969\" xlink:href=\"#ArialMT-99\"/>\r\n      </g>\r\n     </g>\r\n    </g>\r\n    <g id=\"text_6\">\r\n     <!-- Models -->\r\n     <defs>\r\n      <path d=\"M 7.421875 0 \r\nL 7.421875 71.578125 \r\nL 21.6875 71.578125 \r\nL 38.625 20.90625 \r\nQ 40.96875 13.8125 42.046875 10.296875 \r\nQ 43.265625 14.203125 45.84375 21.78125 \r\nL 62.984375 71.578125 \r\nL 75.734375 71.578125 \r\nL 75.734375 0 \r\nL 66.609375 0 \r\nL 66.609375 59.90625 \r\nL 45.796875 0 \r\nL 37.25 0 \r\nL 16.546875 60.9375 \r\nL 16.546875 0 \r\nz\r\n\" id=\"ArialMT-77\"/>\r\n      <path d=\"M 3.328125 25.921875 \r\nQ 3.328125 40.328125 11.328125 47.265625 \r\nQ 18.015625 53.03125 27.640625 53.03125 \r\nQ 38.328125 53.03125 45.109375 46.015625 \r\nQ 51.90625 39.015625 51.90625 26.65625 \r\nQ 51.90625 16.65625 48.90625 10.90625 \r\nQ 45.90625 5.171875 40.15625 2 \r\nQ 34.421875 -1.171875 27.640625 -1.171875 \r\nQ 16.75 -1.171875 10.03125 5.8125 \r\nQ 3.328125 12.796875 3.328125 25.921875 \r\nz\r\nM 12.359375 25.921875 \r\nQ 12.359375 15.96875 16.703125 11.015625 \r\nQ 21.046875 6.0625 27.640625 6.0625 \r\nQ 34.1875 6.0625 38.53125 11.03125 \r\nQ 42.875 16.015625 42.875 26.21875 \r\nQ 42.875 35.84375 38.5 40.796875 \r\nQ 34.125 45.75 27.640625 45.75 \r\nQ 21.046875 45.75 16.703125 40.8125 \r\nQ 12.359375 35.890625 12.359375 25.921875 \r\nz\r\n\" id=\"ArialMT-111\"/>\r\n      <path d=\"M 42.09375 16.703125 \r\nL 51.171875 15.578125 \r\nQ 49.03125 7.625 43.21875 3.21875 \r\nQ 37.40625 -1.171875 28.375 -1.171875 \r\nQ 17 -1.171875 10.328125 5.828125 \r\nQ 3.65625 12.84375 3.65625 25.484375 \r\nQ 3.65625 38.578125 10.390625 45.796875 \r\nQ 17.140625 53.03125 27.875 53.03125 \r\nQ 38.28125 53.03125 44.875 45.953125 \r\nQ 51.46875 38.875 51.46875 26.03125 \r\nQ 51.46875 25.25 51.421875 23.6875 \r\nL 12.75 23.6875 \r\nQ 13.234375 15.140625 17.578125 10.59375 \r\nQ 21.921875 6.0625 28.421875 6.0625 \r\nQ 33.25 6.0625 36.671875 8.59375 \r\nQ 40.09375 11.140625 42.09375 16.703125 \r\nz\r\nM 13.234375 30.90625 \r\nL 42.1875 30.90625 \r\nQ 41.609375 37.453125 38.875 40.71875 \r\nQ 34.671875 45.796875 27.984375 45.796875 \r\nQ 21.921875 45.796875 17.796875 41.75 \r\nQ 13.671875 37.703125 13.234375 30.90625 \r\nz\r\n\" id=\"ArialMT-101\"/>\r\n      <path d=\"M 3.078125 15.484375 \r\nL 11.765625 16.84375 \r\nQ 12.5 11.625 15.84375 8.84375 \r\nQ 19.1875 6.0625 25.203125 6.0625 \r\nQ 31.25 6.0625 34.171875 8.515625 \r\nQ 37.109375 10.984375 37.109375 14.3125 \r\nQ 37.109375 17.28125 34.515625 19 \r\nQ 32.71875 20.171875 25.53125 21.96875 \r\nQ 15.875 24.421875 12.140625 26.203125 \r\nQ 8.40625 27.984375 6.46875 31.125 \r\nQ 4.546875 34.28125 4.546875 38.09375 \r\nQ 4.546875 41.546875 6.125 44.5 \r\nQ 7.71875 47.46875 10.453125 49.421875 \r\nQ 12.5 50.921875 16.03125 51.96875 \r\nQ 19.578125 53.03125 23.640625 53.03125 \r\nQ 29.734375 53.03125 34.34375 51.265625 \r\nQ 38.96875 49.515625 41.15625 46.5 \r\nQ 43.359375 43.5 44.1875 38.484375 \r\nL 35.59375 37.3125 \r\nQ 35.015625 41.3125 32.203125 43.546875 \r\nQ 29.390625 45.796875 24.265625 45.796875 \r\nQ 18.21875 45.796875 15.625 43.796875 \r\nQ 13.03125 41.796875 13.03125 39.109375 \r\nQ 13.03125 37.40625 14.109375 36.03125 \r\nQ 15.1875 34.625 17.484375 33.6875 \r\nQ 18.796875 33.203125 25.25 31.453125 \r\nQ 34.578125 28.953125 38.25 27.359375 \r\nQ 41.9375 25.78125 44.03125 22.75 \r\nQ 46.140625 19.734375 46.140625 15.234375 \r\nQ 46.140625 10.84375 43.578125 6.953125 \r\nQ 41.015625 3.078125 36.171875 0.953125 \r\nQ 31.34375 -1.171875 25.25 -1.171875 \r\nQ 15.140625 -1.171875 9.84375 3.03125 \r\nQ 4.546875 7.234375 3.078125 15.484375 \r\nz\r\n\" id=\"ArialMT-115\"/>\r\n     </defs>\r\n     <g style=\"fill:#262626;\" transform=\"translate(425.550625 554.365906)scale(0.088 -0.088)\">\r\n      <use xlink:href=\"#ArialMT-77\"/>\r\n      <use x=\"83.300781\" xlink:href=\"#ArialMT-111\"/>\r\n      <use x=\"138.916016\" xlink:href=\"#ArialMT-100\"/>\r\n      <use x=\"194.53125\" xlink:href=\"#ArialMT-101\"/>\r\n      <use x=\"250.146484\" xlink:href=\"#ArialMT-108\"/>\r\n      <use x=\"272.363281\" xlink:href=\"#ArialMT-115\"/>\r\n     </g>\r\n    </g>\r\n   </g>\r\n   <g id=\"matplotlib.axis_2\">\r\n    <g id=\"ytick_1\">\r\n     <g id=\"line2d_10\">\r\n      <path clip-path=\"url(#p90c84a8f51)\" d=\"M 34.36875 441.119265 \r\nL 845.09875 441.119265 \r\n\" style=\"fill:none;stroke:#cccccc;stroke-linecap:round;stroke-width:0.8;\"/>\r\n     </g>\r\n     <g id=\"text_7\">\r\n      <!-- 0.79 -->\r\n      <defs>\r\n       <path d=\"M 4.15625 35.296875 \r\nQ 4.15625 48 6.765625 55.734375 \r\nQ 9.375 63.484375 14.515625 67.671875 \r\nQ 19.671875 71.875 27.484375 71.875 \r\nQ 33.25 71.875 37.59375 69.546875 \r\nQ 41.9375 67.234375 44.765625 62.859375 \r\nQ 47.609375 58.5 49.21875 52.21875 \r\nQ 50.828125 45.953125 50.828125 35.296875 \r\nQ 50.828125 22.703125 48.234375 14.96875 \r\nQ 45.65625 7.234375 40.5 3 \r\nQ 35.359375 -1.21875 27.484375 -1.21875 \r\nQ 17.140625 -1.21875 11.234375 6.203125 \r\nQ 4.15625 15.140625 4.15625 35.296875 \r\nz\r\nM 13.1875 35.296875 \r\nQ 13.1875 17.671875 17.3125 11.828125 \r\nQ 21.4375 6 27.484375 6 \r\nQ 33.546875 6 37.671875 11.859375 \r\nQ 41.796875 17.71875 41.796875 35.296875 \r\nQ 41.796875 52.984375 37.671875 58.78125 \r\nQ 33.546875 64.59375 27.390625 64.59375 \r\nQ 21.34375 64.59375 17.71875 59.46875 \r\nQ 13.1875 52.9375 13.1875 35.296875 \r\nz\r\n\" id=\"ArialMT-48\"/>\r\n       <path d=\"M 9.078125 0 \r\nL 9.078125 10.015625 \r\nL 19.09375 10.015625 \r\nL 19.09375 0 \r\nz\r\n\" id=\"ArialMT-46\"/>\r\n       <path d=\"M 4.734375 62.203125 \r\nL 4.734375 70.65625 \r\nL 51.078125 70.65625 \r\nL 51.078125 63.8125 \r\nQ 44.234375 56.546875 37.515625 44.484375 \r\nQ 30.8125 32.421875 27.15625 19.671875 \r\nQ 24.515625 10.6875 23.78125 0 \r\nL 14.75 0 \r\nQ 14.890625 8.453125 18.0625 20.40625 \r\nQ 21.234375 32.375 27.171875 43.484375 \r\nQ 33.109375 54.59375 39.796875 62.203125 \r\nz\r\n\" id=\"ArialMT-55\"/>\r\n       <path d=\"M 5.46875 16.546875 \r\nL 13.921875 17.328125 \r\nQ 14.984375 11.375 18.015625 8.6875 \r\nQ 21.046875 6 25.78125 6 \r\nQ 29.828125 6 32.875 7.859375 \r\nQ 35.9375 9.71875 37.890625 12.8125 \r\nQ 39.84375 15.921875 41.15625 21.1875 \r\nQ 42.484375 26.46875 42.484375 31.9375 \r\nQ 42.484375 32.515625 42.4375 33.6875 \r\nQ 39.796875 29.5 35.234375 26.875 \r\nQ 30.671875 24.265625 25.34375 24.265625 \r\nQ 16.453125 24.265625 10.296875 30.703125 \r\nQ 4.15625 37.15625 4.15625 47.703125 \r\nQ 4.15625 58.59375 10.578125 65.234375 \r\nQ 17 71.875 26.65625 71.875 \r\nQ 33.640625 71.875 39.421875 68.109375 \r\nQ 45.21875 64.359375 48.21875 57.390625 \r\nQ 51.21875 50.4375 51.21875 37.25 \r\nQ 51.21875 23.53125 48.234375 15.40625 \r\nQ 45.265625 7.28125 39.375 3.03125 \r\nQ 33.5 -1.21875 25.59375 -1.21875 \r\nQ 17.1875 -1.21875 11.859375 3.4375 \r\nQ 6.546875 8.109375 5.46875 16.546875 \r\nz\r\nM 41.453125 48.140625 \r\nQ 41.453125 55.71875 37.421875 60.15625 \r\nQ 33.40625 64.59375 27.734375 64.59375 \r\nQ 21.875 64.59375 17.53125 59.8125 \r\nQ 13.1875 55.03125 13.1875 47.40625 \r\nQ 13.1875 40.578125 17.3125 36.296875 \r\nQ 21.4375 32.03125 27.484375 32.03125 \r\nQ 33.59375 32.03125 37.515625 36.296875 \r\nQ 41.453125 40.578125 41.453125 48.140625 \r\nz\r\n\" id=\"ArialMT-57\"/>\r\n      </defs>\r\n      <g style=\"fill:#262626;\" transform=\"translate(7.2 443.98239)scale(0.08 -0.08)\">\r\n       <use xlink:href=\"#ArialMT-48\"/>\r\n       <use x=\"55.615234\" xlink:href=\"#ArialMT-46\"/>\r\n       <use x=\"83.398438\" xlink:href=\"#ArialMT-55\"/>\r\n       <use x=\"139.013672\" xlink:href=\"#ArialMT-57\"/>\r\n      </g>\r\n     </g>\r\n    </g>\r\n    <g id=\"ytick_2\">\r\n     <g id=\"line2d_11\">\r\n      <path clip-path=\"url(#p90c84a8f51)\" d=\"M 34.36875 357.455334 \r\nL 845.09875 357.455334 \r\n\" style=\"fill:none;stroke:#cccccc;stroke-linecap:round;stroke-width:0.8;\"/>\r\n     </g>\r\n     <g id=\"text_8\">\r\n      <!-- 0.80 -->\r\n      <defs>\r\n       <path d=\"M 17.671875 38.8125 \r\nQ 12.203125 40.828125 9.5625 44.53125 \r\nQ 6.9375 48.25 6.9375 53.421875 \r\nQ 6.9375 61.234375 12.546875 66.546875 \r\nQ 18.171875 71.875 27.484375 71.875 \r\nQ 36.859375 71.875 42.578125 66.421875 \r\nQ 48.296875 60.984375 48.296875 53.171875 \r\nQ 48.296875 48.1875 45.671875 44.5 \r\nQ 43.0625 40.828125 37.75 38.8125 \r\nQ 44.34375 36.671875 47.78125 31.875 \r\nQ 51.21875 27.09375 51.21875 20.453125 \r\nQ 51.21875 11.28125 44.71875 5.03125 \r\nQ 38.234375 -1.21875 27.640625 -1.21875 \r\nQ 17.046875 -1.21875 10.546875 5.046875 \r\nQ 4.046875 11.328125 4.046875 20.703125 \r\nQ 4.046875 27.6875 7.59375 32.390625 \r\nQ 11.140625 37.109375 17.671875 38.8125 \r\nz\r\nM 15.921875 53.71875 \r\nQ 15.921875 48.640625 19.1875 45.40625 \r\nQ 22.46875 42.1875 27.6875 42.1875 \r\nQ 32.765625 42.1875 36.015625 45.375 \r\nQ 39.265625 48.578125 39.265625 53.21875 \r\nQ 39.265625 58.0625 35.90625 61.359375 \r\nQ 32.5625 64.65625 27.59375 64.65625 \r\nQ 22.5625 64.65625 19.234375 61.421875 \r\nQ 15.921875 58.203125 15.921875 53.71875 \r\nz\r\nM 13.09375 20.65625 \r\nQ 13.09375 16.890625 14.875 13.375 \r\nQ 16.65625 9.859375 20.171875 7.921875 \r\nQ 23.6875 6 27.734375 6 \r\nQ 34.03125 6 38.125 10.046875 \r\nQ 42.234375 14.109375 42.234375 20.359375 \r\nQ 42.234375 26.703125 38.015625 30.859375 \r\nQ 33.796875 35.015625 27.4375 35.015625 \r\nQ 21.234375 35.015625 17.15625 30.90625 \r\nQ 13.09375 26.8125 13.09375 20.65625 \r\nz\r\n\" id=\"ArialMT-56\"/>\r\n      </defs>\r\n      <g style=\"fill:#262626;\" transform=\"translate(7.2 360.318459)scale(0.08 -0.08)\">\r\n       <use xlink:href=\"#ArialMT-48\"/>\r\n       <use x=\"55.615234\" xlink:href=\"#ArialMT-46\"/>\r\n       <use x=\"83.398438\" xlink:href=\"#ArialMT-56\"/>\r\n       <use x=\"139.013672\" xlink:href=\"#ArialMT-48\"/>\r\n      </g>\r\n     </g>\r\n    </g>\r\n    <g id=\"ytick_3\">\r\n     <g id=\"line2d_12\">\r\n      <path clip-path=\"url(#p90c84a8f51)\" d=\"M 34.36875 273.791403 \r\nL 845.09875 273.791403 \r\n\" style=\"fill:none;stroke:#cccccc;stroke-linecap:round;stroke-width:0.8;\"/>\r\n     </g>\r\n     <g id=\"text_9\">\r\n      <!-- 0.81 -->\r\n      <defs>\r\n       <path d=\"M 37.25 0 \r\nL 28.46875 0 \r\nL 28.46875 56 \r\nQ 25.296875 52.984375 20.140625 49.953125 \r\nQ 14.984375 46.921875 10.890625 45.40625 \r\nL 10.890625 53.90625 \r\nQ 18.265625 57.375 23.78125 62.296875 \r\nQ 29.296875 67.234375 31.59375 71.875 \r\nL 37.25 71.875 \r\nz\r\n\" id=\"ArialMT-49\"/>\r\n      </defs>\r\n      <g style=\"fill:#262626;\" transform=\"translate(7.2 276.654528)scale(0.08 -0.08)\">\r\n       <use xlink:href=\"#ArialMT-48\"/>\r\n       <use x=\"55.615234\" xlink:href=\"#ArialMT-46\"/>\r\n       <use x=\"83.398438\" xlink:href=\"#ArialMT-56\"/>\r\n       <use x=\"139.013672\" xlink:href=\"#ArialMT-49\"/>\r\n      </g>\r\n     </g>\r\n    </g>\r\n    <g id=\"ytick_4\">\r\n     <g id=\"line2d_13\">\r\n      <path clip-path=\"url(#p90c84a8f51)\" d=\"M 34.36875 190.127472 \r\nL 845.09875 190.127472 \r\n\" style=\"fill:none;stroke:#cccccc;stroke-linecap:round;stroke-width:0.8;\"/>\r\n     </g>\r\n     <g id=\"text_10\">\r\n      <!-- 0.82 -->\r\n      <defs>\r\n       <path d=\"M 50.34375 8.453125 \r\nL 50.34375 0 \r\nL 3.03125 0 \r\nQ 2.9375 3.171875 4.046875 6.109375 \r\nQ 5.859375 10.9375 9.828125 15.625 \r\nQ 13.8125 20.3125 21.34375 26.46875 \r\nQ 33.015625 36.03125 37.109375 41.625 \r\nQ 41.21875 47.21875 41.21875 52.203125 \r\nQ 41.21875 57.421875 37.46875 61 \r\nQ 33.734375 64.59375 27.734375 64.59375 \r\nQ 21.390625 64.59375 17.578125 60.78125 \r\nQ 13.765625 56.984375 13.71875 50.25 \r\nL 4.6875 51.171875 \r\nQ 5.609375 61.28125 11.65625 66.578125 \r\nQ 17.71875 71.875 27.9375 71.875 \r\nQ 38.234375 71.875 44.234375 66.15625 \r\nQ 50.25 60.453125 50.25 52 \r\nQ 50.25 47.703125 48.484375 43.546875 \r\nQ 46.734375 39.40625 42.65625 34.8125 \r\nQ 38.578125 30.21875 29.109375 22.21875 \r\nQ 21.1875 15.578125 18.9375 13.203125 \r\nQ 16.703125 10.84375 15.234375 8.453125 \r\nz\r\n\" id=\"ArialMT-50\"/>\r\n      </defs>\r\n      <g style=\"fill:#262626;\" transform=\"translate(7.2 192.990597)scale(0.08 -0.08)\">\r\n       <use xlink:href=\"#ArialMT-48\"/>\r\n       <use x=\"55.615234\" xlink:href=\"#ArialMT-46\"/>\r\n       <use x=\"83.398438\" xlink:href=\"#ArialMT-56\"/>\r\n       <use x=\"139.013672\" xlink:href=\"#ArialMT-50\"/>\r\n      </g>\r\n     </g>\r\n    </g>\r\n    <g id=\"ytick_5\">\r\n     <g id=\"line2d_14\">\r\n      <path clip-path=\"url(#p90c84a8f51)\" d=\"M 34.36875 106.46354 \r\nL 845.09875 106.46354 \r\n\" style=\"fill:none;stroke:#cccccc;stroke-linecap:round;stroke-width:0.8;\"/>\r\n     </g>\r\n     <g id=\"text_11\">\r\n      <!-- 0.83 -->\r\n      <defs>\r\n       <path d=\"M 4.203125 18.890625 \r\nL 12.984375 20.0625 \r\nQ 14.5 12.59375 18.140625 9.296875 \r\nQ 21.78125 6 27 6 \r\nQ 33.203125 6 37.46875 10.296875 \r\nQ 41.75 14.59375 41.75 20.953125 \r\nQ 41.75 27 37.796875 30.921875 \r\nQ 33.84375 34.859375 27.734375 34.859375 \r\nQ 25.25 34.859375 21.53125 33.890625 \r\nL 22.515625 41.609375 \r\nQ 23.390625 41.5 23.921875 41.5 \r\nQ 29.546875 41.5 34.03125 44.421875 \r\nQ 38.53125 47.359375 38.53125 53.46875 \r\nQ 38.53125 58.296875 35.25 61.46875 \r\nQ 31.984375 64.65625 26.8125 64.65625 \r\nQ 21.6875 64.65625 18.265625 61.421875 \r\nQ 14.84375 58.203125 13.875 51.765625 \r\nL 5.078125 53.328125 \r\nQ 6.6875 62.15625 12.390625 67.015625 \r\nQ 18.109375 71.875 26.609375 71.875 \r\nQ 32.46875 71.875 37.390625 69.359375 \r\nQ 42.328125 66.84375 44.9375 62.5 \r\nQ 47.5625 58.15625 47.5625 53.265625 \r\nQ 47.5625 48.640625 45.0625 44.828125 \r\nQ 42.578125 41.015625 37.703125 38.765625 \r\nQ 44.046875 37.3125 47.5625 32.6875 \r\nQ 51.078125 28.078125 51.078125 21.140625 \r\nQ 51.078125 11.765625 44.234375 5.25 \r\nQ 37.40625 -1.265625 26.953125 -1.265625 \r\nQ 17.53125 -1.265625 11.296875 4.34375 \r\nQ 5.078125 9.96875 4.203125 18.890625 \r\nz\r\n\" id=\"ArialMT-51\"/>\r\n      </defs>\r\n      <g style=\"fill:#262626;\" transform=\"translate(7.2 109.326665)scale(0.08 -0.08)\">\r\n       <use xlink:href=\"#ArialMT-48\"/>\r\n       <use x=\"55.615234\" xlink:href=\"#ArialMT-46\"/>\r\n       <use x=\"83.398438\" xlink:href=\"#ArialMT-56\"/>\r\n       <use x=\"139.013672\" xlink:href=\"#ArialMT-51\"/>\r\n      </g>\r\n     </g>\r\n    </g>\r\n   </g>\r\n   <g id=\"line2d_15\">\r\n    <path clip-path=\"url(#p90c84a8f51)\" d=\"M 71.220114 45.164077 \r\nL 255.476932 372.078814 \r\nL 439.73375 448.660362 \r\nL 623.990568 285.157108 \r\nL 808.247386 466.054986 \r\n\" style=\"fill:none;stroke:#ff00ff;stroke-linecap:round;stroke-width:1.4;\"/>\r\n   </g>\r\n   <g id=\"patch_3\">\r\n    <path d=\"M 34.36875 487.099531 \r\nL 34.36875 24.119531 \r\n\" style=\"fill:none;stroke:#cccccc;stroke-linecap:square;stroke-linejoin:miter;stroke-width:1.25;\"/>\r\n   </g>\r\n   <g id=\"patch_4\">\r\n    <path d=\"M 845.09875 487.099531 \r\nL 845.09875 24.119531 \r\n\" style=\"fill:none;stroke:#cccccc;stroke-linecap:square;stroke-linejoin:miter;stroke-width:1.25;\"/>\r\n   </g>\r\n   <g id=\"patch_5\">\r\n    <path d=\"M 34.36875 487.099531 \r\nL 845.09875 487.099531 \r\n\" style=\"fill:none;stroke:#cccccc;stroke-linecap:square;stroke-linejoin:miter;stroke-width:1.25;\"/>\r\n   </g>\r\n   <g id=\"patch_6\">\r\n    <path d=\"M 34.36875 24.119531 \r\nL 845.09875 24.119531 \r\n\" style=\"fill:none;stroke:#cccccc;stroke-linecap:square;stroke-linejoin:miter;stroke-width:1.25;\"/>\r\n   </g>\r\n   <g id=\"text_12\">\r\n    <!-- Machine Learning Models- Balanced Accuracy Score Results -->\r\n    <defs>\r\n     <path d=\"M 7.078125 0 \r\nL 7.078125 71.578125 \r\nL 28.71875 71.578125 \r\nL 41.703125 22.75 \r\nL 54.546875 71.578125 \r\nL 76.21875 71.578125 \r\nL 76.21875 0 \r\nL 62.796875 0 \r\nL 62.796875 56.34375 \r\nL 48.578125 0 \r\nL 34.671875 0 \r\nL 20.515625 56.34375 \r\nL 20.515625 0 \r\nz\r\n\" id=\"Arial-BoldMT-77\"/>\r\n     <path d=\"M 17.4375 36.03125 \r\nL 4.984375 38.28125 \r\nQ 7.078125 45.796875 12.203125 49.40625 \r\nQ 17.328125 53.03125 27.4375 53.03125 \r\nQ 36.625 53.03125 41.109375 50.859375 \r\nQ 45.609375 48.6875 47.4375 45.34375 \r\nQ 49.265625 42 49.265625 33.0625 \r\nL 49.125 17.046875 \r\nQ 49.125 10.203125 49.78125 6.953125 \r\nQ 50.4375 3.71875 52.25 0 \r\nL 38.671875 0 \r\nQ 38.140625 1.375 37.359375 4.046875 \r\nQ 37.015625 5.28125 36.859375 5.671875 \r\nQ 33.34375 2.25 29.34375 0.53125 \r\nQ 25.34375 -1.171875 20.796875 -1.171875 \r\nQ 12.796875 -1.171875 8.171875 3.171875 \r\nQ 3.5625 7.515625 3.5625 14.15625 \r\nQ 3.5625 18.5625 5.65625 22 \r\nQ 7.765625 25.4375 11.546875 27.265625 \r\nQ 15.328125 29.109375 22.46875 30.46875 \r\nQ 32.078125 32.28125 35.796875 33.84375 \r\nL 35.796875 35.203125 \r\nQ 35.796875 39.15625 33.84375 40.84375 \r\nQ 31.890625 42.53125 26.46875 42.53125 \r\nQ 22.796875 42.53125 20.75 41.09375 \r\nQ 18.703125 39.65625 17.4375 36.03125 \r\nz\r\nM 35.796875 24.90625 \r\nQ 33.15625 24.03125 27.4375 22.796875 \r\nQ 21.734375 21.578125 19.96875 20.40625 \r\nQ 17.28125 18.5 17.28125 15.578125 \r\nQ 17.28125 12.703125 19.421875 10.59375 \r\nQ 21.578125 8.5 24.90625 8.5 \r\nQ 28.609375 8.5 31.984375 10.9375 \r\nQ 34.46875 12.796875 35.25 15.484375 \r\nQ 35.796875 17.234375 35.796875 22.171875 \r\nz\r\n\" id=\"Arial-BoldMT-97\"/>\r\n     <path d=\"M 52.390625 36.53125 \r\nL 38.875 34.078125 \r\nQ 38.1875 38.140625 35.765625 40.1875 \r\nQ 33.34375 42.234375 29.5 42.234375 \r\nQ 24.359375 42.234375 21.3125 38.6875 \r\nQ 18.265625 35.15625 18.265625 26.859375 \r\nQ 18.265625 17.625 21.359375 13.8125 \r\nQ 24.46875 10.015625 29.6875 10.015625 \r\nQ 33.59375 10.015625 36.078125 12.234375 \r\nQ 38.578125 14.453125 39.59375 19.875 \r\nL 53.078125 17.578125 \r\nQ 50.984375 8.296875 45.015625 3.5625 \r\nQ 39.0625 -1.171875 29.046875 -1.171875 \r\nQ 17.671875 -1.171875 10.90625 6 \r\nQ 4.15625 13.1875 4.15625 25.875 \r\nQ 4.15625 38.71875 10.9375 45.875 \r\nQ 17.71875 53.03125 29.296875 53.03125 \r\nQ 38.765625 53.03125 44.359375 48.953125 \r\nQ 49.953125 44.875 52.390625 36.53125 \r\nz\r\n\" id=\"Arial-BoldMT-99\"/>\r\n     <path d=\"M 20.84375 71.578125 \r\nL 20.84375 45.265625 \r\nQ 27.484375 53.03125 36.71875 53.03125 \r\nQ 41.453125 53.03125 45.265625 51.265625 \r\nQ 49.078125 49.515625 51 46.78125 \r\nQ 52.9375 44.046875 53.640625 40.71875 \r\nQ 54.34375 37.40625 54.34375 30.421875 \r\nL 54.34375 0 \r\nL 40.625 0 \r\nL 40.625 27.390625 \r\nQ 40.625 35.546875 39.84375 37.734375 \r\nQ 39.0625 39.9375 37.078125 41.234375 \r\nQ 35.109375 42.53125 32.125 42.53125 \r\nQ 28.71875 42.53125 26.03125 40.859375 \r\nQ 23.34375 39.203125 22.09375 35.859375 \r\nQ 20.84375 32.515625 20.84375 25.984375 \r\nL 20.84375 0 \r\nL 7.125 0 \r\nL 7.125 71.578125 \r\nz\r\n\" id=\"Arial-BoldMT-104\"/>\r\n     <path d=\"M 7.171875 58.890625 \r\nL 7.171875 71.578125 \r\nL 20.90625 71.578125 \r\nL 20.90625 58.890625 \r\nz\r\nM 7.171875 0 \r\nL 7.171875 51.859375 \r\nL 20.90625 51.859375 \r\nL 20.90625 0 \r\nz\r\n\" id=\"Arial-BoldMT-105\"/>\r\n     <path d=\"M 54.34375 0 \r\nL 40.625 0 \r\nL 40.625 26.46875 \r\nQ 40.625 34.859375 39.75 37.328125 \r\nQ 38.875 39.796875 36.890625 41.15625 \r\nQ 34.90625 42.53125 32.125 42.53125 \r\nQ 28.5625 42.53125 25.734375 40.578125 \r\nQ 22.90625 38.625 21.84375 35.390625 \r\nQ 20.796875 32.171875 20.796875 23.484375 \r\nL 20.796875 0 \r\nL 7.078125 0 \r\nL 7.078125 51.859375 \r\nL 19.828125 51.859375 \r\nL 19.828125 44.234375 \r\nQ 26.609375 53.03125 36.921875 53.03125 \r\nQ 41.453125 53.03125 45.203125 51.390625 \r\nQ 48.96875 49.75 50.890625 47.203125 \r\nQ 52.828125 44.671875 53.578125 41.453125 \r\nQ 54.34375 38.234375 54.34375 32.234375 \r\nz\r\n\" id=\"Arial-BoldMT-110\"/>\r\n     <path d=\"M 37.203125 16.5 \r\nL 50.875 14.203125 \r\nQ 48.25 6.6875 42.546875 2.75 \r\nQ 36.859375 -1.171875 28.328125 -1.171875 \r\nQ 14.796875 -1.171875 8.296875 7.671875 \r\nQ 3.171875 14.75 3.171875 25.53125 \r\nQ 3.171875 38.421875 9.90625 45.71875 \r\nQ 16.65625 53.03125 26.953125 53.03125 \r\nQ 38.53125 53.03125 45.21875 45.390625 \r\nQ 51.90625 37.75 51.609375 21.96875 \r\nL 17.234375 21.96875 \r\nQ 17.390625 15.875 20.5625 12.46875 \r\nQ 23.734375 9.078125 28.46875 9.078125 \r\nQ 31.6875 9.078125 33.875 10.828125 \r\nQ 36.078125 12.59375 37.203125 16.5 \r\nz\r\nM 37.984375 30.375 \r\nQ 37.84375 36.328125 34.90625 39.421875 \r\nQ 31.984375 42.53125 27.78125 42.53125 \r\nQ 23.296875 42.53125 20.359375 39.265625 \r\nQ 17.4375 35.984375 17.484375 30.375 \r\nz\r\n\" id=\"Arial-BoldMT-101\"/>\r\n     <path id=\"Arial-BoldMT-32\"/>\r\n     <path d=\"M 7.671875 0 \r\nL 7.671875 71 \r\nL 22.125 71 \r\nL 22.125 12.0625 \r\nL 58.0625 12.0625 \r\nL 58.0625 0 \r\nz\r\n\" id=\"Arial-BoldMT-76\"/>\r\n     <path d=\"M 20.3125 0 \r\nL 6.59375 0 \r\nL 6.59375 51.859375 \r\nL 19.34375 51.859375 \r\nL 19.34375 44.484375 \r\nQ 22.609375 49.703125 25.21875 51.359375 \r\nQ 27.828125 53.03125 31.15625 53.03125 \r\nQ 35.84375 53.03125 40.1875 50.4375 \r\nL 35.9375 38.484375 \r\nQ 32.46875 40.71875 29.5 40.71875 \r\nQ 26.609375 40.71875 24.609375 39.125 \r\nQ 22.609375 37.546875 21.453125 33.390625 \r\nQ 20.3125 29.25 20.3125 16.015625 \r\nz\r\n\" id=\"Arial-BoldMT-114\"/>\r\n     <path d=\"M 5.90625 -3.421875 \r\nL 21.578125 -5.328125 \r\nQ 21.96875 -8.0625 23.390625 -9.078125 \r\nQ 25.34375 -10.546875 29.546875 -10.546875 \r\nQ 34.90625 -10.546875 37.59375 -8.9375 \r\nQ 39.40625 -7.859375 40.328125 -5.46875 \r\nQ 40.96875 -3.765625 40.96875 0.828125 \r\nL 40.96875 8.40625 \r\nQ 34.8125 0 25.4375 0 \r\nQ 14.984375 0 8.890625 8.84375 \r\nQ 4.109375 15.828125 4.109375 26.21875 \r\nQ 4.109375 39.265625 10.375 46.140625 \r\nQ 16.65625 53.03125 25.984375 53.03125 \r\nQ 35.59375 53.03125 41.84375 44.578125 \r\nL 41.84375 51.859375 \r\nL 54.6875 51.859375 \r\nL 54.6875 5.328125 \r\nQ 54.6875 -3.859375 53.171875 -8.390625 \r\nQ 51.65625 -12.9375 48.921875 -15.515625 \r\nQ 46.1875 -18.109375 41.625 -19.578125 \r\nQ 37.0625 -21.046875 30.078125 -21.046875 \r\nQ 16.890625 -21.046875 11.375 -16.53125 \r\nQ 5.859375 -12.015625 5.859375 -5.078125 \r\nQ 5.859375 -4.390625 5.90625 -3.421875 \r\nz\r\nM 18.171875 27 \r\nQ 18.171875 18.75 21.359375 14.90625 \r\nQ 24.5625 11.078125 29.25 11.078125 \r\nQ 34.28125 11.078125 37.75 15.015625 \r\nQ 41.21875 18.953125 41.21875 26.65625 \r\nQ 41.21875 34.71875 37.890625 38.625 \r\nQ 34.578125 42.53125 29.5 42.53125 \r\nQ 24.5625 42.53125 21.359375 38.6875 \r\nQ 18.171875 34.859375 18.171875 27 \r\nz\r\n\" id=\"Arial-BoldMT-103\"/>\r\n     <path d=\"M 4 26.65625 \r\nQ 4 33.5 7.375 39.890625 \r\nQ 10.75 46.296875 16.921875 49.65625 \r\nQ 23.09375 53.03125 30.71875 53.03125 \r\nQ 42.484375 53.03125 50 45.390625 \r\nQ 57.515625 37.75 57.515625 26.078125 \r\nQ 57.515625 14.3125 49.921875 6.5625 \r\nQ 42.328125 -1.171875 30.8125 -1.171875 \r\nQ 23.6875 -1.171875 17.21875 2.046875 \r\nQ 10.75 5.28125 7.375 11.5 \r\nQ 4 17.71875 4 26.65625 \r\nz\r\nM 18.0625 25.921875 \r\nQ 18.0625 18.21875 21.71875 14.109375 \r\nQ 25.390625 10.015625 30.765625 10.015625 \r\nQ 36.140625 10.015625 39.765625 14.109375 \r\nQ 43.40625 18.21875 43.40625 26.03125 \r\nQ 43.40625 33.640625 39.765625 37.734375 \r\nQ 36.140625 41.84375 30.765625 41.84375 \r\nQ 25.390625 41.84375 21.71875 37.734375 \r\nQ 18.0625 33.640625 18.0625 25.921875 \r\nz\r\n\" id=\"Arial-BoldMT-111\"/>\r\n     <path d=\"M 54.734375 0 \r\nL 42 0 \r\nL 42 7.625 \r\nQ 38.8125 3.171875 34.484375 1 \r\nQ 30.171875 -1.171875 25.78125 -1.171875 \r\nQ 16.84375 -1.171875 10.46875 6.03125 \r\nQ 4.109375 13.234375 4.109375 26.125 \r\nQ 4.109375 39.3125 10.296875 46.171875 \r\nQ 16.5 53.03125 25.984375 53.03125 \r\nQ 34.671875 53.03125 41.015625 45.796875 \r\nL 41.015625 71.578125 \r\nL 54.734375 71.578125 \r\nz\r\nM 18.109375 27.046875 \r\nQ 18.109375 18.75 20.40625 15.046875 \r\nQ 23.734375 9.671875 29.6875 9.671875 \r\nQ 34.421875 9.671875 37.734375 13.6875 \r\nQ 41.0625 17.71875 41.0625 25.734375 \r\nQ 41.0625 34.671875 37.84375 38.59375 \r\nQ 34.625 42.53125 29.59375 42.53125 \r\nQ 24.703125 42.53125 21.40625 38.640625 \r\nQ 18.109375 34.765625 18.109375 27.046875 \r\nz\r\n\" id=\"Arial-BoldMT-100\"/>\r\n     <path d=\"M 7.171875 0 \r\nL 7.171875 71.578125 \r\nL 20.90625 71.578125 \r\nL 20.90625 0 \r\nz\r\n\" id=\"Arial-BoldMT-108\"/>\r\n     <path d=\"M 2.34375 14.796875 \r\nL 16.109375 16.890625 \r\nQ 17 12.890625 19.671875 10.8125 \r\nQ 22.359375 8.734375 27.203125 8.734375 \r\nQ 32.515625 8.734375 35.203125 10.6875 \r\nQ 37.015625 12.0625 37.015625 14.359375 \r\nQ 37.015625 15.921875 36.03125 16.9375 \r\nQ 35.015625 17.921875 31.453125 18.75 \r\nQ 14.84375 22.40625 10.40625 25.4375 \r\nQ 4.25 29.640625 4.25 37.109375 \r\nQ 4.25 43.84375 9.5625 48.4375 \r\nQ 14.890625 53.03125 26.078125 53.03125 \r\nQ 36.71875 53.03125 41.890625 49.5625 \r\nQ 47.078125 46.09375 49.03125 39.3125 \r\nL 36.078125 36.921875 \r\nQ 35.25 39.9375 32.921875 41.546875 \r\nQ 30.609375 43.171875 26.3125 43.171875 \r\nQ 20.90625 43.171875 18.5625 41.65625 \r\nQ 17 40.578125 17 38.875 \r\nQ 17 37.40625 18.359375 36.375 \r\nQ 20.21875 35.015625 31.171875 32.515625 \r\nQ 42.140625 30.03125 46.484375 26.421875 \r\nQ 50.78125 22.75 50.78125 16.21875 \r\nQ 50.78125 9.078125 44.828125 3.953125 \r\nQ 38.875 -1.171875 27.203125 -1.171875 \r\nQ 16.609375 -1.171875 10.421875 3.125 \r\nQ 4.25 7.421875 2.34375 14.796875 \r\nz\r\n\" id=\"Arial-BoldMT-115\"/>\r\n     <path d=\"M 5.609375 19.09375 \r\nL 5.609375 32.8125 \r\nL 32.5625 32.8125 \r\nL 32.5625 19.09375 \r\nz\r\n\" id=\"Arial-BoldMT-45\"/>\r\n     <path d=\"M 7.328125 71.578125 \r\nL 35.9375 71.578125 \r\nQ 44.4375 71.578125 48.609375 70.875 \r\nQ 52.78125 70.171875 56.078125 67.921875 \r\nQ 59.375 65.671875 61.5625 61.9375 \r\nQ 63.765625 58.203125 63.765625 53.5625 \r\nQ 63.765625 48.53125 61.046875 44.328125 \r\nQ 58.34375 40.140625 53.71875 38.03125 \r\nQ 60.25 36.140625 63.765625 31.546875 \r\nQ 67.28125 26.953125 67.28125 20.75 \r\nQ 67.28125 15.875 65.015625 11.25 \r\nQ 62.75 6.640625 58.8125 3.875 \r\nQ 54.890625 1.125 49.125 0.484375 \r\nQ 45.515625 0.09375 31.6875 0 \r\nL 7.328125 0 \r\nz\r\nM 21.78125 59.671875 \r\nL 21.78125 43.109375 \r\nL 31.25 43.109375 \r\nQ 39.703125 43.109375 41.75 43.359375 \r\nQ 45.453125 43.796875 47.578125 45.921875 \r\nQ 49.703125 48.046875 49.703125 51.515625 \r\nQ 49.703125 54.828125 47.875 56.90625 \r\nQ 46.046875 58.984375 42.4375 59.421875 \r\nQ 40.28125 59.671875 30.078125 59.671875 \r\nz\r\nM 21.78125 31.203125 \r\nL 21.78125 12.0625 \r\nL 35.15625 12.0625 \r\nQ 42.96875 12.0625 45.0625 12.5 \r\nQ 48.296875 13.09375 50.3125 15.359375 \r\nQ 52.34375 17.625 52.34375 21.4375 \r\nQ 52.34375 24.65625 50.78125 26.90625 \r\nQ 49.21875 29.15625 46.265625 30.171875 \r\nQ 43.3125 31.203125 33.453125 31.203125 \r\nz\r\n\" id=\"Arial-BoldMT-66\"/>\r\n     <path d=\"M 71.828125 0 \r\nL 56.109375 0 \r\nL 49.859375 16.265625 \r\nL 21.234375 16.265625 \r\nL 15.328125 0 \r\nL 0 0 \r\nL 27.875 71.578125 \r\nL 43.171875 71.578125 \r\nz\r\nM 45.21875 28.328125 \r\nL 35.359375 54.890625 \r\nL 25.6875 28.328125 \r\nz\r\n\" id=\"Arial-BoldMT-65\"/>\r\n     <path d=\"M 41.3125 0 \r\nL 41.3125 7.765625 \r\nQ 38.484375 3.609375 33.859375 1.21875 \r\nQ 29.25 -1.171875 24.125 -1.171875 \r\nQ 18.890625 -1.171875 14.734375 1.125 \r\nQ 10.59375 3.421875 8.734375 7.5625 \r\nQ 6.890625 11.71875 6.890625 19.046875 \r\nL 6.890625 51.859375 \r\nL 20.609375 51.859375 \r\nL 20.609375 28.03125 \r\nQ 20.609375 17.09375 21.359375 14.625 \r\nQ 22.125 12.15625 24.125 10.71875 \r\nQ 26.125 9.28125 29.203125 9.28125 \r\nQ 32.71875 9.28125 35.5 11.203125 \r\nQ 38.28125 13.140625 39.296875 15.984375 \r\nQ 40.328125 18.84375 40.328125 29.984375 \r\nL 40.328125 51.859375 \r\nL 54.046875 51.859375 \r\nL 54.046875 0 \r\nz\r\n\" id=\"Arial-BoldMT-117\"/>\r\n     <path d=\"M 0.6875 51.859375 \r\nL 15.28125 51.859375 \r\nL 27.6875 15.046875 \r\nL 39.796875 51.859375 \r\nL 54 51.859375 \r\nL 35.6875 1.953125 \r\nL 32.421875 -7.078125 \r\nQ 30.609375 -11.625 28.96875 -14.015625 \r\nQ 27.34375 -16.40625 25.21875 -17.890625 \r\nQ 23.09375 -19.390625 19.984375 -20.21875 \r\nQ 16.890625 -21.046875 12.984375 -21.046875 \r\nQ 9.03125 -21.046875 5.21875 -20.21875 \r\nL 4 -9.46875 \r\nQ 7.234375 -10.109375 9.8125 -10.109375 \r\nQ 14.59375 -10.109375 16.890625 -7.296875 \r\nQ 19.1875 -4.5 20.40625 -0.140625 \r\nz\r\n\" id=\"Arial-BoldMT-121\"/>\r\n     <path d=\"M 3.609375 23.296875 \r\nL 17.671875 24.65625 \r\nQ 18.953125 17.578125 22.828125 14.25 \r\nQ 26.703125 10.9375 33.296875 10.9375 \r\nQ 40.28125 10.9375 43.8125 13.890625 \r\nQ 47.359375 16.84375 47.359375 20.796875 \r\nQ 47.359375 23.34375 45.875 25.125 \r\nQ 44.390625 26.90625 40.671875 28.21875 \r\nQ 38.140625 29.109375 29.109375 31.34375 \r\nQ 17.484375 34.234375 12.796875 38.421875 \r\nQ 6.203125 44.34375 6.203125 52.828125 \r\nQ 6.203125 58.296875 9.296875 63.0625 \r\nQ 12.40625 67.828125 18.234375 70.3125 \r\nQ 24.078125 72.796875 32.328125 72.796875 \r\nQ 45.796875 72.796875 52.609375 66.890625 \r\nQ 59.421875 60.984375 59.765625 51.125 \r\nL 45.3125 50.484375 \r\nQ 44.390625 56 41.328125 58.421875 \r\nQ 38.28125 60.84375 32.171875 60.84375 \r\nQ 25.875 60.84375 22.3125 58.25 \r\nQ 20.015625 56.59375 20.015625 53.8125 \r\nQ 20.015625 51.265625 22.171875 49.46875 \r\nQ 24.90625 47.171875 35.453125 44.671875 \r\nQ 46 42.1875 51.046875 39.515625 \r\nQ 56.109375 36.859375 58.953125 32.25 \r\nQ 61.8125 27.640625 61.8125 20.84375 \r\nQ 61.8125 14.703125 58.390625 9.328125 \r\nQ 54.984375 3.953125 48.734375 1.34375 \r\nQ 42.484375 -1.265625 33.15625 -1.265625 \r\nQ 19.578125 -1.265625 12.296875 5 \r\nQ 5.03125 11.28125 3.609375 23.296875 \r\nz\r\n\" id=\"Arial-BoldMT-83\"/>\r\n     <path d=\"M 7.328125 0 \r\nL 7.328125 71.578125 \r\nL 37.75 71.578125 \r\nQ 49.21875 71.578125 54.421875 69.640625 \r\nQ 59.625 67.71875 62.75 62.78125 \r\nQ 65.875 57.859375 65.875 51.515625 \r\nQ 65.875 43.453125 61.125 38.203125 \r\nQ 56.390625 32.953125 46.96875 31.59375 \r\nQ 51.65625 28.859375 54.703125 25.578125 \r\nQ 57.765625 22.3125 62.9375 13.96875 \r\nL 71.6875 0 \r\nL 54.390625 0 \r\nL 43.953125 15.578125 \r\nQ 38.375 23.921875 36.328125 26.09375 \r\nQ 34.28125 28.265625 31.984375 29.078125 \r\nQ 29.6875 29.890625 24.703125 29.890625 \r\nL 21.78125 29.890625 \r\nL 21.78125 0 \r\nz\r\nM 21.78125 41.3125 \r\nL 32.46875 41.3125 \r\nQ 42.875 41.3125 45.453125 42.1875 \r\nQ 48.046875 43.0625 49.515625 45.203125 \r\nQ 50.984375 47.359375 50.984375 50.59375 \r\nQ 50.984375 54.203125 49.046875 56.421875 \r\nQ 47.125 58.640625 43.609375 59.234375 \r\nQ 41.84375 59.46875 33.0625 59.46875 \r\nL 21.78125 59.46875 \r\nz\r\n\" id=\"Arial-BoldMT-82\"/>\r\n     <path d=\"M 30.953125 51.859375 \r\nL 30.953125 40.921875 \r\nL 21.578125 40.921875 \r\nL 21.578125 20.015625 \r\nQ 21.578125 13.671875 21.84375 12.625 \r\nQ 22.125 11.578125 23.078125 10.890625 \r\nQ 24.03125 10.203125 25.390625 10.203125 \r\nQ 27.296875 10.203125 30.90625 11.53125 \r\nL 32.078125 0.875 \r\nQ 27.296875 -1.171875 21.234375 -1.171875 \r\nQ 17.53125 -1.171875 14.546875 0.0625 \r\nQ 11.578125 1.3125 10.1875 3.296875 \r\nQ 8.796875 5.28125 8.25 8.640625 \r\nQ 7.8125 11.03125 7.8125 18.3125 \r\nL 7.8125 40.921875 \r\nL 1.515625 40.921875 \r\nL 1.515625 51.859375 \r\nL 7.8125 51.859375 \r\nL 7.8125 62.15625 \r\nL 21.578125 70.171875 \r\nL 21.578125 51.859375 \r\nz\r\n\" id=\"Arial-BoldMT-116\"/>\r\n    </defs>\r\n    <g style=\"fill:#262626;\" transform=\"translate(222.461094 18.119531)scale(0.15 -0.15)\">\r\n     <use xlink:href=\"#Arial-BoldMT-77\"/>\r\n     <use x=\"83.300781\" xlink:href=\"#Arial-BoldMT-97\"/>\r\n     <use x=\"138.916016\" xlink:href=\"#Arial-BoldMT-99\"/>\r\n     <use x=\"194.53125\" xlink:href=\"#Arial-BoldMT-104\"/>\r\n     <use x=\"255.615234\" xlink:href=\"#Arial-BoldMT-105\"/>\r\n     <use x=\"283.398438\" xlink:href=\"#Arial-BoldMT-110\"/>\r\n     <use x=\"344.482422\" xlink:href=\"#Arial-BoldMT-101\"/>\r\n     <use x=\"400.097656\" xlink:href=\"#Arial-BoldMT-32\"/>\r\n     <use x=\"427.880859\" xlink:href=\"#Arial-BoldMT-76\"/>\r\n     <use x=\"488.964844\" xlink:href=\"#Arial-BoldMT-101\"/>\r\n     <use x=\"544.580078\" xlink:href=\"#Arial-BoldMT-97\"/>\r\n     <use x=\"600.195312\" xlink:href=\"#Arial-BoldMT-114\"/>\r\n     <use x=\"639.111328\" xlink:href=\"#Arial-BoldMT-110\"/>\r\n     <use x=\"700.195312\" xlink:href=\"#Arial-BoldMT-105\"/>\r\n     <use x=\"727.978516\" xlink:href=\"#Arial-BoldMT-110\"/>\r\n     <use x=\"789.0625\" xlink:href=\"#Arial-BoldMT-103\"/>\r\n     <use x=\"850.146484\" xlink:href=\"#Arial-BoldMT-32\"/>\r\n     <use x=\"877.929688\" xlink:href=\"#Arial-BoldMT-77\"/>\r\n     <use x=\"961.230469\" xlink:href=\"#Arial-BoldMT-111\"/>\r\n     <use x=\"1022.314453\" xlink:href=\"#Arial-BoldMT-100\"/>\r\n     <use x=\"1083.398438\" xlink:href=\"#Arial-BoldMT-101\"/>\r\n     <use x=\"1139.013672\" xlink:href=\"#Arial-BoldMT-108\"/>\r\n     <use x=\"1166.796875\" xlink:href=\"#Arial-BoldMT-115\"/>\r\n     <use x=\"1222.412109\" xlink:href=\"#Arial-BoldMT-45\"/>\r\n     <use x=\"1255.712891\" xlink:href=\"#Arial-BoldMT-32\"/>\r\n     <use x=\"1283.496094\" xlink:href=\"#Arial-BoldMT-66\"/>\r\n     <use x=\"1355.712891\" xlink:href=\"#Arial-BoldMT-97\"/>\r\n     <use x=\"1411.328125\" xlink:href=\"#Arial-BoldMT-108\"/>\r\n     <use x=\"1439.111328\" xlink:href=\"#Arial-BoldMT-97\"/>\r\n     <use x=\"1494.726562\" xlink:href=\"#Arial-BoldMT-110\"/>\r\n     <use x=\"1555.810547\" xlink:href=\"#Arial-BoldMT-99\"/>\r\n     <use x=\"1611.425781\" xlink:href=\"#Arial-BoldMT-101\"/>\r\n     <use x=\"1667.041016\" xlink:href=\"#Arial-BoldMT-100\"/>\r\n     <use x=\"1728.125\" xlink:href=\"#Arial-BoldMT-32\"/>\r\n     <use x=\"1752.158203\" xlink:href=\"#Arial-BoldMT-65\"/>\r\n     <use x=\"1824.375\" xlink:href=\"#Arial-BoldMT-99\"/>\r\n     <use x=\"1879.990234\" xlink:href=\"#Arial-BoldMT-99\"/>\r\n     <use x=\"1935.605469\" xlink:href=\"#Arial-BoldMT-117\"/>\r\n     <use x=\"1996.689453\" xlink:href=\"#Arial-BoldMT-114\"/>\r\n     <use x=\"2035.605469\" xlink:href=\"#Arial-BoldMT-97\"/>\r\n     <use x=\"2091.220703\" xlink:href=\"#Arial-BoldMT-99\"/>\r\n     <use x=\"2146.835938\" xlink:href=\"#Arial-BoldMT-121\"/>\r\n     <use x=\"2202.451172\" xlink:href=\"#Arial-BoldMT-32\"/>\r\n     <use x=\"2230.234375\" xlink:href=\"#Arial-BoldMT-83\"/>\r\n     <use x=\"2296.933594\" xlink:href=\"#Arial-BoldMT-99\"/>\r\n     <use x=\"2352.548828\" xlink:href=\"#Arial-BoldMT-111\"/>\r\n     <use x=\"2413.632812\" xlink:href=\"#Arial-BoldMT-114\"/>\r\n     <use x=\"2452.548828\" xlink:href=\"#Arial-BoldMT-101\"/>\r\n     <use x=\"2508.164062\" xlink:href=\"#Arial-BoldMT-32\"/>\r\n     <use x=\"2535.947266\" xlink:href=\"#Arial-BoldMT-82\"/>\r\n     <use x=\"2608.164062\" xlink:href=\"#Arial-BoldMT-101\"/>\r\n     <use x=\"2663.779297\" xlink:href=\"#Arial-BoldMT-115\"/>\r\n     <use x=\"2719.394531\" xlink:href=\"#Arial-BoldMT-117\"/>\r\n     <use x=\"2780.478516\" xlink:href=\"#Arial-BoldMT-108\"/>\r\n     <use x=\"2808.261719\" xlink:href=\"#Arial-BoldMT-116\"/>\r\n     <use x=\"2841.5625\" xlink:href=\"#Arial-BoldMT-115\"/>\r\n    </g>\r\n   </g>\r\n   <g id=\"legend_1\">\r\n    <g id=\"patch_7\">\r\n     <path d=\"M 760.0975 41.835781 \r\nL 839.49875 41.835781 \r\nQ 841.09875 41.835781 841.09875 40.235781 \r\nL 841.09875 29.719531 \r\nQ 841.09875 28.119531 839.49875 28.119531 \r\nL 760.0975 28.119531 \r\nQ 758.4975 28.119531 758.4975 29.719531 \r\nL 758.4975 40.235781 \r\nQ 758.4975 41.835781 760.0975 41.835781 \r\nz\r\n\" style=\"fill:#ffffff;opacity:0.8;stroke:#cccccc;stroke-linejoin:miter;stroke-width:0.24;\"/>\r\n    </g>\r\n    <g id=\"line2d_16\">\r\n     <path d=\"M 761.6975 34.245781 \r\nL 777.6975 34.245781 \r\n\" style=\"fill:none;stroke:#ff00ff;stroke-linecap:round;stroke-width:1.4;\"/>\r\n    </g>\r\n    <g id=\"line2d_17\"/>\r\n    <g id=\"text_13\">\r\n     <!-- Bal Acc Scores -->\r\n     <defs>\r\n      <path d=\"M 7.328125 0 \r\nL 7.328125 71.578125 \r\nL 34.1875 71.578125 \r\nQ 42.390625 71.578125 47.34375 69.40625 \r\nQ 52.296875 67.234375 55.09375 62.71875 \r\nQ 57.90625 58.203125 57.90625 53.265625 \r\nQ 57.90625 48.6875 55.421875 44.625 \r\nQ 52.9375 40.578125 47.90625 38.09375 \r\nQ 54.390625 36.1875 57.875 31.59375 \r\nQ 61.375 27 61.375 20.75 \r\nQ 61.375 15.71875 59.25 11.390625 \r\nQ 57.125 7.078125 54 4.734375 \r\nQ 50.875 2.390625 46.15625 1.1875 \r\nQ 41.453125 0 34.625 0 \r\nz\r\nM 16.796875 41.5 \r\nL 32.28125 41.5 \r\nQ 38.578125 41.5 41.3125 42.328125 \r\nQ 44.921875 43.40625 46.75 45.890625 \r\nQ 48.578125 48.390625 48.578125 52.15625 \r\nQ 48.578125 55.71875 46.875 58.421875 \r\nQ 45.171875 61.140625 41.984375 62.140625 \r\nQ 38.8125 63.140625 31.109375 63.140625 \r\nL 16.796875 63.140625 \r\nz\r\nM 16.796875 8.453125 \r\nL 34.625 8.453125 \r\nQ 39.203125 8.453125 41.0625 8.796875 \r\nQ 44.34375 9.375 46.53125 10.734375 \r\nQ 48.734375 12.109375 50.140625 14.71875 \r\nQ 51.5625 17.328125 51.5625 20.75 \r\nQ 51.5625 24.75 49.515625 27.703125 \r\nQ 47.46875 30.671875 43.828125 31.859375 \r\nQ 40.1875 33.0625 33.34375 33.0625 \r\nL 16.796875 33.0625 \r\nz\r\n\" id=\"ArialMT-66\"/>\r\n      <path id=\"ArialMT-32\"/>\r\n      <path d=\"M -0.140625 0 \r\nL 27.34375 71.578125 \r\nL 37.546875 71.578125 \r\nL 66.84375 0 \r\nL 56.0625 0 \r\nL 47.703125 21.6875 \r\nL 17.78125 21.6875 \r\nL 9.90625 0 \r\nz\r\nM 20.515625 29.390625 \r\nL 44.78125 29.390625 \r\nL 37.3125 49.21875 \r\nQ 33.890625 58.25 32.234375 64.0625 \r\nQ 30.859375 57.171875 28.375 50.390625 \r\nz\r\n\" id=\"ArialMT-65\"/>\r\n      <path d=\"M 4.5 23 \r\nL 13.421875 23.78125 \r\nQ 14.0625 18.40625 16.375 14.96875 \r\nQ 18.703125 11.53125 23.578125 9.40625 \r\nQ 28.46875 7.28125 34.578125 7.28125 \r\nQ 39.984375 7.28125 44.140625 8.890625 \r\nQ 48.296875 10.5 50.3125 13.296875 \r\nQ 52.34375 16.109375 52.34375 19.4375 \r\nQ 52.34375 22.796875 50.390625 25.3125 \r\nQ 48.4375 27.828125 43.953125 29.546875 \r\nQ 41.0625 30.671875 31.203125 33.03125 \r\nQ 21.34375 35.40625 17.390625 37.5 \r\nQ 12.25 40.1875 9.734375 44.15625 \r\nQ 7.234375 48.140625 7.234375 53.078125 \r\nQ 7.234375 58.5 10.296875 63.203125 \r\nQ 13.375 67.921875 19.28125 70.359375 \r\nQ 25.203125 72.796875 32.421875 72.796875 \r\nQ 40.375 72.796875 46.453125 70.234375 \r\nQ 52.546875 67.671875 55.8125 62.6875 \r\nQ 59.078125 57.71875 59.328125 51.421875 \r\nL 50.25 50.734375 \r\nQ 49.515625 57.515625 45.28125 60.984375 \r\nQ 41.0625 64.453125 32.8125 64.453125 \r\nQ 24.21875 64.453125 20.28125 61.296875 \r\nQ 16.359375 58.15625 16.359375 53.71875 \r\nQ 16.359375 49.859375 19.140625 47.359375 \r\nQ 21.875 44.875 33.421875 42.265625 \r\nQ 44.96875 39.65625 49.265625 37.703125 \r\nQ 55.515625 34.8125 58.484375 30.390625 \r\nQ 61.46875 25.984375 61.46875 20.21875 \r\nQ 61.46875 14.5 58.203125 9.4375 \r\nQ 54.9375 4.390625 48.796875 1.578125 \r\nQ 42.671875 -1.21875 35.015625 -1.21875 \r\nQ 25.296875 -1.21875 18.71875 1.609375 \r\nQ 12.15625 4.4375 8.421875 10.125 \r\nQ 4.6875 15.828125 4.5 23 \r\nz\r\n\" id=\"ArialMT-83\"/>\r\n     </defs>\r\n     <g style=\"fill:#262626;\" transform=\"translate(784.0975 37.045781)scale(0.08 -0.08)\">\r\n      <use xlink:href=\"#ArialMT-66\"/>\r\n      <use x=\"66.699219\" xlink:href=\"#ArialMT-97\"/>\r\n      <use x=\"122.314453\" xlink:href=\"#ArialMT-108\"/>\r\n      <use x=\"144.53125\" xlink:href=\"#ArialMT-32\"/>\r\n      <use x=\"166.814453\" xlink:href=\"#ArialMT-65\"/>\r\n      <use x=\"233.513672\" xlink:href=\"#ArialMT-99\"/>\r\n      <use x=\"283.513672\" xlink:href=\"#ArialMT-99\"/>\r\n      <use x=\"333.513672\" xlink:href=\"#ArialMT-32\"/>\r\n      <use x=\"361.296875\" xlink:href=\"#ArialMT-83\"/>\r\n      <use x=\"427.996094\" xlink:href=\"#ArialMT-99\"/>\r\n      <use x=\"477.996094\" xlink:href=\"#ArialMT-111\"/>\r\n      <use x=\"533.611328\" xlink:href=\"#ArialMT-114\"/>\r\n      <use x=\"566.912109\" xlink:href=\"#ArialMT-101\"/>\r\n      <use x=\"622.527344\" xlink:href=\"#ArialMT-115\"/>\r\n     </g>\r\n    </g>\r\n   </g>\r\n  </g>\r\n </g>\r\n <defs>\r\n  <clipPath id=\"p90c84a8f51\">\r\n   <rect height=\"462.98\" width=\"810.73\" x=\"34.36875\" y=\"24.119531\"/>\r\n  </clipPath>\r\n </defs>\r\n</svg>\r\n",
      "image/png": "[encoded data removed]"
     },
     "metadata": {}
    }
   ],
   "source": [
    "plt.style.use('seaborn-paper')\n",
    "color = plt.cm.spring(np.linspace(0, 1, 15))\n",
    "ml_bal_acc.plot.line(x='Models', y='Bal Acc Scores', color= color, figsize = (12, 8), grid=True)\n",
    "plt.title('Machine Learning Models- Balanced Accuracy Score Results',fontsize = 15, weight='bold')\n",
    "plt.xticks(rotation = 90)\n",
    "plt.tight_layout()\n",
    "plt.savefig(\"/Users/lrinc/DataAustin2020/sanFranCrimePredictor/images/bal_acc_score.png\")\n",
    "plt.show()"
   ]
  },
  {
   "source": [
    "# Apply PCA to all Models"
   ],
   "cell_type": "markdown",
   "metadata": {}
  },
  {
   "cell_type": "code",
   "execution_count": 50,
   "metadata": {},
   "outputs": [],
   "source": [
    "#create features\n",
    "X = pca_df.drop(\"Target\", axis=1)\n",
    "\n",
    "#create target\n",
    "y = pca_df[\"Target\"]"
   ]
  },
  {
   "cell_type": "code",
   "execution_count": 51,
   "metadata": {},
   "outputs": [],
   "source": [
    "#train test split\n",
    "X_train, X_test, y_train, y_test = train_test_split(X, y, random_state=1, test_size=0.5)\n",
    "X_train, X_val, y_train, y_val = train_test_split(X_train, y_train, random_state=1, test_size=0.5)"
   ]
  },
  {
   "source": [
    "# RandomForest with PCA"
   ],
   "cell_type": "markdown",
   "metadata": {}
  },
  {
   "cell_type": "code",
   "execution_count": 52,
   "metadata": {},
   "outputs": [],
   "source": [
    "# train the classifier\n",
    "brf = BalancedRandomForestClassifier()\n",
    "brf.fit(X_train, y_train)\n",
    "y_pred = brf.predict(X_test)"
   ]
  },
  {
   "cell_type": "code",
   "execution_count": 53,
   "metadata": {},
   "outputs": [
    {
     "output_type": "stream",
     "name": "stdout",
     "text": [
      "balanced accuracy score = 98.82%\n"
     ]
    }
   ],
   "source": [
    "# Calculated the balanced accuracy score\n",
    "rf_pca_bal_acc = balanced_accuracy_score(y_test,y_pred)\n",
    "print(f\"balanced accuracy score = {rf_pca_bal_acc*100:.2f}%\")"
   ]
  },
  {
   "cell_type": "code",
   "execution_count": 54,
   "metadata": {},
   "outputs": [
    {
     "output_type": "display_data",
     "data": {
      "text/plain": "          Predicted 0  Predicted 1\nAcutal 0        19413          283\nActual 1          498        53404",
      "text/html": "<div>\n<style scoped>\n    .dataframe tbody tr th:only-of-type {\n        vertical-align: middle;\n    }\n\n    .dataframe tbody tr th {\n        vertical-align: top;\n    }\n\n    .dataframe thead th {\n        text-align: right;\n    }\n</style>\n<table border=\"1\" class=\"dataframe\">\n  <thead>\n    <tr style=\"text-align: right;\">\n      <th></th>\n      <th>Predicted 0</th>\n      <th>Predicted 1</th>\n    </tr>\n  </thead>\n  <tbody>\n    <tr>\n      <th>Acutal 0</th>\n      <td>19413</td>\n      <td>283</td>\n    </tr>\n    <tr>\n      <th>Actual 1</th>\n      <td>498</td>\n      <td>53404</td>\n    </tr>\n  </tbody>\n</table>\n</div>"
     },
     "metadata": {}
    }
   ],
   "source": [
    "# Display the confusion matrix\n",
    "cm = confusion_matrix(y_test, y_pred)\n",
    "cm_df = pd.DataFrame(cm, index=[\"Acutal 0\", \"Actual 1\"], columns=[\"Predicted 0\", \"Predicted 1\"])\n",
    "display(cm_df)"
   ]
  },
  {
   "cell_type": "code",
   "execution_count": 55,
   "metadata": {},
   "outputs": [
    {
     "output_type": "stream",
     "name": "stdout",
     "text": [
      "imbalanced classification report\n",
      "                   pre       rec       spe        f1       geo       iba       sup\n",
      "\n",
      "          0       0.97      0.99      0.99      0.98      0.99      0.98     19696\n",
      "          1       0.99      0.99      0.99      0.99      0.99      0.98     53902\n",
      "\n",
      "avg / total       0.99      0.99      0.99      0.99      0.99      0.98     73598\n",
      "\n"
     ]
    }
   ],
   "source": [
    "# Print the imbalanced classification report\n",
    "print(\"imbalanced classification report\")\n",
    "print(classification_report_imbalanced(y_test,y_pred))"
   ]
  },
  {
   "source": [
    "# AdaBoost with PCA"
   ],
   "cell_type": "markdown",
   "metadata": {}
  },
  {
   "cell_type": "code",
   "execution_count": 56,
   "metadata": {},
   "outputs": [],
   "source": [
    "# Create adaboost classifer object\n",
    "abc = AdaBoostClassifier()\n",
    "# Train Adaboost Classifer\n",
    "model = abc.fit(X_train, y_train)\n",
    "\n",
    "#Predict the response for test dataset\n",
    "y_pred = model.predict(X_test)"
   ]
  },
  {
   "cell_type": "code",
   "execution_count": 57,
   "metadata": {},
   "outputs": [
    {
     "output_type": "stream",
     "name": "stdout",
     "text": [
      "AdaBoost balanced accuracy score = 90.76%\n"
     ]
    }
   ],
   "source": [
    "# Calculated the balanced accuracy score\n",
    "ada_pca_bal_acc = balanced_accuracy_score(y_test,y_pred)\n",
    "print(f\"AdaBoost balanced accuracy score = {ada_pca_bal_acc*100:.2f}%\")"
   ]
  },
  {
   "cell_type": "code",
   "execution_count": 58,
   "metadata": {},
   "outputs": [
    {
     "output_type": "display_data",
     "data": {
      "text/plain": "          Predicted 0  Predicted 1\nAcutal 0        16693         3003\nActual 1         1745        52157",
      "text/html": "<div>\n<style scoped>\n    .dataframe tbody tr th:only-of-type {\n        vertical-align: middle;\n    }\n\n    .dataframe tbody tr th {\n        vertical-align: top;\n    }\n\n    .dataframe thead th {\n        text-align: right;\n    }\n</style>\n<table border=\"1\" class=\"dataframe\">\n  <thead>\n    <tr style=\"text-align: right;\">\n      <th></th>\n      <th>Predicted 0</th>\n      <th>Predicted 1</th>\n    </tr>\n  </thead>\n  <tbody>\n    <tr>\n      <th>Acutal 0</th>\n      <td>16693</td>\n      <td>3003</td>\n    </tr>\n    <tr>\n      <th>Actual 1</th>\n      <td>1745</td>\n      <td>52157</td>\n    </tr>\n  </tbody>\n</table>\n</div>"
     },
     "metadata": {}
    }
   ],
   "source": [
    "# Display the confusion matrix\n",
    "ada_cm = confusion_matrix(y_test, y_pred)\n",
    "ada_cm_df = pd.DataFrame(ada_cm, index=[\"Acutal 0\", \"Actual 1\"], columns=[\"Predicted 0\", \"Predicted 1\"])\n",
    "display(ada_cm_df)"
   ]
  },
  {
   "cell_type": "code",
   "execution_count": 59,
   "metadata": {},
   "outputs": [
    {
     "output_type": "stream",
     "name": "stdout",
     "text": [
      "AdaBoost imbalanced classification report\n",
      "                   pre       rec       spe        f1       geo       iba       sup\n",
      "\n",
      "          0       0.91      0.85      0.97      0.88      0.91      0.81     19696\n",
      "          1       0.95      0.97      0.85      0.96      0.91      0.83     53902\n",
      "\n",
      "avg / total       0.93      0.94      0.88      0.93      0.91      0.82     73598\n",
      "\n"
     ]
    }
   ],
   "source": [
    "# Print the imbalanced classification report\n",
    "print(\"AdaBoost imbalanced classification report\")\n",
    "print(classification_report_imbalanced(y_test,y_pred))"
   ]
  },
  {
   "source": [
    "# DecisionTree with PCA"
   ],
   "cell_type": "markdown",
   "metadata": {}
  },
  {
   "cell_type": "code",
   "execution_count": 60,
   "metadata": {},
   "outputs": [],
   "source": [
    "# Creating the decision tree classifier instance.\n",
    "model = tree.DecisionTreeClassifier()\n",
    "# Fitting the model.\n",
    "model = model.fit(X_train, y_train)\n",
    "#Predict the response for test dataset\n",
    "y_pred = model.predict(X_test)"
   ]
  },
  {
   "cell_type": "code",
   "execution_count": 61,
   "metadata": {},
   "outputs": [
    {
     "output_type": "stream",
     "name": "stdout",
     "text": [
      "DecisionTree balanced accuracy score = 98.07%\n"
     ]
    }
   ],
   "source": [
    "# Calculated the balanced accuracy score\n",
    "dt_pca_bal_acc = balanced_accuracy_score(y_test,y_pred)\n",
    "print(f\"DecisionTree balanced accuracy score = {dt_pca_bal_acc*100:.2f}%\")"
   ]
  },
  {
   "cell_type": "code",
   "execution_count": 62,
   "metadata": {},
   "outputs": [
    {
     "output_type": "display_data",
     "data": {
      "text/plain": "          Predicted 0  Predicted 1\nAcutal 0        19093          603\nActual 1          428        53474",
      "text/html": "<div>\n<style scoped>\n    .dataframe tbody tr th:only-of-type {\n        vertical-align: middle;\n    }\n\n    .dataframe tbody tr th {\n        vertical-align: top;\n    }\n\n    .dataframe thead th {\n        text-align: right;\n    }\n</style>\n<table border=\"1\" class=\"dataframe\">\n  <thead>\n    <tr style=\"text-align: right;\">\n      <th></th>\n      <th>Predicted 0</th>\n      <th>Predicted 1</th>\n    </tr>\n  </thead>\n  <tbody>\n    <tr>\n      <th>Acutal 0</th>\n      <td>19093</td>\n      <td>603</td>\n    </tr>\n    <tr>\n      <th>Actual 1</th>\n      <td>428</td>\n      <td>53474</td>\n    </tr>\n  </tbody>\n</table>\n</div>"
     },
     "metadata": {}
    }
   ],
   "source": [
    "# Display the confusion matrix\n",
    "dt_cm = confusion_matrix(y_test, y_pred)\n",
    "dt_cm_df = pd.DataFrame(dt_cm, index=[\"Acutal 0\", \"Actual 1\"], columns=[\"Predicted 0\", \"Predicted 1\"])\n",
    "display(dt_cm_df)"
   ]
  },
  {
   "cell_type": "code",
   "execution_count": 63,
   "metadata": {},
   "outputs": [
    {
     "output_type": "stream",
     "name": "stdout",
     "text": [
      "DecisionTree imbalanced classification report\n",
      "                   pre       rec       spe        f1       geo       iba       sup\n",
      "\n",
      "          0       0.98      0.97      0.99      0.97      0.98      0.96     19696\n",
      "          1       0.99      0.99      0.97      0.99      0.98      0.96     53902\n",
      "\n",
      "avg / total       0.99      0.99      0.98      0.99      0.98      0.96     73598\n",
      "\n"
     ]
    }
   ],
   "source": [
    "# Print the imbalanced classification report\n",
    "print(\"DecisionTree imbalanced classification report\")\n",
    "print(classification_report_imbalanced(y_test,y_pred))"
   ]
  },
  {
   "source": [
    "# Gaussian Naive Bayes with PCA"
   ],
   "cell_type": "markdown",
   "metadata": {}
  },
  {
   "cell_type": "code",
   "execution_count": 64,
   "metadata": {},
   "outputs": [],
   "source": [
    "gnb = GaussianNB()\n",
    "model = gnb.fit(X_train, y_train)\n",
    "y_pred = gnb.fit(X_train, y_train).predict(X_test)"
   ]
  },
  {
   "cell_type": "code",
   "execution_count": 65,
   "metadata": {},
   "outputs": [
    {
     "output_type": "stream",
     "name": "stdout",
     "text": [
      "Gaussian Naive Bayes balanced accuracy score = 82.32%\n"
     ]
    }
   ],
   "source": [
    "gnb_pca_bal_acc = balanced_accuracy_score(y_test,y_pred)\n",
    "print(f\"Gaussian Naive Bayes balanced accuracy score = {gnb_pca_bal_acc*100:.2f}%\")"
   ]
  },
  {
   "cell_type": "code",
   "execution_count": 66,
   "metadata": {},
   "outputs": [
    {
     "output_type": "display_data",
     "data": {
      "text/plain": "          Predicted 0  Predicted 1\nAcutal 0        15998         3698\nActual 1         8942        44960",
      "text/html": "<div>\n<style scoped>\n    .dataframe tbody tr th:only-of-type {\n        vertical-align: middle;\n    }\n\n    .dataframe tbody tr th {\n        vertical-align: top;\n    }\n\n    .dataframe thead th {\n        text-align: right;\n    }\n</style>\n<table border=\"1\" class=\"dataframe\">\n  <thead>\n    <tr style=\"text-align: right;\">\n      <th></th>\n      <th>Predicted 0</th>\n      <th>Predicted 1</th>\n    </tr>\n  </thead>\n  <tbody>\n    <tr>\n      <th>Acutal 0</th>\n      <td>15998</td>\n      <td>3698</td>\n    </tr>\n    <tr>\n      <th>Actual 1</th>\n      <td>8942</td>\n      <td>44960</td>\n    </tr>\n  </tbody>\n</table>\n</div>"
     },
     "metadata": {}
    }
   ],
   "source": [
    "# Display the confusion matrix\n",
    "gnb_cm = confusion_matrix(y_test, y_pred)\n",
    "gnb_cm_df = pd.DataFrame(gnb_cm, index=[\"Acutal 0\", \"Actual 1\"], columns=[\"Predicted 0\", \"Predicted 1\"])\n",
    "display(gnb_cm_df)"
   ]
  },
  {
   "cell_type": "code",
   "execution_count": 67,
   "metadata": {},
   "outputs": [
    {
     "output_type": "stream",
     "name": "stdout",
     "text": [
      "Gaussian Naive Bayes imbalanced classification report\n",
      "                   pre       rec       spe        f1       geo       iba       sup\n",
      "\n",
      "          0       0.64      0.81      0.83      0.72      0.82      0.68     19696\n",
      "          1       0.92      0.83      0.81      0.88      0.82      0.68     53902\n",
      "\n",
      "avg / total       0.85      0.83      0.82      0.83      0.82      0.68     73598\n",
      "\n"
     ]
    }
   ],
   "source": [
    "# Print the imbalanced classification report\n",
    "print(\"Gaussian Naive Bayes imbalanced classification report\")\n",
    "print(classification_report_imbalanced(y_test,y_pred))"
   ]
  },
  {
   "source": [
    "# GradientBoost with PCA"
   ],
   "cell_type": "markdown",
   "metadata": {}
  },
  {
   "cell_type": "code",
   "execution_count": 68,
   "metadata": {},
   "outputs": [],
   "source": [
    "X, y = make_classification(random_state=1)\n",
    "clf = GradientBoostingClassifier(random_state=1)\n",
    "clf.fit(X_train, y_train)\n",
    "y_pred = clf.predict(X_test)"
   ]
  },
  {
   "cell_type": "code",
   "execution_count": 69,
   "metadata": {},
   "outputs": [
    {
     "output_type": "stream",
     "name": "stdout",
     "text": [
      "GradientBoost balanced accuracy score = 95.16%\n"
     ]
    }
   ],
   "source": [
    "# Calculated the balanced accuracy score\n",
    "clf_pca_bal_acc = balanced_accuracy_score(y_test,y_pred)\n",
    "print(f\"GradientBoost balanced accuracy score = {clf_pca_bal_acc*100:.2f}%\")"
   ]
  },
  {
   "cell_type": "code",
   "execution_count": 70,
   "metadata": {},
   "outputs": [
    {
     "output_type": "display_data",
     "data": {
      "text/plain": "          Predicted 0  Predicted 1\nAcutal 0        18018         1678\nActual 1          628        53274",
      "text/html": "<div>\n<style scoped>\n    .dataframe tbody tr th:only-of-type {\n        vertical-align: middle;\n    }\n\n    .dataframe tbody tr th {\n        vertical-align: top;\n    }\n\n    .dataframe thead th {\n        text-align: right;\n    }\n</style>\n<table border=\"1\" class=\"dataframe\">\n  <thead>\n    <tr style=\"text-align: right;\">\n      <th></th>\n      <th>Predicted 0</th>\n      <th>Predicted 1</th>\n    </tr>\n  </thead>\n  <tbody>\n    <tr>\n      <th>Acutal 0</th>\n      <td>18018</td>\n      <td>1678</td>\n    </tr>\n    <tr>\n      <th>Actual 1</th>\n      <td>628</td>\n      <td>53274</td>\n    </tr>\n  </tbody>\n</table>\n</div>"
     },
     "metadata": {}
    }
   ],
   "source": [
    "# Display the confusion matrix\n",
    "clf_cm = confusion_matrix(y_test, y_pred)\n",
    "clf_cm_df = pd.DataFrame(clf_cm, index=[\"Acutal 0\", \"Actual 1\"], columns=[\"Predicted 0\", \"Predicted 1\"])\n",
    "display(clf_cm_df)"
   ]
  },
  {
   "cell_type": "code",
   "execution_count": 71,
   "metadata": {},
   "outputs": [
    {
     "output_type": "stream",
     "name": "stdout",
     "text": [
      "GradientBoost imbalanced classification report\n",
      "                   pre       rec       spe        f1       geo       iba       sup\n",
      "\n",
      "          0       0.97      0.91      0.99      0.94      0.95      0.90     19696\n",
      "          1       0.97      0.99      0.91      0.98      0.95      0.91     53902\n",
      "\n",
      "avg / total       0.97      0.97      0.93      0.97      0.95      0.91     73598\n",
      "\n"
     ]
    }
   ],
   "source": [
    "# Print the imbalanced classification report\n",
    "print(\"GradientBoost imbalanced classification report\")\n",
    "print(classification_report_imbalanced(y_test,y_pred))"
   ]
  },
  {
   "source": [
    "# Create line graph to show results of models with PCA."
   ],
   "cell_type": "markdown",
   "metadata": {}
  },
  {
   "cell_type": "code",
   "execution_count": 72,
   "metadata": {},
   "outputs": [
    {
     "output_type": "execute_result",
     "data": {
      "text/plain": [
       "['rf_pca_bal_acc',\n",
       " 'ada_pca_bal_acc',\n",
       " 'dt_pca_bal_acc',\n",
       " 'gnb_pca_bal_acc',\n",
       " 'clf_pca_bal_acc']"
      ]
     },
     "metadata": {},
     "execution_count": 72
    }
   ],
   "source": [
    "ml_pca_models = ['rf_pca_bal_acc', 'ada_pca_bal_acc', 'dt_pca_bal_acc', 'gnb_pca_bal_acc', 'clf_pca_bal_acc']\n",
    "ml_pca_models"
   ]
  },
  {
   "cell_type": "code",
   "execution_count": 73,
   "metadata": {},
   "outputs": [
    {
     "output_type": "execute_result",
     "data": {
      "text/plain": [
       "[0.9881963055240517,\n",
       " 0.9075794635319308,\n",
       " 0.9807221552315616,\n",
       " 0.8231762412430587,\n",
       " 0.9515771314647177]"
      ]
     },
     "metadata": {},
     "execution_count": 73
    }
   ],
   "source": [
    "pca_bal_acc_score_list = [rf_pca_bal_acc, ada_pca_bal_acc, dt_pca_bal_acc, gnb_pca_bal_acc, clf_pca_bal_acc]\n",
    "pca_bal_acc_score_list"
   ]
  },
  {
   "cell_type": "code",
   "execution_count": 74,
   "metadata": {},
   "outputs": [
    {
     "output_type": "execute_result",
     "data": {
      "text/plain": [
       "            Models  Bal Acc Scores\n",
       "0   rf_pca_bal_acc        0.988196\n",
       "1  ada_pca_bal_acc        0.907579\n",
       "2   dt_pca_bal_acc        0.980722\n",
       "3  gnb_pca_bal_acc        0.823176\n",
       "4  clf_pca_bal_acc        0.951577"
      ],
      "text/html": "<div>\n<style scoped>\n    .dataframe tbody tr th:only-of-type {\n        vertical-align: middle;\n    }\n\n    .dataframe tbody tr th {\n        vertical-align: top;\n    }\n\n    .dataframe thead th {\n        text-align: right;\n    }\n</style>\n<table border=\"1\" class=\"dataframe\">\n  <thead>\n    <tr style=\"text-align: right;\">\n      <th></th>\n      <th>Models</th>\n      <th>Bal Acc Scores</th>\n    </tr>\n  </thead>\n  <tbody>\n    <tr>\n      <th>0</th>\n      <td>rf_pca_bal_acc</td>\n      <td>0.988196</td>\n    </tr>\n    <tr>\n      <th>1</th>\n      <td>ada_pca_bal_acc</td>\n      <td>0.907579</td>\n    </tr>\n    <tr>\n      <th>2</th>\n      <td>dt_pca_bal_acc</td>\n      <td>0.980722</td>\n    </tr>\n    <tr>\n      <th>3</th>\n      <td>gnb_pca_bal_acc</td>\n      <td>0.823176</td>\n    </tr>\n    <tr>\n      <th>4</th>\n      <td>clf_pca_bal_acc</td>\n      <td>0.951577</td>\n    </tr>\n  </tbody>\n</table>\n</div>"
     },
     "metadata": {},
     "execution_count": 74
    }
   ],
   "source": [
    "ml_pca_bal_acc = pd.DataFrame(\n",
    "    {'Models': ml_pca_models, 'Bal Acc Scores': pca_bal_acc_score_list})\n",
    "ml_pca_bal_acc.head()"
   ]
  },
  {
   "cell_type": "code",
   "execution_count": 75,
   "metadata": {},
   "outputs": [
    {
     "output_type": "display_data",
     "data": {
      "text/plain": "<Figure size 864x576 with 1 Axes>",
      "image/svg+xml": "<?xml version=\"1.0\" encoding=\"utf-8\" standalone=\"no\"?>\r\n<!DOCTYPE svg PUBLIC \"-//W3C//DTD SVG 1.1//EN\"\r\n  \"http://www.w3.org/Graphics/SVG/1.1/DTD/svg11.dtd\">\r\n<!-- Created with matplotlib (https://matplotlib.org/) -->\r\n<svg height=\"563.286156pt\" version=\"1.1\" viewBox=\"0 0 852.2475 563.286156\" width=\"852.2475pt\" xmlns=\"http://www.w3.org/2000/svg\" xmlns:xlink=\"http://www.w3.org/1999/xlink\">\r\n <defs>\r\n  <style type=\"text/css\">\r\n*{stroke-linecap:butt;stroke-linejoin:round;}\r\n  </style>\r\n </defs>\r\n <g id=\"figure_1\">\r\n  <g id=\"patch_1\">\r\n   <path d=\"M 0 563.286156 \r\nL 852.2475 563.286156 \r\nL 852.2475 0 \r\nL 0 0 \r\nz\r\n\"/>\r\n  </g>\r\n  <g id=\"axes_1\">\r\n   <g id=\"patch_2\">\r\n    <path d=\"M 38.8175 469.724531 \r\nL 845.0475 469.724531 \r\nL 845.0475 24.119531 \r\nL 38.8175 24.119531 \r\nz\r\n\"/>\r\n   </g>\r\n   <g id=\"matplotlib.axis_1\">\r\n    <g id=\"xtick_1\">\r\n     <g id=\"line2d_1\">\r\n      <path clip-path=\"url(#pbb10eaa7c5)\" d=\"M 75.464318 469.724531 \r\nL 75.464318 24.119531 \r\n\" style=\"fill:none;stroke:#ffffff;stroke-linecap:round;stroke-width:0.8;\"/>\r\n     </g>\r\n     <g id=\"text_1\">\r\n      <!-- rf_pca_bal_acc -->\r\n      <defs>\r\n       <path d=\"M 6.5 0 \r\nL 6.5 51.859375 \r\nL 14.40625 51.859375 \r\nL 14.40625 44 \r\nQ 17.4375 49.515625 20 51.265625 \r\nQ 22.5625 53.03125 25.640625 53.03125 \r\nQ 30.078125 53.03125 34.671875 50.203125 \r\nL 31.640625 42.046875 \r\nQ 28.421875 43.953125 25.203125 43.953125 \r\nQ 22.3125 43.953125 20.015625 42.21875 \r\nQ 17.71875 40.484375 16.75 37.40625 \r\nQ 15.28125 32.71875 15.28125 27.15625 \r\nL 15.28125 0 \r\nz\r\n\" id=\"ArialMT-114\"/>\r\n       <path d=\"M 8.6875 0 \r\nL 8.6875 45.015625 \r\nL 0.921875 45.015625 \r\nL 0.921875 51.859375 \r\nL 8.6875 51.859375 \r\nL 8.6875 57.375 \r\nQ 8.6875 62.59375 9.625 65.140625 \r\nQ 10.890625 68.5625 14.078125 70.671875 \r\nQ 17.28125 72.796875 23.046875 72.796875 \r\nQ 26.765625 72.796875 31.25 71.921875 \r\nL 29.9375 64.265625 \r\nQ 27.203125 64.75 24.75 64.75 \r\nQ 20.75 64.75 19.09375 63.03125 \r\nQ 17.4375 61.328125 17.4375 56.640625 \r\nL 17.4375 51.859375 \r\nL 27.546875 51.859375 \r\nL 27.546875 45.015625 \r\nL 17.4375 45.015625 \r\nL 17.4375 0 \r\nz\r\n\" id=\"ArialMT-102\"/>\r\n       <path d=\"M -1.515625 -19.875 \r\nL -1.515625 -13.53125 \r\nL 56.734375 -13.53125 \r\nL 56.734375 -19.875 \r\nz\r\n\" id=\"ArialMT-95\"/>\r\n       <path d=\"M 6.59375 -19.875 \r\nL 6.59375 51.859375 \r\nL 14.59375 51.859375 \r\nL 14.59375 45.125 \r\nQ 17.4375 49.078125 21 51.046875 \r\nQ 24.5625 53.03125 29.640625 53.03125 \r\nQ 36.28125 53.03125 41.359375 49.609375 \r\nQ 46.4375 46.1875 49.015625 39.953125 \r\nQ 51.609375 33.734375 51.609375 26.3125 \r\nQ 51.609375 18.359375 48.75 11.984375 \r\nQ 45.90625 5.609375 40.453125 2.21875 \r\nQ 35.015625 -1.171875 29 -1.171875 \r\nQ 24.609375 -1.171875 21.109375 0.6875 \r\nQ 17.625 2.546875 15.375 5.375 \r\nL 15.375 -19.875 \r\nz\r\nM 14.546875 25.640625 \r\nQ 14.546875 15.625 18.59375 10.84375 \r\nQ 22.65625 6.0625 28.421875 6.0625 \r\nQ 34.28125 6.0625 38.453125 11.015625 \r\nQ 42.625 15.96875 42.625 26.375 \r\nQ 42.625 36.28125 38.546875 41.203125 \r\nQ 34.46875 46.140625 28.8125 46.140625 \r\nQ 23.1875 46.140625 18.859375 40.890625 \r\nQ 14.546875 35.640625 14.546875 25.640625 \r\nz\r\n\" id=\"ArialMT-112\"/>\r\n       <path d=\"M 40.4375 19 \r\nL 49.078125 17.875 \r\nQ 47.65625 8.9375 41.8125 3.875 \r\nQ 35.984375 -1.171875 27.484375 -1.171875 \r\nQ 16.84375 -1.171875 10.375 5.78125 \r\nQ 3.90625 12.75 3.90625 25.734375 \r\nQ 3.90625 34.125 6.6875 40.421875 \r\nQ 9.46875 46.734375 15.15625 49.875 \r\nQ 20.84375 53.03125 27.546875 53.03125 \r\nQ 35.984375 53.03125 41.359375 48.75 \r\nQ 46.734375 44.484375 48.25 36.625 \r\nL 39.703125 35.296875 \r\nQ 38.484375 40.53125 35.375 43.15625 \r\nQ 32.28125 45.796875 27.875 45.796875 \r\nQ 21.234375 45.796875 17.078125 41.03125 \r\nQ 12.9375 36.28125 12.9375 25.984375 \r\nQ 12.9375 15.53125 16.9375 10.796875 \r\nQ 20.953125 6.0625 27.390625 6.0625 \r\nQ 32.5625 6.0625 36.03125 9.234375 \r\nQ 39.5 12.40625 40.4375 19 \r\nz\r\n\" id=\"ArialMT-99\"/>\r\n       <path d=\"M 40.4375 6.390625 \r\nQ 35.546875 2.25 31.03125 0.53125 \r\nQ 26.515625 -1.171875 21.34375 -1.171875 \r\nQ 12.796875 -1.171875 8.203125 3 \r\nQ 3.609375 7.171875 3.609375 13.671875 \r\nQ 3.609375 17.484375 5.34375 20.625 \r\nQ 7.078125 23.78125 9.890625 25.6875 \r\nQ 12.703125 27.59375 16.21875 28.5625 \r\nQ 18.796875 29.25 24.03125 29.890625 \r\nQ 34.671875 31.15625 39.703125 32.90625 \r\nQ 39.75 34.71875 39.75 35.203125 \r\nQ 39.75 40.578125 37.25 42.78125 \r\nQ 33.890625 45.75 27.25 45.75 \r\nQ 21.046875 45.75 18.09375 43.578125 \r\nQ 15.140625 41.40625 13.71875 35.890625 \r\nL 5.125 37.0625 \r\nQ 6.296875 42.578125 8.984375 45.96875 \r\nQ 11.671875 49.359375 16.75 51.1875 \r\nQ 21.828125 53.03125 28.515625 53.03125 \r\nQ 35.15625 53.03125 39.296875 51.46875 \r\nQ 43.453125 49.90625 45.40625 47.53125 \r\nQ 47.359375 45.171875 48.140625 41.546875 \r\nQ 48.578125 39.3125 48.578125 33.453125 \r\nL 48.578125 21.734375 \r\nQ 48.578125 9.46875 49.140625 6.21875 \r\nQ 49.703125 2.984375 51.375 0 \r\nL 42.1875 0 \r\nQ 40.828125 2.734375 40.4375 6.390625 \r\nz\r\nM 39.703125 26.03125 \r\nQ 34.90625 24.078125 25.34375 22.703125 \r\nQ 19.921875 21.921875 17.671875 20.9375 \r\nQ 15.4375 19.96875 14.203125 18.09375 \r\nQ 12.984375 16.21875 12.984375 13.921875 \r\nQ 12.984375 10.40625 15.640625 8.0625 \r\nQ 18.3125 5.71875 23.4375 5.71875 \r\nQ 28.515625 5.71875 32.46875 7.9375 \r\nQ 36.421875 10.15625 38.28125 14.015625 \r\nQ 39.703125 17 39.703125 22.796875 \r\nz\r\n\" id=\"ArialMT-97\"/>\r\n       <path d=\"M 14.703125 0 \r\nL 6.546875 0 \r\nL 6.546875 71.578125 \r\nL 15.328125 71.578125 \r\nL 15.328125 46.046875 \r\nQ 20.90625 53.03125 29.546875 53.03125 \r\nQ 34.328125 53.03125 38.59375 51.09375 \r\nQ 42.875 49.171875 45.625 45.671875 \r\nQ 48.390625 42.1875 49.953125 37.25 \r\nQ 51.515625 32.328125 51.515625 26.703125 \r\nQ 51.515625 13.375 44.921875 6.09375 \r\nQ 38.328125 -1.171875 29.109375 -1.171875 \r\nQ 19.921875 -1.171875 14.703125 6.5 \r\nz\r\nM 14.59375 26.3125 \r\nQ 14.59375 17 17.140625 12.84375 \r\nQ 21.296875 6.0625 28.375 6.0625 \r\nQ 34.125 6.0625 38.328125 11.0625 \r\nQ 42.53125 16.0625 42.53125 25.984375 \r\nQ 42.53125 36.140625 38.5 40.96875 \r\nQ 34.46875 45.796875 28.765625 45.796875 \r\nQ 23 45.796875 18.796875 40.796875 \r\nQ 14.59375 35.796875 14.59375 26.3125 \r\nz\r\n\" id=\"ArialMT-98\"/>\r\n       <path d=\"M 6.390625 0 \r\nL 6.390625 71.578125 \r\nL 15.1875 71.578125 \r\nL 15.1875 0 \r\nz\r\n\" id=\"ArialMT-108\"/>\r\n      </defs>\r\n      <g style=\"fill:#ffffff;\" transform=\"translate(77.581193 535.578281)rotate(-90)scale(0.08 -0.08)\">\r\n       <use xlink:href=\"#ArialMT-114\"/>\r\n       <use x=\"33.300781\" xlink:href=\"#ArialMT-102\"/>\r\n       <use x=\"61.083984\" xlink:href=\"#ArialMT-95\"/>\r\n       <use x=\"116.699219\" xlink:href=\"#ArialMT-112\"/>\r\n       <use x=\"172.314453\" xlink:href=\"#ArialMT-99\"/>\r\n       <use x=\"222.314453\" xlink:href=\"#ArialMT-97\"/>\r\n       <use x=\"277.929688\" xlink:href=\"#ArialMT-95\"/>\r\n       <use x=\"333.544922\" xlink:href=\"#ArialMT-98\"/>\r\n       <use x=\"389.160156\" xlink:href=\"#ArialMT-97\"/>\r\n       <use x=\"444.775391\" xlink:href=\"#ArialMT-108\"/>\r\n       <use x=\"466.992188\" xlink:href=\"#ArialMT-95\"/>\r\n       <use x=\"522.607422\" xlink:href=\"#ArialMT-97\"/>\r\n       <use x=\"578.222656\" xlink:href=\"#ArialMT-99\"/>\r\n       <use x=\"628.222656\" xlink:href=\"#ArialMT-99\"/>\r\n      </g>\r\n     </g>\r\n    </g>\r\n    <g id=\"xtick_2\">\r\n     <g id=\"line2d_2\">\r\n      <path clip-path=\"url(#pbb10eaa7c5)\" d=\"M 167.081364 469.724531 \r\nL 167.081364 24.119531 \r\n\" style=\"fill:none;stroke:#ffffff;stroke-linecap:round;stroke-width:0.8;\"/>\r\n     </g>\r\n    </g>\r\n    <g id=\"xtick_3\">\r\n     <g id=\"line2d_3\">\r\n      <path clip-path=\"url(#pbb10eaa7c5)\" d=\"M 258.698409 469.724531 \r\nL 258.698409 24.119531 \r\n\" style=\"fill:none;stroke:#ffffff;stroke-linecap:round;stroke-width:0.8;\"/>\r\n     </g>\r\n     <g id=\"text_2\">\r\n      <!-- ada_pca_bal_acc -->\r\n      <defs>\r\n       <path d=\"M 40.234375 0 \r\nL 40.234375 6.546875 \r\nQ 35.296875 -1.171875 25.734375 -1.171875 \r\nQ 19.53125 -1.171875 14.328125 2.25 \r\nQ 9.125 5.671875 6.265625 11.796875 \r\nQ 3.421875 17.921875 3.421875 25.875 \r\nQ 3.421875 33.640625 6 39.96875 \r\nQ 8.59375 46.296875 13.765625 49.65625 \r\nQ 18.953125 53.03125 25.34375 53.03125 \r\nQ 30.03125 53.03125 33.6875 51.046875 \r\nQ 37.359375 49.078125 39.65625 45.90625 \r\nL 39.65625 71.578125 \r\nL 48.390625 71.578125 \r\nL 48.390625 0 \r\nz\r\nM 12.453125 25.875 \r\nQ 12.453125 15.921875 16.640625 10.984375 \r\nQ 20.84375 6.0625 26.5625 6.0625 \r\nQ 32.328125 6.0625 36.34375 10.765625 \r\nQ 40.375 15.484375 40.375 25.140625 \r\nQ 40.375 35.796875 36.265625 40.765625 \r\nQ 32.171875 45.75 26.171875 45.75 \r\nQ 20.3125 45.75 16.375 40.96875 \r\nQ 12.453125 36.1875 12.453125 25.875 \r\nz\r\n\" id=\"ArialMT-100\"/>\r\n      </defs>\r\n      <g style=\"fill:#ffffff;\" transform=\"translate(260.766534 544.038281)rotate(-90)scale(0.08 -0.08)\">\r\n       <use xlink:href=\"#ArialMT-97\"/>\r\n       <use x=\"55.615234\" xlink:href=\"#ArialMT-100\"/>\r\n       <use x=\"111.230469\" xlink:href=\"#ArialMT-97\"/>\r\n       <use x=\"166.845703\" xlink:href=\"#ArialMT-95\"/>\r\n       <use x=\"222.460938\" xlink:href=\"#ArialMT-112\"/>\r\n       <use x=\"278.076172\" xlink:href=\"#ArialMT-99\"/>\r\n       <use x=\"328.076172\" xlink:href=\"#ArialMT-97\"/>\r\n       <use x=\"383.691406\" xlink:href=\"#ArialMT-95\"/>\r\n       <use x=\"439.306641\" xlink:href=\"#ArialMT-98\"/>\r\n       <use x=\"494.921875\" xlink:href=\"#ArialMT-97\"/>\r\n       <use x=\"550.537109\" xlink:href=\"#ArialMT-108\"/>\r\n       <use x=\"572.753906\" xlink:href=\"#ArialMT-95\"/>\r\n       <use x=\"628.369141\" xlink:href=\"#ArialMT-97\"/>\r\n       <use x=\"683.984375\" xlink:href=\"#ArialMT-99\"/>\r\n       <use x=\"733.984375\" xlink:href=\"#ArialMT-99\"/>\r\n      </g>\r\n     </g>\r\n    </g>\r\n    <g id=\"xtick_4\">\r\n     <g id=\"line2d_4\">\r\n      <path clip-path=\"url(#pbb10eaa7c5)\" d=\"M 350.315455 469.724531 \r\nL 350.315455 24.119531 \r\n\" style=\"fill:none;stroke:#ffffff;stroke-linecap:round;stroke-width:0.8;\"/>\r\n     </g>\r\n    </g>\r\n    <g id=\"xtick_5\">\r\n     <g id=\"line2d_5\">\r\n      <path clip-path=\"url(#pbb10eaa7c5)\" d=\"M 441.9325 469.724531 \r\nL 441.9325 24.119531 \r\n\" style=\"fill:none;stroke:#ffffff;stroke-linecap:round;stroke-width:0.8;\"/>\r\n     </g>\r\n     <g id=\"text_3\">\r\n      <!-- dt_pca_bal_acc -->\r\n      <defs>\r\n       <path d=\"M 25.78125 7.859375 \r\nL 27.046875 0.09375 \r\nQ 23.34375 -0.6875 20.40625 -0.6875 \r\nQ 15.625 -0.6875 12.984375 0.828125 \r\nQ 10.359375 2.34375 9.28125 4.8125 \r\nQ 8.203125 7.28125 8.203125 15.1875 \r\nL 8.203125 45.015625 \r\nL 1.765625 45.015625 \r\nL 1.765625 51.859375 \r\nL 8.203125 51.859375 \r\nL 8.203125 64.703125 \r\nL 16.9375 69.96875 \r\nL 16.9375 51.859375 \r\nL 25.78125 51.859375 \r\nL 25.78125 45.015625 \r\nL 16.9375 45.015625 \r\nL 16.9375 14.703125 \r\nQ 16.9375 10.9375 17.40625 9.859375 \r\nQ 17.875 8.796875 18.921875 8.15625 \r\nQ 19.96875 7.515625 21.921875 7.515625 \r\nQ 23.390625 7.515625 25.78125 7.859375 \r\nz\r\n\" id=\"ArialMT-116\"/>\r\n      </defs>\r\n      <g style=\"fill:#ffffff;\" transform=\"translate(444.000625 537.363281)rotate(-90)scale(0.08 -0.08)\">\r\n       <use xlink:href=\"#ArialMT-100\"/>\r\n       <use x=\"55.615234\" xlink:href=\"#ArialMT-116\"/>\r\n       <use x=\"83.398438\" xlink:href=\"#ArialMT-95\"/>\r\n       <use x=\"139.013672\" xlink:href=\"#ArialMT-112\"/>\r\n       <use x=\"194.628906\" xlink:href=\"#ArialMT-99\"/>\r\n       <use x=\"244.628906\" xlink:href=\"#ArialMT-97\"/>\r\n       <use x=\"300.244141\" xlink:href=\"#ArialMT-95\"/>\r\n       <use x=\"355.859375\" xlink:href=\"#ArialMT-98\"/>\r\n       <use x=\"411.474609\" xlink:href=\"#ArialMT-97\"/>\r\n       <use x=\"467.089844\" xlink:href=\"#ArialMT-108\"/>\r\n       <use x=\"489.306641\" xlink:href=\"#ArialMT-95\"/>\r\n       <use x=\"544.921875\" xlink:href=\"#ArialMT-97\"/>\r\n       <use x=\"600.537109\" xlink:href=\"#ArialMT-99\"/>\r\n       <use x=\"650.537109\" xlink:href=\"#ArialMT-99\"/>\r\n      </g>\r\n     </g>\r\n    </g>\r\n    <g id=\"xtick_6\">\r\n     <g id=\"line2d_6\">\r\n      <path clip-path=\"url(#pbb10eaa7c5)\" d=\"M 533.549545 469.724531 \r\nL 533.549545 24.119531 \r\n\" style=\"fill:none;stroke:#ffffff;stroke-linecap:round;stroke-width:0.8;\"/>\r\n     </g>\r\n    </g>\r\n    <g id=\"xtick_7\">\r\n     <g id=\"line2d_7\">\r\n      <path clip-path=\"url(#pbb10eaa7c5)\" d=\"M 625.166591 469.724531 \r\nL 625.166591 24.119531 \r\n\" style=\"fill:none;stroke:#ffffff;stroke-linecap:round;stroke-width:0.8;\"/>\r\n     </g>\r\n     <g id=\"text_4\">\r\n      <!-- gnb_pca_bal_acc -->\r\n      <defs>\r\n       <path d=\"M 4.984375 -4.296875 \r\nL 13.53125 -5.5625 \r\nQ 14.0625 -9.515625 16.5 -11.328125 \r\nQ 19.78125 -13.765625 25.4375 -13.765625 \r\nQ 31.546875 -13.765625 34.859375 -11.328125 \r\nQ 38.1875 -8.890625 39.359375 -4.5 \r\nQ 40.046875 -1.8125 39.984375 6.78125 \r\nQ 34.234375 0 25.640625 0 \r\nQ 14.9375 0 9.078125 7.71875 \r\nQ 3.21875 15.4375 3.21875 26.21875 \r\nQ 3.21875 33.640625 5.90625 39.90625 \r\nQ 8.59375 46.1875 13.6875 49.609375 \r\nQ 18.796875 53.03125 25.6875 53.03125 \r\nQ 34.859375 53.03125 40.828125 45.609375 \r\nL 40.828125 51.859375 \r\nL 48.921875 51.859375 \r\nL 48.921875 7.03125 \r\nQ 48.921875 -5.078125 46.453125 -10.125 \r\nQ 44 -15.1875 38.640625 -18.109375 \r\nQ 33.296875 -21.046875 25.484375 -21.046875 \r\nQ 16.21875 -21.046875 10.5 -16.875 \r\nQ 4.78125 -12.703125 4.984375 -4.296875 \r\nz\r\nM 12.25 26.859375 \r\nQ 12.25 16.65625 16.296875 11.96875 \r\nQ 20.359375 7.28125 26.46875 7.28125 \r\nQ 32.515625 7.28125 36.609375 11.9375 \r\nQ 40.71875 16.609375 40.71875 26.5625 \r\nQ 40.71875 36.078125 36.5 40.90625 \r\nQ 32.28125 45.75 26.3125 45.75 \r\nQ 20.453125 45.75 16.34375 40.984375 \r\nQ 12.25 36.234375 12.25 26.859375 \r\nz\r\n\" id=\"ArialMT-103\"/>\r\n       <path d=\"M 6.59375 0 \r\nL 6.59375 51.859375 \r\nL 14.5 51.859375 \r\nL 14.5 44.484375 \r\nQ 20.21875 53.03125 31 53.03125 \r\nQ 35.6875 53.03125 39.625 51.34375 \r\nQ 43.5625 49.65625 45.515625 46.921875 \r\nQ 47.46875 44.1875 48.25 40.4375 \r\nQ 48.734375 37.984375 48.734375 31.890625 \r\nL 48.734375 0 \r\nL 39.9375 0 \r\nL 39.9375 31.546875 \r\nQ 39.9375 36.921875 38.90625 39.578125 \r\nQ 37.890625 42.234375 35.28125 43.8125 \r\nQ 32.671875 45.40625 29.15625 45.40625 \r\nQ 23.53125 45.40625 19.453125 41.84375 \r\nQ 15.375 38.28125 15.375 28.328125 \r\nL 15.375 0 \r\nz\r\n\" id=\"ArialMT-110\"/>\r\n      </defs>\r\n      <g style=\"fill:#ffffff;\" transform=\"translate(627.187841 544.038281)rotate(-90)scale(0.08 -0.08)\">\r\n       <use xlink:href=\"#ArialMT-103\"/>\r\n       <use x=\"55.615234\" xlink:href=\"#ArialMT-110\"/>\r\n       <use x=\"111.230469\" xlink:href=\"#ArialMT-98\"/>\r\n       <use x=\"166.845703\" xlink:href=\"#ArialMT-95\"/>\r\n       <use x=\"222.460938\" xlink:href=\"#ArialMT-112\"/>\r\n       <use x=\"278.076172\" xlink:href=\"#ArialMT-99\"/>\r\n       <use x=\"328.076172\" xlink:href=\"#ArialMT-97\"/>\r\n       <use x=\"383.691406\" xlink:href=\"#ArialMT-95\"/>\r\n       <use x=\"439.306641\" xlink:href=\"#ArialMT-98\"/>\r\n       <use x=\"494.921875\" xlink:href=\"#ArialMT-97\"/>\r\n       <use x=\"550.537109\" xlink:href=\"#ArialMT-108\"/>\r\n       <use x=\"572.753906\" xlink:href=\"#ArialMT-95\"/>\r\n       <use x=\"628.369141\" xlink:href=\"#ArialMT-97\"/>\r\n       <use x=\"683.984375\" xlink:href=\"#ArialMT-99\"/>\r\n       <use x=\"733.984375\" xlink:href=\"#ArialMT-99\"/>\r\n      </g>\r\n     </g>\r\n    </g>\r\n    <g id=\"xtick_8\">\r\n     <g id=\"line2d_8\">\r\n      <path clip-path=\"url(#pbb10eaa7c5)\" d=\"M 716.783636 469.724531 \r\nL 716.783636 24.119531 \r\n\" style=\"fill:none;stroke:#ffffff;stroke-linecap:round;stroke-width:0.8;\"/>\r\n     </g>\r\n    </g>\r\n    <g id=\"xtick_9\">\r\n     <g id=\"line2d_9\">\r\n      <path clip-path=\"url(#pbb10eaa7c5)\" d=\"M 808.400682 469.724531 \r\nL 808.400682 24.119531 \r\n\" style=\"fill:none;stroke:#ffffff;stroke-linecap:round;stroke-width:0.8;\"/>\r\n     </g>\r\n     <g id=\"text_5\">\r\n      <!-- clf_pca_bal_acc -->\r\n      <g style=\"fill:#ffffff;\" transform=\"translate(810.517557 538.692031)rotate(-90)scale(0.08 -0.08)\">\r\n       <use xlink:href=\"#ArialMT-99\"/>\r\n       <use x=\"50\" xlink:href=\"#ArialMT-108\"/>\r\n       <use x=\"72.216797\" xlink:href=\"#ArialMT-102\"/>\r\n       <use x=\"100\" xlink:href=\"#ArialMT-95\"/>\r\n       <use x=\"155.615234\" xlink:href=\"#ArialMT-112\"/>\r\n       <use x=\"211.230469\" xlink:href=\"#ArialMT-99\"/>\r\n       <use x=\"261.230469\" xlink:href=\"#ArialMT-97\"/>\r\n       <use x=\"316.845703\" xlink:href=\"#ArialMT-95\"/>\r\n       <use x=\"372.460938\" xlink:href=\"#ArialMT-98\"/>\r\n       <use x=\"428.076172\" xlink:href=\"#ArialMT-97\"/>\r\n       <use x=\"483.691406\" xlink:href=\"#ArialMT-108\"/>\r\n       <use x=\"505.908203\" xlink:href=\"#ArialMT-95\"/>\r\n       <use x=\"561.523438\" xlink:href=\"#ArialMT-97\"/>\r\n       <use x=\"617.138672\" xlink:href=\"#ArialMT-99\"/>\r\n       <use x=\"667.138672\" xlink:href=\"#ArialMT-99\"/>\r\n      </g>\r\n     </g>\r\n    </g>\r\n    <g id=\"text_6\">\r\n     <!-- Models -->\r\n     <defs>\r\n      <path d=\"M 7.421875 0 \r\nL 7.421875 71.578125 \r\nL 21.6875 71.578125 \r\nL 38.625 20.90625 \r\nQ 40.96875 13.8125 42.046875 10.296875 \r\nQ 43.265625 14.203125 45.84375 21.78125 \r\nL 62.984375 71.578125 \r\nL 75.734375 71.578125 \r\nL 75.734375 0 \r\nL 66.609375 0 \r\nL 66.609375 59.90625 \r\nL 45.796875 0 \r\nL 37.25 0 \r\nL 16.546875 60.9375 \r\nL 16.546875 0 \r\nz\r\n\" id=\"ArialMT-77\"/>\r\n      <path d=\"M 3.328125 25.921875 \r\nQ 3.328125 40.328125 11.328125 47.265625 \r\nQ 18.015625 53.03125 27.640625 53.03125 \r\nQ 38.328125 53.03125 45.109375 46.015625 \r\nQ 51.90625 39.015625 51.90625 26.65625 \r\nQ 51.90625 16.65625 48.90625 10.90625 \r\nQ 45.90625 5.171875 40.15625 2 \r\nQ 34.421875 -1.171875 27.640625 -1.171875 \r\nQ 16.75 -1.171875 10.03125 5.8125 \r\nQ 3.328125 12.796875 3.328125 25.921875 \r\nz\r\nM 12.359375 25.921875 \r\nQ 12.359375 15.96875 16.703125 11.015625 \r\nQ 21.046875 6.0625 27.640625 6.0625 \r\nQ 34.1875 6.0625 38.53125 11.03125 \r\nQ 42.875 16.015625 42.875 26.21875 \r\nQ 42.875 35.84375 38.5 40.796875 \r\nQ 34.125 45.75 27.640625 45.75 \r\nQ 21.046875 45.75 16.703125 40.8125 \r\nQ 12.359375 35.890625 12.359375 25.921875 \r\nz\r\n\" id=\"ArialMT-111\"/>\r\n      <path d=\"M 42.09375 16.703125 \r\nL 51.171875 15.578125 \r\nQ 49.03125 7.625 43.21875 3.21875 \r\nQ 37.40625 -1.171875 28.375 -1.171875 \r\nQ 17 -1.171875 10.328125 5.828125 \r\nQ 3.65625 12.84375 3.65625 25.484375 \r\nQ 3.65625 38.578125 10.390625 45.796875 \r\nQ 17.140625 53.03125 27.875 53.03125 \r\nQ 38.28125 53.03125 44.875 45.953125 \r\nQ 51.46875 38.875 51.46875 26.03125 \r\nQ 51.46875 25.25 51.421875 23.6875 \r\nL 12.75 23.6875 \r\nQ 13.234375 15.140625 17.578125 10.59375 \r\nQ 21.921875 6.0625 28.421875 6.0625 \r\nQ 33.25 6.0625 36.671875 8.59375 \r\nQ 40.09375 11.140625 42.09375 16.703125 \r\nz\r\nM 13.234375 30.90625 \r\nL 42.1875 30.90625 \r\nQ 41.609375 37.453125 38.875 40.71875 \r\nQ 34.671875 45.796875 27.984375 45.796875 \r\nQ 21.921875 45.796875 17.796875 41.75 \r\nQ 13.671875 37.703125 13.234375 30.90625 \r\nz\r\n\" id=\"ArialMT-101\"/>\r\n      <path d=\"M 3.078125 15.484375 \r\nL 11.765625 16.84375 \r\nQ 12.5 11.625 15.84375 8.84375 \r\nQ 19.1875 6.0625 25.203125 6.0625 \r\nQ 31.25 6.0625 34.171875 8.515625 \r\nQ 37.109375 10.984375 37.109375 14.3125 \r\nQ 37.109375 17.28125 34.515625 19 \r\nQ 32.71875 20.171875 25.53125 21.96875 \r\nQ 15.875 24.421875 12.140625 26.203125 \r\nQ 8.40625 27.984375 6.46875 31.125 \r\nQ 4.546875 34.28125 4.546875 38.09375 \r\nQ 4.546875 41.546875 6.125 44.5 \r\nQ 7.71875 47.46875 10.453125 49.421875 \r\nQ 12.5 50.921875 16.03125 51.96875 \r\nQ 19.578125 53.03125 23.640625 53.03125 \r\nQ 29.734375 53.03125 34.34375 51.265625 \r\nQ 38.96875 49.515625 41.15625 46.5 \r\nQ 43.359375 43.5 44.1875 38.484375 \r\nL 35.59375 37.3125 \r\nQ 35.015625 41.3125 32.203125 43.546875 \r\nQ 29.390625 45.796875 24.265625 45.796875 \r\nQ 18.21875 45.796875 15.625 43.796875 \r\nQ 13.03125 41.796875 13.03125 39.109375 \r\nQ 13.03125 37.40625 14.109375 36.03125 \r\nQ 15.1875 34.625 17.484375 33.6875 \r\nQ 18.796875 33.203125 25.25 31.453125 \r\nQ 34.578125 28.953125 38.25 27.359375 \r\nQ 41.9375 25.78125 44.03125 22.75 \r\nQ 46.140625 19.734375 46.140625 15.234375 \r\nQ 46.140625 10.84375 43.578125 6.953125 \r\nQ 41.015625 3.078125 36.171875 0.953125 \r\nQ 31.34375 -1.171875 25.25 -1.171875 \r\nQ 15.140625 -1.171875 9.84375 3.03125 \r\nQ 4.546875 7.234375 3.078125 15.484375 \r\nz\r\n\" id=\"ArialMT-115\"/>\r\n     </defs>\r\n     <g style=\"fill:#ffffff;\" transform=\"translate(427.749375 554.337156)scale(0.088 -0.088)\">\r\n      <use xlink:href=\"#ArialMT-77\"/>\r\n      <use x=\"83.300781\" xlink:href=\"#ArialMT-111\"/>\r\n      <use x=\"138.916016\" xlink:href=\"#ArialMT-100\"/>\r\n      <use x=\"194.53125\" xlink:href=\"#ArialMT-101\"/>\r\n      <use x=\"250.146484\" xlink:href=\"#ArialMT-108\"/>\r\n      <use x=\"272.363281\" xlink:href=\"#ArialMT-115\"/>\r\n     </g>\r\n    </g>\r\n   </g>\r\n   <g id=\"matplotlib.axis_2\">\r\n    <g id=\"ytick_1\">\r\n     <g id=\"line2d_10\">\r\n      <path clip-path=\"url(#pbb10eaa7c5)\" d=\"M 38.8175 444.992749 \r\nL 845.0475 444.992749 \r\n\" style=\"fill:none;stroke:#ffffff;stroke-linecap:round;stroke-width:0.8;\"/>\r\n     </g>\r\n     <g id=\"text_7\">\r\n      <!-- 0.825 -->\r\n      <defs>\r\n       <path d=\"M 4.15625 35.296875 \r\nQ 4.15625 48 6.765625 55.734375 \r\nQ 9.375 63.484375 14.515625 67.671875 \r\nQ 19.671875 71.875 27.484375 71.875 \r\nQ 33.25 71.875 37.59375 69.546875 \r\nQ 41.9375 67.234375 44.765625 62.859375 \r\nQ 47.609375 58.5 49.21875 52.21875 \r\nQ 50.828125 45.953125 50.828125 35.296875 \r\nQ 50.828125 22.703125 48.234375 14.96875 \r\nQ 45.65625 7.234375 40.5 3 \r\nQ 35.359375 -1.21875 27.484375 -1.21875 \r\nQ 17.140625 -1.21875 11.234375 6.203125 \r\nQ 4.15625 15.140625 4.15625 35.296875 \r\nz\r\nM 13.1875 35.296875 \r\nQ 13.1875 17.671875 17.3125 11.828125 \r\nQ 21.4375 6 27.484375 6 \r\nQ 33.546875 6 37.671875 11.859375 \r\nQ 41.796875 17.71875 41.796875 35.296875 \r\nQ 41.796875 52.984375 37.671875 58.78125 \r\nQ 33.546875 64.59375 27.390625 64.59375 \r\nQ 21.34375 64.59375 17.71875 59.46875 \r\nQ 13.1875 52.9375 13.1875 35.296875 \r\nz\r\n\" id=\"ArialMT-48\"/>\r\n       <path d=\"M 9.078125 0 \r\nL 9.078125 10.015625 \r\nL 19.09375 10.015625 \r\nL 19.09375 0 \r\nz\r\n\" id=\"ArialMT-46\"/>\r\n       <path d=\"M 17.671875 38.8125 \r\nQ 12.203125 40.828125 9.5625 44.53125 \r\nQ 6.9375 48.25 6.9375 53.421875 \r\nQ 6.9375 61.234375 12.546875 66.546875 \r\nQ 18.171875 71.875 27.484375 71.875 \r\nQ 36.859375 71.875 42.578125 66.421875 \r\nQ 48.296875 60.984375 48.296875 53.171875 \r\nQ 48.296875 48.1875 45.671875 44.5 \r\nQ 43.0625 40.828125 37.75 38.8125 \r\nQ 44.34375 36.671875 47.78125 31.875 \r\nQ 51.21875 27.09375 51.21875 20.453125 \r\nQ 51.21875 11.28125 44.71875 5.03125 \r\nQ 38.234375 -1.21875 27.640625 -1.21875 \r\nQ 17.046875 -1.21875 10.546875 5.046875 \r\nQ 4.046875 11.328125 4.046875 20.703125 \r\nQ 4.046875 27.6875 7.59375 32.390625 \r\nQ 11.140625 37.109375 17.671875 38.8125 \r\nz\r\nM 15.921875 53.71875 \r\nQ 15.921875 48.640625 19.1875 45.40625 \r\nQ 22.46875 42.1875 27.6875 42.1875 \r\nQ 32.765625 42.1875 36.015625 45.375 \r\nQ 39.265625 48.578125 39.265625 53.21875 \r\nQ 39.265625 58.0625 35.90625 61.359375 \r\nQ 32.5625 64.65625 27.59375 64.65625 \r\nQ 22.5625 64.65625 19.234375 61.421875 \r\nQ 15.921875 58.203125 15.921875 53.71875 \r\nz\r\nM 13.09375 20.65625 \r\nQ 13.09375 16.890625 14.875 13.375 \r\nQ 16.65625 9.859375 20.171875 7.921875 \r\nQ 23.6875 6 27.734375 6 \r\nQ 34.03125 6 38.125 10.046875 \r\nQ 42.234375 14.109375 42.234375 20.359375 \r\nQ 42.234375 26.703125 38.015625 30.859375 \r\nQ 33.796875 35.015625 27.4375 35.015625 \r\nQ 21.234375 35.015625 17.15625 30.90625 \r\nQ 13.09375 26.8125 13.09375 20.65625 \r\nz\r\n\" id=\"ArialMT-56\"/>\r\n       <path d=\"M 50.34375 8.453125 \r\nL 50.34375 0 \r\nL 3.03125 0 \r\nQ 2.9375 3.171875 4.046875 6.109375 \r\nQ 5.859375 10.9375 9.828125 15.625 \r\nQ 13.8125 20.3125 21.34375 26.46875 \r\nQ 33.015625 36.03125 37.109375 41.625 \r\nQ 41.21875 47.21875 41.21875 52.203125 \r\nQ 41.21875 57.421875 37.46875 61 \r\nQ 33.734375 64.59375 27.734375 64.59375 \r\nQ 21.390625 64.59375 17.578125 60.78125 \r\nQ 13.765625 56.984375 13.71875 50.25 \r\nL 4.6875 51.171875 \r\nQ 5.609375 61.28125 11.65625 66.578125 \r\nQ 17.71875 71.875 27.9375 71.875 \r\nQ 38.234375 71.875 44.234375 66.15625 \r\nQ 50.25 60.453125 50.25 52 \r\nQ 50.25 47.703125 48.484375 43.546875 \r\nQ 46.734375 39.40625 42.65625 34.8125 \r\nQ 38.578125 30.21875 29.109375 22.21875 \r\nQ 21.1875 15.578125 18.9375 13.203125 \r\nQ 16.703125 10.84375 15.234375 8.453125 \r\nz\r\n\" id=\"ArialMT-50\"/>\r\n       <path d=\"M 4.15625 18.75 \r\nL 13.375 19.53125 \r\nQ 14.40625 12.796875 18.140625 9.390625 \r\nQ 21.875 6 27.15625 6 \r\nQ 33.5 6 37.890625 10.78125 \r\nQ 42.28125 15.578125 42.28125 23.484375 \r\nQ 42.28125 31 38.0625 35.34375 \r\nQ 33.84375 39.703125 27 39.703125 \r\nQ 22.75 39.703125 19.328125 37.765625 \r\nQ 15.921875 35.84375 13.96875 32.765625 \r\nL 5.71875 33.84375 \r\nL 12.640625 70.609375 \r\nL 48.25 70.609375 \r\nL 48.25 62.203125 \r\nL 19.671875 62.203125 \r\nL 15.828125 42.96875 \r\nQ 22.265625 47.46875 29.34375 47.46875 \r\nQ 38.71875 47.46875 45.15625 40.96875 \r\nQ 51.609375 34.46875 51.609375 24.265625 \r\nQ 51.609375 14.546875 45.953125 7.46875 \r\nQ 39.0625 -1.21875 27.15625 -1.21875 \r\nQ 17.390625 -1.21875 11.203125 4.25 \r\nQ 5.03125 9.71875 4.15625 18.75 \r\nz\r\n\" id=\"ArialMT-53\"/>\r\n      </defs>\r\n      <g style=\"fill:#ffffff;\" transform=\"translate(7.2 447.855874)scale(0.08 -0.08)\">\r\n       <use xlink:href=\"#ArialMT-48\"/>\r\n       <use x=\"55.615234\" xlink:href=\"#ArialMT-46\"/>\r\n       <use x=\"83.398438\" xlink:href=\"#ArialMT-56\"/>\r\n       <use x=\"139.013672\" xlink:href=\"#ArialMT-50\"/>\r\n       <use x=\"194.628906\" xlink:href=\"#ArialMT-53\"/>\r\n      </g>\r\n     </g>\r\n    </g>\r\n    <g id=\"ytick_2\">\r\n     <g id=\"line2d_11\">\r\n      <path clip-path=\"url(#pbb10eaa7c5)\" d=\"M 38.8175 383.622113 \r\nL 845.0475 383.622113 \r\n\" style=\"fill:none;stroke:#ffffff;stroke-linecap:round;stroke-width:0.8;\"/>\r\n     </g>\r\n     <g id=\"text_8\">\r\n      <!-- 0.850 -->\r\n      <g style=\"fill:#ffffff;\" transform=\"translate(7.2 386.485238)scale(0.08 -0.08)\">\r\n       <use xlink:href=\"#ArialMT-48\"/>\r\n       <use x=\"55.615234\" xlink:href=\"#ArialMT-46\"/>\r\n       <use x=\"83.398438\" xlink:href=\"#ArialMT-56\"/>\r\n       <use x=\"139.013672\" xlink:href=\"#ArialMT-53\"/>\r\n       <use x=\"194.628906\" xlink:href=\"#ArialMT-48\"/>\r\n      </g>\r\n     </g>\r\n    </g>\r\n    <g id=\"ytick_3\">\r\n     <g id=\"line2d_12\">\r\n      <path clip-path=\"url(#pbb10eaa7c5)\" d=\"M 38.8175 322.251476 \r\nL 845.0475 322.251476 \r\n\" style=\"fill:none;stroke:#ffffff;stroke-linecap:round;stroke-width:0.8;\"/>\r\n     </g>\r\n     <g id=\"text_9\">\r\n      <!-- 0.875 -->\r\n      <defs>\r\n       <path d=\"M 4.734375 62.203125 \r\nL 4.734375 70.65625 \r\nL 51.078125 70.65625 \r\nL 51.078125 63.8125 \r\nQ 44.234375 56.546875 37.515625 44.484375 \r\nQ 30.8125 32.421875 27.15625 19.671875 \r\nQ 24.515625 10.6875 23.78125 0 \r\nL 14.75 0 \r\nQ 14.890625 8.453125 18.0625 20.40625 \r\nQ 21.234375 32.375 27.171875 43.484375 \r\nQ 33.109375 54.59375 39.796875 62.203125 \r\nz\r\n\" id=\"ArialMT-55\"/>\r\n      </defs>\r\n      <g style=\"fill:#ffffff;\" transform=\"translate(7.2 325.114601)scale(0.08 -0.08)\">\r\n       <use xlink:href=\"#ArialMT-48\"/>\r\n       <use x=\"55.615234\" xlink:href=\"#ArialMT-46\"/>\r\n       <use x=\"83.398438\" xlink:href=\"#ArialMT-56\"/>\r\n       <use x=\"139.013672\" xlink:href=\"#ArialMT-55\"/>\r\n       <use x=\"194.628906\" xlink:href=\"#ArialMT-53\"/>\r\n      </g>\r\n     </g>\r\n    </g>\r\n    <g id=\"ytick_4\">\r\n     <g id=\"line2d_13\">\r\n      <path clip-path=\"url(#pbb10eaa7c5)\" d=\"M 38.8175 260.88084 \r\nL 845.0475 260.88084 \r\n\" style=\"fill:none;stroke:#ffffff;stroke-linecap:round;stroke-width:0.8;\"/>\r\n     </g>\r\n     <g id=\"text_10\">\r\n      <!-- 0.900 -->\r\n      <defs>\r\n       <path d=\"M 5.46875 16.546875 \r\nL 13.921875 17.328125 \r\nQ 14.984375 11.375 18.015625 8.6875 \r\nQ 21.046875 6 25.78125 6 \r\nQ 29.828125 6 32.875 7.859375 \r\nQ 35.9375 9.71875 37.890625 12.8125 \r\nQ 39.84375 15.921875 41.15625 21.1875 \r\nQ 42.484375 26.46875 42.484375 31.9375 \r\nQ 42.484375 32.515625 42.4375 33.6875 \r\nQ 39.796875 29.5 35.234375 26.875 \r\nQ 30.671875 24.265625 25.34375 24.265625 \r\nQ 16.453125 24.265625 10.296875 30.703125 \r\nQ 4.15625 37.15625 4.15625 47.703125 \r\nQ 4.15625 58.59375 10.578125 65.234375 \r\nQ 17 71.875 26.65625 71.875 \r\nQ 33.640625 71.875 39.421875 68.109375 \r\nQ 45.21875 64.359375 48.21875 57.390625 \r\nQ 51.21875 50.4375 51.21875 37.25 \r\nQ 51.21875 23.53125 48.234375 15.40625 \r\nQ 45.265625 7.28125 39.375 3.03125 \r\nQ 33.5 -1.21875 25.59375 -1.21875 \r\nQ 17.1875 -1.21875 11.859375 3.4375 \r\nQ 6.546875 8.109375 5.46875 16.546875 \r\nz\r\nM 41.453125 48.140625 \r\nQ 41.453125 55.71875 37.421875 60.15625 \r\nQ 33.40625 64.59375 27.734375 64.59375 \r\nQ 21.875 64.59375 17.53125 59.8125 \r\nQ 13.1875 55.03125 13.1875 47.40625 \r\nQ 13.1875 40.578125 17.3125 36.296875 \r\nQ 21.4375 32.03125 27.484375 32.03125 \r\nQ 33.59375 32.03125 37.515625 36.296875 \r\nQ 41.453125 40.578125 41.453125 48.140625 \r\nz\r\n\" id=\"ArialMT-57\"/>\r\n      </defs>\r\n      <g style=\"fill:#ffffff;\" transform=\"translate(7.2 263.743965)scale(0.08 -0.08)\">\r\n       <use xlink:href=\"#ArialMT-48\"/>\r\n       <use x=\"55.615234\" xlink:href=\"#ArialMT-46\"/>\r\n       <use x=\"83.398438\" xlink:href=\"#ArialMT-57\"/>\r\n       <use x=\"139.013672\" xlink:href=\"#ArialMT-48\"/>\r\n       <use x=\"194.628906\" xlink:href=\"#ArialMT-48\"/>\r\n      </g>\r\n     </g>\r\n    </g>\r\n    <g id=\"ytick_5\">\r\n     <g id=\"line2d_14\">\r\n      <path clip-path=\"url(#pbb10eaa7c5)\" d=\"M 38.8175 199.510204 \r\nL 845.0475 199.510204 \r\n\" style=\"fill:none;stroke:#ffffff;stroke-linecap:round;stroke-width:0.8;\"/>\r\n     </g>\r\n     <g id=\"text_11\">\r\n      <!-- 0.925 -->\r\n      <g style=\"fill:#ffffff;\" transform=\"translate(7.2 202.373329)scale(0.08 -0.08)\">\r\n       <use xlink:href=\"#ArialMT-48\"/>\r\n       <use x=\"55.615234\" xlink:href=\"#ArialMT-46\"/>\r\n       <use x=\"83.398438\" xlink:href=\"#ArialMT-57\"/>\r\n       <use x=\"139.013672\" xlink:href=\"#ArialMT-50\"/>\r\n       <use x=\"194.628906\" xlink:href=\"#ArialMT-53\"/>\r\n      </g>\r\n     </g>\r\n    </g>\r\n    <g id=\"ytick_6\">\r\n     <g id=\"line2d_15\">\r\n      <path clip-path=\"url(#pbb10eaa7c5)\" d=\"M 38.8175 138.139567 \r\nL 845.0475 138.139567 \r\n\" style=\"fill:none;stroke:#ffffff;stroke-linecap:round;stroke-width:0.8;\"/>\r\n     </g>\r\n     <g id=\"text_12\">\r\n      <!-- 0.950 -->\r\n      <g style=\"fill:#ffffff;\" transform=\"translate(7.2 141.002692)scale(0.08 -0.08)\">\r\n       <use xlink:href=\"#ArialMT-48\"/>\r\n       <use x=\"55.615234\" xlink:href=\"#ArialMT-46\"/>\r\n       <use x=\"83.398438\" xlink:href=\"#ArialMT-57\"/>\r\n       <use x=\"139.013672\" xlink:href=\"#ArialMT-53\"/>\r\n       <use x=\"194.628906\" xlink:href=\"#ArialMT-48\"/>\r\n      </g>\r\n     </g>\r\n    </g>\r\n    <g id=\"ytick_7\">\r\n     <g id=\"line2d_16\">\r\n      <path clip-path=\"url(#pbb10eaa7c5)\" d=\"M 38.8175 76.768931 \r\nL 845.0475 76.768931 \r\n\" style=\"fill:none;stroke:#ffffff;stroke-linecap:round;stroke-width:0.8;\"/>\r\n     </g>\r\n     <g id=\"text_13\">\r\n      <!-- 0.975 -->\r\n      <g style=\"fill:#ffffff;\" transform=\"translate(7.2 79.632056)scale(0.08 -0.08)\">\r\n       <use xlink:href=\"#ArialMT-48\"/>\r\n       <use x=\"55.615234\" xlink:href=\"#ArialMT-46\"/>\r\n       <use x=\"83.398438\" xlink:href=\"#ArialMT-57\"/>\r\n       <use x=\"139.013672\" xlink:href=\"#ArialMT-55\"/>\r\n       <use x=\"194.628906\" xlink:href=\"#ArialMT-53\"/>\r\n      </g>\r\n     </g>\r\n    </g>\r\n   </g>\r\n   <g id=\"line2d_17\">\r\n    <path clip-path=\"url(#pbb10eaa7c5)\" d=\"M 75.464318 44.374304 \r\nL 258.698409 242.27458 \r\nL 441.9325 62.722038 \r\nL 625.166591 449.469759 \r\nL 808.400682 134.267985 \r\n\" style=\"fill:none;stroke:#ffff66;stroke-linecap:round;stroke-width:1.4;\"/>\r\n   </g>\r\n   <g id=\"patch_3\">\r\n    <path d=\"M 38.8175 469.724531 \r\nL 38.8175 24.119531 \r\n\" style=\"fill:none;stroke:#ffffff;stroke-linecap:square;stroke-linejoin:miter;stroke-width:1.25;\"/>\r\n   </g>\r\n   <g id=\"patch_4\">\r\n    <path d=\"M 845.0475 469.724531 \r\nL 845.0475 24.119531 \r\n\" style=\"fill:none;stroke:#ffffff;stroke-linecap:square;stroke-linejoin:miter;stroke-width:1.25;\"/>\r\n   </g>\r\n   <g id=\"patch_5\">\r\n    <path d=\"M 38.8175 469.724531 \r\nL 845.0475 469.724531 \r\n\" style=\"fill:none;stroke:#ffffff;stroke-linecap:square;stroke-linejoin:miter;stroke-width:1.25;\"/>\r\n   </g>\r\n   <g id=\"patch_6\">\r\n    <path d=\"M 38.8175 24.119531 \r\nL 845.0475 24.119531 \r\n\" style=\"fill:none;stroke:#ffffff;stroke-linecap:square;stroke-linejoin:miter;stroke-width:1.25;\"/>\r\n   </g>\r\n   <g id=\"text_14\">\r\n    <!-- Machine Learning Models- Balanced Accuracy Score Results with PCA -->\r\n    <defs>\r\n     <path d=\"M 7.078125 0 \r\nL 7.078125 71.578125 \r\nL 28.71875 71.578125 \r\nL 41.703125 22.75 \r\nL 54.546875 71.578125 \r\nL 76.21875 71.578125 \r\nL 76.21875 0 \r\nL 62.796875 0 \r\nL 62.796875 56.34375 \r\nL 48.578125 0 \r\nL 34.671875 0 \r\nL 20.515625 56.34375 \r\nL 20.515625 0 \r\nz\r\n\" id=\"Arial-BoldMT-77\"/>\r\n     <path d=\"M 17.4375 36.03125 \r\nL 4.984375 38.28125 \r\nQ 7.078125 45.796875 12.203125 49.40625 \r\nQ 17.328125 53.03125 27.4375 53.03125 \r\nQ 36.625 53.03125 41.109375 50.859375 \r\nQ 45.609375 48.6875 47.4375 45.34375 \r\nQ 49.265625 42 49.265625 33.0625 \r\nL 49.125 17.046875 \r\nQ 49.125 10.203125 49.78125 6.953125 \r\nQ 50.4375 3.71875 52.25 0 \r\nL 38.671875 0 \r\nQ 38.140625 1.375 37.359375 4.046875 \r\nQ 37.015625 5.28125 36.859375 5.671875 \r\nQ 33.34375 2.25 29.34375 0.53125 \r\nQ 25.34375 -1.171875 20.796875 -1.171875 \r\nQ 12.796875 -1.171875 8.171875 3.171875 \r\nQ 3.5625 7.515625 3.5625 14.15625 \r\nQ 3.5625 18.5625 5.65625 22 \r\nQ 7.765625 25.4375 11.546875 27.265625 \r\nQ 15.328125 29.109375 22.46875 30.46875 \r\nQ 32.078125 32.28125 35.796875 33.84375 \r\nL 35.796875 35.203125 \r\nQ 35.796875 39.15625 33.84375 40.84375 \r\nQ 31.890625 42.53125 26.46875 42.53125 \r\nQ 22.796875 42.53125 20.75 41.09375 \r\nQ 18.703125 39.65625 17.4375 36.03125 \r\nz\r\nM 35.796875 24.90625 \r\nQ 33.15625 24.03125 27.4375 22.796875 \r\nQ 21.734375 21.578125 19.96875 20.40625 \r\nQ 17.28125 18.5 17.28125 15.578125 \r\nQ 17.28125 12.703125 19.421875 10.59375 \r\nQ 21.578125 8.5 24.90625 8.5 \r\nQ 28.609375 8.5 31.984375 10.9375 \r\nQ 34.46875 12.796875 35.25 15.484375 \r\nQ 35.796875 17.234375 35.796875 22.171875 \r\nz\r\n\" id=\"Arial-BoldMT-97\"/>\r\n     <path d=\"M 52.390625 36.53125 \r\nL 38.875 34.078125 \r\nQ 38.1875 38.140625 35.765625 40.1875 \r\nQ 33.34375 42.234375 29.5 42.234375 \r\nQ 24.359375 42.234375 21.3125 38.6875 \r\nQ 18.265625 35.15625 18.265625 26.859375 \r\nQ 18.265625 17.625 21.359375 13.8125 \r\nQ 24.46875 10.015625 29.6875 10.015625 \r\nQ 33.59375 10.015625 36.078125 12.234375 \r\nQ 38.578125 14.453125 39.59375 19.875 \r\nL 53.078125 17.578125 \r\nQ 50.984375 8.296875 45.015625 3.5625 \r\nQ 39.0625 -1.171875 29.046875 -1.171875 \r\nQ 17.671875 -1.171875 10.90625 6 \r\nQ 4.15625 13.1875 4.15625 25.875 \r\nQ 4.15625 38.71875 10.9375 45.875 \r\nQ 17.71875 53.03125 29.296875 53.03125 \r\nQ 38.765625 53.03125 44.359375 48.953125 \r\nQ 49.953125 44.875 52.390625 36.53125 \r\nz\r\n\" id=\"Arial-BoldMT-99\"/>\r\n     <path d=\"M 20.84375 71.578125 \r\nL 20.84375 45.265625 \r\nQ 27.484375 53.03125 36.71875 53.03125 \r\nQ 41.453125 53.03125 45.265625 51.265625 \r\nQ 49.078125 49.515625 51 46.78125 \r\nQ 52.9375 44.046875 53.640625 40.71875 \r\nQ 54.34375 37.40625 54.34375 30.421875 \r\nL 54.34375 0 \r\nL 40.625 0 \r\nL 40.625 27.390625 \r\nQ 40.625 35.546875 39.84375 37.734375 \r\nQ 39.0625 39.9375 37.078125 41.234375 \r\nQ 35.109375 42.53125 32.125 42.53125 \r\nQ 28.71875 42.53125 26.03125 40.859375 \r\nQ 23.34375 39.203125 22.09375 35.859375 \r\nQ 20.84375 32.515625 20.84375 25.984375 \r\nL 20.84375 0 \r\nL 7.125 0 \r\nL 7.125 71.578125 \r\nz\r\n\" id=\"Arial-BoldMT-104\"/>\r\n     <path d=\"M 7.171875 58.890625 \r\nL 7.171875 71.578125 \r\nL 20.90625 71.578125 \r\nL 20.90625 58.890625 \r\nz\r\nM 7.171875 0 \r\nL 7.171875 51.859375 \r\nL 20.90625 51.859375 \r\nL 20.90625 0 \r\nz\r\n\" id=\"Arial-BoldMT-105\"/>\r\n     <path d=\"M 54.34375 0 \r\nL 40.625 0 \r\nL 40.625 26.46875 \r\nQ 40.625 34.859375 39.75 37.328125 \r\nQ 38.875 39.796875 36.890625 41.15625 \r\nQ 34.90625 42.53125 32.125 42.53125 \r\nQ 28.5625 42.53125 25.734375 40.578125 \r\nQ 22.90625 38.625 21.84375 35.390625 \r\nQ 20.796875 32.171875 20.796875 23.484375 \r\nL 20.796875 0 \r\nL 7.078125 0 \r\nL 7.078125 51.859375 \r\nL 19.828125 51.859375 \r\nL 19.828125 44.234375 \r\nQ 26.609375 53.03125 36.921875 53.03125 \r\nQ 41.453125 53.03125 45.203125 51.390625 \r\nQ 48.96875 49.75 50.890625 47.203125 \r\nQ 52.828125 44.671875 53.578125 41.453125 \r\nQ 54.34375 38.234375 54.34375 32.234375 \r\nz\r\n\" id=\"Arial-BoldMT-110\"/>\r\n     <path d=\"M 37.203125 16.5 \r\nL 50.875 14.203125 \r\nQ 48.25 6.6875 42.546875 2.75 \r\nQ 36.859375 -1.171875 28.328125 -1.171875 \r\nQ 14.796875 -1.171875 8.296875 7.671875 \r\nQ 3.171875 14.75 3.171875 25.53125 \r\nQ 3.171875 38.421875 9.90625 45.71875 \r\nQ 16.65625 53.03125 26.953125 53.03125 \r\nQ 38.53125 53.03125 45.21875 45.390625 \r\nQ 51.90625 37.75 51.609375 21.96875 \r\nL 17.234375 21.96875 \r\nQ 17.390625 15.875 20.5625 12.46875 \r\nQ 23.734375 9.078125 28.46875 9.078125 \r\nQ 31.6875 9.078125 33.875 10.828125 \r\nQ 36.078125 12.59375 37.203125 16.5 \r\nz\r\nM 37.984375 30.375 \r\nQ 37.84375 36.328125 34.90625 39.421875 \r\nQ 31.984375 42.53125 27.78125 42.53125 \r\nQ 23.296875 42.53125 20.359375 39.265625 \r\nQ 17.4375 35.984375 17.484375 30.375 \r\nz\r\n\" id=\"Arial-BoldMT-101\"/>\r\n     <path id=\"Arial-BoldMT-32\"/>\r\n     <path d=\"M 7.671875 0 \r\nL 7.671875 71 \r\nL 22.125 71 \r\nL 22.125 12.0625 \r\nL 58.0625 12.0625 \r\nL 58.0625 0 \r\nz\r\n\" id=\"Arial-BoldMT-76\"/>\r\n     <path d=\"M 20.3125 0 \r\nL 6.59375 0 \r\nL 6.59375 51.859375 \r\nL 19.34375 51.859375 \r\nL 19.34375 44.484375 \r\nQ 22.609375 49.703125 25.21875 51.359375 \r\nQ 27.828125 53.03125 31.15625 53.03125 \r\nQ 35.84375 53.03125 40.1875 50.4375 \r\nL 35.9375 38.484375 \r\nQ 32.46875 40.71875 29.5 40.71875 \r\nQ 26.609375 40.71875 24.609375 39.125 \r\nQ 22.609375 37.546875 21.453125 33.390625 \r\nQ 20.3125 29.25 20.3125 16.015625 \r\nz\r\n\" id=\"Arial-BoldMT-114\"/>\r\n     <path d=\"M 5.90625 -3.421875 \r\nL 21.578125 -5.328125 \r\nQ 21.96875 -8.0625 23.390625 -9.078125 \r\nQ 25.34375 -10.546875 29.546875 -10.546875 \r\nQ 34.90625 -10.546875 37.59375 -8.9375 \r\nQ 39.40625 -7.859375 40.328125 -5.46875 \r\nQ 40.96875 -3.765625 40.96875 0.828125 \r\nL 40.96875 8.40625 \r\nQ 34.8125 0 25.4375 0 \r\nQ 14.984375 0 8.890625 8.84375 \r\nQ 4.109375 15.828125 4.109375 26.21875 \r\nQ 4.109375 39.265625 10.375 46.140625 \r\nQ 16.65625 53.03125 25.984375 53.03125 \r\nQ 35.59375 53.03125 41.84375 44.578125 \r\nL 41.84375 51.859375 \r\nL 54.6875 51.859375 \r\nL 54.6875 5.328125 \r\nQ 54.6875 -3.859375 53.171875 -8.390625 \r\nQ 51.65625 -12.9375 48.921875 -15.515625 \r\nQ 46.1875 -18.109375 41.625 -19.578125 \r\nQ 37.0625 -21.046875 30.078125 -21.046875 \r\nQ 16.890625 -21.046875 11.375 -16.53125 \r\nQ 5.859375 -12.015625 5.859375 -5.078125 \r\nQ 5.859375 -4.390625 5.90625 -3.421875 \r\nz\r\nM 18.171875 27 \r\nQ 18.171875 18.75 21.359375 14.90625 \r\nQ 24.5625 11.078125 29.25 11.078125 \r\nQ 34.28125 11.078125 37.75 15.015625 \r\nQ 41.21875 18.953125 41.21875 26.65625 \r\nQ 41.21875 34.71875 37.890625 38.625 \r\nQ 34.578125 42.53125 29.5 42.53125 \r\nQ 24.5625 42.53125 21.359375 38.6875 \r\nQ 18.171875 34.859375 18.171875 27 \r\nz\r\n\" id=\"Arial-BoldMT-103\"/>\r\n     <path d=\"M 4 26.65625 \r\nQ 4 33.5 7.375 39.890625 \r\nQ 10.75 46.296875 16.921875 49.65625 \r\nQ 23.09375 53.03125 30.71875 53.03125 \r\nQ 42.484375 53.03125 50 45.390625 \r\nQ 57.515625 37.75 57.515625 26.078125 \r\nQ 57.515625 14.3125 49.921875 6.5625 \r\nQ 42.328125 -1.171875 30.8125 -1.171875 \r\nQ 23.6875 -1.171875 17.21875 2.046875 \r\nQ 10.75 5.28125 7.375 11.5 \r\nQ 4 17.71875 4 26.65625 \r\nz\r\nM 18.0625 25.921875 \r\nQ 18.0625 18.21875 21.71875 14.109375 \r\nQ 25.390625 10.015625 30.765625 10.015625 \r\nQ 36.140625 10.015625 39.765625 14.109375 \r\nQ 43.40625 18.21875 43.40625 26.03125 \r\nQ 43.40625 33.640625 39.765625 37.734375 \r\nQ 36.140625 41.84375 30.765625 41.84375 \r\nQ 25.390625 41.84375 21.71875 37.734375 \r\nQ 18.0625 33.640625 18.0625 25.921875 \r\nz\r\n\" id=\"Arial-BoldMT-111\"/>\r\n     <path d=\"M 54.734375 0 \r\nL 42 0 \r\nL 42 7.625 \r\nQ 38.8125 3.171875 34.484375 1 \r\nQ 30.171875 -1.171875 25.78125 -1.171875 \r\nQ 16.84375 -1.171875 10.46875 6.03125 \r\nQ 4.109375 13.234375 4.109375 26.125 \r\nQ 4.109375 39.3125 10.296875 46.171875 \r\nQ 16.5 53.03125 25.984375 53.03125 \r\nQ 34.671875 53.03125 41.015625 45.796875 \r\nL 41.015625 71.578125 \r\nL 54.734375 71.578125 \r\nz\r\nM 18.109375 27.046875 \r\nQ 18.109375 18.75 20.40625 15.046875 \r\nQ 23.734375 9.671875 29.6875 9.671875 \r\nQ 34.421875 9.671875 37.734375 13.6875 \r\nQ 41.0625 17.71875 41.0625 25.734375 \r\nQ 41.0625 34.671875 37.84375 38.59375 \r\nQ 34.625 42.53125 29.59375 42.53125 \r\nQ 24.703125 42.53125 21.40625 38.640625 \r\nQ 18.109375 34.765625 18.109375 27.046875 \r\nz\r\n\" id=\"Arial-BoldMT-100\"/>\r\n     <path d=\"M 7.171875 0 \r\nL 7.171875 71.578125 \r\nL 20.90625 71.578125 \r\nL 20.90625 0 \r\nz\r\n\" id=\"Arial-BoldMT-108\"/>\r\n     <path d=\"M 2.34375 14.796875 \r\nL 16.109375 16.890625 \r\nQ 17 12.890625 19.671875 10.8125 \r\nQ 22.359375 8.734375 27.203125 8.734375 \r\nQ 32.515625 8.734375 35.203125 10.6875 \r\nQ 37.015625 12.0625 37.015625 14.359375 \r\nQ 37.015625 15.921875 36.03125 16.9375 \r\nQ 35.015625 17.921875 31.453125 18.75 \r\nQ 14.84375 22.40625 10.40625 25.4375 \r\nQ 4.25 29.640625 4.25 37.109375 \r\nQ 4.25 43.84375 9.5625 48.4375 \r\nQ 14.890625 53.03125 26.078125 53.03125 \r\nQ 36.71875 53.03125 41.890625 49.5625 \r\nQ 47.078125 46.09375 49.03125 39.3125 \r\nL 36.078125 36.921875 \r\nQ 35.25 39.9375 32.921875 41.546875 \r\nQ 30.609375 43.171875 26.3125 43.171875 \r\nQ 20.90625 43.171875 18.5625 41.65625 \r\nQ 17 40.578125 17 38.875 \r\nQ 17 37.40625 18.359375 36.375 \r\nQ 20.21875 35.015625 31.171875 32.515625 \r\nQ 42.140625 30.03125 46.484375 26.421875 \r\nQ 50.78125 22.75 50.78125 16.21875 \r\nQ 50.78125 9.078125 44.828125 3.953125 \r\nQ 38.875 -1.171875 27.203125 -1.171875 \r\nQ 16.609375 -1.171875 10.421875 3.125 \r\nQ 4.25 7.421875 2.34375 14.796875 \r\nz\r\n\" id=\"Arial-BoldMT-115\"/>\r\n     <path d=\"M 5.609375 19.09375 \r\nL 5.609375 32.8125 \r\nL 32.5625 32.8125 \r\nL 32.5625 19.09375 \r\nz\r\n\" id=\"Arial-BoldMT-45\"/>\r\n     <path d=\"M 7.328125 71.578125 \r\nL 35.9375 71.578125 \r\nQ 44.4375 71.578125 48.609375 70.875 \r\nQ 52.78125 70.171875 56.078125 67.921875 \r\nQ 59.375 65.671875 61.5625 61.9375 \r\nQ 63.765625 58.203125 63.765625 53.5625 \r\nQ 63.765625 48.53125 61.046875 44.328125 \r\nQ 58.34375 40.140625 53.71875 38.03125 \r\nQ 60.25 36.140625 63.765625 31.546875 \r\nQ 67.28125 26.953125 67.28125 20.75 \r\nQ 67.28125 15.875 65.015625 11.25 \r\nQ 62.75 6.640625 58.8125 3.875 \r\nQ 54.890625 1.125 49.125 0.484375 \r\nQ 45.515625 0.09375 31.6875 0 \r\nL 7.328125 0 \r\nz\r\nM 21.78125 59.671875 \r\nL 21.78125 43.109375 \r\nL 31.25 43.109375 \r\nQ 39.703125 43.109375 41.75 43.359375 \r\nQ 45.453125 43.796875 47.578125 45.921875 \r\nQ 49.703125 48.046875 49.703125 51.515625 \r\nQ 49.703125 54.828125 47.875 56.90625 \r\nQ 46.046875 58.984375 42.4375 59.421875 \r\nQ 40.28125 59.671875 30.078125 59.671875 \r\nz\r\nM 21.78125 31.203125 \r\nL 21.78125 12.0625 \r\nL 35.15625 12.0625 \r\nQ 42.96875 12.0625 45.0625 12.5 \r\nQ 48.296875 13.09375 50.3125 15.359375 \r\nQ 52.34375 17.625 52.34375 21.4375 \r\nQ 52.34375 24.65625 50.78125 26.90625 \r\nQ 49.21875 29.15625 46.265625 30.171875 \r\nQ 43.3125 31.203125 33.453125 31.203125 \r\nz\r\n\" id=\"Arial-BoldMT-66\"/>\r\n     <path d=\"M 71.828125 0 \r\nL 56.109375 0 \r\nL 49.859375 16.265625 \r\nL 21.234375 16.265625 \r\nL 15.328125 0 \r\nL 0 0 \r\nL 27.875 71.578125 \r\nL 43.171875 71.578125 \r\nz\r\nM 45.21875 28.328125 \r\nL 35.359375 54.890625 \r\nL 25.6875 28.328125 \r\nz\r\n\" id=\"Arial-BoldMT-65\"/>\r\n     <path d=\"M 41.3125 0 \r\nL 41.3125 7.765625 \r\nQ 38.484375 3.609375 33.859375 1.21875 \r\nQ 29.25 -1.171875 24.125 -1.171875 \r\nQ 18.890625 -1.171875 14.734375 1.125 \r\nQ 10.59375 3.421875 8.734375 7.5625 \r\nQ 6.890625 11.71875 6.890625 19.046875 \r\nL 6.890625 51.859375 \r\nL 20.609375 51.859375 \r\nL 20.609375 28.03125 \r\nQ 20.609375 17.09375 21.359375 14.625 \r\nQ 22.125 12.15625 24.125 10.71875 \r\nQ 26.125 9.28125 29.203125 9.28125 \r\nQ 32.71875 9.28125 35.5 11.203125 \r\nQ 38.28125 13.140625 39.296875 15.984375 \r\nQ 40.328125 18.84375 40.328125 29.984375 \r\nL 40.328125 51.859375 \r\nL 54.046875 51.859375 \r\nL 54.046875 0 \r\nz\r\n\" id=\"Arial-BoldMT-117\"/>\r\n     <path d=\"M 0.6875 51.859375 \r\nL 15.28125 51.859375 \r\nL 27.6875 15.046875 \r\nL 39.796875 51.859375 \r\nL 54 51.859375 \r\nL 35.6875 1.953125 \r\nL 32.421875 -7.078125 \r\nQ 30.609375 -11.625 28.96875 -14.015625 \r\nQ 27.34375 -16.40625 25.21875 -17.890625 \r\nQ 23.09375 -19.390625 19.984375 -20.21875 \r\nQ 16.890625 -21.046875 12.984375 -21.046875 \r\nQ 9.03125 -21.046875 5.21875 -20.21875 \r\nL 4 -9.46875 \r\nQ 7.234375 -10.109375 9.8125 -10.109375 \r\nQ 14.59375 -10.109375 16.890625 -7.296875 \r\nQ 19.1875 -4.5 20.40625 -0.140625 \r\nz\r\n\" id=\"Arial-BoldMT-121\"/>\r\n     <path d=\"M 3.609375 23.296875 \r\nL 17.671875 24.65625 \r\nQ 18.953125 17.578125 22.828125 14.25 \r\nQ 26.703125 10.9375 33.296875 10.9375 \r\nQ 40.28125 10.9375 43.8125 13.890625 \r\nQ 47.359375 16.84375 47.359375 20.796875 \r\nQ 47.359375 23.34375 45.875 25.125 \r\nQ 44.390625 26.90625 40.671875 28.21875 \r\nQ 38.140625 29.109375 29.109375 31.34375 \r\nQ 17.484375 34.234375 12.796875 38.421875 \r\nQ 6.203125 44.34375 6.203125 52.828125 \r\nQ 6.203125 58.296875 9.296875 63.0625 \r\nQ 12.40625 67.828125 18.234375 70.3125 \r\nQ 24.078125 72.796875 32.328125 72.796875 \r\nQ 45.796875 72.796875 52.609375 66.890625 \r\nQ 59.421875 60.984375 59.765625 51.125 \r\nL 45.3125 50.484375 \r\nQ 44.390625 56 41.328125 58.421875 \r\nQ 38.28125 60.84375 32.171875 60.84375 \r\nQ 25.875 60.84375 22.3125 58.25 \r\nQ 20.015625 56.59375 20.015625 53.8125 \r\nQ 20.015625 51.265625 22.171875 49.46875 \r\nQ 24.90625 47.171875 35.453125 44.671875 \r\nQ 46 42.1875 51.046875 39.515625 \r\nQ 56.109375 36.859375 58.953125 32.25 \r\nQ 61.8125 27.640625 61.8125 20.84375 \r\nQ 61.8125 14.703125 58.390625 9.328125 \r\nQ 54.984375 3.953125 48.734375 1.34375 \r\nQ 42.484375 -1.265625 33.15625 -1.265625 \r\nQ 19.578125 -1.265625 12.296875 5 \r\nQ 5.03125 11.28125 3.609375 23.296875 \r\nz\r\n\" id=\"Arial-BoldMT-83\"/>\r\n     <path d=\"M 7.328125 0 \r\nL 7.328125 71.578125 \r\nL 37.75 71.578125 \r\nQ 49.21875 71.578125 54.421875 69.640625 \r\nQ 59.625 67.71875 62.75 62.78125 \r\nQ 65.875 57.859375 65.875 51.515625 \r\nQ 65.875 43.453125 61.125 38.203125 \r\nQ 56.390625 32.953125 46.96875 31.59375 \r\nQ 51.65625 28.859375 54.703125 25.578125 \r\nQ 57.765625 22.3125 62.9375 13.96875 \r\nL 71.6875 0 \r\nL 54.390625 0 \r\nL 43.953125 15.578125 \r\nQ 38.375 23.921875 36.328125 26.09375 \r\nQ 34.28125 28.265625 31.984375 29.078125 \r\nQ 29.6875 29.890625 24.703125 29.890625 \r\nL 21.78125 29.890625 \r\nL 21.78125 0 \r\nz\r\nM 21.78125 41.3125 \r\nL 32.46875 41.3125 \r\nQ 42.875 41.3125 45.453125 42.1875 \r\nQ 48.046875 43.0625 49.515625 45.203125 \r\nQ 50.984375 47.359375 50.984375 50.59375 \r\nQ 50.984375 54.203125 49.046875 56.421875 \r\nQ 47.125 58.640625 43.609375 59.234375 \r\nQ 41.84375 59.46875 33.0625 59.46875 \r\nL 21.78125 59.46875 \r\nz\r\n\" id=\"Arial-BoldMT-82\"/>\r\n     <path d=\"M 30.953125 51.859375 \r\nL 30.953125 40.921875 \r\nL 21.578125 40.921875 \r\nL 21.578125 20.015625 \r\nQ 21.578125 13.671875 21.84375 12.625 \r\nQ 22.125 11.578125 23.078125 10.890625 \r\nQ 24.03125 10.203125 25.390625 10.203125 \r\nQ 27.296875 10.203125 30.90625 11.53125 \r\nL 32.078125 0.875 \r\nQ 27.296875 -1.171875 21.234375 -1.171875 \r\nQ 17.53125 -1.171875 14.546875 0.0625 \r\nQ 11.578125 1.3125 10.1875 3.296875 \r\nQ 8.796875 5.28125 8.25 8.640625 \r\nQ 7.8125 11.03125 7.8125 18.3125 \r\nL 7.8125 40.921875 \r\nL 1.515625 40.921875 \r\nL 1.515625 51.859375 \r\nL 7.8125 51.859375 \r\nL 7.8125 62.15625 \r\nL 21.578125 70.171875 \r\nL 21.578125 51.859375 \r\nz\r\n\" id=\"Arial-BoldMT-116\"/>\r\n     <path d=\"M 16.84375 0 \r\nL 0.4375 51.859375 \r\nL 13.765625 51.859375 \r\nL 23.484375 17.875 \r\nL 32.421875 51.859375 \r\nL 45.65625 51.859375 \r\nL 54.296875 17.875 \r\nL 64.203125 51.859375 \r\nL 77.734375 51.859375 \r\nL 61.078125 0 \r\nL 47.90625 0 \r\nL 38.96875 33.34375 \r\nL 30.171875 0 \r\nz\r\n\" id=\"Arial-BoldMT-119\"/>\r\n     <path d=\"M 7.28125 0 \r\nL 7.28125 71.578125 \r\nL 30.46875 71.578125 \r\nQ 43.65625 71.578125 47.65625 70.515625 \r\nQ 53.8125 68.890625 57.953125 63.5 \r\nQ 62.109375 58.109375 62.109375 49.5625 \r\nQ 62.109375 42.96875 59.71875 38.46875 \r\nQ 57.328125 33.984375 53.640625 31.421875 \r\nQ 49.953125 28.859375 46.140625 28.03125 \r\nQ 40.96875 27 31.15625 27 \r\nL 21.734375 27 \r\nL 21.734375 0 \r\nz\r\nM 21.734375 59.46875 \r\nL 21.734375 39.15625 \r\nL 29.640625 39.15625 \r\nQ 38.1875 39.15625 41.0625 40.28125 \r\nQ 43.953125 41.40625 45.578125 43.796875 \r\nQ 47.21875 46.1875 47.21875 49.359375 \r\nQ 47.21875 53.265625 44.921875 55.796875 \r\nQ 42.625 58.34375 39.109375 58.984375 \r\nQ 36.53125 59.46875 28.71875 59.46875 \r\nz\r\n\" id=\"Arial-BoldMT-80\"/>\r\n     <path d=\"M 53.078125 26.3125 \r\nL 67.09375 21.875 \r\nQ 63.875 10.15625 56.375 4.46875 \r\nQ 48.875 -1.21875 37.359375 -1.21875 \r\nQ 23.09375 -1.21875 13.90625 8.515625 \r\nQ 4.734375 18.265625 4.734375 35.15625 \r\nQ 4.734375 53.03125 13.953125 62.90625 \r\nQ 23.1875 72.796875 38.234375 72.796875 \r\nQ 51.375 72.796875 59.578125 65.046875 \r\nQ 64.453125 60.453125 66.890625 51.859375 \r\nL 52.59375 48.4375 \r\nQ 51.3125 54 47.28125 57.21875 \r\nQ 43.265625 60.453125 37.5 60.453125 \r\nQ 29.546875 60.453125 24.578125 54.734375 \r\nQ 19.625 49.03125 19.625 36.234375 \r\nQ 19.625 22.65625 24.5 16.890625 \r\nQ 29.390625 11.140625 37.203125 11.140625 \r\nQ 42.96875 11.140625 47.109375 14.796875 \r\nQ 51.265625 18.453125 53.078125 26.3125 \r\nz\r\n\" id=\"Arial-BoldMT-67\"/>\r\n    </defs>\r\n    <g style=\"fill:#ffffff;\" transform=\"translate(189.661797 18.119531)scale(0.15 -0.15)\">\r\n     <use xlink:href=\"#Arial-BoldMT-77\"/>\r\n     <use x=\"83.300781\" xlink:href=\"#Arial-BoldMT-97\"/>\r\n     <use x=\"138.916016\" xlink:href=\"#Arial-BoldMT-99\"/>\r\n     <use x=\"194.53125\" xlink:href=\"#Arial-BoldMT-104\"/>\r\n     <use x=\"255.615234\" xlink:href=\"#Arial-BoldMT-105\"/>\r\n     <use x=\"283.398438\" xlink:href=\"#Arial-BoldMT-110\"/>\r\n     <use x=\"344.482422\" xlink:href=\"#Arial-BoldMT-101\"/>\r\n     <use x=\"400.097656\" xlink:href=\"#Arial-BoldMT-32\"/>\r\n     <use x=\"427.880859\" xlink:href=\"#Arial-BoldMT-76\"/>\r\n     <use x=\"488.964844\" xlink:href=\"#Arial-BoldMT-101\"/>\r\n     <use x=\"544.580078\" xlink:href=\"#Arial-BoldMT-97\"/>\r\n     <use x=\"600.195312\" xlink:href=\"#Arial-BoldMT-114\"/>\r\n     <use x=\"639.111328\" xlink:href=\"#Arial-BoldMT-110\"/>\r\n     <use x=\"700.195312\" xlink:href=\"#Arial-BoldMT-105\"/>\r\n     <use x=\"727.978516\" xlink:href=\"#Arial-BoldMT-110\"/>\r\n     <use x=\"789.0625\" xlink:href=\"#Arial-BoldMT-103\"/>\r\n     <use x=\"850.146484\" xlink:href=\"#Arial-BoldMT-32\"/>\r\n     <use x=\"877.929688\" xlink:href=\"#Arial-BoldMT-77\"/>\r\n     <use x=\"961.230469\" xlink:href=\"#Arial-BoldMT-111\"/>\r\n     <use x=\"1022.314453\" xlink:href=\"#Arial-BoldMT-100\"/>\r\n     <use x=\"1083.398438\" xlink:href=\"#Arial-BoldMT-101\"/>\r\n     <use x=\"1139.013672\" xlink:href=\"#Arial-BoldMT-108\"/>\r\n     <use x=\"1166.796875\" xlink:href=\"#Arial-BoldMT-115\"/>\r\n     <use x=\"1222.412109\" xlink:href=\"#Arial-BoldMT-45\"/>\r\n     <use x=\"1255.712891\" xlink:href=\"#Arial-BoldMT-32\"/>\r\n     <use x=\"1283.496094\" xlink:href=\"#Arial-BoldMT-66\"/>\r\n     <use x=\"1355.712891\" xlink:href=\"#Arial-BoldMT-97\"/>\r\n     <use x=\"1411.328125\" xlink:href=\"#Arial-BoldMT-108\"/>\r\n     <use x=\"1439.111328\" xlink:href=\"#Arial-BoldMT-97\"/>\r\n     <use x=\"1494.726562\" xlink:href=\"#Arial-BoldMT-110\"/>\r\n     <use x=\"1555.810547\" xlink:href=\"#Arial-BoldMT-99\"/>\r\n     <use x=\"1611.425781\" xlink:href=\"#Arial-BoldMT-101\"/>\r\n     <use x=\"1667.041016\" xlink:href=\"#Arial-BoldMT-100\"/>\r\n     <use x=\"1728.125\" xlink:href=\"#Arial-BoldMT-32\"/>\r\n     <use x=\"1752.158203\" xlink:href=\"#Arial-BoldMT-65\"/>\r\n     <use x=\"1824.375\" xlink:href=\"#Arial-BoldMT-99\"/>\r\n     <use x=\"1879.990234\" xlink:href=\"#Arial-BoldMT-99\"/>\r\n     <use x=\"1935.605469\" xlink:href=\"#Arial-BoldMT-117\"/>\r\n     <use x=\"1996.689453\" xlink:href=\"#Arial-BoldMT-114\"/>\r\n     <use x=\"2035.605469\" xlink:href=\"#Arial-BoldMT-97\"/>\r\n     <use x=\"2091.220703\" xlink:href=\"#Arial-BoldMT-99\"/>\r\n     <use x=\"2146.835938\" xlink:href=\"#Arial-BoldMT-121\"/>\r\n     <use x=\"2202.451172\" xlink:href=\"#Arial-BoldMT-32\"/>\r\n     <use x=\"2230.234375\" xlink:href=\"#Arial-BoldMT-83\"/>\r\n     <use x=\"2296.933594\" xlink:href=\"#Arial-BoldMT-99\"/>\r\n     <use x=\"2352.548828\" xlink:href=\"#Arial-BoldMT-111\"/>\r\n     <use x=\"2413.632812\" xlink:href=\"#Arial-BoldMT-114\"/>\r\n     <use x=\"2452.548828\" xlink:href=\"#Arial-BoldMT-101\"/>\r\n     <use x=\"2508.164062\" xlink:href=\"#Arial-BoldMT-32\"/>\r\n     <use x=\"2535.947266\" xlink:href=\"#Arial-BoldMT-82\"/>\r\n     <use x=\"2608.164062\" xlink:href=\"#Arial-BoldMT-101\"/>\r\n     <use x=\"2663.779297\" xlink:href=\"#Arial-BoldMT-115\"/>\r\n     <use x=\"2719.394531\" xlink:href=\"#Arial-BoldMT-117\"/>\r\n     <use x=\"2780.478516\" xlink:href=\"#Arial-BoldMT-108\"/>\r\n     <use x=\"2808.261719\" xlink:href=\"#Arial-BoldMT-116\"/>\r\n     <use x=\"2841.5625\" xlink:href=\"#Arial-BoldMT-115\"/>\r\n     <use x=\"2897.177734\" xlink:href=\"#Arial-BoldMT-32\"/>\r\n     <use x=\"2924.960938\" xlink:href=\"#Arial-BoldMT-119\"/>\r\n     <use x=\"3002.744141\" xlink:href=\"#Arial-BoldMT-105\"/>\r\n     <use x=\"3030.527344\" xlink:href=\"#Arial-BoldMT-116\"/>\r\n     <use x=\"3063.828125\" xlink:href=\"#Arial-BoldMT-104\"/>\r\n     <use x=\"3124.912109\" xlink:href=\"#Arial-BoldMT-32\"/>\r\n     <use x=\"3152.695312\" xlink:href=\"#Arial-BoldMT-80\"/>\r\n     <use x=\"3219.394531\" xlink:href=\"#Arial-BoldMT-67\"/>\r\n     <use x=\"3291.611328\" xlink:href=\"#Arial-BoldMT-65\"/>\r\n    </g>\r\n   </g>\r\n   <g id=\"legend_1\">\r\n    <g id=\"patch_7\">\r\n     <path d=\"M 760.04625 41.835781 \r\nL 839.4475 41.835781 \r\nQ 841.0475 41.835781 841.0475 40.235781 \r\nL 841.0475 29.719531 \r\nQ 841.0475 28.119531 839.4475 28.119531 \r\nL 760.04625 28.119531 \r\nQ 758.44625 28.119531 758.44625 29.719531 \r\nL 758.44625 40.235781 \r\nQ 758.44625 41.835781 760.04625 41.835781 \r\nz\r\n\" style=\"opacity:0.8;stroke:#cccccc;stroke-linejoin:miter;stroke-width:0.24;\"/>\r\n    </g>\r\n    <g id=\"line2d_18\">\r\n     <path d=\"M 761.64625 34.245781 \r\nL 777.64625 34.245781 \r\n\" style=\"fill:none;stroke:#ffff66;stroke-linecap:round;stroke-width:1.4;\"/>\r\n    </g>\r\n    <g id=\"line2d_19\"/>\r\n    <g id=\"text_15\">\r\n     <!-- Bal Acc Scores -->\r\n     <defs>\r\n      <path d=\"M 7.328125 0 \r\nL 7.328125 71.578125 \r\nL 34.1875 71.578125 \r\nQ 42.390625 71.578125 47.34375 69.40625 \r\nQ 52.296875 67.234375 55.09375 62.71875 \r\nQ 57.90625 58.203125 57.90625 53.265625 \r\nQ 57.90625 48.6875 55.421875 44.625 \r\nQ 52.9375 40.578125 47.90625 38.09375 \r\nQ 54.390625 36.1875 57.875 31.59375 \r\nQ 61.375 27 61.375 20.75 \r\nQ 61.375 15.71875 59.25 11.390625 \r\nQ 57.125 7.078125 54 4.734375 \r\nQ 50.875 2.390625 46.15625 1.1875 \r\nQ 41.453125 0 34.625 0 \r\nz\r\nM 16.796875 41.5 \r\nL 32.28125 41.5 \r\nQ 38.578125 41.5 41.3125 42.328125 \r\nQ 44.921875 43.40625 46.75 45.890625 \r\nQ 48.578125 48.390625 48.578125 52.15625 \r\nQ 48.578125 55.71875 46.875 58.421875 \r\nQ 45.171875 61.140625 41.984375 62.140625 \r\nQ 38.8125 63.140625 31.109375 63.140625 \r\nL 16.796875 63.140625 \r\nz\r\nM 16.796875 8.453125 \r\nL 34.625 8.453125 \r\nQ 39.203125 8.453125 41.0625 8.796875 \r\nQ 44.34375 9.375 46.53125 10.734375 \r\nQ 48.734375 12.109375 50.140625 14.71875 \r\nQ 51.5625 17.328125 51.5625 20.75 \r\nQ 51.5625 24.75 49.515625 27.703125 \r\nQ 47.46875 30.671875 43.828125 31.859375 \r\nQ 40.1875 33.0625 33.34375 33.0625 \r\nL 16.796875 33.0625 \r\nz\r\n\" id=\"ArialMT-66\"/>\r\n      <path id=\"ArialMT-32\"/>\r\n      <path d=\"M -0.140625 0 \r\nL 27.34375 71.578125 \r\nL 37.546875 71.578125 \r\nL 66.84375 0 \r\nL 56.0625 0 \r\nL 47.703125 21.6875 \r\nL 17.78125 21.6875 \r\nL 9.90625 0 \r\nz\r\nM 20.515625 29.390625 \r\nL 44.78125 29.390625 \r\nL 37.3125 49.21875 \r\nQ 33.890625 58.25 32.234375 64.0625 \r\nQ 30.859375 57.171875 28.375 50.390625 \r\nz\r\n\" id=\"ArialMT-65\"/>\r\n      <path d=\"M 4.5 23 \r\nL 13.421875 23.78125 \r\nQ 14.0625 18.40625 16.375 14.96875 \r\nQ 18.703125 11.53125 23.578125 9.40625 \r\nQ 28.46875 7.28125 34.578125 7.28125 \r\nQ 39.984375 7.28125 44.140625 8.890625 \r\nQ 48.296875 10.5 50.3125 13.296875 \r\nQ 52.34375 16.109375 52.34375 19.4375 \r\nQ 52.34375 22.796875 50.390625 25.3125 \r\nQ 48.4375 27.828125 43.953125 29.546875 \r\nQ 41.0625 30.671875 31.203125 33.03125 \r\nQ 21.34375 35.40625 17.390625 37.5 \r\nQ 12.25 40.1875 9.734375 44.15625 \r\nQ 7.234375 48.140625 7.234375 53.078125 \r\nQ 7.234375 58.5 10.296875 63.203125 \r\nQ 13.375 67.921875 19.28125 70.359375 \r\nQ 25.203125 72.796875 32.421875 72.796875 \r\nQ 40.375 72.796875 46.453125 70.234375 \r\nQ 52.546875 67.671875 55.8125 62.6875 \r\nQ 59.078125 57.71875 59.328125 51.421875 \r\nL 50.25 50.734375 \r\nQ 49.515625 57.515625 45.28125 60.984375 \r\nQ 41.0625 64.453125 32.8125 64.453125 \r\nQ 24.21875 64.453125 20.28125 61.296875 \r\nQ 16.359375 58.15625 16.359375 53.71875 \r\nQ 16.359375 49.859375 19.140625 47.359375 \r\nQ 21.875 44.875 33.421875 42.265625 \r\nQ 44.96875 39.65625 49.265625 37.703125 \r\nQ 55.515625 34.8125 58.484375 30.390625 \r\nQ 61.46875 25.984375 61.46875 20.21875 \r\nQ 61.46875 14.5 58.203125 9.4375 \r\nQ 54.9375 4.390625 48.796875 1.578125 \r\nQ 42.671875 -1.21875 35.015625 -1.21875 \r\nQ 25.296875 -1.21875 18.71875 1.609375 \r\nQ 12.15625 4.4375 8.421875 10.125 \r\nQ 4.6875 15.828125 4.5 23 \r\nz\r\n\" id=\"ArialMT-83\"/>\r\n     </defs>\r\n     <g style=\"fill:#ffffff;\" transform=\"translate(784.04625 37.045781)scale(0.08 -0.08)\">\r\n      <use xlink:href=\"#ArialMT-66\"/>\r\n      <use x=\"66.699219\" xlink:href=\"#ArialMT-97\"/>\r\n      <use x=\"122.314453\" xlink:href=\"#ArialMT-108\"/>\r\n      <use x=\"144.53125\" xlink:href=\"#ArialMT-32\"/>\r\n      <use x=\"166.814453\" xlink:href=\"#ArialMT-65\"/>\r\n      <use x=\"233.513672\" xlink:href=\"#ArialMT-99\"/>\r\n      <use x=\"283.513672\" xlink:href=\"#ArialMT-99\"/>\r\n      <use x=\"333.513672\" xlink:href=\"#ArialMT-32\"/>\r\n      <use x=\"361.296875\" xlink:href=\"#ArialMT-83\"/>\r\n      <use x=\"427.996094\" xlink:href=\"#ArialMT-99\"/>\r\n      <use x=\"477.996094\" xlink:href=\"#ArialMT-111\"/>\r\n      <use x=\"533.611328\" xlink:href=\"#ArialMT-114\"/>\r\n      <use x=\"566.912109\" xlink:href=\"#ArialMT-101\"/>\r\n      <use x=\"622.527344\" xlink:href=\"#ArialMT-115\"/>\r\n     </g>\r\n    </g>\r\n   </g>\r\n  </g>\r\n </g>\r\n <defs>\r\n  <clipPath id=\"pbb10eaa7c5\">\r\n   <rect height=\"445.605\" width=\"806.23\" x=\"38.8175\" y=\"24.119531\"/>\r\n  </clipPath>\r\n </defs>\r\n</svg>\r\n",
      "image/png": "[encoded data removed]"
     },
     "metadata": {}
    }
   ],
   "source": [
    "plt.style.use('dark_background')\n",
    "color = plt.cm.summer_r(np.linspace(0, 1, 15))\n",
    "ml_pca_bal_acc.plot.line(x='Models', y='Bal Acc Scores', color= color, figsize = (12, 8), grid=True)\n",
    "plt.title('Machine Learning Models- Balanced Accuracy Score Results with PCA',fontsize = 15, weight='bold')\n",
    "plt.xticks(rotation = 90)\n",
    "plt.tight_layout()\n",
    "plt.savefig(\"/Users/lrinc/DataAustin2020/sanFranCrimePredictor/images/bal_acc_score_pca.png\")\n",
    "plt.show()"
   ]
  },
  {
   "cell_type": "code",
   "execution_count": null,
   "metadata": {},
   "outputs": [],
   "source": []
  }
 ]
}