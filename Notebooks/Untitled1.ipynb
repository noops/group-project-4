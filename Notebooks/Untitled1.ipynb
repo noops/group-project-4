{
 "cells": [
  {
   "cell_type": "code",
   "execution_count": 2,
   "metadata": {},
   "outputs": [],
   "source": [
    "import numpy as np\n",
    "import pandas as pd\n",
    "import matplotlib.pyplot as plt\n",
    "from sklearn.preprocessing import StandardScaler, OneHotEncoder \n",
    "from path import Path\n",
    "from sklearn.model_selection import train_test_split\n",
    "from collections import Counter\n",
    "from sklearn.metrics import balanced_accuracy_score\n",
    "from sklearn.metrics import confusion_matrix\n",
    "from imblearn.metrics import classification_report_imbalanced\n",
    "from imblearn.ensemble import BalancedRandomForestClassifier, EasyEnsembleClassifier"
   ]
  },
  {
   "cell_type": "code",
   "execution_count": 3,
   "metadata": {},
   "outputs": [
    {
     "data": {
      "text/html": [
       "<div>\n",
       "<style scoped>\n",
       "    .dataframe tbody tr th:only-of-type {\n",
       "        vertical-align: middle;\n",
       "    }\n",
       "\n",
       "    .dataframe tbody tr th {\n",
       "        vertical-align: top;\n",
       "    }\n",
       "\n",
       "    .dataframe thead th {\n",
       "        text-align: right;\n",
       "    }\n",
       "</style>\n",
       "<table border=\"1\" class=\"dataframe\">\n",
       "  <thead>\n",
       "    <tr style=\"text-align: right;\">\n",
       "      <th></th>\n",
       "      <th>ZipCode</th>\n",
       "      <th>PdDistricts</th>\n",
       "      <th>Months</th>\n",
       "      <th>Day</th>\n",
       "      <th>TimeOfDay</th>\n",
       "      <th>Resolutions</th>\n",
       "      <th>Category_ASSAULT</th>\n",
       "      <th>Category_BURGLARY</th>\n",
       "      <th>Category_DRUG/NARCOTIC</th>\n",
       "      <th>Category_FRAUD</th>\n",
       "      <th>...</th>\n",
       "      <th>Descript_POSSESSION OF NARCOTICS PARAPHERNALIA</th>\n",
       "      <th>Descript_RESISTING ARREST</th>\n",
       "      <th>Descript_STOLEN AUTOMOBILE</th>\n",
       "      <th>Descript_STOLEN TRUCK</th>\n",
       "      <th>Descript_SUSPICIOUS OCCURRENCE</th>\n",
       "      <th>Descript_THREATS AGAINST LIFE</th>\n",
       "      <th>Descript_TRAFFIC VIOLATION</th>\n",
       "      <th>Descript_TRAFFIC VIOLATION ARREST</th>\n",
       "      <th>Descript_TRESPASSING</th>\n",
       "      <th>Descript_WARRANT ARREST</th>\n",
       "    </tr>\n",
       "  </thead>\n",
       "  <tbody>\n",
       "    <tr>\n",
       "      <th>0</th>\n",
       "      <td>-0.860927</td>\n",
       "      <td>0.950634</td>\n",
       "      <td>-0.443307</td>\n",
       "      <td>-1.465466</td>\n",
       "      <td>0.720326</td>\n",
       "      <td>0</td>\n",
       "      <td>-0.315846</td>\n",
       "      <td>-0.202024</td>\n",
       "      <td>-0.171087</td>\n",
       "      <td>-0.134147</td>\n",
       "      <td>...</td>\n",
       "      <td>-0.085168</td>\n",
       "      <td>-0.093327</td>\n",
       "      <td>-0.155175</td>\n",
       "      <td>-0.101159</td>\n",
       "      <td>-0.141017</td>\n",
       "      <td>-0.107157</td>\n",
       "      <td>-0.111078</td>\n",
       "      <td>-0.123178</td>\n",
       "      <td>-0.092808</td>\n",
       "      <td>-0.145267</td>\n",
       "    </tr>\n",
       "    <tr>\n",
       "      <th>1</th>\n",
       "      <td>-0.860927</td>\n",
       "      <td>0.950634</td>\n",
       "      <td>-0.443307</td>\n",
       "      <td>-1.465466</td>\n",
       "      <td>0.720326</td>\n",
       "      <td>0</td>\n",
       "      <td>-0.315846</td>\n",
       "      <td>-0.202024</td>\n",
       "      <td>-0.171087</td>\n",
       "      <td>-0.134147</td>\n",
       "      <td>...</td>\n",
       "      <td>-0.085168</td>\n",
       "      <td>-0.093327</td>\n",
       "      <td>-0.155175</td>\n",
       "      <td>-0.101159</td>\n",
       "      <td>-0.141017</td>\n",
       "      <td>-0.107157</td>\n",
       "      <td>-0.111078</td>\n",
       "      <td>-0.123178</td>\n",
       "      <td>-0.092808</td>\n",
       "      <td>-0.145267</td>\n",
       "    </tr>\n",
       "    <tr>\n",
       "      <th>2</th>\n",
       "      <td>0.909206</td>\n",
       "      <td>-1.566836</td>\n",
       "      <td>-1.598508</td>\n",
       "      <td>-0.970159</td>\n",
       "      <td>-1.132944</td>\n",
       "      <td>0</td>\n",
       "      <td>-0.315846</td>\n",
       "      <td>-0.202024</td>\n",
       "      <td>-0.171087</td>\n",
       "      <td>-0.134147</td>\n",
       "      <td>...</td>\n",
       "      <td>-0.085168</td>\n",
       "      <td>-0.093327</td>\n",
       "      <td>-0.155175</td>\n",
       "      <td>-0.101159</td>\n",
       "      <td>-0.141017</td>\n",
       "      <td>-0.107157</td>\n",
       "      <td>-0.111078</td>\n",
       "      <td>-0.123178</td>\n",
       "      <td>-0.092808</td>\n",
       "      <td>6.883863</td>\n",
       "    </tr>\n",
       "    <tr>\n",
       "      <th>3</th>\n",
       "      <td>-0.439467</td>\n",
       "      <td>1.669911</td>\n",
       "      <td>-0.443307</td>\n",
       "      <td>1.011070</td>\n",
       "      <td>-0.206309</td>\n",
       "      <td>1</td>\n",
       "      <td>-0.315846</td>\n",
       "      <td>-0.202024</td>\n",
       "      <td>-0.171087</td>\n",
       "      <td>-0.134147</td>\n",
       "      <td>...</td>\n",
       "      <td>-0.085168</td>\n",
       "      <td>-0.093327</td>\n",
       "      <td>-0.155175</td>\n",
       "      <td>-0.101159</td>\n",
       "      <td>-0.141017</td>\n",
       "      <td>-0.107157</td>\n",
       "      <td>-0.111078</td>\n",
       "      <td>-0.123178</td>\n",
       "      <td>-0.092808</td>\n",
       "      <td>-0.145267</td>\n",
       "    </tr>\n",
       "    <tr>\n",
       "      <th>4</th>\n",
       "      <td>-0.945219</td>\n",
       "      <td>-0.487921</td>\n",
       "      <td>-0.443307</td>\n",
       "      <td>-1.465466</td>\n",
       "      <td>1.646961</td>\n",
       "      <td>1</td>\n",
       "      <td>-0.315846</td>\n",
       "      <td>-0.202024</td>\n",
       "      <td>-0.171087</td>\n",
       "      <td>-0.134147</td>\n",
       "      <td>...</td>\n",
       "      <td>-0.085168</td>\n",
       "      <td>-0.093327</td>\n",
       "      <td>-0.155175</td>\n",
       "      <td>-0.101159</td>\n",
       "      <td>-0.141017</td>\n",
       "      <td>-0.107157</td>\n",
       "      <td>-0.111078</td>\n",
       "      <td>-0.123178</td>\n",
       "      <td>-0.092808</td>\n",
       "      <td>-0.145267</td>\n",
       "    </tr>\n",
       "  </tbody>\n",
       "</table>\n",
       "<p>5 rows × 63 columns</p>\n",
       "</div>"
      ],
      "text/plain": [
       "    ZipCode  PdDistricts    Months       Day  TimeOfDay  Resolutions  \\\n",
       "0 -0.860927     0.950634 -0.443307 -1.465466   0.720326            0   \n",
       "1 -0.860927     0.950634 -0.443307 -1.465466   0.720326            0   \n",
       "2  0.909206    -1.566836 -1.598508 -0.970159  -1.132944            0   \n",
       "3 -0.439467     1.669911 -0.443307  1.011070  -0.206309            1   \n",
       "4 -0.945219    -0.487921 -0.443307 -1.465466   1.646961            1   \n",
       "\n",
       "   Category_ASSAULT  Category_BURGLARY  Category_DRUG/NARCOTIC  \\\n",
       "0         -0.315846          -0.202024               -0.171087   \n",
       "1         -0.315846          -0.202024               -0.171087   \n",
       "2         -0.315846          -0.202024               -0.171087   \n",
       "3         -0.315846          -0.202024               -0.171087   \n",
       "4         -0.315846          -0.202024               -0.171087   \n",
       "\n",
       "   Category_FRAUD  ...  Descript_POSSESSION OF NARCOTICS PARAPHERNALIA  \\\n",
       "0       -0.134147  ...                                       -0.085168   \n",
       "1       -0.134147  ...                                       -0.085168   \n",
       "2       -0.134147  ...                                       -0.085168   \n",
       "3       -0.134147  ...                                       -0.085168   \n",
       "4       -0.134147  ...                                       -0.085168   \n",
       "\n",
       "   Descript_RESISTING ARREST  Descript_STOLEN AUTOMOBILE  \\\n",
       "0                  -0.093327                   -0.155175   \n",
       "1                  -0.093327                   -0.155175   \n",
       "2                  -0.093327                   -0.155175   \n",
       "3                  -0.093327                   -0.155175   \n",
       "4                  -0.093327                   -0.155175   \n",
       "\n",
       "   Descript_STOLEN TRUCK  Descript_SUSPICIOUS OCCURRENCE  \\\n",
       "0              -0.101159                       -0.141017   \n",
       "1              -0.101159                       -0.141017   \n",
       "2              -0.101159                       -0.141017   \n",
       "3              -0.101159                       -0.141017   \n",
       "4              -0.101159                       -0.141017   \n",
       "\n",
       "   Descript_THREATS AGAINST LIFE  Descript_TRAFFIC VIOLATION  \\\n",
       "0                      -0.107157                   -0.111078   \n",
       "1                      -0.107157                   -0.111078   \n",
       "2                      -0.107157                   -0.111078   \n",
       "3                      -0.107157                   -0.111078   \n",
       "4                      -0.107157                   -0.111078   \n",
       "\n",
       "   Descript_TRAFFIC VIOLATION ARREST  Descript_TRESPASSING  \\\n",
       "0                          -0.123178             -0.092808   \n",
       "1                          -0.123178             -0.092808   \n",
       "2                          -0.123178             -0.092808   \n",
       "3                          -0.123178             -0.092808   \n",
       "4                          -0.123178             -0.092808   \n",
       "\n",
       "   Descript_WARRANT ARREST  \n",
       "0                -0.145267  \n",
       "1                -0.145267  \n",
       "2                 6.883863  \n",
       "3                -0.145267  \n",
       "4                -0.145267  \n",
       "\n",
       "[5 rows x 63 columns]"
      ]
     },
     "execution_count": 3,
     "metadata": {},
     "output_type": "execute_result"
    }
   ],
   "source": [
    "file_path = Path(\"../ml_df.csv\")\n",
    "ml_df = pd.read_csv(file_path)\n",
    "ml_df.head()"
   ]
  },
  {
   "cell_type": "code",
   "execution_count": 4,
   "metadata": {},
   "outputs": [
    {
     "data": {
      "text/plain": [
       "1    107779\n",
       "0     39416\n",
       "Name: Resolutions, dtype: int64"
      ]
     },
     "execution_count": 4,
     "metadata": {},
     "output_type": "execute_result"
    }
   ],
   "source": [
    "#Look at number of resolutions\n",
    "ml_df.Resolutions.value_counts()"
   ]
  },
  {
   "cell_type": "code",
   "execution_count": 5,
   "metadata": {},
   "outputs": [],
   "source": [
    "#create features\n",
    "X = ml_df.drop(\"Resolutions\", axis=1)\n",
    "\n",
    "#create target\n",
    "y = ml_df[\"Resolutions\"]"
   ]
  },
  {
   "cell_type": "code",
   "execution_count": 6,
   "metadata": {},
   "outputs": [],
   "source": [
    "#train test split\n",
    "X_train, X_test, y_train, y_test = train_test_split(X, y, random_state=1)"
   ]
  },
  {
   "cell_type": "code",
   "execution_count": 7,
   "metadata": {},
   "outputs": [
    {
     "data": {
      "text/plain": [
       "Counter({0: 80781, 1: 80781})"
      ]
     },
     "execution_count": 7,
     "metadata": {},
     "output_type": "execute_result"
    }
   ],
   "source": [
    "# try random over sampling\n",
    "from imblearn.over_sampling import RandomOverSampler\n",
    "ros = RandomOverSampler(random_state=1)\n",
    "X_resampled, y_resampled = ros.fit_resample(X_train, y_train)\n",
    "Counter(y_resampled)"
   ]
  },
  {
   "cell_type": "code",
   "execution_count": 8,
   "metadata": {},
   "outputs": [],
   "source": [
    "# train the classifier\n",
    "brf = BalancedRandomForestClassifier()\n",
    "brf.fit(X_resampled, y_resampled)\n",
    "y_pred = brf.predict(X_test)"
   ]
  },
  {
   "cell_type": "code",
   "execution_count": 9,
   "metadata": {},
   "outputs": [
    {
     "name": "stdout",
     "output_type": "stream",
     "text": [
      "balanced accuracy score = 81.71%\n"
     ]
    }
   ],
   "source": [
    "# Calculated the balanced accuracy score\n",
    "balanced_acc_score = balanced_accuracy_score(y_test,y_pred)\n",
    "print(f\"balanced accuracy score = {balanced_acc_score*100:.2f}%\")"
   ]
  },
  {
   "cell_type": "code",
   "execution_count": 10,
   "metadata": {},
   "outputs": [],
   "source": [
    "# Random oversampling didn't help our model beat the standard of 83% set by the baseline random forest model\n",
    "# Try Synthetic oversampling\n",
    "from imblearn.over_sampling import SMOTE\n",
    "X_resampled2, y_resampled2 = SMOTE(random_state=1,\n",
    "sampling_strategy='auto').fit_resample(X_train, y_train)"
   ]
  },
  {
   "cell_type": "code",
   "execution_count": null,
   "metadata": {},
   "outputs": [],
   "source": [
    "# train the classifier\n",
    "brf = BalancedRandomForestClassifier()\n",
    "brf.fit(X_resampled2, y_resampled2)\n",
    "y_pred2 = brf.predict(X_test)"
   ]
  },
  {
   "cell_type": "code",
   "execution_count": null,
   "metadata": {},
   "outputs": [],
   "source": [
    "# Calculated the balanced accuracy score\n",
    "balanced_acc_score2 = balanced_accuracy_score(y_test,y_pred2)\n",
    "print(f\"balanced accuracy score = {balanced_acc_score*100:.2f}%\")"
   ]
  }
 ],
 "metadata": {
  "kernelspec": {
   "display_name": "mlenv",
   "language": "python",
   "name": "mlenv"
  },
  "language_info": {
   "codemirror_mode": {
    "name": "ipython",
    "version": 3
   },
   "file_extension": ".py",
   "mimetype": "text/x-python",
   "name": "python",
   "nbconvert_exporter": "python",
   "pygments_lexer": "ipython3",
   "version": "3.7.7"
  }
 },
 "nbformat": 4,
 "nbformat_minor": 4
}
