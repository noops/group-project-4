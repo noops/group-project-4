{
 "metadata": {
  "language_info": {
   "codemirror_mode": {
    "name": "ipython",
    "version": 3
   },
   "file_extension": ".py",
   "mimetype": "text/x-python",
   "name": "python",
   "nbconvert_exporter": "python",
   "pygments_lexer": "ipython3",
   "version": "3.7.7-final"
  },
  "orig_nbformat": 2,
  "kernelspec": {
   "name": "Python 3.7.7 64-bit ('PythonData': conda)",
   "display_name": "Python 3.7.7 64-bit ('PythonData': conda)",
   "metadata": {
    "interpreter": {
     "hash": "c3cf1b7a47322cd7c132110c5375fa88a30c39adcc26074bc8ca24f73e6d9605"
    }
   }
  }
 },
 "nbformat": 4,
 "nbformat_minor": 2,
 "cells": [
  {
   "cell_type": "code",
   "execution_count": null,
   "metadata": {},
   "outputs": [],
   "source": [
    "# This notebook is ued to convert the sanFarnCrime.csv data to GeoJSON format so its more user friendly to work with \n",
    "# for the dashboard app. Going to keep most of the columns in case we end up doing some filtering/map toggling on those features"
   ]
  },
  {
   "cell_type": "code",
   "execution_count": 2,
   "metadata": {},
   "outputs": [],
   "source": [
    "# Import our dependencies\n",
    "import pandas as pd, requests, json"
   ]
  },
  {
   "cell_type": "code",
   "execution_count": 5,
   "metadata": {},
   "outputs": [],
   "source": [
    "# Import csv to dataframe\n",
    "csvFile = \"../Resources/sanFranCrime.csv\"\n",
    "df = pd.read_csv(csvFile)"
   ]
  },
  {
   "cell_type": "code",
   "execution_count": 6,
   "metadata": {},
   "outputs": [
    {
     "output_type": "execute_result",
     "data": {
      "text/plain": [
       "   IncidntNum      Category                                        Descript  \\\n",
       "0   120058272   WEAPON LAWS                       POSS OF PROHIBITED WEAPON   \n",
       "1   120058272   WEAPON LAWS  FIREARM, LOADED, IN VEHICLE, POSSESSION OR USE   \n",
       "2   141059263      WARRANTS                                  WARRANT ARREST   \n",
       "3   160013662  NON-CRIMINAL                                   LOST PROPERTY   \n",
       "4   160002740  NON-CRIMINAL                                   LOST PROPERTY   \n",
       "\n",
       "  DayOfWeek                    Date   Time  PdDistrict      Resolution  \\\n",
       "0    Friday  01/29/2016 12:00:00 AM  11:00    SOUTHERN  ARREST, BOOKED   \n",
       "1    Friday  01/29/2016 12:00:00 AM  11:00    SOUTHERN  ARREST, BOOKED   \n",
       "2    Monday  04/25/2016 12:00:00 AM  14:59     BAYVIEW  ARREST, BOOKED   \n",
       "3   Tuesday  01/05/2016 12:00:00 AM  23:50  TENDERLOIN            NONE   \n",
       "4    Friday  01/01/2016 12:00:00 AM  00:30     MISSION            NONE   \n",
       "\n",
       "                  Address           X          Y  \\\n",
       "0  800 Block of BRYANT ST -122.403405  37.775421   \n",
       "1  800 Block of BRYANT ST -122.403405  37.775421   \n",
       "2   KEITH ST / SHAFTER AV -122.388856  37.729981   \n",
       "3  JONES ST / OFARRELL ST -122.412971  37.785788   \n",
       "4    16TH ST / MISSION ST -122.419672  37.765050   \n",
       "\n",
       "                                Location            PdId  \n",
       "0   (37.775420706711, -122.403404791479)  12005827212120  \n",
       "1   (37.775420706711, -122.403404791479)  12005827212168  \n",
       "2  (37.7299809672996, -122.388856204292)  14105926363010  \n",
       "3  (37.7857883766888, -122.412970537591)  16001366271000  \n",
       "4  (37.7650501214668, -122.419671780296)  16000274071000  "
      ],
      "text/html": "<div>\n<style scoped>\n    .dataframe tbody tr th:only-of-type {\n        vertical-align: middle;\n    }\n\n    .dataframe tbody tr th {\n        vertical-align: top;\n    }\n\n    .dataframe thead th {\n        text-align: right;\n    }\n</style>\n<table border=\"1\" class=\"dataframe\">\n  <thead>\n    <tr style=\"text-align: right;\">\n      <th></th>\n      <th>IncidntNum</th>\n      <th>Category</th>\n      <th>Descript</th>\n      <th>DayOfWeek</th>\n      <th>Date</th>\n      <th>Time</th>\n      <th>PdDistrict</th>\n      <th>Resolution</th>\n      <th>Address</th>\n      <th>X</th>\n      <th>Y</th>\n      <th>Location</th>\n      <th>PdId</th>\n    </tr>\n  </thead>\n  <tbody>\n    <tr>\n      <th>0</th>\n      <td>120058272</td>\n      <td>WEAPON LAWS</td>\n      <td>POSS OF PROHIBITED WEAPON</td>\n      <td>Friday</td>\n      <td>01/29/2016 12:00:00 AM</td>\n      <td>11:00</td>\n      <td>SOUTHERN</td>\n      <td>ARREST, BOOKED</td>\n      <td>800 Block of BRYANT ST</td>\n      <td>-122.403405</td>\n      <td>37.775421</td>\n      <td>(37.775420706711, -122.403404791479)</td>\n      <td>12005827212120</td>\n    </tr>\n    <tr>\n      <th>1</th>\n      <td>120058272</td>\n      <td>WEAPON LAWS</td>\n      <td>FIREARM, LOADED, IN VEHICLE, POSSESSION OR USE</td>\n      <td>Friday</td>\n      <td>01/29/2016 12:00:00 AM</td>\n      <td>11:00</td>\n      <td>SOUTHERN</td>\n      <td>ARREST, BOOKED</td>\n      <td>800 Block of BRYANT ST</td>\n      <td>-122.403405</td>\n      <td>37.775421</td>\n      <td>(37.775420706711, -122.403404791479)</td>\n      <td>12005827212168</td>\n    </tr>\n    <tr>\n      <th>2</th>\n      <td>141059263</td>\n      <td>WARRANTS</td>\n      <td>WARRANT ARREST</td>\n      <td>Monday</td>\n      <td>04/25/2016 12:00:00 AM</td>\n      <td>14:59</td>\n      <td>BAYVIEW</td>\n      <td>ARREST, BOOKED</td>\n      <td>KEITH ST / SHAFTER AV</td>\n      <td>-122.388856</td>\n      <td>37.729981</td>\n      <td>(37.7299809672996, -122.388856204292)</td>\n      <td>14105926363010</td>\n    </tr>\n    <tr>\n      <th>3</th>\n      <td>160013662</td>\n      <td>NON-CRIMINAL</td>\n      <td>LOST PROPERTY</td>\n      <td>Tuesday</td>\n      <td>01/05/2016 12:00:00 AM</td>\n      <td>23:50</td>\n      <td>TENDERLOIN</td>\n      <td>NONE</td>\n      <td>JONES ST / OFARRELL ST</td>\n      <td>-122.412971</td>\n      <td>37.785788</td>\n      <td>(37.7857883766888, -122.412970537591)</td>\n      <td>16001366271000</td>\n    </tr>\n    <tr>\n      <th>4</th>\n      <td>160002740</td>\n      <td>NON-CRIMINAL</td>\n      <td>LOST PROPERTY</td>\n      <td>Friday</td>\n      <td>01/01/2016 12:00:00 AM</td>\n      <td>00:30</td>\n      <td>MISSION</td>\n      <td>NONE</td>\n      <td>16TH ST / MISSION ST</td>\n      <td>-122.419672</td>\n      <td>37.765050</td>\n      <td>(37.7650501214668, -122.419671780296)</td>\n      <td>16000274071000</td>\n    </tr>\n  </tbody>\n</table>\n</div>"
     },
     "metadata": {},
     "execution_count": 6
    }
   ],
   "source": [
    "df.head()"
   ]
  },
  {
   "cell_type": "code",
   "execution_count": 9,
   "metadata": {},
   "outputs": [],
   "source": [
    "df.rename(columns={\"X\":\"longitude\", \"Y\":\"latitude\"}, inplace=True)"
   ]
  },
  {
   "cell_type": "code",
   "execution_count": 11,
   "metadata": {},
   "outputs": [],
   "source": [
    "# we don't need all the columns, only the useful ones\n",
    "useful_cols = ['Category', \"Descript\", \"DayOfWeek\", \"Date\", \"Time\", \"PdDistrict\", \"Resolution\", \"longitude\", \"latitude\"]\n",
    "df_geo = df[useful_cols]"
   ]
  },
  {
   "cell_type": "code",
   "execution_count": 13,
   "metadata": {},
   "outputs": [],
   "source": [
    "\n",
    "def df_to_geojson(df, properties, lat='latitude', lon='longitude'):\n",
    "    \"\"\"\n",
    "    Turn a dataframe containing point data into a geojson formatted python dictionary\n",
    "    \n",
    "    df : the dataframe to convert to geojson\n",
    "    properties : a list of columns in the dataframe to turn into geojson feature properties\n",
    "    lat : the name of the column in the dataframe that contains latitude data\n",
    "    lon : the name of the column in the dataframe that contains longitude data\n",
    "    \"\"\"\n",
    "    \n",
    "    # create a new python dict to contain our geojson data, using geojson format\n",
    "    geojson = {'type':'FeatureCollection', 'features':[]}\n",
    "\n",
    "    # loop through each row in the dataframe and convert each row to geojson format\n",
    "    for _, row in df.iterrows():\n",
    "        # create a feature template to fill in\n",
    "        feature = {'type':'Feature',\n",
    "                   'properties':{},\n",
    "                   'geometry':{'type':'Point',\n",
    "                               'coordinates':[]}}\n",
    "\n",
    "        # fill in the coordinates\n",
    "        feature['geometry']['coordinates'] = [row[lon],row[lat]]\n",
    "\n",
    "        # for each column, get the value and add it as a new feature property\n",
    "        for prop in properties:\n",
    "            feature['properties'][prop] = row[prop]\n",
    "        \n",
    "        # add this feature (aka, converted dataframe row) to the list of features inside our dict\n",
    "        geojson['features'].append(feature)\n",
    "    \n",
    "    return geojson"
   ]
  },
  {
   "cell_type": "code",
   "execution_count": 15,
   "metadata": {},
   "outputs": [],
   "source": [
    "geojson_dict = df_to_geojson(df_geo, properties=useful_cols)\n",
    "geojson_str = json.dumps(geojson_dict, indent=2)"
   ]
  },
  {
   "cell_type": "code",
   "execution_count": 18,
   "metadata": {},
   "outputs": [],
   "source": [
    "# save the geojson result to a file\n",
    "output_filename = '../Dashboard/dataset.js'\n",
    "with open(output_filename, 'w') as output_file:\n",
    "    output_file.write('var dataset = {};'.format(geojson_str))\n",
    "    "
   ]
  }
 ]
}